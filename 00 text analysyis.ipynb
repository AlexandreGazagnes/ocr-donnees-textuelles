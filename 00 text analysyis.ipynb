{
 "cells": [
  {
   "cell_type": "markdown",
   "id": "90d846cb",
   "metadata": {},
   "source": [
    "# 1. Preliminary"
   ]
  },
  {
   "cell_type": "markdown",
   "id": "03838406",
   "metadata": {},
   "source": [
    "## 1.1 Context"
   ]
  },
  {
   "cell_type": "code",
   "execution_count": null,
   "id": "37885c7f",
   "metadata": {},
   "outputs": [],
   "source": []
  },
  {
   "cell_type": "markdown",
   "id": "97396f16",
   "metadata": {},
   "source": [
    "## 1.2 Imports"
   ]
  },
  {
   "cell_type": "code",
   "execution_count": 1,
   "id": "d56dbd5f",
   "metadata": {
    "ExecuteTime": {
     "end_time": "2022-06-27T15:32:47.970064Z",
     "start_time": "2022-06-27T15:32:46.356705Z"
    }
   },
   "outputs": [],
   "source": [
    "import os, sys, time\n",
    "\n",
    "import nltk\n",
    "import spacy\n",
    "\n",
    "import pandas as pd\n",
    "import numpy as np\n",
    "\n",
    "import seaborn as sns\n",
    "import matplotlib.pyplot as plt\n",
    "import plotly as px"
   ]
  },
  {
   "cell_type": "markdown",
   "id": "1880a917",
   "metadata": {},
   "source": [
    "## 1.3 Loading data"
   ]
  },
  {
   "cell_type": "code",
   "execution_count": 2,
   "id": "c046fdbb",
   "metadata": {
    "ExecuteTime": {
     "end_time": "2022-06-27T15:32:50.205608Z",
     "start_time": "2022-06-27T15:32:50.176724Z"
    }
   },
   "outputs": [
    {
     "data": {
      "text/plain": [
       "['superheroes_nlp_dataset.csv', 'twit_from_disaster_train.csv']"
      ]
     },
     "execution_count": 2,
     "metadata": {},
     "output_type": "execute_result"
    }
   ],
   "source": [
    "# our file\n",
    "\n",
    "data = \"./data/source/\"\n",
    "os.listdir(data)"
   ]
  },
  {
   "cell_type": "code",
   "execution_count": 3,
   "id": "e699e715",
   "metadata": {
    "ExecuteTime": {
     "end_time": "2022-06-27T15:32:54.046702Z",
     "start_time": "2022-06-27T15:32:54.021464Z"
    }
   },
   "outputs": [],
   "source": [
    "# load dataframe\n",
    "\n",
    "fn = data + 'twit_from_disaster_train.csv'\n",
    "\n",
    "df = pd.read_csv(fn)"
   ]
  },
  {
   "cell_type": "code",
   "execution_count": 4,
   "id": "30a66d13",
   "metadata": {
    "ExecuteTime": {
     "end_time": "2022-06-27T15:32:54.888690Z",
     "start_time": "2022-06-27T15:32:54.871897Z"
    }
   },
   "outputs": [
    {
     "data": {
      "text/html": [
       "<div>\n",
       "<style scoped>\n",
       "    .dataframe tbody tr th:only-of-type {\n",
       "        vertical-align: middle;\n",
       "    }\n",
       "\n",
       "    .dataframe tbody tr th {\n",
       "        vertical-align: top;\n",
       "    }\n",
       "\n",
       "    .dataframe thead th {\n",
       "        text-align: right;\n",
       "    }\n",
       "</style>\n",
       "<table border=\"1\" class=\"dataframe\">\n",
       "  <thead>\n",
       "    <tr style=\"text-align: right;\">\n",
       "      <th></th>\n",
       "      <th>id</th>\n",
       "      <th>keyword</th>\n",
       "      <th>location</th>\n",
       "      <th>text</th>\n",
       "      <th>target</th>\n",
       "    </tr>\n",
       "  </thead>\n",
       "  <tbody>\n",
       "    <tr>\n",
       "      <th>0</th>\n",
       "      <td>1</td>\n",
       "      <td>NaN</td>\n",
       "      <td>NaN</td>\n",
       "      <td>Our Deeds are the Reason of this #earthquake M...</td>\n",
       "      <td>1</td>\n",
       "    </tr>\n",
       "    <tr>\n",
       "      <th>1</th>\n",
       "      <td>4</td>\n",
       "      <td>NaN</td>\n",
       "      <td>NaN</td>\n",
       "      <td>Forest fire near La Ronge Sask. Canada</td>\n",
       "      <td>1</td>\n",
       "    </tr>\n",
       "    <tr>\n",
       "      <th>2</th>\n",
       "      <td>5</td>\n",
       "      <td>NaN</td>\n",
       "      <td>NaN</td>\n",
       "      <td>All residents asked to 'shelter in place' are ...</td>\n",
       "      <td>1</td>\n",
       "    </tr>\n",
       "    <tr>\n",
       "      <th>3</th>\n",
       "      <td>6</td>\n",
       "      <td>NaN</td>\n",
       "      <td>NaN</td>\n",
       "      <td>13,000 people receive #wildfires evacuation or...</td>\n",
       "      <td>1</td>\n",
       "    </tr>\n",
       "    <tr>\n",
       "      <th>4</th>\n",
       "      <td>7</td>\n",
       "      <td>NaN</td>\n",
       "      <td>NaN</td>\n",
       "      <td>Just got sent this photo from Ruby #Alaska as ...</td>\n",
       "      <td>1</td>\n",
       "    </tr>\n",
       "  </tbody>\n",
       "</table>\n",
       "</div>"
      ],
      "text/plain": [
       "   id keyword location                                               text  \\\n",
       "0   1     NaN      NaN  Our Deeds are the Reason of this #earthquake M...   \n",
       "1   4     NaN      NaN             Forest fire near La Ronge Sask. Canada   \n",
       "2   5     NaN      NaN  All residents asked to 'shelter in place' are ...   \n",
       "3   6     NaN      NaN  13,000 people receive #wildfires evacuation or...   \n",
       "4   7     NaN      NaN  Just got sent this photo from Ruby #Alaska as ...   \n",
       "\n",
       "   target  \n",
       "0       1  \n",
       "1       1  \n",
       "2       1  \n",
       "3       1  \n",
       "4       1  "
      ]
     },
     "execution_count": 4,
     "metadata": {},
     "output_type": "execute_result"
    }
   ],
   "source": [
    "df.head()"
   ]
  },
  {
   "cell_type": "markdown",
   "id": "4a631f5e",
   "metadata": {},
   "source": [
    "# 2. First Tour"
   ]
  },
  {
   "cell_type": "markdown",
   "id": "74e02cca",
   "metadata": {},
   "source": [
    "## 2.1 display"
   ]
  },
  {
   "cell_type": "code",
   "execution_count": 5,
   "id": "4a105163",
   "metadata": {
    "ExecuteTime": {
     "end_time": "2022-06-27T15:33:19.449267Z",
     "start_time": "2022-06-27T15:33:19.431361Z"
    }
   },
   "outputs": [
    {
     "data": {
      "text/html": [
       "<div>\n",
       "<style scoped>\n",
       "    .dataframe tbody tr th:only-of-type {\n",
       "        vertical-align: middle;\n",
       "    }\n",
       "\n",
       "    .dataframe tbody tr th {\n",
       "        vertical-align: top;\n",
       "    }\n",
       "\n",
       "    .dataframe thead th {\n",
       "        text-align: right;\n",
       "    }\n",
       "</style>\n",
       "<table border=\"1\" class=\"dataframe\">\n",
       "  <thead>\n",
       "    <tr style=\"text-align: right;\">\n",
       "      <th></th>\n",
       "      <th>id</th>\n",
       "      <th>keyword</th>\n",
       "      <th>location</th>\n",
       "      <th>text</th>\n",
       "      <th>target</th>\n",
       "    </tr>\n",
       "  </thead>\n",
       "  <tbody>\n",
       "    <tr>\n",
       "      <th>0</th>\n",
       "      <td>1</td>\n",
       "      <td>NaN</td>\n",
       "      <td>NaN</td>\n",
       "      <td>Our Deeds are the Reason of this #earthquake M...</td>\n",
       "      <td>1</td>\n",
       "    </tr>\n",
       "    <tr>\n",
       "      <th>1</th>\n",
       "      <td>4</td>\n",
       "      <td>NaN</td>\n",
       "      <td>NaN</td>\n",
       "      <td>Forest fire near La Ronge Sask. Canada</td>\n",
       "      <td>1</td>\n",
       "    </tr>\n",
       "    <tr>\n",
       "      <th>2</th>\n",
       "      <td>5</td>\n",
       "      <td>NaN</td>\n",
       "      <td>NaN</td>\n",
       "      <td>All residents asked to 'shelter in place' are ...</td>\n",
       "      <td>1</td>\n",
       "    </tr>\n",
       "    <tr>\n",
       "      <th>3</th>\n",
       "      <td>6</td>\n",
       "      <td>NaN</td>\n",
       "      <td>NaN</td>\n",
       "      <td>13,000 people receive #wildfires evacuation or...</td>\n",
       "      <td>1</td>\n",
       "    </tr>\n",
       "    <tr>\n",
       "      <th>4</th>\n",
       "      <td>7</td>\n",
       "      <td>NaN</td>\n",
       "      <td>NaN</td>\n",
       "      <td>Just got sent this photo from Ruby #Alaska as ...</td>\n",
       "      <td>1</td>\n",
       "    </tr>\n",
       "  </tbody>\n",
       "</table>\n",
       "</div>"
      ],
      "text/plain": [
       "   id keyword location                                               text  \\\n",
       "0   1     NaN      NaN  Our Deeds are the Reason of this #earthquake M...   \n",
       "1   4     NaN      NaN             Forest fire near La Ronge Sask. Canada   \n",
       "2   5     NaN      NaN  All residents asked to 'shelter in place' are ...   \n",
       "3   6     NaN      NaN  13,000 people receive #wildfires evacuation or...   \n",
       "4   7     NaN      NaN  Just got sent this photo from Ruby #Alaska as ...   \n",
       "\n",
       "   target  \n",
       "0       1  \n",
       "1       1  \n",
       "2       1  \n",
       "3       1  \n",
       "4       1  "
      ]
     },
     "execution_count": 5,
     "metadata": {},
     "output_type": "execute_result"
    }
   ],
   "source": [
    "df.head(5)"
   ]
  },
  {
   "cell_type": "code",
   "execution_count": 6,
   "id": "e2a3742d",
   "metadata": {
    "ExecuteTime": {
     "end_time": "2022-06-27T15:33:24.805503Z",
     "start_time": "2022-06-27T15:33:24.794669Z"
    }
   },
   "outputs": [
    {
     "data": {
      "text/html": [
       "<div>\n",
       "<style scoped>\n",
       "    .dataframe tbody tr th:only-of-type {\n",
       "        vertical-align: middle;\n",
       "    }\n",
       "\n",
       "    .dataframe tbody tr th {\n",
       "        vertical-align: top;\n",
       "    }\n",
       "\n",
       "    .dataframe thead th {\n",
       "        text-align: right;\n",
       "    }\n",
       "</style>\n",
       "<table border=\"1\" class=\"dataframe\">\n",
       "  <thead>\n",
       "    <tr style=\"text-align: right;\">\n",
       "      <th></th>\n",
       "      <th>id</th>\n",
       "      <th>keyword</th>\n",
       "      <th>location</th>\n",
       "      <th>text</th>\n",
       "      <th>target</th>\n",
       "    </tr>\n",
       "  </thead>\n",
       "  <tbody>\n",
       "    <tr>\n",
       "      <th>3311</th>\n",
       "      <td>4744</td>\n",
       "      <td>evacuate</td>\n",
       "      <td>NaN</td>\n",
       "      <td>The summer program I worked for went the city ...</td>\n",
       "      <td>0</td>\n",
       "    </tr>\n",
       "    <tr>\n",
       "      <th>4391</th>\n",
       "      <td>6243</td>\n",
       "      <td>hijacking</td>\n",
       "      <td>perth, australia</td>\n",
       "      <td>#hot  Funtenna: hijacking computers to send da...</td>\n",
       "      <td>0</td>\n",
       "    </tr>\n",
       "    <tr>\n",
       "      <th>6248</th>\n",
       "      <td>8926</td>\n",
       "      <td>snowstorm</td>\n",
       "      <td>NaN</td>\n",
       "      <td>@PyrBliss ah I remember those days. In a snows...</td>\n",
       "      <td>1</td>\n",
       "    </tr>\n",
       "    <tr>\n",
       "      <th>5672</th>\n",
       "      <td>8095</td>\n",
       "      <td>rescued</td>\n",
       "      <td>NaN</td>\n",
       "      <td>Britons rescued amid Himalaya floods (http://t...</td>\n",
       "      <td>1</td>\n",
       "    </tr>\n",
       "    <tr>\n",
       "      <th>6723</th>\n",
       "      <td>9634</td>\n",
       "      <td>thunderstorm</td>\n",
       "      <td>73101</td>\n",
       "      <td>Severe Weather Statement issued August 05 at 9...</td>\n",
       "      <td>1</td>\n",
       "    </tr>\n",
       "    <tr>\n",
       "      <th>7299</th>\n",
       "      <td>10445</td>\n",
       "      <td>wild%20fires</td>\n",
       "      <td>NaN</td>\n",
       "      <td>Some great footage of STRONG work from San Ber...</td>\n",
       "      <td>1</td>\n",
       "    </tr>\n",
       "    <tr>\n",
       "      <th>4299</th>\n",
       "      <td>6105</td>\n",
       "      <td>hellfire</td>\n",
       "      <td>?????? ??? ?????? ????????</td>\n",
       "      <td>#Allah describes piling up #wealth thinking it...</td>\n",
       "      <td>0</td>\n",
       "    </tr>\n",
       "    <tr>\n",
       "      <th>4085</th>\n",
       "      <td>5805</td>\n",
       "      <td>hail</td>\n",
       "      <td>Windsor,Ontario</td>\n",
       "      <td>@KMacTWN @meaganerd Looks like a bowl of weath...</td>\n",
       "      <td>0</td>\n",
       "    </tr>\n",
       "    <tr>\n",
       "      <th>7342</th>\n",
       "      <td>10513</td>\n",
       "      <td>wildfire</td>\n",
       "      <td>Columbus, OH</td>\n",
       "      <td>I honestly wonder what it is that I had to do ...</td>\n",
       "      <td>0</td>\n",
       "    </tr>\n",
       "    <tr>\n",
       "      <th>5646</th>\n",
       "      <td>8056</td>\n",
       "      <td>refugees</td>\n",
       "      <td>NaN</td>\n",
       "      <td>...//..// whao.. 12000 Nigerian refugees repat...</td>\n",
       "      <td>1</td>\n",
       "    </tr>\n",
       "  </tbody>\n",
       "</table>\n",
       "</div>"
      ],
      "text/plain": [
       "         id       keyword                    location  \\\n",
       "3311   4744      evacuate                         NaN   \n",
       "4391   6243     hijacking           perth, australia    \n",
       "6248   8926     snowstorm                         NaN   \n",
       "5672   8095       rescued                         NaN   \n",
       "6723   9634  thunderstorm                       73101   \n",
       "7299  10445  wild%20fires                         NaN   \n",
       "4299   6105      hellfire  ?????? ??? ?????? ????????   \n",
       "4085   5805          hail             Windsor,Ontario   \n",
       "7342  10513      wildfire                Columbus, OH   \n",
       "5646   8056      refugees                         NaN   \n",
       "\n",
       "                                                   text  target  \n",
       "3311  The summer program I worked for went the city ...       0  \n",
       "4391  #hot  Funtenna: hijacking computers to send da...       0  \n",
       "6248  @PyrBliss ah I remember those days. In a snows...       1  \n",
       "5672  Britons rescued amid Himalaya floods (http://t...       1  \n",
       "6723  Severe Weather Statement issued August 05 at 9...       1  \n",
       "7299  Some great footage of STRONG work from San Ber...       1  \n",
       "4299  #Allah describes piling up #wealth thinking it...       0  \n",
       "4085  @KMacTWN @meaganerd Looks like a bowl of weath...       0  \n",
       "7342  I honestly wonder what it is that I had to do ...       0  \n",
       "5646  ...//..// whao.. 12000 Nigerian refugees repat...       1  "
      ]
     },
     "execution_count": 6,
     "metadata": {},
     "output_type": "execute_result"
    }
   ],
   "source": [
    "df.sample(10)"
   ]
  },
  {
   "cell_type": "code",
   "execution_count": 7,
   "id": "bf843092",
   "metadata": {
    "ExecuteTime": {
     "end_time": "2022-06-27T15:33:25.413296Z",
     "start_time": "2022-06-27T15:33:25.403292Z"
    }
   },
   "outputs": [
    {
     "data": {
      "text/html": [
       "<div>\n",
       "<style scoped>\n",
       "    .dataframe tbody tr th:only-of-type {\n",
       "        vertical-align: middle;\n",
       "    }\n",
       "\n",
       "    .dataframe tbody tr th {\n",
       "        vertical-align: top;\n",
       "    }\n",
       "\n",
       "    .dataframe thead th {\n",
       "        text-align: right;\n",
       "    }\n",
       "</style>\n",
       "<table border=\"1\" class=\"dataframe\">\n",
       "  <thead>\n",
       "    <tr style=\"text-align: right;\">\n",
       "      <th></th>\n",
       "      <th>id</th>\n",
       "      <th>keyword</th>\n",
       "      <th>location</th>\n",
       "      <th>text</th>\n",
       "      <th>target</th>\n",
       "    </tr>\n",
       "  </thead>\n",
       "  <tbody>\n",
       "    <tr>\n",
       "      <th>7608</th>\n",
       "      <td>10869</td>\n",
       "      <td>NaN</td>\n",
       "      <td>NaN</td>\n",
       "      <td>Two giant cranes holding a bridge collapse int...</td>\n",
       "      <td>1</td>\n",
       "    </tr>\n",
       "    <tr>\n",
       "      <th>7609</th>\n",
       "      <td>10870</td>\n",
       "      <td>NaN</td>\n",
       "      <td>NaN</td>\n",
       "      <td>@aria_ahrary @TheTawniest The out of control w...</td>\n",
       "      <td>1</td>\n",
       "    </tr>\n",
       "    <tr>\n",
       "      <th>7610</th>\n",
       "      <td>10871</td>\n",
       "      <td>NaN</td>\n",
       "      <td>NaN</td>\n",
       "      <td>M1.94 [01:04 UTC]?5km S of Volcano Hawaii. htt...</td>\n",
       "      <td>1</td>\n",
       "    </tr>\n",
       "    <tr>\n",
       "      <th>7611</th>\n",
       "      <td>10872</td>\n",
       "      <td>NaN</td>\n",
       "      <td>NaN</td>\n",
       "      <td>Police investigating after an e-bike collided ...</td>\n",
       "      <td>1</td>\n",
       "    </tr>\n",
       "    <tr>\n",
       "      <th>7612</th>\n",
       "      <td>10873</td>\n",
       "      <td>NaN</td>\n",
       "      <td>NaN</td>\n",
       "      <td>The Latest: More Homes Razed by Northern Calif...</td>\n",
       "      <td>1</td>\n",
       "    </tr>\n",
       "  </tbody>\n",
       "</table>\n",
       "</div>"
      ],
      "text/plain": [
       "         id keyword location  \\\n",
       "7608  10869     NaN      NaN   \n",
       "7609  10870     NaN      NaN   \n",
       "7610  10871     NaN      NaN   \n",
       "7611  10872     NaN      NaN   \n",
       "7612  10873     NaN      NaN   \n",
       "\n",
       "                                                   text  target  \n",
       "7608  Two giant cranes holding a bridge collapse int...       1  \n",
       "7609  @aria_ahrary @TheTawniest The out of control w...       1  \n",
       "7610  M1.94 [01:04 UTC]?5km S of Volcano Hawaii. htt...       1  \n",
       "7611  Police investigating after an e-bike collided ...       1  \n",
       "7612  The Latest: More Homes Razed by Northern Calif...       1  "
      ]
     },
     "execution_count": 7,
     "metadata": {},
     "output_type": "execute_result"
    }
   ],
   "source": [
    "df.tail(5)"
   ]
  },
  {
   "cell_type": "markdown",
   "id": "bc2e18f3",
   "metadata": {},
   "source": [
    "## 2.2 Structure"
   ]
  },
  {
   "cell_type": "code",
   "execution_count": 8,
   "id": "97189897",
   "metadata": {
    "ExecuteTime": {
     "end_time": "2022-06-27T15:33:44.140723Z",
     "start_time": "2022-06-27T15:33:44.136295Z"
    }
   },
   "outputs": [
    {
     "data": {
      "text/plain": [
       "(7613, 5)"
      ]
     },
     "execution_count": 8,
     "metadata": {},
     "output_type": "execute_result"
    }
   ],
   "source": [
    "df.shape"
   ]
  },
  {
   "cell_type": "code",
   "execution_count": 9,
   "id": "53f14e14",
   "metadata": {
    "ExecuteTime": {
     "end_time": "2022-06-27T15:33:44.792629Z",
     "start_time": "2022-06-27T15:33:44.777751Z"
    }
   },
   "outputs": [
    {
     "data": {
      "text/plain": [
       "id           int64\n",
       "keyword     object\n",
       "location    object\n",
       "text        object\n",
       "target       int64\n",
       "dtype: object"
      ]
     },
     "execution_count": 9,
     "metadata": {},
     "output_type": "execute_result"
    }
   ],
   "source": [
    "df.dtypes"
   ]
  },
  {
   "cell_type": "code",
   "execution_count": 10,
   "id": "a3a023b6",
   "metadata": {
    "ExecuteTime": {
     "end_time": "2022-06-27T15:33:45.564015Z",
     "start_time": "2022-06-27T15:33:45.545707Z"
    }
   },
   "outputs": [
    {
     "name": "stdout",
     "output_type": "stream",
     "text": [
      "<class 'pandas.core.frame.DataFrame'>\n",
      "RangeIndex: 7613 entries, 0 to 7612\n",
      "Data columns (total 5 columns):\n",
      " #   Column    Non-Null Count  Dtype \n",
      "---  ------    --------------  ----- \n",
      " 0   id        7613 non-null   int64 \n",
      " 1   keyword   7552 non-null   object\n",
      " 2   location  5080 non-null   object\n",
      " 3   text      7613 non-null   object\n",
      " 4   target    7613 non-null   int64 \n",
      "dtypes: int64(2), object(3)\n",
      "memory usage: 297.5+ KB\n"
     ]
    }
   ],
   "source": [
    "df.info()"
   ]
  },
  {
   "cell_type": "code",
   "execution_count": 11,
   "id": "bc1d1712",
   "metadata": {
    "ExecuteTime": {
     "end_time": "2022-06-27T15:33:46.771825Z",
     "start_time": "2022-06-27T15:33:46.765189Z"
    }
   },
   "outputs": [
    {
     "data": {
      "text/plain": [
       "object    3\n",
       "int64     2\n",
       "dtype: int64"
      ]
     },
     "execution_count": 11,
     "metadata": {},
     "output_type": "execute_result"
    }
   ],
   "source": [
    "df.dtypes.value_counts()"
   ]
  },
  {
   "cell_type": "code",
   "execution_count": 12,
   "id": "35021014",
   "metadata": {
    "ExecuteTime": {
     "end_time": "2022-06-27T15:33:48.475799Z",
     "start_time": "2022-06-27T15:33:48.463250Z"
    }
   },
   "outputs": [
    {
     "data": {
      "text/plain": [
       "id          7613\n",
       "keyword      221\n",
       "location    3341\n",
       "text        7503\n",
       "target         2\n",
       "dtype: int64"
      ]
     },
     "execution_count": 12,
     "metadata": {},
     "output_type": "execute_result"
    }
   ],
   "source": [
    "tmp = df.nunique()\n",
    "tmp"
   ]
  },
  {
   "cell_type": "code",
   "execution_count": 13,
   "id": "9af21b01",
   "metadata": {
    "ExecuteTime": {
     "end_time": "2022-06-27T15:33:49.865190Z",
     "start_time": "2022-06-27T15:33:49.858472Z"
    },
    "scrolled": true
   },
   "outputs": [
    {
     "data": {
      "text/plain": [
       "target    2\n",
       "dtype: int64"
      ]
     },
     "execution_count": 13,
     "metadata": {},
     "output_type": "execute_result"
    }
   ],
   "source": [
    "tmp[tmp <10]"
   ]
  },
  {
   "cell_type": "code",
   "execution_count": 14,
   "id": "cd926206",
   "metadata": {
    "ExecuteTime": {
     "end_time": "2022-06-27T15:33:50.520401Z",
     "start_time": "2022-06-27T15:33:50.506940Z"
    }
   },
   "outputs": [
    {
     "data": {
      "text/plain": [
       "id          7613\n",
       "location    3341\n",
       "text        7503\n",
       "dtype: int64"
      ]
     },
     "execution_count": 14,
     "metadata": {},
     "output_type": "execute_result"
    }
   ],
   "source": [
    "tmp[tmp>1000]"
   ]
  },
  {
   "cell_type": "markdown",
   "id": "f40250be",
   "metadata": {},
   "source": [
    "## 2.3 NaN and duplicated"
   ]
  },
  {
   "cell_type": "code",
   "execution_count": 15,
   "id": "2f56c52c",
   "metadata": {
    "ExecuteTime": {
     "end_time": "2022-06-27T15:33:54.707172Z",
     "start_time": "2022-06-27T15:33:54.697234Z"
    }
   },
   "outputs": [
    {
     "data": {
      "text/plain": [
       "id          0.000000\n",
       "text        0.000000\n",
       "target      0.000000\n",
       "keyword     0.008013\n",
       "location    0.332720\n",
       "dtype: float64"
      ]
     },
     "execution_count": 15,
     "metadata": {},
     "output_type": "execute_result"
    }
   ],
   "source": [
    "df.isna().mean().sort_values()"
   ]
  },
  {
   "cell_type": "code",
   "execution_count": 17,
   "id": "64a147c1",
   "metadata": {
    "ExecuteTime": {
     "end_time": "2022-06-27T15:34:13.550882Z",
     "start_time": "2022-06-27T15:34:13.303308Z"
    }
   },
   "outputs": [
    {
     "data": {
      "text/plain": [
       "<AxesSubplot:>"
      ]
     },
     "execution_count": 17,
     "metadata": {},
     "output_type": "execute_result"
    },
    {
     "data": {
      "image/png": "[encoded data removed]",
      "text/plain": [
       "<Figure size 1152x432 with 2 Axes>"
      ]
     },
     "metadata": {
      "needs_background": "light"
     },
     "output_type": "display_data"
    }
   ],
   "source": [
    "tmp = df.isna().mean()\n",
    "\n",
    "fig, ax = plt.subplots(1,1, figsize=(16, 6))\n",
    "sns.heatmap(df.isna())\n"
   ]
  },
  {
   "cell_type": "code",
   "execution_count": 18,
   "id": "659bb21b",
   "metadata": {
    "ExecuteTime": {
     "end_time": "2022-06-27T15:34:13.778636Z",
     "start_time": "2022-06-27T15:34:13.766026Z"
    }
   },
   "outputs": [
    {
     "data": {
      "text/plain": [
       "0"
      ]
     },
     "execution_count": 18,
     "metadata": {},
     "output_type": "execute_result"
    }
   ],
   "source": [
    "df.duplicated().sum()"
   ]
  },
  {
   "cell_type": "markdown",
   "id": "4df14697",
   "metadata": {},
   "source": [
    "## 2.4 Data inspection"
   ]
  },
  {
   "cell_type": "code",
   "execution_count": 19,
   "id": "ffdb895f",
   "metadata": {
    "ExecuteTime": {
     "end_time": "2022-06-27T15:34:14.911289Z",
     "start_time": "2022-06-27T15:34:14.887608Z"
    }
   },
   "outputs": [
    {
     "data": {
      "text/html": [
       "<div>\n",
       "<style scoped>\n",
       "    .dataframe tbody tr th:only-of-type {\n",
       "        vertical-align: middle;\n",
       "    }\n",
       "\n",
       "    .dataframe tbody tr th {\n",
       "        vertical-align: top;\n",
       "    }\n",
       "\n",
       "    .dataframe thead th {\n",
       "        text-align: right;\n",
       "    }\n",
       "</style>\n",
       "<table border=\"1\" class=\"dataframe\">\n",
       "  <thead>\n",
       "    <tr style=\"text-align: right;\">\n",
       "      <th></th>\n",
       "      <th>id</th>\n",
       "      <th>target</th>\n",
       "    </tr>\n",
       "  </thead>\n",
       "  <tbody>\n",
       "    <tr>\n",
       "      <th>count</th>\n",
       "      <td>7613.000000</td>\n",
       "      <td>7613.00000</td>\n",
       "    </tr>\n",
       "    <tr>\n",
       "      <th>mean</th>\n",
       "      <td>5441.934848</td>\n",
       "      <td>0.42966</td>\n",
       "    </tr>\n",
       "    <tr>\n",
       "      <th>std</th>\n",
       "      <td>3137.116090</td>\n",
       "      <td>0.49506</td>\n",
       "    </tr>\n",
       "    <tr>\n",
       "      <th>min</th>\n",
       "      <td>1.000000</td>\n",
       "      <td>0.00000</td>\n",
       "    </tr>\n",
       "    <tr>\n",
       "      <th>25%</th>\n",
       "      <td>2734.000000</td>\n",
       "      <td>0.00000</td>\n",
       "    </tr>\n",
       "    <tr>\n",
       "      <th>50%</th>\n",
       "      <td>5408.000000</td>\n",
       "      <td>0.00000</td>\n",
       "    </tr>\n",
       "    <tr>\n",
       "      <th>75%</th>\n",
       "      <td>8146.000000</td>\n",
       "      <td>1.00000</td>\n",
       "    </tr>\n",
       "    <tr>\n",
       "      <th>max</th>\n",
       "      <td>10873.000000</td>\n",
       "      <td>1.00000</td>\n",
       "    </tr>\n",
       "  </tbody>\n",
       "</table>\n",
       "</div>"
      ],
      "text/plain": [
       "                 id      target\n",
       "count   7613.000000  7613.00000\n",
       "mean    5441.934848     0.42966\n",
       "std     3137.116090     0.49506\n",
       "min        1.000000     0.00000\n",
       "25%     2734.000000     0.00000\n",
       "50%     5408.000000     0.00000\n",
       "75%     8146.000000     1.00000\n",
       "max    10873.000000     1.00000"
      ]
     },
     "execution_count": 19,
     "metadata": {},
     "output_type": "execute_result"
    }
   ],
   "source": [
    "df.describe(include=np.number)"
   ]
  },
  {
   "cell_type": "code",
   "execution_count": 20,
   "id": "a1df516e",
   "metadata": {
    "ExecuteTime": {
     "end_time": "2022-06-27T15:34:15.759428Z",
     "start_time": "2022-06-27T15:34:15.737542Z"
    }
   },
   "outputs": [
    {
     "name": "stderr",
     "output_type": "stream",
     "text": [
      "/tmp/ipykernel_9042/3211851552.py:1: DeprecationWarning: `np.object` is a deprecated alias for the builtin `object`. To silence this warning, use `object` by itself. Doing this will not modify any behavior and is safe. \n",
      "Deprecated in NumPy 1.20; for more details and guidance: https://numpy.org/devdocs/release/1.20.0-notes.html#deprecations\n",
      "  df.describe(include=np.object)\n"
     ]
    },
    {
     "data": {
      "text/html": [
       "<div>\n",
       "<style scoped>\n",
       "    .dataframe tbody tr th:only-of-type {\n",
       "        vertical-align: middle;\n",
       "    }\n",
       "\n",
       "    .dataframe tbody tr th {\n",
       "        vertical-align: top;\n",
       "    }\n",
       "\n",
       "    .dataframe thead th {\n",
       "        text-align: right;\n",
       "    }\n",
       "</style>\n",
       "<table border=\"1\" class=\"dataframe\">\n",
       "  <thead>\n",
       "    <tr style=\"text-align: right;\">\n",
       "      <th></th>\n",
       "      <th>keyword</th>\n",
       "      <th>location</th>\n",
       "      <th>text</th>\n",
       "    </tr>\n",
       "  </thead>\n",
       "  <tbody>\n",
       "    <tr>\n",
       "      <th>count</th>\n",
       "      <td>7552</td>\n",
       "      <td>5080</td>\n",
       "      <td>7613</td>\n",
       "    </tr>\n",
       "    <tr>\n",
       "      <th>unique</th>\n",
       "      <td>221</td>\n",
       "      <td>3341</td>\n",
       "      <td>7503</td>\n",
       "    </tr>\n",
       "    <tr>\n",
       "      <th>top</th>\n",
       "      <td>fatalities</td>\n",
       "      <td>USA</td>\n",
       "      <td>11-Year-Old Boy Charged With Manslaughter of T...</td>\n",
       "    </tr>\n",
       "    <tr>\n",
       "      <th>freq</th>\n",
       "      <td>45</td>\n",
       "      <td>104</td>\n",
       "      <td>10</td>\n",
       "    </tr>\n",
       "  </tbody>\n",
       "</table>\n",
       "</div>"
      ],
      "text/plain": [
       "           keyword location                                               text\n",
       "count         7552     5080                                               7613\n",
       "unique         221     3341                                               7503\n",
       "top     fatalities      USA  11-Year-Old Boy Charged With Manslaughter of T...\n",
       "freq            45      104                                                 10"
      ]
     },
     "execution_count": 20,
     "metadata": {},
     "output_type": "execute_result"
    }
   ],
   "source": [
    "df.describe(include=np.object)"
   ]
  },
  {
   "cell_type": "markdown",
   "id": "d0b6603d",
   "metadata": {},
   "source": [
    "# 3. Cleaning"
   ]
  },
  {
   "cell_type": "markdown",
   "id": "e4765261",
   "metadata": {},
   "source": [
    "## 3.1 select columns"
   ]
  },
  {
   "cell_type": "code",
   "execution_count": 21,
   "id": "cdcc862c",
   "metadata": {
    "ExecuteTime": {
     "end_time": "2022-06-27T15:34:20.228686Z",
     "start_time": "2022-06-27T15:34:20.220000Z"
    }
   },
   "outputs": [
    {
     "data": {
      "text/plain": [
       "id           int64\n",
       "keyword     object\n",
       "location    object\n",
       "text        object\n",
       "target       int64\n",
       "dtype: object"
      ]
     },
     "execution_count": 21,
     "metadata": {},
     "output_type": "execute_result"
    }
   ],
   "source": [
    "tmp = df.dtypes\n",
    "tmp"
   ]
  },
  {
   "cell_type": "code",
   "execution_count": 22,
   "id": "52d72367",
   "metadata": {
    "ExecuteTime": {
     "end_time": "2022-06-27T15:34:22.826636Z",
     "start_time": "2022-06-27T15:34:22.820403Z"
    }
   },
   "outputs": [
    {
     "data": {
      "text/plain": [
       "keyword     object\n",
       "location    object\n",
       "text        object\n",
       "dtype: object"
      ]
     },
     "execution_count": 22,
     "metadata": {},
     "output_type": "execute_result"
    }
   ],
   "source": [
    "tmp[tmp ==\"object\"]"
   ]
  },
  {
   "cell_type": "code",
   "execution_count": 24,
   "id": "465426f2",
   "metadata": {
    "ExecuteTime": {
     "end_time": "2022-06-27T15:34:54.598107Z",
     "start_time": "2022-06-27T15:34:54.589536Z"
    }
   },
   "outputs": [
    {
     "data": {
      "text/html": [
       "<div>\n",
       "<style scoped>\n",
       "    .dataframe tbody tr th:only-of-type {\n",
       "        vertical-align: middle;\n",
       "    }\n",
       "\n",
       "    .dataframe tbody tr th {\n",
       "        vertical-align: top;\n",
       "    }\n",
       "\n",
       "    .dataframe thead th {\n",
       "        text-align: right;\n",
       "    }\n",
       "</style>\n",
       "<table border=\"1\" class=\"dataframe\">\n",
       "  <thead>\n",
       "    <tr style=\"text-align: right;\">\n",
       "      <th></th>\n",
       "      <th>text</th>\n",
       "      <th>target</th>\n",
       "    </tr>\n",
       "  </thead>\n",
       "  <tbody>\n",
       "    <tr>\n",
       "      <th>0</th>\n",
       "      <td>Our Deeds are the Reason of this #earthquake M...</td>\n",
       "      <td>1</td>\n",
       "    </tr>\n",
       "    <tr>\n",
       "      <th>1</th>\n",
       "      <td>Forest fire near La Ronge Sask. Canada</td>\n",
       "      <td>1</td>\n",
       "    </tr>\n",
       "    <tr>\n",
       "      <th>2</th>\n",
       "      <td>All residents asked to 'shelter in place' are ...</td>\n",
       "      <td>1</td>\n",
       "    </tr>\n",
       "    <tr>\n",
       "      <th>3</th>\n",
       "      <td>13,000 people receive #wildfires evacuation or...</td>\n",
       "      <td>1</td>\n",
       "    </tr>\n",
       "    <tr>\n",
       "      <th>4</th>\n",
       "      <td>Just got sent this photo from Ruby #Alaska as ...</td>\n",
       "      <td>1</td>\n",
       "    </tr>\n",
       "  </tbody>\n",
       "</table>\n",
       "</div>"
      ],
      "text/plain": [
       "                                                text  target\n",
       "0  Our Deeds are the Reason of this #earthquake M...       1\n",
       "1             Forest fire near La Ronge Sask. Canada       1\n",
       "2  All residents asked to 'shelter in place' are ...       1\n",
       "3  13,000 people receive #wildfires evacuation or...       1\n",
       "4  Just got sent this photo from Ruby #Alaska as ...       1"
      ]
     },
     "execution_count": 24,
     "metadata": {},
     "output_type": "execute_result"
    }
   ],
   "source": [
    "cols = [\"text\", \"target\"]\n",
    "df = df[cols]\n",
    "df.head()"
   ]
  },
  {
   "cell_type": "markdown",
   "id": "d49f16be",
   "metadata": {},
   "source": [
    "## 3.2 drop NaN"
   ]
  },
  {
   "cell_type": "code",
   "execution_count": null,
   "id": "465f039c",
   "metadata": {
    "ExecuteTime": {
     "end_time": "2022-06-27T15:36:12.081029Z",
     "start_time": "2022-06-27T15:36:12.072064Z"
    }
   },
   "outputs": [],
   "source": []
  },
  {
   "cell_type": "code",
   "execution_count": null,
   "id": "6ac0510a",
   "metadata": {
    "ExecuteTime": {
     "end_time": "2022-06-27T14:35:52.760286Z",
     "start_time": "2022-06-27T14:35:52.752334Z"
    }
   },
   "outputs": [],
   "source": []
  },
  {
   "cell_type": "code",
   "execution_count": 26,
   "id": "00621591",
   "metadata": {
    "ExecuteTime": {
     "end_time": "2022-06-27T15:36:30.057421Z",
     "start_time": "2022-06-27T15:36:30.042828Z"
    },
    "scrolled": true
   },
   "outputs": [
    {
     "data": {
      "text/plain": [
       "text      0.0\n",
       "target    0.0\n",
       "dtype: float64"
      ]
     },
     "execution_count": 26,
     "metadata": {},
     "output_type": "execute_result"
    }
   ],
   "source": [
    "df.isna().mean()"
   ]
  },
  {
   "cell_type": "code",
   "execution_count": 697,
   "id": "fe725105",
   "metadata": {
    "ExecuteTime": {
     "end_time": "2022-06-27T14:35:52.971119Z",
     "start_time": "2022-06-27T14:35:52.958911Z"
    }
   },
   "outputs": [
    {
     "data": {
      "text/html": [
       "<div>\n",
       "<style scoped>\n",
       "    .dataframe tbody tr th:only-of-type {\n",
       "        vertical-align: middle;\n",
       "    }\n",
       "\n",
       "    .dataframe tbody tr th {\n",
       "        vertical-align: top;\n",
       "    }\n",
       "\n",
       "    .dataframe thead th {\n",
       "        text-align: right;\n",
       "    }\n",
       "</style>\n",
       "<table border=\"1\" class=\"dataframe\">\n",
       "  <thead>\n",
       "    <tr style=\"text-align: right;\">\n",
       "      <th></th>\n",
       "      <th>name</th>\n",
       "      <th>overall_score</th>\n",
       "      <th>history_text</th>\n",
       "      <th>_score</th>\n",
       "    </tr>\n",
       "  </thead>\n",
       "  <tbody>\n",
       "    <tr>\n",
       "      <th>631</th>\n",
       "      <td>Imperiex</td>\n",
       "      <td>87</td>\n",
       "      <td>The embodiment of entropy, Imperiex takes the ...</td>\n",
       "      <td>87.0</td>\n",
       "    </tr>\n",
       "    <tr>\n",
       "      <th>732</th>\n",
       "      <td>Khanjikhan</td>\n",
       "      <td>89</td>\n",
       "      <td>At an unknown point in time, Khanjikhan marrie...</td>\n",
       "      <td>89.0</td>\n",
       "    </tr>\n",
       "    <tr>\n",
       "      <th>1143</th>\n",
       "      <td>Sensei Yang</td>\n",
       "      <td>94</td>\n",
       "      <td>At an unknown point in time, Yang went on a qu...</td>\n",
       "      <td>94.0</td>\n",
       "    </tr>\n",
       "    <tr>\n",
       "      <th>980</th>\n",
       "      <td>Omega</td>\n",
       "      <td>108</td>\n",
       "      <td>When garmadon and Lloyd were about to destroy ...</td>\n",
       "      <td>108.0</td>\n",
       "    </tr>\n",
       "    <tr>\n",
       "      <th>389</th>\n",
       "      <td>Destruction Of The Endless</td>\n",
       "      <td>112</td>\n",
       "      <td>Destruction is the fourth eldest of the Endles...</td>\n",
       "      <td>112.0</td>\n",
       "    </tr>\n",
       "    <tr>\n",
       "      <th>407</th>\n",
       "      <td>Doctor Strange (Classic)</td>\n",
       "      <td>120</td>\n",
       "      <td>Stephen Strange was born to Eugene and Bever...</td>\n",
       "      <td>120.0</td>\n",
       "    </tr>\n",
       "    <tr>\n",
       "      <th>420</th>\n",
       "      <td>Dr Manhattan</td>\n",
       "      <td>124</td>\n",
       "      <td>Jonathan Osterman was born in 1929. His fathe...</td>\n",
       "      <td>124.0</td>\n",
       "    </tr>\n",
       "    <tr>\n",
       "      <th>983</th>\n",
       "      <td>One-Above-All</td>\n",
       "      <td>125</td>\n",
       "      <td>Undoubtedly the most mysterious character wit...</td>\n",
       "      <td>125.0</td>\n",
       "    </tr>\n",
       "    <tr>\n",
       "      <th>916</th>\n",
       "      <td>Monstrox</td>\n",
       "      <td>126</td>\n",
       "      <td>The Book of Monsters was formerly a necromance...</td>\n",
       "      <td>126.0</td>\n",
       "    </tr>\n",
       "    <tr>\n",
       "      <th>416</th>\n",
       "      <td>Dormammu</td>\n",
       "      <td>142</td>\n",
       "      <td>Born untold thousands or even millions of year...</td>\n",
       "      <td>142.0</td>\n",
       "    </tr>\n",
       "    <tr>\n",
       "      <th>1348</th>\n",
       "      <td>Unicron</td>\n",
       "      <td>146</td>\n",
       "      <td>Unicron is the eternal arch-enemy of his twin ...</td>\n",
       "      <td>146.0</td>\n",
       "    </tr>\n",
       "    <tr>\n",
       "      <th>1286</th>\n",
       "      <td>The Keeper</td>\n",
       "      <td>152</td>\n",
       "      <td>His origin is the same as the original Silver ...</td>\n",
       "      <td>152.0</td>\n",
       "    </tr>\n",
       "    <tr>\n",
       "      <th>934</th>\n",
       "      <td>Nadakhan</td>\n",
       "      <td>163</td>\n",
       "      <td>Nadakhan is the captain of the Sky Pirates, th...</td>\n",
       "      <td>163.0</td>\n",
       "    </tr>\n",
       "    <tr>\n",
       "      <th>1293</th>\n",
       "      <td>The Overlord</td>\n",
       "      <td>165</td>\n",
       "      <td>Before Ninjago's creation, there were two kind...</td>\n",
       "      <td>165.0</td>\n",
       "    </tr>\n",
       "    <tr>\n",
       "      <th>522</th>\n",
       "      <td>Goblin Force</td>\n",
       "      <td>169</td>\n",
       "      <td>The Goblin Force was born at the beginning of ...</td>\n",
       "      <td>169.0</td>\n",
       "    </tr>\n",
       "    <tr>\n",
       "      <th>421</th>\n",
       "      <td>Dracula</td>\n",
       "      <td>211</td>\n",
       "      <td>The man later known as Dracula was originally...</td>\n",
       "      <td>211.0</td>\n",
       "    </tr>\n",
       "    <tr>\n",
       "      <th>110</th>\n",
       "      <td>Aztar</td>\n",
       "      <td>222</td>\n",
       "      <td>Since the beginnings of human civilization the...</td>\n",
       "      <td>222.0</td>\n",
       "    </tr>\n",
       "    <tr>\n",
       "      <th>527</th>\n",
       "      <td>Golden Ninja</td>\n",
       "      <td>226</td>\n",
       "      <td>Lloyd becomes the Golden Ninja, and fights the...</td>\n",
       "      <td>226.0</td>\n",
       "    </tr>\n",
       "    <tr>\n",
       "      <th>393</th>\n",
       "      <td>Devilman</td>\n",
       "      <td>229</td>\n",
       "      <td>Transformation Akira is first seen walking hom...</td>\n",
       "      <td>229.0</td>\n",
       "    </tr>\n",
       "    <tr>\n",
       "      <th>538</th>\n",
       "      <td>Great Evil Beast</td>\n",
       "      <td>237</td>\n",
       "      <td>The Great Evil Beast was formed when God utter...</td>\n",
       "      <td>237.0</td>\n",
       "    </tr>\n",
       "  </tbody>\n",
       "</table>\n",
       "</div>"
      ],
      "text/plain": [
       "                            name overall_score  \\\n",
       "631                     Imperiex            87   \n",
       "732                   Khanjikhan            89   \n",
       "1143                 Sensei Yang            94   \n",
       "980                        Omega           108   \n",
       "389   Destruction Of The Endless           112   \n",
       "407     Doctor Strange (Classic)           120   \n",
       "420                 Dr Manhattan           124   \n",
       "983                One-Above-All           125   \n",
       "916                     Monstrox           126   \n",
       "416                     Dormammu           142   \n",
       "1348                     Unicron           146   \n",
       "1286                  The Keeper           152   \n",
       "934                     Nadakhan           163   \n",
       "1293                The Overlord           165   \n",
       "522                 Goblin Force           169   \n",
       "421                      Dracula           211   \n",
       "110                        Aztar           222   \n",
       "527                 Golden Ninja           226   \n",
       "393                     Devilman           229   \n",
       "538             Great Evil Beast           237   \n",
       "\n",
       "                                           history_text  _score  \n",
       "631   The embodiment of entropy, Imperiex takes the ...    87.0  \n",
       "732   At an unknown point in time, Khanjikhan marrie...    89.0  \n",
       "1143  At an unknown point in time, Yang went on a qu...    94.0  \n",
       "980   When garmadon and Lloyd were about to destroy ...   108.0  \n",
       "389   Destruction is the fourth eldest of the Endles...   112.0  \n",
       "407     Stephen Strange was born to Eugene and Bever...   120.0  \n",
       "420    Jonathan Osterman was born in 1929. His fathe...   124.0  \n",
       "983    Undoubtedly the most mysterious character wit...   125.0  \n",
       "916   The Book of Monsters was formerly a necromance...   126.0  \n",
       "416   Born untold thousands or even millions of year...   142.0  \n",
       "1348  Unicron is the eternal arch-enemy of his twin ...   146.0  \n",
       "1286  His origin is the same as the original Silver ...   152.0  \n",
       "934   Nadakhan is the captain of the Sky Pirates, th...   163.0  \n",
       "1293  Before Ninjago's creation, there were two kind...   165.0  \n",
       "522   The Goblin Force was born at the beginning of ...   169.0  \n",
       "421    The man later known as Dracula was originally...   211.0  \n",
       "110   Since the beginnings of human civilization the...   222.0  \n",
       "527   Lloyd becomes the Golden Ninja, and fights the...   226.0  \n",
       "393   Transformation Akira is first seen walking hom...   229.0  \n",
       "538   The Great Evil Beast was formed when God utter...   237.0  "
      ]
     },
     "execution_count": 697,
     "metadata": {},
     "output_type": "execute_result"
    }
   ],
   "source": []
  },
  {
   "cell_type": "markdown",
   "id": "c7b6463a",
   "metadata": {},
   "source": [
    "# 4. Exploratory Data Analysis"
   ]
  },
  {
   "cell_type": "code",
   "execution_count": null,
   "id": "fbe53c07",
   "metadata": {},
   "outputs": [],
   "source": []
  },
  {
   "cell_type": "markdown",
   "id": "24de4f64",
   "metadata": {},
   "source": [
    "## 4.1 target"
   ]
  },
  {
   "cell_type": "code",
   "execution_count": 27,
   "id": "ddea2811",
   "metadata": {
    "ExecuteTime": {
     "end_time": "2022-06-27T15:36:49.592441Z",
     "start_time": "2022-06-27T15:36:49.569259Z"
    },
    "scrolled": true
   },
   "outputs": [
    {
     "data": {
      "text/html": [
       "<div>\n",
       "<style scoped>\n",
       "    .dataframe tbody tr th:only-of-type {\n",
       "        vertical-align: middle;\n",
       "    }\n",
       "\n",
       "    .dataframe tbody tr th {\n",
       "        vertical-align: top;\n",
       "    }\n",
       "\n",
       "    .dataframe thead th {\n",
       "        text-align: right;\n",
       "    }\n",
       "</style>\n",
       "<table border=\"1\" class=\"dataframe\">\n",
       "  <thead>\n",
       "    <tr style=\"text-align: right;\">\n",
       "      <th></th>\n",
       "      <th>target</th>\n",
       "    </tr>\n",
       "  </thead>\n",
       "  <tbody>\n",
       "    <tr>\n",
       "      <th>count</th>\n",
       "      <td>7613.00000</td>\n",
       "    </tr>\n",
       "    <tr>\n",
       "      <th>mean</th>\n",
       "      <td>0.42966</td>\n",
       "    </tr>\n",
       "    <tr>\n",
       "      <th>std</th>\n",
       "      <td>0.49506</td>\n",
       "    </tr>\n",
       "    <tr>\n",
       "      <th>min</th>\n",
       "      <td>0.00000</td>\n",
       "    </tr>\n",
       "    <tr>\n",
       "      <th>25%</th>\n",
       "      <td>0.00000</td>\n",
       "    </tr>\n",
       "    <tr>\n",
       "      <th>50%</th>\n",
       "      <td>0.00000</td>\n",
       "    </tr>\n",
       "    <tr>\n",
       "      <th>75%</th>\n",
       "      <td>1.00000</td>\n",
       "    </tr>\n",
       "    <tr>\n",
       "      <th>max</th>\n",
       "      <td>1.00000</td>\n",
       "    </tr>\n",
       "  </tbody>\n",
       "</table>\n",
       "</div>"
      ],
      "text/plain": [
       "           target\n",
       "count  7613.00000\n",
       "mean      0.42966\n",
       "std       0.49506\n",
       "min       0.00000\n",
       "25%       0.00000\n",
       "50%       0.00000\n",
       "75%       1.00000\n",
       "max       1.00000"
      ]
     },
     "execution_count": 27,
     "metadata": {},
     "output_type": "execute_result"
    }
   ],
   "source": [
    "df.describe()"
   ]
  },
  {
   "cell_type": "code",
   "execution_count": 32,
   "id": "a722ccc2",
   "metadata": {
    "ExecuteTime": {
     "end_time": "2022-06-27T15:37:49.628843Z",
     "start_time": "2022-06-27T15:37:49.616744Z"
    }
   },
   "outputs": [
    {
     "data": {
      "text/plain": [
       "0    4342\n",
       "1    3271\n",
       "Name: target, dtype: int64"
      ]
     },
     "execution_count": 32,
     "metadata": {},
     "output_type": "execute_result"
    }
   ],
   "source": [
    "df.target.value_counts()"
   ]
  },
  {
   "cell_type": "code",
   "execution_count": 34,
   "id": "7465305e",
   "metadata": {
    "ExecuteTime": {
     "end_time": "2022-06-27T15:38:34.833440Z",
     "start_time": "2022-06-27T15:38:34.828966Z"
    }
   },
   "outputs": [
    {
     "data": {
      "text/plain": [
       "0    0.57034\n",
       "1    0.42966\n",
       "Name: target, dtype: float64"
      ]
     },
     "execution_count": 34,
     "metadata": {},
     "output_type": "execute_result"
    }
   ],
   "source": [
    "df.target.value_counts(normalize=lize=alize=True)"
   ]
  },
  {
   "cell_type": "code",
   "execution_count": 35,
   "id": "10ad3b7d",
   "metadata": {
    "ExecuteTime": {
     "end_time": "2022-06-27T15:38:46.605245Z",
     "start_time": "2022-06-27T15:38:46.541829Z"
    }
   },
   "outputs": [
    {
     "data": {
      "text/plain": [
       "<AxesSubplot:ylabel='target'>"
      ]
     },
     "execution_count": 35,
     "metadata": {},
     "output_type": "execute_result"
    },
    {
     "data": {
      "image/png": "[encoded data removed]",
      "text/plain": [
       "<Figure size 432x288 with 1 Axes>"
      ]
     },
     "metadata": {},
     "output_type": "display_data"
    }
   ],
   "source": [
    "df.target.value_counts().plot(kind=\"pie\")"
   ]
  },
  {
   "cell_type": "code",
   "execution_count": null,
   "id": "185afa6a",
   "metadata": {
    "ExecuteTime": {
     "end_time": "2022-06-27T14:35:53.063659Z",
     "start_time": "2022-06-27T14:35:52.982960Z"
    },
    "scrolled": true
   },
   "outputs": [],
   "source": []
  },
  {
   "cell_type": "code",
   "execution_count": null,
   "id": "3bd6d039",
   "metadata": {},
   "outputs": [],
   "source": []
  },
  {
   "cell_type": "code",
   "execution_count": 36,
   "id": "95bb6982",
   "metadata": {
    "ExecuteTime": {
     "end_time": "2022-06-27T15:38:55.130026Z",
     "start_time": "2022-06-27T15:38:55.094592Z"
    },
    "scrolled": false
   },
   "outputs": [
    {
     "ename": "AttributeError",
     "evalue": "'DataFrame' object has no attribute '_score'",
     "output_type": "error",
     "traceback": [
      "\u001b[0;31m---------------------------------------------------------------------------\u001b[0m",
      "\u001b[0;31mAttributeError\u001b[0m                            Traceback (most recent call last)",
      "Input \u001b[0;32mIn [36]\u001b[0m, in \u001b[0;36m<cell line: 1>\u001b[0;34m()\u001b[0m\n\u001b[0;32m----> 1\u001b[0m sns\u001b[38;5;241m.\u001b[39mdisplot(\u001b[43mdf\u001b[49m\u001b[38;5;241;43m.\u001b[39;49m\u001b[43m_score\u001b[49m)\n",
      "File \u001b[0;32m~/Desktop/ocr-donnees-textuelles/env/lib/python3.8/site-packages/pandas/core/generic.py:5575\u001b[0m, in \u001b[0;36mNDFrame.__getattr__\u001b[0;34m(self, name)\u001b[0m\n\u001b[1;32m   5568\u001b[0m \u001b[38;5;28;01mif\u001b[39;00m (\n\u001b[1;32m   5569\u001b[0m     name \u001b[38;5;129;01mnot\u001b[39;00m \u001b[38;5;129;01min\u001b[39;00m \u001b[38;5;28mself\u001b[39m\u001b[38;5;241m.\u001b[39m_internal_names_set\n\u001b[1;32m   5570\u001b[0m     \u001b[38;5;129;01mand\u001b[39;00m name \u001b[38;5;129;01mnot\u001b[39;00m \u001b[38;5;129;01min\u001b[39;00m \u001b[38;5;28mself\u001b[39m\u001b[38;5;241m.\u001b[39m_metadata\n\u001b[1;32m   5571\u001b[0m     \u001b[38;5;129;01mand\u001b[39;00m name \u001b[38;5;129;01mnot\u001b[39;00m \u001b[38;5;129;01min\u001b[39;00m \u001b[38;5;28mself\u001b[39m\u001b[38;5;241m.\u001b[39m_accessors\n\u001b[1;32m   5572\u001b[0m     \u001b[38;5;129;01mand\u001b[39;00m \u001b[38;5;28mself\u001b[39m\u001b[38;5;241m.\u001b[39m_info_axis\u001b[38;5;241m.\u001b[39m_can_hold_identifiers_and_holds_name(name)\n\u001b[1;32m   5573\u001b[0m ):\n\u001b[1;32m   5574\u001b[0m     \u001b[38;5;28;01mreturn\u001b[39;00m \u001b[38;5;28mself\u001b[39m[name]\n\u001b[0;32m-> 5575\u001b[0m \u001b[38;5;28;01mreturn\u001b[39;00m \u001b[38;5;28;43mobject\u001b[39;49m\u001b[38;5;241;43m.\u001b[39;49m\u001b[38;5;21;43m__getattribute__\u001b[39;49m\u001b[43m(\u001b[49m\u001b[38;5;28;43mself\u001b[39;49m\u001b[43m,\u001b[49m\u001b[43m \u001b[49m\u001b[43mname\u001b[49m\u001b[43m)\u001b[49m\n",
      "\u001b[0;31mAttributeError\u001b[0m: 'DataFrame' object has no attribute '_score'"
     ]
    }
   ],
   "source": []
  },
  {
   "cell_type": "markdown",
   "id": "2a7a522e",
   "metadata": {},
   "source": [
    "## 4.1 Length"
   ]
  },
  {
   "cell_type": "code",
   "execution_count": 37,
   "id": "3d01be48",
   "metadata": {
    "ExecuteTime": {
     "end_time": "2022-06-27T15:39:10.891740Z",
     "start_time": "2022-06-27T15:39:10.867825Z"
    },
    "scrolled": false
   },
   "outputs": [
    {
     "data": {
      "text/html": [
       "<div>\n",
       "<style scoped>\n",
       "    .dataframe tbody tr th:only-of-type {\n",
       "        vertical-align: middle;\n",
       "    }\n",
       "\n",
       "    .dataframe tbody tr th {\n",
       "        vertical-align: top;\n",
       "    }\n",
       "\n",
       "    .dataframe thead th {\n",
       "        text-align: right;\n",
       "    }\n",
       "</style>\n",
       "<table border=\"1\" class=\"dataframe\">\n",
       "  <thead>\n",
       "    <tr style=\"text-align: right;\">\n",
       "      <th></th>\n",
       "      <th>text</th>\n",
       "    </tr>\n",
       "  </thead>\n",
       "  <tbody>\n",
       "    <tr>\n",
       "      <th>count</th>\n",
       "      <td>7613</td>\n",
       "    </tr>\n",
       "    <tr>\n",
       "      <th>unique</th>\n",
       "      <td>7503</td>\n",
       "    </tr>\n",
       "    <tr>\n",
       "      <th>top</th>\n",
       "      <td>11-Year-Old Boy Charged With Manslaughter of T...</td>\n",
       "    </tr>\n",
       "    <tr>\n",
       "      <th>freq</th>\n",
       "      <td>10</td>\n",
       "    </tr>\n",
       "  </tbody>\n",
       "</table>\n",
       "</div>"
      ],
      "text/plain": [
       "                                                     text\n",
       "count                                                7613\n",
       "unique                                               7503\n",
       "top     11-Year-Old Boy Charged With Manslaughter of T...\n",
       "freq                                                   10"
      ]
     },
     "execution_count": 37,
     "metadata": {},
     "output_type": "execute_result"
    }
   ],
   "source": [
    "df.describe(include=\"object\")"
   ]
  },
  {
   "cell_type": "code",
   "execution_count": 39,
   "id": "275bdd08",
   "metadata": {
    "ExecuteTime": {
     "end_time": "2022-06-27T15:39:32.820582Z",
     "start_time": "2022-06-27T15:39:32.809100Z"
    }
   },
   "outputs": [
    {
     "data": {
      "text/plain": [
       "count                                                  7613\n",
       "unique                                                 7503\n",
       "top       11-Year-Old Boy Charged With Manslaughter of T...\n",
       "freq                                                     10\n",
       "Name: text, dtype: object"
      ]
     },
     "execution_count": 39,
     "metadata": {},
     "output_type": "execute_result"
    }
   ],
   "source": []
  },
  {
   "cell_type": "code",
   "execution_count": 38,
   "id": "df546bff",
   "metadata": {
    "ExecuteTime": {
     "end_time": "2022-06-27T15:39:16.780260Z",
     "start_time": "2022-06-27T15:39:16.692733Z"
    }
   },
   "outputs": [
    {
     "name": "stderr",
     "output_type": "stream",
     "text": [
      "/home/alex/Desktop/ocr-donnees-textuelles/env/lib/python3.8/site-packages/seaborn/_decorators.py:36: FutureWarning: Pass the following variable as a keyword arg: x. From version 0.12, the only valid positional argument will be `data`, and passing other arguments without an explicit keyword will result in an error or misinterpretation.\n",
      "  warnings.warn(\n"
     ]
    },
    {
     "data": {
      "text/plain": [
       "<AxesSubplot:xlabel='text'>"
      ]
     },
     "execution_count": 38,
     "metadata": {},
     "output_type": "execute_result"
    },
    {
     "data": {
      "image/png": "[encoded data removed]",
      "text/plain": [
       "<Figure size 432x288 with 1 Axes>"
      ]
     },
     "metadata": {
      "needs_background": "light"
     },
     "output_type": "display_data"
    }
   ],
   "source": [
    "tmp = df.text.str.len()\n",
    "sns.boxplot(tmp)"
   ]
  },
  {
   "cell_type": "code",
   "execution_count": 42,
   "id": "55a4dcf8",
   "metadata": {
    "ExecuteTime": {
     "end_time": "2022-06-27T15:40:16.899628Z",
     "start_time": "2022-06-27T15:40:16.710176Z"
    }
   },
   "outputs": [
    {
     "data": {
      "text/plain": [
       "<seaborn.axisgrid.FacetGrid at 0x7ff5b178cdc0>"
      ]
     },
     "execution_count": 42,
     "metadata": {},
     "output_type": "execute_result"
    },
    {
     "data": {
      "image/png": "[encoded data removed]",
      "text/plain": [
       "<Figure size 360x360 with 1 Axes>"
      ]
     },
     "metadata": {
      "needs_background": "light"
     },
     "output_type": "display_data"
    }
   ],
   "source": [
    "sns.displot(tmp)"
   ]
  },
  {
   "cell_type": "code",
   "execution_count": 40,
   "id": "f25187bc",
   "metadata": {
    "ExecuteTime": {
     "end_time": "2022-06-27T15:39:57.967801Z",
     "start_time": "2022-06-27T15:39:57.962973Z"
    },
    "scrolled": false
   },
   "outputs": [],
   "source": [
    "df[\"_len_txt\"] = tmp"
   ]
  },
  {
   "cell_type": "markdown",
   "id": "7b7ed418",
   "metadata": {},
   "source": [
    "# "
   ]
  },
  {
   "cell_type": "code",
   "execution_count": 43,
   "id": "425ffbea",
   "metadata": {
    "ExecuteTime": {
     "end_time": "2022-06-27T15:40:33.038904Z",
     "start_time": "2022-06-27T15:40:33.022951Z"
    }
   },
   "outputs": [
    {
     "data": {
      "text/html": [
       "<div>\n",
       "<style scoped>\n",
       "    .dataframe tbody tr th:only-of-type {\n",
       "        vertical-align: middle;\n",
       "    }\n",
       "\n",
       "    .dataframe tbody tr th {\n",
       "        vertical-align: top;\n",
       "    }\n",
       "\n",
       "    .dataframe thead th {\n",
       "        text-align: right;\n",
       "    }\n",
       "</style>\n",
       "<table border=\"1\" class=\"dataframe\">\n",
       "  <thead>\n",
       "    <tr style=\"text-align: right;\">\n",
       "      <th></th>\n",
       "      <th>target</th>\n",
       "      <th>_len_txt</th>\n",
       "    </tr>\n",
       "  </thead>\n",
       "  <tbody>\n",
       "    <tr>\n",
       "      <th>target</th>\n",
       "      <td>1.000000</td>\n",
       "      <td>0.181817</td>\n",
       "    </tr>\n",
       "    <tr>\n",
       "      <th>_len_txt</th>\n",
       "      <td>0.181817</td>\n",
       "      <td>1.000000</td>\n",
       "    </tr>\n",
       "  </tbody>\n",
       "</table>\n",
       "</div>"
      ],
      "text/plain": [
       "            target  _len_txt\n",
       "target    1.000000  0.181817\n",
       "_len_txt  0.181817  1.000000"
      ]
     },
     "execution_count": 43,
     "metadata": {},
     "output_type": "execute_result"
    }
   ],
   "source": [
    "corr = df.corr()\n",
    "corr"
   ]
  },
  {
   "cell_type": "code",
   "execution_count": 44,
   "id": "41b70018",
   "metadata": {
    "ExecuteTime": {
     "end_time": "2022-06-27T15:40:35.429226Z",
     "start_time": "2022-06-27T15:40:35.309767Z"
    }
   },
   "outputs": [
    {
     "data": {
      "text/plain": [
       "<AxesSubplot:>"
      ]
     },
     "execution_count": 44,
     "metadata": {},
     "output_type": "execute_result"
    },
    {
     "data": {
      "image/png": "[encoded data removed]",
      "text/plain": [
       "<Figure size 432x288 with 2 Axes>"
      ]
     },
     "metadata": {
      "needs_background": "light"
     },
     "output_type": "display_data"
    }
   ],
   "source": [
    "sns.heatmap(corr)"
   ]
  },
  {
   "cell_type": "code",
   "execution_count": 45,
   "id": "7386ec3d",
   "metadata": {
    "ExecuteTime": {
     "end_time": "2022-06-27T15:40:37.531899Z",
     "start_time": "2022-06-27T15:40:37.411239Z"
    }
   },
   "outputs": [
    {
     "data": {
      "image/png": "[encoded data removed]",
      "text/plain": [
       "<Figure size 504x360 with 2 Axes>"
      ]
     },
     "metadata": {
      "needs_background": "light"
     },
     "output_type": "display_data"
    }
   ],
   "source": [
    "mask = np.zeros_like(corr)\n",
    "mask[np.triu_indices_from(mask)] = True\n",
    "\n",
    "f, ax = plt.subplots(figsize=(7, 5))\n",
    "ax = sns.heatmap(corr, mask=mask, vmin=-1, vmax=1, cmap=\"coolwarm\", annot=True, fmt=\".2f\", square=True)"
   ]
  },
  {
   "cell_type": "code",
   "execution_count": 46,
   "id": "f5ee35fe",
   "metadata": {
    "ExecuteTime": {
     "end_time": "2022-06-27T15:40:41.548160Z",
     "start_time": "2022-06-27T15:40:40.916721Z"
    },
    "scrolled": true
   },
   "outputs": [
    {
     "data": {
      "text/plain": [
       "<seaborn.axisgrid.PairGrid at 0x7ff5b1a9b2e0>"
      ]
     },
     "execution_count": 46,
     "metadata": {},
     "output_type": "execute_result"
    },
    {
     "data": {
      "image/png": "[encoded data removed]",
      "text/plain": [
       "<Figure size 360x360 with 6 Axes>"
      ]
     },
     "metadata": {
      "needs_background": "light"
     },
     "output_type": "display_data"
    }
   ],
   "source": [
    "sns.pairplot(df)"
   ]
  },
  {
   "cell_type": "code",
   "execution_count": 47,
   "id": "869c579f",
   "metadata": {
    "ExecuteTime": {
     "end_time": "2022-06-27T15:41:09.271318Z",
     "start_time": "2022-06-27T15:41:09.259331Z"
    },
    "scrolled": true
   },
   "outputs": [
    {
     "data": {
      "text/html": [
       "<div>\n",
       "<style scoped>\n",
       "    .dataframe tbody tr th:only-of-type {\n",
       "        vertical-align: middle;\n",
       "    }\n",
       "\n",
       "    .dataframe tbody tr th {\n",
       "        vertical-align: top;\n",
       "    }\n",
       "\n",
       "    .dataframe thead th {\n",
       "        text-align: right;\n",
       "    }\n",
       "</style>\n",
       "<table border=\"1\" class=\"dataframe\">\n",
       "  <thead>\n",
       "    <tr style=\"text-align: right;\">\n",
       "      <th></th>\n",
       "      <th>text</th>\n",
       "      <th>target</th>\n",
       "      <th>_len_txt</th>\n",
       "    </tr>\n",
       "  </thead>\n",
       "  <tbody>\n",
       "    <tr>\n",
       "      <th>4890</th>\n",
       "      <td>Bad day</td>\n",
       "      <td>0</td>\n",
       "      <td>7</td>\n",
       "    </tr>\n",
       "    <tr>\n",
       "      <th>5115</th>\n",
       "      <td>Err:509</td>\n",
       "      <td>0</td>\n",
       "      <td>7</td>\n",
       "    </tr>\n",
       "    <tr>\n",
       "      <th>1882</th>\n",
       "      <td>Crushed</td>\n",
       "      <td>0</td>\n",
       "      <td>7</td>\n",
       "    </tr>\n",
       "    <tr>\n",
       "      <th>24</th>\n",
       "      <td>LOOOOOOL</td>\n",
       "      <td>0</td>\n",
       "      <td>8</td>\n",
       "    </tr>\n",
       "    <tr>\n",
       "      <th>3670</th>\n",
       "      <td>fatality</td>\n",
       "      <td>0</td>\n",
       "      <td>8</td>\n",
       "    </tr>\n",
       "    <tr>\n",
       "      <th>4971</th>\n",
       "      <td>Meltdown</td>\n",
       "      <td>0</td>\n",
       "      <td>8</td>\n",
       "    </tr>\n",
       "    <tr>\n",
       "      <th>30</th>\n",
       "      <td>The end!</td>\n",
       "      <td>0</td>\n",
       "      <td>8</td>\n",
       "    </tr>\n",
       "    <tr>\n",
       "      <th>3667</th>\n",
       "      <td>Fatality!</td>\n",
       "      <td>0</td>\n",
       "      <td>9</td>\n",
       "    </tr>\n",
       "    <tr>\n",
       "      <th>28</th>\n",
       "      <td>Cooool :)</td>\n",
       "      <td>0</td>\n",
       "      <td>9</td>\n",
       "    </tr>\n",
       "    <tr>\n",
       "      <th>3749</th>\n",
       "      <td>I See Fire</td>\n",
       "      <td>0</td>\n",
       "      <td>10</td>\n",
       "    </tr>\n",
       "  </tbody>\n",
       "</table>\n",
       "</div>"
      ],
      "text/plain": [
       "            text  target  _len_txt\n",
       "4890     Bad day       0         7\n",
       "5115     Err:509       0         7\n",
       "1882     Crushed       0         7\n",
       "24      LOOOOOOL       0         8\n",
       "3670    fatality       0         8\n",
       "4971    Meltdown       0         8\n",
       "30      The end!       0         8\n",
       "3667   Fatality!       0         9\n",
       "28     Cooool :)       0         9\n",
       "3749  I See Fire       0        10"
      ]
     },
     "execution_count": 47,
     "metadata": {},
     "output_type": "execute_result"
    }
   ],
   "source": [
    "df.sort_values(\"_len_txt\").head(10)"
   ]
  },
  {
   "cell_type": "code",
   "execution_count": 48,
   "id": "e61c3b3c",
   "metadata": {
    "ExecuteTime": {
     "end_time": "2022-06-27T15:41:20.664775Z",
     "start_time": "2022-06-27T15:41:20.655813Z"
    }
   },
   "outputs": [
    {
     "data": {
      "text/html": [
       "<div>\n",
       "<style scoped>\n",
       "    .dataframe tbody tr th:only-of-type {\n",
       "        vertical-align: middle;\n",
       "    }\n",
       "\n",
       "    .dataframe tbody tr th {\n",
       "        vertical-align: top;\n",
       "    }\n",
       "\n",
       "    .dataframe thead th {\n",
       "        text-align: right;\n",
       "    }\n",
       "</style>\n",
       "<table border=\"1\" class=\"dataframe\">\n",
       "  <thead>\n",
       "    <tr style=\"text-align: right;\">\n",
       "      <th></th>\n",
       "      <th>text</th>\n",
       "      <th>target</th>\n",
       "      <th>_len_txt</th>\n",
       "    </tr>\n",
       "  </thead>\n",
       "  <tbody>\n",
       "    <tr>\n",
       "      <th>633</th>\n",
       "      <td>@HowardU If 90BLKs&amp;amp;8WHTs colluded 2 take W...</td>\n",
       "      <td>1</td>\n",
       "      <td>150</td>\n",
       "    </tr>\n",
       "    <tr>\n",
       "      <th>635</th>\n",
       "      <td>@cspanwj If 90BLKs&amp;amp;8WHTs colluded 2 take W...</td>\n",
       "      <td>1</td>\n",
       "      <td>150</td>\n",
       "    </tr>\n",
       "    <tr>\n",
       "      <th>614</th>\n",
       "      <td>@CAgov If 90BLKs&amp;amp;8WHTs colluded 2 take WHT...</td>\n",
       "      <td>1</td>\n",
       "      <td>151</td>\n",
       "    </tr>\n",
       "    <tr>\n",
       "      <th>4801</th>\n",
       "      <td>It's was about 2:30 in the morning&amp;amp;I went ...</td>\n",
       "      <td>0</td>\n",
       "      <td>152</td>\n",
       "    </tr>\n",
       "    <tr>\n",
       "      <th>1270</th>\n",
       "      <td>when you're taking a shower and someone flushe...</td>\n",
       "      <td>0</td>\n",
       "      <td>157</td>\n",
       "    </tr>\n",
       "  </tbody>\n",
       "</table>\n",
       "</div>"
      ],
      "text/plain": [
       "                                                   text  target  _len_txt\n",
       "633   @HowardU If 90BLKs&amp;8WHTs colluded 2 take W...       1       150\n",
       "635   @cspanwj If 90BLKs&amp;8WHTs colluded 2 take W...       1       150\n",
       "614   @CAgov If 90BLKs&amp;8WHTs colluded 2 take WHT...       1       151\n",
       "4801  It's was about 2:30 in the morning&amp;I went ...       0       152\n",
       "1270  when you're taking a shower and someone flushe...       0       157"
      ]
     },
     "execution_count": 48,
     "metadata": {},
     "output_type": "execute_result"
    }
   ],
   "source": [
    "df.sort_values(\"_len_txt\").tail()"
   ]
  },
  {
   "cell_type": "code",
   "execution_count": 49,
   "id": "4c87dd6c",
   "metadata": {
    "ExecuteTime": {
     "end_time": "2022-06-27T15:41:31.836301Z",
     "start_time": "2022-06-27T15:41:31.226526Z"
    }
   },
   "outputs": [
    {
     "data": {
      "text/plain": [
       "<seaborn.axisgrid.PairGrid at 0x7ff5b17e2520>"
      ]
     },
     "execution_count": 49,
     "metadata": {},
     "output_type": "execute_result"
    },
    {
     "data": {
      "image/png": "[encoded data removed]",
      "text/plain": [
       "<Figure size 360x360 with 6 Axes>"
      ]
     },
     "metadata": {
      "needs_background": "light"
     },
     "output_type": "display_data"
    }
   ],
   "source": [
    "sns.pairplot(df,)"
   ]
  },
  {
   "cell_type": "code",
   "execution_count": 51,
   "id": "51457670",
   "metadata": {
    "ExecuteTime": {
     "end_time": "2022-06-27T15:41:48.911428Z",
     "start_time": "2022-06-27T15:41:48.728480Z"
    }
   },
   "outputs": [
    {
     "data": {
      "text/plain": [
       "<seaborn.axisgrid.PairGrid at 0x7ff5b18426a0>"
      ]
     },
     "execution_count": 51,
     "metadata": {},
     "output_type": "execute_result"
    },
    {
     "data": {
      "image/png": "[encoded data removed]",
      "text/plain": [
       "<Figure size 218.375x180 with 2 Axes>"
      ]
     },
     "metadata": {
      "needs_background": "light"
     },
     "output_type": "display_data"
    }
   ],
   "source": [
    "sns.pairplot(df,hue=\"target\")"
   ]
  },
  {
   "cell_type": "markdown",
   "id": "a3531d56",
   "metadata": {},
   "source": []
  },
  {
   "cell_type": "code",
   "execution_count": 52,
   "id": "f9de9125",
   "metadata": {
    "ExecuteTime": {
     "end_time": "2022-06-27T15:42:05.261869Z",
     "start_time": "2022-06-27T15:42:05.216472Z"
    }
   },
   "outputs": [],
   "source": [
    "df.to_csv(\"data/cleaned/df.csv\", index=False)"
   ]
  },
  {
   "cell_type": "code",
   "execution_count": null,
   "id": "3fbfce61",
   "metadata": {},
   "outputs": [],
   "source": []
  }
 ],
 "metadata": {
  "hide_input": false,
  "kernelspec": {
   "display_name": "Python 3",
   "language": "python",
   "name": "python3"
  },
  "language_info": {
   "codemirror_mode": {
    "name": "ipython",
    "version": 3
   },
   "file_extension": ".py",
   "mimetype": "text/x-python",
   "name": "python",
   "nbconvert_exporter": "python",
   "pygments_lexer": "ipython3",
   "version": "3.8.10"
  }
 },
 "nbformat": 4,
 "nbformat_minor": 5
}
