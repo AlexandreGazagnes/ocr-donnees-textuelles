{
 "cells": [
  {
   "cell_type": "markdown",
   "id": "90d846cb",
   "metadata": {},
   "source": [
    "# 1. Preliminary"
   ]
  },
  {
   "cell_type": "markdown",
   "id": "03838406",
   "metadata": {
    "heading_collapsed": true
   },
   "source": [
    "## 1.1 Context"
   ]
  },
  {
   "cell_type": "code",
   "execution_count": null,
   "id": "37885c7f",
   "metadata": {
    "hidden": true
   },
   "outputs": [],
   "source": []
  },
  {
   "cell_type": "markdown",
   "id": "97396f16",
   "metadata": {
    "heading_collapsed": true
   },
   "source": [
    "## 1.2 Imports"
   ]
  },
  {
   "cell_type": "code",
   "execution_count": 661,
   "id": "d56dbd5f",
   "metadata": {
    "ExecuteTime": {
     "end_time": "2022-06-27T14:35:51.555065Z",
     "start_time": "2022-06-27T14:35:51.550672Z"
    },
    "hidden": true
   },
   "outputs": [],
   "source": [
    "import os, sys, time\n",
    "\n",
    "import nltk\n",
    "import spacy\n",
    "\n",
    "import pandas as pd\n",
    "import numpy as np\n",
    "\n",
    "import seaborn as sns\n",
    "import matplotlib.pyplot as plt\n",
    "import plotly as px"
   ]
  },
  {
   "cell_type": "markdown",
   "id": "1880a917",
   "metadata": {
    "heading_collapsed": true
   },
   "source": [
    "## 1.3 Loading data"
   ]
  },
  {
   "cell_type": "code",
   "execution_count": 662,
   "id": "c046fdbb",
   "metadata": {
    "ExecuteTime": {
     "end_time": "2022-06-27T14:35:51.564128Z",
     "start_time": "2022-06-27T14:35:51.559086Z"
    },
    "hidden": true
   },
   "outputs": [
    {
     "data": {
      "text/plain": [
       "['superheroes_nlp_dataset.csv']"
      ]
     },
     "execution_count": 662,
     "metadata": {},
     "output_type": "execute_result"
    }
   ],
   "source": [
    "# our file\n",
    "\n",
    "data = \"./data/source/\"\n",
    "os.listdir(data)"
   ]
  },
  {
   "cell_type": "code",
   "execution_count": 663,
   "id": "e699e715",
   "metadata": {
    "ExecuteTime": {
     "end_time": "2022-06-27T14:35:51.667953Z",
     "start_time": "2022-06-27T14:35:51.566532Z"
    },
    "hidden": true
   },
   "outputs": [],
   "source": [
    "# load dataframe\n",
    "\n",
    "fn = data + 'superheroes_nlp_dataset.csv'\n",
    "\n",
    "df = pd.read_csv(fn)"
   ]
  },
  {
   "cell_type": "code",
   "execution_count": 664,
   "id": "30a66d13",
   "metadata": {
    "ExecuteTime": {
     "end_time": "2022-06-27T14:35:51.689594Z",
     "start_time": "2022-06-27T14:35:51.669728Z"
    },
    "hidden": true
   },
   "outputs": [
    {
     "data": {
      "text/html": [
       "<div>\n",
       "<style scoped>\n",
       "    .dataframe tbody tr th:only-of-type {\n",
       "        vertical-align: middle;\n",
       "    }\n",
       "\n",
       "    .dataframe tbody tr th {\n",
       "        vertical-align: top;\n",
       "    }\n",
       "\n",
       "    .dataframe thead th {\n",
       "        text-align: right;\n",
       "    }\n",
       "</style>\n",
       "<table border=\"1\" class=\"dataframe\">\n",
       "  <thead>\n",
       "    <tr style=\"text-align: right;\">\n",
       "      <th></th>\n",
       "      <th>name</th>\n",
       "      <th>real_name</th>\n",
       "      <th>full_name</th>\n",
       "      <th>overall_score</th>\n",
       "      <th>history_text</th>\n",
       "      <th>powers_text</th>\n",
       "      <th>intelligence_score</th>\n",
       "      <th>strength_score</th>\n",
       "      <th>speed_score</th>\n",
       "      <th>durability_score</th>\n",
       "      <th>...</th>\n",
       "      <th>has_flight</th>\n",
       "      <th>has_accelerated_healing</th>\n",
       "      <th>has_weapons_master</th>\n",
       "      <th>has_intelligence</th>\n",
       "      <th>has_reflexes</th>\n",
       "      <th>has_super_speed</th>\n",
       "      <th>has_durability</th>\n",
       "      <th>has_stamina</th>\n",
       "      <th>has_agility</th>\n",
       "      <th>has_super_strength</th>\n",
       "    </tr>\n",
       "  </thead>\n",
       "  <tbody>\n",
       "    <tr>\n",
       "      <th>0</th>\n",
       "      <td>3-D Man</td>\n",
       "      <td>Delroy Garrett, Jr.</td>\n",
       "      <td>Delroy Garrett, Jr.</td>\n",
       "      <td>6</td>\n",
       "      <td>Delroy Garrett, Jr. grew up to become a track ...</td>\n",
       "      <td>NaN</td>\n",
       "      <td>85</td>\n",
       "      <td>30</td>\n",
       "      <td>60</td>\n",
       "      <td>60</td>\n",
       "      <td>...</td>\n",
       "      <td>0.0</td>\n",
       "      <td>0.0</td>\n",
       "      <td>0.0</td>\n",
       "      <td>0.0</td>\n",
       "      <td>0.0</td>\n",
       "      <td>1.0</td>\n",
       "      <td>0.0</td>\n",
       "      <td>0.0</td>\n",
       "      <td>0.0</td>\n",
       "      <td>1.0</td>\n",
       "    </tr>\n",
       "    <tr>\n",
       "      <th>1</th>\n",
       "      <td>514A (Gotham)</td>\n",
       "      <td>Bruce Wayne</td>\n",
       "      <td>NaN</td>\n",
       "      <td>10</td>\n",
       "      <td>He was one of the many prisoners of Indian Hil...</td>\n",
       "      <td>NaN</td>\n",
       "      <td>100</td>\n",
       "      <td>20</td>\n",
       "      <td>30</td>\n",
       "      <td>50</td>\n",
       "      <td>...</td>\n",
       "      <td>0.0</td>\n",
       "      <td>0.0</td>\n",
       "      <td>0.0</td>\n",
       "      <td>0.0</td>\n",
       "      <td>1.0</td>\n",
       "      <td>0.0</td>\n",
       "      <td>1.0</td>\n",
       "      <td>0.0</td>\n",
       "      <td>0.0</td>\n",
       "      <td>1.0</td>\n",
       "    </tr>\n",
       "    <tr>\n",
       "      <th>2</th>\n",
       "      <td>A-Bomb</td>\n",
       "      <td>Richard Milhouse Jones</td>\n",
       "      <td>Richard Milhouse Jones</td>\n",
       "      <td>20</td>\n",
       "      <td>Richard \"Rick\" Jones was orphaned at a young ...</td>\n",
       "      <td>On rare occasions, and through unusual circu...</td>\n",
       "      <td>80</td>\n",
       "      <td>100</td>\n",
       "      <td>80</td>\n",
       "      <td>100</td>\n",
       "      <td>...</td>\n",
       "      <td>0.0</td>\n",
       "      <td>1.0</td>\n",
       "      <td>0.0</td>\n",
       "      <td>0.0</td>\n",
       "      <td>1.0</td>\n",
       "      <td>1.0</td>\n",
       "      <td>1.0</td>\n",
       "      <td>1.0</td>\n",
       "      <td>1.0</td>\n",
       "      <td>1.0</td>\n",
       "    </tr>\n",
       "    <tr>\n",
       "      <th>3</th>\n",
       "      <td>Aa</td>\n",
       "      <td>Aa</td>\n",
       "      <td>NaN</td>\n",
       "      <td>12</td>\n",
       "      <td>Aa is one of the more passive members of the P...</td>\n",
       "      <td>NaN</td>\n",
       "      <td>80</td>\n",
       "      <td>50</td>\n",
       "      <td>55</td>\n",
       "      <td>45</td>\n",
       "      <td>...</td>\n",
       "      <td>0.0</td>\n",
       "      <td>0.0</td>\n",
       "      <td>0.0</td>\n",
       "      <td>0.0</td>\n",
       "      <td>0.0</td>\n",
       "      <td>0.0</td>\n",
       "      <td>0.0</td>\n",
       "      <td>0.0</td>\n",
       "      <td>0.0</td>\n",
       "      <td>0.0</td>\n",
       "    </tr>\n",
       "    <tr>\n",
       "      <th>4</th>\n",
       "      <td>Aaron Cash</td>\n",
       "      <td>Aaron Cash</td>\n",
       "      <td>Aaron Cash</td>\n",
       "      <td>5</td>\n",
       "      <td>Aaron Cash is the head of security at Arkham A...</td>\n",
       "      <td>NaN</td>\n",
       "      <td>80</td>\n",
       "      <td>10</td>\n",
       "      <td>25</td>\n",
       "      <td>40</td>\n",
       "      <td>...</td>\n",
       "      <td>0.0</td>\n",
       "      <td>0.0</td>\n",
       "      <td>1.0</td>\n",
       "      <td>0.0</td>\n",
       "      <td>0.0</td>\n",
       "      <td>0.0</td>\n",
       "      <td>0.0</td>\n",
       "      <td>0.0</td>\n",
       "      <td>0.0</td>\n",
       "      <td>0.0</td>\n",
       "    </tr>\n",
       "  </tbody>\n",
       "</table>\n",
       "<p>5 rows × 81 columns</p>\n",
       "</div>"
      ],
      "text/plain": [
       "            name               real_name               full_name  \\\n",
       "0        3-D Man     Delroy Garrett, Jr.     Delroy Garrett, Jr.   \n",
       "1  514A (Gotham)             Bruce Wayne                     NaN   \n",
       "2         A-Bomb  Richard Milhouse Jones  Richard Milhouse Jones   \n",
       "3             Aa                      Aa                     NaN   \n",
       "4     Aaron Cash              Aaron Cash              Aaron Cash   \n",
       "\n",
       "  overall_score                                       history_text  \\\n",
       "0             6  Delroy Garrett, Jr. grew up to become a track ...   \n",
       "1            10  He was one of the many prisoners of Indian Hil...   \n",
       "2            20   Richard \"Rick\" Jones was orphaned at a young ...   \n",
       "3            12  Aa is one of the more passive members of the P...   \n",
       "4             5  Aaron Cash is the head of security at Arkham A...   \n",
       "\n",
       "                                         powers_text  intelligence_score  \\\n",
       "0                                                NaN                  85   \n",
       "1                                                NaN                 100   \n",
       "2    On rare occasions, and through unusual circu...                  80   \n",
       "3                                                NaN                  80   \n",
       "4                                                NaN                  80   \n",
       "\n",
       "   strength_score  speed_score  durability_score  ...  has_flight  \\\n",
       "0              30           60                60  ...         0.0   \n",
       "1              20           30                50  ...         0.0   \n",
       "2             100           80               100  ...         0.0   \n",
       "3              50           55                45  ...         0.0   \n",
       "4              10           25                40  ...         0.0   \n",
       "\n",
       "   has_accelerated_healing has_weapons_master has_intelligence has_reflexes  \\\n",
       "0                      0.0                0.0              0.0          0.0   \n",
       "1                      0.0                0.0              0.0          1.0   \n",
       "2                      1.0                0.0              0.0          1.0   \n",
       "3                      0.0                0.0              0.0          0.0   \n",
       "4                      0.0                1.0              0.0          0.0   \n",
       "\n",
       "  has_super_speed has_durability has_stamina has_agility has_super_strength  \n",
       "0             1.0            0.0         0.0         0.0                1.0  \n",
       "1             0.0            1.0         0.0         0.0                1.0  \n",
       "2             1.0            1.0         1.0         1.0                1.0  \n",
       "3             0.0            0.0         0.0         0.0                0.0  \n",
       "4             0.0            0.0         0.0         0.0                0.0  \n",
       "\n",
       "[5 rows x 81 columns]"
      ]
     },
     "execution_count": 664,
     "metadata": {},
     "output_type": "execute_result"
    }
   ],
   "source": [
    "df.head()"
   ]
  },
  {
   "cell_type": "markdown",
   "id": "4a631f5e",
   "metadata": {},
   "source": [
    "# 2. First Tour"
   ]
  },
  {
   "cell_type": "markdown",
   "id": "74e02cca",
   "metadata": {},
   "source": [
    "## 2.1 display"
   ]
  },
  {
   "cell_type": "code",
   "execution_count": 665,
   "id": "4a105163",
   "metadata": {
    "ExecuteTime": {
     "end_time": "2022-06-27T14:35:51.708951Z",
     "start_time": "2022-06-27T14:35:51.691971Z"
    }
   },
   "outputs": [
    {
     "data": {
      "text/html": [
       "<div>\n",
       "<style scoped>\n",
       "    .dataframe tbody tr th:only-of-type {\n",
       "        vertical-align: middle;\n",
       "    }\n",
       "\n",
       "    .dataframe tbody tr th {\n",
       "        vertical-align: top;\n",
       "    }\n",
       "\n",
       "    .dataframe thead th {\n",
       "        text-align: right;\n",
       "    }\n",
       "</style>\n",
       "<table border=\"1\" class=\"dataframe\">\n",
       "  <thead>\n",
       "    <tr style=\"text-align: right;\">\n",
       "      <th></th>\n",
       "      <th>name</th>\n",
       "      <th>real_name</th>\n",
       "      <th>full_name</th>\n",
       "      <th>overall_score</th>\n",
       "      <th>history_text</th>\n",
       "      <th>powers_text</th>\n",
       "      <th>intelligence_score</th>\n",
       "      <th>strength_score</th>\n",
       "      <th>speed_score</th>\n",
       "      <th>durability_score</th>\n",
       "      <th>...</th>\n",
       "      <th>has_flight</th>\n",
       "      <th>has_accelerated_healing</th>\n",
       "      <th>has_weapons_master</th>\n",
       "      <th>has_intelligence</th>\n",
       "      <th>has_reflexes</th>\n",
       "      <th>has_super_speed</th>\n",
       "      <th>has_durability</th>\n",
       "      <th>has_stamina</th>\n",
       "      <th>has_agility</th>\n",
       "      <th>has_super_strength</th>\n",
       "    </tr>\n",
       "  </thead>\n",
       "  <tbody>\n",
       "    <tr>\n",
       "      <th>0</th>\n",
       "      <td>3-D Man</td>\n",
       "      <td>Delroy Garrett, Jr.</td>\n",
       "      <td>Delroy Garrett, Jr.</td>\n",
       "      <td>6</td>\n",
       "      <td>Delroy Garrett, Jr. grew up to become a track ...</td>\n",
       "      <td>NaN</td>\n",
       "      <td>85</td>\n",
       "      <td>30</td>\n",
       "      <td>60</td>\n",
       "      <td>60</td>\n",
       "      <td>...</td>\n",
       "      <td>0.0</td>\n",
       "      <td>0.0</td>\n",
       "      <td>0.0</td>\n",
       "      <td>0.0</td>\n",
       "      <td>0.0</td>\n",
       "      <td>1.0</td>\n",
       "      <td>0.0</td>\n",
       "      <td>0.0</td>\n",
       "      <td>0.0</td>\n",
       "      <td>1.0</td>\n",
       "    </tr>\n",
       "    <tr>\n",
       "      <th>1</th>\n",
       "      <td>514A (Gotham)</td>\n",
       "      <td>Bruce Wayne</td>\n",
       "      <td>NaN</td>\n",
       "      <td>10</td>\n",
       "      <td>He was one of the many prisoners of Indian Hil...</td>\n",
       "      <td>NaN</td>\n",
       "      <td>100</td>\n",
       "      <td>20</td>\n",
       "      <td>30</td>\n",
       "      <td>50</td>\n",
       "      <td>...</td>\n",
       "      <td>0.0</td>\n",
       "      <td>0.0</td>\n",
       "      <td>0.0</td>\n",
       "      <td>0.0</td>\n",
       "      <td>1.0</td>\n",
       "      <td>0.0</td>\n",
       "      <td>1.0</td>\n",
       "      <td>0.0</td>\n",
       "      <td>0.0</td>\n",
       "      <td>1.0</td>\n",
       "    </tr>\n",
       "    <tr>\n",
       "      <th>2</th>\n",
       "      <td>A-Bomb</td>\n",
       "      <td>Richard Milhouse Jones</td>\n",
       "      <td>Richard Milhouse Jones</td>\n",
       "      <td>20</td>\n",
       "      <td>Richard \"Rick\" Jones was orphaned at a young ...</td>\n",
       "      <td>On rare occasions, and through unusual circu...</td>\n",
       "      <td>80</td>\n",
       "      <td>100</td>\n",
       "      <td>80</td>\n",
       "      <td>100</td>\n",
       "      <td>...</td>\n",
       "      <td>0.0</td>\n",
       "      <td>1.0</td>\n",
       "      <td>0.0</td>\n",
       "      <td>0.0</td>\n",
       "      <td>1.0</td>\n",
       "      <td>1.0</td>\n",
       "      <td>1.0</td>\n",
       "      <td>1.0</td>\n",
       "      <td>1.0</td>\n",
       "      <td>1.0</td>\n",
       "    </tr>\n",
       "    <tr>\n",
       "      <th>3</th>\n",
       "      <td>Aa</td>\n",
       "      <td>Aa</td>\n",
       "      <td>NaN</td>\n",
       "      <td>12</td>\n",
       "      <td>Aa is one of the more passive members of the P...</td>\n",
       "      <td>NaN</td>\n",
       "      <td>80</td>\n",
       "      <td>50</td>\n",
       "      <td>55</td>\n",
       "      <td>45</td>\n",
       "      <td>...</td>\n",
       "      <td>0.0</td>\n",
       "      <td>0.0</td>\n",
       "      <td>0.0</td>\n",
       "      <td>0.0</td>\n",
       "      <td>0.0</td>\n",
       "      <td>0.0</td>\n",
       "      <td>0.0</td>\n",
       "      <td>0.0</td>\n",
       "      <td>0.0</td>\n",
       "      <td>0.0</td>\n",
       "    </tr>\n",
       "    <tr>\n",
       "      <th>4</th>\n",
       "      <td>Aaron Cash</td>\n",
       "      <td>Aaron Cash</td>\n",
       "      <td>Aaron Cash</td>\n",
       "      <td>5</td>\n",
       "      <td>Aaron Cash is the head of security at Arkham A...</td>\n",
       "      <td>NaN</td>\n",
       "      <td>80</td>\n",
       "      <td>10</td>\n",
       "      <td>25</td>\n",
       "      <td>40</td>\n",
       "      <td>...</td>\n",
       "      <td>0.0</td>\n",
       "      <td>0.0</td>\n",
       "      <td>1.0</td>\n",
       "      <td>0.0</td>\n",
       "      <td>0.0</td>\n",
       "      <td>0.0</td>\n",
       "      <td>0.0</td>\n",
       "      <td>0.0</td>\n",
       "      <td>0.0</td>\n",
       "      <td>0.0</td>\n",
       "    </tr>\n",
       "  </tbody>\n",
       "</table>\n",
       "<p>5 rows × 81 columns</p>\n",
       "</div>"
      ],
      "text/plain": [
       "            name               real_name               full_name  \\\n",
       "0        3-D Man     Delroy Garrett, Jr.     Delroy Garrett, Jr.   \n",
       "1  514A (Gotham)             Bruce Wayne                     NaN   \n",
       "2         A-Bomb  Richard Milhouse Jones  Richard Milhouse Jones   \n",
       "3             Aa                      Aa                     NaN   \n",
       "4     Aaron Cash              Aaron Cash              Aaron Cash   \n",
       "\n",
       "  overall_score                                       history_text  \\\n",
       "0             6  Delroy Garrett, Jr. grew up to become a track ...   \n",
       "1            10  He was one of the many prisoners of Indian Hil...   \n",
       "2            20   Richard \"Rick\" Jones was orphaned at a young ...   \n",
       "3            12  Aa is one of the more passive members of the P...   \n",
       "4             5  Aaron Cash is the head of security at Arkham A...   \n",
       "\n",
       "                                         powers_text  intelligence_score  \\\n",
       "0                                                NaN                  85   \n",
       "1                                                NaN                 100   \n",
       "2    On rare occasions, and through unusual circu...                  80   \n",
       "3                                                NaN                  80   \n",
       "4                                                NaN                  80   \n",
       "\n",
       "   strength_score  speed_score  durability_score  ...  has_flight  \\\n",
       "0              30           60                60  ...         0.0   \n",
       "1              20           30                50  ...         0.0   \n",
       "2             100           80               100  ...         0.0   \n",
       "3              50           55                45  ...         0.0   \n",
       "4              10           25                40  ...         0.0   \n",
       "\n",
       "   has_accelerated_healing has_weapons_master has_intelligence has_reflexes  \\\n",
       "0                      0.0                0.0              0.0          0.0   \n",
       "1                      0.0                0.0              0.0          1.0   \n",
       "2                      1.0                0.0              0.0          1.0   \n",
       "3                      0.0                0.0              0.0          0.0   \n",
       "4                      0.0                1.0              0.0          0.0   \n",
       "\n",
       "  has_super_speed has_durability has_stamina has_agility has_super_strength  \n",
       "0             1.0            0.0         0.0         0.0                1.0  \n",
       "1             0.0            1.0         0.0         0.0                1.0  \n",
       "2             1.0            1.0         1.0         1.0                1.0  \n",
       "3             0.0            0.0         0.0         0.0                0.0  \n",
       "4             0.0            0.0         0.0         0.0                0.0  \n",
       "\n",
       "[5 rows x 81 columns]"
      ]
     },
     "execution_count": 665,
     "metadata": {},
     "output_type": "execute_result"
    }
   ],
   "source": [
    "df.head(5)"
   ]
  },
  {
   "cell_type": "code",
   "execution_count": 666,
   "id": "e2a3742d",
   "metadata": {
    "ExecuteTime": {
     "end_time": "2022-06-27T14:35:51.732442Z",
     "start_time": "2022-06-27T14:35:51.710755Z"
    }
   },
   "outputs": [
    {
     "data": {
      "text/html": [
       "<div>\n",
       "<style scoped>\n",
       "    .dataframe tbody tr th:only-of-type {\n",
       "        vertical-align: middle;\n",
       "    }\n",
       "\n",
       "    .dataframe tbody tr th {\n",
       "        vertical-align: top;\n",
       "    }\n",
       "\n",
       "    .dataframe thead th {\n",
       "        text-align: right;\n",
       "    }\n",
       "</style>\n",
       "<table border=\"1\" class=\"dataframe\">\n",
       "  <thead>\n",
       "    <tr style=\"text-align: right;\">\n",
       "      <th></th>\n",
       "      <th>name</th>\n",
       "      <th>real_name</th>\n",
       "      <th>full_name</th>\n",
       "      <th>overall_score</th>\n",
       "      <th>history_text</th>\n",
       "      <th>powers_text</th>\n",
       "      <th>intelligence_score</th>\n",
       "      <th>strength_score</th>\n",
       "      <th>speed_score</th>\n",
       "      <th>durability_score</th>\n",
       "      <th>...</th>\n",
       "      <th>has_flight</th>\n",
       "      <th>has_accelerated_healing</th>\n",
       "      <th>has_weapons_master</th>\n",
       "      <th>has_intelligence</th>\n",
       "      <th>has_reflexes</th>\n",
       "      <th>has_super_speed</th>\n",
       "      <th>has_durability</th>\n",
       "      <th>has_stamina</th>\n",
       "      <th>has_agility</th>\n",
       "      <th>has_super_strength</th>\n",
       "    </tr>\n",
       "  </thead>\n",
       "  <tbody>\n",
       "    <tr>\n",
       "      <th>163</th>\n",
       "      <td>Bird-Man</td>\n",
       "      <td>Henry Hawk</td>\n",
       "      <td>Henry Hawk</td>\n",
       "      <td>-</td>\n",
       "      <td>Henry Hawk was a criminal hand picked by the ...</td>\n",
       "      <td>Bird-Man did have a degree of superhuman stren...</td>\n",
       "      <td>0</td>\n",
       "      <td>0</td>\n",
       "      <td>0</td>\n",
       "      <td>0</td>\n",
       "      <td>...</td>\n",
       "      <td>1.0</td>\n",
       "      <td>0.0</td>\n",
       "      <td>0.0</td>\n",
       "      <td>0.0</td>\n",
       "      <td>0.0</td>\n",
       "      <td>0.0</td>\n",
       "      <td>0.0</td>\n",
       "      <td>0.0</td>\n",
       "      <td>0.0</td>\n",
       "      <td>1.0</td>\n",
       "    </tr>\n",
       "    <tr>\n",
       "      <th>893</th>\n",
       "      <td>Miss Martian</td>\n",
       "      <td>M'gann M'orzz</td>\n",
       "      <td>M'gann M'orzz</td>\n",
       "      <td>12</td>\n",
       "      <td>The origin others know: there are two differ...</td>\n",
       "      <td>Miss Martians abilities come from her Martian ...</td>\n",
       "      <td>80</td>\n",
       "      <td>85</td>\n",
       "      <td>60</td>\n",
       "      <td>100</td>\n",
       "      <td>...</td>\n",
       "      <td>1.0</td>\n",
       "      <td>1.0</td>\n",
       "      <td>0.0</td>\n",
       "      <td>0.0</td>\n",
       "      <td>0.0</td>\n",
       "      <td>1.0</td>\n",
       "      <td>0.0</td>\n",
       "      <td>1.0</td>\n",
       "      <td>0.0</td>\n",
       "      <td>1.0</td>\n",
       "    </tr>\n",
       "    <tr>\n",
       "      <th>1374</th>\n",
       "      <td>Vili</td>\n",
       "      <td>Vili</td>\n",
       "      <td>Vili Borson</td>\n",
       "      <td>14</td>\n",
       "      <td>Vili with his 2 brothers Odin and Ve, were par...</td>\n",
       "      <td>Vili had an Asgardian body, he possessed super...</td>\n",
       "      <td>100</td>\n",
       "      <td>55</td>\n",
       "      <td>70</td>\n",
       "      <td>85</td>\n",
       "      <td>...</td>\n",
       "      <td>0.0</td>\n",
       "      <td>1.0</td>\n",
       "      <td>1.0</td>\n",
       "      <td>1.0</td>\n",
       "      <td>1.0</td>\n",
       "      <td>1.0</td>\n",
       "      <td>1.0</td>\n",
       "      <td>1.0</td>\n",
       "      <td>1.0</td>\n",
       "      <td>1.0</td>\n",
       "    </tr>\n",
       "    <tr>\n",
       "      <th>816</th>\n",
       "      <td>Lodestone</td>\n",
       "      <td>Unknown</td>\n",
       "      <td>Unknown</td>\n",
       "      <td>-</td>\n",
       "      <td>Phillipe Bazin was the crimelord whose operati...</td>\n",
       "      <td>Uses magnetism for levitation, force attacks, ...</td>\n",
       "      <td>0</td>\n",
       "      <td>0</td>\n",
       "      <td>0</td>\n",
       "      <td>0</td>\n",
       "      <td>...</td>\n",
       "      <td>NaN</td>\n",
       "      <td>NaN</td>\n",
       "      <td>NaN</td>\n",
       "      <td>NaN</td>\n",
       "      <td>NaN</td>\n",
       "      <td>NaN</td>\n",
       "      <td>NaN</td>\n",
       "      <td>NaN</td>\n",
       "      <td>NaN</td>\n",
       "      <td>NaN</td>\n",
       "    </tr>\n",
       "    <tr>\n",
       "      <th>774</th>\n",
       "      <td>Lady Deathstrike</td>\n",
       "      <td>Yuriko Oyama</td>\n",
       "      <td>Yuriko Oyama</td>\n",
       "      <td>6</td>\n",
       "      <td>Yuriko Oyama is the daughter of Kenji Oyama, a...</td>\n",
       "      <td>Lady Deathstrike is superhumanly strong and ...</td>\n",
       "      <td>80</td>\n",
       "      <td>30</td>\n",
       "      <td>40</td>\n",
       "      <td>85</td>\n",
       "      <td>...</td>\n",
       "      <td>0.0</td>\n",
       "      <td>1.0</td>\n",
       "      <td>0.0</td>\n",
       "      <td>1.0</td>\n",
       "      <td>1.0</td>\n",
       "      <td>1.0</td>\n",
       "      <td>1.0</td>\n",
       "      <td>1.0</td>\n",
       "      <td>1.0</td>\n",
       "      <td>1.0</td>\n",
       "    </tr>\n",
       "    <tr>\n",
       "      <th>957</th>\n",
       "      <td>Nightwing (Arkham)</td>\n",
       "      <td>Dick Grayson</td>\n",
       "      <td>Richard \"Dick\" John Grayson</td>\n",
       "      <td>8</td>\n",
       "      <td>After the Christmas Eve Incident, Dick's paren...</td>\n",
       "      <td>Master Detective: Grayson is a world class det...</td>\n",
       "      <td>90</td>\n",
       "      <td>20</td>\n",
       "      <td>80</td>\n",
       "      <td>45</td>\n",
       "      <td>...</td>\n",
       "      <td>0.0</td>\n",
       "      <td>0.0</td>\n",
       "      <td>1.0</td>\n",
       "      <td>1.0</td>\n",
       "      <td>1.0</td>\n",
       "      <td>0.0</td>\n",
       "      <td>0.0</td>\n",
       "      <td>0.0</td>\n",
       "      <td>1.0</td>\n",
       "      <td>0.0</td>\n",
       "    </tr>\n",
       "    <tr>\n",
       "      <th>250</th>\n",
       "      <td>Cameron Hicks</td>\n",
       "      <td>NaN</td>\n",
       "      <td>NaN</td>\n",
       "      <td>5</td>\n",
       "      <td>Cameron Hicks has lived a hard life, the scars...</td>\n",
       "      <td>NaN</td>\n",
       "      <td>75</td>\n",
       "      <td>10</td>\n",
       "      <td>25</td>\n",
       "      <td>30</td>\n",
       "      <td>...</td>\n",
       "      <td>0.0</td>\n",
       "      <td>0.0</td>\n",
       "      <td>0.0</td>\n",
       "      <td>0.0</td>\n",
       "      <td>0.0</td>\n",
       "      <td>0.0</td>\n",
       "      <td>0.0</td>\n",
       "      <td>0.0</td>\n",
       "      <td>0.0</td>\n",
       "      <td>0.0</td>\n",
       "    </tr>\n",
       "    <tr>\n",
       "      <th>530</th>\n",
       "      <td>Gorilla Grodd (CW)</td>\n",
       "      <td>Grodd</td>\n",
       "      <td>Grodd</td>\n",
       "      <td>12</td>\n",
       "      <td>Grodd, also known as Gorilla Grodd, is a silve...</td>\n",
       "      <td>After Grodd was struck by the energy of the p...</td>\n",
       "      <td>90</td>\n",
       "      <td>65</td>\n",
       "      <td>65</td>\n",
       "      <td>80</td>\n",
       "      <td>...</td>\n",
       "      <td>0.0</td>\n",
       "      <td>0.0</td>\n",
       "      <td>0.0</td>\n",
       "      <td>1.0</td>\n",
       "      <td>1.0</td>\n",
       "      <td>0.0</td>\n",
       "      <td>1.0</td>\n",
       "      <td>1.0</td>\n",
       "      <td>1.0</td>\n",
       "      <td>1.0</td>\n",
       "    </tr>\n",
       "    <tr>\n",
       "      <th>197</th>\n",
       "      <td>Black Spider</td>\n",
       "      <td>Eric Needham</td>\n",
       "      <td>NaN</td>\n",
       "      <td>7</td>\n",
       "      <td>As a young man, Eric Needham became addicted t...</td>\n",
       "      <td>NaN</td>\n",
       "      <td>90</td>\n",
       "      <td>10</td>\n",
       "      <td>35</td>\n",
       "      <td>35</td>\n",
       "      <td>...</td>\n",
       "      <td>0.0</td>\n",
       "      <td>0.0</td>\n",
       "      <td>0.0</td>\n",
       "      <td>0.0</td>\n",
       "      <td>1.0</td>\n",
       "      <td>0.0</td>\n",
       "      <td>0.0</td>\n",
       "      <td>0.0</td>\n",
       "      <td>1.0</td>\n",
       "      <td>0.0</td>\n",
       "    </tr>\n",
       "    <tr>\n",
       "      <th>726</th>\n",
       "      <td>Kathryn Janeway</td>\n",
       "      <td>Kathryn Janeway</td>\n",
       "      <td>Kathryn M. Janeway</td>\n",
       "      <td>6</td>\n",
       "      <td>Janeway notable for being the first female of ...</td>\n",
       "      <td>NaN</td>\n",
       "      <td>90</td>\n",
       "      <td>10</td>\n",
       "      <td>20</td>\n",
       "      <td>25</td>\n",
       "      <td>...</td>\n",
       "      <td>0.0</td>\n",
       "      <td>0.0</td>\n",
       "      <td>0.0</td>\n",
       "      <td>1.0</td>\n",
       "      <td>0.0</td>\n",
       "      <td>0.0</td>\n",
       "      <td>0.0</td>\n",
       "      <td>0.0</td>\n",
       "      <td>0.0</td>\n",
       "      <td>0.0</td>\n",
       "    </tr>\n",
       "  </tbody>\n",
       "</table>\n",
       "<p>10 rows × 81 columns</p>\n",
       "</div>"
      ],
      "text/plain": [
       "                    name        real_name                    full_name  \\\n",
       "163             Bird-Man       Henry Hawk                   Henry Hawk   \n",
       "893         Miss Martian    M'gann M'orzz                M'gann M'orzz   \n",
       "1374                Vili             Vili                  Vili Borson   \n",
       "816            Lodestone          Unknown                      Unknown   \n",
       "774     Lady Deathstrike     Yuriko Oyama                 Yuriko Oyama   \n",
       "957   Nightwing (Arkham)     Dick Grayson  Richard \"Dick\" John Grayson   \n",
       "250        Cameron Hicks              NaN                          NaN   \n",
       "530   Gorilla Grodd (CW)            Grodd                        Grodd   \n",
       "197         Black Spider     Eric Needham                          NaN   \n",
       "726      Kathryn Janeway  Kathryn Janeway           Kathryn M. Janeway   \n",
       "\n",
       "     overall_score                                       history_text  \\\n",
       "163              -   Henry Hawk was a criminal hand picked by the ...   \n",
       "893             12    The origin others know: there are two differ...   \n",
       "1374            14  Vili with his 2 brothers Odin and Ve, were par...   \n",
       "816              -  Phillipe Bazin was the crimelord whose operati...   \n",
       "774              6  Yuriko Oyama is the daughter of Kenji Oyama, a...   \n",
       "957              8  After the Christmas Eve Incident, Dick's paren...   \n",
       "250              5  Cameron Hicks has lived a hard life, the scars...   \n",
       "530             12  Grodd, also known as Gorilla Grodd, is a silve...   \n",
       "197              7  As a young man, Eric Needham became addicted t...   \n",
       "726              6  Janeway notable for being the first female of ...   \n",
       "\n",
       "                                            powers_text  intelligence_score  \\\n",
       "163   Bird-Man did have a degree of superhuman stren...                   0   \n",
       "893   Miss Martians abilities come from her Martian ...                  80   \n",
       "1374  Vili had an Asgardian body, he possessed super...                 100   \n",
       "816   Uses magnetism for levitation, force attacks, ...                   0   \n",
       "774     Lady Deathstrike is superhumanly strong and ...                  80   \n",
       "957   Master Detective: Grayson is a world class det...                  90   \n",
       "250                                                 NaN                  75   \n",
       "530    After Grodd was struck by the energy of the p...                  90   \n",
       "197                                                 NaN                  90   \n",
       "726                                                 NaN                  90   \n",
       "\n",
       "      strength_score  speed_score  durability_score  ...  has_flight  \\\n",
       "163                0            0                 0  ...         1.0   \n",
       "893               85           60               100  ...         1.0   \n",
       "1374              55           70                85  ...         0.0   \n",
       "816                0            0                 0  ...         NaN   \n",
       "774               30           40                85  ...         0.0   \n",
       "957               20           80                45  ...         0.0   \n",
       "250               10           25                30  ...         0.0   \n",
       "530               65           65                80  ...         0.0   \n",
       "197               10           35                35  ...         0.0   \n",
       "726               10           20                25  ...         0.0   \n",
       "\n",
       "      has_accelerated_healing has_weapons_master has_intelligence  \\\n",
       "163                       0.0                0.0              0.0   \n",
       "893                       1.0                0.0              0.0   \n",
       "1374                      1.0                1.0              1.0   \n",
       "816                       NaN                NaN              NaN   \n",
       "774                       1.0                0.0              1.0   \n",
       "957                       0.0                1.0              1.0   \n",
       "250                       0.0                0.0              0.0   \n",
       "530                       0.0                0.0              1.0   \n",
       "197                       0.0                0.0              0.0   \n",
       "726                       0.0                0.0              1.0   \n",
       "\n",
       "     has_reflexes has_super_speed has_durability has_stamina has_agility  \\\n",
       "163           0.0             0.0            0.0         0.0         0.0   \n",
       "893           0.0             1.0            0.0         1.0         0.0   \n",
       "1374          1.0             1.0            1.0         1.0         1.0   \n",
       "816           NaN             NaN            NaN         NaN         NaN   \n",
       "774           1.0             1.0            1.0         1.0         1.0   \n",
       "957           1.0             0.0            0.0         0.0         1.0   \n",
       "250           0.0             0.0            0.0         0.0         0.0   \n",
       "530           1.0             0.0            1.0         1.0         1.0   \n",
       "197           1.0             0.0            0.0         0.0         1.0   \n",
       "726           0.0             0.0            0.0         0.0         0.0   \n",
       "\n",
       "     has_super_strength  \n",
       "163                 1.0  \n",
       "893                 1.0  \n",
       "1374                1.0  \n",
       "816                 NaN  \n",
       "774                 1.0  \n",
       "957                 0.0  \n",
       "250                 0.0  \n",
       "530                 1.0  \n",
       "197                 0.0  \n",
       "726                 0.0  \n",
       "\n",
       "[10 rows x 81 columns]"
      ]
     },
     "execution_count": 666,
     "metadata": {},
     "output_type": "execute_result"
    }
   ],
   "source": [
    "df.sample(10)"
   ]
  },
  {
   "cell_type": "code",
   "execution_count": 667,
   "id": "bf843092",
   "metadata": {
    "ExecuteTime": {
     "end_time": "2022-06-27T14:35:51.752085Z",
     "start_time": "2022-06-27T14:35:51.734187Z"
    }
   },
   "outputs": [
    {
     "data": {
      "text/html": [
       "<div>\n",
       "<style scoped>\n",
       "    .dataframe tbody tr th:only-of-type {\n",
       "        vertical-align: middle;\n",
       "    }\n",
       "\n",
       "    .dataframe tbody tr th {\n",
       "        vertical-align: top;\n",
       "    }\n",
       "\n",
       "    .dataframe thead th {\n",
       "        text-align: right;\n",
       "    }\n",
       "</style>\n",
       "<table border=\"1\" class=\"dataframe\">\n",
       "  <thead>\n",
       "    <tr style=\"text-align: right;\">\n",
       "      <th></th>\n",
       "      <th>name</th>\n",
       "      <th>real_name</th>\n",
       "      <th>full_name</th>\n",
       "      <th>overall_score</th>\n",
       "      <th>history_text</th>\n",
       "      <th>powers_text</th>\n",
       "      <th>intelligence_score</th>\n",
       "      <th>strength_score</th>\n",
       "      <th>speed_score</th>\n",
       "      <th>durability_score</th>\n",
       "      <th>...</th>\n",
       "      <th>has_flight</th>\n",
       "      <th>has_accelerated_healing</th>\n",
       "      <th>has_weapons_master</th>\n",
       "      <th>has_intelligence</th>\n",
       "      <th>has_reflexes</th>\n",
       "      <th>has_super_speed</th>\n",
       "      <th>has_durability</th>\n",
       "      <th>has_stamina</th>\n",
       "      <th>has_agility</th>\n",
       "      <th>has_super_strength</th>\n",
       "    </tr>\n",
       "  </thead>\n",
       "  <tbody>\n",
       "    <tr>\n",
       "      <th>1445</th>\n",
       "      <td>Zatanna</td>\n",
       "      <td>Zatanna Zatara</td>\n",
       "      <td>Zatanna Zatara</td>\n",
       "      <td>10</td>\n",
       "      <td>Zatanna is the daughter of adventurer John Zat...</td>\n",
       "      <td>Zatanna is genetically talented with her magi...</td>\n",
       "      <td>90</td>\n",
       "      <td>10</td>\n",
       "      <td>25</td>\n",
       "      <td>30</td>\n",
       "      <td>...</td>\n",
       "      <td>0.0</td>\n",
       "      <td>0.0</td>\n",
       "      <td>0.0</td>\n",
       "      <td>0.0</td>\n",
       "      <td>0.0</td>\n",
       "      <td>0.0</td>\n",
       "      <td>0.0</td>\n",
       "      <td>0.0</td>\n",
       "      <td>0.0</td>\n",
       "      <td>0.0</td>\n",
       "    </tr>\n",
       "    <tr>\n",
       "      <th>1446</th>\n",
       "      <td>Zero</td>\n",
       "      <td>DWN-∞: Zero</td>\n",
       "      <td>DWN-∞: Zero</td>\n",
       "      <td>18</td>\n",
       "      <td>Zero was created by the late Dr. Albert Wily ...</td>\n",
       "      <td>NaN</td>\n",
       "      <td>80</td>\n",
       "      <td>100</td>\n",
       "      <td>100</td>\n",
       "      <td>100</td>\n",
       "      <td>...</td>\n",
       "      <td>0.0</td>\n",
       "      <td>1.0</td>\n",
       "      <td>1.0</td>\n",
       "      <td>1.0</td>\n",
       "      <td>1.0</td>\n",
       "      <td>1.0</td>\n",
       "      <td>1.0</td>\n",
       "      <td>1.0</td>\n",
       "      <td>1.0</td>\n",
       "      <td>1.0</td>\n",
       "    </tr>\n",
       "    <tr>\n",
       "      <th>1447</th>\n",
       "      <td>Zoom (New 52)</td>\n",
       "      <td>Hunter Zolomon</td>\n",
       "      <td>NaN</td>\n",
       "      <td>20</td>\n",
       "      <td>Hunter Zolomon is better known as Zoom, a spee...</td>\n",
       "      <td>After tricking Barry Allen and Wally West into...</td>\n",
       "      <td>95</td>\n",
       "      <td>50</td>\n",
       "      <td>100</td>\n",
       "      <td>75</td>\n",
       "      <td>...</td>\n",
       "      <td>0.0</td>\n",
       "      <td>1.0</td>\n",
       "      <td>0.0</td>\n",
       "      <td>1.0</td>\n",
       "      <td>1.0</td>\n",
       "      <td>1.0</td>\n",
       "      <td>1.0</td>\n",
       "      <td>1.0</td>\n",
       "      <td>1.0</td>\n",
       "      <td>1.0</td>\n",
       "    </tr>\n",
       "    <tr>\n",
       "      <th>1448</th>\n",
       "      <td>Zoom</td>\n",
       "      <td>Hunter Zolomon</td>\n",
       "      <td>Hunter Zolomon</td>\n",
       "      <td>9</td>\n",
       "      <td>Hunter Zolomon had a troubled relationship wi...</td>\n",
       "      <td>Zoom is able to alter time, to make himself ev...</td>\n",
       "      <td>75</td>\n",
       "      <td>10</td>\n",
       "      <td>100</td>\n",
       "      <td>30</td>\n",
       "      <td>...</td>\n",
       "      <td>0.0</td>\n",
       "      <td>0.0</td>\n",
       "      <td>0.0</td>\n",
       "      <td>0.0</td>\n",
       "      <td>0.0</td>\n",
       "      <td>1.0</td>\n",
       "      <td>0.0</td>\n",
       "      <td>0.0</td>\n",
       "      <td>0.0</td>\n",
       "      <td>0.0</td>\n",
       "    </tr>\n",
       "    <tr>\n",
       "      <th>1449</th>\n",
       "      <td>Zzzax</td>\n",
       "      <td>NaN</td>\n",
       "      <td>NaN</td>\n",
       "      <td>5</td>\n",
       "      <td>Zzzax was the product of an accident that occu...</td>\n",
       "      <td>NaN</td>\n",
       "      <td>45</td>\n",
       "      <td>80</td>\n",
       "      <td>75</td>\n",
       "      <td>95</td>\n",
       "      <td>...</td>\n",
       "      <td>1.0</td>\n",
       "      <td>0.0</td>\n",
       "      <td>0.0</td>\n",
       "      <td>0.0</td>\n",
       "      <td>0.0</td>\n",
       "      <td>1.0</td>\n",
       "      <td>0.0</td>\n",
       "      <td>0.0</td>\n",
       "      <td>1.0</td>\n",
       "      <td>1.0</td>\n",
       "    </tr>\n",
       "  </tbody>\n",
       "</table>\n",
       "<p>5 rows × 81 columns</p>\n",
       "</div>"
      ],
      "text/plain": [
       "               name       real_name       full_name overall_score  \\\n",
       "1445        Zatanna  Zatanna Zatara  Zatanna Zatara            10   \n",
       "1446           Zero     DWN-∞: Zero     DWN-∞: Zero            18   \n",
       "1447  Zoom (New 52)  Hunter Zolomon             NaN            20   \n",
       "1448           Zoom  Hunter Zolomon  Hunter Zolomon             9   \n",
       "1449          Zzzax             NaN             NaN             5   \n",
       "\n",
       "                                           history_text  \\\n",
       "1445  Zatanna is the daughter of adventurer John Zat...   \n",
       "1446   Zero was created by the late Dr. Albert Wily ...   \n",
       "1447  Hunter Zolomon is better known as Zoom, a spee...   \n",
       "1448   Hunter Zolomon had a troubled relationship wi...   \n",
       "1449  Zzzax was the product of an accident that occu...   \n",
       "\n",
       "                                            powers_text  intelligence_score  \\\n",
       "1445   Zatanna is genetically talented with her magi...                  90   \n",
       "1446                                                NaN                  80   \n",
       "1447  After tricking Barry Allen and Wally West into...                  95   \n",
       "1448  Zoom is able to alter time, to make himself ev...                  75   \n",
       "1449                                                NaN                  45   \n",
       "\n",
       "      strength_score  speed_score  durability_score  ...  has_flight  \\\n",
       "1445              10           25                30  ...         0.0   \n",
       "1446             100          100               100  ...         0.0   \n",
       "1447              50          100                75  ...         0.0   \n",
       "1448              10          100                30  ...         0.0   \n",
       "1449              80           75                95  ...         1.0   \n",
       "\n",
       "      has_accelerated_healing has_weapons_master has_intelligence  \\\n",
       "1445                      0.0                0.0              0.0   \n",
       "1446                      1.0                1.0              1.0   \n",
       "1447                      1.0                0.0              1.0   \n",
       "1448                      0.0                0.0              0.0   \n",
       "1449                      0.0                0.0              0.0   \n",
       "\n",
       "     has_reflexes has_super_speed has_durability has_stamina has_agility  \\\n",
       "1445          0.0             0.0            0.0         0.0         0.0   \n",
       "1446          1.0             1.0            1.0         1.0         1.0   \n",
       "1447          1.0             1.0            1.0         1.0         1.0   \n",
       "1448          0.0             1.0            0.0         0.0         0.0   \n",
       "1449          0.0             1.0            0.0         0.0         1.0   \n",
       "\n",
       "     has_super_strength  \n",
       "1445                0.0  \n",
       "1446                1.0  \n",
       "1447                1.0  \n",
       "1448                0.0  \n",
       "1449                1.0  \n",
       "\n",
       "[5 rows x 81 columns]"
      ]
     },
     "execution_count": 667,
     "metadata": {},
     "output_type": "execute_result"
    }
   ],
   "source": [
    "df.tail(5)"
   ]
  },
  {
   "cell_type": "markdown",
   "id": "bc2e18f3",
   "metadata": {},
   "source": [
    "## 2.2 Structure"
   ]
  },
  {
   "cell_type": "code",
   "execution_count": 668,
   "id": "97189897",
   "metadata": {
    "ExecuteTime": {
     "end_time": "2022-06-27T14:35:51.758377Z",
     "start_time": "2022-06-27T14:35:51.753964Z"
    }
   },
   "outputs": [
    {
     "data": {
      "text/plain": [
       "(1450, 81)"
      ]
     },
     "execution_count": 668,
     "metadata": {},
     "output_type": "execute_result"
    }
   ],
   "source": [
    "df.shape"
   ]
  },
  {
   "cell_type": "code",
   "execution_count": 669,
   "id": "53f14e14",
   "metadata": {
    "ExecuteTime": {
     "end_time": "2022-06-27T14:35:51.765804Z",
     "start_time": "2022-06-27T14:35:51.760601Z"
    }
   },
   "outputs": [
    {
     "data": {
      "text/plain": [
       "name                   object\n",
       "real_name              object\n",
       "full_name              object\n",
       "overall_score          object\n",
       "history_text           object\n",
       "                       ...   \n",
       "has_super_speed       float64\n",
       "has_durability        float64\n",
       "has_stamina           float64\n",
       "has_agility           float64\n",
       "has_super_strength    float64\n",
       "Length: 81, dtype: object"
      ]
     },
     "execution_count": 669,
     "metadata": {},
     "output_type": "execute_result"
    }
   ],
   "source": [
    "df.dtypes"
   ]
  },
  {
   "cell_type": "code",
   "execution_count": 670,
   "id": "a3a023b6",
   "metadata": {
    "ExecuteTime": {
     "end_time": "2022-06-27T14:35:51.797749Z",
     "start_time": "2022-06-27T14:35:51.770065Z"
    }
   },
   "outputs": [
    {
     "name": "stdout",
     "output_type": "stream",
     "text": [
      "<class 'pandas.core.frame.DataFrame'>\n",
      "RangeIndex: 1450 entries, 0 to 1449\n",
      "Data columns (total 81 columns):\n",
      " #   Column                            Non-Null Count  Dtype  \n",
      "---  ------                            --------------  -----  \n",
      " 0   name                              1448 non-null   object \n",
      " 1   real_name                         1301 non-null   object \n",
      " 2   full_name                         956 non-null    object \n",
      " 3   overall_score                     1450 non-null   object \n",
      " 4   history_text                      1360 non-null   object \n",
      " 5   powers_text                       1086 non-null   object \n",
      " 6   intelligence_score                1450 non-null   int64  \n",
      " 7   strength_score                    1450 non-null   int64  \n",
      " 8   speed_score                       1450 non-null   int64  \n",
      " 9   durability_score                  1450 non-null   int64  \n",
      " 10  power_score                       1450 non-null   int64  \n",
      " 11  combat_score                      1450 non-null   int64  \n",
      " 12  superpowers                       1450 non-null   object \n",
      " 13  alter_egos                        1450 non-null   object \n",
      " 14  aliases                           1450 non-null   object \n",
      " 15  place_of_birth                    788 non-null    object \n",
      " 16  first_appearance                  1247 non-null   object \n",
      " 17  creator                           1311 non-null   object \n",
      " 18  alignment                         1368 non-null   object \n",
      " 19  occupation                        1014 non-null   object \n",
      " 20  base                              878 non-null    object \n",
      " 21  teams                             1450 non-null   object \n",
      " 22  relatives                         901 non-null    object \n",
      " 23  gender                            1305 non-null   object \n",
      " 24  type_race                         1043 non-null   object \n",
      " 25  height                            1448 non-null   object \n",
      " 26  weight                            1448 non-null   object \n",
      " 27  eye_color                         1186 non-null   object \n",
      " 28  hair_color                        1202 non-null   object \n",
      " 29  skin_color                        173 non-null    object \n",
      " 30  img                               1363 non-null   object \n",
      " 31  has_electrokinesis                1383 non-null   float64\n",
      " 32  has_energy_constructs             1383 non-null   float64\n",
      " 33  has_mind_control_resistance       1383 non-null   float64\n",
      " 34  has_matter_manipulation           1383 non-null   float64\n",
      " 35  has_telepathy_resistance          1383 non-null   float64\n",
      " 36  has_mind_control                  1383 non-null   float64\n",
      " 37  has_enhanced_hearing              1383 non-null   float64\n",
      " 38  has_dimensional_travel            1383 non-null   float64\n",
      " 39  has_element_control               1383 non-null   float64\n",
      " 40  has_size_changing                 1383 non-null   float64\n",
      " 41  has_fire_resistance               1383 non-null   float64\n",
      " 42  has_fire_control                  1383 non-null   float64\n",
      " 43  has_dexterity                     1383 non-null   float64\n",
      " 44  has_reality_warping               1383 non-null   float64\n",
      " 45  has_illusions                     1383 non-null   float64\n",
      " 46  has_energy_beams                  1383 non-null   float64\n",
      " 47  has_peak_human_condition          1383 non-null   float64\n",
      " 48  has_shapeshifting                 1383 non-null   float64\n",
      " 49  has_heat_resistance               1383 non-null   float64\n",
      " 50  has_jump                          1383 non-null   float64\n",
      " 51  has_self-sustenance               1383 non-null   float64\n",
      " 52  has_energy_absorption             1383 non-null   float64\n",
      " 53  has_cold_resistance               1383 non-null   float64\n",
      " 54  has_magic                         1383 non-null   float64\n",
      " 55  has_telekinesis                   1383 non-null   float64\n",
      " 56  has_toxin_and_disease_resistance  1383 non-null   float64\n",
      " 57  has_telepathy                     1383 non-null   float64\n",
      " 58  has_regeneration                  1383 non-null   float64\n",
      " 59  has_immortality                   1383 non-null   float64\n",
      " 60  has_teleportation                 1383 non-null   float64\n",
      " 61  has_force_fields                  1383 non-null   float64\n",
      " 62  has_energy_manipulation           1383 non-null   float64\n",
      " 63  has_endurance                     1383 non-null   float64\n",
      " 64  has_longevity                     1383 non-null   float64\n",
      " 65  has_weapon-based_powers           1383 non-null   float64\n",
      " 66  has_energy_blasts                 1383 non-null   float64\n",
      " 67  has_enhanced_senses               1383 non-null   float64\n",
      " 68  has_invulnerability               1383 non-null   float64\n",
      " 69  has_stealth                       1383 non-null   float64\n",
      " 70  has_marksmanship                  1383 non-null   float64\n",
      " 71  has_flight                        1383 non-null   float64\n",
      " 72  has_accelerated_healing           1383 non-null   float64\n",
      " 73  has_weapons_master                1383 non-null   float64\n",
      " 74  has_intelligence                  1383 non-null   float64\n",
      " 75  has_reflexes                      1383 non-null   float64\n",
      " 76  has_super_speed                   1383 non-null   float64\n",
      " 77  has_durability                    1383 non-null   float64\n",
      " 78  has_stamina                       1383 non-null   float64\n",
      " 79  has_agility                       1383 non-null   float64\n",
      " 80  has_super_strength                1383 non-null   float64\n",
      "dtypes: float64(50), int64(6), object(25)\n",
      "memory usage: 917.7+ KB\n"
     ]
    }
   ],
   "source": [
    "df.info()"
   ]
  },
  {
   "cell_type": "code",
   "execution_count": 671,
   "id": "bc1d1712",
   "metadata": {
    "ExecuteTime": {
     "end_time": "2022-06-27T14:35:51.805932Z",
     "start_time": "2022-06-27T14:35:51.799866Z"
    }
   },
   "outputs": [
    {
     "data": {
      "text/plain": [
       "float64    50\n",
       "object     25\n",
       "int64       6\n",
       "dtype: int64"
      ]
     },
     "execution_count": 671,
     "metadata": {},
     "output_type": "execute_result"
    }
   ],
   "source": [
    "df.dtypes.value_counts()"
   ]
  },
  {
   "cell_type": "code",
   "execution_count": 672,
   "id": "35021014",
   "metadata": {
    "ExecuteTime": {
     "end_time": "2022-06-27T14:35:51.829831Z",
     "start_time": "2022-06-27T14:35:51.807975Z"
    }
   },
   "outputs": [
    {
     "data": {
      "text/plain": [
       "name                  1448\n",
       "real_name             1068\n",
       "full_name              840\n",
       "overall_score           93\n",
       "history_text          1349\n",
       "                      ... \n",
       "has_super_speed          2\n",
       "has_durability           2\n",
       "has_stamina              2\n",
       "has_agility              2\n",
       "has_super_strength       2\n",
       "Length: 81, dtype: int64"
      ]
     },
     "execution_count": 672,
     "metadata": {},
     "output_type": "execute_result"
    }
   ],
   "source": [
    "tmp = df.nunique()\n",
    "tmp"
   ]
  },
  {
   "cell_type": "code",
   "execution_count": 673,
   "id": "9af21b01",
   "metadata": {
    "ExecuteTime": {
     "end_time": "2022-06-27T14:35:51.836339Z",
     "start_time": "2022-06-27T14:35:51.831383Z"
    },
    "scrolled": true
   },
   "outputs": [
    {
     "data": {
      "text/plain": [
       "alignment                           3\n",
       "gender                              2\n",
       "has_electrokinesis                  2\n",
       "has_energy_constructs               2\n",
       "has_mind_control_resistance         2\n",
       "has_matter_manipulation             2\n",
       "has_telepathy_resistance            2\n",
       "has_mind_control                    2\n",
       "has_enhanced_hearing                2\n",
       "has_dimensional_travel              2\n",
       "has_element_control                 2\n",
       "has_size_changing                   2\n",
       "has_fire_resistance                 2\n",
       "has_fire_control                    2\n",
       "has_dexterity                       2\n",
       "has_reality_warping                 2\n",
       "has_illusions                       2\n",
       "has_energy_beams                    2\n",
       "has_peak_human_condition            2\n",
       "has_shapeshifting                   2\n",
       "has_heat_resistance                 2\n",
       "has_jump                            2\n",
       "has_self-sustenance                 2\n",
       "has_energy_absorption               2\n",
       "has_cold_resistance                 2\n",
       "has_magic                           2\n",
       "has_telekinesis                     2\n",
       "has_toxin_and_disease_resistance    2\n",
       "has_telepathy                       2\n",
       "has_regeneration                    2\n",
       "has_immortality                     2\n",
       "has_teleportation                   2\n",
       "has_force_fields                    2\n",
       "has_energy_manipulation             2\n",
       "has_endurance                       2\n",
       "has_longevity                       2\n",
       "has_weapon-based_powers             2\n",
       "has_energy_blasts                   2\n",
       "has_enhanced_senses                 2\n",
       "has_invulnerability                 2\n",
       "has_stealth                         2\n",
       "has_marksmanship                    2\n",
       "has_flight                          2\n",
       "has_accelerated_healing             2\n",
       "has_weapons_master                  2\n",
       "has_intelligence                    2\n",
       "has_reflexes                        2\n",
       "has_super_speed                     2\n",
       "has_durability                      2\n",
       "has_stamina                         2\n",
       "has_agility                         2\n",
       "has_super_strength                  2\n",
       "dtype: int64"
      ]
     },
     "execution_count": 673,
     "metadata": {},
     "output_type": "execute_result"
    }
   ],
   "source": [
    "tmp[tmp <10]"
   ]
  },
  {
   "cell_type": "code",
   "execution_count": 674,
   "id": "cd926206",
   "metadata": {
    "ExecuteTime": {
     "end_time": "2022-06-27T14:35:51.842520Z",
     "start_time": "2022-06-27T14:35:51.838122Z"
    }
   },
   "outputs": [
    {
     "data": {
      "text/plain": [
       "name                1448\n",
       "real_name           1068\n",
       "history_text        1349\n",
       "powers_text         1061\n",
       "superpowers         1315\n",
       "first_appearance    1092\n",
       "img                 1363\n",
       "dtype: int64"
      ]
     },
     "execution_count": 674,
     "metadata": {},
     "output_type": "execute_result"
    }
   ],
   "source": [
    "tmp[tmp>1000]"
   ]
  },
  {
   "cell_type": "markdown",
   "id": "f40250be",
   "metadata": {
    "heading_collapsed": true
   },
   "source": [
    "## 2.3 NaN and duplicated"
   ]
  },
  {
   "cell_type": "code",
   "execution_count": 675,
   "id": "2f56c52c",
   "metadata": {
    "ExecuteTime": {
     "end_time": "2022-06-27T14:35:51.854287Z",
     "start_time": "2022-06-27T14:35:51.843994Z"
    },
    "hidden": true
   },
   "outputs": [
    {
     "data": {
      "text/plain": [
       "aliases               0.000000\n",
       "overall_score         0.000000\n",
       "teams                 0.000000\n",
       "alter_egos            0.000000\n",
       "intelligence_score    0.000000\n",
       "                        ...   \n",
       "full_name             0.340690\n",
       "relatives             0.378621\n",
       "base                  0.394483\n",
       "place_of_birth        0.456552\n",
       "skin_color            0.880690\n",
       "Length: 81, dtype: float64"
      ]
     },
     "execution_count": 675,
     "metadata": {},
     "output_type": "execute_result"
    }
   ],
   "source": [
    "df.isna().mean().sort_values()"
   ]
  },
  {
   "cell_type": "code",
   "execution_count": 676,
   "id": "64a147c1",
   "metadata": {
    "ExecuteTime": {
     "end_time": "2022-06-27T14:35:52.567417Z",
     "start_time": "2022-06-27T14:35:51.855975Z"
    },
    "hidden": true
   },
   "outputs": [
    {
     "data": {
      "text/plain": [
       "<AxesSubplot:>"
      ]
     },
     "execution_count": 676,
     "metadata": {},
     "output_type": "execute_result"
    },
    {
     "data": {
      "image/png": "[encoded data removed]",
      "text/plain": [
       "<Figure size 1152x432 with 2 Axes>"
      ]
     },
     "metadata": {
      "needs_background": "light"
     },
     "output_type": "display_data"
    }
   ],
   "source": [
    "tmp = df.isna().mean()\n",
    "\n",
    "fig, ax = plt.subplots(1,1, figsize=(16, 6))\n",
    "sns.heatmap(df.isna())\n"
   ]
  },
  {
   "cell_type": "code",
   "execution_count": 677,
   "id": "659bb21b",
   "metadata": {
    "ExecuteTime": {
     "end_time": "2022-06-27T14:35:52.584235Z",
     "start_time": "2022-06-27T14:35:52.568976Z"
    },
    "hidden": true
   },
   "outputs": [
    {
     "data": {
      "text/plain": [
       "0"
      ]
     },
     "execution_count": 677,
     "metadata": {},
     "output_type": "execute_result"
    }
   ],
   "source": [
    "df.duplicated().sum()"
   ]
  },
  {
   "cell_type": "markdown",
   "id": "4df14697",
   "metadata": {
    "heading_collapsed": true
   },
   "source": [
    "## 2.4 Data inspection"
   ]
  },
  {
   "cell_type": "code",
   "execution_count": 678,
   "id": "ffdb895f",
   "metadata": {
    "ExecuteTime": {
     "end_time": "2022-06-27T14:35:52.675939Z",
     "start_time": "2022-06-27T14:35:52.586028Z"
    },
    "hidden": true
   },
   "outputs": [
    {
     "data": {
      "text/html": [
       "<div>\n",
       "<style scoped>\n",
       "    .dataframe tbody tr th:only-of-type {\n",
       "        vertical-align: middle;\n",
       "    }\n",
       "\n",
       "    .dataframe tbody tr th {\n",
       "        vertical-align: top;\n",
       "    }\n",
       "\n",
       "    .dataframe thead th {\n",
       "        text-align: right;\n",
       "    }\n",
       "</style>\n",
       "<table border=\"1\" class=\"dataframe\">\n",
       "  <thead>\n",
       "    <tr style=\"text-align: right;\">\n",
       "      <th></th>\n",
       "      <th>intelligence_score</th>\n",
       "      <th>strength_score</th>\n",
       "      <th>speed_score</th>\n",
       "      <th>durability_score</th>\n",
       "      <th>power_score</th>\n",
       "      <th>combat_score</th>\n",
       "      <th>has_electrokinesis</th>\n",
       "      <th>has_energy_constructs</th>\n",
       "      <th>has_mind_control_resistance</th>\n",
       "      <th>has_matter_manipulation</th>\n",
       "      <th>...</th>\n",
       "      <th>has_flight</th>\n",
       "      <th>has_accelerated_healing</th>\n",
       "      <th>has_weapons_master</th>\n",
       "      <th>has_intelligence</th>\n",
       "      <th>has_reflexes</th>\n",
       "      <th>has_super_speed</th>\n",
       "      <th>has_durability</th>\n",
       "      <th>has_stamina</th>\n",
       "      <th>has_agility</th>\n",
       "      <th>has_super_strength</th>\n",
       "    </tr>\n",
       "  </thead>\n",
       "  <tbody>\n",
       "    <tr>\n",
       "      <th>count</th>\n",
       "      <td>1450.000000</td>\n",
       "      <td>1450.000000</td>\n",
       "      <td>1450.000000</td>\n",
       "      <td>1450.000000</td>\n",
       "      <td>1450.000000</td>\n",
       "      <td>1450.000000</td>\n",
       "      <td>1383.000000</td>\n",
       "      <td>1383.000000</td>\n",
       "      <td>1383.000000</td>\n",
       "      <td>1383.000000</td>\n",
       "      <td>...</td>\n",
       "      <td>1383.000000</td>\n",
       "      <td>1383.000000</td>\n",
       "      <td>1383.000000</td>\n",
       "      <td>1383.000000</td>\n",
       "      <td>1383.000000</td>\n",
       "      <td>1383.000000</td>\n",
       "      <td>1383.000000</td>\n",
       "      <td>1383.000000</td>\n",
       "      <td>1383.000000</td>\n",
       "      <td>1383.000000</td>\n",
       "    </tr>\n",
       "    <tr>\n",
       "      <th>mean</th>\n",
       "      <td>79.103448</td>\n",
       "      <td>39.458621</td>\n",
       "      <td>46.389655</td>\n",
       "      <td>56.193103</td>\n",
       "      <td>66.913793</td>\n",
       "      <td>68.175862</td>\n",
       "      <td>0.090383</td>\n",
       "      <td>0.076645</td>\n",
       "      <td>0.075922</td>\n",
       "      <td>0.050615</td>\n",
       "      <td>...</td>\n",
       "      <td>0.266811</td>\n",
       "      <td>0.308026</td>\n",
       "      <td>0.409978</td>\n",
       "      <td>0.433116</td>\n",
       "      <td>0.428778</td>\n",
       "      <td>0.386840</td>\n",
       "      <td>0.511931</td>\n",
       "      <td>0.532899</td>\n",
       "      <td>0.562545</td>\n",
       "      <td>0.528561</td>\n",
       "    </tr>\n",
       "    <tr>\n",
       "      <th>std</th>\n",
       "      <td>25.048393</td>\n",
       "      <td>34.385566</td>\n",
       "      <td>29.205902</td>\n",
       "      <td>31.647711</td>\n",
       "      <td>33.225127</td>\n",
       "      <td>29.540420</td>\n",
       "      <td>0.286834</td>\n",
       "      <td>0.266124</td>\n",
       "      <td>0.264969</td>\n",
       "      <td>0.219289</td>\n",
       "      <td>...</td>\n",
       "      <td>0.442453</td>\n",
       "      <td>0.461844</td>\n",
       "      <td>0.492007</td>\n",
       "      <td>0.495686</td>\n",
       "      <td>0.495080</td>\n",
       "      <td>0.487203</td>\n",
       "      <td>0.500038</td>\n",
       "      <td>0.499097</td>\n",
       "      <td>0.496252</td>\n",
       "      <td>0.499364</td>\n",
       "    </tr>\n",
       "    <tr>\n",
       "      <th>min</th>\n",
       "      <td>0.000000</td>\n",
       "      <td>0.000000</td>\n",
       "      <td>0.000000</td>\n",
       "      <td>0.000000</td>\n",
       "      <td>0.000000</td>\n",
       "      <td>0.000000</td>\n",
       "      <td>0.000000</td>\n",
       "      <td>0.000000</td>\n",
       "      <td>0.000000</td>\n",
       "      <td>0.000000</td>\n",
       "      <td>...</td>\n",
       "      <td>0.000000</td>\n",
       "      <td>0.000000</td>\n",
       "      <td>0.000000</td>\n",
       "      <td>0.000000</td>\n",
       "      <td>0.000000</td>\n",
       "      <td>0.000000</td>\n",
       "      <td>0.000000</td>\n",
       "      <td>0.000000</td>\n",
       "      <td>0.000000</td>\n",
       "      <td>0.000000</td>\n",
       "    </tr>\n",
       "    <tr>\n",
       "      <th>25%</th>\n",
       "      <td>75.000000</td>\n",
       "      <td>10.000000</td>\n",
       "      <td>25.000000</td>\n",
       "      <td>30.000000</td>\n",
       "      <td>40.000000</td>\n",
       "      <td>55.000000</td>\n",
       "      <td>0.000000</td>\n",
       "      <td>0.000000</td>\n",
       "      <td>0.000000</td>\n",
       "      <td>0.000000</td>\n",
       "      <td>...</td>\n",
       "      <td>0.000000</td>\n",
       "      <td>0.000000</td>\n",
       "      <td>0.000000</td>\n",
       "      <td>0.000000</td>\n",
       "      <td>0.000000</td>\n",
       "      <td>0.000000</td>\n",
       "      <td>0.000000</td>\n",
       "      <td>0.000000</td>\n",
       "      <td>0.000000</td>\n",
       "      <td>0.000000</td>\n",
       "    </tr>\n",
       "    <tr>\n",
       "      <th>50%</th>\n",
       "      <td>85.000000</td>\n",
       "      <td>30.000000</td>\n",
       "      <td>40.000000</td>\n",
       "      <td>55.000000</td>\n",
       "      <td>72.500000</td>\n",
       "      <td>75.000000</td>\n",
       "      <td>0.000000</td>\n",
       "      <td>0.000000</td>\n",
       "      <td>0.000000</td>\n",
       "      <td>0.000000</td>\n",
       "      <td>...</td>\n",
       "      <td>0.000000</td>\n",
       "      <td>0.000000</td>\n",
       "      <td>0.000000</td>\n",
       "      <td>0.000000</td>\n",
       "      <td>0.000000</td>\n",
       "      <td>0.000000</td>\n",
       "      <td>1.000000</td>\n",
       "      <td>1.000000</td>\n",
       "      <td>1.000000</td>\n",
       "      <td>1.000000</td>\n",
       "    </tr>\n",
       "    <tr>\n",
       "      <th>75%</th>\n",
       "      <td>95.000000</td>\n",
       "      <td>65.000000</td>\n",
       "      <td>65.000000</td>\n",
       "      <td>85.000000</td>\n",
       "      <td>100.000000</td>\n",
       "      <td>90.000000</td>\n",
       "      <td>0.000000</td>\n",
       "      <td>0.000000</td>\n",
       "      <td>0.000000</td>\n",
       "      <td>0.000000</td>\n",
       "      <td>...</td>\n",
       "      <td>1.000000</td>\n",
       "      <td>1.000000</td>\n",
       "      <td>1.000000</td>\n",
       "      <td>1.000000</td>\n",
       "      <td>1.000000</td>\n",
       "      <td>1.000000</td>\n",
       "      <td>1.000000</td>\n",
       "      <td>1.000000</td>\n",
       "      <td>1.000000</td>\n",
       "      <td>1.000000</td>\n",
       "    </tr>\n",
       "    <tr>\n",
       "      <th>max</th>\n",
       "      <td>100.000000</td>\n",
       "      <td>100.000000</td>\n",
       "      <td>100.000000</td>\n",
       "      <td>100.000000</td>\n",
       "      <td>100.000000</td>\n",
       "      <td>100.000000</td>\n",
       "      <td>1.000000</td>\n",
       "      <td>1.000000</td>\n",
       "      <td>1.000000</td>\n",
       "      <td>1.000000</td>\n",
       "      <td>...</td>\n",
       "      <td>1.000000</td>\n",
       "      <td>1.000000</td>\n",
       "      <td>1.000000</td>\n",
       "      <td>1.000000</td>\n",
       "      <td>1.000000</td>\n",
       "      <td>1.000000</td>\n",
       "      <td>1.000000</td>\n",
       "      <td>1.000000</td>\n",
       "      <td>1.000000</td>\n",
       "      <td>1.000000</td>\n",
       "    </tr>\n",
       "  </tbody>\n",
       "</table>\n",
       "<p>8 rows × 56 columns</p>\n",
       "</div>"
      ],
      "text/plain": [
       "       intelligence_score  strength_score  speed_score  durability_score  \\\n",
       "count         1450.000000     1450.000000  1450.000000       1450.000000   \n",
       "mean            79.103448       39.458621    46.389655         56.193103   \n",
       "std             25.048393       34.385566    29.205902         31.647711   \n",
       "min              0.000000        0.000000     0.000000          0.000000   \n",
       "25%             75.000000       10.000000    25.000000         30.000000   \n",
       "50%             85.000000       30.000000    40.000000         55.000000   \n",
       "75%             95.000000       65.000000    65.000000         85.000000   \n",
       "max            100.000000      100.000000   100.000000        100.000000   \n",
       "\n",
       "       power_score  combat_score  has_electrokinesis  has_energy_constructs  \\\n",
       "count  1450.000000   1450.000000         1383.000000            1383.000000   \n",
       "mean     66.913793     68.175862            0.090383               0.076645   \n",
       "std      33.225127     29.540420            0.286834               0.266124   \n",
       "min       0.000000      0.000000            0.000000               0.000000   \n",
       "25%      40.000000     55.000000            0.000000               0.000000   \n",
       "50%      72.500000     75.000000            0.000000               0.000000   \n",
       "75%     100.000000     90.000000            0.000000               0.000000   \n",
       "max     100.000000    100.000000            1.000000               1.000000   \n",
       "\n",
       "       has_mind_control_resistance  has_matter_manipulation  ...   has_flight  \\\n",
       "count                  1383.000000              1383.000000  ...  1383.000000   \n",
       "mean                      0.075922                 0.050615  ...     0.266811   \n",
       "std                       0.264969                 0.219289  ...     0.442453   \n",
       "min                       0.000000                 0.000000  ...     0.000000   \n",
       "25%                       0.000000                 0.000000  ...     0.000000   \n",
       "50%                       0.000000                 0.000000  ...     0.000000   \n",
       "75%                       0.000000                 0.000000  ...     1.000000   \n",
       "max                       1.000000                 1.000000  ...     1.000000   \n",
       "\n",
       "       has_accelerated_healing  has_weapons_master  has_intelligence  \\\n",
       "count              1383.000000         1383.000000       1383.000000   \n",
       "mean                  0.308026            0.409978          0.433116   \n",
       "std                   0.461844            0.492007          0.495686   \n",
       "min                   0.000000            0.000000          0.000000   \n",
       "25%                   0.000000            0.000000          0.000000   \n",
       "50%                   0.000000            0.000000          0.000000   \n",
       "75%                   1.000000            1.000000          1.000000   \n",
       "max                   1.000000            1.000000          1.000000   \n",
       "\n",
       "       has_reflexes  has_super_speed  has_durability  has_stamina  \\\n",
       "count   1383.000000      1383.000000     1383.000000  1383.000000   \n",
       "mean       0.428778         0.386840        0.511931     0.532899   \n",
       "std        0.495080         0.487203        0.500038     0.499097   \n",
       "min        0.000000         0.000000        0.000000     0.000000   \n",
       "25%        0.000000         0.000000        0.000000     0.000000   \n",
       "50%        0.000000         0.000000        1.000000     1.000000   \n",
       "75%        1.000000         1.000000        1.000000     1.000000   \n",
       "max        1.000000         1.000000        1.000000     1.000000   \n",
       "\n",
       "       has_agility  has_super_strength  \n",
       "count  1383.000000         1383.000000  \n",
       "mean      0.562545            0.528561  \n",
       "std       0.496252            0.499364  \n",
       "min       0.000000            0.000000  \n",
       "25%       0.000000            0.000000  \n",
       "50%       1.000000            1.000000  \n",
       "75%       1.000000            1.000000  \n",
       "max       1.000000            1.000000  \n",
       "\n",
       "[8 rows x 56 columns]"
      ]
     },
     "execution_count": 678,
     "metadata": {},
     "output_type": "execute_result"
    }
   ],
   "source": [
    "df.describe(include=np.number)"
   ]
  },
  {
   "cell_type": "code",
   "execution_count": 679,
   "id": "a1df516e",
   "metadata": {
    "ExecuteTime": {
     "end_time": "2022-06-27T14:35:52.720054Z",
     "start_time": "2022-06-27T14:35:52.677694Z"
    },
    "hidden": true
   },
   "outputs": [
    {
     "name": "stderr",
     "output_type": "stream",
     "text": [
      "/tmp/ipykernel_26967/3211851552.py:1: DeprecationWarning:\n",
      "\n",
      "`np.object` is a deprecated alias for the builtin `object`. To silence this warning, use `object` by itself. Doing this will not modify any behavior and is safe. \n",
      "Deprecated in NumPy 1.20; for more details and guidance: https://numpy.org/devdocs/release/1.20.0-notes.html#deprecations\n",
      "\n"
     ]
    },
    {
     "data": {
      "text/html": [
       "<div>\n",
       "<style scoped>\n",
       "    .dataframe tbody tr th:only-of-type {\n",
       "        vertical-align: middle;\n",
       "    }\n",
       "\n",
       "    .dataframe tbody tr th {\n",
       "        vertical-align: top;\n",
       "    }\n",
       "\n",
       "    .dataframe thead th {\n",
       "        text-align: right;\n",
       "    }\n",
       "</style>\n",
       "<table border=\"1\" class=\"dataframe\">\n",
       "  <thead>\n",
       "    <tr style=\"text-align: right;\">\n",
       "      <th></th>\n",
       "      <th>name</th>\n",
       "      <th>real_name</th>\n",
       "      <th>full_name</th>\n",
       "      <th>overall_score</th>\n",
       "      <th>history_text</th>\n",
       "      <th>powers_text</th>\n",
       "      <th>superpowers</th>\n",
       "      <th>alter_egos</th>\n",
       "      <th>aliases</th>\n",
       "      <th>place_of_birth</th>\n",
       "      <th>...</th>\n",
       "      <th>teams</th>\n",
       "      <th>relatives</th>\n",
       "      <th>gender</th>\n",
       "      <th>type_race</th>\n",
       "      <th>height</th>\n",
       "      <th>weight</th>\n",
       "      <th>eye_color</th>\n",
       "      <th>hair_color</th>\n",
       "      <th>skin_color</th>\n",
       "      <th>img</th>\n",
       "    </tr>\n",
       "  </thead>\n",
       "  <tbody>\n",
       "    <tr>\n",
       "      <th>count</th>\n",
       "      <td>1448</td>\n",
       "      <td>1301</td>\n",
       "      <td>956</td>\n",
       "      <td>1450</td>\n",
       "      <td>1360</td>\n",
       "      <td>1086</td>\n",
       "      <td>1450</td>\n",
       "      <td>1450</td>\n",
       "      <td>1450</td>\n",
       "      <td>788</td>\n",
       "      <td>...</td>\n",
       "      <td>1450</td>\n",
       "      <td>901</td>\n",
       "      <td>1305</td>\n",
       "      <td>1043</td>\n",
       "      <td>1448</td>\n",
       "      <td>1448</td>\n",
       "      <td>1186</td>\n",
       "      <td>1202</td>\n",
       "      <td>173</td>\n",
       "      <td>1363</td>\n",
       "    </tr>\n",
       "    <tr>\n",
       "      <th>unique</th>\n",
       "      <td>1448</td>\n",
       "      <td>1068</td>\n",
       "      <td>840</td>\n",
       "      <td>93</td>\n",
       "      <td>1349</td>\n",
       "      <td>1061</td>\n",
       "      <td>1315</td>\n",
       "      <td>522</td>\n",
       "      <td>947</td>\n",
       "      <td>448</td>\n",
       "      <td>...</td>\n",
       "      <td>419</td>\n",
       "      <td>844</td>\n",
       "      <td>2</td>\n",
       "      <td>67</td>\n",
       "      <td>120</td>\n",
       "      <td>246</td>\n",
       "      <td>25</td>\n",
       "      <td>31</td>\n",
       "      <td>15</td>\n",
       "      <td>1363</td>\n",
       "    </tr>\n",
       "    <tr>\n",
       "      <th>top</th>\n",
       "      <td>3-D Man</td>\n",
       "      <td>Unknown</td>\n",
       "      <td>Unknown</td>\n",
       "      <td>6</td>\n",
       "      <td>Childhood Trauma Robert Bruce Banner was the s...</td>\n",
       "      <td>No known powers.</td>\n",
       "      <td>[]</td>\n",
       "      <td>[]</td>\n",
       "      <td>['']</td>\n",
       "      <td>Earth-1</td>\n",
       "      <td>...</td>\n",
       "      <td>[]</td>\n",
       "      <td>None</td>\n",
       "      <td>Male</td>\n",
       "      <td>Human</td>\n",
       "      <td>-</td>\n",
       "      <td>-</td>\n",
       "      <td>Blue</td>\n",
       "      <td>Black</td>\n",
       "      <td>Green</td>\n",
       "      <td>/pictures2/portraits/11/050/10038.jpg?v=156096...</td>\n",
       "    </tr>\n",
       "    <tr>\n",
       "      <th>freq</th>\n",
       "      <td>1</td>\n",
       "      <td>22</td>\n",
       "      <td>15</td>\n",
       "      <td>162</td>\n",
       "      <td>3</td>\n",
       "      <td>7</td>\n",
       "      <td>67</td>\n",
       "      <td>928</td>\n",
       "      <td>475</td>\n",
       "      <td>31</td>\n",
       "      <td>...</td>\n",
       "      <td>900</td>\n",
       "      <td>23</td>\n",
       "      <td>970</td>\n",
       "      <td>529</td>\n",
       "      <td>365</td>\n",
       "      <td>426</td>\n",
       "      <td>368</td>\n",
       "      <td>339</td>\n",
       "      <td>30</td>\n",
       "      <td>1</td>\n",
       "    </tr>\n",
       "  </tbody>\n",
       "</table>\n",
       "<p>4 rows × 25 columns</p>\n",
       "</div>"
      ],
      "text/plain": [
       "           name real_name full_name overall_score  \\\n",
       "count      1448      1301       956          1450   \n",
       "unique     1448      1068       840            93   \n",
       "top     3-D Man   Unknown   Unknown             6   \n",
       "freq          1        22        15           162   \n",
       "\n",
       "                                             history_text       powers_text  \\\n",
       "count                                                1360              1086   \n",
       "unique                                               1349              1061   \n",
       "top     Childhood Trauma Robert Bruce Banner was the s...  No known powers.   \n",
       "freq                                                    3                 7   \n",
       "\n",
       "       superpowers alter_egos aliases place_of_birth  ... teams relatives  \\\n",
       "count         1450       1450    1450            788  ...  1450       901   \n",
       "unique        1315        522     947            448  ...   419       844   \n",
       "top             []         []    ['']        Earth-1  ...    []      None   \n",
       "freq            67        928     475             31  ...   900        23   \n",
       "\n",
       "       gender type_race height weight eye_color hair_color skin_color  \\\n",
       "count    1305      1043   1448   1448      1186       1202        173   \n",
       "unique      2        67    120    246        25         31         15   \n",
       "top      Male     Human      -      -      Blue      Black      Green   \n",
       "freq      970       529    365    426       368        339         30   \n",
       "\n",
       "                                                      img  \n",
       "count                                                1363  \n",
       "unique                                               1363  \n",
       "top     /pictures2/portraits/11/050/10038.jpg?v=156096...  \n",
       "freq                                                    1  \n",
       "\n",
       "[4 rows x 25 columns]"
      ]
     },
     "execution_count": 679,
     "metadata": {},
     "output_type": "execute_result"
    }
   ],
   "source": [
    "df.describe(include=np.object)"
   ]
  },
  {
   "cell_type": "markdown",
   "id": "d0b6603d",
   "metadata": {},
   "source": [
    "# 3. Cleaning"
   ]
  },
  {
   "cell_type": "markdown",
   "id": "e4765261",
   "metadata": {},
   "source": [
    "## 3.1 select columns"
   ]
  },
  {
   "cell_type": "code",
   "execution_count": 680,
   "id": "cdcc862c",
   "metadata": {
    "ExecuteTime": {
     "end_time": "2022-06-27T14:35:52.726193Z",
     "start_time": "2022-06-27T14:35:52.721598Z"
    }
   },
   "outputs": [
    {
     "data": {
      "text/plain": [
       "name                   object\n",
       "real_name              object\n",
       "full_name              object\n",
       "overall_score          object\n",
       "history_text           object\n",
       "                       ...   \n",
       "has_super_speed       float64\n",
       "has_durability        float64\n",
       "has_stamina           float64\n",
       "has_agility           float64\n",
       "has_super_strength    float64\n",
       "Length: 81, dtype: object"
      ]
     },
     "execution_count": 680,
     "metadata": {},
     "output_type": "execute_result"
    }
   ],
   "source": [
    "tmp = df.dtypes\n",
    "tmp"
   ]
  },
  {
   "cell_type": "code",
   "execution_count": 681,
   "id": "52d72367",
   "metadata": {
    "ExecuteTime": {
     "end_time": "2022-06-27T14:35:52.733392Z",
     "start_time": "2022-06-27T14:35:52.727892Z"
    }
   },
   "outputs": [
    {
     "data": {
      "text/plain": [
       "name                object\n",
       "real_name           object\n",
       "full_name           object\n",
       "overall_score       object\n",
       "history_text        object\n",
       "powers_text         object\n",
       "superpowers         object\n",
       "alter_egos          object\n",
       "aliases             object\n",
       "place_of_birth      object\n",
       "first_appearance    object\n",
       "creator             object\n",
       "alignment           object\n",
       "occupation          object\n",
       "base                object\n",
       "teams               object\n",
       "relatives           object\n",
       "gender              object\n",
       "type_race           object\n",
       "height              object\n",
       "weight              object\n",
       "eye_color           object\n",
       "hair_color          object\n",
       "skin_color          object\n",
       "img                 object\n",
       "dtype: object"
      ]
     },
     "execution_count": 681,
     "metadata": {},
     "output_type": "execute_result"
    }
   ],
   "source": [
    "tmp[tmp ==\"object\"]"
   ]
  },
  {
   "cell_type": "code",
   "execution_count": 682,
   "id": "465426f2",
   "metadata": {
    "ExecuteTime": {
     "end_time": "2022-06-27T14:35:52.742678Z",
     "start_time": "2022-06-27T14:35:52.734844Z"
    }
   },
   "outputs": [
    {
     "data": {
      "text/html": [
       "<div>\n",
       "<style scoped>\n",
       "    .dataframe tbody tr th:only-of-type {\n",
       "        vertical-align: middle;\n",
       "    }\n",
       "\n",
       "    .dataframe tbody tr th {\n",
       "        vertical-align: top;\n",
       "    }\n",
       "\n",
       "    .dataframe thead th {\n",
       "        text-align: right;\n",
       "    }\n",
       "</style>\n",
       "<table border=\"1\" class=\"dataframe\">\n",
       "  <thead>\n",
       "    <tr style=\"text-align: right;\">\n",
       "      <th></th>\n",
       "      <th>name</th>\n",
       "      <th>overall_score</th>\n",
       "      <th>history_text</th>\n",
       "    </tr>\n",
       "  </thead>\n",
       "  <tbody>\n",
       "    <tr>\n",
       "      <th>0</th>\n",
       "      <td>3-D Man</td>\n",
       "      <td>6</td>\n",
       "      <td>Delroy Garrett, Jr. grew up to become a track ...</td>\n",
       "    </tr>\n",
       "    <tr>\n",
       "      <th>1</th>\n",
       "      <td>514A (Gotham)</td>\n",
       "      <td>10</td>\n",
       "      <td>He was one of the many prisoners of Indian Hil...</td>\n",
       "    </tr>\n",
       "    <tr>\n",
       "      <th>2</th>\n",
       "      <td>A-Bomb</td>\n",
       "      <td>20</td>\n",
       "      <td>Richard \"Rick\" Jones was orphaned at a young ...</td>\n",
       "    </tr>\n",
       "    <tr>\n",
       "      <th>3</th>\n",
       "      <td>Aa</td>\n",
       "      <td>12</td>\n",
       "      <td>Aa is one of the more passive members of the P...</td>\n",
       "    </tr>\n",
       "    <tr>\n",
       "      <th>4</th>\n",
       "      <td>Aaron Cash</td>\n",
       "      <td>5</td>\n",
       "      <td>Aaron Cash is the head of security at Arkham A...</td>\n",
       "    </tr>\n",
       "  </tbody>\n",
       "</table>\n",
       "</div>"
      ],
      "text/plain": [
       "            name overall_score  \\\n",
       "0        3-D Man             6   \n",
       "1  514A (Gotham)            10   \n",
       "2         A-Bomb            20   \n",
       "3             Aa            12   \n",
       "4     Aaron Cash             5   \n",
       "\n",
       "                                        history_text  \n",
       "0  Delroy Garrett, Jr. grew up to become a track ...  \n",
       "1  He was one of the many prisoners of Indian Hil...  \n",
       "2   Richard \"Rick\" Jones was orphaned at a young ...  \n",
       "3  Aa is one of the more passive members of the P...  \n",
       "4  Aaron Cash is the head of security at Arkham A...  "
      ]
     },
     "execution_count": 682,
     "metadata": {},
     "output_type": "execute_result"
    }
   ],
   "source": [
    "cols = [\"name\", \"overall_score\", \"history_text\"]\n",
    "df = df[cols]\n",
    "df.head()"
   ]
  },
  {
   "cell_type": "markdown",
   "id": "d49f16be",
   "metadata": {},
   "source": [
    "## 3.2 drop NaN"
   ]
  },
  {
   "cell_type": "code",
   "execution_count": 683,
   "id": "465f039c",
   "metadata": {
    "ExecuteTime": {
     "end_time": "2022-06-27T14:35:52.750484Z",
     "start_time": "2022-06-27T14:35:52.744531Z"
    }
   },
   "outputs": [
    {
     "data": {
      "text/plain": [
       "name              2\n",
       "overall_score     0\n",
       "history_text     90\n",
       "dtype: int64"
      ]
     },
     "execution_count": 683,
     "metadata": {},
     "output_type": "execute_result"
    }
   ],
   "source": [
    "df.isna().sum()"
   ]
  },
  {
   "cell_type": "code",
   "execution_count": 684,
   "id": "6ac0510a",
   "metadata": {
    "ExecuteTime": {
     "end_time": "2022-06-27T14:35:52.760286Z",
     "start_time": "2022-06-27T14:35:52.752334Z"
    }
   },
   "outputs": [
    {
     "data": {
      "text/html": [
       "<div>\n",
       "<style scoped>\n",
       "    .dataframe tbody tr th:only-of-type {\n",
       "        vertical-align: middle;\n",
       "    }\n",
       "\n",
       "    .dataframe tbody tr th {\n",
       "        vertical-align: top;\n",
       "    }\n",
       "\n",
       "    .dataframe thead th {\n",
       "        text-align: right;\n",
       "    }\n",
       "</style>\n",
       "<table border=\"1\" class=\"dataframe\">\n",
       "  <thead>\n",
       "    <tr style=\"text-align: right;\">\n",
       "      <th></th>\n",
       "      <th>name</th>\n",
       "      <th>overall_score</th>\n",
       "      <th>history_text</th>\n",
       "    </tr>\n",
       "  </thead>\n",
       "  <tbody>\n",
       "    <tr>\n",
       "      <th>0</th>\n",
       "      <td>3-D Man</td>\n",
       "      <td>6</td>\n",
       "      <td>Delroy Garrett, Jr. grew up to become a track ...</td>\n",
       "    </tr>\n",
       "    <tr>\n",
       "      <th>1</th>\n",
       "      <td>514A (Gotham)</td>\n",
       "      <td>10</td>\n",
       "      <td>He was one of the many prisoners of Indian Hil...</td>\n",
       "    </tr>\n",
       "    <tr>\n",
       "      <th>2</th>\n",
       "      <td>A-Bomb</td>\n",
       "      <td>20</td>\n",
       "      <td>Richard \"Rick\" Jones was orphaned at a young ...</td>\n",
       "    </tr>\n",
       "    <tr>\n",
       "      <th>3</th>\n",
       "      <td>Aa</td>\n",
       "      <td>12</td>\n",
       "      <td>Aa is one of the more passive members of the P...</td>\n",
       "    </tr>\n",
       "    <tr>\n",
       "      <th>4</th>\n",
       "      <td>Aaron Cash</td>\n",
       "      <td>5</td>\n",
       "      <td>Aaron Cash is the head of security at Arkham A...</td>\n",
       "    </tr>\n",
       "  </tbody>\n",
       "</table>\n",
       "</div>"
      ],
      "text/plain": [
       "            name overall_score  \\\n",
       "0        3-D Man             6   \n",
       "1  514A (Gotham)            10   \n",
       "2         A-Bomb            20   \n",
       "3             Aa            12   \n",
       "4     Aaron Cash             5   \n",
       "\n",
       "                                        history_text  \n",
       "0  Delroy Garrett, Jr. grew up to become a track ...  \n",
       "1  He was one of the many prisoners of Indian Hil...  \n",
       "2   Richard \"Rick\" Jones was orphaned at a young ...  \n",
       "3  Aa is one of the more passive members of the P...  \n",
       "4  Aaron Cash is the head of security at Arkham A...  "
      ]
     },
     "execution_count": 684,
     "metadata": {},
     "output_type": "execute_result"
    }
   ],
   "source": [
    "df = df[df.name.notna()]\n",
    "df = df[df.history_text.notna()]\n",
    "df.head()"
   ]
  },
  {
   "cell_type": "code",
   "execution_count": 685,
   "id": "00621591",
   "metadata": {
    "ExecuteTime": {
     "end_time": "2022-06-27T14:35:52.774597Z",
     "start_time": "2022-06-27T14:35:52.767963Z"
    },
    "scrolled": true
   },
   "outputs": [
    {
     "data": {
      "text/plain": [
       "name             0.0\n",
       "overall_score    0.0\n",
       "history_text     0.0\n",
       "dtype: float64"
      ]
     },
     "execution_count": 685,
     "metadata": {},
     "output_type": "execute_result"
    }
   ],
   "source": [
    "df.isna().mean()"
   ]
  },
  {
   "cell_type": "markdown",
   "id": "889e47e4",
   "metadata": {},
   "source": [
    "## 3.3 recast overall_score"
   ]
  },
  {
   "cell_type": "code",
   "execution_count": 686,
   "id": "b79b86d8",
   "metadata": {
    "ExecuteTime": {
     "end_time": "2022-06-27T14:35:52.780514Z",
     "start_time": "2022-06-27T14:35:52.776814Z"
    }
   },
   "outputs": [
    {
     "data": {
      "text/plain": [
       "dtype('O')"
      ]
     },
     "execution_count": 686,
     "metadata": {},
     "output_type": "execute_result"
    }
   ],
   "source": [
    "df.overall_score.dtype"
   ]
  },
  {
   "cell_type": "code",
   "execution_count": 687,
   "id": "80abfbc8",
   "metadata": {
    "ExecuteTime": {
     "end_time": "2022-06-27T14:35:52.785461Z",
     "start_time": "2022-06-27T14:35:52.782150Z"
    }
   },
   "outputs": [
    {
     "name": "stdout",
     "output_type": "stream",
     "text": [
      "could not convert string to float: '∞'\n"
     ]
    }
   ],
   "source": [
    "try : \n",
    "    df.overall_score.astype(float)\n",
    "except Exception as e : \n",
    "    print(e)"
   ]
  },
  {
   "cell_type": "code",
   "execution_count": 688,
   "id": "e3a86b16",
   "metadata": {
    "ExecuteTime": {
     "end_time": "2022-06-27T14:35:52.791114Z",
     "start_time": "2022-06-27T14:35:52.787938Z"
    }
   },
   "outputs": [],
   "source": [
    "def extract_score(txt) : \n",
    "    \n",
    "    try : \n",
    "        return float(txt)\n",
    "    except Exception as e : \n",
    "        return np.nan\n",
    "    \n",
    "    \n",
    "    "
   ]
  },
  {
   "cell_type": "code",
   "execution_count": 689,
   "id": "e7c70c38",
   "metadata": {
    "ExecuteTime": {
     "end_time": "2022-06-27T14:35:52.802785Z",
     "start_time": "2022-06-27T14:35:52.793131Z"
    },
    "scrolled": true
   },
   "outputs": [
    {
     "data": {
      "text/html": [
       "<div>\n",
       "<style scoped>\n",
       "    .dataframe tbody tr th:only-of-type {\n",
       "        vertical-align: middle;\n",
       "    }\n",
       "\n",
       "    .dataframe tbody tr th {\n",
       "        vertical-align: top;\n",
       "    }\n",
       "\n",
       "    .dataframe thead th {\n",
       "        text-align: right;\n",
       "    }\n",
       "</style>\n",
       "<table border=\"1\" class=\"dataframe\">\n",
       "  <thead>\n",
       "    <tr style=\"text-align: right;\">\n",
       "      <th></th>\n",
       "      <th>name</th>\n",
       "      <th>overall_score</th>\n",
       "      <th>history_text</th>\n",
       "      <th>_score</th>\n",
       "    </tr>\n",
       "  </thead>\n",
       "  <tbody>\n",
       "    <tr>\n",
       "      <th>0</th>\n",
       "      <td>3-D Man</td>\n",
       "      <td>6</td>\n",
       "      <td>Delroy Garrett, Jr. grew up to become a track ...</td>\n",
       "      <td>6.0</td>\n",
       "    </tr>\n",
       "    <tr>\n",
       "      <th>1</th>\n",
       "      <td>514A (Gotham)</td>\n",
       "      <td>10</td>\n",
       "      <td>He was one of the many prisoners of Indian Hil...</td>\n",
       "      <td>10.0</td>\n",
       "    </tr>\n",
       "    <tr>\n",
       "      <th>2</th>\n",
       "      <td>A-Bomb</td>\n",
       "      <td>20</td>\n",
       "      <td>Richard \"Rick\" Jones was orphaned at a young ...</td>\n",
       "      <td>20.0</td>\n",
       "    </tr>\n",
       "    <tr>\n",
       "      <th>3</th>\n",
       "      <td>Aa</td>\n",
       "      <td>12</td>\n",
       "      <td>Aa is one of the more passive members of the P...</td>\n",
       "      <td>12.0</td>\n",
       "    </tr>\n",
       "    <tr>\n",
       "      <th>4</th>\n",
       "      <td>Aaron Cash</td>\n",
       "      <td>5</td>\n",
       "      <td>Aaron Cash is the head of security at Arkham A...</td>\n",
       "      <td>5.0</td>\n",
       "    </tr>\n",
       "  </tbody>\n",
       "</table>\n",
       "</div>"
      ],
      "text/plain": [
       "            name overall_score  \\\n",
       "0        3-D Man             6   \n",
       "1  514A (Gotham)            10   \n",
       "2         A-Bomb            20   \n",
       "3             Aa            12   \n",
       "4     Aaron Cash             5   \n",
       "\n",
       "                                        history_text  _score  \n",
       "0  Delroy Garrett, Jr. grew up to become a track ...     6.0  \n",
       "1  He was one of the many prisoners of Indian Hil...    10.0  \n",
       "2   Richard \"Rick\" Jones was orphaned at a young ...    20.0  \n",
       "3  Aa is one of the more passive members of the P...    12.0  \n",
       "4  Aaron Cash is the head of security at Arkham A...     5.0  "
      ]
     },
     "execution_count": 689,
     "metadata": {},
     "output_type": "execute_result"
    }
   ],
   "source": [
    "df[\"_score\"] = df.overall_score.apply(extract_score)\n",
    "df.head()"
   ]
  },
  {
   "cell_type": "code",
   "execution_count": 690,
   "id": "e7f1188a",
   "metadata": {
    "ExecuteTime": {
     "end_time": "2022-06-27T14:35:52.810722Z",
     "start_time": "2022-06-27T14:35:52.804352Z"
    },
    "scrolled": true
   },
   "outputs": [
    {
     "data": {
      "text/plain": [
       "count    1249.000000\n",
       "mean       14.249800\n",
       "std        21.886399\n",
       "min         1.000000\n",
       "25%         6.000000\n",
       "50%         8.000000\n",
       "75%        13.000000\n",
       "max       237.000000\n",
       "Name: _score, dtype: float64"
      ]
     },
     "execution_count": 690,
     "metadata": {},
     "output_type": "execute_result"
    }
   ],
   "source": [
    "df._score.describe()"
   ]
  },
  {
   "cell_type": "code",
   "execution_count": 691,
   "id": "1916f3b7",
   "metadata": {
    "ExecuteTime": {
     "end_time": "2022-06-27T14:35:52.900159Z",
     "start_time": "2022-06-27T14:35:52.812263Z"
    },
    "scrolled": true
   },
   "outputs": [
    {
     "name": "stderr",
     "output_type": "stream",
     "text": [
      "/home/alex/Desktop/ocr-donnees-textuelles/env/lib/python3.8/site-packages/seaborn/_decorators.py:36: FutureWarning:\n",
      "\n",
      "Pass the following variable as a keyword arg: x. From version 0.12, the only valid positional argument will be `data`, and passing other arguments without an explicit keyword will result in an error or misinterpretation.\n",
      "\n"
     ]
    },
    {
     "data": {
      "text/plain": [
       "<AxesSubplot:xlabel='_score'>"
      ]
     },
     "execution_count": 691,
     "metadata": {},
     "output_type": "execute_result"
    },
    {
     "data": {
      "image/png": "[encoded data removed]",
      "text/plain": [
       "<Figure size 432x288 with 1 Axes>"
      ]
     },
     "metadata": {
      "needs_background": "light"
     },
     "output_type": "display_data"
    }
   ],
   "source": [
    "sns.boxplot(df._score)"
   ]
  },
  {
   "cell_type": "code",
   "execution_count": 692,
   "id": "7dd70e86",
   "metadata": {
    "ExecuteTime": {
     "end_time": "2022-06-27T14:35:52.915422Z",
     "start_time": "2022-06-27T14:35:52.901905Z"
    },
    "scrolled": true
   },
   "outputs": [
    {
     "data": {
      "text/html": [
       "<div>\n",
       "<style scoped>\n",
       "    .dataframe tbody tr th:only-of-type {\n",
       "        vertical-align: middle;\n",
       "    }\n",
       "\n",
       "    .dataframe tbody tr th {\n",
       "        vertical-align: top;\n",
       "    }\n",
       "\n",
       "    .dataframe thead th {\n",
       "        text-align: right;\n",
       "    }\n",
       "</style>\n",
       "<table border=\"1\" class=\"dataframe\">\n",
       "  <thead>\n",
       "    <tr style=\"text-align: right;\">\n",
       "      <th></th>\n",
       "      <th>name</th>\n",
       "      <th>overall_score</th>\n",
       "      <th>history_text</th>\n",
       "      <th>_score</th>\n",
       "    </tr>\n",
       "  </thead>\n",
       "  <tbody>\n",
       "    <tr>\n",
       "      <th>11</th>\n",
       "      <td>Abraxas</td>\n",
       "      <td>∞</td>\n",
       "      <td>Born within the abstract entity Eternity, Abra...</td>\n",
       "      <td>NaN</td>\n",
       "    </tr>\n",
       "    <tr>\n",
       "      <th>48</th>\n",
       "      <td>Ammo</td>\n",
       "      <td>-</td>\n",
       "      <td>Most of Ammo's early history is unrevealed. ...</td>\n",
       "      <td>NaN</td>\n",
       "    </tr>\n",
       "    <tr>\n",
       "      <th>53</th>\n",
       "      <td>Ando Masahashi</td>\n",
       "      <td>-</td>\n",
       "      <td>Ando Masahashi is Hiro Nakamura's best friend ...</td>\n",
       "      <td>NaN</td>\n",
       "    </tr>\n",
       "    <tr>\n",
       "      <th>101</th>\n",
       "      <td>Atom III</td>\n",
       "      <td>-</td>\n",
       "      <td>At first Cray was widely believed to be Ray Pa...</td>\n",
       "      <td>NaN</td>\n",
       "    </tr>\n",
       "    <tr>\n",
       "      <th>145</th>\n",
       "      <td>Beak</td>\n",
       "      <td>-</td>\n",
       "      <td>Barnell Bohusk has lived a difficult life sinc...</td>\n",
       "      <td>NaN</td>\n",
       "    </tr>\n",
       "    <tr>\n",
       "      <th>...</th>\n",
       "      <td>...</td>\n",
       "      <td>...</td>\n",
       "      <td>...</td>\n",
       "      <td>...</td>\n",
       "    </tr>\n",
       "    <tr>\n",
       "      <th>1411</th>\n",
       "      <td>Wiz Kid</td>\n",
       "      <td>-</td>\n",
       "      <td>Takashi Matsuya was placed as a student at Sai...</td>\n",
       "      <td>NaN</td>\n",
       "    </tr>\n",
       "    <tr>\n",
       "      <th>1423</th>\n",
       "      <td>Wong</td>\n",
       "      <td>-</td>\n",
       "      <td>Wong is the descendant and look-alike of Kan, ...</td>\n",
       "      <td>NaN</td>\n",
       "    </tr>\n",
       "    <tr>\n",
       "      <th>1433</th>\n",
       "      <td>Yellow Claw</td>\n",
       "      <td>-</td>\n",
       "      <td>The criminal mastermind known as the Yellow Cl...</td>\n",
       "      <td>NaN</td>\n",
       "    </tr>\n",
       "    <tr>\n",
       "      <th>1435</th>\n",
       "      <td>Yellowjacket III</td>\n",
       "      <td>-</td>\n",
       "      <td>Darren Cross was the CEO of Cross Technologi...</td>\n",
       "      <td>NaN</td>\n",
       "    </tr>\n",
       "    <tr>\n",
       "      <th>1443</th>\n",
       "      <td>Yukio</td>\n",
       "      <td>-</td>\n",
       "      <td>Little is known about the early life of the ad...</td>\n",
       "      <td>NaN</td>\n",
       "    </tr>\n",
       "  </tbody>\n",
       "</table>\n",
       "<p>110 rows × 4 columns</p>\n",
       "</div>"
      ],
      "text/plain": [
       "                  name overall_score  \\\n",
       "11             Abraxas             ∞   \n",
       "48                Ammo             -   \n",
       "53      Ando Masahashi             -   \n",
       "101           Atom III             -   \n",
       "145               Beak             -   \n",
       "...                ...           ...   \n",
       "1411           Wiz Kid             -   \n",
       "1423              Wong             -   \n",
       "1433       Yellow Claw             -   \n",
       "1435  Yellowjacket III             -   \n",
       "1443             Yukio             -   \n",
       "\n",
       "                                           history_text  _score  \n",
       "11    Born within the abstract entity Eternity, Abra...     NaN  \n",
       "48      Most of Ammo's early history is unrevealed. ...     NaN  \n",
       "53    Ando Masahashi is Hiro Nakamura's best friend ...     NaN  \n",
       "101   At first Cray was widely believed to be Ray Pa...     NaN  \n",
       "145   Barnell Bohusk has lived a difficult life sinc...     NaN  \n",
       "...                                                 ...     ...  \n",
       "1411  Takashi Matsuya was placed as a student at Sai...     NaN  \n",
       "1423  Wong is the descendant and look-alike of Kan, ...     NaN  \n",
       "1433  The criminal mastermind known as the Yellow Cl...     NaN  \n",
       "1435    Darren Cross was the CEO of Cross Technologi...     NaN  \n",
       "1443  Little is known about the early life of the ad...     NaN  \n",
       "\n",
       "[110 rows x 4 columns]"
      ]
     },
     "execution_count": 692,
     "metadata": {},
     "output_type": "execute_result"
    }
   ],
   "source": [
    "df[df._score.isna()]"
   ]
  },
  {
   "cell_type": "code",
   "execution_count": 693,
   "id": "73a48481",
   "metadata": {
    "ExecuteTime": {
     "end_time": "2022-06-27T14:35:52.923514Z",
     "start_time": "2022-06-27T14:35:52.917357Z"
    }
   },
   "outputs": [
    {
     "data": {
      "text/plain": [
       "-    98\n",
       "∞    12\n",
       "Name: overall_score, dtype: int64"
      ]
     },
     "execution_count": 693,
     "metadata": {},
     "output_type": "execute_result"
    }
   ],
   "source": [
    "df[df._score.isna()].overall_score.value_counts()"
   ]
  },
  {
   "cell_type": "code",
   "execution_count": 694,
   "id": "1acd9368",
   "metadata": {
    "ExecuteTime": {
     "end_time": "2022-06-27T14:35:52.934794Z",
     "start_time": "2022-06-27T14:35:52.926020Z"
    }
   },
   "outputs": [
    {
     "data": {
      "text/plain": [
       "∞    12\n",
       "Name: overall_score, dtype: int64"
      ]
     },
     "execution_count": 694,
     "metadata": {},
     "output_type": "execute_result"
    }
   ],
   "source": [
    "df = df[df.overall_score != \"-\"]\n",
    "df[df._score.isna()].overall_score.value_counts()"
   ]
  },
  {
   "cell_type": "code",
   "execution_count": 695,
   "id": "8d8e423c",
   "metadata": {
    "ExecuteTime": {
     "end_time": "2022-06-27T14:35:52.944835Z",
     "start_time": "2022-06-27T14:35:52.936673Z"
    },
    "scrolled": true
   },
   "outputs": [
    {
     "data": {
      "text/html": [
       "<div>\n",
       "<style scoped>\n",
       "    .dataframe tbody tr th:only-of-type {\n",
       "        vertical-align: middle;\n",
       "    }\n",
       "\n",
       "    .dataframe tbody tr th {\n",
       "        vertical-align: top;\n",
       "    }\n",
       "\n",
       "    .dataframe thead th {\n",
       "        text-align: right;\n",
       "    }\n",
       "</style>\n",
       "<table border=\"1\" class=\"dataframe\">\n",
       "  <thead>\n",
       "    <tr style=\"text-align: right;\">\n",
       "      <th></th>\n",
       "      <th>name</th>\n",
       "      <th>overall_score</th>\n",
       "      <th>history_text</th>\n",
       "      <th>_score</th>\n",
       "    </tr>\n",
       "  </thead>\n",
       "  <tbody>\n",
       "    <tr>\n",
       "      <th>11</th>\n",
       "      <td>Abraxas</td>\n",
       "      <td>∞</td>\n",
       "      <td>Born within the abstract entity Eternity, Abra...</td>\n",
       "      <td>NaN</td>\n",
       "    </tr>\n",
       "    <tr>\n",
       "      <th>153</th>\n",
       "      <td>Beyonder</td>\n",
       "      <td>∞</td>\n",
       "      <td>Within a pocket realm in the Negative Zone, th...</td>\n",
       "      <td>NaN</td>\n",
       "    </tr>\n",
       "    <tr>\n",
       "      <th>174</th>\n",
       "      <td>Black Alice</td>\n",
       "      <td>∞</td>\n",
       "      <td>A teenage girl with an interest in magick, Lor...</td>\n",
       "      <td>NaN</td>\n",
       "    </tr>\n",
       "    <tr>\n",
       "      <th>376</th>\n",
       "      <td>Death Of The Endless</td>\n",
       "      <td>∞</td>\n",
       "      <td>Death of the Endless came into existence short...</td>\n",
       "      <td>NaN</td>\n",
       "    </tr>\n",
       "    <tr>\n",
       "      <th>450</th>\n",
       "      <td>Eru Iluvatar</td>\n",
       "      <td>∞</td>\n",
       "      <td>Eru is the supreme deity of Arda. He was the s...</td>\n",
       "      <td>NaN</td>\n",
       "    </tr>\n",
       "    <tr>\n",
       "      <th>482</th>\n",
       "      <td>First Spinjitzu Master</td>\n",
       "      <td>∞</td>\n",
       "      <td>Long before time had a name, the First Spinjit...</td>\n",
       "      <td>NaN</td>\n",
       "    </tr>\n",
       "    <tr>\n",
       "      <th>526</th>\n",
       "      <td>Golden Master's Mech</td>\n",
       "      <td>∞</td>\n",
       "      <td>While some of the Nindroids under Cryptor retr...</td>\n",
       "      <td>NaN</td>\n",
       "    </tr>\n",
       "    <tr>\n",
       "      <th>845</th>\n",
       "      <td>Man Of Miracles</td>\n",
       "      <td>∞</td>\n",
       "      <td>The being known as Mother is the creator of t...</td>\n",
       "      <td>NaN</td>\n",
       "    </tr>\n",
       "    <tr>\n",
       "      <th>882</th>\n",
       "      <td>Michael Demiurgos</td>\n",
       "      <td>∞</td>\n",
       "      <td>Many years ago, during Lucifer's rebellion in ...</td>\n",
       "      <td>NaN</td>\n",
       "    </tr>\n",
       "    <tr>\n",
       "      <th>1272</th>\n",
       "      <td>The Beyonder (Earth-1298)</td>\n",
       "      <td>∞</td>\n",
       "      <td>Known as the Beyonder due to the fact that he ...</td>\n",
       "      <td>NaN</td>\n",
       "    </tr>\n",
       "    <tr>\n",
       "      <th>1281</th>\n",
       "      <td>The Golden Master</td>\n",
       "      <td>∞</td>\n",
       "      <td>The Golden Master is an ancient figure of evil...</td>\n",
       "      <td>NaN</td>\n",
       "    </tr>\n",
       "    <tr>\n",
       "      <th>1289</th>\n",
       "      <td>The Lord Of Light</td>\n",
       "      <td>∞</td>\n",
       "      <td>Melisandre, a Red Priestess of the Lord of Lig...</td>\n",
       "      <td>NaN</td>\n",
       "    </tr>\n",
       "  </tbody>\n",
       "</table>\n",
       "</div>"
      ],
      "text/plain": [
       "                           name overall_score  \\\n",
       "11                      Abraxas             ∞   \n",
       "153                    Beyonder             ∞   \n",
       "174                 Black Alice             ∞   \n",
       "376        Death Of The Endless             ∞   \n",
       "450                Eru Iluvatar             ∞   \n",
       "482      First Spinjitzu Master             ∞   \n",
       "526        Golden Master's Mech             ∞   \n",
       "845             Man Of Miracles             ∞   \n",
       "882           Michael Demiurgos             ∞   \n",
       "1272  The Beyonder (Earth-1298)             ∞   \n",
       "1281          The Golden Master             ∞   \n",
       "1289          The Lord Of Light             ∞   \n",
       "\n",
       "                                           history_text  _score  \n",
       "11    Born within the abstract entity Eternity, Abra...     NaN  \n",
       "153   Within a pocket realm in the Negative Zone, th...     NaN  \n",
       "174   A teenage girl with an interest in magick, Lor...     NaN  \n",
       "376   Death of the Endless came into existence short...     NaN  \n",
       "450   Eru is the supreme deity of Arda. He was the s...     NaN  \n",
       "482   Long before time had a name, the First Spinjit...     NaN  \n",
       "526   While some of the Nindroids under Cryptor retr...     NaN  \n",
       "845    The being known as Mother is the creator of t...     NaN  \n",
       "882   Many years ago, during Lucifer's rebellion in ...     NaN  \n",
       "1272  Known as the Beyonder due to the fact that he ...     NaN  \n",
       "1281  The Golden Master is an ancient figure of evil...     NaN  \n",
       "1289  Melisandre, a Red Priestess of the Lord of Lig...     NaN  "
      ]
     },
     "execution_count": 695,
     "metadata": {},
     "output_type": "execute_result"
    }
   ],
   "source": [
    "df[df._score.isna()]"
   ]
  },
  {
   "cell_type": "code",
   "execution_count": 696,
   "id": "7a185bf8",
   "metadata": {
    "ExecuteTime": {
     "end_time": "2022-06-27T14:35:52.957393Z",
     "start_time": "2022-06-27T14:35:52.946406Z"
    },
    "scrolled": true
   },
   "outputs": [
    {
     "data": {
      "text/html": [
       "<div>\n",
       "<style scoped>\n",
       "    .dataframe tbody tr th:only-of-type {\n",
       "        vertical-align: middle;\n",
       "    }\n",
       "\n",
       "    .dataframe tbody tr th {\n",
       "        vertical-align: top;\n",
       "    }\n",
       "\n",
       "    .dataframe thead th {\n",
       "        text-align: right;\n",
       "    }\n",
       "</style>\n",
       "<table border=\"1\" class=\"dataframe\">\n",
       "  <thead>\n",
       "    <tr style=\"text-align: right;\">\n",
       "      <th></th>\n",
       "      <th>name</th>\n",
       "      <th>overall_score</th>\n",
       "      <th>history_text</th>\n",
       "      <th>_score</th>\n",
       "    </tr>\n",
       "  </thead>\n",
       "  <tbody>\n",
       "    <tr>\n",
       "      <th>934</th>\n",
       "      <td>Nadakhan</td>\n",
       "      <td>163</td>\n",
       "      <td>Nadakhan is the captain of the Sky Pirates, th...</td>\n",
       "      <td>163.0</td>\n",
       "    </tr>\n",
       "    <tr>\n",
       "      <th>1293</th>\n",
       "      <td>The Overlord</td>\n",
       "      <td>165</td>\n",
       "      <td>Before Ninjago's creation, there were two kind...</td>\n",
       "      <td>165.0</td>\n",
       "    </tr>\n",
       "    <tr>\n",
       "      <th>522</th>\n",
       "      <td>Goblin Force</td>\n",
       "      <td>169</td>\n",
       "      <td>The Goblin Force was born at the beginning of ...</td>\n",
       "      <td>169.0</td>\n",
       "    </tr>\n",
       "    <tr>\n",
       "      <th>421</th>\n",
       "      <td>Dracula</td>\n",
       "      <td>211</td>\n",
       "      <td>The man later known as Dracula was originally...</td>\n",
       "      <td>211.0</td>\n",
       "    </tr>\n",
       "    <tr>\n",
       "      <th>110</th>\n",
       "      <td>Aztar</td>\n",
       "      <td>222</td>\n",
       "      <td>Since the beginnings of human civilization the...</td>\n",
       "      <td>222.0</td>\n",
       "    </tr>\n",
       "    <tr>\n",
       "      <th>527</th>\n",
       "      <td>Golden Ninja</td>\n",
       "      <td>226</td>\n",
       "      <td>Lloyd becomes the Golden Ninja, and fights the...</td>\n",
       "      <td>226.0</td>\n",
       "    </tr>\n",
       "    <tr>\n",
       "      <th>393</th>\n",
       "      <td>Devilman</td>\n",
       "      <td>229</td>\n",
       "      <td>Transformation Akira is first seen walking hom...</td>\n",
       "      <td>229.0</td>\n",
       "    </tr>\n",
       "    <tr>\n",
       "      <th>538</th>\n",
       "      <td>Great Evil Beast</td>\n",
       "      <td>237</td>\n",
       "      <td>The Great Evil Beast was formed when God utter...</td>\n",
       "      <td>237.0</td>\n",
       "    </tr>\n",
       "    <tr>\n",
       "      <th>11</th>\n",
       "      <td>Abraxas</td>\n",
       "      <td>∞</td>\n",
       "      <td>Born within the abstract entity Eternity, Abra...</td>\n",
       "      <td>NaN</td>\n",
       "    </tr>\n",
       "    <tr>\n",
       "      <th>153</th>\n",
       "      <td>Beyonder</td>\n",
       "      <td>∞</td>\n",
       "      <td>Within a pocket realm in the Negative Zone, th...</td>\n",
       "      <td>NaN</td>\n",
       "    </tr>\n",
       "    <tr>\n",
       "      <th>174</th>\n",
       "      <td>Black Alice</td>\n",
       "      <td>∞</td>\n",
       "      <td>A teenage girl with an interest in magick, Lor...</td>\n",
       "      <td>NaN</td>\n",
       "    </tr>\n",
       "    <tr>\n",
       "      <th>376</th>\n",
       "      <td>Death Of The Endless</td>\n",
       "      <td>∞</td>\n",
       "      <td>Death of the Endless came into existence short...</td>\n",
       "      <td>NaN</td>\n",
       "    </tr>\n",
       "    <tr>\n",
       "      <th>450</th>\n",
       "      <td>Eru Iluvatar</td>\n",
       "      <td>∞</td>\n",
       "      <td>Eru is the supreme deity of Arda. He was the s...</td>\n",
       "      <td>NaN</td>\n",
       "    </tr>\n",
       "    <tr>\n",
       "      <th>482</th>\n",
       "      <td>First Spinjitzu Master</td>\n",
       "      <td>∞</td>\n",
       "      <td>Long before time had a name, the First Spinjit...</td>\n",
       "      <td>NaN</td>\n",
       "    </tr>\n",
       "    <tr>\n",
       "      <th>526</th>\n",
       "      <td>Golden Master's Mech</td>\n",
       "      <td>∞</td>\n",
       "      <td>While some of the Nindroids under Cryptor retr...</td>\n",
       "      <td>NaN</td>\n",
       "    </tr>\n",
       "    <tr>\n",
       "      <th>845</th>\n",
       "      <td>Man Of Miracles</td>\n",
       "      <td>∞</td>\n",
       "      <td>The being known as Mother is the creator of t...</td>\n",
       "      <td>NaN</td>\n",
       "    </tr>\n",
       "    <tr>\n",
       "      <th>882</th>\n",
       "      <td>Michael Demiurgos</td>\n",
       "      <td>∞</td>\n",
       "      <td>Many years ago, during Lucifer's rebellion in ...</td>\n",
       "      <td>NaN</td>\n",
       "    </tr>\n",
       "    <tr>\n",
       "      <th>1272</th>\n",
       "      <td>The Beyonder (Earth-1298)</td>\n",
       "      <td>∞</td>\n",
       "      <td>Known as the Beyonder due to the fact that he ...</td>\n",
       "      <td>NaN</td>\n",
       "    </tr>\n",
       "    <tr>\n",
       "      <th>1281</th>\n",
       "      <td>The Golden Master</td>\n",
       "      <td>∞</td>\n",
       "      <td>The Golden Master is an ancient figure of evil...</td>\n",
       "      <td>NaN</td>\n",
       "    </tr>\n",
       "    <tr>\n",
       "      <th>1289</th>\n",
       "      <td>The Lord Of Light</td>\n",
       "      <td>∞</td>\n",
       "      <td>Melisandre, a Red Priestess of the Lord of Lig...</td>\n",
       "      <td>NaN</td>\n",
       "    </tr>\n",
       "  </tbody>\n",
       "</table>\n",
       "</div>"
      ],
      "text/plain": [
       "                           name overall_score  \\\n",
       "934                    Nadakhan           163   \n",
       "1293               The Overlord           165   \n",
       "522                Goblin Force           169   \n",
       "421                     Dracula           211   \n",
       "110                       Aztar           222   \n",
       "527                Golden Ninja           226   \n",
       "393                    Devilman           229   \n",
       "538            Great Evil Beast           237   \n",
       "11                      Abraxas             ∞   \n",
       "153                    Beyonder             ∞   \n",
       "174                 Black Alice             ∞   \n",
       "376        Death Of The Endless             ∞   \n",
       "450                Eru Iluvatar             ∞   \n",
       "482      First Spinjitzu Master             ∞   \n",
       "526        Golden Master's Mech             ∞   \n",
       "845             Man Of Miracles             ∞   \n",
       "882           Michael Demiurgos             ∞   \n",
       "1272  The Beyonder (Earth-1298)             ∞   \n",
       "1281          The Golden Master             ∞   \n",
       "1289          The Lord Of Light             ∞   \n",
       "\n",
       "                                           history_text  _score  \n",
       "934   Nadakhan is the captain of the Sky Pirates, th...   163.0  \n",
       "1293  Before Ninjago's creation, there were two kind...   165.0  \n",
       "522   The Goblin Force was born at the beginning of ...   169.0  \n",
       "421    The man later known as Dracula was originally...   211.0  \n",
       "110   Since the beginnings of human civilization the...   222.0  \n",
       "527   Lloyd becomes the Golden Ninja, and fights the...   226.0  \n",
       "393   Transformation Akira is first seen walking hom...   229.0  \n",
       "538   The Great Evil Beast was formed when God utter...   237.0  \n",
       "11    Born within the abstract entity Eternity, Abra...     NaN  \n",
       "153   Within a pocket realm in the Negative Zone, th...     NaN  \n",
       "174   A teenage girl with an interest in magick, Lor...     NaN  \n",
       "376   Death of the Endless came into existence short...     NaN  \n",
       "450   Eru is the supreme deity of Arda. He was the s...     NaN  \n",
       "482   Long before time had a name, the First Spinjit...     NaN  \n",
       "526   While some of the Nindroids under Cryptor retr...     NaN  \n",
       "845    The being known as Mother is the creator of t...     NaN  \n",
       "882   Many years ago, during Lucifer's rebellion in ...     NaN  \n",
       "1272  Known as the Beyonder due to the fact that he ...     NaN  \n",
       "1281  The Golden Master is an ancient figure of evil...     NaN  \n",
       "1289  Melisandre, a Red Priestess of the Lord of Lig...     NaN  "
      ]
     },
     "execution_count": 696,
     "metadata": {},
     "output_type": "execute_result"
    }
   ],
   "source": [
    "df.sort_values(\"_score\",).tail(20)"
   ]
  },
  {
   "cell_type": "code",
   "execution_count": 697,
   "id": "fe725105",
   "metadata": {
    "ExecuteTime": {
     "end_time": "2022-06-27T14:35:52.971119Z",
     "start_time": "2022-06-27T14:35:52.958911Z"
    }
   },
   "outputs": [
    {
     "data": {
      "text/html": [
       "<div>\n",
       "<style scoped>\n",
       "    .dataframe tbody tr th:only-of-type {\n",
       "        vertical-align: middle;\n",
       "    }\n",
       "\n",
       "    .dataframe tbody tr th {\n",
       "        vertical-align: top;\n",
       "    }\n",
       "\n",
       "    .dataframe thead th {\n",
       "        text-align: right;\n",
       "    }\n",
       "</style>\n",
       "<table border=\"1\" class=\"dataframe\">\n",
       "  <thead>\n",
       "    <tr style=\"text-align: right;\">\n",
       "      <th></th>\n",
       "      <th>name</th>\n",
       "      <th>overall_score</th>\n",
       "      <th>history_text</th>\n",
       "      <th>_score</th>\n",
       "    </tr>\n",
       "  </thead>\n",
       "  <tbody>\n",
       "    <tr>\n",
       "      <th>631</th>\n",
       "      <td>Imperiex</td>\n",
       "      <td>87</td>\n",
       "      <td>The embodiment of entropy, Imperiex takes the ...</td>\n",
       "      <td>87.0</td>\n",
       "    </tr>\n",
       "    <tr>\n",
       "      <th>732</th>\n",
       "      <td>Khanjikhan</td>\n",
       "      <td>89</td>\n",
       "      <td>At an unknown point in time, Khanjikhan marrie...</td>\n",
       "      <td>89.0</td>\n",
       "    </tr>\n",
       "    <tr>\n",
       "      <th>1143</th>\n",
       "      <td>Sensei Yang</td>\n",
       "      <td>94</td>\n",
       "      <td>At an unknown point in time, Yang went on a qu...</td>\n",
       "      <td>94.0</td>\n",
       "    </tr>\n",
       "    <tr>\n",
       "      <th>980</th>\n",
       "      <td>Omega</td>\n",
       "      <td>108</td>\n",
       "      <td>When garmadon and Lloyd were about to destroy ...</td>\n",
       "      <td>108.0</td>\n",
       "    </tr>\n",
       "    <tr>\n",
       "      <th>389</th>\n",
       "      <td>Destruction Of The Endless</td>\n",
       "      <td>112</td>\n",
       "      <td>Destruction is the fourth eldest of the Endles...</td>\n",
       "      <td>112.0</td>\n",
       "    </tr>\n",
       "    <tr>\n",
       "      <th>407</th>\n",
       "      <td>Doctor Strange (Classic)</td>\n",
       "      <td>120</td>\n",
       "      <td>Stephen Strange was born to Eugene and Bever...</td>\n",
       "      <td>120.0</td>\n",
       "    </tr>\n",
       "    <tr>\n",
       "      <th>420</th>\n",
       "      <td>Dr Manhattan</td>\n",
       "      <td>124</td>\n",
       "      <td>Jonathan Osterman was born in 1929. His fathe...</td>\n",
       "      <td>124.0</td>\n",
       "    </tr>\n",
       "    <tr>\n",
       "      <th>983</th>\n",
       "      <td>One-Above-All</td>\n",
       "      <td>125</td>\n",
       "      <td>Undoubtedly the most mysterious character wit...</td>\n",
       "      <td>125.0</td>\n",
       "    </tr>\n",
       "    <tr>\n",
       "      <th>916</th>\n",
       "      <td>Monstrox</td>\n",
       "      <td>126</td>\n",
       "      <td>The Book of Monsters was formerly a necromance...</td>\n",
       "      <td>126.0</td>\n",
       "    </tr>\n",
       "    <tr>\n",
       "      <th>416</th>\n",
       "      <td>Dormammu</td>\n",
       "      <td>142</td>\n",
       "      <td>Born untold thousands or even millions of year...</td>\n",
       "      <td>142.0</td>\n",
       "    </tr>\n",
       "    <tr>\n",
       "      <th>1348</th>\n",
       "      <td>Unicron</td>\n",
       "      <td>146</td>\n",
       "      <td>Unicron is the eternal arch-enemy of his twin ...</td>\n",
       "      <td>146.0</td>\n",
       "    </tr>\n",
       "    <tr>\n",
       "      <th>1286</th>\n",
       "      <td>The Keeper</td>\n",
       "      <td>152</td>\n",
       "      <td>His origin is the same as the original Silver ...</td>\n",
       "      <td>152.0</td>\n",
       "    </tr>\n",
       "    <tr>\n",
       "      <th>934</th>\n",
       "      <td>Nadakhan</td>\n",
       "      <td>163</td>\n",
       "      <td>Nadakhan is the captain of the Sky Pirates, th...</td>\n",
       "      <td>163.0</td>\n",
       "    </tr>\n",
       "    <tr>\n",
       "      <th>1293</th>\n",
       "      <td>The Overlord</td>\n",
       "      <td>165</td>\n",
       "      <td>Before Ninjago's creation, there were two kind...</td>\n",
       "      <td>165.0</td>\n",
       "    </tr>\n",
       "    <tr>\n",
       "      <th>522</th>\n",
       "      <td>Goblin Force</td>\n",
       "      <td>169</td>\n",
       "      <td>The Goblin Force was born at the beginning of ...</td>\n",
       "      <td>169.0</td>\n",
       "    </tr>\n",
       "    <tr>\n",
       "      <th>421</th>\n",
       "      <td>Dracula</td>\n",
       "      <td>211</td>\n",
       "      <td>The man later known as Dracula was originally...</td>\n",
       "      <td>211.0</td>\n",
       "    </tr>\n",
       "    <tr>\n",
       "      <th>110</th>\n",
       "      <td>Aztar</td>\n",
       "      <td>222</td>\n",
       "      <td>Since the beginnings of human civilization the...</td>\n",
       "      <td>222.0</td>\n",
       "    </tr>\n",
       "    <tr>\n",
       "      <th>527</th>\n",
       "      <td>Golden Ninja</td>\n",
       "      <td>226</td>\n",
       "      <td>Lloyd becomes the Golden Ninja, and fights the...</td>\n",
       "      <td>226.0</td>\n",
       "    </tr>\n",
       "    <tr>\n",
       "      <th>393</th>\n",
       "      <td>Devilman</td>\n",
       "      <td>229</td>\n",
       "      <td>Transformation Akira is first seen walking hom...</td>\n",
       "      <td>229.0</td>\n",
       "    </tr>\n",
       "    <tr>\n",
       "      <th>538</th>\n",
       "      <td>Great Evil Beast</td>\n",
       "      <td>237</td>\n",
       "      <td>The Great Evil Beast was formed when God utter...</td>\n",
       "      <td>237.0</td>\n",
       "    </tr>\n",
       "  </tbody>\n",
       "</table>\n",
       "</div>"
      ],
      "text/plain": [
       "                            name overall_score  \\\n",
       "631                     Imperiex            87   \n",
       "732                   Khanjikhan            89   \n",
       "1143                 Sensei Yang            94   \n",
       "980                        Omega           108   \n",
       "389   Destruction Of The Endless           112   \n",
       "407     Doctor Strange (Classic)           120   \n",
       "420                 Dr Manhattan           124   \n",
       "983                One-Above-All           125   \n",
       "916                     Monstrox           126   \n",
       "416                     Dormammu           142   \n",
       "1348                     Unicron           146   \n",
       "1286                  The Keeper           152   \n",
       "934                     Nadakhan           163   \n",
       "1293                The Overlord           165   \n",
       "522                 Goblin Force           169   \n",
       "421                      Dracula           211   \n",
       "110                        Aztar           222   \n",
       "527                 Golden Ninja           226   \n",
       "393                     Devilman           229   \n",
       "538             Great Evil Beast           237   \n",
       "\n",
       "                                           history_text  _score  \n",
       "631   The embodiment of entropy, Imperiex takes the ...    87.0  \n",
       "732   At an unknown point in time, Khanjikhan marrie...    89.0  \n",
       "1143  At an unknown point in time, Yang went on a qu...    94.0  \n",
       "980   When garmadon and Lloyd were about to destroy ...   108.0  \n",
       "389   Destruction is the fourth eldest of the Endles...   112.0  \n",
       "407     Stephen Strange was born to Eugene and Bever...   120.0  \n",
       "420    Jonathan Osterman was born in 1929. His fathe...   124.0  \n",
       "983    Undoubtedly the most mysterious character wit...   125.0  \n",
       "916   The Book of Monsters was formerly a necromance...   126.0  \n",
       "416   Born untold thousands or even millions of year...   142.0  \n",
       "1348  Unicron is the eternal arch-enemy of his twin ...   146.0  \n",
       "1286  His origin is the same as the original Silver ...   152.0  \n",
       "934   Nadakhan is the captain of the Sky Pirates, th...   163.0  \n",
       "1293  Before Ninjago's creation, there were two kind...   165.0  \n",
       "522   The Goblin Force was born at the beginning of ...   169.0  \n",
       "421    The man later known as Dracula was originally...   211.0  \n",
       "110   Since the beginnings of human civilization the...   222.0  \n",
       "527   Lloyd becomes the Golden Ninja, and fights the...   226.0  \n",
       "393   Transformation Akira is first seen walking hom...   229.0  \n",
       "538   The Great Evil Beast was formed when God utter...   237.0  "
      ]
     },
     "execution_count": 697,
     "metadata": {},
     "output_type": "execute_result"
    }
   ],
   "source": [
    "df = df[df._score.notnull()]\n",
    "df.sort_values(\"_score\",).tail(20)"
   ]
  },
  {
   "cell_type": "markdown",
   "id": "c7b6463a",
   "metadata": {},
   "source": [
    "# 4. Exploratory Data Analysis"
   ]
  },
  {
   "cell_type": "markdown",
   "id": "24de4f64",
   "metadata": {},
   "source": [
    "## 4.1 _score"
   ]
  },
  {
   "cell_type": "code",
   "execution_count": 698,
   "id": "ddea2811",
   "metadata": {
    "ExecuteTime": {
     "end_time": "2022-06-27T14:35:52.980884Z",
     "start_time": "2022-06-27T14:35:52.972545Z"
    }
   },
   "outputs": [
    {
     "data": {
      "text/html": [
       "<div>\n",
       "<style scoped>\n",
       "    .dataframe tbody tr th:only-of-type {\n",
       "        vertical-align: middle;\n",
       "    }\n",
       "\n",
       "    .dataframe tbody tr th {\n",
       "        vertical-align: top;\n",
       "    }\n",
       "\n",
       "    .dataframe thead th {\n",
       "        text-align: right;\n",
       "    }\n",
       "</style>\n",
       "<table border=\"1\" class=\"dataframe\">\n",
       "  <thead>\n",
       "    <tr style=\"text-align: right;\">\n",
       "      <th></th>\n",
       "      <th>_score</th>\n",
       "    </tr>\n",
       "  </thead>\n",
       "  <tbody>\n",
       "    <tr>\n",
       "      <th>count</th>\n",
       "      <td>1249.000000</td>\n",
       "    </tr>\n",
       "    <tr>\n",
       "      <th>mean</th>\n",
       "      <td>14.249800</td>\n",
       "    </tr>\n",
       "    <tr>\n",
       "      <th>std</th>\n",
       "      <td>21.886399</td>\n",
       "    </tr>\n",
       "    <tr>\n",
       "      <th>min</th>\n",
       "      <td>1.000000</td>\n",
       "    </tr>\n",
       "    <tr>\n",
       "      <th>25%</th>\n",
       "      <td>6.000000</td>\n",
       "    </tr>\n",
       "    <tr>\n",
       "      <th>50%</th>\n",
       "      <td>8.000000</td>\n",
       "    </tr>\n",
       "    <tr>\n",
       "      <th>75%</th>\n",
       "      <td>13.000000</td>\n",
       "    </tr>\n",
       "    <tr>\n",
       "      <th>max</th>\n",
       "      <td>237.000000</td>\n",
       "    </tr>\n",
       "  </tbody>\n",
       "</table>\n",
       "</div>"
      ],
      "text/plain": [
       "            _score\n",
       "count  1249.000000\n",
       "mean     14.249800\n",
       "std      21.886399\n",
       "min       1.000000\n",
       "25%       6.000000\n",
       "50%       8.000000\n",
       "75%      13.000000\n",
       "max     237.000000"
      ]
     },
     "execution_count": 698,
     "metadata": {},
     "output_type": "execute_result"
    }
   ],
   "source": [
    "df.describe()"
   ]
  },
  {
   "cell_type": "code",
   "execution_count": 699,
   "id": "185afa6a",
   "metadata": {
    "ExecuteTime": {
     "end_time": "2022-06-27T14:35:53.063659Z",
     "start_time": "2022-06-27T14:35:52.982960Z"
    },
    "scrolled": true
   },
   "outputs": [
    {
     "name": "stderr",
     "output_type": "stream",
     "text": [
      "/home/alex/Desktop/ocr-donnees-textuelles/env/lib/python3.8/site-packages/seaborn/_decorators.py:36: FutureWarning:\n",
      "\n",
      "Pass the following variable as a keyword arg: x. From version 0.12, the only valid positional argument will be `data`, and passing other arguments without an explicit keyword will result in an error or misinterpretation.\n",
      "\n"
     ]
    },
    {
     "data": {
      "text/plain": [
       "<AxesSubplot:xlabel='_score'>"
      ]
     },
     "execution_count": 699,
     "metadata": {},
     "output_type": "execute_result"
    },
    {
     "data": {
      "image/png": "[encoded data removed]",
      "text/plain": [
       "<Figure size 432x288 with 1 Axes>"
      ]
     },
     "metadata": {
      "needs_background": "light"
     },
     "output_type": "display_data"
    }
   ],
   "source": [
    "sns.boxplot(df._score)"
   ]
  },
  {
   "cell_type": "code",
   "execution_count": null,
   "id": "6f4f6eca",
   "metadata": {},
   "outputs": [],
   "source": []
  },
  {
   "cell_type": "code",
   "execution_count": 700,
   "id": "95bb6982",
   "metadata": {
    "ExecuteTime": {
     "end_time": "2022-06-27T14:35:53.482709Z",
     "start_time": "2022-06-27T14:35:53.065971Z"
    },
    "scrolled": false
   },
   "outputs": [
    {
     "data": {
      "text/plain": [
       "<seaborn.axisgrid.FacetGrid at 0x7f86173c8640>"
      ]
     },
     "execution_count": 700,
     "metadata": {},
     "output_type": "execute_result"
    },
    {
     "data": {
      "image/png": "[encoded data removed]",
      "text/plain": [
       "<Figure size 360x360 with 1 Axes>"
      ]
     },
     "metadata": {
      "needs_background": "light"
     },
     "output_type": "display_data"
    }
   ],
   "source": [
    "sns.displot(df._score)"
   ]
  },
  {
   "cell_type": "code",
   "execution_count": 701,
   "id": "53089958",
   "metadata": {
    "ExecuteTime": {
     "end_time": "2022-06-27T14:35:53.496573Z",
     "start_time": "2022-06-27T14:35:53.484790Z"
    },
    "scrolled": true
   },
   "outputs": [
    {
     "data": {
      "text/html": [
       "<div>\n",
       "<style scoped>\n",
       "    .dataframe tbody tr th:only-of-type {\n",
       "        vertical-align: middle;\n",
       "    }\n",
       "\n",
       "    .dataframe tbody tr th {\n",
       "        vertical-align: top;\n",
       "    }\n",
       "\n",
       "    .dataframe thead th {\n",
       "        text-align: right;\n",
       "    }\n",
       "</style>\n",
       "<table border=\"1\" class=\"dataframe\">\n",
       "  <thead>\n",
       "    <tr style=\"text-align: right;\">\n",
       "      <th></th>\n",
       "      <th>name</th>\n",
       "      <th>overall_score</th>\n",
       "      <th>history_text</th>\n",
       "      <th>_score</th>\n",
       "    </tr>\n",
       "  </thead>\n",
       "  <tbody>\n",
       "    <tr>\n",
       "      <th>129</th>\n",
       "      <td>Bathound</td>\n",
       "      <td>1</td>\n",
       "      <td>Ace was the guide dog of a blind native Americ...</td>\n",
       "      <td>1.0</td>\n",
       "    </tr>\n",
       "    <tr>\n",
       "      <th>994</th>\n",
       "      <td>Paul Blart</td>\n",
       "      <td>1</td>\n",
       "      <td>Paul Blart is a mall cop. Everyday he protect...</td>\n",
       "      <td>1.0</td>\n",
       "    </tr>\n",
       "    <tr>\n",
       "      <th>261</th>\n",
       "      <td>Captain Cold (CW)</td>\n",
       "      <td>2</td>\n",
       "      <td>Leonard Snart wasn’t the smartest person ever ...</td>\n",
       "      <td>2.0</td>\n",
       "    </tr>\n",
       "    <tr>\n",
       "      <th>1427</th>\n",
       "      <td>Wyatt Wingfoot</td>\n",
       "      <td>2</td>\n",
       "      <td>Wyatt Wingfoot is a member of the Keewazi trib...</td>\n",
       "      <td>2.0</td>\n",
       "    </tr>\n",
       "    <tr>\n",
       "      <th>665</th>\n",
       "      <td>Jaime Lannister</td>\n",
       "      <td>2</td>\n",
       "      <td>Jaime is the eldest son of Joanna Lannister an...</td>\n",
       "      <td>2.0</td>\n",
       "    </tr>\n",
       "    <tr>\n",
       "      <th>758</th>\n",
       "      <td>Kool-Aid Man</td>\n",
       "      <td>2</td>\n",
       "      <td>Before he was officially the Kool-Aid Man in 1...</td>\n",
       "      <td>2.0</td>\n",
       "    </tr>\n",
       "    <tr>\n",
       "      <th>22</th>\n",
       "      <td>Agent Bob</td>\n",
       "      <td>2</td>\n",
       "      <td>Bob, Agent of Hydra, is a sidekick of Deadpo...</td>\n",
       "      <td>2.0</td>\n",
       "    </tr>\n",
       "    <tr>\n",
       "      <th>292</th>\n",
       "      <td>Chope</td>\n",
       "      <td>2</td>\n",
       "      <td>On the first night of the Tournament of Elemen...</td>\n",
       "      <td>2.0</td>\n",
       "    </tr>\n",
       "    <tr>\n",
       "      <th>259</th>\n",
       "      <td>Captain Boomerang</td>\n",
       "      <td>2</td>\n",
       "      <td>George \"Digger\" Harkness was raised in poverty...</td>\n",
       "      <td>2.0</td>\n",
       "    </tr>\n",
       "    <tr>\n",
       "      <th>90</th>\n",
       "      <td>Arnold Flass</td>\n",
       "      <td>2</td>\n",
       "      <td>Like many officers on the Gotham City Police D...</td>\n",
       "      <td>2.0</td>\n",
       "    </tr>\n",
       "    <tr>\n",
       "      <th>671</th>\n",
       "      <td>Jar Jar Binks</td>\n",
       "      <td>2</td>\n",
       "      <td>Jar Jar Binks is a Gungan, an amphibious spec...</td>\n",
       "      <td>2.0</td>\n",
       "    </tr>\n",
       "    <tr>\n",
       "      <th>70</th>\n",
       "      <td>Aquababy</td>\n",
       "      <td>2</td>\n",
       "      <td>Arthur Curry Jr. was born the son of the Atla...</td>\n",
       "      <td>2.0</td>\n",
       "    </tr>\n",
       "    <tr>\n",
       "      <th>198</th>\n",
       "      <td>Blackwing</td>\n",
       "      <td>3</td>\n",
       "      <td>Joseph Manfredi is the son of Silvio Manfredi,...</td>\n",
       "      <td>3.0</td>\n",
       "    </tr>\n",
       "    <tr>\n",
       "      <th>607</th>\n",
       "      <td>Honey Badger</td>\n",
       "      <td>3</td>\n",
       "      <td>Gabrielle is one of at least ten clones of Wol...</td>\n",
       "      <td>3.0</td>\n",
       "    </tr>\n",
       "    <tr>\n",
       "      <th>56</th>\n",
       "      <td>Angel Salvadore (FOX)</td>\n",
       "      <td>3</td>\n",
       "      <td>In 1962, Angel was working as a stripper when ...</td>\n",
       "      <td>3.0</td>\n",
       "    </tr>\n",
       "    <tr>\n",
       "      <th>1274</th>\n",
       "      <td>The Cape</td>\n",
       "      <td>3</td>\n",
       "      <td>ince Faraday, an honest police detective who i...</td>\n",
       "      <td>3.0</td>\n",
       "    </tr>\n",
       "    <tr>\n",
       "      <th>264</th>\n",
       "      <td>Captain Hindsight</td>\n",
       "      <td>3</td>\n",
       "      <td>Jack \"Captain Hindsight\" Brollin is a superhe...</td>\n",
       "      <td>3.0</td>\n",
       "    </tr>\n",
       "    <tr>\n",
       "      <th>156</th>\n",
       "      <td>Big Daddy</td>\n",
       "      <td>3</td>\n",
       "      <td>Damon Macready was a comic book geek and an ac...</td>\n",
       "      <td>3.0</td>\n",
       "    </tr>\n",
       "    <tr>\n",
       "      <th>99</th>\n",
       "      <td>Atom Girl</td>\n",
       "      <td>3</td>\n",
       "      <td>Atom Girl's existence was nothing but myth to ...</td>\n",
       "      <td>3.0</td>\n",
       "    </tr>\n",
       "    <tr>\n",
       "      <th>733</th>\n",
       "      <td>Kick-Ass</td>\n",
       "      <td>3</td>\n",
       "      <td>Dave Lizewski lead a typical high school life....</td>\n",
       "      <td>3.0</td>\n",
       "    </tr>\n",
       "  </tbody>\n",
       "</table>\n",
       "</div>"
      ],
      "text/plain": [
       "                       name overall_score  \\\n",
       "129                Bathound             1   \n",
       "994              Paul Blart             1   \n",
       "261       Captain Cold (CW)             2   \n",
       "1427         Wyatt Wingfoot             2   \n",
       "665         Jaime Lannister             2   \n",
       "758            Kool-Aid Man             2   \n",
       "22                Agent Bob             2   \n",
       "292                   Chope             2   \n",
       "259       Captain Boomerang             2   \n",
       "90             Arnold Flass             2   \n",
       "671           Jar Jar Binks             2   \n",
       "70                 Aquababy             2   \n",
       "198               Blackwing             3   \n",
       "607            Honey Badger             3   \n",
       "56    Angel Salvadore (FOX)             3   \n",
       "1274               The Cape             3   \n",
       "264       Captain Hindsight             3   \n",
       "156               Big Daddy             3   \n",
       "99                Atom Girl             3   \n",
       "733                Kick-Ass             3   \n",
       "\n",
       "                                           history_text  _score  \n",
       "129   Ace was the guide dog of a blind native Americ...     1.0  \n",
       "994    Paul Blart is a mall cop. Everyday he protect...     1.0  \n",
       "261   Leonard Snart wasn’t the smartest person ever ...     2.0  \n",
       "1427  Wyatt Wingfoot is a member of the Keewazi trib...     2.0  \n",
       "665   Jaime is the eldest son of Joanna Lannister an...     2.0  \n",
       "758   Before he was officially the Kool-Aid Man in 1...     2.0  \n",
       "22      Bob, Agent of Hydra, is a sidekick of Deadpo...     2.0  \n",
       "292   On the first night of the Tournament of Elemen...     2.0  \n",
       "259   George \"Digger\" Harkness was raised in poverty...     2.0  \n",
       "90    Like many officers on the Gotham City Police D...     2.0  \n",
       "671    Jar Jar Binks is a Gungan, an amphibious spec...     2.0  \n",
       "70     Arthur Curry Jr. was born the son of the Atla...     2.0  \n",
       "198   Joseph Manfredi is the son of Silvio Manfredi,...     3.0  \n",
       "607   Gabrielle is one of at least ten clones of Wol...     3.0  \n",
       "56    In 1962, Angel was working as a stripper when ...     3.0  \n",
       "1274  ince Faraday, an honest police detective who i...     3.0  \n",
       "264    Jack \"Captain Hindsight\" Brollin is a superhe...     3.0  \n",
       "156   Damon Macready was a comic book geek and an ac...     3.0  \n",
       "99    Atom Girl's existence was nothing but myth to ...     3.0  \n",
       "733   Dave Lizewski lead a typical high school life....     3.0  "
      ]
     },
     "execution_count": 701,
     "metadata": {},
     "output_type": "execute_result"
    }
   ],
   "source": [
    "df.sort_values(\"_score\").head(20)"
   ]
  },
  {
   "cell_type": "code",
   "execution_count": 702,
   "id": "b70ddb0a",
   "metadata": {
    "ExecuteTime": {
     "end_time": "2022-06-27T14:35:53.511319Z",
     "start_time": "2022-06-27T14:35:53.498515Z"
    }
   },
   "outputs": [
    {
     "data": {
      "text/html": [
       "<div>\n",
       "<style scoped>\n",
       "    .dataframe tbody tr th:only-of-type {\n",
       "        vertical-align: middle;\n",
       "    }\n",
       "\n",
       "    .dataframe tbody tr th {\n",
       "        vertical-align: top;\n",
       "    }\n",
       "\n",
       "    .dataframe thead th {\n",
       "        text-align: right;\n",
       "    }\n",
       "</style>\n",
       "<table border=\"1\" class=\"dataframe\">\n",
       "  <thead>\n",
       "    <tr style=\"text-align: right;\">\n",
       "      <th></th>\n",
       "      <th>name</th>\n",
       "      <th>overall_score</th>\n",
       "      <th>history_text</th>\n",
       "      <th>_score</th>\n",
       "    </tr>\n",
       "  </thead>\n",
       "  <tbody>\n",
       "    <tr>\n",
       "      <th>631</th>\n",
       "      <td>Imperiex</td>\n",
       "      <td>87</td>\n",
       "      <td>The embodiment of entropy, Imperiex takes the ...</td>\n",
       "      <td>87.0</td>\n",
       "    </tr>\n",
       "    <tr>\n",
       "      <th>732</th>\n",
       "      <td>Khanjikhan</td>\n",
       "      <td>89</td>\n",
       "      <td>At an unknown point in time, Khanjikhan marrie...</td>\n",
       "      <td>89.0</td>\n",
       "    </tr>\n",
       "    <tr>\n",
       "      <th>1143</th>\n",
       "      <td>Sensei Yang</td>\n",
       "      <td>94</td>\n",
       "      <td>At an unknown point in time, Yang went on a qu...</td>\n",
       "      <td>94.0</td>\n",
       "    </tr>\n",
       "    <tr>\n",
       "      <th>980</th>\n",
       "      <td>Omega</td>\n",
       "      <td>108</td>\n",
       "      <td>When garmadon and Lloyd were about to destroy ...</td>\n",
       "      <td>108.0</td>\n",
       "    </tr>\n",
       "    <tr>\n",
       "      <th>389</th>\n",
       "      <td>Destruction Of The Endless</td>\n",
       "      <td>112</td>\n",
       "      <td>Destruction is the fourth eldest of the Endles...</td>\n",
       "      <td>112.0</td>\n",
       "    </tr>\n",
       "    <tr>\n",
       "      <th>407</th>\n",
       "      <td>Doctor Strange (Classic)</td>\n",
       "      <td>120</td>\n",
       "      <td>Stephen Strange was born to Eugene and Bever...</td>\n",
       "      <td>120.0</td>\n",
       "    </tr>\n",
       "    <tr>\n",
       "      <th>420</th>\n",
       "      <td>Dr Manhattan</td>\n",
       "      <td>124</td>\n",
       "      <td>Jonathan Osterman was born in 1929. His fathe...</td>\n",
       "      <td>124.0</td>\n",
       "    </tr>\n",
       "    <tr>\n",
       "      <th>983</th>\n",
       "      <td>One-Above-All</td>\n",
       "      <td>125</td>\n",
       "      <td>Undoubtedly the most mysterious character wit...</td>\n",
       "      <td>125.0</td>\n",
       "    </tr>\n",
       "    <tr>\n",
       "      <th>916</th>\n",
       "      <td>Monstrox</td>\n",
       "      <td>126</td>\n",
       "      <td>The Book of Monsters was formerly a necromance...</td>\n",
       "      <td>126.0</td>\n",
       "    </tr>\n",
       "    <tr>\n",
       "      <th>416</th>\n",
       "      <td>Dormammu</td>\n",
       "      <td>142</td>\n",
       "      <td>Born untold thousands or even millions of year...</td>\n",
       "      <td>142.0</td>\n",
       "    </tr>\n",
       "    <tr>\n",
       "      <th>1348</th>\n",
       "      <td>Unicron</td>\n",
       "      <td>146</td>\n",
       "      <td>Unicron is the eternal arch-enemy of his twin ...</td>\n",
       "      <td>146.0</td>\n",
       "    </tr>\n",
       "    <tr>\n",
       "      <th>1286</th>\n",
       "      <td>The Keeper</td>\n",
       "      <td>152</td>\n",
       "      <td>His origin is the same as the original Silver ...</td>\n",
       "      <td>152.0</td>\n",
       "    </tr>\n",
       "    <tr>\n",
       "      <th>934</th>\n",
       "      <td>Nadakhan</td>\n",
       "      <td>163</td>\n",
       "      <td>Nadakhan is the captain of the Sky Pirates, th...</td>\n",
       "      <td>163.0</td>\n",
       "    </tr>\n",
       "    <tr>\n",
       "      <th>1293</th>\n",
       "      <td>The Overlord</td>\n",
       "      <td>165</td>\n",
       "      <td>Before Ninjago's creation, there were two kind...</td>\n",
       "      <td>165.0</td>\n",
       "    </tr>\n",
       "    <tr>\n",
       "      <th>522</th>\n",
       "      <td>Goblin Force</td>\n",
       "      <td>169</td>\n",
       "      <td>The Goblin Force was born at the beginning of ...</td>\n",
       "      <td>169.0</td>\n",
       "    </tr>\n",
       "    <tr>\n",
       "      <th>421</th>\n",
       "      <td>Dracula</td>\n",
       "      <td>211</td>\n",
       "      <td>The man later known as Dracula was originally...</td>\n",
       "      <td>211.0</td>\n",
       "    </tr>\n",
       "    <tr>\n",
       "      <th>110</th>\n",
       "      <td>Aztar</td>\n",
       "      <td>222</td>\n",
       "      <td>Since the beginnings of human civilization the...</td>\n",
       "      <td>222.0</td>\n",
       "    </tr>\n",
       "    <tr>\n",
       "      <th>527</th>\n",
       "      <td>Golden Ninja</td>\n",
       "      <td>226</td>\n",
       "      <td>Lloyd becomes the Golden Ninja, and fights the...</td>\n",
       "      <td>226.0</td>\n",
       "    </tr>\n",
       "    <tr>\n",
       "      <th>393</th>\n",
       "      <td>Devilman</td>\n",
       "      <td>229</td>\n",
       "      <td>Transformation Akira is first seen walking hom...</td>\n",
       "      <td>229.0</td>\n",
       "    </tr>\n",
       "    <tr>\n",
       "      <th>538</th>\n",
       "      <td>Great Evil Beast</td>\n",
       "      <td>237</td>\n",
       "      <td>The Great Evil Beast was formed when God utter...</td>\n",
       "      <td>237.0</td>\n",
       "    </tr>\n",
       "  </tbody>\n",
       "</table>\n",
       "</div>"
      ],
      "text/plain": [
       "                            name overall_score  \\\n",
       "631                     Imperiex            87   \n",
       "732                   Khanjikhan            89   \n",
       "1143                 Sensei Yang            94   \n",
       "980                        Omega           108   \n",
       "389   Destruction Of The Endless           112   \n",
       "407     Doctor Strange (Classic)           120   \n",
       "420                 Dr Manhattan           124   \n",
       "983                One-Above-All           125   \n",
       "916                     Monstrox           126   \n",
       "416                     Dormammu           142   \n",
       "1348                     Unicron           146   \n",
       "1286                  The Keeper           152   \n",
       "934                     Nadakhan           163   \n",
       "1293                The Overlord           165   \n",
       "522                 Goblin Force           169   \n",
       "421                      Dracula           211   \n",
       "110                        Aztar           222   \n",
       "527                 Golden Ninja           226   \n",
       "393                     Devilman           229   \n",
       "538             Great Evil Beast           237   \n",
       "\n",
       "                                           history_text  _score  \n",
       "631   The embodiment of entropy, Imperiex takes the ...    87.0  \n",
       "732   At an unknown point in time, Khanjikhan marrie...    89.0  \n",
       "1143  At an unknown point in time, Yang went on a qu...    94.0  \n",
       "980   When garmadon and Lloyd were about to destroy ...   108.0  \n",
       "389   Destruction is the fourth eldest of the Endles...   112.0  \n",
       "407     Stephen Strange was born to Eugene and Bever...   120.0  \n",
       "420    Jonathan Osterman was born in 1929. His fathe...   124.0  \n",
       "983    Undoubtedly the most mysterious character wit...   125.0  \n",
       "916   The Book of Monsters was formerly a necromance...   126.0  \n",
       "416   Born untold thousands or even millions of year...   142.0  \n",
       "1348  Unicron is the eternal arch-enemy of his twin ...   146.0  \n",
       "1286  His origin is the same as the original Silver ...   152.0  \n",
       "934   Nadakhan is the captain of the Sky Pirates, th...   163.0  \n",
       "1293  Before Ninjago's creation, there were two kind...   165.0  \n",
       "522   The Goblin Force was born at the beginning of ...   169.0  \n",
       "421    The man later known as Dracula was originally...   211.0  \n",
       "110   Since the beginnings of human civilization the...   222.0  \n",
       "527   Lloyd becomes the Golden Ninja, and fights the...   226.0  \n",
       "393   Transformation Akira is first seen walking hom...   229.0  \n",
       "538   The Great Evil Beast was formed when God utter...   237.0  "
      ]
     },
     "execution_count": 702,
     "metadata": {},
     "output_type": "execute_result"
    }
   ],
   "source": [
    "df.sort_values(\"_score\").tail(20)"
   ]
  },
  {
   "cell_type": "code",
   "execution_count": 703,
   "id": "3bbcc1c2",
   "metadata": {
    "ExecuteTime": {
     "end_time": "2022-06-27T14:35:53.521286Z",
     "start_time": "2022-06-27T14:35:53.513061Z"
    }
   },
   "outputs": [
    {
     "data": {
      "text/plain": [
       "count    1249.000000\n",
       "mean        2.279247\n",
       "std         0.727329\n",
       "min         0.000000\n",
       "25%         1.791759\n",
       "50%         2.079442\n",
       "75%         2.564949\n",
       "max         5.468060\n",
       "Name: _log_score, dtype: float64"
      ]
     },
     "execution_count": 703,
     "metadata": {},
     "output_type": "execute_result"
    }
   ],
   "source": [
    "df[\"_log_score\"] = np.log(df._score)\n",
    "df[\"_log_score\"].describe()"
   ]
  },
  {
   "cell_type": "code",
   "execution_count": 704,
   "id": "d5875e8c",
   "metadata": {
    "ExecuteTime": {
     "end_time": "2022-06-27T14:35:53.627818Z",
     "start_time": "2022-06-27T14:35:53.522796Z"
    }
   },
   "outputs": [
    {
     "name": "stderr",
     "output_type": "stream",
     "text": [
      "/home/alex/Desktop/ocr-donnees-textuelles/env/lib/python3.8/site-packages/seaborn/_decorators.py:36: FutureWarning:\n",
      "\n",
      "Pass the following variable as a keyword arg: x. From version 0.12, the only valid positional argument will be `data`, and passing other arguments without an explicit keyword will result in an error or misinterpretation.\n",
      "\n"
     ]
    },
    {
     "data": {
      "text/plain": [
       "<AxesSubplot:xlabel='_log_score'>"
      ]
     },
     "execution_count": 704,
     "metadata": {},
     "output_type": "execute_result"
    },
    {
     "data": {
      "image/png": "[encoded data removed]",
      "text/plain": [
       "<Figure size 432x288 with 1 Axes>"
      ]
     },
     "metadata": {
      "needs_background": "light"
     },
     "output_type": "display_data"
    }
   ],
   "source": [
    "sns.boxplot(df._log_score)"
   ]
  },
  {
   "cell_type": "code",
   "execution_count": 705,
   "id": "ba31bfe3",
   "metadata": {
    "ExecuteTime": {
     "end_time": "2022-06-27T14:35:53.836992Z",
     "start_time": "2022-06-27T14:35:53.629791Z"
    }
   },
   "outputs": [
    {
     "data": {
      "text/plain": [
       "<seaborn.axisgrid.FacetGrid at 0x7f86172de5e0>"
      ]
     },
     "execution_count": 705,
     "metadata": {},
     "output_type": "execute_result"
    },
    {
     "data": {
      "image/png": "[encoded data removed]",
      "text/plain": [
       "<Figure size 360x360 with 1 Axes>"
      ]
     },
     "metadata": {
      "needs_background": "light"
     },
     "output_type": "display_data"
    }
   ],
   "source": [
    "sns.displot(df._log_score)"
   ]
  },
  {
   "cell_type": "code",
   "execution_count": 706,
   "id": "6e86ae9c",
   "metadata": {
    "ExecuteTime": {
     "end_time": "2022-06-27T14:35:53.846756Z",
     "start_time": "2022-06-27T14:35:53.838529Z"
    }
   },
   "outputs": [
    {
     "data": {
      "text/html": [
       "<div>\n",
       "<style scoped>\n",
       "    .dataframe tbody tr th:only-of-type {\n",
       "        vertical-align: middle;\n",
       "    }\n",
       "\n",
       "    .dataframe tbody tr th {\n",
       "        vertical-align: top;\n",
       "    }\n",
       "\n",
       "    .dataframe thead th {\n",
       "        text-align: right;\n",
       "    }\n",
       "</style>\n",
       "<table border=\"1\" class=\"dataframe\">\n",
       "  <thead>\n",
       "    <tr style=\"text-align: right;\">\n",
       "      <th></th>\n",
       "      <th>name</th>\n",
       "      <th>history_text</th>\n",
       "      <th>_score</th>\n",
       "      <th>_log_score</th>\n",
       "    </tr>\n",
       "  </thead>\n",
       "  <tbody>\n",
       "    <tr>\n",
       "      <th>0</th>\n",
       "      <td>3-D Man</td>\n",
       "      <td>Delroy Garrett, Jr. grew up to become a track ...</td>\n",
       "      <td>6.0</td>\n",
       "      <td>1.791759</td>\n",
       "    </tr>\n",
       "    <tr>\n",
       "      <th>1</th>\n",
       "      <td>514A (Gotham)</td>\n",
       "      <td>He was one of the many prisoners of Indian Hil...</td>\n",
       "      <td>10.0</td>\n",
       "      <td>2.302585</td>\n",
       "    </tr>\n",
       "    <tr>\n",
       "      <th>2</th>\n",
       "      <td>A-Bomb</td>\n",
       "      <td>Richard \"Rick\" Jones was orphaned at a young ...</td>\n",
       "      <td>20.0</td>\n",
       "      <td>2.995732</td>\n",
       "    </tr>\n",
       "    <tr>\n",
       "      <th>3</th>\n",
       "      <td>Aa</td>\n",
       "      <td>Aa is one of the more passive members of the P...</td>\n",
       "      <td>12.0</td>\n",
       "      <td>2.484907</td>\n",
       "    </tr>\n",
       "    <tr>\n",
       "      <th>4</th>\n",
       "      <td>Aaron Cash</td>\n",
       "      <td>Aaron Cash is the head of security at Arkham A...</td>\n",
       "      <td>5.0</td>\n",
       "      <td>1.609438</td>\n",
       "    </tr>\n",
       "  </tbody>\n",
       "</table>\n",
       "</div>"
      ],
      "text/plain": [
       "            name                                       history_text  _score  \\\n",
       "0        3-D Man  Delroy Garrett, Jr. grew up to become a track ...     6.0   \n",
       "1  514A (Gotham)  He was one of the many prisoners of Indian Hil...    10.0   \n",
       "2         A-Bomb   Richard \"Rick\" Jones was orphaned at a young ...    20.0   \n",
       "3             Aa  Aa is one of the more passive members of the P...    12.0   \n",
       "4     Aaron Cash  Aaron Cash is the head of security at Arkham A...     5.0   \n",
       "\n",
       "   _log_score  \n",
       "0    1.791759  \n",
       "1    2.302585  \n",
       "2    2.995732  \n",
       "3    2.484907  \n",
       "4    1.609438  "
      ]
     },
     "execution_count": 706,
     "metadata": {},
     "output_type": "execute_result"
    }
   ],
   "source": [
    "df.drop(columns=\"overall_score\", inplace=True)\n",
    "df.head()"
   ]
  },
  {
   "cell_type": "markdown",
   "id": "2a7a522e",
   "metadata": {},
   "source": [
    "## 4.1 Length"
   ]
  },
  {
   "cell_type": "code",
   "execution_count": 707,
   "id": "3d01be48",
   "metadata": {
    "ExecuteTime": {
     "end_time": "2022-06-27T14:35:53.858587Z",
     "start_time": "2022-06-27T14:35:53.848519Z"
    },
    "scrolled": true
   },
   "outputs": [
    {
     "data": {
      "text/html": [
       "<div>\n",
       "<style scoped>\n",
       "    .dataframe tbody tr th:only-of-type {\n",
       "        vertical-align: middle;\n",
       "    }\n",
       "\n",
       "    .dataframe tbody tr th {\n",
       "        vertical-align: top;\n",
       "    }\n",
       "\n",
       "    .dataframe thead th {\n",
       "        text-align: right;\n",
       "    }\n",
       "</style>\n",
       "<table border=\"1\" class=\"dataframe\">\n",
       "  <thead>\n",
       "    <tr style=\"text-align: right;\">\n",
       "      <th></th>\n",
       "      <th>name</th>\n",
       "      <th>history_text</th>\n",
       "    </tr>\n",
       "  </thead>\n",
       "  <tbody>\n",
       "    <tr>\n",
       "      <th>count</th>\n",
       "      <td>1249</td>\n",
       "      <td>1249</td>\n",
       "    </tr>\n",
       "    <tr>\n",
       "      <th>unique</th>\n",
       "      <td>1249</td>\n",
       "      <td>1244</td>\n",
       "    </tr>\n",
       "    <tr>\n",
       "      <th>top</th>\n",
       "      <td>3-D Man</td>\n",
       "      <td>Childhood Trauma Robert Bruce Banner was the s...</td>\n",
       "    </tr>\n",
       "    <tr>\n",
       "      <th>freq</th>\n",
       "      <td>1</td>\n",
       "      <td>3</td>\n",
       "    </tr>\n",
       "  </tbody>\n",
       "</table>\n",
       "</div>"
      ],
      "text/plain": [
       "           name                                       history_text\n",
       "count      1249                                               1249\n",
       "unique     1249                                               1244\n",
       "top     3-D Man  Childhood Trauma Robert Bruce Banner was the s...\n",
       "freq          1                                                  3"
      ]
     },
     "execution_count": 707,
     "metadata": {},
     "output_type": "execute_result"
    }
   ],
   "source": [
    "df.describe(include=\"object\")"
   ]
  },
  {
   "cell_type": "code",
   "execution_count": 708,
   "id": "df546bff",
   "metadata": {
    "ExecuteTime": {
     "end_time": "2022-06-27T14:35:53.956755Z",
     "start_time": "2022-06-27T14:35:53.860447Z"
    }
   },
   "outputs": [
    {
     "name": "stderr",
     "output_type": "stream",
     "text": [
      "/home/alex/Desktop/ocr-donnees-textuelles/env/lib/python3.8/site-packages/seaborn/_decorators.py:36: FutureWarning:\n",
      "\n",
      "Pass the following variable as a keyword arg: x. From version 0.12, the only valid positional argument will be `data`, and passing other arguments without an explicit keyword will result in an error or misinterpretation.\n",
      "\n"
     ]
    },
    {
     "data": {
      "text/plain": [
       "<AxesSubplot:xlabel='name'>"
      ]
     },
     "execution_count": 708,
     "metadata": {},
     "output_type": "execute_result"
    },
    {
     "data": {
      "image/png": "[encoded data removed]",
      "text/plain": [
       "<Figure size 432x288 with 1 Axes>"
      ]
     },
     "metadata": {
      "needs_background": "light"
     },
     "output_type": "display_data"
    }
   ],
   "source": [
    "tmp = df.name.str.len()\n",
    "sns.boxplot(tmp)"
   ]
  },
  {
   "cell_type": "code",
   "execution_count": 709,
   "id": "f25187bc",
   "metadata": {
    "ExecuteTime": {
     "end_time": "2022-06-27T14:35:54.038006Z",
     "start_time": "2022-06-27T14:35:53.958409Z"
    },
    "scrolled": false
   },
   "outputs": [
    {
     "name": "stderr",
     "output_type": "stream",
     "text": [
      "/home/alex/Desktop/ocr-donnees-textuelles/env/lib/python3.8/site-packages/seaborn/_decorators.py:36: FutureWarning:\n",
      "\n",
      "Pass the following variable as a keyword arg: x. From version 0.12, the only valid positional argument will be `data`, and passing other arguments without an explicit keyword will result in an error or misinterpretation.\n",
      "\n"
     ]
    },
    {
     "data": {
      "text/plain": [
       "<AxesSubplot:xlabel='history_text'>"
      ]
     },
     "execution_count": 709,
     "metadata": {},
     "output_type": "execute_result"
    },
    {
     "data": {
      "image/png": "[encoded data removed]",
      "text/plain": [
       "<Figure size 432x288 with 1 Axes>"
      ]
     },
     "metadata": {
      "needs_background": "light"
     },
     "output_type": "display_data"
    }
   ],
   "source": [
    "tmp = df.history_text.str.len()\n",
    "sns.boxplot(tmp)"
   ]
  },
  {
   "cell_type": "code",
   "execution_count": 710,
   "id": "985a52de",
   "metadata": {
    "ExecuteTime": {
     "end_time": "2022-06-27T14:35:54.051061Z",
     "start_time": "2022-06-27T14:35:54.039627Z"
    }
   },
   "outputs": [
    {
     "data": {
      "text/html": [
       "<div>\n",
       "<style scoped>\n",
       "    .dataframe tbody tr th:only-of-type {\n",
       "        vertical-align: middle;\n",
       "    }\n",
       "\n",
       "    .dataframe tbody tr th {\n",
       "        vertical-align: top;\n",
       "    }\n",
       "\n",
       "    .dataframe thead th {\n",
       "        text-align: right;\n",
       "    }\n",
       "</style>\n",
       "<table border=\"1\" class=\"dataframe\">\n",
       "  <thead>\n",
       "    <tr style=\"text-align: right;\">\n",
       "      <th></th>\n",
       "      <th>name</th>\n",
       "      <th>history_text</th>\n",
       "      <th>_score</th>\n",
       "      <th>_log_score</th>\n",
       "      <th>_len_name</th>\n",
       "      <th>_len_history_text</th>\n",
       "    </tr>\n",
       "  </thead>\n",
       "  <tbody>\n",
       "    <tr>\n",
       "      <th>0</th>\n",
       "      <td>3-D Man</td>\n",
       "      <td>Delroy Garrett, Jr. grew up to become a track ...</td>\n",
       "      <td>6.0</td>\n",
       "      <td>1.791759</td>\n",
       "      <td>7</td>\n",
       "      <td>509</td>\n",
       "    </tr>\n",
       "    <tr>\n",
       "      <th>1</th>\n",
       "      <td>514A (Gotham)</td>\n",
       "      <td>He was one of the many prisoners of Indian Hil...</td>\n",
       "      <td>10.0</td>\n",
       "      <td>2.302585</td>\n",
       "      <td>13</td>\n",
       "      <td>3755</td>\n",
       "    </tr>\n",
       "    <tr>\n",
       "      <th>2</th>\n",
       "      <td>A-Bomb</td>\n",
       "      <td>Richard \"Rick\" Jones was orphaned at a young ...</td>\n",
       "      <td>20.0</td>\n",
       "      <td>2.995732</td>\n",
       "      <td>6</td>\n",
       "      <td>5849</td>\n",
       "    </tr>\n",
       "    <tr>\n",
       "      <th>3</th>\n",
       "      <td>Aa</td>\n",
       "      <td>Aa is one of the more passive members of the P...</td>\n",
       "      <td>12.0</td>\n",
       "      <td>2.484907</td>\n",
       "      <td>2</td>\n",
       "      <td>5924</td>\n",
       "    </tr>\n",
       "    <tr>\n",
       "      <th>4</th>\n",
       "      <td>Aaron Cash</td>\n",
       "      <td>Aaron Cash is the head of security at Arkham A...</td>\n",
       "      <td>5.0</td>\n",
       "      <td>1.609438</td>\n",
       "      <td>10</td>\n",
       "      <td>123</td>\n",
       "    </tr>\n",
       "  </tbody>\n",
       "</table>\n",
       "</div>"
      ],
      "text/plain": [
       "            name                                       history_text  _score  \\\n",
       "0        3-D Man  Delroy Garrett, Jr. grew up to become a track ...     6.0   \n",
       "1  514A (Gotham)  He was one of the many prisoners of Indian Hil...    10.0   \n",
       "2         A-Bomb   Richard \"Rick\" Jones was orphaned at a young ...    20.0   \n",
       "3             Aa  Aa is one of the more passive members of the P...    12.0   \n",
       "4     Aaron Cash  Aaron Cash is the head of security at Arkham A...     5.0   \n",
       "\n",
       "   _log_score  _len_name  _len_history_text  \n",
       "0    1.791759          7                509  \n",
       "1    2.302585         13               3755  \n",
       "2    2.995732          6               5849  \n",
       "3    2.484907          2               5924  \n",
       "4    1.609438         10                123  "
      ]
     },
     "execution_count": 710,
     "metadata": {},
     "output_type": "execute_result"
    }
   ],
   "source": [
    "df[\"_len_name\"] = df.name.str.len()\n",
    "df[\"_len_history_text\"] = df.history_text.str.len()\n",
    "\n",
    "df.head()"
   ]
  },
  {
   "cell_type": "code",
   "execution_count": 711,
   "id": "51a56533",
   "metadata": {
    "ExecuteTime": {
     "end_time": "2022-06-27T14:35:54.058686Z",
     "start_time": "2022-06-27T14:35:54.053004Z"
    }
   },
   "outputs": [
    {
     "data": {
      "text/plain": [
       "count    1249.000000\n",
       "mean       11.572458\n",
       "std         5.372032\n",
       "min         1.000000\n",
       "25%         8.000000\n",
       "50%        11.000000\n",
       "75%        14.000000\n",
       "max        37.000000\n",
       "Name: _len_name, dtype: float64"
      ]
     },
     "execution_count": 711,
     "metadata": {},
     "output_type": "execute_result"
    }
   ],
   "source": [
    "df._len_name.describe()"
   ]
  },
  {
   "cell_type": "code",
   "execution_count": 712,
   "id": "0eac5ad3",
   "metadata": {
    "ExecuteTime": {
     "end_time": "2022-06-27T14:35:54.071961Z",
     "start_time": "2022-06-27T14:35:54.060720Z"
    }
   },
   "outputs": [
    {
     "data": {
      "text/html": [
       "<div>\n",
       "<style scoped>\n",
       "    .dataframe tbody tr th:only-of-type {\n",
       "        vertical-align: middle;\n",
       "    }\n",
       "\n",
       "    .dataframe tbody tr th {\n",
       "        vertical-align: top;\n",
       "    }\n",
       "\n",
       "    .dataframe thead th {\n",
       "        text-align: right;\n",
       "    }\n",
       "</style>\n",
       "<table border=\"1\" class=\"dataframe\">\n",
       "  <thead>\n",
       "    <tr style=\"text-align: right;\">\n",
       "      <th></th>\n",
       "      <th>name</th>\n",
       "      <th>history_text</th>\n",
       "      <th>_score</th>\n",
       "      <th>_log_score</th>\n",
       "      <th>_len_name</th>\n",
       "      <th>_len_history_text</th>\n",
       "    </tr>\n",
       "  </thead>\n",
       "  <tbody>\n",
       "    <tr>\n",
       "      <th>1352</th>\n",
       "      <td>V</td>\n",
       "      <td>The background and identity of V is largely un...</td>\n",
       "      <td>7.0</td>\n",
       "      <td>1.945910</td>\n",
       "      <td>1</td>\n",
       "      <td>1315</td>\n",
       "    </tr>\n",
       "    <tr>\n",
       "      <th>1426</th>\n",
       "      <td>Wu</td>\n",
       "      <td>Wu was born to the First Spinjitzu Master, alo...</td>\n",
       "      <td>18.0</td>\n",
       "      <td>2.890372</td>\n",
       "      <td>2</td>\n",
       "      <td>941</td>\n",
       "    </tr>\n",
       "    <tr>\n",
       "      <th>3</th>\n",
       "      <td>Aa</td>\n",
       "      <td>Aa is one of the more passive members of the P...</td>\n",
       "      <td>12.0</td>\n",
       "      <td>2.484907</td>\n",
       "      <td>2</td>\n",
       "      <td>5924</td>\n",
       "    </tr>\n",
       "    <tr>\n",
       "      <th>655</th>\n",
       "      <td>IT</td>\n",
       "      <td>It arrived on Earth in a massive cataclysmic e...</td>\n",
       "      <td>16.0</td>\n",
       "      <td>2.772589</td>\n",
       "      <td>2</td>\n",
       "      <td>714</td>\n",
       "    </tr>\n",
       "    <tr>\n",
       "      <th>427</th>\n",
       "      <td>Ed</td>\n",
       "      <td>Ed and Edna, visited Jay at the Ninjas' new he...</td>\n",
       "      <td>5.0</td>\n",
       "      <td>1.609438</td>\n",
       "      <td>2</td>\n",
       "      <td>1593</td>\n",
       "    </tr>\n",
       "    <tr>\n",
       "      <th>531</th>\n",
       "      <td>GPL</td>\n",
       "      <td>The IT Guys had the idea of making the Garma M...</td>\n",
       "      <td>9.0</td>\n",
       "      <td>2.197225</td>\n",
       "      <td>3</td>\n",
       "      <td>300</td>\n",
       "    </tr>\n",
       "    <tr>\n",
       "      <th>274</th>\n",
       "      <td>Cat</td>\n",
       "      <td>Shirlee Bryant was hired by Malcolm Donalbain ...</td>\n",
       "      <td>4.0</td>\n",
       "      <td>1.386294</td>\n",
       "      <td>3</td>\n",
       "      <td>3308</td>\n",
       "    </tr>\n",
       "    <tr>\n",
       "      <th>95</th>\n",
       "      <td>Ash</td>\n",
       "      <td>Ash was born as a descendant of previous Eleme...</td>\n",
       "      <td>11.0</td>\n",
       "      <td>2.397895</td>\n",
       "      <td>3</td>\n",
       "      <td>143</td>\n",
       "    </tr>\n",
       "    <tr>\n",
       "      <th>1265</th>\n",
       "      <td>T-X</td>\n",
       "      <td>The T-X is a model of Terminator produced by ...</td>\n",
       "      <td>12.0</td>\n",
       "      <td>2.484907</td>\n",
       "      <td>3</td>\n",
       "      <td>3106</td>\n",
       "    </tr>\n",
       "    <tr>\n",
       "      <th>1063</th>\n",
       "      <td>Ray</td>\n",
       "      <td>As a teenager, Ray was very poor, wearing ragg...</td>\n",
       "      <td>8.0</td>\n",
       "      <td>2.079442</td>\n",
       "      <td>3</td>\n",
       "      <td>2097</td>\n",
       "    </tr>\n",
       "    <tr>\n",
       "      <th>555</th>\n",
       "      <td>Gru</td>\n",
       "      <td>Felonius Gru is the main character of Despicab...</td>\n",
       "      <td>10.0</td>\n",
       "      <td>2.302585</td>\n",
       "      <td>3</td>\n",
       "      <td>279</td>\n",
       "    </tr>\n",
       "    <tr>\n",
       "      <th>639</th>\n",
       "      <td>Ink</td>\n",
       "      <td>Ink was one of the members of the Young X-Me...</td>\n",
       "      <td>4.0</td>\n",
       "      <td>1.386294</td>\n",
       "      <td>3</td>\n",
       "      <td>2921</td>\n",
       "    </tr>\n",
       "    <tr>\n",
       "      <th>673</th>\n",
       "      <td>Jay</td>\n",
       "      <td>Jay was born the son of famous actor Cliff Gor...</td>\n",
       "      <td>10.0</td>\n",
       "      <td>2.302585</td>\n",
       "      <td>3</td>\n",
       "      <td>849</td>\n",
       "    </tr>\n",
       "    <tr>\n",
       "      <th>1087</th>\n",
       "      <td>Rey</td>\n",
       "      <td>Rey was a human female scavenger who discover...</td>\n",
       "      <td>14.0</td>\n",
       "      <td>2.639057</td>\n",
       "      <td>3</td>\n",
       "      <td>2249</td>\n",
       "    </tr>\n",
       "    <tr>\n",
       "      <th>1167</th>\n",
       "      <td>Sif</td>\n",
       "      <td>Sif was a beautiful warrior-goddess of the As...</td>\n",
       "      <td>12.0</td>\n",
       "      <td>2.484907</td>\n",
       "      <td>3</td>\n",
       "      <td>5467</td>\n",
       "    </tr>\n",
       "    <tr>\n",
       "      <th>432</th>\n",
       "      <td>Ego</td>\n",
       "      <td>Ego the Living Planet originated like any othe...</td>\n",
       "      <td>12.0</td>\n",
       "      <td>2.484907</td>\n",
       "      <td>3</td>\n",
       "      <td>5103</td>\n",
       "    </tr>\n",
       "    <tr>\n",
       "      <th>1344</th>\n",
       "      <td>Ubu</td>\n",
       "      <td>Ubu is the name given to several men who act a...</td>\n",
       "      <td>5.0</td>\n",
       "      <td>1.609438</td>\n",
       "      <td>3</td>\n",
       "      <td>214</td>\n",
       "    </tr>\n",
       "    <tr>\n",
       "      <th>1120</th>\n",
       "      <td>Sai</td>\n",
       "      <td>Sai Yamanaka was an Anbu from Root. He is adde...</td>\n",
       "      <td>6.0</td>\n",
       "      <td>1.791759</td>\n",
       "      <td>3</td>\n",
       "      <td>99</td>\n",
       "    </tr>\n",
       "    <tr>\n",
       "      <th>715</th>\n",
       "      <td>Kale</td>\n",
       "      <td>When Universe 7 is selecting their team, Kale ...</td>\n",
       "      <td>17.0</td>\n",
       "      <td>2.833213</td>\n",
       "      <td>4</td>\n",
       "      <td>9644</td>\n",
       "    </tr>\n",
       "    <tr>\n",
       "      <th>1036</th>\n",
       "      <td>Puck</td>\n",
       "      <td>Born in 1914, Eugene Milton Judd was both a gi...</td>\n",
       "      <td>10.0</td>\n",
       "      <td>2.302585</td>\n",
       "      <td>4</td>\n",
       "      <td>1643</td>\n",
       "    </tr>\n",
       "  </tbody>\n",
       "</table>\n",
       "</div>"
      ],
      "text/plain": [
       "      name                                       history_text  _score  \\\n",
       "1352     V  The background and identity of V is largely un...     7.0   \n",
       "1426    Wu  Wu was born to the First Spinjitzu Master, alo...    18.0   \n",
       "3       Aa  Aa is one of the more passive members of the P...    12.0   \n",
       "655     IT  It arrived on Earth in a massive cataclysmic e...    16.0   \n",
       "427     Ed  Ed and Edna, visited Jay at the Ninjas' new he...     5.0   \n",
       "531    GPL  The IT Guys had the idea of making the Garma M...     9.0   \n",
       "274    Cat  Shirlee Bryant was hired by Malcolm Donalbain ...     4.0   \n",
       "95     Ash  Ash was born as a descendant of previous Eleme...    11.0   \n",
       "1265   T-X   The T-X is a model of Terminator produced by ...    12.0   \n",
       "1063   Ray  As a teenager, Ray was very poor, wearing ragg...     8.0   \n",
       "555    Gru  Felonius Gru is the main character of Despicab...    10.0   \n",
       "639    Ink    Ink was one of the members of the Young X-Me...     4.0   \n",
       "673    Jay  Jay was born the son of famous actor Cliff Gor...    10.0   \n",
       "1087   Rey   Rey was a human female scavenger who discover...    14.0   \n",
       "1167   Sif   Sif was a beautiful warrior-goddess of the As...    12.0   \n",
       "432    Ego  Ego the Living Planet originated like any othe...    12.0   \n",
       "1344   Ubu  Ubu is the name given to several men who act a...     5.0   \n",
       "1120   Sai  Sai Yamanaka was an Anbu from Root. He is adde...     6.0   \n",
       "715   Kale  When Universe 7 is selecting their team, Kale ...    17.0   \n",
       "1036  Puck  Born in 1914, Eugene Milton Judd was both a gi...    10.0   \n",
       "\n",
       "      _log_score  _len_name  _len_history_text  \n",
       "1352    1.945910          1               1315  \n",
       "1426    2.890372          2                941  \n",
       "3       2.484907          2               5924  \n",
       "655     2.772589          2                714  \n",
       "427     1.609438          2               1593  \n",
       "531     2.197225          3                300  \n",
       "274     1.386294          3               3308  \n",
       "95      2.397895          3                143  \n",
       "1265    2.484907          3               3106  \n",
       "1063    2.079442          3               2097  \n",
       "555     2.302585          3                279  \n",
       "639     1.386294          3               2921  \n",
       "673     2.302585          3                849  \n",
       "1087    2.639057          3               2249  \n",
       "1167    2.484907          3               5467  \n",
       "432     2.484907          3               5103  \n",
       "1344    1.609438          3                214  \n",
       "1120    1.791759          3                 99  \n",
       "715     2.833213          4               9644  \n",
       "1036    2.302585          4               1643  "
      ]
     },
     "execution_count": 712,
     "metadata": {},
     "output_type": "execute_result"
    }
   ],
   "source": [
    "df.sort_values(\"_len_name\").head(20)"
   ]
  },
  {
   "cell_type": "code",
   "execution_count": 713,
   "id": "37c4f062",
   "metadata": {
    "ExecuteTime": {
     "end_time": "2022-06-27T14:35:54.085666Z",
     "start_time": "2022-06-27T14:35:54.073520Z"
    }
   },
   "outputs": [
    {
     "data": {
      "text/html": [
       "<div>\n",
       "<style scoped>\n",
       "    .dataframe tbody tr th:only-of-type {\n",
       "        vertical-align: middle;\n",
       "    }\n",
       "\n",
       "    .dataframe tbody tr th {\n",
       "        vertical-align: top;\n",
       "    }\n",
       "\n",
       "    .dataframe thead th {\n",
       "        text-align: right;\n",
       "    }\n",
       "</style>\n",
       "<table border=\"1\" class=\"dataframe\">\n",
       "  <thead>\n",
       "    <tr style=\"text-align: right;\">\n",
       "      <th></th>\n",
       "      <th>name</th>\n",
       "      <th>history_text</th>\n",
       "      <th>_score</th>\n",
       "      <th>_log_score</th>\n",
       "      <th>_len_name</th>\n",
       "      <th>_len_history_text</th>\n",
       "    </tr>\n",
       "  </thead>\n",
       "  <tbody>\n",
       "    <tr>\n",
       "      <th>254</th>\n",
       "      <td>Captain America (Venomized)</td>\n",
       "      <td>In all of history, only two men have received ...</td>\n",
       "      <td>14.0</td>\n",
       "      <td>2.639057</td>\n",
       "      <td>27</td>\n",
       "      <td>522</td>\n",
       "    </tr>\n",
       "    <tr>\n",
       "      <th>633</th>\n",
       "      <td>Incredible Hulk (Universal)</td>\n",
       "      <td>Robert Bruce Banner was born on Thursday, Dece...</td>\n",
       "      <td>17.0</td>\n",
       "      <td>2.833213</td>\n",
       "      <td>27</td>\n",
       "      <td>2043</td>\n",
       "    </tr>\n",
       "    <tr>\n",
       "      <th>615</th>\n",
       "      <td>Hulk (Stark Gauntlet) (MCU)</td>\n",
       "      <td>After Tony created a new gaunlet Hulk uses it ...</td>\n",
       "      <td>47.0</td>\n",
       "      <td>3.850148</td>\n",
       "      <td>27</td>\n",
       "      <td>65</td>\n",
       "    </tr>\n",
       "    <tr>\n",
       "      <th>568</th>\n",
       "      <td>Harry Osborn (Raimi Trilogy)</td>\n",
       "      <td>Harry Osborn is Peter Parker's closest friend....</td>\n",
       "      <td>7.0</td>\n",
       "      <td>1.945910</td>\n",
       "      <td>28</td>\n",
       "      <td>4038</td>\n",
       "    </tr>\n",
       "    <tr>\n",
       "      <th>713</th>\n",
       "      <td>Kai (The LEGO Ninjago Movie)</td>\n",
       "      <td>Kai's attitude is more serious, like Cole in t...</td>\n",
       "      <td>8.0</td>\n",
       "      <td>2.079442</td>\n",
       "      <td>28</td>\n",
       "      <td>512</td>\n",
       "    </tr>\n",
       "    <tr>\n",
       "      <th>672</th>\n",
       "      <td>Jay (The LEGO Ninjago Movie)</td>\n",
       "      <td>A young boy ventures into an old relic shop, w...</td>\n",
       "      <td>8.0</td>\n",
       "      <td>2.079442</td>\n",
       "      <td>28</td>\n",
       "      <td>4842</td>\n",
       "    </tr>\n",
       "    <tr>\n",
       "      <th>968</th>\n",
       "      <td>Nya (The LEGO Ninjago Movie)</td>\n",
       "      <td>A boy ventures into an old relic shop, where h...</td>\n",
       "      <td>9.0</td>\n",
       "      <td>2.197225</td>\n",
       "      <td>28</td>\n",
       "      <td>4836</td>\n",
       "    </tr>\n",
       "    <tr>\n",
       "      <th>757</th>\n",
       "      <td>Koko (The LEGO Ninjago Movie)</td>\n",
       "      <td>Koko met Garmadon in a war under the identity ...</td>\n",
       "      <td>7.0</td>\n",
       "      <td>1.945910</td>\n",
       "      <td>29</td>\n",
       "      <td>313</td>\n",
       "    </tr>\n",
       "    <tr>\n",
       "      <th>306</th>\n",
       "      <td>Cole (The LEGO Ninjago Movie)</td>\n",
       "      <td>At a unknown point of time, Cole joined the Se...</td>\n",
       "      <td>8.0</td>\n",
       "      <td>2.079442</td>\n",
       "      <td>29</td>\n",
       "      <td>146</td>\n",
       "    </tr>\n",
       "    <tr>\n",
       "      <th>24</th>\n",
       "      <td>Agent Coulson (Destroyer Gun)</td>\n",
       "      <td>S.H.I.E.L.D. recovered the wreckage of the Des...</td>\n",
       "      <td>10.0</td>\n",
       "      <td>2.302585</td>\n",
       "      <td>29</td>\n",
       "      <td>416</td>\n",
       "    </tr>\n",
       "    <tr>\n",
       "      <th>1149</th>\n",
       "      <td>Shadow The Hedgehog (Pre-Wave)</td>\n",
       "      <td>Early life Shadow was created by Professor Ger...</td>\n",
       "      <td>50.0</td>\n",
       "      <td>3.912023</td>\n",
       "      <td>30</td>\n",
       "      <td>5963</td>\n",
       "    </tr>\n",
       "    <tr>\n",
       "      <th>1069</th>\n",
       "      <td>Red Hulk (Ghost Rider) (Venom)</td>\n",
       "      <td>In Las Vegas, Blackheart, Mephisto's demonic s...</td>\n",
       "      <td>35.0</td>\n",
       "      <td>3.555348</td>\n",
       "      <td>30</td>\n",
       "      <td>1651</td>\n",
       "    </tr>\n",
       "    <tr>\n",
       "      <th>942</th>\n",
       "      <td>Negasonic Teenage Warhead (FOX</td>\n",
       "      <td>Ellie Phimister, more known as Negasonic Teena...</td>\n",
       "      <td>5.0</td>\n",
       "      <td>1.609438</td>\n",
       "      <td>30</td>\n",
       "      <td>209</td>\n",
       "    </tr>\n",
       "    <tr>\n",
       "      <th>812</th>\n",
       "      <td>Lloyd (The LEGO Ninjago Movie)</td>\n",
       "      <td>Lloyd was born to Lord Garmadon and Koko, some...</td>\n",
       "      <td>7.0</td>\n",
       "      <td>1.945910</td>\n",
       "      <td>30</td>\n",
       "      <td>447</td>\n",
       "    </tr>\n",
       "    <tr>\n",
       "      <th>195</th>\n",
       "      <td>Black Panther (1,000,000 B.C.)</td>\n",
       "      <td>The man who would become the earliest known pe...</td>\n",
       "      <td>7.0</td>\n",
       "      <td>1.945910</td>\n",
       "      <td>30</td>\n",
       "      <td>417</td>\n",
       "    </tr>\n",
       "    <tr>\n",
       "      <th>1220</th>\n",
       "      <td>Star-Lord (Celestial Power MCU)</td>\n",
       "      <td>Peter Jason Quill was a half-human, half-Celes...</td>\n",
       "      <td>15.0</td>\n",
       "      <td>2.708050</td>\n",
       "      <td>31</td>\n",
       "      <td>1493</td>\n",
       "    </tr>\n",
       "    <tr>\n",
       "      <th>139</th>\n",
       "      <td>Batman (The Brave And The Bold)</td>\n",
       "      <td>Bruce Wayne was the son of wealthy socialites ...</td>\n",
       "      <td>9.0</td>\n",
       "      <td>2.197225</td>\n",
       "      <td>31</td>\n",
       "      <td>467</td>\n",
       "    </tr>\n",
       "    <tr>\n",
       "      <th>504</th>\n",
       "      <td>Garmadon (The Lego Ninjago Movie)</td>\n",
       "      <td>At some point, Garmadon met Koko in a battle, ...</td>\n",
       "      <td>16.0</td>\n",
       "      <td>2.772589</td>\n",
       "      <td>33</td>\n",
       "      <td>3447</td>\n",
       "    </tr>\n",
       "    <tr>\n",
       "      <th>690</th>\n",
       "      <td>John Constantine (Power Of Shazam)</td>\n",
       "      <td>Trinity War About one year after he had first ...</td>\n",
       "      <td>82.0</td>\n",
       "      <td>4.406719</td>\n",
       "      <td>34</td>\n",
       "      <td>2007</td>\n",
       "    </tr>\n",
       "    <tr>\n",
       "      <th>402</th>\n",
       "      <td>Doctor Octopus (Shattered Dimensions)</td>\n",
       "      <td>Serena Patel was the direction of Alchemax's S...</td>\n",
       "      <td>7.0</td>\n",
       "      <td>1.945910</td>\n",
       "      <td>37</td>\n",
       "      <td>246</td>\n",
       "    </tr>\n",
       "  </tbody>\n",
       "</table>\n",
       "</div>"
      ],
      "text/plain": [
       "                                       name  \\\n",
       "254             Captain America (Venomized)   \n",
       "633             Incredible Hulk (Universal)   \n",
       "615             Hulk (Stark Gauntlet) (MCU)   \n",
       "568            Harry Osborn (Raimi Trilogy)   \n",
       "713            Kai (The LEGO Ninjago Movie)   \n",
       "672            Jay (The LEGO Ninjago Movie)   \n",
       "968            Nya (The LEGO Ninjago Movie)   \n",
       "757           Koko (The LEGO Ninjago Movie)   \n",
       "306           Cole (The LEGO Ninjago Movie)   \n",
       "24            Agent Coulson (Destroyer Gun)   \n",
       "1149         Shadow The Hedgehog (Pre-Wave)   \n",
       "1069         Red Hulk (Ghost Rider) (Venom)   \n",
       "942          Negasonic Teenage Warhead (FOX   \n",
       "812          Lloyd (The LEGO Ninjago Movie)   \n",
       "195          Black Panther (1,000,000 B.C.)   \n",
       "1220        Star-Lord (Celestial Power MCU)   \n",
       "139         Batman (The Brave And The Bold)   \n",
       "504       Garmadon (The Lego Ninjago Movie)   \n",
       "690      John Constantine (Power Of Shazam)   \n",
       "402   Doctor Octopus (Shattered Dimensions)   \n",
       "\n",
       "                                           history_text  _score  _log_score  \\\n",
       "254   In all of history, only two men have received ...    14.0    2.639057   \n",
       "633   Robert Bruce Banner was born on Thursday, Dece...    17.0    2.833213   \n",
       "615   After Tony created a new gaunlet Hulk uses it ...    47.0    3.850148   \n",
       "568   Harry Osborn is Peter Parker's closest friend....     7.0    1.945910   \n",
       "713   Kai's attitude is more serious, like Cole in t...     8.0    2.079442   \n",
       "672   A young boy ventures into an old relic shop, w...     8.0    2.079442   \n",
       "968   A boy ventures into an old relic shop, where h...     9.0    2.197225   \n",
       "757   Koko met Garmadon in a war under the identity ...     7.0    1.945910   \n",
       "306   At a unknown point of time, Cole joined the Se...     8.0    2.079442   \n",
       "24    S.H.I.E.L.D. recovered the wreckage of the Des...    10.0    2.302585   \n",
       "1149  Early life Shadow was created by Professor Ger...    50.0    3.912023   \n",
       "1069  In Las Vegas, Blackheart, Mephisto's demonic s...    35.0    3.555348   \n",
       "942   Ellie Phimister, more known as Negasonic Teena...     5.0    1.609438   \n",
       "812   Lloyd was born to Lord Garmadon and Koko, some...     7.0    1.945910   \n",
       "195   The man who would become the earliest known pe...     7.0    1.945910   \n",
       "1220  Peter Jason Quill was a half-human, half-Celes...    15.0    2.708050   \n",
       "139   Bruce Wayne was the son of wealthy socialites ...     9.0    2.197225   \n",
       "504   At some point, Garmadon met Koko in a battle, ...    16.0    2.772589   \n",
       "690   Trinity War About one year after he had first ...    82.0    4.406719   \n",
       "402   Serena Patel was the direction of Alchemax's S...     7.0    1.945910   \n",
       "\n",
       "      _len_name  _len_history_text  \n",
       "254          27                522  \n",
       "633          27               2043  \n",
       "615          27                 65  \n",
       "568          28               4038  \n",
       "713          28                512  \n",
       "672          28               4842  \n",
       "968          28               4836  \n",
       "757          29                313  \n",
       "306          29                146  \n",
       "24           29                416  \n",
       "1149         30               5963  \n",
       "1069         30               1651  \n",
       "942          30                209  \n",
       "812          30                447  \n",
       "195          30                417  \n",
       "1220         31               1493  \n",
       "139          31                467  \n",
       "504          33               3447  \n",
       "690          34               2007  \n",
       "402          37                246  "
      ]
     },
     "execution_count": 713,
     "metadata": {},
     "output_type": "execute_result"
    }
   ],
   "source": [
    "df.sort_values(\"_len_name\").tail(20)"
   ]
  },
  {
   "cell_type": "code",
   "execution_count": 714,
   "id": "16141c52",
   "metadata": {
    "ExecuteTime": {
     "end_time": "2022-06-27T14:35:54.097819Z",
     "start_time": "2022-06-27T14:35:54.087276Z"
    }
   },
   "outputs": [
    {
     "data": {
      "text/html": [
       "<div>\n",
       "<style scoped>\n",
       "    .dataframe tbody tr th:only-of-type {\n",
       "        vertical-align: middle;\n",
       "    }\n",
       "\n",
       "    .dataframe tbody tr th {\n",
       "        vertical-align: top;\n",
       "    }\n",
       "\n",
       "    .dataframe thead th {\n",
       "        text-align: right;\n",
       "    }\n",
       "</style>\n",
       "<table border=\"1\" class=\"dataframe\">\n",
       "  <thead>\n",
       "    <tr style=\"text-align: right;\">\n",
       "      <th></th>\n",
       "      <th>name</th>\n",
       "      <th>history_text</th>\n",
       "      <th>_score</th>\n",
       "      <th>_log_score</th>\n",
       "      <th>_len_name</th>\n",
       "      <th>_len_history_text</th>\n",
       "    </tr>\n",
       "  </thead>\n",
       "  <tbody>\n",
       "    <tr>\n",
       "      <th>614</th>\n",
       "      <td>Hulk Earth-5901</td>\n",
       "      <td>Unknown</td>\n",
       "      <td>13.0</td>\n",
       "      <td>2.564949</td>\n",
       "      <td>15</td>\n",
       "      <td>7</td>\n",
       "    </tr>\n",
       "    <tr>\n",
       "      <th>1373</th>\n",
       "      <td>Vigilante</td>\n",
       "      <td>Vigilante I</td>\n",
       "      <td>6.0</td>\n",
       "      <td>1.791759</td>\n",
       "      <td>9</td>\n",
       "      <td>11</td>\n",
       "    </tr>\n",
       "    <tr>\n",
       "      <th>1420</th>\n",
       "      <td>Wonder Woman (Kingdom Come)</td>\n",
       "      <td>Earth-22 Wonder woman</td>\n",
       "      <td>23.0</td>\n",
       "      <td>3.135494</td>\n",
       "      <td>27</td>\n",
       "      <td>21</td>\n",
       "    </tr>\n",
       "    <tr>\n",
       "      <th>1108</th>\n",
       "      <td>Rocket</td>\n",
       "      <td>Icon's friend and partner.</td>\n",
       "      <td>6.0</td>\n",
       "      <td>1.791759</td>\n",
       "      <td>6</td>\n",
       "      <td>26</td>\n",
       "    </tr>\n",
       "    <tr>\n",
       "      <th>914</th>\n",
       "      <td>Mongul</td>\n",
       "      <td>He is Mongul the elder son.</td>\n",
       "      <td>17.0</td>\n",
       "      <td>2.833213</td>\n",
       "      <td>6</td>\n",
       "      <td>27</td>\n",
       "    </tr>\n",
       "    <tr>\n",
       "      <th>877</th>\n",
       "      <td>Merlin</td>\n",
       "      <td>One of the most powerful Sorcerers.</td>\n",
       "      <td>50.0</td>\n",
       "      <td>3.912023</td>\n",
       "      <td>6</td>\n",
       "      <td>35</td>\n",
       "    </tr>\n",
       "    <tr>\n",
       "      <th>537</th>\n",
       "      <td>Grayven</td>\n",
       "      <td>Grayven was the third son of Darkseid.</td>\n",
       "      <td>20.0</td>\n",
       "      <td>2.995732</td>\n",
       "      <td>7</td>\n",
       "      <td>38</td>\n",
       "    </tr>\n",
       "    <tr>\n",
       "      <th>1425</th>\n",
       "      <td>Wotan</td>\n",
       "      <td>One of the main enemies of Doctor Fate.</td>\n",
       "      <td>28.0</td>\n",
       "      <td>3.332205</td>\n",
       "      <td>5</td>\n",
       "      <td>39</td>\n",
       "    </tr>\n",
       "    <tr>\n",
       "      <th>248</th>\n",
       "      <td>Caliban</td>\n",
       "      <td>Caliban is a mutant in the X-Men series</td>\n",
       "      <td>5.0</td>\n",
       "      <td>1.609438</td>\n",
       "      <td>7</td>\n",
       "      <td>39</td>\n",
       "    </tr>\n",
       "    <tr>\n",
       "      <th>356</th>\n",
       "      <td>Dark Kahn</td>\n",
       "      <td>The combination of Darkseid and Shao Khan</td>\n",
       "      <td>71.0</td>\n",
       "      <td>4.262680</td>\n",
       "      <td>9</td>\n",
       "      <td>41</td>\n",
       "    </tr>\n",
       "    <tr>\n",
       "      <th>734</th>\n",
       "      <td>Kid Colt</td>\n",
       "      <td>Kid Colt was an outlaw in Old West times.</td>\n",
       "      <td>7.0</td>\n",
       "      <td>1.945910</td>\n",
       "      <td>8</td>\n",
       "      <td>41</td>\n",
       "    </tr>\n",
       "    <tr>\n",
       "      <th>1033</th>\n",
       "      <td>Proxima Midnight</td>\n",
       "      <td>One of Thanos' generals in the Black Order</td>\n",
       "      <td>12.0</td>\n",
       "      <td>2.484907</td>\n",
       "      <td>16</td>\n",
       "      <td>42</td>\n",
       "    </tr>\n",
       "    <tr>\n",
       "      <th>1081</th>\n",
       "      <td>Reign</td>\n",
       "      <td>Reign is a biological weapon created on Krypton.</td>\n",
       "      <td>12.0</td>\n",
       "      <td>2.484907</td>\n",
       "      <td>5</td>\n",
       "      <td>48</td>\n",
       "    </tr>\n",
       "    <tr>\n",
       "      <th>946</th>\n",
       "      <td>Nergal</td>\n",
       "      <td>Nergal is a powerful demon and Constantine enemy.</td>\n",
       "      <td>24.0</td>\n",
       "      <td>3.178054</td>\n",
       "      <td>6</td>\n",
       "      <td>49</td>\n",
       "    </tr>\n",
       "    <tr>\n",
       "      <th>455</th>\n",
       "      <td>Evil Nya</td>\n",
       "      <td>She was turned bad by the Overlord his dark magic</td>\n",
       "      <td>10.0</td>\n",
       "      <td>2.302585</td>\n",
       "      <td>8</td>\n",
       "      <td>49</td>\n",
       "    </tr>\n",
       "    <tr>\n",
       "      <th>876</th>\n",
       "      <td>Mercy Graves</td>\n",
       "      <td>Mercy Graves is Lex Luthor bodyguard and assis...</td>\n",
       "      <td>9.0</td>\n",
       "      <td>2.197225</td>\n",
       "      <td>12</td>\n",
       "      <td>51</td>\n",
       "    </tr>\n",
       "    <tr>\n",
       "      <th>777</th>\n",
       "      <td>Laira</td>\n",
       "      <td>she became one of the first members of the Red...</td>\n",
       "      <td>13.0</td>\n",
       "      <td>2.564949</td>\n",
       "      <td>5</td>\n",
       "      <td>60</td>\n",
       "    </tr>\n",
       "    <tr>\n",
       "      <th>618</th>\n",
       "      <td>Human Target</td>\n",
       "      <td>Christopher Chance is a private detective and ...</td>\n",
       "      <td>10.0</td>\n",
       "      <td>2.302585</td>\n",
       "      <td>12</td>\n",
       "      <td>65</td>\n",
       "    </tr>\n",
       "    <tr>\n",
       "      <th>615</th>\n",
       "      <td>Hulk (Stark Gauntlet) (MCU)</td>\n",
       "      <td>After Tony created a new gaunlet Hulk uses it ...</td>\n",
       "      <td>47.0</td>\n",
       "      <td>3.850148</td>\n",
       "      <td>27</td>\n",
       "      <td>65</td>\n",
       "    </tr>\n",
       "    <tr>\n",
       "      <th>956</th>\n",
       "      <td>Nightshade</td>\n",
       "      <td>Nightshade is a superhero with the ability to ...</td>\n",
       "      <td>12.0</td>\n",
       "      <td>2.484907</td>\n",
       "      <td>10</td>\n",
       "      <td>65</td>\n",
       "    </tr>\n",
       "  </tbody>\n",
       "</table>\n",
       "</div>"
      ],
      "text/plain": [
       "                             name  \\\n",
       "614               Hulk Earth-5901   \n",
       "1373                    Vigilante   \n",
       "1420  Wonder Woman (Kingdom Come)   \n",
       "1108                       Rocket   \n",
       "914                        Mongul   \n",
       "877                        Merlin   \n",
       "537                       Grayven   \n",
       "1425                        Wotan   \n",
       "248                       Caliban   \n",
       "356                     Dark Kahn   \n",
       "734                      Kid Colt   \n",
       "1033             Proxima Midnight   \n",
       "1081                        Reign   \n",
       "946                        Nergal   \n",
       "455                      Evil Nya   \n",
       "876                  Mercy Graves   \n",
       "777                         Laira   \n",
       "618                  Human Target   \n",
       "615   Hulk (Stark Gauntlet) (MCU)   \n",
       "956                    Nightshade   \n",
       "\n",
       "                                           history_text  _score  _log_score  \\\n",
       "614                                             Unknown    13.0    2.564949   \n",
       "1373                                        Vigilante I     6.0    1.791759   \n",
       "1420                              Earth-22 Wonder woman    23.0    3.135494   \n",
       "1108                         Icon's friend and partner.     6.0    1.791759   \n",
       "914                         He is Mongul the elder son.    17.0    2.833213   \n",
       "877                 One of the most powerful Sorcerers.    50.0    3.912023   \n",
       "537              Grayven was the third son of Darkseid.    20.0    2.995732   \n",
       "1425            One of the main enemies of Doctor Fate.    28.0    3.332205   \n",
       "248             Caliban is a mutant in the X-Men series     5.0    1.609438   \n",
       "356           The combination of Darkseid and Shao Khan    71.0    4.262680   \n",
       "734           Kid Colt was an outlaw in Old West times.     7.0    1.945910   \n",
       "1033         One of Thanos' generals in the Black Order    12.0    2.484907   \n",
       "1081   Reign is a biological weapon created on Krypton.    12.0    2.484907   \n",
       "946   Nergal is a powerful demon and Constantine enemy.    24.0    3.178054   \n",
       "455   She was turned bad by the Overlord his dark magic    10.0    2.302585   \n",
       "876   Mercy Graves is Lex Luthor bodyguard and assis...     9.0    2.197225   \n",
       "777   she became one of the first members of the Red...    13.0    2.564949   \n",
       "618   Christopher Chance is a private detective and ...    10.0    2.302585   \n",
       "615   After Tony created a new gaunlet Hulk uses it ...    47.0    3.850148   \n",
       "956   Nightshade is a superhero with the ability to ...    12.0    2.484907   \n",
       "\n",
       "      _len_name  _len_history_text  \n",
       "614          15                  7  \n",
       "1373          9                 11  \n",
       "1420         27                 21  \n",
       "1108          6                 26  \n",
       "914           6                 27  \n",
       "877           6                 35  \n",
       "537           7                 38  \n",
       "1425          5                 39  \n",
       "248           7                 39  \n",
       "356           9                 41  \n",
       "734           8                 41  \n",
       "1033         16                 42  \n",
       "1081          5                 48  \n",
       "946           6                 49  \n",
       "455           8                 49  \n",
       "876          12                 51  \n",
       "777           5                 60  \n",
       "618          12                 65  \n",
       "615          27                 65  \n",
       "956          10                 65  "
      ]
     },
     "execution_count": 714,
     "metadata": {},
     "output_type": "execute_result"
    }
   ],
   "source": [
    "df.sort_values(\"_len_history_text\").head(20)"
   ]
  },
  {
   "cell_type": "code",
   "execution_count": 715,
   "id": "30b74309",
   "metadata": {
    "ExecuteTime": {
     "end_time": "2022-06-27T14:35:54.114233Z",
     "start_time": "2022-06-27T14:35:54.099439Z"
    }
   },
   "outputs": [
    {
     "data": {
      "text/html": [
       "<div>\n",
       "<style scoped>\n",
       "    .dataframe tbody tr th:only-of-type {\n",
       "        vertical-align: middle;\n",
       "    }\n",
       "\n",
       "    .dataframe tbody tr th {\n",
       "        vertical-align: top;\n",
       "    }\n",
       "\n",
       "    .dataframe thead th {\n",
       "        text-align: right;\n",
       "    }\n",
       "</style>\n",
       "<table border=\"1\" class=\"dataframe\">\n",
       "  <thead>\n",
       "    <tr style=\"text-align: right;\">\n",
       "      <th></th>\n",
       "      <th>name</th>\n",
       "      <th>history_text</th>\n",
       "      <th>_score</th>\n",
       "      <th>_log_score</th>\n",
       "      <th>_len_name</th>\n",
       "      <th>_len_history_text</th>\n",
       "    </tr>\n",
       "  </thead>\n",
       "  <tbody>\n",
       "    <tr>\n",
       "      <th>1243</th>\n",
       "      <td>Storm</td>\n",
       "      <td>Ororo Munroe, also known as Storm, is the de...</td>\n",
       "      <td>8.0</td>\n",
       "      <td>2.079442</td>\n",
       "      <td>5</td>\n",
       "      <td>33374</td>\n",
       "    </tr>\n",
       "    <tr>\n",
       "      <th>1190</th>\n",
       "      <td>Solid Snake</td>\n",
       "      <td>In 1970, Solid Snake was foreseen in a prophet...</td>\n",
       "      <td>16.0</td>\n",
       "      <td>2.772589</td>\n",
       "      <td>11</td>\n",
       "      <td>34491</td>\n",
       "    </tr>\n",
       "    <tr>\n",
       "      <th>691</th>\n",
       "      <td>John Constantine</td>\n",
       "      <td>John Constantine is a gritty supernatural det...</td>\n",
       "      <td>5.0</td>\n",
       "      <td>1.609438</td>\n",
       "      <td>16</td>\n",
       "      <td>37265</td>\n",
       "    </tr>\n",
       "    <tr>\n",
       "      <th>79</th>\n",
       "      <td>Archangel</td>\n",
       "      <td>Warren Kenneth Worthington III is the mutan...</td>\n",
       "      <td>6.0</td>\n",
       "      <td>1.791759</td>\n",
       "      <td>9</td>\n",
       "      <td>37578</td>\n",
       "    </tr>\n",
       "    <tr>\n",
       "      <th>407</th>\n",
       "      <td>Doctor Strange (Classic)</td>\n",
       "      <td>Stephen Strange was born to Eugene and Bever...</td>\n",
       "      <td>120.0</td>\n",
       "      <td>4.787492</td>\n",
       "      <td>24</td>\n",
       "      <td>38541</td>\n",
       "    </tr>\n",
       "    <tr>\n",
       "      <th>370</th>\n",
       "      <td>Deadpool</td>\n",
       "      <td>Not too much is known about Deadpool's chil...</td>\n",
       "      <td>12.0</td>\n",
       "      <td>2.484907</td>\n",
       "      <td>8</td>\n",
       "      <td>39906</td>\n",
       "    </tr>\n",
       "    <tr>\n",
       "      <th>652</th>\n",
       "      <td>Iron Man</td>\n",
       "      <td>Anthony Stark, son of industrialist and inve...</td>\n",
       "      <td>14.0</td>\n",
       "      <td>2.639057</td>\n",
       "      <td>8</td>\n",
       "      <td>42892</td>\n",
       "    </tr>\n",
       "    <tr>\n",
       "      <th>1251</th>\n",
       "      <td>Supergirl</td>\n",
       "      <td>Kara Zor-El is the daughter of Superman's un...</td>\n",
       "      <td>19.0</td>\n",
       "      <td>2.944439</td>\n",
       "      <td>9</td>\n",
       "      <td>43548</td>\n",
       "    </tr>\n",
       "    <tr>\n",
       "      <th>1280</th>\n",
       "      <td>The Flash</td>\n",
       "      <td>Barry Allen is The Flash, the fastest man ali...</td>\n",
       "      <td>16.0</td>\n",
       "      <td>2.772589</td>\n",
       "      <td>9</td>\n",
       "      <td>44147</td>\n",
       "    </tr>\n",
       "    <tr>\n",
       "      <th>1254</th>\n",
       "      <td>Superman (Post-Crisis)</td>\n",
       "      <td>Kal-El was born on the doomed planet Krypto...</td>\n",
       "      <td>28.0</td>\n",
       "      <td>3.332205</td>\n",
       "      <td>22</td>\n",
       "      <td>47710</td>\n",
       "    </tr>\n",
       "    <tr>\n",
       "      <th>1446</th>\n",
       "      <td>Zero</td>\n",
       "      <td>Zero was created by the late Dr. Albert Wily ...</td>\n",
       "      <td>18.0</td>\n",
       "      <td>2.890372</td>\n",
       "      <td>4</td>\n",
       "      <td>48848</td>\n",
       "    </tr>\n",
       "    <tr>\n",
       "      <th>75</th>\n",
       "      <td>Aquaman</td>\n",
       "      <td>Aquaman is the telepathic ruler of Atlantis a...</td>\n",
       "      <td>14.0</td>\n",
       "      <td>2.639057</td>\n",
       "      <td>7</td>\n",
       "      <td>53629</td>\n",
       "    </tr>\n",
       "    <tr>\n",
       "      <th>1098</th>\n",
       "      <td>Robin III</td>\n",
       "      <td>Tim Drake is a vigilante and member of the Ba...</td>\n",
       "      <td>7.0</td>\n",
       "      <td>1.945910</td>\n",
       "      <td>9</td>\n",
       "      <td>53999</td>\n",
       "    </tr>\n",
       "    <tr>\n",
       "      <th>837</th>\n",
       "      <td>Magneto</td>\n",
       "      <td>The man now known as \"Magneto\" was born Max ...</td>\n",
       "      <td>11.0</td>\n",
       "      <td>2.397895</td>\n",
       "      <td>7</td>\n",
       "      <td>54108</td>\n",
       "    </tr>\n",
       "    <tr>\n",
       "      <th>155</th>\n",
       "      <td>Big Boss</td>\n",
       "      <td>Early years Born in 1935, Jack’s military care...</td>\n",
       "      <td>15.0</td>\n",
       "      <td>2.708050</td>\n",
       "      <td>8</td>\n",
       "      <td>57275</td>\n",
       "    </tr>\n",
       "    <tr>\n",
       "      <th>1072</th>\n",
       "      <td>Red Robin</td>\n",
       "      <td>Red Robin is a vigilante and member of the Ba...</td>\n",
       "      <td>7.0</td>\n",
       "      <td>1.945910</td>\n",
       "      <td>9</td>\n",
       "      <td>63288</td>\n",
       "    </tr>\n",
       "    <tr>\n",
       "      <th>1421</th>\n",
       "      <td>Wonder Woman</td>\n",
       "      <td>Origin  Wonder Woman did not keep her identity...</td>\n",
       "      <td>17.0</td>\n",
       "      <td>2.833213</td>\n",
       "      <td>12</td>\n",
       "      <td>66110</td>\n",
       "    </tr>\n",
       "    <tr>\n",
       "      <th>486</th>\n",
       "      <td>Flash III</td>\n",
       "      <td>Wally West was born to Rudolph and Mary West ...</td>\n",
       "      <td>10.0</td>\n",
       "      <td>2.302585</td>\n",
       "      <td>9</td>\n",
       "      <td>68467</td>\n",
       "    </tr>\n",
       "    <tr>\n",
       "      <th>1415</th>\n",
       "      <td>Wolverine</td>\n",
       "      <td>Wolverine's life began in Alberta, Canada, s...</td>\n",
       "      <td>10.0</td>\n",
       "      <td>2.302585</td>\n",
       "      <td>9</td>\n",
       "      <td>88084</td>\n",
       "    </tr>\n",
       "    <tr>\n",
       "      <th>1195</th>\n",
       "      <td>Sonic The Hedgehog</td>\n",
       "      <td>Past Not much is known about Sonic's early lif...</td>\n",
       "      <td>53.0</td>\n",
       "      <td>3.970292</td>\n",
       "      <td>18</td>\n",
       "      <td>129594</td>\n",
       "    </tr>\n",
       "  </tbody>\n",
       "</table>\n",
       "</div>"
      ],
      "text/plain": [
       "                          name  \\\n",
       "1243                     Storm   \n",
       "1190               Solid Snake   \n",
       "691           John Constantine   \n",
       "79                   Archangel   \n",
       "407   Doctor Strange (Classic)   \n",
       "370                   Deadpool   \n",
       "652                   Iron Man   \n",
       "1251                 Supergirl   \n",
       "1280                 The Flash   \n",
       "1254    Superman (Post-Crisis)   \n",
       "1446                      Zero   \n",
       "75                     Aquaman   \n",
       "1098                 Robin III   \n",
       "837                    Magneto   \n",
       "155                   Big Boss   \n",
       "1072                 Red Robin   \n",
       "1421              Wonder Woman   \n",
       "486                  Flash III   \n",
       "1415                 Wolverine   \n",
       "1195        Sonic The Hedgehog   \n",
       "\n",
       "                                           history_text  _score  _log_score  \\\n",
       "1243    Ororo Munroe, also known as Storm, is the de...     8.0    2.079442   \n",
       "1190  In 1970, Solid Snake was foreseen in a prophet...    16.0    2.772589   \n",
       "691    John Constantine is a gritty supernatural det...     5.0    1.609438   \n",
       "79       Warren Kenneth Worthington III is the mutan...     6.0    1.791759   \n",
       "407     Stephen Strange was born to Eugene and Bever...   120.0    4.787492   \n",
       "370      Not too much is known about Deadpool's chil...    12.0    2.484907   \n",
       "652     Anthony Stark, son of industrialist and inve...    14.0    2.639057   \n",
       "1251    Kara Zor-El is the daughter of Superman's un...    19.0    2.944439   \n",
       "1280   Barry Allen is The Flash, the fastest man ali...    16.0    2.772589   \n",
       "1254     Kal-El was born on the doomed planet Krypto...    28.0    3.332205   \n",
       "1446   Zero was created by the late Dr. Albert Wily ...    18.0    2.890372   \n",
       "75     Aquaman is the telepathic ruler of Atlantis a...    14.0    2.639057   \n",
       "1098   Tim Drake is a vigilante and member of the Ba...     7.0    1.945910   \n",
       "837     The man now known as \"Magneto\" was born Max ...    11.0    2.397895   \n",
       "155   Early years Born in 1935, Jack’s military care...    15.0    2.708050   \n",
       "1072   Red Robin is a vigilante and member of the Ba...     7.0    1.945910   \n",
       "1421  Origin  Wonder Woman did not keep her identity...    17.0    2.833213   \n",
       "486    Wally West was born to Rudolph and Mary West ...    10.0    2.302585   \n",
       "1415    Wolverine's life began in Alberta, Canada, s...    10.0    2.302585   \n",
       "1195  Past Not much is known about Sonic's early lif...    53.0    3.970292   \n",
       "\n",
       "      _len_name  _len_history_text  \n",
       "1243          5              33374  \n",
       "1190         11              34491  \n",
       "691          16              37265  \n",
       "79            9              37578  \n",
       "407          24              38541  \n",
       "370           8              39906  \n",
       "652           8              42892  \n",
       "1251          9              43548  \n",
       "1280          9              44147  \n",
       "1254         22              47710  \n",
       "1446          4              48848  \n",
       "75            7              53629  \n",
       "1098          9              53999  \n",
       "837           7              54108  \n",
       "155           8              57275  \n",
       "1072          9              63288  \n",
       "1421         12              66110  \n",
       "486           9              68467  \n",
       "1415          9              88084  \n",
       "1195         18             129594  "
      ]
     },
     "execution_count": 715,
     "metadata": {},
     "output_type": "execute_result"
    }
   ],
   "source": [
    "df.sort_values(\"_len_history_text\").tail(20)"
   ]
  },
  {
   "cell_type": "markdown",
   "id": "7b7ed418",
   "metadata": {},
   "source": [
    "# "
   ]
  },
  {
   "cell_type": "code",
   "execution_count": 716,
   "id": "425ffbea",
   "metadata": {
    "ExecuteTime": {
     "end_time": "2022-06-27T14:35:54.124117Z",
     "start_time": "2022-06-27T14:35:54.115703Z"
    }
   },
   "outputs": [
    {
     "data": {
      "text/html": [
       "<div>\n",
       "<style scoped>\n",
       "    .dataframe tbody tr th:only-of-type {\n",
       "        vertical-align: middle;\n",
       "    }\n",
       "\n",
       "    .dataframe tbody tr th {\n",
       "        vertical-align: top;\n",
       "    }\n",
       "\n",
       "    .dataframe thead th {\n",
       "        text-align: right;\n",
       "    }\n",
       "</style>\n",
       "<table border=\"1\" class=\"dataframe\">\n",
       "  <thead>\n",
       "    <tr style=\"text-align: right;\">\n",
       "      <th></th>\n",
       "      <th>_score</th>\n",
       "      <th>_log_score</th>\n",
       "      <th>_len_name</th>\n",
       "      <th>_len_history_text</th>\n",
       "    </tr>\n",
       "  </thead>\n",
       "  <tbody>\n",
       "    <tr>\n",
       "      <th>_score</th>\n",
       "      <td>1.000000</td>\n",
       "      <td>0.801440</td>\n",
       "      <td>0.019685</td>\n",
       "      <td>0.104184</td>\n",
       "    </tr>\n",
       "    <tr>\n",
       "      <th>_log_score</th>\n",
       "      <td>0.801440</td>\n",
       "      <td>1.000000</td>\n",
       "      <td>0.051564</td>\n",
       "      <td>0.117783</td>\n",
       "    </tr>\n",
       "    <tr>\n",
       "      <th>_len_name</th>\n",
       "      <td>0.019685</td>\n",
       "      <td>0.051564</td>\n",
       "      <td>1.000000</td>\n",
       "      <td>-0.104403</td>\n",
       "    </tr>\n",
       "    <tr>\n",
       "      <th>_len_history_text</th>\n",
       "      <td>0.104184</td>\n",
       "      <td>0.117783</td>\n",
       "      <td>-0.104403</td>\n",
       "      <td>1.000000</td>\n",
       "    </tr>\n",
       "  </tbody>\n",
       "</table>\n",
       "</div>"
      ],
      "text/plain": [
       "                     _score  _log_score  _len_name  _len_history_text\n",
       "_score             1.000000    0.801440   0.019685           0.104184\n",
       "_log_score         0.801440    1.000000   0.051564           0.117783\n",
       "_len_name          0.019685    0.051564   1.000000          -0.104403\n",
       "_len_history_text  0.104184    0.117783  -0.104403           1.000000"
      ]
     },
     "execution_count": 716,
     "metadata": {},
     "output_type": "execute_result"
    }
   ],
   "source": [
    "corr = df.corr()\n",
    "corr"
   ]
  },
  {
   "cell_type": "code",
   "execution_count": 717,
   "id": "41b70018",
   "metadata": {
    "ExecuteTime": {
     "end_time": "2022-06-27T14:35:54.306779Z",
     "start_time": "2022-06-27T14:35:54.125673Z"
    }
   },
   "outputs": [
    {
     "data": {
      "text/plain": [
       "<AxesSubplot:>"
      ]
     },
     "execution_count": 717,
     "metadata": {},
     "output_type": "execute_result"
    },
    {
     "data": {
      "image/png": "[encoded data removed]",
      "text/plain": [
       "<Figure size 432x288 with 2 Axes>"
      ]
     },
     "metadata": {
      "needs_background": "light"
     },
     "output_type": "display_data"
    }
   ],
   "source": [
    "sns.heatmap(corr)"
   ]
  },
  {
   "cell_type": "code",
   "execution_count": 718,
   "id": "7386ec3d",
   "metadata": {
    "ExecuteTime": {
     "end_time": "2022-06-27T14:35:54.504987Z",
     "start_time": "2022-06-27T14:35:54.308777Z"
    }
   },
   "outputs": [
    {
     "data": {
      "image/png": "[encoded data removed]",
      "text/plain": [
       "<Figure size 504x360 with 2 Axes>"
      ]
     },
     "metadata": {
      "needs_background": "light"
     },
     "output_type": "display_data"
    }
   ],
   "source": [
    "mask = np.zeros_like(corr)\n",
    "mask[np.triu_indices_from(mask)] = True\n",
    "\n",
    "f, ax = plt.subplots(figsize=(7, 5))\n",
    "ax = sns.heatmap(corr, mask=mask, vmin=-1, vmax=1, cmap=\"coolwarm\", annot=True, fmt=\".2f\", square=True)"
   ]
  },
  {
   "cell_type": "code",
   "execution_count": 719,
   "id": "9bcfca7f",
   "metadata": {
    "ExecuteTime": {
     "end_time": "2022-06-27T14:35:56.962579Z",
     "start_time": "2022-06-27T14:35:54.506661Z"
    },
    "scrolled": true
   },
   "outputs": [
    {
     "data": {
      "text/plain": [
       "<seaborn.axisgrid.PairGrid at 0x7f865b6e39a0>"
      ]
     },
     "execution_count": 719,
     "metadata": {},
     "output_type": "execute_result"
    },
    {
     "data": {
      "image/png": "[encoded data removed]",
      "text/plain": [
       "<Figure size 720x720 with 20 Axes>"
      ]
     },
     "metadata": {
      "needs_background": "light"
     },
     "output_type": "display_data"
    }
   ],
   "source": [
    "sns.pairplot(df)"
   ]
  },
  {
   "cell_type": "code",
   "execution_count": 720,
   "id": "74d50f48",
   "metadata": {
    "ExecuteTime": {
     "end_time": "2022-06-27T14:35:56.974444Z",
     "start_time": "2022-06-27T14:35:56.964274Z"
    },
    "scrolled": false
   },
   "outputs": [
    {
     "data": {
      "text/html": [
       "<div>\n",
       "<style scoped>\n",
       "    .dataframe tbody tr th:only-of-type {\n",
       "        vertical-align: middle;\n",
       "    }\n",
       "\n",
       "    .dataframe tbody tr th {\n",
       "        vertical-align: top;\n",
       "    }\n",
       "\n",
       "    .dataframe thead th {\n",
       "        text-align: right;\n",
       "    }\n",
       "</style>\n",
       "<table border=\"1\" class=\"dataframe\">\n",
       "  <thead>\n",
       "    <tr style=\"text-align: right;\">\n",
       "      <th></th>\n",
       "      <th>name</th>\n",
       "      <th>history_text</th>\n",
       "      <th>_score</th>\n",
       "      <th>_log_score</th>\n",
       "      <th>_len_name</th>\n",
       "      <th>_len_history_text</th>\n",
       "      <th>_cat</th>\n",
       "    </tr>\n",
       "  </thead>\n",
       "  <tbody>\n",
       "    <tr>\n",
       "      <th>0</th>\n",
       "      <td>3-D Man</td>\n",
       "      <td>Delroy Garrett, Jr. grew up to become a track ...</td>\n",
       "      <td>6.0</td>\n",
       "      <td>1.791759</td>\n",
       "      <td>7</td>\n",
       "      <td>509</td>\n",
       "      <td>e</td>\n",
       "    </tr>\n",
       "    <tr>\n",
       "      <th>1</th>\n",
       "      <td>514A (Gotham)</td>\n",
       "      <td>He was one of the many prisoners of Indian Hil...</td>\n",
       "      <td>10.0</td>\n",
       "      <td>2.302585</td>\n",
       "      <td>13</td>\n",
       "      <td>3755</td>\n",
       "      <td>e</td>\n",
       "    </tr>\n",
       "    <tr>\n",
       "      <th>2</th>\n",
       "      <td>A-Bomb</td>\n",
       "      <td>Richard \"Rick\" Jones was orphaned at a young ...</td>\n",
       "      <td>20.0</td>\n",
       "      <td>2.995732</td>\n",
       "      <td>6</td>\n",
       "      <td>5849</td>\n",
       "      <td>e</td>\n",
       "    </tr>\n",
       "    <tr>\n",
       "      <th>3</th>\n",
       "      <td>Aa</td>\n",
       "      <td>Aa is one of the more passive members of the P...</td>\n",
       "      <td>12.0</td>\n",
       "      <td>2.484907</td>\n",
       "      <td>2</td>\n",
       "      <td>5924</td>\n",
       "      <td>e</td>\n",
       "    </tr>\n",
       "    <tr>\n",
       "      <th>4</th>\n",
       "      <td>Aaron Cash</td>\n",
       "      <td>Aaron Cash is the head of security at Arkham A...</td>\n",
       "      <td>5.0</td>\n",
       "      <td>1.609438</td>\n",
       "      <td>10</td>\n",
       "      <td>123</td>\n",
       "      <td>e</td>\n",
       "    </tr>\n",
       "  </tbody>\n",
       "</table>\n",
       "</div>"
      ],
      "text/plain": [
       "            name                                       history_text  _score  \\\n",
       "0        3-D Man  Delroy Garrett, Jr. grew up to become a track ...     6.0   \n",
       "1  514A (Gotham)  He was one of the many prisoners of Indian Hil...    10.0   \n",
       "2         A-Bomb   Richard \"Rick\" Jones was orphaned at a young ...    20.0   \n",
       "3             Aa  Aa is one of the more passive members of the P...    12.0   \n",
       "4     Aaron Cash  Aaron Cash is the head of security at Arkham A...     5.0   \n",
       "\n",
       "   _log_score  _len_name  _len_history_text _cat  \n",
       "0    1.791759          7                509    e  \n",
       "1    2.302585         13               3755    e  \n",
       "2    2.995732          6               5849    e  \n",
       "3    2.484907          2               5924    e  \n",
       "4    1.609438         10                123    e  "
      ]
     },
     "execution_count": 720,
     "metadata": {},
     "output_type": "execute_result"
    }
   ],
   "source": [
    "df[\"_cat\"] = pd.cut(df._score, bins=5, labels=list(\"edcba\"))\n",
    "df.head()"
   ]
  },
  {
   "cell_type": "code",
   "execution_count": 721,
   "id": "311cac77",
   "metadata": {
    "ExecuteTime": {
     "end_time": "2022-06-27T14:35:56.985832Z",
     "start_time": "2022-06-27T14:35:56.976234Z"
    }
   },
   "outputs": [
    {
     "data": {
      "text/html": [
       "<div>\n",
       "<style scoped>\n",
       "    .dataframe tbody tr th:only-of-type {\n",
       "        vertical-align: middle;\n",
       "    }\n",
       "\n",
       "    .dataframe tbody tr th {\n",
       "        vertical-align: top;\n",
       "    }\n",
       "\n",
       "    .dataframe thead th {\n",
       "        text-align: right;\n",
       "    }\n",
       "</style>\n",
       "<table border=\"1\" class=\"dataframe\">\n",
       "  <thead>\n",
       "    <tr style=\"text-align: right;\">\n",
       "      <th></th>\n",
       "      <th>name</th>\n",
       "      <th>history_text</th>\n",
       "      <th>_score</th>\n",
       "      <th>_log_score</th>\n",
       "      <th>_len_name</th>\n",
       "      <th>_len_history_text</th>\n",
       "      <th>_cat</th>\n",
       "    </tr>\n",
       "  </thead>\n",
       "  <tbody>\n",
       "    <tr>\n",
       "      <th>0</th>\n",
       "      <td>3-D Man</td>\n",
       "      <td>Delroy Garrett, Jr. grew up to become a track ...</td>\n",
       "      <td>6.0</td>\n",
       "      <td>1.791759</td>\n",
       "      <td>7</td>\n",
       "      <td>509</td>\n",
       "      <td>e</td>\n",
       "    </tr>\n",
       "    <tr>\n",
       "      <th>951</th>\n",
       "      <td>Night King</td>\n",
       "      <td>The Night King was a First Man that was captur...</td>\n",
       "      <td>13.0</td>\n",
       "      <td>2.564949</td>\n",
       "      <td>10</td>\n",
       "      <td>584</td>\n",
       "      <td>e</td>\n",
       "    </tr>\n",
       "    <tr>\n",
       "      <th>950</th>\n",
       "      <td>Nick Fury</td>\n",
       "      <td>The eldest of three children, Nicholas Joseph...</td>\n",
       "      <td>6.0</td>\n",
       "      <td>1.791759</td>\n",
       "      <td>9</td>\n",
       "      <td>17921</td>\n",
       "      <td>e</td>\n",
       "    </tr>\n",
       "    <tr>\n",
       "      <th>949</th>\n",
       "      <td>Nick Fury (MCU)</td>\n",
       "      <td>Nicholas \"Nick\" Joseph Fury was a former Colon...</td>\n",
       "      <td>8.0</td>\n",
       "      <td>2.079442</td>\n",
       "      <td>15</td>\n",
       "      <td>3845</td>\n",
       "      <td>e</td>\n",
       "    </tr>\n",
       "    <tr>\n",
       "      <th>948</th>\n",
       "      <td>Neuro</td>\n",
       "      <td>Neuro was born as the descendant of the Elemen...</td>\n",
       "      <td>13.0</td>\n",
       "      <td>2.564949</td>\n",
       "      <td>5</td>\n",
       "      <td>203</td>\n",
       "      <td>e</td>\n",
       "    </tr>\n",
       "  </tbody>\n",
       "</table>\n",
       "</div>"
      ],
      "text/plain": [
       "                name                                       history_text  \\\n",
       "0            3-D Man  Delroy Garrett, Jr. grew up to become a track ...   \n",
       "951       Night King  The Night King was a First Man that was captur...   \n",
       "950        Nick Fury   The eldest of three children, Nicholas Joseph...   \n",
       "949  Nick Fury (MCU)  Nicholas \"Nick\" Joseph Fury was a former Colon...   \n",
       "948            Neuro  Neuro was born as the descendant of the Elemen...   \n",
       "\n",
       "     _score  _log_score  _len_name  _len_history_text _cat  \n",
       "0       6.0    1.791759          7                509    e  \n",
       "951    13.0    2.564949         10                584    e  \n",
       "950     6.0    1.791759          9              17921    e  \n",
       "949     8.0    2.079442         15               3845    e  \n",
       "948    13.0    2.564949          5                203    e  "
      ]
     },
     "execution_count": 721,
     "metadata": {},
     "output_type": "execute_result"
    }
   ],
   "source": [
    "df.sort_values(\"_cat\").head()"
   ]
  },
  {
   "cell_type": "code",
   "execution_count": 722,
   "id": "4d35f4cd",
   "metadata": {
    "ExecuteTime": {
     "end_time": "2022-06-27T14:35:56.997351Z",
     "start_time": "2022-06-27T14:35:56.987280Z"
    }
   },
   "outputs": [
    {
     "data": {
      "text/html": [
       "<div>\n",
       "<style scoped>\n",
       "    .dataframe tbody tr th:only-of-type {\n",
       "        vertical-align: middle;\n",
       "    }\n",
       "\n",
       "    .dataframe tbody tr th {\n",
       "        vertical-align: top;\n",
       "    }\n",
       "\n",
       "    .dataframe thead th {\n",
       "        text-align: right;\n",
       "    }\n",
       "</style>\n",
       "<table border=\"1\" class=\"dataframe\">\n",
       "  <thead>\n",
       "    <tr style=\"text-align: right;\">\n",
       "      <th></th>\n",
       "      <th>name</th>\n",
       "      <th>history_text</th>\n",
       "      <th>_score</th>\n",
       "      <th>_log_score</th>\n",
       "      <th>_len_name</th>\n",
       "      <th>_len_history_text</th>\n",
       "      <th>_cat</th>\n",
       "    </tr>\n",
       "  </thead>\n",
       "  <tbody>\n",
       "    <tr>\n",
       "      <th>538</th>\n",
       "      <td>Great Evil Beast</td>\n",
       "      <td>The Great Evil Beast was formed when God utter...</td>\n",
       "      <td>237.0</td>\n",
       "      <td>5.468060</td>\n",
       "      <td>16</td>\n",
       "      <td>5295</td>\n",
       "      <td>a</td>\n",
       "    </tr>\n",
       "    <tr>\n",
       "      <th>527</th>\n",
       "      <td>Golden Ninja</td>\n",
       "      <td>Lloyd becomes the Golden Ninja, and fights the...</td>\n",
       "      <td>226.0</td>\n",
       "      <td>5.420535</td>\n",
       "      <td>12</td>\n",
       "      <td>266</td>\n",
       "      <td>a</td>\n",
       "    </tr>\n",
       "    <tr>\n",
       "      <th>393</th>\n",
       "      <td>Devilman</td>\n",
       "      <td>Transformation Akira is first seen walking hom...</td>\n",
       "      <td>229.0</td>\n",
       "      <td>5.433722</td>\n",
       "      <td>8</td>\n",
       "      <td>27732</td>\n",
       "      <td>a</td>\n",
       "    </tr>\n",
       "    <tr>\n",
       "      <th>110</th>\n",
       "      <td>Aztar</td>\n",
       "      <td>Since the beginnings of human civilization the...</td>\n",
       "      <td>222.0</td>\n",
       "      <td>5.402677</td>\n",
       "      <td>5</td>\n",
       "      <td>3796</td>\n",
       "      <td>a</td>\n",
       "    </tr>\n",
       "    <tr>\n",
       "      <th>421</th>\n",
       "      <td>Dracula</td>\n",
       "      <td>The man later known as Dracula was originally...</td>\n",
       "      <td>211.0</td>\n",
       "      <td>5.351858</td>\n",
       "      <td>7</td>\n",
       "      <td>23504</td>\n",
       "      <td>a</td>\n",
       "    </tr>\n",
       "  </tbody>\n",
       "</table>\n",
       "</div>"
      ],
      "text/plain": [
       "                 name                                       history_text  \\\n",
       "538  Great Evil Beast  The Great Evil Beast was formed when God utter...   \n",
       "527      Golden Ninja  Lloyd becomes the Golden Ninja, and fights the...   \n",
       "393          Devilman  Transformation Akira is first seen walking hom...   \n",
       "110             Aztar  Since the beginnings of human civilization the...   \n",
       "421           Dracula   The man later known as Dracula was originally...   \n",
       "\n",
       "     _score  _log_score  _len_name  _len_history_text _cat  \n",
       "538   237.0    5.468060         16               5295    a  \n",
       "527   226.0    5.420535         12                266    a  \n",
       "393   229.0    5.433722          8              27732    a  \n",
       "110   222.0    5.402677          5               3796    a  \n",
       "421   211.0    5.351858          7              23504    a  "
      ]
     },
     "execution_count": 722,
     "metadata": {},
     "output_type": "execute_result"
    }
   ],
   "source": [
    "df.sort_values(\"_cat\").tail()"
   ]
  },
  {
   "cell_type": "code",
   "execution_count": 723,
   "id": "1ec7d7ec",
   "metadata": {
    "ExecuteTime": {
     "end_time": "2022-06-27T14:35:57.011994Z",
     "start_time": "2022-06-27T14:35:56.999263Z"
    },
    "scrolled": true
   },
   "outputs": [
    {
     "data": {
      "text/html": [
       "<div>\n",
       "<style scoped>\n",
       "    .dataframe tbody tr th:only-of-type {\n",
       "        vertical-align: middle;\n",
       "    }\n",
       "\n",
       "    .dataframe tbody tr th {\n",
       "        vertical-align: top;\n",
       "    }\n",
       "\n",
       "    .dataframe thead th {\n",
       "        text-align: right;\n",
       "    }\n",
       "</style>\n",
       "<table border=\"1\" class=\"dataframe\">\n",
       "  <thead>\n",
       "    <tr style=\"text-align: right;\">\n",
       "      <th></th>\n",
       "      <th>name</th>\n",
       "      <th>history_text</th>\n",
       "      <th>_score</th>\n",
       "      <th>_log_score</th>\n",
       "      <th>_len_name</th>\n",
       "      <th>_len_history_text</th>\n",
       "      <th>_cat</th>\n",
       "      <th>_log_cat</th>\n",
       "    </tr>\n",
       "  </thead>\n",
       "  <tbody>\n",
       "    <tr>\n",
       "      <th>0</th>\n",
       "      <td>3-D Man</td>\n",
       "      <td>Delroy Garrett, Jr. grew up to become a track ...</td>\n",
       "      <td>6.0</td>\n",
       "      <td>1.791759</td>\n",
       "      <td>7</td>\n",
       "      <td>509</td>\n",
       "      <td>e</td>\n",
       "      <td>d</td>\n",
       "    </tr>\n",
       "    <tr>\n",
       "      <th>1</th>\n",
       "      <td>514A (Gotham)</td>\n",
       "      <td>He was one of the many prisoners of Indian Hil...</td>\n",
       "      <td>10.0</td>\n",
       "      <td>2.302585</td>\n",
       "      <td>13</td>\n",
       "      <td>3755</td>\n",
       "      <td>e</td>\n",
       "      <td>c</td>\n",
       "    </tr>\n",
       "    <tr>\n",
       "      <th>2</th>\n",
       "      <td>A-Bomb</td>\n",
       "      <td>Richard \"Rick\" Jones was orphaned at a young ...</td>\n",
       "      <td>20.0</td>\n",
       "      <td>2.995732</td>\n",
       "      <td>6</td>\n",
       "      <td>5849</td>\n",
       "      <td>e</td>\n",
       "      <td>c</td>\n",
       "    </tr>\n",
       "    <tr>\n",
       "      <th>3</th>\n",
       "      <td>Aa</td>\n",
       "      <td>Aa is one of the more passive members of the P...</td>\n",
       "      <td>12.0</td>\n",
       "      <td>2.484907</td>\n",
       "      <td>2</td>\n",
       "      <td>5924</td>\n",
       "      <td>e</td>\n",
       "      <td>c</td>\n",
       "    </tr>\n",
       "    <tr>\n",
       "      <th>4</th>\n",
       "      <td>Aaron Cash</td>\n",
       "      <td>Aaron Cash is the head of security at Arkham A...</td>\n",
       "      <td>5.0</td>\n",
       "      <td>1.609438</td>\n",
       "      <td>10</td>\n",
       "      <td>123</td>\n",
       "      <td>e</td>\n",
       "      <td>d</td>\n",
       "    </tr>\n",
       "  </tbody>\n",
       "</table>\n",
       "</div>"
      ],
      "text/plain": [
       "            name                                       history_text  _score  \\\n",
       "0        3-D Man  Delroy Garrett, Jr. grew up to become a track ...     6.0   \n",
       "1  514A (Gotham)  He was one of the many prisoners of Indian Hil...    10.0   \n",
       "2         A-Bomb   Richard \"Rick\" Jones was orphaned at a young ...    20.0   \n",
       "3             Aa  Aa is one of the more passive members of the P...    12.0   \n",
       "4     Aaron Cash  Aaron Cash is the head of security at Arkham A...     5.0   \n",
       "\n",
       "   _log_score  _len_name  _len_history_text _cat _log_cat  \n",
       "0    1.791759          7                509    e        d  \n",
       "1    2.302585         13               3755    e        c  \n",
       "2    2.995732          6               5849    e        c  \n",
       "3    2.484907          2               5924    e        c  \n",
       "4    1.609438         10                123    e        d  "
      ]
     },
     "execution_count": 723,
     "metadata": {},
     "output_type": "execute_result"
    }
   ],
   "source": [
    "df[\"_log_cat\"] = pd.cut(df._log_score, bins=5, labels=list(\"edcba\"))\n",
    "df.head()"
   ]
  },
  {
   "cell_type": "code",
   "execution_count": 724,
   "id": "e9130e7d",
   "metadata": {
    "ExecuteTime": {
     "end_time": "2022-06-27T14:35:57.024274Z",
     "start_time": "2022-06-27T14:35:57.014102Z"
    },
    "scrolled": true
   },
   "outputs": [
    {
     "data": {
      "text/html": [
       "<div>\n",
       "<style scoped>\n",
       "    .dataframe tbody tr th:only-of-type {\n",
       "        vertical-align: middle;\n",
       "    }\n",
       "\n",
       "    .dataframe tbody tr th {\n",
       "        vertical-align: top;\n",
       "    }\n",
       "\n",
       "    .dataframe thead th {\n",
       "        text-align: right;\n",
       "    }\n",
       "</style>\n",
       "<table border=\"1\" class=\"dataframe\">\n",
       "  <thead>\n",
       "    <tr style=\"text-align: right;\">\n",
       "      <th></th>\n",
       "      <th>name</th>\n",
       "      <th>history_text</th>\n",
       "      <th>_score</th>\n",
       "      <th>_log_score</th>\n",
       "      <th>_len_name</th>\n",
       "      <th>_len_history_text</th>\n",
       "      <th>_cat</th>\n",
       "      <th>_log_cat</th>\n",
       "    </tr>\n",
       "  </thead>\n",
       "  <tbody>\n",
       "    <tr>\n",
       "      <th>758</th>\n",
       "      <td>Kool-Aid Man</td>\n",
       "      <td>Before he was officially the Kool-Aid Man in 1...</td>\n",
       "      <td>2.0</td>\n",
       "      <td>0.693147</td>\n",
       "      <td>12</td>\n",
       "      <td>1937</td>\n",
       "      <td>e</td>\n",
       "      <td>e</td>\n",
       "    </tr>\n",
       "    <tr>\n",
       "      <th>665</th>\n",
       "      <td>Jaime Lannister</td>\n",
       "      <td>Jaime is the eldest son of Joanna Lannister an...</td>\n",
       "      <td>2.0</td>\n",
       "      <td>0.693147</td>\n",
       "      <td>15</td>\n",
       "      <td>3577</td>\n",
       "      <td>e</td>\n",
       "      <td>e</td>\n",
       "    </tr>\n",
       "    <tr>\n",
       "      <th>994</th>\n",
       "      <td>Paul Blart</td>\n",
       "      <td>Paul Blart is a mall cop. Everyday he protect...</td>\n",
       "      <td>1.0</td>\n",
       "      <td>0.000000</td>\n",
       "      <td>10</td>\n",
       "      <td>284</td>\n",
       "      <td>e</td>\n",
       "      <td>e</td>\n",
       "    </tr>\n",
       "    <tr>\n",
       "      <th>70</th>\n",
       "      <td>Aquababy</td>\n",
       "      <td>Arthur Curry Jr. was born the son of the Atla...</td>\n",
       "      <td>2.0</td>\n",
       "      <td>0.693147</td>\n",
       "      <td>8</td>\n",
       "      <td>397</td>\n",
       "      <td>e</td>\n",
       "      <td>e</td>\n",
       "    </tr>\n",
       "    <tr>\n",
       "      <th>129</th>\n",
       "      <td>Bathound</td>\n",
       "      <td>Ace was the guide dog of a blind native Americ...</td>\n",
       "      <td>1.0</td>\n",
       "      <td>0.000000</td>\n",
       "      <td>8</td>\n",
       "      <td>439</td>\n",
       "      <td>e</td>\n",
       "      <td>e</td>\n",
       "    </tr>\n",
       "  </tbody>\n",
       "</table>\n",
       "</div>"
      ],
      "text/plain": [
       "                name                                       history_text  \\\n",
       "758     Kool-Aid Man  Before he was officially the Kool-Aid Man in 1...   \n",
       "665  Jaime Lannister  Jaime is the eldest son of Joanna Lannister an...   \n",
       "994       Paul Blart   Paul Blart is a mall cop. Everyday he protect...   \n",
       "70          Aquababy   Arthur Curry Jr. was born the son of the Atla...   \n",
       "129         Bathound  Ace was the guide dog of a blind native Americ...   \n",
       "\n",
       "     _score  _log_score  _len_name  _len_history_text _cat _log_cat  \n",
       "758     2.0    0.693147         12               1937    e        e  \n",
       "665     2.0    0.693147         15               3577    e        e  \n",
       "994     1.0    0.000000         10                284    e        e  \n",
       "70      2.0    0.693147          8                397    e        e  \n",
       "129     1.0    0.000000          8                439    e        e  "
      ]
     },
     "execution_count": 724,
     "metadata": {},
     "output_type": "execute_result"
    }
   ],
   "source": [
    "df.sort_values(\"_log_cat\").head()"
   ]
  },
  {
   "cell_type": "code",
   "execution_count": 725,
   "id": "d736355d",
   "metadata": {
    "ExecuteTime": {
     "end_time": "2022-06-27T14:35:57.037301Z",
     "start_time": "2022-06-27T14:35:57.026268Z"
    }
   },
   "outputs": [
    {
     "data": {
      "text/html": [
       "<div>\n",
       "<style scoped>\n",
       "    .dataframe tbody tr th:only-of-type {\n",
       "        vertical-align: middle;\n",
       "    }\n",
       "\n",
       "    .dataframe tbody tr th {\n",
       "        vertical-align: top;\n",
       "    }\n",
       "\n",
       "    .dataframe thead th {\n",
       "        text-align: right;\n",
       "    }\n",
       "</style>\n",
       "<table border=\"1\" class=\"dataframe\">\n",
       "  <thead>\n",
       "    <tr style=\"text-align: right;\">\n",
       "      <th></th>\n",
       "      <th>name</th>\n",
       "      <th>history_text</th>\n",
       "      <th>_score</th>\n",
       "      <th>_log_score</th>\n",
       "      <th>_len_name</th>\n",
       "      <th>_len_history_text</th>\n",
       "      <th>_cat</th>\n",
       "      <th>_log_cat</th>\n",
       "    </tr>\n",
       "  </thead>\n",
       "  <tbody>\n",
       "    <tr>\n",
       "      <th>945</th>\n",
       "      <td>Nekron</td>\n",
       "      <td>Nekron is the Lord of the Unliving, one of the...</td>\n",
       "      <td>80.0</td>\n",
       "      <td>4.382027</td>\n",
       "      <td>6</td>\n",
       "      <td>1427</td>\n",
       "      <td>d</td>\n",
       "      <td>a</td>\n",
       "    </tr>\n",
       "    <tr>\n",
       "      <th>362</th>\n",
       "      <td>Darth Nihilus</td>\n",
       "      <td>Darth Nihilus (pronounced /ˈnaɪ.ə.lɨs/) was a ...</td>\n",
       "      <td>84.0</td>\n",
       "      <td>4.430817</td>\n",
       "      <td>13</td>\n",
       "      <td>3158</td>\n",
       "      <td>d</td>\n",
       "      <td>a</td>\n",
       "    </tr>\n",
       "    <tr>\n",
       "      <th>416</th>\n",
       "      <td>Dormammu</td>\n",
       "      <td>Born untold thousands or even millions of year...</td>\n",
       "      <td>142.0</td>\n",
       "      <td>4.955827</td>\n",
       "      <td>8</td>\n",
       "      <td>22389</td>\n",
       "      <td>c</td>\n",
       "      <td>a</td>\n",
       "    </tr>\n",
       "    <tr>\n",
       "      <th>1293</th>\n",
       "      <td>The Overlord</td>\n",
       "      <td>Before Ninjago's creation, there were two kind...</td>\n",
       "      <td>165.0</td>\n",
       "      <td>5.105945</td>\n",
       "      <td>12</td>\n",
       "      <td>1187</td>\n",
       "      <td>b</td>\n",
       "      <td>a</td>\n",
       "    </tr>\n",
       "    <tr>\n",
       "      <th>1311</th>\n",
       "      <td>Thor (Odin Force)</td>\n",
       "      <td>Thor has traveled across the realms, battling ...</td>\n",
       "      <td>83.0</td>\n",
       "      <td>4.418841</td>\n",
       "      <td>17</td>\n",
       "      <td>7165</td>\n",
       "      <td>d</td>\n",
       "      <td>a</td>\n",
       "    </tr>\n",
       "  </tbody>\n",
       "</table>\n",
       "</div>"
      ],
      "text/plain": [
       "                   name                                       history_text  \\\n",
       "945              Nekron  Nekron is the Lord of the Unliving, one of the...   \n",
       "362       Darth Nihilus  Darth Nihilus (pronounced /ˈnaɪ.ə.lɨs/) was a ...   \n",
       "416            Dormammu  Born untold thousands or even millions of year...   \n",
       "1293       The Overlord  Before Ninjago's creation, there were two kind...   \n",
       "1311  Thor (Odin Force)  Thor has traveled across the realms, battling ...   \n",
       "\n",
       "      _score  _log_score  _len_name  _len_history_text _cat _log_cat  \n",
       "945     80.0    4.382027          6               1427    d        a  \n",
       "362     84.0    4.430817         13               3158    d        a  \n",
       "416    142.0    4.955827          8              22389    c        a  \n",
       "1293   165.0    5.105945         12               1187    b        a  \n",
       "1311    83.0    4.418841         17               7165    d        a  "
      ]
     },
     "execution_count": 725,
     "metadata": {},
     "output_type": "execute_result"
    }
   ],
   "source": [
    "df.sort_values(\"_log_cat\").tail()"
   ]
  },
  {
   "cell_type": "code",
   "execution_count": 726,
   "id": "b5603e4e",
   "metadata": {
    "ExecuteTime": {
     "end_time": "2022-06-27T14:35:59.754946Z",
     "start_time": "2022-06-27T14:35:57.039188Z"
    }
   },
   "outputs": [
    {
     "data": {
      "text/plain": [
       "<seaborn.axisgrid.PairGrid at 0x7f865abebfa0>"
      ]
     },
     "execution_count": 726,
     "metadata": {},
     "output_type": "execute_result"
    },
    {
     "data": {
      "image/png": "[encoded data removed]",
      "text/plain": [
       "<Figure size 720x720 with 20 Axes>"
      ]
     },
     "metadata": {
      "needs_background": "light"
     },
     "output_type": "display_data"
    }
   ],
   "source": [
    "sns.pairplot(df,)"
   ]
  },
  {
   "cell_type": "code",
   "execution_count": 727,
   "id": "64a8ca61",
   "metadata": {
    "ExecuteTime": {
     "end_time": "2022-06-27T14:36:00.843782Z",
     "start_time": "2022-06-27T14:35:59.756311Z"
    }
   },
   "outputs": [
    {
     "data": {
      "text/plain": [
       "<seaborn.axisgrid.PairGrid at 0x7f865a1f1970>"
      ]
     },
     "execution_count": 727,
     "metadata": {},
     "output_type": "execute_result"
    },
    {
     "data": {
      "image/png": "[encoded data removed]",
      "text/plain": [
       "<Figure size 402.375x360 with 6 Axes>"
      ]
     },
     "metadata": {
      "needs_background": "light"
     },
     "output_type": "display_data"
    }
   ],
   "source": [
    "sns.pairplot(df.drop(columns=[\"_score\", \"_log_score\"]),hue=\"_cat\")"
   ]
  },
  {
   "cell_type": "code",
   "execution_count": 729,
   "id": "078e88dd",
   "metadata": {
    "ExecuteTime": {
     "end_time": "2022-06-27T14:37:11.076201Z",
     "start_time": "2022-06-27T14:37:10.170505Z"
    }
   },
   "outputs": [
    {
     "data": {
      "text/plain": [
       "<seaborn.axisgrid.PairGrid at 0x7f85fce8f100>"
      ]
     },
     "execution_count": 729,
     "metadata": {},
     "output_type": "execute_result"
    },
    {
     "data": {
      "image/png": "[encoded data removed]",
      "text/plain": [
       "<Figure size 408.75x360 with 6 Axes>"
      ]
     },
     "metadata": {
      "needs_background": "light"
     },
     "output_type": "display_data"
    }
   ],
   "source": [
    "sns.pairplot(df.drop(columns=[\"_score\", \"_log_score\"]),hue=\"_log_cat\")"
   ]
  },
  {
   "cell_type": "code",
   "execution_count": 730,
   "id": "1722ea22",
   "metadata": {
    "ExecuteTime": {
     "end_time": "2022-06-27T14:37:13.744955Z",
     "start_time": "2022-06-27T14:37:13.728297Z"
    }
   },
   "outputs": [
    {
     "data": {
      "text/html": [
       "<div>\n",
       "<style scoped>\n",
       "    .dataframe tbody tr th:only-of-type {\n",
       "        vertical-align: middle;\n",
       "    }\n",
       "\n",
       "    .dataframe tbody tr th {\n",
       "        vertical-align: top;\n",
       "    }\n",
       "\n",
       "    .dataframe thead th {\n",
       "        text-align: right;\n",
       "    }\n",
       "</style>\n",
       "<table border=\"1\" class=\"dataframe\">\n",
       "  <thead>\n",
       "    <tr style=\"text-align: right;\">\n",
       "      <th></th>\n",
       "      <th>name</th>\n",
       "      <th>history_text</th>\n",
       "      <th>_score</th>\n",
       "      <th>_log_score</th>\n",
       "      <th>_len_name</th>\n",
       "      <th>_len_history_text</th>\n",
       "      <th>_cat</th>\n",
       "      <th>_log_cat</th>\n",
       "    </tr>\n",
       "  </thead>\n",
       "  <tbody>\n",
       "    <tr>\n",
       "      <th>0</th>\n",
       "      <td>3-D Man</td>\n",
       "      <td>Delroy Garrett, Jr. grew up to become a track ...</td>\n",
       "      <td>6.0</td>\n",
       "      <td>1.791759</td>\n",
       "      <td>7</td>\n",
       "      <td>509</td>\n",
       "      <td>e</td>\n",
       "      <td>d</td>\n",
       "    </tr>\n",
       "    <tr>\n",
       "      <th>1</th>\n",
       "      <td>514A (Gotham)</td>\n",
       "      <td>He was one of the many prisoners of Indian Hil...</td>\n",
       "      <td>10.0</td>\n",
       "      <td>2.302585</td>\n",
       "      <td>13</td>\n",
       "      <td>3755</td>\n",
       "      <td>e</td>\n",
       "      <td>c</td>\n",
       "    </tr>\n",
       "    <tr>\n",
       "      <th>2</th>\n",
       "      <td>A-Bomb</td>\n",
       "      <td>Richard \"Rick\" Jones was orphaned at a young ...</td>\n",
       "      <td>20.0</td>\n",
       "      <td>2.995732</td>\n",
       "      <td>6</td>\n",
       "      <td>5849</td>\n",
       "      <td>e</td>\n",
       "      <td>c</td>\n",
       "    </tr>\n",
       "    <tr>\n",
       "      <th>3</th>\n",
       "      <td>Aa</td>\n",
       "      <td>Aa is one of the more passive members of the P...</td>\n",
       "      <td>12.0</td>\n",
       "      <td>2.484907</td>\n",
       "      <td>2</td>\n",
       "      <td>5924</td>\n",
       "      <td>e</td>\n",
       "      <td>c</td>\n",
       "    </tr>\n",
       "    <tr>\n",
       "      <th>4</th>\n",
       "      <td>Aaron Cash</td>\n",
       "      <td>Aaron Cash is the head of security at Arkham A...</td>\n",
       "      <td>5.0</td>\n",
       "      <td>1.609438</td>\n",
       "      <td>10</td>\n",
       "      <td>123</td>\n",
       "      <td>e</td>\n",
       "      <td>d</td>\n",
       "    </tr>\n",
       "    <tr>\n",
       "      <th>...</th>\n",
       "      <td>...</td>\n",
       "      <td>...</td>\n",
       "      <td>...</td>\n",
       "      <td>...</td>\n",
       "      <td>...</td>\n",
       "      <td>...</td>\n",
       "      <td>...</td>\n",
       "      <td>...</td>\n",
       "    </tr>\n",
       "    <tr>\n",
       "      <th>1445</th>\n",
       "      <td>Zatanna</td>\n",
       "      <td>Zatanna is the daughter of adventurer John Zat...</td>\n",
       "      <td>10.0</td>\n",
       "      <td>2.302585</td>\n",
       "      <td>7</td>\n",
       "      <td>1532</td>\n",
       "      <td>e</td>\n",
       "      <td>c</td>\n",
       "    </tr>\n",
       "    <tr>\n",
       "      <th>1446</th>\n",
       "      <td>Zero</td>\n",
       "      <td>Zero was created by the late Dr. Albert Wily ...</td>\n",
       "      <td>18.0</td>\n",
       "      <td>2.890372</td>\n",
       "      <td>4</td>\n",
       "      <td>48848</td>\n",
       "      <td>e</td>\n",
       "      <td>c</td>\n",
       "    </tr>\n",
       "    <tr>\n",
       "      <th>1447</th>\n",
       "      <td>Zoom (New 52)</td>\n",
       "      <td>Hunter Zolomon is better known as Zoom, a spee...</td>\n",
       "      <td>20.0</td>\n",
       "      <td>2.995732</td>\n",
       "      <td>13</td>\n",
       "      <td>395</td>\n",
       "      <td>e</td>\n",
       "      <td>c</td>\n",
       "    </tr>\n",
       "    <tr>\n",
       "      <th>1448</th>\n",
       "      <td>Zoom</td>\n",
       "      <td>Hunter Zolomon had a troubled relationship wi...</td>\n",
       "      <td>9.0</td>\n",
       "      <td>2.197225</td>\n",
       "      <td>4</td>\n",
       "      <td>7173</td>\n",
       "      <td>e</td>\n",
       "      <td>c</td>\n",
       "    </tr>\n",
       "    <tr>\n",
       "      <th>1449</th>\n",
       "      <td>Zzzax</td>\n",
       "      <td>Zzzax was the product of an accident that occu...</td>\n",
       "      <td>5.0</td>\n",
       "      <td>1.609438</td>\n",
       "      <td>5</td>\n",
       "      <td>6413</td>\n",
       "      <td>e</td>\n",
       "      <td>d</td>\n",
       "    </tr>\n",
       "  </tbody>\n",
       "</table>\n",
       "<p>1249 rows × 8 columns</p>\n",
       "</div>"
      ],
      "text/plain": [
       "               name                                       history_text  \\\n",
       "0           3-D Man  Delroy Garrett, Jr. grew up to become a track ...   \n",
       "1     514A (Gotham)  He was one of the many prisoners of Indian Hil...   \n",
       "2            A-Bomb   Richard \"Rick\" Jones was orphaned at a young ...   \n",
       "3                Aa  Aa is one of the more passive members of the P...   \n",
       "4        Aaron Cash  Aaron Cash is the head of security at Arkham A...   \n",
       "...             ...                                                ...   \n",
       "1445        Zatanna  Zatanna is the daughter of adventurer John Zat...   \n",
       "1446           Zero   Zero was created by the late Dr. Albert Wily ...   \n",
       "1447  Zoom (New 52)  Hunter Zolomon is better known as Zoom, a spee...   \n",
       "1448           Zoom   Hunter Zolomon had a troubled relationship wi...   \n",
       "1449          Zzzax  Zzzax was the product of an accident that occu...   \n",
       "\n",
       "      _score  _log_score  _len_name  _len_history_text _cat _log_cat  \n",
       "0        6.0    1.791759          7                509    e        d  \n",
       "1       10.0    2.302585         13               3755    e        c  \n",
       "2       20.0    2.995732          6               5849    e        c  \n",
       "3       12.0    2.484907          2               5924    e        c  \n",
       "4        5.0    1.609438         10                123    e        d  \n",
       "...      ...         ...        ...                ...  ...      ...  \n",
       "1445    10.0    2.302585          7               1532    e        c  \n",
       "1446    18.0    2.890372          4              48848    e        c  \n",
       "1447    20.0    2.995732         13                395    e        c  \n",
       "1448     9.0    2.197225          4               7173    e        c  \n",
       "1449     5.0    1.609438          5               6413    e        d  \n",
       "\n",
       "[1249 rows x 8 columns]"
      ]
     },
     "execution_count": 730,
     "metadata": {},
     "output_type": "execute_result"
    }
   ],
   "source": [
    "df"
   ]
  },
  {
   "cell_type": "markdown",
   "id": "0c486529",
   "metadata": {},
   "source": []
  },
  {
   "cell_type": "code",
   "execution_count": 731,
   "id": "58a4317c",
   "metadata": {
    "ExecuteTime": {
     "end_time": "2022-06-27T14:37:38.207859Z",
     "start_time": "2022-06-27T14:37:38.093044Z"
    }
   },
   "outputs": [],
   "source": [
    "df.to_csv(\"data/cleaned/df.csv\", index=False)"
   ]
  },
  {
   "cell_type": "code",
   "execution_count": null,
   "id": "04d28d83",
   "metadata": {},
   "outputs": [],
   "source": []
  },
  {
   "cell_type": "markdown",
   "id": "d5ca41f4",
   "metadata": {},
   "source": [
    "# 5. Working with text SEPARATE NOTEBOOK"
   ]
  },
  {
   "cell_type": "markdown",
   "id": "217f8727",
   "metadata": {},
   "source": [
    "##  5.1 10 random texts "
   ]
  },
  {
   "cell_type": "code",
   "execution_count": null,
   "id": "cc5041cf",
   "metadata": {
    "ExecuteTime": {
     "end_time": "2022-06-27T14:36:00.869487Z",
     "start_time": "2022-06-27T14:36:00.869474Z"
    }
   },
   "outputs": [],
   "source": [
    "df.rename(columns={\"name\" : \"_name\"}, inplace=True)"
   ]
  },
  {
   "cell_type": "code",
   "execution_count": null,
   "id": "e5c2a30a",
   "metadata": {
    "ExecuteTime": {
     "end_time": "2022-06-27T14:36:00.870756Z",
     "start_time": "2022-06-27T14:36:00.870744Z"
    }
   },
   "outputs": [],
   "source": [
    "df.sample(10)"
   ]
  },
  {
   "cell_type": "code",
   "execution_count": null,
   "id": "6a1a629d",
   "metadata": {
    "ExecuteTime": {
     "end_time": "2022-06-27T14:36:00.872055Z",
     "start_time": "2022-06-27T14:36:00.872043Z"
    }
   },
   "outputs": [],
   "source": [
    "df_samp = df.sample(20)\n",
    "df_samp"
   ]
  },
  {
   "cell_type": "code",
   "execution_count": null,
   "id": "8dd449ca",
   "metadata": {
    "ExecuteTime": {
     "end_time": "2022-06-27T14:36:00.873384Z",
     "start_time": "2022-06-27T14:36:00.873360Z"
    },
    "scrolled": false
   },
   "outputs": [],
   "source": [
    "for idx, ser in df_samp.iterrows(): \n",
    "\n",
    "    _len = len(ser[\"history_text\"])\n",
    "    _score = round(ser['_score'], 2)\n",
    "    _log_score = round(ser['_log_score'], 2)\n",
    "    _txt = \"\\t\"+ser[\"history_text\"].strip()\n",
    "    txt_1 = f\"name : {ser['_name']}, score/log_score : {_score}/{_log_score}, len_txt :{_len}, history:\\n\"\n",
    "    \n",
    "    print(txt_1+_txt[:300]+ \"...\" + \"\\n\\n\")"
   ]
  },
  {
   "cell_type": "code",
   "execution_count": null,
   "id": "77f5ed93",
   "metadata": {
    "ExecuteTime": {
     "end_time": "2022-06-27T14:36:00.874570Z",
     "start_time": "2022-06-27T14:36:00.874556Z"
    }
   },
   "outputs": [],
   "source": [
    "def print_sample(sub_df, n_samp=10, n_char=1000) : \n",
    "    \"\"\" \"\"\"\n",
    "    \n",
    "    if n_samp < len(sub_df): \n",
    "        df_samp = sub_df.sample(n_samp)\n",
    "    else : \n",
    "        df_samp = sub_df.copy()\n",
    "    \n",
    "    for idx, ser in df_samp.iterrows(): \n",
    "\n",
    "        _len = len(ser[\"history_text\"])\n",
    "        _score = round(ser['_score'], 2)\n",
    "        _log_score = round(ser['_log_score'], 2)\n",
    "        _txt = \"\\n\"+ser[\"history_text\"].strip()\n",
    "        txt_1 = f\"name : {ser['_name']}, score/log_score : {_score}/{_log_score}, len_txt :{_len}, history:\\n\"\n",
    "\n",
    "        print(txt_1+_txt[:n_char]+ \"...\" + \"\\n\\n\\n\")"
   ]
  },
  {
   "cell_type": "code",
   "execution_count": null,
   "id": "2d7b8714",
   "metadata": {
    "ExecuteTime": {
     "end_time": "2022-06-27T14:36:00.875727Z",
     "start_time": "2022-06-27T14:36:00.875715Z"
    }
   },
   "outputs": [],
   "source": [
    "df_a = df[df._cat==\"a\"]\n",
    "df_a.head()"
   ]
  },
  {
   "cell_type": "code",
   "execution_count": null,
   "id": "28663532",
   "metadata": {
    "ExecuteTime": {
     "end_time": "2022-06-27T14:36:00.876785Z",
     "start_time": "2022-06-27T14:36:00.876768Z"
    }
   },
   "outputs": [],
   "source": [
    "print_sample(df_a)"
   ]
  },
  {
   "cell_type": "code",
   "execution_count": null,
   "id": "e69fcc95",
   "metadata": {
    "ExecuteTime": {
     "end_time": "2022-06-27T14:36:00.878148Z",
     "start_time": "2022-06-27T14:36:00.878134Z"
    }
   },
   "outputs": [],
   "source": [
    "print_sample(df[df._cat==\"b\"])"
   ]
  },
  {
   "cell_type": "code",
   "execution_count": null,
   "id": "0d57c2e9",
   "metadata": {
    "ExecuteTime": {
     "end_time": "2022-06-27T14:36:00.879701Z",
     "start_time": "2022-06-27T14:36:00.879685Z"
    }
   },
   "outputs": [],
   "source": [
    "print_sample(df[df._cat==\"b\"])"
   ]
  },
  {
   "cell_type": "code",
   "execution_count": null,
   "id": "5b0dda09",
   "metadata": {
    "ExecuteTime": {
     "end_time": "2022-06-27T14:36:00.881136Z",
     "start_time": "2022-06-27T14:36:00.881121Z"
    }
   },
   "outputs": [],
   "source": [
    "print_sample(df[df._cat==\"c\"])"
   ]
  },
  {
   "cell_type": "code",
   "execution_count": null,
   "id": "7c2c7dc6",
   "metadata": {
    "ExecuteTime": {
     "end_time": "2022-06-27T14:36:00.882523Z",
     "start_time": "2022-06-27T14:36:00.882509Z"
    }
   },
   "outputs": [],
   "source": [
    "print_sample(df[df._cat==\"d\"])"
   ]
  },
  {
   "cell_type": "code",
   "execution_count": null,
   "id": "c258795a",
   "metadata": {
    "ExecuteTime": {
     "end_time": "2022-06-27T14:36:00.883953Z",
     "start_time": "2022-06-27T14:36:00.883936Z"
    }
   },
   "outputs": [],
   "source": [
    "print_sample(df[df._cat==\"e\"])"
   ]
  },
  {
   "cell_type": "code",
   "execution_count": null,
   "id": "079911d2",
   "metadata": {},
   "outputs": [],
   "source": []
  },
  {
   "cell_type": "code",
   "execution_count": null,
   "id": "e86ff2dd",
   "metadata": {},
   "outputs": [],
   "source": []
  },
  {
   "cell_type": "markdown",
   "id": "ab788d1d",
   "metadata": {},
   "source": [
    "# work on One"
   ]
  },
  {
   "cell_type": "code",
   "execution_count": null,
   "id": "dea19425",
   "metadata": {
    "ExecuteTime": {
     "end_time": "2022-06-27T14:36:00.885904Z",
     "start_time": "2022-06-27T14:36:00.885879Z"
    }
   },
   "outputs": [],
   "source": [
    "txt = df.history_text.sample(1)\n",
    "txt = txt.values[0]\n",
    "txt"
   ]
  },
  {
   "cell_type": "code",
   "execution_count": null,
   "id": "f1754801",
   "metadata": {
    "ExecuteTime": {
     "end_time": "2022-06-27T14:36:00.888243Z",
     "start_time": "2022-06-27T14:36:00.888226Z"
    }
   },
   "outputs": [],
   "source": [
    "txt = txt.lower()\n",
    "txt"
   ]
  },
  {
   "cell_type": "code",
   "execution_count": null,
   "id": "c1ee02c3",
   "metadata": {
    "ExecuteTime": {
     "end_time": "2022-06-27T14:36:00.890247Z",
     "start_time": "2022-06-27T14:36:00.890226Z"
    }
   },
   "outputs": [],
   "source": [
    "txt = txt.strip().replace(\"  \", \" \")"
   ]
  },
  {
   "cell_type": "code",
   "execution_count": null,
   "id": "8d7bc9aa",
   "metadata": {
    "ExecuteTime": {
     "end_time": "2022-06-27T14:36:00.891726Z",
     "start_time": "2022-06-27T14:36:00.891707Z"
    }
   },
   "outputs": [],
   "source": [
    "txt[:30]"
   ]
  },
  {
   "cell_type": "code",
   "execution_count": null,
   "id": "05a5c20e",
   "metadata": {
    "ExecuteTime": {
     "end_time": "2022-06-27T14:36:00.893461Z",
     "start_time": "2022-06-27T14:36:00.893442Z"
    }
   },
   "outputs": [],
   "source": [
    "from nltk.tokenize import word_tokenize, wordpunct_tokenize"
   ]
  },
  {
   "cell_type": "code",
   "execution_count": null,
   "id": "8f6a396b",
   "metadata": {
    "ExecuteTime": {
     "end_time": "2022-06-27T14:36:00.895234Z",
     "start_time": "2022-06-27T14:36:00.895214Z"
    },
    "scrolled": false
   },
   "outputs": [],
   "source": [
    "raw_tokens_list  = word_tokenize(txt)\n",
    "raw_tokens_list[:30]"
   ]
  },
  {
   "cell_type": "code",
   "execution_count": null,
   "id": "1fc81a6d",
   "metadata": {
    "ExecuteTime": {
     "end_time": "2022-06-27T14:36:00.897067Z",
     "start_time": "2022-06-27T14:36:00.897045Z"
    }
   },
   "outputs": [],
   "source": [
    "len(raw_tokens_list)"
   ]
  },
  {
   "cell_type": "code",
   "execution_count": null,
   "id": "1fa74e0b",
   "metadata": {
    "ExecuteTime": {
     "end_time": "2022-06-27T14:36:00.899087Z",
     "start_time": "2022-06-27T14:36:00.899066Z"
    }
   },
   "outputs": [],
   "source": [
    "from nltk.corpus import stopwords"
   ]
  },
  {
   "cell_type": "code",
   "execution_count": null,
   "id": "1df3d034",
   "metadata": {
    "ExecuteTime": {
     "end_time": "2022-06-27T14:36:00.900339Z",
     "start_time": "2022-06-27T14:36:00.900322Z"
    }
   },
   "outputs": [],
   "source": [
    "nltk.download('stopwords')"
   ]
  },
  {
   "cell_type": "code",
   "execution_count": null,
   "id": "7a6ec4db",
   "metadata": {
    "ExecuteTime": {
     "end_time": "2022-06-27T14:36:00.902168Z",
     "start_time": "2022-06-27T14:36:00.902148Z"
    }
   },
   "outputs": [],
   "source": [
    "stop_words = set(stopwords.words('english'))\n",
    "print(stop_words)"
   ]
  },
  {
   "cell_type": "code",
   "execution_count": null,
   "id": "e4792ef2",
   "metadata": {
    "ExecuteTime": {
     "end_time": "2022-06-27T14:36:00.903754Z",
     "start_time": "2022-06-27T14:36:00.903727Z"
    }
   },
   "outputs": [],
   "source": [
    "cleaned_tokens_list = [w for w in raw_tokens_list if w not in stop_words]"
   ]
  },
  {
   "cell_type": "code",
   "execution_count": null,
   "id": "04f9f1ed",
   "metadata": {
    "ExecuteTime": {
     "end_time": "2022-06-27T14:36:00.905356Z",
     "start_time": "2022-06-27T14:36:00.905341Z"
    }
   },
   "outputs": [],
   "source": [
    "cleaned_tokens_list[:50]"
   ]
  },
  {
   "cell_type": "code",
   "execution_count": null,
   "id": "24d4fd84",
   "metadata": {
    "ExecuteTime": {
     "end_time": "2022-06-27T14:36:00.906545Z",
     "start_time": "2022-06-27T14:36:00.906531Z"
    }
   },
   "outputs": [],
   "source": [
    "len(cleaned_tokens_list)"
   ]
  },
  {
   "cell_type": "code",
   "execution_count": null,
   "id": "87144998",
   "metadata": {
    "ExecuteTime": {
     "end_time": "2022-06-27T14:36:00.907872Z",
     "start_time": "2022-06-27T14:36:00.907859Z"
    }
   },
   "outputs": [],
   "source": [
    "from nltk.tokenize import RegexpTokenizer"
   ]
  },
  {
   "cell_type": "code",
   "execution_count": null,
   "id": "1eda51a5",
   "metadata": {
    "ExecuteTime": {
     "end_time": "2022-06-27T14:36:00.909108Z",
     "start_time": "2022-06-27T14:36:00.909094Z"
    }
   },
   "outputs": [],
   "source": [
    "\n",
    "\n",
    "\n",
    "raw_tokens_list[:50]"
   ]
  },
  {
   "cell_type": "code",
   "execution_count": null,
   "id": "aa958d7b",
   "metadata": {
    "ExecuteTime": {
     "end_time": "2022-06-27T14:36:00.910631Z",
     "start_time": "2022-06-27T14:36:00.910616Z"
    }
   },
   "outputs": [],
   "source": [
    "raw_tokens_list"
   ]
  },
  {
   "cell_type": "code",
   "execution_count": null,
   "id": "ba57384b",
   "metadata": {
    "ExecuteTime": {
     "end_time": "2022-06-27T14:36:00.911947Z",
     "start_time": "2022-06-27T14:36:00.911934Z"
    }
   },
   "outputs": [],
   "source": [
    "cleaned_tokens_list = [w for w in raw_tokens_list if w not in stop_words]"
   ]
  },
  {
   "cell_type": "code",
   "execution_count": null,
   "id": "27acc154",
   "metadata": {
    "ExecuteTime": {
     "end_time": "2022-06-27T14:36:00.913313Z",
     "start_time": "2022-06-27T14:36:00.913298Z"
    }
   },
   "outputs": [],
   "source": [
    "cleaned_tokens_list[:50]"
   ]
  },
  {
   "cell_type": "code",
   "execution_count": null,
   "id": "1c046a67",
   "metadata": {
    "ExecuteTime": {
     "end_time": "2022-06-27T14:36:00.914716Z",
     "start_time": "2022-06-27T14:36:00.914701Z"
    }
   },
   "outputs": [],
   "source": [
    "len(cleaned_tokens_list)"
   ]
  },
  {
   "cell_type": "code",
   "execution_count": null,
   "id": "1fbd3174",
   "metadata": {
    "ExecuteTime": {
     "end_time": "2022-06-27T14:36:00.916193Z",
     "start_time": "2022-06-27T14:36:00.916180Z"
    }
   },
   "outputs": [],
   "source": [
    "def process_text(txt, rejoin=False) : \n",
    "    \n",
    "    txt = txt.lower().strip()\n",
    "    tokenizer = RegexpTokenizer(r\"\\w+\")\n",
    "    raw_tokens_list = tokenizer.tokenize(txt)\n",
    "    cleaned_tokens_list = [w for w in raw_tokens_list if w not in stop_words]\n",
    "    \n",
    "    if rejoin : \n",
    "        return \" \".join(cleaned_tokens_list)\n",
    "    \n",
    "    return cleaned_tokens_list"
   ]
  },
  {
   "cell_type": "code",
   "execution_count": null,
   "id": "9eafd633",
   "metadata": {
    "ExecuteTime": {
     "end_time": "2022-06-27T14:36:00.917334Z",
     "start_time": "2022-06-27T14:36:00.917315Z"
    }
   },
   "outputs": [],
   "source": [
    "corpus = list(df.history_text.values)\n",
    "corpus[:3]"
   ]
  },
  {
   "cell_type": "code",
   "execution_count": null,
   "id": "047ce4ef",
   "metadata": {
    "ExecuteTime": {
     "end_time": "2022-06-27T14:36:00.918431Z",
     "start_time": "2022-06-27T14:36:00.918411Z"
    }
   },
   "outputs": [],
   "source": [
    "corpus = \"\".join(corpus)\n",
    "corpus[:5000]"
   ]
  },
  {
   "cell_type": "code",
   "execution_count": null,
   "id": "8af82dab",
   "metadata": {
    "ExecuteTime": {
     "end_time": "2022-06-27T14:36:00.919997Z",
     "start_time": "2022-06-27T14:36:00.919981Z"
    }
   },
   "outputs": [],
   "source": [
    "cleaned_corpus = process_text(corpus)\n",
    "cleaned_corpus"
   ]
  },
  {
   "cell_type": "code",
   "execution_count": null,
   "id": "facd87a0",
   "metadata": {
    "ExecuteTime": {
     "end_time": "2022-06-27T14:36:00.921056Z",
     "start_time": "2022-06-27T14:36:00.921042Z"
    }
   },
   "outputs": [],
   "source": [
    "len(cleaned_corpus)"
   ]
  },
  {
   "cell_type": "code",
   "execution_count": null,
   "id": "3202abe3",
   "metadata": {
    "ExecuteTime": {
     "end_time": "2022-06-27T14:36:00.922278Z",
     "start_time": "2022-06-27T14:36:00.922264Z"
    }
   },
   "outputs": [],
   "source": [
    "tmp = pd.Series(cleaned_corpus).value_counts()"
   ]
  },
  {
   "cell_type": "code",
   "execution_count": null,
   "id": "42d989a7",
   "metadata": {
    "ExecuteTime": {
     "end_time": "2022-06-27T14:36:00.923173Z",
     "start_time": "2022-06-27T14:36:00.923161Z"
    }
   },
   "outputs": [],
   "source": [
    "len(df)"
   ]
  },
  {
   "cell_type": "code",
   "execution_count": null,
   "id": "547c0079",
   "metadata": {
    "ExecuteTime": {
     "end_time": "2022-06-27T14:36:00.924871Z",
     "start_time": "2022-06-27T14:36:00.924853Z"
    }
   },
   "outputs": [],
   "source": [
    "tmp.describe()"
   ]
  },
  {
   "cell_type": "code",
   "execution_count": null,
   "id": "d81a9a7b",
   "metadata": {
    "ExecuteTime": {
     "end_time": "2022-06-27T14:36:00.926369Z",
     "start_time": "2022-06-27T14:36:00.926349Z"
    }
   },
   "outputs": [],
   "source": [
    "sns.displot(tmp.values)"
   ]
  },
  {
   "cell_type": "code",
   "execution_count": null,
   "id": "2073ea0a",
   "metadata": {
    "ExecuteTime": {
     "end_time": "2022-06-27T14:36:00.928269Z",
     "start_time": "2022-06-27T14:36:00.928249Z"
    },
    "scrolled": true
   },
   "outputs": [],
   "source": [
    "tmp.head(30)"
   ]
  },
  {
   "cell_type": "code",
   "execution_count": null,
   "id": "f47b4ea8",
   "metadata": {
    "ExecuteTime": {
     "end_time": "2022-06-27T14:36:00.930261Z",
     "start_time": "2022-06-27T14:36:00.930239Z"
    }
   },
   "outputs": [],
   "source": [
    "tmp.tail(30)"
   ]
  },
  {
   "cell_type": "code",
   "execution_count": null,
   "id": "43313db7",
   "metadata": {
    "ExecuteTime": {
     "end_time": "2022-06-27T14:36:00.932048Z",
     "start_time": "2022-06-27T14:36:00.932026Z"
    }
   },
   "outputs": [],
   "source": [
    "sns.countplot(pd.Series(cleaned_corpus))"
   ]
  },
  {
   "cell_type": "code",
   "execution_count": null,
   "id": "eaca7018",
   "metadata": {
    "ExecuteTime": {
     "end_time": "2022-06-27T14:36:00.933633Z",
     "start_time": "2022-06-27T14:36:00.933614Z"
    }
   },
   "outputs": [],
   "source": [
    "list_unique_words = tmp[tmp==1]\n",
    "list_unique_words[:30]"
   ]
  },
  {
   "cell_type": "code",
   "execution_count": null,
   "id": "2eb9b8bc",
   "metadata": {
    "ExecuteTime": {
     "end_time": "2022-06-27T14:36:00.935181Z",
     "start_time": "2022-06-27T14:36:00.935162Z"
    }
   },
   "outputs": [],
   "source": [
    "list_unique_words = list(list_unique_words.index)\n",
    "list_unique_words[:30]"
   ]
  },
  {
   "cell_type": "code",
   "execution_count": null,
   "id": "4fb47469",
   "metadata": {
    "ExecuteTime": {
     "end_time": "2022-06-27T14:36:00.936571Z",
     "start_time": "2022-06-27T14:36:00.936552Z"
    }
   },
   "outputs": [],
   "source": [
    "def process_text(txt, rejoin=False) : \n",
    "    \n",
    "    txt = txt.lower().strip()\n",
    "    tokenizer = RegexpTokenizer(r\"\\w+\")\n",
    "    raw_tokens_list = tokenizer.tokenize(txt)\n",
    "    cleaned_tokens_list = [w for w in raw_tokens_list if w not in stop_words]\n",
    "    non_unique_tokens_list = [w for w in cleaned_tokens_list not in list_unique_words]\n",
    "    more_than_3 =  [w for w in non_unique_tokens_list if len(w) > 3 ]\n",
    "    \n",
    "    alpha_num = [w for w in more_than_3 if w.isalpha()]\n",
    "    \n",
    "    \n",
    "    if rejoin : \n",
    "        return \" \".join(cleaned_tokens_list)\n",
    "    \n",
    "    return cleaned_tokens_list"
   ]
  },
  {
   "cell_type": "code",
   "execution_count": null,
   "id": "6f28e122",
   "metadata": {
    "ExecuteTime": {
     "end_time": "2022-06-27T14:36:00.938206Z",
     "start_time": "2022-06-27T14:36:00.938192Z"
    }
   },
   "outputs": [],
   "source": [
    "\"a12\".isalpha()"
   ]
  },
  {
   "cell_type": "code",
   "execution_count": null,
   "id": "205a7e22",
   "metadata": {
    "ExecuteTime": {
     "end_time": "2022-06-27T14:36:00.939481Z",
     "start_time": "2022-06-27T14:36:00.939463Z"
    },
    "scrolled": true
   },
   "outputs": [],
   "source": [
    "cleaned_corpus[:100]"
   ]
  },
  {
   "cell_type": "code",
   "execution_count": null,
   "id": "f08cac1a",
   "metadata": {
    "ExecuteTime": {
     "end_time": "2022-06-27T14:36:00.940585Z",
     "start_time": "2022-06-27T14:36:00.940572Z"
    }
   },
   "outputs": [],
   "source": [
    "len(set(cleaned_corpus))"
   ]
  },
  {
   "cell_type": "code",
   "execution_count": null,
   "id": "0441adca",
   "metadata": {
    "ExecuteTime": {
     "end_time": "2022-06-27T14:36:00.941708Z",
     "start_time": "2022-06-27T14:36:00.941696Z"
    }
   },
   "outputs": [],
   "source": [
    "\n",
    "\n",
    "\n",
    "from nltk.stem import WordNetLemmatizer\n",
    "  \n",
    "lemmatizer = WordNetLemmatizer()"
   ]
  },
  {
   "cell_type": "code",
   "execution_count": null,
   "id": "d0d204c7",
   "metadata": {
    "ExecuteTime": {
     "end_time": "2022-06-27T14:36:00.943546Z",
     "start_time": "2022-06-27T14:36:00.943504Z"
    }
   },
   "outputs": [],
   "source": [
    "nltk.download('wordnet')"
   ]
  },
  {
   "cell_type": "code",
   "execution_count": null,
   "id": "8cb4afa7",
   "metadata": {
    "ExecuteTime": {
     "end_time": "2022-06-27T14:36:00.945395Z",
     "start_time": "2022-06-27T14:36:00.945371Z"
    }
   },
   "outputs": [],
   "source": [
    "nltk.download('omw-1.4')"
   ]
  },
  {
   "cell_type": "code",
   "execution_count": null,
   "id": "f913830f",
   "metadata": {
    "ExecuteTime": {
     "end_time": "2022-06-27T14:36:00.947122Z",
     "start_time": "2022-06-27T14:36:00.947103Z"
    }
   },
   "outputs": [],
   "source": [
    "lemmatizer.lemmatize(\"cars\")"
   ]
  },
  {
   "cell_type": "code",
   "execution_count": null,
   "id": "78a1ea66",
   "metadata": {
    "ExecuteTime": {
     "end_time": "2022-06-27T14:36:00.948459Z",
     "start_time": "2022-06-27T14:36:00.948446Z"
    }
   },
   "outputs": [],
   "source": [
    "from nltk.stem import PorterStemmer\n",
    "from nltk.tokenize import word_tokenize\n",
    " \n",
    "ps = PorterStemmer()"
   ]
  },
  {
   "cell_type": "code",
   "execution_count": null,
   "id": "62185d7c",
   "metadata": {
    "ExecuteTime": {
     "end_time": "2022-06-27T14:36:00.949742Z",
     "start_time": "2022-06-27T14:36:00.949728Z"
    }
   },
   "outputs": [],
   "source": [
    "lemm_cleanned_corpus = [lemmatizer.lemmatize(i) for i in cleaned_corpus ]"
   ]
  },
  {
   "cell_type": "code",
   "execution_count": null,
   "id": "4a522776",
   "metadata": {
    "ExecuteTime": {
     "end_time": "2022-06-27T14:36:00.950828Z",
     "start_time": "2022-06-27T14:36:00.950806Z"
    }
   },
   "outputs": [],
   "source": [
    "len(set(lemm_cleanned_corpus))"
   ]
  },
  {
   "cell_type": "code",
   "execution_count": null,
   "id": "906a48b9",
   "metadata": {
    "ExecuteTime": {
     "end_time": "2022-06-27T14:36:00.952047Z",
     "start_time": "2022-06-27T14:36:00.952033Z"
    }
   },
   "outputs": [],
   "source": [
    "def process_text(txt, rejoin=True, lemm_or_stemm = \"stem\") : \n",
    "    \n",
    "    txt = txt.lower().strip()\n",
    "    \n",
    "    tokenizer = RegexpTokenizer(r\"\\w+\")\n",
    "    raw_tokens_list = tokenizer.tokenize(txt)\n",
    "    \n",
    "    cleaned_tokens_list = [w for w in raw_tokens_list if w not in stop_words]\n",
    "    \n",
    "    non_unique_tokens_list = [w for w in cleaned_tokens_list if w not in list_unique_words]\n",
    "    \n",
    "    more_than_3 =  [w for w in non_unique_tokens_list if len(w) > 3 ]\n",
    "    \n",
    "    alpha_num = [w for w in more_than_3 if w.isalpha()]\n",
    "    \n",
    "    if lemm_or_stemm == \"lem\" : \n",
    "        trans = WordNetLemmatizer()\n",
    "        trans_text = [trans.lemmatize(i) for i in alpha_num ]\n",
    "    else : \n",
    "        trans = PorterStemmer()\n",
    "        trans_text = [trans.stem(i) for i in alpha_num ]\n",
    "    \n",
    "    if rejoin : \n",
    "        return \" \".join(trans_text)\n",
    "    \n",
    "    return trans_text"
   ]
  },
  {
   "cell_type": "code",
   "execution_count": null,
   "id": "b7400fe6",
   "metadata": {
    "ExecuteTime": {
     "end_time": "2022-06-27T14:36:00.953237Z",
     "start_time": "2022-06-27T14:36:00.953224Z"
    }
   },
   "outputs": [],
   "source": [
    "df[\"cleaned_history\"] = df.history_text.apply(lambda i : process_text(i))"
   ]
  },
  {
   "cell_type": "code",
   "execution_count": null,
   "id": "28768381",
   "metadata": {
    "ExecuteTime": {
     "end_time": "2022-06-27T14:36:00.954475Z",
     "start_time": "2022-06-27T14:36:00.954462Z"
    }
   },
   "outputs": [],
   "source": [
    "df.history_text"
   ]
  },
  {
   "cell_type": "code",
   "execution_count": null,
   "id": "3c8be691",
   "metadata": {
    "ExecuteTime": {
     "end_time": "2022-06-27T14:36:00.955526Z",
     "start_time": "2022-06-27T14:36:00.955514Z"
    }
   },
   "outputs": [],
   "source": [
    "df.cleaned_history"
   ]
  },
  {
   "cell_type": "code",
   "execution_count": null,
   "id": "f4fd5fab",
   "metadata": {
    "ExecuteTime": {
     "end_time": "2022-06-27T14:36:00.956596Z",
     "start_time": "2022-06-27T14:36:00.956583Z"
    },
    "scrolled": true
   },
   "outputs": [],
   "source": [
    "!pip install sklearn"
   ]
  },
  {
   "cell_type": "code",
   "execution_count": null,
   "id": "0623efe5",
   "metadata": {
    "ExecuteTime": {
     "end_time": "2022-06-27T14:36:00.958405Z",
     "start_time": "2022-06-27T14:36:00.958378Z"
    }
   },
   "outputs": [],
   "source": [
    "from sklearn.feature_extraction.text import TfidfVectorizer"
   ]
  },
  {
   "cell_type": "code",
   "execution_count": null,
   "id": "07b0ebd6",
   "metadata": {
    "ExecuteTime": {
     "end_time": "2022-06-27T14:36:00.960115Z",
     "start_time": "2022-06-27T14:36:00.960092Z"
    }
   },
   "outputs": [],
   "source": [
    "tf = TfidfVectorizer()"
   ]
  },
  {
   "cell_type": "code",
   "execution_count": null,
   "id": "7cbfa215",
   "metadata": {
    "ExecuteTime": {
     "end_time": "2022-06-27T14:36:00.962025Z",
     "start_time": "2022-06-27T14:36:00.962004Z"
    }
   },
   "outputs": [],
   "source": [
    "res = tf.fit_transform(df.cleaned_history)"
   ]
  },
  {
   "cell_type": "code",
   "execution_count": null,
   "id": "b20d81d7",
   "metadata": {
    "ExecuteTime": {
     "end_time": "2022-06-27T14:36:00.964478Z",
     "start_time": "2022-06-27T14:36:00.964463Z"
    }
   },
   "outputs": [],
   "source": [
    "res"
   ]
  },
  {
   "cell_type": "code",
   "execution_count": null,
   "id": "b504243f",
   "metadata": {
    "ExecuteTime": {
     "end_time": "2022-06-27T14:36:00.965919Z",
     "start_time": "2022-06-27T14:36:00.965905Z"
    }
   },
   "outputs": [],
   "source": [
    "res = res.toarray()"
   ]
  },
  {
   "cell_type": "code",
   "execution_count": null,
   "id": "b1f25c1a",
   "metadata": {},
   "outputs": [],
   "source": [
    "res."
   ]
  }
 ],
 "metadata": {
  "hide_input": false,
  "kernelspec": {
   "display_name": "Python 3",
   "language": "python",
   "name": "python3"
  },
  "language_info": {
   "codemirror_mode": {
    "name": "ipython",
    "version": 3
   },
   "file_extension": ".py",
   "mimetype": "text/x-python",
   "name": "python",
   "nbconvert_exporter": "python",
   "pygments_lexer": "ipython3",
   "version": "3.8.10"
  }
 },
 "nbformat": 4,
 "nbformat_minor": 5
}
