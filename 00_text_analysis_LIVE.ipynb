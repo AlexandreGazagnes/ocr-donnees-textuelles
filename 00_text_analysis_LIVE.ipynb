{
 "cells": [
  {
   "cell_type": "markdown",
   "id": "90d846cb",
   "metadata": {},
   "source": [
    "# 1. Preliminary"
   ]
  },
  {
   "cell_type": "markdown",
   "id": "03838406",
   "metadata": {},
   "source": [
    "## 1.1 Context"
   ]
  },
  {
   "cell_type": "markdown",
   "id": "6606bd99",
   "metadata": {
    "ExecuteTime": {
     "end_time": "2022-06-28T07:07:57.932538Z",
     "start_time": "2022-06-28T07:07:57.927107Z"
    }
   },
   "source": [
    "* We will analyze a very well known NLP dataset: tweets from disaster\n",
    "\n",
    "\n",
    "* It is a Kaggle competition, which offers a simple but good level textual dataset to be able to make its weapons in NLP\n",
    "\n",
    "\n",
    "* The dataset is here [https://www.kaggle.com/competitions/nlp-getting-started/data]\n",
    "\n",
    "\n",
    "* Please use the **train** dataset\n",
    "\n",
    "\n",
    "* In this 1st part we are just play and discover with this dataset"
   ]
  },
  {
   "cell_type": "markdown",
   "id": "e4b708ab",
   "metadata": {},
   "source": [
    "## 1.2 Requirements"
   ]
  },
  {
   "cell_type": "markdown",
   "id": "08fbf504",
   "metadata": {},
   "source": [
    "You have to install  : \n",
    "\n",
    "* pandas\n",
    "* numpy\n",
    "* matplotlib\n",
    "* seaborn"
   ]
  },
  {
   "cell_type": "markdown",
   "id": "97396f16",
   "metadata": {},
   "source": [
    "## 1.3 Imports"
   ]
  },
  {
   "cell_type": "code",
   "execution_count": 79,
   "id": "d56dbd5f",
   "metadata": {
    "ExecuteTime": {
     "end_time": "2022-06-28T11:28:08.021462Z",
     "start_time": "2022-06-28T11:28:08.014573Z"
    }
   },
   "outputs": [],
   "source": [
    "import os, sys, time\n",
    "\n",
    "import numpy as np\n",
    "import pandas as pd\n",
    "\n",
    "import matplotlib.pyplot as plt\n",
    "import seaborn as sns"
   ]
  },
  {
   "cell_type": "markdown",
   "id": "f5cf6fd7",
   "metadata": {},
   "source": [
    "## 1.4 Graphics and options"
   ]
  },
  {
   "cell_type": "code",
   "execution_count": 75,
   "id": "97fab682",
   "metadata": {
    "ExecuteTime": {
     "end_time": "2022-06-28T11:27:35.146262Z",
     "start_time": "2022-06-28T11:27:35.139915Z"
    }
   },
   "outputs": [],
   "source": [
    "sns.set()"
   ]
  },
  {
   "cell_type": "markdown",
   "id": "1880a917",
   "metadata": {},
   "source": [
    "## 1.5 Loading data"
   ]
  },
  {
   "cell_type": "code",
   "execution_count": 81,
   "id": "7f9322ee",
   "metadata": {
    "ExecuteTime": {
     "end_time": "2022-06-28T11:28:58.078664Z",
     "start_time": "2022-06-28T11:28:58.072905Z"
    }
   },
   "outputs": [],
   "source": [
    "# !tree"
   ]
  },
  {
   "cell_type": "code",
   "execution_count": 76,
   "id": "c046fdbb",
   "metadata": {
    "ExecuteTime": {
     "end_time": "2022-06-28T11:27:43.559546Z",
     "start_time": "2022-06-28T11:27:43.547906Z"
    }
   },
   "outputs": [
    {
     "data": {
      "text/plain": [
       "['superheroes_nlp_dataset.csv', 'twit_from_disaster_train.csv']"
      ]
     },
     "execution_count": 76,
     "metadata": {},
     "output_type": "execute_result"
    }
   ],
   "source": [
    "# our file\n",
    "\n",
    "data = \"./data/source/\"\n",
    "os.listdir(data)"
   ]
  },
  {
   "cell_type": "code",
   "execution_count": 77,
   "id": "e699e715",
   "metadata": {
    "ExecuteTime": {
     "end_time": "2022-06-28T11:27:46.237295Z",
     "start_time": "2022-06-28T11:27:46.156866Z"
    }
   },
   "outputs": [
    {
     "data": {
      "text/html": [
       "<div>\n",
       "<style scoped>\n",
       "    .dataframe tbody tr th:only-of-type {\n",
       "        vertical-align: middle;\n",
       "    }\n",
       "\n",
       "    .dataframe tbody tr th {\n",
       "        vertical-align: top;\n",
       "    }\n",
       "\n",
       "    .dataframe thead th {\n",
       "        text-align: right;\n",
       "    }\n",
       "</style>\n",
       "<table border=\"1\" class=\"dataframe\">\n",
       "  <thead>\n",
       "    <tr style=\"text-align: right;\">\n",
       "      <th></th>\n",
       "      <th>id</th>\n",
       "      <th>keyword</th>\n",
       "      <th>location</th>\n",
       "      <th>text</th>\n",
       "      <th>target</th>\n",
       "    </tr>\n",
       "  </thead>\n",
       "  <tbody>\n",
       "    <tr>\n",
       "      <th>0</th>\n",
       "      <td>1</td>\n",
       "      <td>NaN</td>\n",
       "      <td>NaN</td>\n",
       "      <td>Our Deeds are the Reason of this #earthquake M...</td>\n",
       "      <td>1</td>\n",
       "    </tr>\n",
       "    <tr>\n",
       "      <th>1</th>\n",
       "      <td>4</td>\n",
       "      <td>NaN</td>\n",
       "      <td>NaN</td>\n",
       "      <td>Forest fire near La Ronge Sask. Canada</td>\n",
       "      <td>1</td>\n",
       "    </tr>\n",
       "    <tr>\n",
       "      <th>2</th>\n",
       "      <td>5</td>\n",
       "      <td>NaN</td>\n",
       "      <td>NaN</td>\n",
       "      <td>All residents asked to 'shelter in place' are ...</td>\n",
       "      <td>1</td>\n",
       "    </tr>\n",
       "    <tr>\n",
       "      <th>3</th>\n",
       "      <td>6</td>\n",
       "      <td>NaN</td>\n",
       "      <td>NaN</td>\n",
       "      <td>13,000 people receive #wildfires evacuation or...</td>\n",
       "      <td>1</td>\n",
       "    </tr>\n",
       "    <tr>\n",
       "      <th>4</th>\n",
       "      <td>7</td>\n",
       "      <td>NaN</td>\n",
       "      <td>NaN</td>\n",
       "      <td>Just got sent this photo from Ruby #Alaska as ...</td>\n",
       "      <td>1</td>\n",
       "    </tr>\n",
       "  </tbody>\n",
       "</table>\n",
       "</div>"
      ],
      "text/plain": [
       "   id keyword location                                               text  \\\n",
       "0   1     NaN      NaN  Our Deeds are the Reason of this #earthquake M...   \n",
       "1   4     NaN      NaN             Forest fire near La Ronge Sask. Canada   \n",
       "2   5     NaN      NaN  All residents asked to 'shelter in place' are ...   \n",
       "3   6     NaN      NaN  13,000 people receive #wildfires evacuation or...   \n",
       "4   7     NaN      NaN  Just got sent this photo from Ruby #Alaska as ...   \n",
       "\n",
       "   target  \n",
       "0       1  \n",
       "1       1  \n",
       "2       1  \n",
       "3       1  \n",
       "4       1  "
      ]
     },
     "execution_count": 77,
     "metadata": {},
     "output_type": "execute_result"
    }
   ],
   "source": [
    "# load dataframe\n",
    "\n",
    "fn = data + 'twit_from_disaster_train.csv'\n",
    "df = pd.read_csv(fn)\n",
    "df.head()"
   ]
  },
  {
   "cell_type": "markdown",
   "id": "4a631f5e",
   "metadata": {},
   "source": [
    "# 2. First Tour"
   ]
  },
  {
   "cell_type": "markdown",
   "id": "74e02cca",
   "metadata": {},
   "source": [
    "## 2.1 Display"
   ]
  },
  {
   "cell_type": "code",
   "execution_count": 82,
   "id": "4a105163",
   "metadata": {
    "ExecuteTime": {
     "end_time": "2022-06-28T11:29:10.667431Z",
     "start_time": "2022-06-28T11:29:10.647615Z"
    }
   },
   "outputs": [
    {
     "data": {
      "text/html": [
       "<div>\n",
       "<style scoped>\n",
       "    .dataframe tbody tr th:only-of-type {\n",
       "        vertical-align: middle;\n",
       "    }\n",
       "\n",
       "    .dataframe tbody tr th {\n",
       "        vertical-align: top;\n",
       "    }\n",
       "\n",
       "    .dataframe thead th {\n",
       "        text-align: right;\n",
       "    }\n",
       "</style>\n",
       "<table border=\"1\" class=\"dataframe\">\n",
       "  <thead>\n",
       "    <tr style=\"text-align: right;\">\n",
       "      <th></th>\n",
       "      <th>id</th>\n",
       "      <th>keyword</th>\n",
       "      <th>location</th>\n",
       "      <th>text</th>\n",
       "      <th>target</th>\n",
       "    </tr>\n",
       "  </thead>\n",
       "  <tbody>\n",
       "    <tr>\n",
       "      <th>0</th>\n",
       "      <td>1</td>\n",
       "      <td>NaN</td>\n",
       "      <td>NaN</td>\n",
       "      <td>Our Deeds are the Reason of this #earthquake M...</td>\n",
       "      <td>1</td>\n",
       "    </tr>\n",
       "    <tr>\n",
       "      <th>1</th>\n",
       "      <td>4</td>\n",
       "      <td>NaN</td>\n",
       "      <td>NaN</td>\n",
       "      <td>Forest fire near La Ronge Sask. Canada</td>\n",
       "      <td>1</td>\n",
       "    </tr>\n",
       "    <tr>\n",
       "      <th>2</th>\n",
       "      <td>5</td>\n",
       "      <td>NaN</td>\n",
       "      <td>NaN</td>\n",
       "      <td>All residents asked to 'shelter in place' are ...</td>\n",
       "      <td>1</td>\n",
       "    </tr>\n",
       "    <tr>\n",
       "      <th>3</th>\n",
       "      <td>6</td>\n",
       "      <td>NaN</td>\n",
       "      <td>NaN</td>\n",
       "      <td>13,000 people receive #wildfires evacuation or...</td>\n",
       "      <td>1</td>\n",
       "    </tr>\n",
       "    <tr>\n",
       "      <th>4</th>\n",
       "      <td>7</td>\n",
       "      <td>NaN</td>\n",
       "      <td>NaN</td>\n",
       "      <td>Just got sent this photo from Ruby #Alaska as ...</td>\n",
       "      <td>1</td>\n",
       "    </tr>\n",
       "  </tbody>\n",
       "</table>\n",
       "</div>"
      ],
      "text/plain": [
       "   id keyword location                                               text  \\\n",
       "0   1     NaN      NaN  Our Deeds are the Reason of this #earthquake M...   \n",
       "1   4     NaN      NaN             Forest fire near La Ronge Sask. Canada   \n",
       "2   5     NaN      NaN  All residents asked to 'shelter in place' are ...   \n",
       "3   6     NaN      NaN  13,000 people receive #wildfires evacuation or...   \n",
       "4   7     NaN      NaN  Just got sent this photo from Ruby #Alaska as ...   \n",
       "\n",
       "   target  \n",
       "0       1  \n",
       "1       1  \n",
       "2       1  \n",
       "3       1  \n",
       "4       1  "
      ]
     },
     "execution_count": 82,
     "metadata": {},
     "output_type": "execute_result"
    }
   ],
   "source": [
    "df.head()"
   ]
  },
  {
   "cell_type": "code",
   "execution_count": 83,
   "id": "e2a3742d",
   "metadata": {
    "ExecuteTime": {
     "end_time": "2022-06-28T11:29:19.925717Z",
     "start_time": "2022-06-28T11:29:19.887753Z"
    }
   },
   "outputs": [
    {
     "data": {
      "text/html": [
       "<div>\n",
       "<style scoped>\n",
       "    .dataframe tbody tr th:only-of-type {\n",
       "        vertical-align: middle;\n",
       "    }\n",
       "\n",
       "    .dataframe tbody tr th {\n",
       "        vertical-align: top;\n",
       "    }\n",
       "\n",
       "    .dataframe thead th {\n",
       "        text-align: right;\n",
       "    }\n",
       "</style>\n",
       "<table border=\"1\" class=\"dataframe\">\n",
       "  <thead>\n",
       "    <tr style=\"text-align: right;\">\n",
       "      <th></th>\n",
       "      <th>id</th>\n",
       "      <th>keyword</th>\n",
       "      <th>location</th>\n",
       "      <th>text</th>\n",
       "      <th>target</th>\n",
       "    </tr>\n",
       "  </thead>\n",
       "  <tbody>\n",
       "    <tr>\n",
       "      <th>7329</th>\n",
       "      <td>10489</td>\n",
       "      <td>wildfire</td>\n",
       "      <td>NaN</td>\n",
       "      <td>Parker Ridge Fact Sheet Aug 6 2015 (Parker Rid...</td>\n",
       "      <td>1</td>\n",
       "    </tr>\n",
       "    <tr>\n",
       "      <th>2122</th>\n",
       "      <td>3049</td>\n",
       "      <td>death</td>\n",
       "      <td>?s????ss? a?????</td>\n",
       "      <td>Ari's hints and snippets will be the death of me.</td>\n",
       "      <td>0</td>\n",
       "    </tr>\n",
       "    <tr>\n",
       "      <th>650</th>\n",
       "      <td>941</td>\n",
       "      <td>blaze</td>\n",
       "      <td>NaN</td>\n",
       "      <td>@bellalinn alrighty Hit me up and we'll blaze!!</td>\n",
       "      <td>0</td>\n",
       "    </tr>\n",
       "    <tr>\n",
       "      <th>1241</th>\n",
       "      <td>1789</td>\n",
       "      <td>buildings%20on%20fire</td>\n",
       "      <td>Toronto</td>\n",
       "      <td>Such beautiful architecture in #NYC I love tho...</td>\n",
       "      <td>1</td>\n",
       "    </tr>\n",
       "    <tr>\n",
       "      <th>7063</th>\n",
       "      <td>10117</td>\n",
       "      <td>upheaval</td>\n",
       "      <td>eBooks, North America</td>\n",
       "      <td>Medieval Upheaval (Hardy Boys: The Secret File...</td>\n",
       "      <td>0</td>\n",
       "    </tr>\n",
       "    <tr>\n",
       "      <th>2099</th>\n",
       "      <td>3015</td>\n",
       "      <td>death</td>\n",
       "      <td>NaN</td>\n",
       "      <td>I feel like death</td>\n",
       "      <td>0</td>\n",
       "    </tr>\n",
       "    <tr>\n",
       "      <th>1015</th>\n",
       "      <td>1474</td>\n",
       "      <td>body%20bagging</td>\n",
       "      <td>401 livin'</td>\n",
       "      <td>Aubrey really out here body-bagging Meek.</td>\n",
       "      <td>1</td>\n",
       "    </tr>\n",
       "    <tr>\n",
       "      <th>3934</th>\n",
       "      <td>5593</td>\n",
       "      <td>flood</td>\n",
       "      <td>USA</td>\n",
       "      <td>Flood Advisory in effect for Shelby County in ...</td>\n",
       "      <td>1</td>\n",
       "    </tr>\n",
       "    <tr>\n",
       "      <th>4009</th>\n",
       "      <td>5693</td>\n",
       "      <td>floods</td>\n",
       "      <td>Earth</td>\n",
       "      <td>ETP Bengal floods: CM Mamata Banerjee blames D...</td>\n",
       "      <td>1</td>\n",
       "    </tr>\n",
       "    <tr>\n",
       "      <th>4869</th>\n",
       "      <td>6932</td>\n",
       "      <td>mass%20murderer</td>\n",
       "      <td>NaN</td>\n",
       "      <td>Another White mass murderer. Thank God I live ...</td>\n",
       "      <td>1</td>\n",
       "    </tr>\n",
       "    <tr>\n",
       "      <th>1255</th>\n",
       "      <td>1811</td>\n",
       "      <td>buildings%20on%20fire</td>\n",
       "      <td>Roanoke, VA</td>\n",
       "      <td>Now on WSLS: fire burns multiple buildings in ...</td>\n",
       "      <td>1</td>\n",
       "    </tr>\n",
       "    <tr>\n",
       "      <th>5760</th>\n",
       "      <td>8221</td>\n",
       "      <td>riot</td>\n",
       "      <td>Montana, USA</td>\n",
       "      <td>I liked a @YouTube video http://t.co/lAmsdzKCu...</td>\n",
       "      <td>0</td>\n",
       "    </tr>\n",
       "    <tr>\n",
       "      <th>617</th>\n",
       "      <td>890</td>\n",
       "      <td>bioterrorism</td>\n",
       "      <td>NaN</td>\n",
       "      <td>Bioterrorism public health superbug biolabs ep...</td>\n",
       "      <td>1</td>\n",
       "    </tr>\n",
       "    <tr>\n",
       "      <th>3095</th>\n",
       "      <td>4442</td>\n",
       "      <td>electrocute</td>\n",
       "      <td>Cairo, Egypt.</td>\n",
       "      <td>But the sea would..electrocute us all.</td>\n",
       "      <td>0</td>\n",
       "    </tr>\n",
       "    <tr>\n",
       "      <th>2621</th>\n",
       "      <td>3761</td>\n",
       "      <td>destruction</td>\n",
       "      <td>Moscow</td>\n",
       "      <td>Truck Driver Salvages Banned Tomatoes From Des...</td>\n",
       "      <td>0</td>\n",
       "    </tr>\n",
       "    <tr>\n",
       "      <th>5902</th>\n",
       "      <td>8430</td>\n",
       "      <td>sandstorm</td>\n",
       "      <td>North Carolina, USA</td>\n",
       "      <td>PUT SANDSTORM DOWN!!!! https://t.co/EfKCoegJck</td>\n",
       "      <td>0</td>\n",
       "    </tr>\n",
       "    <tr>\n",
       "      <th>3303</th>\n",
       "      <td>4734</td>\n",
       "      <td>evacuate</td>\n",
       "      <td>LA - everywhere</td>\n",
       "      <td>Jay and alexis broke up there goes all your fa...</td>\n",
       "      <td>0</td>\n",
       "    </tr>\n",
       "    <tr>\n",
       "      <th>4490</th>\n",
       "      <td>6386</td>\n",
       "      <td>hurricane</td>\n",
       "      <td>#BlackLivesMatter</td>\n",
       "      <td>@zaynmaIikist listen to hurricane</td>\n",
       "      <td>1</td>\n",
       "    </tr>\n",
       "    <tr>\n",
       "      <th>6580</th>\n",
       "      <td>9418</td>\n",
       "      <td>survivors</td>\n",
       "      <td>Texas</td>\n",
       "      <td>Violators of the new improved Reddit will be s...</td>\n",
       "      <td>0</td>\n",
       "    </tr>\n",
       "    <tr>\n",
       "      <th>4399</th>\n",
       "      <td>6255</td>\n",
       "      <td>hijacking</td>\n",
       "      <td>EastCarolina</td>\n",
       "      <td>#hot  Funtenna: hijacking computers to send da...</td>\n",
       "      <td>0</td>\n",
       "    </tr>\n",
       "  </tbody>\n",
       "</table>\n",
       "</div>"
      ],
      "text/plain": [
       "         id                keyword               location  \\\n",
       "7329  10489               wildfire                    NaN   \n",
       "2122   3049                  death       ?s????ss? a?????   \n",
       "650     941                  blaze                    NaN   \n",
       "1241   1789  buildings%20on%20fire                Toronto   \n",
       "7063  10117               upheaval  eBooks, North America   \n",
       "2099   3015                  death                    NaN   \n",
       "1015   1474         body%20bagging             401 livin'   \n",
       "3934   5593                  flood                    USA   \n",
       "4009   5693                 floods                  Earth   \n",
       "4869   6932        mass%20murderer                    NaN   \n",
       "1255   1811  buildings%20on%20fire            Roanoke, VA   \n",
       "5760   8221                   riot           Montana, USA   \n",
       "617     890           bioterrorism                    NaN   \n",
       "3095   4442            electrocute          Cairo, Egypt.   \n",
       "2621   3761            destruction                 Moscow   \n",
       "5902   8430              sandstorm    North Carolina, USA   \n",
       "3303   4734               evacuate        LA - everywhere   \n",
       "4490   6386              hurricane      #BlackLivesMatter   \n",
       "6580   9418              survivors                  Texas   \n",
       "4399   6255              hijacking           EastCarolina   \n",
       "\n",
       "                                                   text  target  \n",
       "7329  Parker Ridge Fact Sheet Aug 6 2015 (Parker Rid...       1  \n",
       "2122  Ari's hints and snippets will be the death of me.       0  \n",
       "650     @bellalinn alrighty Hit me up and we'll blaze!!       0  \n",
       "1241  Such beautiful architecture in #NYC I love tho...       1  \n",
       "7063  Medieval Upheaval (Hardy Boys: The Secret File...       0  \n",
       "2099                                  I feel like death       0  \n",
       "1015          Aubrey really out here body-bagging Meek.       1  \n",
       "3934  Flood Advisory in effect for Shelby County in ...       1  \n",
       "4009  ETP Bengal floods: CM Mamata Banerjee blames D...       1  \n",
       "4869  Another White mass murderer. Thank God I live ...       1  \n",
       "1255  Now on WSLS: fire burns multiple buildings in ...       1  \n",
       "5760  I liked a @YouTube video http://t.co/lAmsdzKCu...       0  \n",
       "617   Bioterrorism public health superbug biolabs ep...       1  \n",
       "3095             But the sea would..electrocute us all.       0  \n",
       "2621  Truck Driver Salvages Banned Tomatoes From Des...       0  \n",
       "5902     PUT SANDSTORM DOWN!!!! https://t.co/EfKCoegJck       0  \n",
       "3303  Jay and alexis broke up there goes all your fa...       0  \n",
       "4490                  @zaynmaIikist listen to hurricane       1  \n",
       "6580  Violators of the new improved Reddit will be s...       0  \n",
       "4399  #hot  Funtenna: hijacking computers to send da...       0  "
      ]
     },
     "execution_count": 83,
     "metadata": {},
     "output_type": "execute_result"
    }
   ],
   "source": [
    "df.sample(20)"
   ]
  },
  {
   "cell_type": "code",
   "execution_count": 84,
   "id": "bf843092",
   "metadata": {
    "ExecuteTime": {
     "end_time": "2022-06-28T11:29:24.866758Z",
     "start_time": "2022-06-28T11:29:24.851363Z"
    }
   },
   "outputs": [
    {
     "data": {
      "text/html": [
       "<div>\n",
       "<style scoped>\n",
       "    .dataframe tbody tr th:only-of-type {\n",
       "        vertical-align: middle;\n",
       "    }\n",
       "\n",
       "    .dataframe tbody tr th {\n",
       "        vertical-align: top;\n",
       "    }\n",
       "\n",
       "    .dataframe thead th {\n",
       "        text-align: right;\n",
       "    }\n",
       "</style>\n",
       "<table border=\"1\" class=\"dataframe\">\n",
       "  <thead>\n",
       "    <tr style=\"text-align: right;\">\n",
       "      <th></th>\n",
       "      <th>id</th>\n",
       "      <th>keyword</th>\n",
       "      <th>location</th>\n",
       "      <th>text</th>\n",
       "      <th>target</th>\n",
       "    </tr>\n",
       "  </thead>\n",
       "  <tbody>\n",
       "    <tr>\n",
       "      <th>7608</th>\n",
       "      <td>10869</td>\n",
       "      <td>NaN</td>\n",
       "      <td>NaN</td>\n",
       "      <td>Two giant cranes holding a bridge collapse int...</td>\n",
       "      <td>1</td>\n",
       "    </tr>\n",
       "    <tr>\n",
       "      <th>7609</th>\n",
       "      <td>10870</td>\n",
       "      <td>NaN</td>\n",
       "      <td>NaN</td>\n",
       "      <td>@aria_ahrary @TheTawniest The out of control w...</td>\n",
       "      <td>1</td>\n",
       "    </tr>\n",
       "    <tr>\n",
       "      <th>7610</th>\n",
       "      <td>10871</td>\n",
       "      <td>NaN</td>\n",
       "      <td>NaN</td>\n",
       "      <td>M1.94 [01:04 UTC]?5km S of Volcano Hawaii. htt...</td>\n",
       "      <td>1</td>\n",
       "    </tr>\n",
       "    <tr>\n",
       "      <th>7611</th>\n",
       "      <td>10872</td>\n",
       "      <td>NaN</td>\n",
       "      <td>NaN</td>\n",
       "      <td>Police investigating after an e-bike collided ...</td>\n",
       "      <td>1</td>\n",
       "    </tr>\n",
       "    <tr>\n",
       "      <th>7612</th>\n",
       "      <td>10873</td>\n",
       "      <td>NaN</td>\n",
       "      <td>NaN</td>\n",
       "      <td>The Latest: More Homes Razed by Northern Calif...</td>\n",
       "      <td>1</td>\n",
       "    </tr>\n",
       "  </tbody>\n",
       "</table>\n",
       "</div>"
      ],
      "text/plain": [
       "         id keyword location  \\\n",
       "7608  10869     NaN      NaN   \n",
       "7609  10870     NaN      NaN   \n",
       "7610  10871     NaN      NaN   \n",
       "7611  10872     NaN      NaN   \n",
       "7612  10873     NaN      NaN   \n",
       "\n",
       "                                                   text  target  \n",
       "7608  Two giant cranes holding a bridge collapse int...       1  \n",
       "7609  @aria_ahrary @TheTawniest The out of control w...       1  \n",
       "7610  M1.94 [01:04 UTC]?5km S of Volcano Hawaii. htt...       1  \n",
       "7611  Police investigating after an e-bike collided ...       1  \n",
       "7612  The Latest: More Homes Razed by Northern Calif...       1  "
      ]
     },
     "execution_count": 84,
     "metadata": {},
     "output_type": "execute_result"
    }
   ],
   "source": [
    "df.tail()"
   ]
  },
  {
   "cell_type": "markdown",
   "id": "bc2e18f3",
   "metadata": {},
   "source": [
    "## 2.2 Structure"
   ]
  },
  {
   "cell_type": "code",
   "execution_count": 85,
   "id": "97189897",
   "metadata": {
    "ExecuteTime": {
     "end_time": "2022-06-28T11:30:23.815268Z",
     "start_time": "2022-06-28T11:30:23.803586Z"
    }
   },
   "outputs": [
    {
     "data": {
      "text/plain": [
       "(7613, 5)"
      ]
     },
     "execution_count": 85,
     "metadata": {},
     "output_type": "execute_result"
    }
   ],
   "source": [
    "df.shape"
   ]
  },
  {
   "cell_type": "code",
   "execution_count": 86,
   "id": "53f14e14",
   "metadata": {
    "ExecuteTime": {
     "end_time": "2022-06-28T11:30:34.033632Z",
     "start_time": "2022-06-28T11:30:34.018333Z"
    }
   },
   "outputs": [
    {
     "data": {
      "text/plain": [
       "id           int64\n",
       "keyword     object\n",
       "location    object\n",
       "text        object\n",
       "target       int64\n",
       "dtype: object"
      ]
     },
     "execution_count": 86,
     "metadata": {},
     "output_type": "execute_result"
    }
   ],
   "source": [
    "df.dtypes"
   ]
  },
  {
   "cell_type": "code",
   "execution_count": 87,
   "id": "a3a023b6",
   "metadata": {
    "ExecuteTime": {
     "end_time": "2022-06-28T11:30:41.173336Z",
     "start_time": "2022-06-28T11:30:41.134163Z"
    }
   },
   "outputs": [
    {
     "name": "stdout",
     "output_type": "stream",
     "text": [
      "<class 'pandas.core.frame.DataFrame'>\n",
      "RangeIndex: 7613 entries, 0 to 7612\n",
      "Data columns (total 5 columns):\n",
      " #   Column    Non-Null Count  Dtype \n",
      "---  ------    --------------  ----- \n",
      " 0   id        7613 non-null   int64 \n",
      " 1   keyword   7552 non-null   object\n",
      " 2   location  5080 non-null   object\n",
      " 3   text      7613 non-null   object\n",
      " 4   target    7613 non-null   int64 \n",
      "dtypes: int64(2), object(3)\n",
      "memory usage: 297.5+ KB\n"
     ]
    }
   ],
   "source": [
    "df.info()"
   ]
  },
  {
   "cell_type": "code",
   "execution_count": 88,
   "id": "bc1d1712",
   "metadata": {
    "ExecuteTime": {
     "end_time": "2022-06-28T11:31:14.651293Z",
     "start_time": "2022-06-28T11:31:14.639521Z"
    }
   },
   "outputs": [
    {
     "data": {
      "text/plain": [
       "object    3\n",
       "int64     2\n",
       "dtype: int64"
      ]
     },
     "execution_count": 88,
     "metadata": {},
     "output_type": "execute_result"
    }
   ],
   "source": [
    "df.dtypes.value_counts()"
   ]
  },
  {
   "cell_type": "code",
   "execution_count": 90,
   "id": "000f0d94",
   "metadata": {
    "ExecuteTime": {
     "end_time": "2022-06-28T11:31:53.304990Z",
     "start_time": "2022-06-28T11:31:53.298982Z"
    }
   },
   "outputs": [
    {
     "data": {
      "text/plain": [
       "(7613, 5)"
      ]
     },
     "execution_count": 90,
     "metadata": {},
     "output_type": "execute_result"
    }
   ],
   "source": [
    "df.shape"
   ]
  },
  {
   "cell_type": "code",
   "execution_count": 91,
   "id": "35021014",
   "metadata": {
    "ExecuteTime": {
     "end_time": "2022-06-28T11:33:08.013551Z",
     "start_time": "2022-06-28T11:33:07.990997Z"
    }
   },
   "outputs": [
    {
     "data": {
      "text/plain": [
       "id          7613\n",
       "keyword      221\n",
       "location    3341\n",
       "text        7503\n",
       "target         2\n",
       "dtype: int64"
      ]
     },
     "execution_count": 91,
     "metadata": {},
     "output_type": "execute_result"
    }
   ],
   "source": [
    "tmp = df.nunique()\n",
    "tmp"
   ]
  },
  {
   "cell_type": "code",
   "execution_count": 92,
   "id": "249c1cfb",
   "metadata": {
    "ExecuteTime": {
     "end_time": "2022-06-28T11:33:17.156741Z",
     "start_time": "2022-06-28T11:33:17.147039Z"
    }
   },
   "outputs": [
    {
     "data": {
      "text/plain": [
       "target    2\n",
       "dtype: int64"
      ]
     },
     "execution_count": 92,
     "metadata": {},
     "output_type": "execute_result"
    }
   ],
   "source": [
    "tmp[tmp <10]"
   ]
  },
  {
   "cell_type": "code",
   "execution_count": 95,
   "id": "99815b20",
   "metadata": {
    "ExecuteTime": {
     "end_time": "2022-06-28T11:33:45.743300Z",
     "start_time": "2022-06-28T11:33:45.731998Z"
    }
   },
   "outputs": [
    {
     "data": {
      "text/plain": [
       "Series([], dtype: int64)"
      ]
     },
     "execution_count": 95,
     "metadata": {},
     "output_type": "execute_result"
    }
   ],
   "source": [
    "tmp[tmp>1000000]"
   ]
  },
  {
   "cell_type": "code",
   "execution_count": null,
   "id": "cd926206",
   "metadata": {
    "ExecuteTime": {
     "end_time": "2022-06-28T08:01:36.071372Z",
     "start_time": "2022-06-28T08:01:36.066625Z"
    }
   },
   "outputs": [],
   "source": []
  },
  {
   "cell_type": "markdown",
   "id": "f40250be",
   "metadata": {},
   "source": [
    "## 2.3 NaN and duplicated"
   ]
  },
  {
   "cell_type": "code",
   "execution_count": 97,
   "id": "2f56c52c",
   "metadata": {
    "ExecuteTime": {
     "end_time": "2022-06-28T11:34:15.499982Z",
     "start_time": "2022-06-28T11:34:15.481698Z"
    }
   },
   "outputs": [
    {
     "data": {
      "text/plain": [
       "id          0.000000\n",
       "keyword     0.008013\n",
       "location    0.332720\n",
       "text        0.000000\n",
       "target      0.000000\n",
       "dtype: float64"
      ]
     },
     "execution_count": 97,
     "metadata": {},
     "output_type": "execute_result"
    }
   ],
   "source": [
    "df.isna().mean()"
   ]
  },
  {
   "cell_type": "code",
   "execution_count": 98,
   "id": "64a147c1",
   "metadata": {
    "ExecuteTime": {
     "end_time": "2022-06-28T11:35:04.832444Z",
     "start_time": "2022-06-28T11:35:04.294120Z"
    }
   },
   "outputs": [
    {
     "data": {
      "text/plain": [
       "<AxesSubplot:>"
      ]
     },
     "execution_count": 98,
     "metadata": {},
     "output_type": "execute_result"
    },
    {
     "data": {
      "image/png": "[encoded data removed]",
      "text/plain": [
       "<Figure size 432x288 with 2 Axes>"
      ]
     },
     "metadata": {},
     "output_type": "display_data"
    }
   ],
   "source": [
    "sns.heatmap(df.isna())"
   ]
  },
  {
   "cell_type": "code",
   "execution_count": 102,
   "id": "fb2d527f",
   "metadata": {
    "ExecuteTime": {
     "end_time": "2022-06-28T11:36:39.769458Z",
     "start_time": "2022-06-28T11:36:39.763510Z"
    }
   },
   "outputs": [
    {
     "data": {
      "text/plain": [
       "Index(['id', 'keyword', 'location', 'text', 'target'], dtype='object')"
      ]
     },
     "execution_count": 102,
     "metadata": {},
     "output_type": "execute_result"
    }
   ],
   "source": [
    "df.columns"
   ]
  },
  {
   "cell_type": "code",
   "execution_count": 101,
   "id": "de143845",
   "metadata": {
    "ExecuteTime": {
     "end_time": "2022-06-28T11:36:18.130160Z",
     "start_time": "2022-06-28T11:36:18.114464Z"
    }
   },
   "outputs": [
    {
     "data": {
      "text/plain": [
       "110"
      ]
     },
     "execution_count": 101,
     "metadata": {},
     "output_type": "execute_result"
    }
   ],
   "source": [
    "df.duplicated(subset=\"text\").sum()"
   ]
  },
  {
   "cell_type": "code",
   "execution_count": 103,
   "id": "659bb21b",
   "metadata": {
    "ExecuteTime": {
     "end_time": "2022-06-28T11:37:18.457684Z",
     "start_time": "2022-06-28T11:37:18.438552Z"
    }
   },
   "outputs": [
    {
     "name": "stdout",
     "output_type": "stream",
     "text": [
      "id --> 0\n",
      "keyword --> 7391\n",
      "location --> 4271\n",
      "text --> 110\n",
      "target --> 7611\n"
     ]
    }
   ],
   "source": [
    "for col in df.columns : \n",
    "    n = df.duplicated(subset=col).sum()\n",
    "    print(f\"{col} --> {n}\")"
   ]
  },
  {
   "cell_type": "code",
   "execution_count": null,
   "id": "04452293",
   "metadata": {
    "ExecuteTime": {
     "end_time": "2022-06-28T08:01:36.435582Z",
     "start_time": "2022-06-28T08:01:36.423626Z"
    }
   },
   "outputs": [],
   "source": []
  },
  {
   "cell_type": "code",
   "execution_count": null,
   "id": "5f112f72",
   "metadata": {
    "ExecuteTime": {
     "end_time": "2022-06-28T08:01:36.451653Z",
     "start_time": "2022-06-28T08:01:36.436973Z"
    }
   },
   "outputs": [],
   "source": []
  },
  {
   "cell_type": "markdown",
   "id": "4df14697",
   "metadata": {},
   "source": [
    "## 2.4 Data inspection"
   ]
  },
  {
   "cell_type": "code",
   "execution_count": 104,
   "id": "ffdb895f",
   "metadata": {
    "ExecuteTime": {
     "end_time": "2022-06-28T11:38:20.072898Z",
     "start_time": "2022-06-28T11:38:20.045677Z"
    }
   },
   "outputs": [
    {
     "data": {
      "text/html": [
       "<div>\n",
       "<style scoped>\n",
       "    .dataframe tbody tr th:only-of-type {\n",
       "        vertical-align: middle;\n",
       "    }\n",
       "\n",
       "    .dataframe tbody tr th {\n",
       "        vertical-align: top;\n",
       "    }\n",
       "\n",
       "    .dataframe thead th {\n",
       "        text-align: right;\n",
       "    }\n",
       "</style>\n",
       "<table border=\"1\" class=\"dataframe\">\n",
       "  <thead>\n",
       "    <tr style=\"text-align: right;\">\n",
       "      <th></th>\n",
       "      <th>id</th>\n",
       "      <th>target</th>\n",
       "    </tr>\n",
       "  </thead>\n",
       "  <tbody>\n",
       "    <tr>\n",
       "      <th>count</th>\n",
       "      <td>7613.000000</td>\n",
       "      <td>7613.00000</td>\n",
       "    </tr>\n",
       "    <tr>\n",
       "      <th>mean</th>\n",
       "      <td>5441.934848</td>\n",
       "      <td>0.42966</td>\n",
       "    </tr>\n",
       "    <tr>\n",
       "      <th>std</th>\n",
       "      <td>3137.116090</td>\n",
       "      <td>0.49506</td>\n",
       "    </tr>\n",
       "    <tr>\n",
       "      <th>min</th>\n",
       "      <td>1.000000</td>\n",
       "      <td>0.00000</td>\n",
       "    </tr>\n",
       "    <tr>\n",
       "      <th>25%</th>\n",
       "      <td>2734.000000</td>\n",
       "      <td>0.00000</td>\n",
       "    </tr>\n",
       "    <tr>\n",
       "      <th>50%</th>\n",
       "      <td>5408.000000</td>\n",
       "      <td>0.00000</td>\n",
       "    </tr>\n",
       "    <tr>\n",
       "      <th>75%</th>\n",
       "      <td>8146.000000</td>\n",
       "      <td>1.00000</td>\n",
       "    </tr>\n",
       "    <tr>\n",
       "      <th>max</th>\n",
       "      <td>10873.000000</td>\n",
       "      <td>1.00000</td>\n",
       "    </tr>\n",
       "  </tbody>\n",
       "</table>\n",
       "</div>"
      ],
      "text/plain": [
       "                 id      target\n",
       "count   7613.000000  7613.00000\n",
       "mean    5441.934848     0.42966\n",
       "std     3137.116090     0.49506\n",
       "min        1.000000     0.00000\n",
       "25%     2734.000000     0.00000\n",
       "50%     5408.000000     0.00000\n",
       "75%     8146.000000     1.00000\n",
       "max    10873.000000     1.00000"
      ]
     },
     "execution_count": 104,
     "metadata": {},
     "output_type": "execute_result"
    }
   ],
   "source": [
    "df.describe(include=np.number)"
   ]
  },
  {
   "cell_type": "code",
   "execution_count": 105,
   "id": "a1df516e",
   "metadata": {
    "ExecuteTime": {
     "end_time": "2022-06-28T11:38:52.660058Z",
     "start_time": "2022-06-28T11:38:52.626750Z"
    }
   },
   "outputs": [
    {
     "data": {
      "text/html": [
       "<div>\n",
       "<style scoped>\n",
       "    .dataframe tbody tr th:only-of-type {\n",
       "        vertical-align: middle;\n",
       "    }\n",
       "\n",
       "    .dataframe tbody tr th {\n",
       "        vertical-align: top;\n",
       "    }\n",
       "\n",
       "    .dataframe thead th {\n",
       "        text-align: right;\n",
       "    }\n",
       "</style>\n",
       "<table border=\"1\" class=\"dataframe\">\n",
       "  <thead>\n",
       "    <tr style=\"text-align: right;\">\n",
       "      <th></th>\n",
       "      <th>keyword</th>\n",
       "      <th>location</th>\n",
       "      <th>text</th>\n",
       "    </tr>\n",
       "  </thead>\n",
       "  <tbody>\n",
       "    <tr>\n",
       "      <th>count</th>\n",
       "      <td>7552</td>\n",
       "      <td>5080</td>\n",
       "      <td>7613</td>\n",
       "    </tr>\n",
       "    <tr>\n",
       "      <th>unique</th>\n",
       "      <td>221</td>\n",
       "      <td>3341</td>\n",
       "      <td>7503</td>\n",
       "    </tr>\n",
       "    <tr>\n",
       "      <th>top</th>\n",
       "      <td>fatalities</td>\n",
       "      <td>USA</td>\n",
       "      <td>11-Year-Old Boy Charged With Manslaughter of T...</td>\n",
       "    </tr>\n",
       "    <tr>\n",
       "      <th>freq</th>\n",
       "      <td>45</td>\n",
       "      <td>104</td>\n",
       "      <td>10</td>\n",
       "    </tr>\n",
       "  </tbody>\n",
       "</table>\n",
       "</div>"
      ],
      "text/plain": [
       "           keyword location                                               text\n",
       "count         7552     5080                                               7613\n",
       "unique         221     3341                                               7503\n",
       "top     fatalities      USA  11-Year-Old Boy Charged With Manslaughter of T...\n",
       "freq            45      104                                                 10"
      ]
     },
     "execution_count": 105,
     "metadata": {},
     "output_type": "execute_result"
    }
   ],
   "source": [
    "df.describe(include=object)"
   ]
  },
  {
   "cell_type": "markdown",
   "id": "d0b6603d",
   "metadata": {},
   "source": [
    "# 3. Cleaning"
   ]
  },
  {
   "cell_type": "markdown",
   "id": "e4765261",
   "metadata": {},
   "source": [
    "## 3.1 Select columns"
   ]
  },
  {
   "cell_type": "code",
   "execution_count": 106,
   "id": "cdcc862c",
   "metadata": {
    "ExecuteTime": {
     "end_time": "2022-06-28T11:39:29.742568Z",
     "start_time": "2022-06-28T11:39:29.730784Z"
    }
   },
   "outputs": [
    {
     "data": {
      "text/html": [
       "<div>\n",
       "<style scoped>\n",
       "    .dataframe tbody tr th:only-of-type {\n",
       "        vertical-align: middle;\n",
       "    }\n",
       "\n",
       "    .dataframe tbody tr th {\n",
       "        vertical-align: top;\n",
       "    }\n",
       "\n",
       "    .dataframe thead th {\n",
       "        text-align: right;\n",
       "    }\n",
       "</style>\n",
       "<table border=\"1\" class=\"dataframe\">\n",
       "  <thead>\n",
       "    <tr style=\"text-align: right;\">\n",
       "      <th></th>\n",
       "      <th>id</th>\n",
       "      <th>keyword</th>\n",
       "      <th>location</th>\n",
       "      <th>text</th>\n",
       "      <th>target</th>\n",
       "    </tr>\n",
       "  </thead>\n",
       "  <tbody>\n",
       "    <tr>\n",
       "      <th>0</th>\n",
       "      <td>1</td>\n",
       "      <td>NaN</td>\n",
       "      <td>NaN</td>\n",
       "      <td>Our Deeds are the Reason of this #earthquake M...</td>\n",
       "      <td>1</td>\n",
       "    </tr>\n",
       "    <tr>\n",
       "      <th>1</th>\n",
       "      <td>4</td>\n",
       "      <td>NaN</td>\n",
       "      <td>NaN</td>\n",
       "      <td>Forest fire near La Ronge Sask. Canada</td>\n",
       "      <td>1</td>\n",
       "    </tr>\n",
       "    <tr>\n",
       "      <th>2</th>\n",
       "      <td>5</td>\n",
       "      <td>NaN</td>\n",
       "      <td>NaN</td>\n",
       "      <td>All residents asked to 'shelter in place' are ...</td>\n",
       "      <td>1</td>\n",
       "    </tr>\n",
       "    <tr>\n",
       "      <th>3</th>\n",
       "      <td>6</td>\n",
       "      <td>NaN</td>\n",
       "      <td>NaN</td>\n",
       "      <td>13,000 people receive #wildfires evacuation or...</td>\n",
       "      <td>1</td>\n",
       "    </tr>\n",
       "    <tr>\n",
       "      <th>4</th>\n",
       "      <td>7</td>\n",
       "      <td>NaN</td>\n",
       "      <td>NaN</td>\n",
       "      <td>Just got sent this photo from Ruby #Alaska as ...</td>\n",
       "      <td>1</td>\n",
       "    </tr>\n",
       "  </tbody>\n",
       "</table>\n",
       "</div>"
      ],
      "text/plain": [
       "   id keyword location                                               text  \\\n",
       "0   1     NaN      NaN  Our Deeds are the Reason of this #earthquake M...   \n",
       "1   4     NaN      NaN             Forest fire near La Ronge Sask. Canada   \n",
       "2   5     NaN      NaN  All residents asked to 'shelter in place' are ...   \n",
       "3   6     NaN      NaN  13,000 people receive #wildfires evacuation or...   \n",
       "4   7     NaN      NaN  Just got sent this photo from Ruby #Alaska as ...   \n",
       "\n",
       "   target  \n",
       "0       1  \n",
       "1       1  \n",
       "2       1  \n",
       "3       1  \n",
       "4       1  "
      ]
     },
     "execution_count": 106,
     "metadata": {},
     "output_type": "execute_result"
    }
   ],
   "source": [
    "df.head()"
   ]
  },
  {
   "cell_type": "code",
   "execution_count": 108,
   "id": "52d72367",
   "metadata": {
    "ExecuteTime": {
     "end_time": "2022-06-28T11:40:26.444914Z",
     "start_time": "2022-06-28T11:40:26.430923Z"
    }
   },
   "outputs": [
    {
     "data": {
      "text/html": [
       "<div>\n",
       "<style scoped>\n",
       "    .dataframe tbody tr th:only-of-type {\n",
       "        vertical-align: middle;\n",
       "    }\n",
       "\n",
       "    .dataframe tbody tr th {\n",
       "        vertical-align: top;\n",
       "    }\n",
       "\n",
       "    .dataframe thead th {\n",
       "        text-align: right;\n",
       "    }\n",
       "</style>\n",
       "<table border=\"1\" class=\"dataframe\">\n",
       "  <thead>\n",
       "    <tr style=\"text-align: right;\">\n",
       "      <th></th>\n",
       "      <th>text</th>\n",
       "      <th>target</th>\n",
       "    </tr>\n",
       "  </thead>\n",
       "  <tbody>\n",
       "    <tr>\n",
       "      <th>0</th>\n",
       "      <td>Our Deeds are the Reason of this #earthquake M...</td>\n",
       "      <td>1</td>\n",
       "    </tr>\n",
       "    <tr>\n",
       "      <th>1</th>\n",
       "      <td>Forest fire near La Ronge Sask. Canada</td>\n",
       "      <td>1</td>\n",
       "    </tr>\n",
       "    <tr>\n",
       "      <th>2</th>\n",
       "      <td>All residents asked to 'shelter in place' are ...</td>\n",
       "      <td>1</td>\n",
       "    </tr>\n",
       "    <tr>\n",
       "      <th>3</th>\n",
       "      <td>13,000 people receive #wildfires evacuation or...</td>\n",
       "      <td>1</td>\n",
       "    </tr>\n",
       "    <tr>\n",
       "      <th>4</th>\n",
       "      <td>Just got sent this photo from Ruby #Alaska as ...</td>\n",
       "      <td>1</td>\n",
       "    </tr>\n",
       "  </tbody>\n",
       "</table>\n",
       "</div>"
      ],
      "text/plain": [
       "                                                text  target\n",
       "0  Our Deeds are the Reason of this #earthquake M...       1\n",
       "1             Forest fire near La Ronge Sask. Canada       1\n",
       "2  All residents asked to 'shelter in place' are ...       1\n",
       "3  13,000 people receive #wildfires evacuation or...       1\n",
       "4  Just got sent this photo from Ruby #Alaska as ...       1"
      ]
     },
     "execution_count": 108,
     "metadata": {},
     "output_type": "execute_result"
    }
   ],
   "source": [
    "col = [\"text\", \"target\"]\n",
    "df = df.loc[:, col]\n",
    "df.head()"
   ]
  },
  {
   "cell_type": "code",
   "execution_count": null,
   "id": "465426f2",
   "metadata": {
    "ExecuteTime": {
     "end_time": "2022-06-28T08:01:36.500769Z",
     "start_time": "2022-06-28T08:01:36.494674Z"
    }
   },
   "outputs": [],
   "source": []
  },
  {
   "cell_type": "markdown",
   "id": "d49f16be",
   "metadata": {},
   "source": [
    "## 3.2 Drop NaN"
   ]
  },
  {
   "cell_type": "code",
   "execution_count": 109,
   "id": "00621591",
   "metadata": {
    "ExecuteTime": {
     "end_time": "2022-06-28T11:40:50.914018Z",
     "start_time": "2022-06-28T11:40:50.900371Z"
    },
    "scrolled": true
   },
   "outputs": [
    {
     "data": {
      "text/plain": [
       "text      0\n",
       "target    0\n",
       "dtype: int64"
      ]
     },
     "execution_count": 109,
     "metadata": {},
     "output_type": "execute_result"
    }
   ],
   "source": [
    "df.isna().sum()"
   ]
  },
  {
   "cell_type": "markdown",
   "id": "2110e720",
   "metadata": {},
   "source": [
    "## 3.3 Duplicated"
   ]
  },
  {
   "cell_type": "code",
   "execution_count": 113,
   "id": "26d389cd",
   "metadata": {
    "ExecuteTime": {
     "end_time": "2022-06-28T11:41:45.576970Z",
     "start_time": "2022-06-28T11:41:45.553664Z"
    }
   },
   "outputs": [
    {
     "data": {
      "text/html": [
       "<div>\n",
       "<style scoped>\n",
       "    .dataframe tbody tr th:only-of-type {\n",
       "        vertical-align: middle;\n",
       "    }\n",
       "\n",
       "    .dataframe tbody tr th {\n",
       "        vertical-align: top;\n",
       "    }\n",
       "\n",
       "    .dataframe thead th {\n",
       "        text-align: right;\n",
       "    }\n",
       "</style>\n",
       "<table border=\"1\" class=\"dataframe\">\n",
       "  <thead>\n",
       "    <tr style=\"text-align: right;\">\n",
       "      <th></th>\n",
       "      <th>text</th>\n",
       "      <th>target</th>\n",
       "    </tr>\n",
       "  </thead>\n",
       "  <tbody>\n",
       "    <tr>\n",
       "      <th>4299</th>\n",
       "      <td>#Allah describes piling up #wealth thinking it...</td>\n",
       "      <td>0</td>\n",
       "    </tr>\n",
       "    <tr>\n",
       "      <th>4312</th>\n",
       "      <td>#Allah describes piling up #wealth thinking it...</td>\n",
       "      <td>1</td>\n",
       "    </tr>\n",
       "    <tr>\n",
       "      <th>6366</th>\n",
       "      <td>#Bestnaijamade: 16yr old PKK suicide bomber wh...</td>\n",
       "      <td>1</td>\n",
       "    </tr>\n",
       "    <tr>\n",
       "      <th>6373</th>\n",
       "      <td>#Bestnaijamade: 16yr old PKK suicide bomber wh...</td>\n",
       "      <td>1</td>\n",
       "    </tr>\n",
       "    <tr>\n",
       "      <th>6392</th>\n",
       "      <td>#Bestnaijamade: 16yr old PKK suicide bomber wh...</td>\n",
       "      <td>1</td>\n",
       "    </tr>\n",
       "    <tr>\n",
       "      <th>...</th>\n",
       "      <td>...</td>\n",
       "      <td>...</td>\n",
       "    </tr>\n",
       "    <tr>\n",
       "      <th>3461</th>\n",
       "      <td>that exploded &amp;amp; brought about the\\nbeginni...</td>\n",
       "      <td>0</td>\n",
       "    </tr>\n",
       "    <tr>\n",
       "      <th>6103</th>\n",
       "      <td>that horrible sinking feeling when youÛªve be...</td>\n",
       "      <td>0</td>\n",
       "    </tr>\n",
       "    <tr>\n",
       "      <th>6094</th>\n",
       "      <td>that horrible sinking feeling when youÛªve be...</td>\n",
       "      <td>0</td>\n",
       "    </tr>\n",
       "    <tr>\n",
       "      <th>6123</th>\n",
       "      <td>that horrible sinking feeling when youÛªve be...</td>\n",
       "      <td>1</td>\n",
       "    </tr>\n",
       "    <tr>\n",
       "      <th>5641</th>\n",
       "      <td>wowo--=== 12000 Nigerian refugees repatriated ...</td>\n",
       "      <td>0</td>\n",
       "    </tr>\n",
       "  </tbody>\n",
       "</table>\n",
       "<p>110 rows × 2 columns</p>\n",
       "</div>"
      ],
      "text/plain": [
       "                                                   text  target\n",
       "4299  #Allah describes piling up #wealth thinking it...       0\n",
       "4312  #Allah describes piling up #wealth thinking it...       1\n",
       "6366  #Bestnaijamade: 16yr old PKK suicide bomber wh...       1\n",
       "6373  #Bestnaijamade: 16yr old PKK suicide bomber wh...       1\n",
       "6392  #Bestnaijamade: 16yr old PKK suicide bomber wh...       1\n",
       "...                                                 ...     ...\n",
       "3461  that exploded &amp; brought about the\\nbeginni...       0\n",
       "6103  that horrible sinking feeling when youÛªve be...       0\n",
       "6094  that horrible sinking feeling when youÛªve be...       0\n",
       "6123  that horrible sinking feeling when youÛªve be...       1\n",
       "5641  wowo--=== 12000 Nigerian refugees repatriated ...       0\n",
       "\n",
       "[110 rows x 2 columns]"
      ]
     },
     "execution_count": 113,
     "metadata": {},
     "output_type": "execute_result"
    }
   ],
   "source": [
    "idx = df.duplicated(subset=\"text\")\n",
    "df[idx].sort_values(\"text\")"
   ]
  },
  {
   "cell_type": "code",
   "execution_count": 114,
   "id": "1cb3d71d",
   "metadata": {
    "ExecuteTime": {
     "end_time": "2022-06-28T11:43:33.374396Z",
     "start_time": "2022-06-28T11:43:33.350000Z"
    }
   },
   "outputs": [
    {
     "data": {
      "text/plain": [
       "0"
      ]
     },
     "execution_count": 114,
     "metadata": {},
     "output_type": "execute_result"
    }
   ],
   "source": [
    "df.drop_duplicates(subset=\"text\", inplace=True)\n",
    "df.duplicated(subset=\"text\").sum()"
   ]
  },
  {
   "cell_type": "markdown",
   "id": "c7b6463a",
   "metadata": {},
   "source": [
    "# 4. Exploratory Data Analysis"
   ]
  },
  {
   "cell_type": "markdown",
   "id": "24de4f64",
   "metadata": {},
   "source": [
    "## 4.1 Target"
   ]
  },
  {
   "cell_type": "code",
   "execution_count": 117,
   "id": "ddea2811",
   "metadata": {
    "ExecuteTime": {
     "end_time": "2022-06-28T11:44:11.234421Z",
     "start_time": "2022-06-28T11:44:11.222727Z"
    },
    "scrolled": true
   },
   "outputs": [
    {
     "data": {
      "text/plain": [
       "0    4305\n",
       "1    3198\n",
       "Name: target, dtype: int64"
      ]
     },
     "execution_count": 117,
     "metadata": {},
     "output_type": "execute_result"
    }
   ],
   "source": [
    "df.target.value_counts()"
   ]
  },
  {
   "cell_type": "code",
   "execution_count": 119,
   "id": "354ad4ed",
   "metadata": {
    "ExecuteTime": {
     "end_time": "2022-06-28T11:44:33.331408Z",
     "start_time": "2022-06-28T11:44:33.301978Z"
    }
   },
   "outputs": [
    {
     "data": {
      "text/plain": [
       "0    57.377049\n",
       "1    42.622951\n",
       "Name: target, dtype: float64"
      ]
     },
     "execution_count": 119,
     "metadata": {},
     "output_type": "execute_result"
    }
   ],
   "source": [
    "df.target.value_counts(normalize=True) *100"
   ]
  },
  {
   "cell_type": "code",
   "execution_count": 121,
   "id": "99792cb0",
   "metadata": {
    "ExecuteTime": {
     "end_time": "2022-06-28T11:45:25.763469Z",
     "start_time": "2022-06-28T11:45:25.591430Z"
    }
   },
   "outputs": [
    {
     "data": {
      "image/png": "[encoded data removed]",
      "text/plain": [
       "<Figure size 432x288 with 1 Axes>"
      ]
     },
     "metadata": {},
     "output_type": "display_data"
    }
   ],
   "source": [
    "_ = df.target.value_counts().plot(kind=\"pie\")"
   ]
  },
  {
   "cell_type": "code",
   "execution_count": null,
   "id": "9c9299d7",
   "metadata": {
    "ExecuteTime": {
     "end_time": "2022-06-28T08:01:36.605331Z",
     "start_time": "2022-06-28T08:01:36.544596Z"
    }
   },
   "outputs": [],
   "source": []
  },
  {
   "cell_type": "markdown",
   "id": "2a7a522e",
   "metadata": {},
   "source": [
    "## 4.2 Length"
   ]
  },
  {
   "cell_type": "code",
   "execution_count": 122,
   "id": "3d01be48",
   "metadata": {
    "ExecuteTime": {
     "end_time": "2022-06-28T11:45:50.783734Z",
     "start_time": "2022-06-28T11:45:50.763678Z"
    },
    "scrolled": false
   },
   "outputs": [
    {
     "data": {
      "text/html": [
       "<div>\n",
       "<style scoped>\n",
       "    .dataframe tbody tr th:only-of-type {\n",
       "        vertical-align: middle;\n",
       "    }\n",
       "\n",
       "    .dataframe tbody tr th {\n",
       "        vertical-align: top;\n",
       "    }\n",
       "\n",
       "    .dataframe thead th {\n",
       "        text-align: right;\n",
       "    }\n",
       "</style>\n",
       "<table border=\"1\" class=\"dataframe\">\n",
       "  <thead>\n",
       "    <tr style=\"text-align: right;\">\n",
       "      <th></th>\n",
       "      <th>text</th>\n",
       "    </tr>\n",
       "  </thead>\n",
       "  <tbody>\n",
       "    <tr>\n",
       "      <th>count</th>\n",
       "      <td>7503</td>\n",
       "    </tr>\n",
       "    <tr>\n",
       "      <th>unique</th>\n",
       "      <td>7503</td>\n",
       "    </tr>\n",
       "    <tr>\n",
       "      <th>top</th>\n",
       "      <td>Our Deeds are the Reason of this #earthquake M...</td>\n",
       "    </tr>\n",
       "    <tr>\n",
       "      <th>freq</th>\n",
       "      <td>1</td>\n",
       "    </tr>\n",
       "  </tbody>\n",
       "</table>\n",
       "</div>"
      ],
      "text/plain": [
       "                                                     text\n",
       "count                                                7503\n",
       "unique                                               7503\n",
       "top     Our Deeds are the Reason of this #earthquake M...\n",
       "freq                                                    1"
      ]
     },
     "execution_count": 122,
     "metadata": {},
     "output_type": "execute_result"
    }
   ],
   "source": [
    "df.describe(include=object)"
   ]
  },
  {
   "cell_type": "code",
   "execution_count": 131,
   "id": "df546bff",
   "metadata": {
    "ExecuteTime": {
     "end_time": "2022-06-28T11:47:45.080999Z",
     "start_time": "2022-06-28T11:47:45.060540Z"
    }
   },
   "outputs": [
    {
     "data": {
      "text/html": [
       "<div>\n",
       "<style scoped>\n",
       "    .dataframe tbody tr th:only-of-type {\n",
       "        vertical-align: middle;\n",
       "    }\n",
       "\n",
       "    .dataframe tbody tr th {\n",
       "        vertical-align: top;\n",
       "    }\n",
       "\n",
       "    .dataframe thead th {\n",
       "        text-align: right;\n",
       "    }\n",
       "</style>\n",
       "<table border=\"1\" class=\"dataframe\">\n",
       "  <thead>\n",
       "    <tr style=\"text-align: right;\">\n",
       "      <th></th>\n",
       "      <th>text</th>\n",
       "      <th>target</th>\n",
       "      <th>_len_text</th>\n",
       "    </tr>\n",
       "  </thead>\n",
       "  <tbody>\n",
       "    <tr>\n",
       "      <th>0</th>\n",
       "      <td>Our Deeds are the Reason of this #earthquake M...</td>\n",
       "      <td>1</td>\n",
       "      <td>69</td>\n",
       "    </tr>\n",
       "    <tr>\n",
       "      <th>1</th>\n",
       "      <td>Forest fire near La Ronge Sask. Canada</td>\n",
       "      <td>1</td>\n",
       "      <td>38</td>\n",
       "    </tr>\n",
       "    <tr>\n",
       "      <th>2</th>\n",
       "      <td>All residents asked to 'shelter in place' are ...</td>\n",
       "      <td>1</td>\n",
       "      <td>133</td>\n",
       "    </tr>\n",
       "    <tr>\n",
       "      <th>3</th>\n",
       "      <td>13,000 people receive #wildfires evacuation or...</td>\n",
       "      <td>1</td>\n",
       "      <td>65</td>\n",
       "    </tr>\n",
       "    <tr>\n",
       "      <th>4</th>\n",
       "      <td>Just got sent this photo from Ruby #Alaska as ...</td>\n",
       "      <td>1</td>\n",
       "      <td>88</td>\n",
       "    </tr>\n",
       "  </tbody>\n",
       "</table>\n",
       "</div>"
      ],
      "text/plain": [
       "                                                text  target  _len_text\n",
       "0  Our Deeds are the Reason of this #earthquake M...       1         69\n",
       "1             Forest fire near La Ronge Sask. Canada       1         38\n",
       "2  All residents asked to 'shelter in place' are ...       1        133\n",
       "3  13,000 people receive #wildfires evacuation or...       1         65\n",
       "4  Just got sent this photo from Ruby #Alaska as ...       1         88"
      ]
     },
     "execution_count": 131,
     "metadata": {},
     "output_type": "execute_result"
    }
   ],
   "source": [
    "df[\"_len_text\"] = df.text.str.len()\n",
    "df.head()"
   ]
  },
  {
   "cell_type": "code",
   "execution_count": 139,
   "id": "c62eec3c",
   "metadata": {
    "ExecuteTime": {
     "end_time": "2022-06-28T11:51:34.551814Z",
     "start_time": "2022-06-28T11:51:34.532672Z"
    },
    "scrolled": true
   },
   "outputs": [
    {
     "data": {
      "text/html": [
       "<div>\n",
       "<style scoped>\n",
       "    .dataframe tbody tr th:only-of-type {\n",
       "        vertical-align: middle;\n",
       "    }\n",
       "\n",
       "    .dataframe tbody tr th {\n",
       "        vertical-align: top;\n",
       "    }\n",
       "\n",
       "    .dataframe thead th {\n",
       "        text-align: right;\n",
       "    }\n",
       "</style>\n",
       "<table border=\"1\" class=\"dataframe\">\n",
       "  <thead>\n",
       "    <tr style=\"text-align: right;\">\n",
       "      <th></th>\n",
       "      <th>text</th>\n",
       "      <th>target</th>\n",
       "      <th>_len_text</th>\n",
       "    </tr>\n",
       "  </thead>\n",
       "  <tbody>\n",
       "    <tr>\n",
       "      <th>4890</th>\n",
       "      <td>Bad day</td>\n",
       "      <td>0</td>\n",
       "      <td>7</td>\n",
       "    </tr>\n",
       "    <tr>\n",
       "      <th>5115</th>\n",
       "      <td>Err:509</td>\n",
       "      <td>0</td>\n",
       "      <td>7</td>\n",
       "    </tr>\n",
       "    <tr>\n",
       "      <th>1882</th>\n",
       "      <td>Crushed</td>\n",
       "      <td>0</td>\n",
       "      <td>7</td>\n",
       "    </tr>\n",
       "    <tr>\n",
       "      <th>4971</th>\n",
       "      <td>Meltdown</td>\n",
       "      <td>0</td>\n",
       "      <td>8</td>\n",
       "    </tr>\n",
       "    <tr>\n",
       "      <th>24</th>\n",
       "      <td>LOOOOOOL</td>\n",
       "      <td>0</td>\n",
       "      <td>8</td>\n",
       "    </tr>\n",
       "  </tbody>\n",
       "</table>\n",
       "</div>"
      ],
      "text/plain": [
       "          text  target  _len_text\n",
       "4890   Bad day       0          7\n",
       "5115   Err:509       0          7\n",
       "1882   Crushed       0          7\n",
       "4971  Meltdown       0          8\n",
       "24    LOOOOOOL       0          8"
      ]
     },
     "execution_count": 139,
     "metadata": {},
     "output_type": "execute_result"
    }
   ],
   "source": [
    "df.sort_values(\"_len_text\").head()"
   ]
  },
  {
   "cell_type": "code",
   "execution_count": 140,
   "id": "a57c68a7",
   "metadata": {
    "ExecuteTime": {
     "end_time": "2022-06-28T11:51:44.069245Z",
     "start_time": "2022-06-28T11:51:44.052891Z"
    }
   },
   "outputs": [
    {
     "data": {
      "text/html": [
       "<div>\n",
       "<style scoped>\n",
       "    .dataframe tbody tr th:only-of-type {\n",
       "        vertical-align: middle;\n",
       "    }\n",
       "\n",
       "    .dataframe tbody tr th {\n",
       "        vertical-align: top;\n",
       "    }\n",
       "\n",
       "    .dataframe thead th {\n",
       "        text-align: right;\n",
       "    }\n",
       "</style>\n",
       "<table border=\"1\" class=\"dataframe\">\n",
       "  <thead>\n",
       "    <tr style=\"text-align: right;\">\n",
       "      <th></th>\n",
       "      <th>text</th>\n",
       "      <th>target</th>\n",
       "      <th>_len_text</th>\n",
       "    </tr>\n",
       "  </thead>\n",
       "  <tbody>\n",
       "    <tr>\n",
       "      <th>635</th>\n",
       "      <td>@cspanwj If 90BLKs&amp;amp;8WHTs colluded 2 take W...</td>\n",
       "      <td>1</td>\n",
       "      <td>150</td>\n",
       "    </tr>\n",
       "    <tr>\n",
       "      <th>633</th>\n",
       "      <td>@HowardU If 90BLKs&amp;amp;8WHTs colluded 2 take W...</td>\n",
       "      <td>1</td>\n",
       "      <td>150</td>\n",
       "    </tr>\n",
       "    <tr>\n",
       "      <th>614</th>\n",
       "      <td>@CAgov If 90BLKs&amp;amp;8WHTs colluded 2 take WHT...</td>\n",
       "      <td>1</td>\n",
       "      <td>151</td>\n",
       "    </tr>\n",
       "    <tr>\n",
       "      <th>4801</th>\n",
       "      <td>It's was about 2:30 in the morning&amp;amp;I went ...</td>\n",
       "      <td>0</td>\n",
       "      <td>152</td>\n",
       "    </tr>\n",
       "    <tr>\n",
       "      <th>1270</th>\n",
       "      <td>when you're taking a shower and someone flushe...</td>\n",
       "      <td>0</td>\n",
       "      <td>157</td>\n",
       "    </tr>\n",
       "  </tbody>\n",
       "</table>\n",
       "</div>"
      ],
      "text/plain": [
       "                                                   text  target  _len_text\n",
       "635   @cspanwj If 90BLKs&amp;8WHTs colluded 2 take W...       1        150\n",
       "633   @HowardU If 90BLKs&amp;8WHTs colluded 2 take W...       1        150\n",
       "614   @CAgov If 90BLKs&amp;8WHTs colluded 2 take WHT...       1        151\n",
       "4801  It's was about 2:30 in the morning&amp;I went ...       0        152\n",
       "1270  when you're taking a shower and someone flushe...       0        157"
      ]
     },
     "execution_count": 140,
     "metadata": {},
     "output_type": "execute_result"
    }
   ],
   "source": [
    "df.sort_values(\"_len_text\").tail()"
   ]
  },
  {
   "cell_type": "code",
   "execution_count": 141,
   "id": "f25187bc",
   "metadata": {
    "ExecuteTime": {
     "end_time": "2022-06-28T11:51:58.877713Z",
     "start_time": "2022-06-28T11:51:58.582048Z"
    },
    "scrolled": false
   },
   "outputs": [
    {
     "name": "stderr",
     "output_type": "stream",
     "text": [
      "/home/alex/Desktop/ocr-donnees-textuelles/env/lib/python3.8/site-packages/seaborn/_decorators.py:36: FutureWarning: Pass the following variable as a keyword arg: x. From version 0.12, the only valid positional argument will be `data`, and passing other arguments without an explicit keyword will result in an error or misinterpretation.\n",
      "  warnings.warn(\n"
     ]
    },
    {
     "data": {
      "text/plain": [
       "<AxesSubplot:xlabel='_len_text'>"
      ]
     },
     "execution_count": 141,
     "metadata": {},
     "output_type": "execute_result"
    },
    {
     "data": {
      "image/png": "[encoded data removed]",
      "text/plain": [
       "<Figure size 432x288 with 1 Axes>"
      ]
     },
     "metadata": {},
     "output_type": "display_data"
    }
   ],
   "source": [
    "sns.boxplot(df._len_text)"
   ]
  },
  {
   "cell_type": "code",
   "execution_count": 142,
   "id": "fa354b7d",
   "metadata": {
    "ExecuteTime": {
     "end_time": "2022-06-28T11:52:12.315536Z",
     "start_time": "2022-06-28T11:52:11.675196Z"
    }
   },
   "outputs": [
    {
     "data": {
      "text/plain": [
       "<seaborn.axisgrid.FacetGrid at 0x7f4d88eec160>"
      ]
     },
     "execution_count": 142,
     "metadata": {},
     "output_type": "execute_result"
    },
    {
     "data": {
      "image/png": "[encoded data removed]",
      "text/plain": [
       "<Figure size 360x360 with 1 Axes>"
      ]
     },
     "metadata": {},
     "output_type": "display_data"
    }
   ],
   "source": [
    "sns.displot(df._len_text)"
   ]
  },
  {
   "cell_type": "markdown",
   "id": "7b7ed418",
   "metadata": {},
   "source": [
    "## 4.3 Multivariate analysis"
   ]
  },
  {
   "cell_type": "code",
   "execution_count": 134,
   "id": "425ffbea",
   "metadata": {
    "ExecuteTime": {
     "end_time": "2022-06-28T11:48:43.185625Z",
     "start_time": "2022-06-28T11:48:42.905824Z"
    }
   },
   "outputs": [
    {
     "data": {
      "text/plain": [
       "<AxesSubplot:>"
      ]
     },
     "execution_count": 134,
     "metadata": {},
     "output_type": "execute_result"
    },
    {
     "data": {
      "image/png": "[encoded data removed]",
      "text/plain": [
       "<Figure size 432x288 with 2 Axes>"
      ]
     },
     "metadata": {},
     "output_type": "display_data"
    }
   ],
   "source": [
    "corr = df.corr()\n",
    "sns.heatmap(corr)"
   ]
  },
  {
   "cell_type": "code",
   "execution_count": 137,
   "id": "41b70018",
   "metadata": {
    "ExecuteTime": {
     "end_time": "2022-06-28T11:50:17.757142Z",
     "start_time": "2022-06-28T11:50:17.481473Z"
    }
   },
   "outputs": [
    {
     "data": {
      "image/png": "[encoded data removed]",
      "text/plain": [
       "<Figure size 504x360 with 2 Axes>"
      ]
     },
     "metadata": {},
     "output_type": "display_data"
    }
   ],
   "source": [
    "mask = np.zeros_like(corr)\n",
    "mask[np.triu_indices_from(mask)] = True\n",
    "with sns.axes_style(\"white\"):\n",
    "    f, ax = plt.subplots(figsize=(7, 5))\n",
    "    ax = sns.heatmap(corr, mask=mask, vmax=1, vmin=-1, cmap=\"coolwarm\", square=True, annot=True, fmt=\".2f\")"
   ]
  },
  {
   "cell_type": "code",
   "execution_count": 138,
   "id": "7386ec3d",
   "metadata": {
    "ExecuteTime": {
     "end_time": "2022-06-28T11:51:02.113563Z",
     "start_time": "2022-06-28T11:51:00.273527Z"
    }
   },
   "outputs": [
    {
     "data": {
      "text/plain": [
       "<seaborn.axisgrid.PairGrid at 0x7f4d893be100>"
      ]
     },
     "execution_count": 138,
     "metadata": {},
     "output_type": "execute_result"
    },
    {
     "data": {
      "image/png": "[encoded data removed]",
      "text/plain": [
       "<Figure size 360x360 with 6 Axes>"
      ]
     },
     "metadata": {},
     "output_type": "display_data"
    }
   ],
   "source": [
    "sns.pairplot(df)"
   ]
  },
  {
   "cell_type": "code",
   "execution_count": 151,
   "id": "f5ee35fe",
   "metadata": {
    "ExecuteTime": {
     "end_time": "2022-06-28T11:55:04.117100Z",
     "start_time": "2022-06-28T11:55:02.499911Z"
    },
    "scrolled": true
   },
   "outputs": [
    {
     "name": "stderr",
     "output_type": "stream",
     "text": [
      "/home/alex/Desktop/ocr-donnees-textuelles/env/lib/python3.8/site-packages/seaborn/distributions.py:2211: UserWarning: `displot` is a figure-level function and does not accept the ax= paramter. You may wish to try histplot.\n",
      "  warnings.warn(msg, UserWarning)\n"
     ]
    },
    {
     "data": {
      "text/plain": [
       "<seaborn.axisgrid.FacetGrid at 0x7f4d88c27e80>"
      ]
     },
     "execution_count": 151,
     "metadata": {},
     "output_type": "execute_result"
    },
    {
     "data": {
      "image/png": "[encoded data removed]",
      "text/plain": [
       "<Figure size 360x360 with 1 Axes>"
      ]
     },
     "metadata": {},
     "output_type": "display_data"
    },
    {
     "data": {
      "image/png": "[encoded data removed]",
      "text/plain": [
       "<Figure size 406.6x360 with 1 Axes>"
      ]
     },
     "metadata": {},
     "output_type": "display_data"
    }
   ],
   "source": [
    "fig, axs = plt.subplots(1,1,figsize=(5, 5))\n",
    "sns.displot(data=df, x=\"_len_text\", hue=\"target\", ax = axs)"
   ]
  },
  {
   "cell_type": "code",
   "execution_count": 152,
   "id": "869c579f",
   "metadata": {
    "ExecuteTime": {
     "end_time": "2022-06-28T11:55:38.049408Z",
     "start_time": "2022-06-28T11:55:38.036513Z"
    },
    "scrolled": true
   },
   "outputs": [
    {
     "data": {
      "text/html": [
       "<div>\n",
       "<style scoped>\n",
       "    .dataframe tbody tr th:only-of-type {\n",
       "        vertical-align: middle;\n",
       "    }\n",
       "\n",
       "    .dataframe tbody tr th {\n",
       "        vertical-align: top;\n",
       "    }\n",
       "\n",
       "    .dataframe thead th {\n",
       "        text-align: right;\n",
       "    }\n",
       "</style>\n",
       "<table border=\"1\" class=\"dataframe\">\n",
       "  <thead>\n",
       "    <tr style=\"text-align: right;\">\n",
       "      <th></th>\n",
       "      <th>text</th>\n",
       "      <th>target</th>\n",
       "    </tr>\n",
       "  </thead>\n",
       "  <tbody>\n",
       "    <tr>\n",
       "      <th>0</th>\n",
       "      <td>Our Deeds are the Reason of this #earthquake M...</td>\n",
       "      <td>1</td>\n",
       "    </tr>\n",
       "    <tr>\n",
       "      <th>1</th>\n",
       "      <td>Forest fire near La Ronge Sask. Canada</td>\n",
       "      <td>1</td>\n",
       "    </tr>\n",
       "    <tr>\n",
       "      <th>2</th>\n",
       "      <td>All residents asked to 'shelter in place' are ...</td>\n",
       "      <td>1</td>\n",
       "    </tr>\n",
       "    <tr>\n",
       "      <th>3</th>\n",
       "      <td>13,000 people receive #wildfires evacuation or...</td>\n",
       "      <td>1</td>\n",
       "    </tr>\n",
       "    <tr>\n",
       "      <th>4</th>\n",
       "      <td>Just got sent this photo from Ruby #Alaska as ...</td>\n",
       "      <td>1</td>\n",
       "    </tr>\n",
       "  </tbody>\n",
       "</table>\n",
       "</div>"
      ],
      "text/plain": [
       "                                                text  target\n",
       "0  Our Deeds are the Reason of this #earthquake M...       1\n",
       "1             Forest fire near La Ronge Sask. Canada       1\n",
       "2  All residents asked to 'shelter in place' are ...       1\n",
       "3  13,000 people receive #wildfires evacuation or...       1\n",
       "4  Just got sent this photo from Ruby #Alaska as ...       1"
      ]
     },
     "execution_count": 152,
     "metadata": {},
     "output_type": "execute_result"
    }
   ],
   "source": [
    "df.drop(columns=\"_len_text\", inplace=True)\n",
    "df.head()"
   ]
  },
  {
   "cell_type": "code",
   "execution_count": 153,
   "id": "f382f5e1",
   "metadata": {
    "ExecuteTime": {
     "end_time": "2022-06-28T11:56:07.148663Z",
     "start_time": "2022-06-28T11:56:07.072447Z"
    }
   },
   "outputs": [],
   "source": [
    "df.to_csv(\"data/cleaned/df_cleaned.csv\", index=False)"
   ]
  },
  {
   "cell_type": "code",
   "execution_count": null,
   "id": "4c87dd6c",
   "metadata": {
    "ExecuteTime": {
     "end_time": "2022-06-28T08:01:38.797569Z",
     "start_time": "2022-06-28T08:01:38.107589Z"
    }
   },
   "outputs": [],
   "source": []
  },
  {
   "cell_type": "code",
   "execution_count": null,
   "id": "51457670",
   "metadata": {
    "ExecuteTime": {
     "end_time": "2022-06-28T08:01:39.125389Z",
     "start_time": "2022-06-28T08:01:38.799254Z"
    }
   },
   "outputs": [],
   "source": []
  },
  {
   "cell_type": "code",
   "execution_count": null,
   "id": "06b134b3",
   "metadata": {
    "ExecuteTime": {
     "end_time": "2022-06-28T08:03:59.439494Z",
     "start_time": "2022-06-28T08:03:59.428127Z"
    }
   },
   "outputs": [],
   "source": []
  },
  {
   "cell_type": "code",
   "execution_count": null,
   "id": "f9de9125",
   "metadata": {
    "ExecuteTime": {
     "end_time": "2022-06-28T08:01:39.152237Z",
     "start_time": "2022-06-28T08:01:39.127117Z"
    }
   },
   "outputs": [],
   "source": []
  },
  {
   "cell_type": "markdown",
   "id": "32a4e1e4",
   "metadata": {},
   "source": [
    "## 4.4. Explore corpus and documents"
   ]
  },
  {
   "cell_type": "markdown",
   "id": "40e8974d",
   "metadata": {},
   "source": [
    "###  4.4.1 print N random documents "
   ]
  },
  {
   "cell_type": "code",
   "execution_count": 155,
   "id": "890d1d28",
   "metadata": {
    "ExecuteTime": {
     "end_time": "2022-06-28T11:56:56.249922Z",
     "start_time": "2022-06-28T11:56:56.237448Z"
    }
   },
   "outputs": [
    {
     "data": {
      "text/html": [
       "<div>\n",
       "<style scoped>\n",
       "    .dataframe tbody tr th:only-of-type {\n",
       "        vertical-align: middle;\n",
       "    }\n",
       "\n",
       "    .dataframe tbody tr th {\n",
       "        vertical-align: top;\n",
       "    }\n",
       "\n",
       "    .dataframe thead th {\n",
       "        text-align: right;\n",
       "    }\n",
       "</style>\n",
       "<table border=\"1\" class=\"dataframe\">\n",
       "  <thead>\n",
       "    <tr style=\"text-align: right;\">\n",
       "      <th></th>\n",
       "      <th>text</th>\n",
       "      <th>target</th>\n",
       "    </tr>\n",
       "  </thead>\n",
       "  <tbody>\n",
       "    <tr>\n",
       "      <th>4240</th>\n",
       "      <td>http://t.co/rOdpt33XFM EverSafe Emergency Auto...</td>\n",
       "      <td>1</td>\n",
       "    </tr>\n",
       "    <tr>\n",
       "      <th>4274</th>\n",
       "      <td>Longest Streak of Triple-Digit Heat Since 2013...</td>\n",
       "      <td>1</td>\n",
       "    </tr>\n",
       "    <tr>\n",
       "      <th>5446</th>\n",
       "      <td>Oops: Bounty hunters try to raid Phoenix polic...</td>\n",
       "      <td>1</td>\n",
       "    </tr>\n",
       "    <tr>\n",
       "      <th>896</th>\n",
       "      <td>@zhenghxn i tried 11 eyes akame ga kill and to...</td>\n",
       "      <td>0</td>\n",
       "    </tr>\n",
       "    <tr>\n",
       "      <th>1168</th>\n",
       "      <td>Swiss Kosher Hotel Bridge Collapse Injures Fiv...</td>\n",
       "      <td>1</td>\n",
       "    </tr>\n",
       "    <tr>\n",
       "      <th>4241</th>\n",
       "      <td>MTR issues Hazardous Weather Outlook (HWO) htt...</td>\n",
       "      <td>1</td>\n",
       "    </tr>\n",
       "    <tr>\n",
       "      <th>5524</th>\n",
       "      <td>0nPzp mhtw4fnet\\n\\nOfficials: Alabama Home Qua...</td>\n",
       "      <td>1</td>\n",
       "    </tr>\n",
       "    <tr>\n",
       "      <th>7479</th>\n",
       "      <td>@_PokemonCards_ @IceQueenFroslas why did they ...</td>\n",
       "      <td>0</td>\n",
       "    </tr>\n",
       "    <tr>\n",
       "      <th>5976</th>\n",
       "      <td>@blanksocietyx @emmerdale IM SCREAMING HES MY ...</td>\n",
       "      <td>0</td>\n",
       "    </tr>\n",
       "    <tr>\n",
       "      <th>3017</th>\n",
       "      <td>6 Things Getting Caught in a Dust Storm &amp;amp; ...</td>\n",
       "      <td>0</td>\n",
       "    </tr>\n",
       "    <tr>\n",
       "      <th>1723</th>\n",
       "      <td>We're happily collided :)</td>\n",
       "      <td>0</td>\n",
       "    </tr>\n",
       "    <tr>\n",
       "      <th>3362</th>\n",
       "      <td>#Breaking: Authorities have issued new mandato...</td>\n",
       "      <td>1</td>\n",
       "    </tr>\n",
       "    <tr>\n",
       "      <th>4322</th>\n",
       "      <td>#GamerGate 'Our entire attempt to hijack your ...</td>\n",
       "      <td>0</td>\n",
       "    </tr>\n",
       "    <tr>\n",
       "      <th>5979</th>\n",
       "      <td>@justinbieber   I AM SCREAMING HELL YES AHHHH ...</td>\n",
       "      <td>0</td>\n",
       "    </tr>\n",
       "    <tr>\n",
       "      <th>6485</th>\n",
       "      <td>im getting a car wow it hasn't sunk in</td>\n",
       "      <td>0</td>\n",
       "    </tr>\n",
       "    <tr>\n",
       "      <th>108</th>\n",
       "      <td>@afterShock_DeLo im speaking from someone that...</td>\n",
       "      <td>0</td>\n",
       "    </tr>\n",
       "    <tr>\n",
       "      <th>7146</th>\n",
       "      <td>Brian Shaw + J.J. Hickson + Kenneth Faried try...</td>\n",
       "      <td>0</td>\n",
       "    </tr>\n",
       "    <tr>\n",
       "      <th>6340</th>\n",
       "      <td>We offer #preventative services such as cablin...</td>\n",
       "      <td>0</td>\n",
       "    </tr>\n",
       "    <tr>\n",
       "      <th>5434</th>\n",
       "      <td>Police unions retard justice &amp;amp; drain gov $...</td>\n",
       "      <td>0</td>\n",
       "    </tr>\n",
       "    <tr>\n",
       "      <th>5860</th>\n",
       "      <td>Why does my family have to ruin something that...</td>\n",
       "      <td>0</td>\n",
       "    </tr>\n",
       "  </tbody>\n",
       "</table>\n",
       "</div>"
      ],
      "text/plain": [
       "                                                   text  target\n",
       "4240  http://t.co/rOdpt33XFM EverSafe Emergency Auto...       1\n",
       "4274  Longest Streak of Triple-Digit Heat Since 2013...       1\n",
       "5446  Oops: Bounty hunters try to raid Phoenix polic...       1\n",
       "896   @zhenghxn i tried 11 eyes akame ga kill and to...       0\n",
       "1168  Swiss Kosher Hotel Bridge Collapse Injures Fiv...       1\n",
       "4241  MTR issues Hazardous Weather Outlook (HWO) htt...       1\n",
       "5524  0nPzp mhtw4fnet\\n\\nOfficials: Alabama Home Qua...       1\n",
       "7479  @_PokemonCards_ @IceQueenFroslas why did they ...       0\n",
       "5976  @blanksocietyx @emmerdale IM SCREAMING HES MY ...       0\n",
       "3017  6 Things Getting Caught in a Dust Storm &amp; ...       0\n",
       "1723                          We're happily collided :)       0\n",
       "3362  #Breaking: Authorities have issued new mandato...       1\n",
       "4322  #GamerGate 'Our entire attempt to hijack your ...       0\n",
       "5979  @justinbieber   I AM SCREAMING HELL YES AHHHH ...       0\n",
       "6485             im getting a car wow it hasn't sunk in       0\n",
       "108   @afterShock_DeLo im speaking from someone that...       0\n",
       "7146  Brian Shaw + J.J. Hickson + Kenneth Faried try...       0\n",
       "6340  We offer #preventative services such as cablin...       0\n",
       "5434  Police unions retard justice &amp; drain gov $...       0\n",
       "5860  Why does my family have to ruin something that...       0"
      ]
     },
     "execution_count": 155,
     "metadata": {},
     "output_type": "execute_result"
    }
   ],
   "source": [
    "df_samp = df.sample(20)\n",
    "df_samp"
   ]
  },
  {
   "cell_type": "code",
   "execution_count": 160,
   "id": "0c33d412",
   "metadata": {
    "ExecuteTime": {
     "end_time": "2022-06-28T12:00:24.490499Z",
     "start_time": "2022-06-28T12:00:24.483336Z"
    }
   },
   "outputs": [
    {
     "name": "stdout",
     "output_type": "stream",
     "text": [
      "1 --> http://t.co/rOdpt33XFM EverSafe Emergency Auto Kit for all Weather Unsafe hazardous rush-hour gridlock jumper-caÛ_ http://t.co/0BVK5tuB4J\n",
      "\n",
      "\n",
      "1 --> Longest Streak of Triple-Digit Heat Since 2013 Forecast in Dallas: An unrelenting and dangerous heat wave will... http://t.co/s4Srgrmqcz\n",
      "\n",
      "\n",
      "1 --> Oops: Bounty hunters try to raid Phoenix police chief's home: http://t.co/yPRJWMigHL -- A group of armed bounty... http://t.co/3RrKRCjYW7\n",
      "\n",
      "\n",
      "0 --> @zhenghxn i tried 11 eyes akame ga kill and tokyo ghoul all damn bloody i dont dare watch????????\n",
      "\n",
      "\n",
      "1 --> Swiss Kosher Hotel Bridge Collapse Injures Five People - http://t.co/TxIestoX5n @JewishPress\n",
      "\n",
      "\n",
      "1 --> MTR issues Hazardous Weather Outlook (HWO) http://t.co/tGLK2UUs2Z\n",
      "\n",
      "\n",
      "1 --> 0nPzp mhtw4fnet\n",
      "\n",
      "Officials: Alabama Home Quarantined Over Possible Ebola Case - ABC News\n",
      "\n",
      "\n",
      "0 --> @_PokemonCards_ @IceQueenFroslas why did they have to wreck it with ON SALE HERE ;-;\n",
      "\n",
      "\n",
      "0 --> @blanksocietyx @emmerdale IM SCREAMING HES MY FAVOURITE\n",
      "\n",
      "\n",
      "0 --> 6 Things Getting Caught in a Dust Storm &amp; the Challenging Real Estate Market Have in Common (+ video): http://t.co/jf5Ft5cq9j\n",
      "\n",
      "\n",
      "0 --> We're happily collided :)\n",
      "\n",
      "\n",
      "1 --> #Breaking: Authorities have issued new mandatory evacuation notices for 25 homes to the North of the fire in #Roosevelt WA\n",
      "\n",
      "\n",
      "0 --> #GamerGate 'Our entire attempt to hijack your community destroy your industry and scam everyone in sight was just sarcastic'.\n",
      "\n",
      "Drop dead.\n",
      "\n",
      "\n",
      "0 --> @justinbieber   I AM SCREAMING HELL YES AHHHH OMG http://t.co/y678XsNvJ6\n",
      "\n",
      "\n",
      "0 --> im getting a car wow it hasn't sunk in\n",
      "\n",
      "\n",
      "0 --> @afterShock_DeLo im speaking from someone that is using a scuf on xb1 most of them people will end up getting on for ps also.\n",
      "\n",
      "\n",
      "0 --> Brian Shaw + J.J. Hickson + Kenneth Faried trying to defend LaMarcus Aldridge was A BLOOD VOLCANO http://t.co/20TWGPmM7d\n",
      "\n",
      "\n",
      "0 --> We offer #preventative services such as cabling and bracing to stop structural failure of your trees. Call 905-877-8591 to book yours. #CTS\n",
      "\n",
      "\n",
      "0 --> Police unions retard justice &amp; drain gov $ but cops vote 4 Rs so Rs go after teachers unions instead! @DCCC @VJ44 @Lawrence @JBouie @mmfa\n",
      "\n",
      "\n",
      "0 --> Why does my family have to ruin something that is actually going good for me??\n",
      "\n",
      "\n"
     ]
    }
   ],
   "source": [
    "for idx, ser in df_samp.iterrows() : \n",
    "    print(str(ser[\"target\"] ) + \" --> \" + ser[\"text\"] + \"\\n\\n\")"
   ]
  },
  {
   "cell_type": "markdown",
   "id": "0a761626",
   "metadata": {},
   "source": [
    "### 4.4.2 print documents vs target"
   ]
  },
  {
   "cell_type": "code",
   "execution_count": 163,
   "id": "87f1ad65",
   "metadata": {
    "ExecuteTime": {
     "end_time": "2022-06-28T12:02:26.336682Z",
     "start_time": "2022-06-28T12:02:26.315895Z"
    }
   },
   "outputs": [
    {
     "data": {
      "text/plain": [
       "0    20\n",
       "Name: target, dtype: int64"
      ]
     },
     "execution_count": 163,
     "metadata": {},
     "output_type": "execute_result"
    }
   ],
   "source": [
    "df_0 = df[df.target == 0].sample(20)\n",
    "df_0.target.value_counts()"
   ]
  },
  {
   "cell_type": "code",
   "execution_count": 164,
   "id": "c4ba130f",
   "metadata": {
    "ExecuteTime": {
     "end_time": "2022-06-28T12:02:26.905981Z",
     "start_time": "2022-06-28T12:02:26.893751Z"
    }
   },
   "outputs": [
    {
     "data": {
      "text/plain": [
       "1    20\n",
       "Name: target, dtype: int64"
      ]
     },
     "execution_count": 164,
     "metadata": {},
     "output_type": "execute_result"
    }
   ],
   "source": [
    "df_1 = df[df.target == 1].sample(20)\n",
    "df_1.target.value_counts()"
   ]
  },
  {
   "cell_type": "code",
   "execution_count": 167,
   "id": "b560975e",
   "metadata": {
    "ExecuteTime": {
     "end_time": "2022-06-28T12:02:59.888207Z",
     "start_time": "2022-06-28T12:02:59.879327Z"
    }
   },
   "outputs": [
    {
     "name": "stdout",
     "output_type": "stream",
     "text": [
      "@ZachZaidman @670TheScore wld b a shame if that golf cart became engulfed in flames. #boycottBears\n",
      "\n",
      "\n",
      "Attention all RCHS football players there will be coffins and body bags by the locker rooms grab one tommorow because were gonna die\n",
      "\n",
      "\n",
      "Don't tell the bride gives me the fear\n",
      "\n",
      "\n",
      "That's the ultimate road to destruction\n",
      "\n",
      "\n",
      "Coastal German Shepherd Rescue OC shared a link... http://t.co/2JxkmkpalP #animalrescue | https://t.co/ec46LyQQc6\n",
      "\n",
      "\n",
      "Dying with debt can be costly for survivors\n",
      "\n",
      "\n",
      "Hollywood Movie About Trapped Miners Released in Chile http://t.co/Fk1vyh5QLk #newsdict #news  #Chile\n",
      "\n",
      "\n",
      "Media stocks are getting destroyed (DIS FOXA CMCSA SNI AMCX VIAB VIA TWX) http://t.co/aqinaVl1b6\n",
      "\n",
      "\n",
      "need to work in an office I can bang all my fav Future jams out loud\n",
      "\n",
      "\n",
      "But now #Skyrim awaits to be rescued...again.\n",
      "\n",
      "\n",
      "Musician Kalle Mattson Recreates 34 Classic Album Covers in Clever Music Video for 'Avalanche' http://t.co/yDJpOpH1DW\n",
      "\n",
      "\n",
      "(OFFICIAL VID) &gt; #DoubleCups &gt;&gt; https://t.co/lfKMTZaEkk &gt;&gt; @TrubGME Prod @THISIZBWRIGHT &gt;&gt; #ARMAGEDDON                 .\n",
      "\n",
      "\n",
      "I always felt like the Namekians were black people and felt played when they died and the planet got destroyed ??\n",
      "\n",
      "\n",
      "@nashhmu have a meltdown he noticed you\n",
      "\n",
      "\n",
      "Turn on ESPN2 and get blown up\n",
      "\n",
      "\n",
      "The best part of old baseball managers wearing uniforms is the implication that if something catastrophic happens they'll grab a glove.\n",
      "\n",
      "\n",
      "Best windows torrent client? was recommended Deluge but it looks like it was written 10 years ago with java swing and 'uses' worse\n",
      "\n",
      "\n",
      "08/3/15: CAT FATALITY: UTICA NY; PLEASANT &amp; HOLLAND AVE:Black cat with white paws. Average size.  On grass next to north side of road.\n",
      "\n",
      "\n",
      "Our tipster previews Chelsea v Swansea &amp; there's a 48/1 double! http://t.co/PFSrYJS1pc \n",
      "#Chelsea #Hazard http://t.co/SKdBot7TGF\n",
      "\n",
      "\n",
      "@Annealiz1 You are going to make the internet explode with this Dr. Simon. O_o ... Was he alone or was there a red-head nearby? LOL\n",
      "\n",
      "\n"
     ]
    }
   ],
   "source": [
    "for idx, ser in df_0.iterrows() : \n",
    "    print(ser[\"text\"] + \"\\n\\n\")"
   ]
  },
  {
   "cell_type": "code",
   "execution_count": 168,
   "id": "792ce246",
   "metadata": {
    "ExecuteTime": {
     "end_time": "2022-06-28T12:03:57.755031Z",
     "start_time": "2022-06-28T12:03:57.744271Z"
    }
   },
   "outputs": [
    {
     "name": "stdout",
     "output_type": "stream",
     "text": [
      "Remembering Mordechai Yehuda Friedman 24 of Ramat Beit Shemesh; murdered by Hamas terrorists in the suicide bombing of Egged bus No. 361\n",
      "\n",
      "\n",
      "SIGALERT UPDATE #3***N-133 CLOSED AT 5 FWY UFN***- TRASH TRUCK FIRE\n",
      "\n",
      "\n",
      "ABC OnlineMH370: Aircraft debris found on La Reunion is from missing Malaysia Airlines ...ABC OnlineA piece of aircraft debris which ...\n",
      "\n",
      "\n",
      "@ChristieC733 please support this Please cosponsor S. 928 and support aid for sick and injured 9/11 responders! #renew911health\n",
      "\n",
      "\n",
      "Wreckage 'Conclusively Confirmed' as From MH370: Malaysia PM: Investigators and the families of those who were... http://t.co/SfAKQNveta\n",
      "\n",
      "\n",
      "Heat wave gotta be over 9000 today\n",
      "\n",
      "\n",
      "The 46 returned refugees - what were they fleeing from &amp; how will the Vietnamese Govt treat them now they are returned? #Dutton #presser\n",
      "\n",
      "\n",
      "NOT.. Ready for this heat wave .. I don't want the sun to come back out.. I'm enjoying this break of cooler temps..\n",
      "\n",
      "\n",
      "The U.S. also flew over each bomb site in World War II with warning letters telling people to evacuate\n",
      "\n",
      "\n",
      "Investigators say a fatal Virgin Galactic spaceship crash last year was caused by structural failure after the co-pilot unlocked a braking\n",
      "\n",
      "\n",
      "First time getting into #gbbo2015 and physically gasped at the cake 'mudslide' incident already way too emotionally invested...\n",
      "\n",
      "\n",
      "suddenly it's off &amp; on gloomy &amp; thunder so loud it shakes the windows? Not ever on the Bay Area. Miss me w/that lol http://t.co/x4eCGGvnSN\n",
      "\n",
      "\n",
      "Ignition Knock (Detonation) Sensor-Senso fits 01-06 BMW 325Ci 2.5L-L6 http://t.co/gBVDNczjoU http://t.co/c211HISe0R\n",
      "\n",
      "\n",
      "Plane debris discovered on Reunion Island belongs to flight MH370 ÛÒ Malaysian PM http://t.co/jkc0DIqvXC\n",
      "\n",
      "\n",
      "Christian Attacked by Muslims at the Temple Mount after Waving Israeli Flag via Pamela Geller - ... http://t.co/e4YDbM4Dx6\n",
      "\n",
      "\n",
      "#foodscare #offers2go #NestleIndia slips into loss after #Magginoodle #ban unsafe and hazardous for #humanconsumption\n",
      "\n",
      "\n",
      "India floods derail two trains killing 21 people  http://t.co/2Fs649QdWX\n",
      "\n",
      "\n",
      "When Houston and NYC collide. ?? @pageparkescorp @chloeunguyen @laurensicle @charstevens97 @tiara_marei #gemma #boweÛ_ http://t.co/9wowPs78VD\n",
      "\n",
      "\n",
      "Another White mass murderer. Thank God I'm from California. @FrauTrapani\n",
      "\n",
      "\n",
      "The Murderous Story Of AmericaÛªs First Hijacking http://t.co/EYUGk6byxr\n",
      "\n",
      "\n"
     ]
    }
   ],
   "source": [
    "for idx, ser in df_1.iterrows() : \n",
    "    print(ser[\"text\"] + \"\\n\\n\")"
   ]
  },
  {
   "cell_type": "code",
   "execution_count": null,
   "id": "59164912",
   "metadata": {},
   "outputs": [],
   "source": []
  },
  {
   "cell_type": "code",
   "execution_count": null,
   "id": "ad7a2dc9",
   "metadata": {},
   "outputs": [],
   "source": []
  }
 ],
 "metadata": {
  "hide_input": false,
  "kernelspec": {
   "display_name": "Python 3",
   "language": "python",
   "name": "python3"
  },
  "language_info": {
   "codemirror_mode": {
    "name": "ipython",
    "version": 3
   },
   "file_extension": ".py",
   "mimetype": "text/x-python",
   "name": "python",
   "nbconvert_exporter": "python",
   "pygments_lexer": "ipython3",
   "version": "3.8.10"
  }
 },
 "nbformat": 4,
 "nbformat_minor": 5
}
