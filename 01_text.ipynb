{
 "cells": [
  {
   "cell_type": "markdown",
   "id": "90d846cb",
   "metadata": {},
   "source": [
    "# 1. Preliminary"
   ]
  },
  {
   "cell_type": "markdown",
   "id": "03838406",
   "metadata": {},
   "source": [
    "## 1.1 Context"
   ]
  },
  {
   "cell_type": "code",
   "execution_count": null,
   "id": "37885c7f",
   "metadata": {},
   "outputs": [],
   "source": []
  },
  {
   "cell_type": "markdown",
   "id": "97396f16",
   "metadata": {},
   "source": [
    "## 1.2 Imports"
   ]
  },
  {
   "cell_type": "code",
   "execution_count": 7,
   "id": "d56dbd5f",
   "metadata": {
    "ExecuteTime": {
     "end_time": "2022-06-27T14:43:12.766964Z",
     "start_time": "2022-06-27T14:43:12.760167Z"
    }
   },
   "outputs": [],
   "source": [
    "import os, sys, time\n",
    "\n",
    "import nltk\n",
    "from nltk.stem import WordNetLemmatizer\n",
    "\n",
    "\n",
    "import spacy\n",
    "\n",
    "import pandas as pd\n",
    "import numpy as np\n",
    "\n",
    "import seaborn as sns\n",
    "import matplotlib.pyplot as plt\n",
    "import plotly as px"
   ]
  },
  {
   "cell_type": "code",
   "execution_count": null,
   "id": "f8f872b9",
   "metadata": {},
   "outputs": [],
   "source": [
    "nltk.download('omw-1.4')\n",
    "nltk.download('wordnet')"
   ]
  },
  {
   "cell_type": "markdown",
   "id": "1880a917",
   "metadata": {},
   "source": [
    "## 1.3 Loading data"
   ]
  },
  {
   "cell_type": "code",
   "execution_count": 8,
   "id": "c046fdbb",
   "metadata": {
    "ExecuteTime": {
     "end_time": "2022-06-27T14:43:12.776190Z",
     "start_time": "2022-06-27T14:43:12.770348Z"
    }
   },
   "outputs": [
    {
     "data": {
      "text/plain": [
       "['df.csv']"
      ]
     },
     "execution_count": 8,
     "metadata": {},
     "output_type": "execute_result"
    }
   ],
   "source": [
    "# our file\n",
    "\n",
    "data = \"./data/cleaned/\"\n",
    "os.listdir(data)"
   ]
  },
  {
   "cell_type": "code",
   "execution_count": 9,
   "id": "e699e715",
   "metadata": {
    "ExecuteTime": {
     "end_time": "2022-06-27T14:43:12.828662Z",
     "start_time": "2022-06-27T14:43:12.778563Z"
    }
   },
   "outputs": [],
   "source": [
    "# load dataframe\n",
    "\n",
    "fn = data + 'df.csv'\n",
    "\n",
    "df = pd.read_csv(fn)"
   ]
  },
  {
   "cell_type": "code",
   "execution_count": 10,
   "id": "30a66d13",
   "metadata": {
    "ExecuteTime": {
     "end_time": "2022-06-27T14:43:12.839259Z",
     "start_time": "2022-06-27T14:43:12.830657Z"
    }
   },
   "outputs": [
    {
     "data": {
      "text/html": [
       "<div>\n",
       "<style scoped>\n",
       "    .dataframe tbody tr th:only-of-type {\n",
       "        vertical-align: middle;\n",
       "    }\n",
       "\n",
       "    .dataframe tbody tr th {\n",
       "        vertical-align: top;\n",
       "    }\n",
       "\n",
       "    .dataframe thead th {\n",
       "        text-align: right;\n",
       "    }\n",
       "</style>\n",
       "<table border=\"1\" class=\"dataframe\">\n",
       "  <thead>\n",
       "    <tr style=\"text-align: right;\">\n",
       "      <th></th>\n",
       "      <th>name</th>\n",
       "      <th>history_text</th>\n",
       "      <th>_score</th>\n",
       "      <th>_log_score</th>\n",
       "      <th>_len_name</th>\n",
       "      <th>_len_history_text</th>\n",
       "      <th>_cat</th>\n",
       "      <th>_log_cat</th>\n",
       "    </tr>\n",
       "  </thead>\n",
       "  <tbody>\n",
       "    <tr>\n",
       "      <th>0</th>\n",
       "      <td>3-D Man</td>\n",
       "      <td>Delroy Garrett, Jr. grew up to become a track ...</td>\n",
       "      <td>6.0</td>\n",
       "      <td>1.791759</td>\n",
       "      <td>7</td>\n",
       "      <td>509</td>\n",
       "      <td>e</td>\n",
       "      <td>d</td>\n",
       "    </tr>\n",
       "    <tr>\n",
       "      <th>1</th>\n",
       "      <td>514A (Gotham)</td>\n",
       "      <td>He was one of the many prisoners of Indian Hil...</td>\n",
       "      <td>10.0</td>\n",
       "      <td>2.302585</td>\n",
       "      <td>13</td>\n",
       "      <td>3755</td>\n",
       "      <td>e</td>\n",
       "      <td>c</td>\n",
       "    </tr>\n",
       "    <tr>\n",
       "      <th>2</th>\n",
       "      <td>A-Bomb</td>\n",
       "      <td>Richard \"Rick\" Jones was orphaned at a young ...</td>\n",
       "      <td>20.0</td>\n",
       "      <td>2.995732</td>\n",
       "      <td>6</td>\n",
       "      <td>5849</td>\n",
       "      <td>e</td>\n",
       "      <td>c</td>\n",
       "    </tr>\n",
       "    <tr>\n",
       "      <th>3</th>\n",
       "      <td>Aa</td>\n",
       "      <td>Aa is one of the more passive members of the P...</td>\n",
       "      <td>12.0</td>\n",
       "      <td>2.484907</td>\n",
       "      <td>2</td>\n",
       "      <td>5924</td>\n",
       "      <td>e</td>\n",
       "      <td>c</td>\n",
       "    </tr>\n",
       "    <tr>\n",
       "      <th>4</th>\n",
       "      <td>Aaron Cash</td>\n",
       "      <td>Aaron Cash is the head of security at Arkham A...</td>\n",
       "      <td>5.0</td>\n",
       "      <td>1.609438</td>\n",
       "      <td>10</td>\n",
       "      <td>123</td>\n",
       "      <td>e</td>\n",
       "      <td>d</td>\n",
       "    </tr>\n",
       "  </tbody>\n",
       "</table>\n",
       "</div>"
      ],
      "text/plain": [
       "            name                                       history_text  _score  \\\n",
       "0        3-D Man  Delroy Garrett, Jr. grew up to become a track ...     6.0   \n",
       "1  514A (Gotham)  He was one of the many prisoners of Indian Hil...    10.0   \n",
       "2         A-Bomb   Richard \"Rick\" Jones was orphaned at a young ...    20.0   \n",
       "3             Aa  Aa is one of the more passive members of the P...    12.0   \n",
       "4     Aaron Cash  Aaron Cash is the head of security at Arkham A...     5.0   \n",
       "\n",
       "   _log_score  _len_name  _len_history_text _cat _log_cat  \n",
       "0    1.791759          7                509    e        d  \n",
       "1    2.302585         13               3755    e        c  \n",
       "2    2.995732          6               5849    e        c  \n",
       "3    2.484907          2               5924    e        c  \n",
       "4    1.609438         10                123    e        d  "
      ]
     },
     "execution_count": 10,
     "metadata": {},
     "output_type": "execute_result"
    }
   ],
   "source": [
    "df.head()"
   ]
  },
  {
   "cell_type": "markdown",
   "id": "0c486529",
   "metadata": {},
   "source": []
  },
  {
   "cell_type": "code",
   "execution_count": null,
   "id": "04d28d83",
   "metadata": {},
   "outputs": [],
   "source": []
  },
  {
   "cell_type": "markdown",
   "id": "d5ca41f4",
   "metadata": {},
   "source": [
    "# 5. Working with text SEPARATE NOTEBOOK"
   ]
  },
  {
   "cell_type": "markdown",
   "id": "217f8727",
   "metadata": {},
   "source": [
    "##  5.1 10 random texts "
   ]
  },
  {
   "cell_type": "code",
   "execution_count": 11,
   "id": "cc5041cf",
   "metadata": {
    "ExecuteTime": {
     "end_time": "2022-06-27T14:43:12.844106Z",
     "start_time": "2022-06-27T14:43:12.840886Z"
    }
   },
   "outputs": [],
   "source": [
    "df.rename(columns={\"name\" : \"_name\"}, inplace=True)"
   ]
  },
  {
   "cell_type": "code",
   "execution_count": 12,
   "id": "e5c2a30a",
   "metadata": {
    "ExecuteTime": {
     "end_time": "2022-06-27T14:43:12.856035Z",
     "start_time": "2022-06-27T14:43:12.845918Z"
    }
   },
   "outputs": [
    {
     "data": {
      "text/html": [
       "<div>\n",
       "<style scoped>\n",
       "    .dataframe tbody tr th:only-of-type {\n",
       "        vertical-align: middle;\n",
       "    }\n",
       "\n",
       "    .dataframe tbody tr th {\n",
       "        vertical-align: top;\n",
       "    }\n",
       "\n",
       "    .dataframe thead th {\n",
       "        text-align: right;\n",
       "    }\n",
       "</style>\n",
       "<table border=\"1\" class=\"dataframe\">\n",
       "  <thead>\n",
       "    <tr style=\"text-align: right;\">\n",
       "      <th></th>\n",
       "      <th>_name</th>\n",
       "      <th>history_text</th>\n",
       "      <th>_score</th>\n",
       "      <th>_log_score</th>\n",
       "      <th>_len_name</th>\n",
       "      <th>_len_history_text</th>\n",
       "      <th>_cat</th>\n",
       "      <th>_log_cat</th>\n",
       "    </tr>\n",
       "  </thead>\n",
       "  <tbody>\n",
       "    <tr>\n",
       "      <th>574</th>\n",
       "      <td>Jack-Jack</td>\n",
       "      <td>Jack-Jack is a baby and the youngest child in...</td>\n",
       "      <td>4.0</td>\n",
       "      <td>1.386294</td>\n",
       "      <td>9</td>\n",
       "      <td>3294</td>\n",
       "      <td>e</td>\n",
       "      <td>d</td>\n",
       "    </tr>\n",
       "    <tr>\n",
       "      <th>665</th>\n",
       "      <td>Koko (The LEGO Ninjago Movie)</td>\n",
       "      <td>Koko met Garmadon in a war under the identity ...</td>\n",
       "      <td>7.0</td>\n",
       "      <td>1.945910</td>\n",
       "      <td>29</td>\n",
       "      <td>313</td>\n",
       "      <td>e</td>\n",
       "      <td>d</td>\n",
       "    </tr>\n",
       "    <tr>\n",
       "      <th>140</th>\n",
       "      <td>Bill Harken</td>\n",
       "      <td>Bill Harken is a former FBI agent who strictly...</td>\n",
       "      <td>6.0</td>\n",
       "      <td>1.791759</td>\n",
       "      <td>11</td>\n",
       "      <td>452</td>\n",
       "      <td>e</td>\n",
       "      <td>d</td>\n",
       "    </tr>\n",
       "    <tr>\n",
       "      <th>100</th>\n",
       "      <td>Bane (Dark Knight)</td>\n",
       "      <td>Put in prison to serve his fathers life senten...</td>\n",
       "      <td>9.0</td>\n",
       "      <td>2.197225</td>\n",
       "      <td>18</td>\n",
       "      <td>490</td>\n",
       "      <td>e</td>\n",
       "      <td>c</td>\n",
       "    </tr>\n",
       "    <tr>\n",
       "      <th>1157</th>\n",
       "      <td>Tsunade</td>\n",
       "      <td>Tsunade is a descendant of the Senju clan and ...</td>\n",
       "      <td>15.0</td>\n",
       "      <td>2.708050</td>\n",
       "      <td>7</td>\n",
       "      <td>437</td>\n",
       "      <td>e</td>\n",
       "      <td>c</td>\n",
       "    </tr>\n",
       "    <tr>\n",
       "      <th>392</th>\n",
       "      <td>Erik Killmonger</td>\n",
       "      <td>Early Life N'Jadaka's father was pressed into ...</td>\n",
       "      <td>8.0</td>\n",
       "      <td>2.079442</td>\n",
       "      <td>15</td>\n",
       "      <td>6693</td>\n",
       "      <td>e</td>\n",
       "      <td>d</td>\n",
       "    </tr>\n",
       "    <tr>\n",
       "      <th>850</th>\n",
       "      <td>Ocean Master</td>\n",
       "      <td>Orm Marius aka Ocean Master is the half-brothe...</td>\n",
       "      <td>13.0</td>\n",
       "      <td>2.564949</td>\n",
       "      <td>12</td>\n",
       "      <td>212</td>\n",
       "      <td>e</td>\n",
       "      <td>c</td>\n",
       "    </tr>\n",
       "    <tr>\n",
       "      <th>1179</th>\n",
       "      <td>Vergil</td>\n",
       "      <td>Vergil, later also known as Nelo Angelo, is on...</td>\n",
       "      <td>16.0</td>\n",
       "      <td>2.772589</td>\n",
       "      <td>6</td>\n",
       "      <td>354</td>\n",
       "      <td>e</td>\n",
       "      <td>c</td>\n",
       "    </tr>\n",
       "    <tr>\n",
       "      <th>894</th>\n",
       "      <td>Professor Severus Snape</td>\n",
       "      <td>Severus Snape was born to Tobias Snape and Eil...</td>\n",
       "      <td>23.0</td>\n",
       "      <td>3.135494</td>\n",
       "      <td>23</td>\n",
       "      <td>597</td>\n",
       "      <td>e</td>\n",
       "      <td>c</td>\n",
       "    </tr>\n",
       "    <tr>\n",
       "      <th>1105</th>\n",
       "      <td>The Cape</td>\n",
       "      <td>ince Faraday, an honest police detective who i...</td>\n",
       "      <td>3.0</td>\n",
       "      <td>1.098612</td>\n",
       "      <td>8</td>\n",
       "      <td>1369</td>\n",
       "      <td>e</td>\n",
       "      <td>d</td>\n",
       "    </tr>\n",
       "  </tbody>\n",
       "</table>\n",
       "</div>"
      ],
      "text/plain": [
       "                              _name  \\\n",
       "574                       Jack-Jack   \n",
       "665   Koko (The LEGO Ninjago Movie)   \n",
       "140                     Bill Harken   \n",
       "100              Bane (Dark Knight)   \n",
       "1157                        Tsunade   \n",
       "392                 Erik Killmonger   \n",
       "850                    Ocean Master   \n",
       "1179                         Vergil   \n",
       "894         Professor Severus Snape   \n",
       "1105                       The Cape   \n",
       "\n",
       "                                           history_text  _score  _log_score  \\\n",
       "574    Jack-Jack is a baby and the youngest child in...     4.0    1.386294   \n",
       "665   Koko met Garmadon in a war under the identity ...     7.0    1.945910   \n",
       "140   Bill Harken is a former FBI agent who strictly...     6.0    1.791759   \n",
       "100   Put in prison to serve his fathers life senten...     9.0    2.197225   \n",
       "1157  Tsunade is a descendant of the Senju clan and ...    15.0    2.708050   \n",
       "392   Early Life N'Jadaka's father was pressed into ...     8.0    2.079442   \n",
       "850   Orm Marius aka Ocean Master is the half-brothe...    13.0    2.564949   \n",
       "1179  Vergil, later also known as Nelo Angelo, is on...    16.0    2.772589   \n",
       "894   Severus Snape was born to Tobias Snape and Eil...    23.0    3.135494   \n",
       "1105  ince Faraday, an honest police detective who i...     3.0    1.098612   \n",
       "\n",
       "      _len_name  _len_history_text _cat _log_cat  \n",
       "574           9               3294    e        d  \n",
       "665          29                313    e        d  \n",
       "140          11                452    e        d  \n",
       "100          18                490    e        c  \n",
       "1157          7                437    e        c  \n",
       "392          15               6693    e        d  \n",
       "850          12                212    e        c  \n",
       "1179          6                354    e        c  \n",
       "894          23                597    e        c  \n",
       "1105          8               1369    e        d  "
      ]
     },
     "execution_count": 12,
     "metadata": {},
     "output_type": "execute_result"
    }
   ],
   "source": [
    "df.sample(10)"
   ]
  },
  {
   "cell_type": "code",
   "execution_count": 13,
   "id": "6a1a629d",
   "metadata": {
    "ExecuteTime": {
     "end_time": "2022-06-27T14:43:12.869305Z",
     "start_time": "2022-06-27T14:43:12.857609Z"
    }
   },
   "outputs": [
    {
     "data": {
      "text/html": [
       "<div>\n",
       "<style scoped>\n",
       "    .dataframe tbody tr th:only-of-type {\n",
       "        vertical-align: middle;\n",
       "    }\n",
       "\n",
       "    .dataframe tbody tr th {\n",
       "        vertical-align: top;\n",
       "    }\n",
       "\n",
       "    .dataframe thead th {\n",
       "        text-align: right;\n",
       "    }\n",
       "</style>\n",
       "<table border=\"1\" class=\"dataframe\">\n",
       "  <thead>\n",
       "    <tr style=\"text-align: right;\">\n",
       "      <th></th>\n",
       "      <th>_name</th>\n",
       "      <th>history_text</th>\n",
       "      <th>_score</th>\n",
       "      <th>_log_score</th>\n",
       "      <th>_len_name</th>\n",
       "      <th>_len_history_text</th>\n",
       "      <th>_cat</th>\n",
       "      <th>_log_cat</th>\n",
       "    </tr>\n",
       "  </thead>\n",
       "  <tbody>\n",
       "    <tr>\n",
       "      <th>657</th>\n",
       "      <td>King Shark (CW)</td>\n",
       "      <td>Shay Lamden, nicknamed King Shark by Patty Spi...</td>\n",
       "      <td>13.0</td>\n",
       "      <td>2.564949</td>\n",
       "      <td>15</td>\n",
       "      <td>1212</td>\n",
       "      <td>e</td>\n",
       "      <td>c</td>\n",
       "    </tr>\n",
       "    <tr>\n",
       "      <th>948</th>\n",
       "      <td>Rick Sanchez</td>\n",
       "      <td>Rick Sanchez is the co-eponymous main characte...</td>\n",
       "      <td>19.0</td>\n",
       "      <td>2.944439</td>\n",
       "      <td>12</td>\n",
       "      <td>253</td>\n",
       "      <td>e</td>\n",
       "      <td>c</td>\n",
       "    </tr>\n",
       "    <tr>\n",
       "      <th>518</th>\n",
       "      <td>Highfather</td>\n",
       "      <td>Izaya, at this point known as Izaya the Inheri...</td>\n",
       "      <td>38.0</td>\n",
       "      <td>3.637586</td>\n",
       "      <td>10</td>\n",
       "      <td>3086</td>\n",
       "      <td>e</td>\n",
       "      <td>b</td>\n",
       "    </tr>\n",
       "    <tr>\n",
       "      <th>1130</th>\n",
       "      <td>The Thing (FOX)</td>\n",
       "      <td>Ben Grimm is the best friend of scientist Reed...</td>\n",
       "      <td>6.0</td>\n",
       "      <td>1.791759</td>\n",
       "      <td>15</td>\n",
       "      <td>6943</td>\n",
       "      <td>e</td>\n",
       "      <td>d</td>\n",
       "    </tr>\n",
       "    <tr>\n",
       "      <th>138</th>\n",
       "      <td>Big Daddy</td>\n",
       "      <td>Damon Macready was a comic book geek and an ac...</td>\n",
       "      <td>3.0</td>\n",
       "      <td>1.098612</td>\n",
       "      <td>9</td>\n",
       "      <td>788</td>\n",
       "      <td>e</td>\n",
       "      <td>d</td>\n",
       "    </tr>\n",
       "    <tr>\n",
       "      <th>416</th>\n",
       "      <td>Firefist (FOX)</td>\n",
       "      <td>Russell grew up in the Essex House for Mutant ...</td>\n",
       "      <td>7.0</td>\n",
       "      <td>1.945910</td>\n",
       "      <td>14</td>\n",
       "      <td>3422</td>\n",
       "      <td>e</td>\n",
       "      <td>d</td>\n",
       "    </tr>\n",
       "    <tr>\n",
       "      <th>546</th>\n",
       "      <td>Iceman</td>\n",
       "      <td>Robert \"Bobby\" Louis Drake was born in Flora...</td>\n",
       "      <td>10.0</td>\n",
       "      <td>2.302585</td>\n",
       "      <td>6</td>\n",
       "      <td>18422</td>\n",
       "      <td>e</td>\n",
       "      <td>c</td>\n",
       "    </tr>\n",
       "    <tr>\n",
       "      <th>953</th>\n",
       "      <td>Robin (Titans)</td>\n",
       "      <td>Jason was born to a man and a woman, though th...</td>\n",
       "      <td>5.0</td>\n",
       "      <td>1.609438</td>\n",
       "      <td>14</td>\n",
       "      <td>554</td>\n",
       "      <td>e</td>\n",
       "      <td>d</td>\n",
       "    </tr>\n",
       "    <tr>\n",
       "      <th>53</th>\n",
       "      <td>Animal Man</td>\n",
       "      <td>In his late teens, Buddy was a happy hellraisi...</td>\n",
       "      <td>7.0</td>\n",
       "      <td>1.945910</td>\n",
       "      <td>10</td>\n",
       "      <td>12897</td>\n",
       "      <td>e</td>\n",
       "      <td>d</td>\n",
       "    </tr>\n",
       "    <tr>\n",
       "      <th>912</th>\n",
       "      <td>Qui-Gon Jinn</td>\n",
       "      <td>Qui-Gon Jinn was a male human born on the gala...</td>\n",
       "      <td>13.0</td>\n",
       "      <td>2.564949</td>\n",
       "      <td>12</td>\n",
       "      <td>943</td>\n",
       "      <td>e</td>\n",
       "      <td>c</td>\n",
       "    </tr>\n",
       "    <tr>\n",
       "      <th>116</th>\n",
       "      <td>Batman (Arkham)</td>\n",
       "      <td>When his parents were gunned down in front of ...</td>\n",
       "      <td>12.0</td>\n",
       "      <td>2.484907</td>\n",
       "      <td>15</td>\n",
       "      <td>864</td>\n",
       "      <td>e</td>\n",
       "      <td>c</td>\n",
       "    </tr>\n",
       "    <tr>\n",
       "      <th>678</th>\n",
       "      <td>Lady Blackhawk</td>\n",
       "      <td>Zinda Blake, or Lady Blackhawk, was a member o...</td>\n",
       "      <td>7.0</td>\n",
       "      <td>1.945910</td>\n",
       "      <td>14</td>\n",
       "      <td>183</td>\n",
       "      <td>e</td>\n",
       "      <td>d</td>\n",
       "    </tr>\n",
       "    <tr>\n",
       "      <th>1033</th>\n",
       "      <td>Snowbird</td>\n",
       "      <td>Narya's origins trace back to ancient times wh...</td>\n",
       "      <td>5.0</td>\n",
       "      <td>1.609438</td>\n",
       "      <td>8</td>\n",
       "      <td>1826</td>\n",
       "      <td>e</td>\n",
       "      <td>d</td>\n",
       "    </tr>\n",
       "    <tr>\n",
       "      <th>256</th>\n",
       "      <td>Chosen Undead</td>\n",
       "      <td>After becoming an undead the player character ...</td>\n",
       "      <td>21.0</td>\n",
       "      <td>3.044522</td>\n",
       "      <td>13</td>\n",
       "      <td>6980</td>\n",
       "      <td>e</td>\n",
       "      <td>c</td>\n",
       "    </tr>\n",
       "    <tr>\n",
       "      <th>1036</th>\n",
       "      <td>Solomon Kane</td>\n",
       "      <td>Solomon Kane was raised a Puritan, a heresy th...</td>\n",
       "      <td>4.0</td>\n",
       "      <td>1.386294</td>\n",
       "      <td>12</td>\n",
       "      <td>1596</td>\n",
       "      <td>e</td>\n",
       "      <td>d</td>\n",
       "    </tr>\n",
       "    <tr>\n",
       "      <th>350</th>\n",
       "      <td>Doctor Sivana</td>\n",
       "      <td>Thadeus Bodog Sivana is evil through and throu...</td>\n",
       "      <td>14.0</td>\n",
       "      <td>2.639057</td>\n",
       "      <td>13</td>\n",
       "      <td>2754</td>\n",
       "      <td>e</td>\n",
       "      <td>c</td>\n",
       "    </tr>\n",
       "    <tr>\n",
       "      <th>413</th>\n",
       "      <td>Feral</td>\n",
       "      <td>The mutant known as Feral grew up in a New Yor...</td>\n",
       "      <td>4.0</td>\n",
       "      <td>1.386294</td>\n",
       "      <td>5</td>\n",
       "      <td>2859</td>\n",
       "      <td>e</td>\n",
       "      <td>d</td>\n",
       "    </tr>\n",
       "    <tr>\n",
       "      <th>798</th>\n",
       "      <td>Monstrox</td>\n",
       "      <td>The Book of Monsters was formerly a necromance...</td>\n",
       "      <td>126.0</td>\n",
       "      <td>4.836282</td>\n",
       "      <td>8</td>\n",
       "      <td>4021</td>\n",
       "      <td>c</td>\n",
       "      <td>a</td>\n",
       "    </tr>\n",
       "    <tr>\n",
       "      <th>820</th>\n",
       "      <td>Negasonic Teenage Warhead (FOX</td>\n",
       "      <td>Ellie Phimister, more known as Negasonic Teena...</td>\n",
       "      <td>5.0</td>\n",
       "      <td>1.609438</td>\n",
       "      <td>30</td>\n",
       "      <td>209</td>\n",
       "      <td>e</td>\n",
       "      <td>d</td>\n",
       "    </tr>\n",
       "    <tr>\n",
       "      <th>635</th>\n",
       "      <td>Kathryn Janeway</td>\n",
       "      <td>Janeway notable for being the first female of ...</td>\n",
       "      <td>6.0</td>\n",
       "      <td>1.791759</td>\n",
       "      <td>15</td>\n",
       "      <td>233</td>\n",
       "      <td>e</td>\n",
       "      <td>d</td>\n",
       "    </tr>\n",
       "  </tbody>\n",
       "</table>\n",
       "</div>"
      ],
      "text/plain": [
       "                               _name  \\\n",
       "657                  King Shark (CW)   \n",
       "948                     Rick Sanchez   \n",
       "518                       Highfather   \n",
       "1130                 The Thing (FOX)   \n",
       "138                        Big Daddy   \n",
       "416                   Firefist (FOX)   \n",
       "546                           Iceman   \n",
       "953                   Robin (Titans)   \n",
       "53                        Animal Man   \n",
       "912                     Qui-Gon Jinn   \n",
       "116                  Batman (Arkham)   \n",
       "678                   Lady Blackhawk   \n",
       "1033                        Snowbird   \n",
       "256                    Chosen Undead   \n",
       "1036                    Solomon Kane   \n",
       "350                    Doctor Sivana   \n",
       "413                            Feral   \n",
       "798                         Monstrox   \n",
       "820   Negasonic Teenage Warhead (FOX   \n",
       "635                  Kathryn Janeway   \n",
       "\n",
       "                                           history_text  _score  _log_score  \\\n",
       "657   Shay Lamden, nicknamed King Shark by Patty Spi...    13.0    2.564949   \n",
       "948   Rick Sanchez is the co-eponymous main characte...    19.0    2.944439   \n",
       "518   Izaya, at this point known as Izaya the Inheri...    38.0    3.637586   \n",
       "1130  Ben Grimm is the best friend of scientist Reed...     6.0    1.791759   \n",
       "138   Damon Macready was a comic book geek and an ac...     3.0    1.098612   \n",
       "416   Russell grew up in the Essex House for Mutant ...     7.0    1.945910   \n",
       "546     Robert \"Bobby\" Louis Drake was born in Flora...    10.0    2.302585   \n",
       "953   Jason was born to a man and a woman, though th...     5.0    1.609438   \n",
       "53    In his late teens, Buddy was a happy hellraisi...     7.0    1.945910   \n",
       "912   Qui-Gon Jinn was a male human born on the gala...    13.0    2.564949   \n",
       "116   When his parents were gunned down in front of ...    12.0    2.484907   \n",
       "678   Zinda Blake, or Lady Blackhawk, was a member o...     7.0    1.945910   \n",
       "1033  Narya's origins trace back to ancient times wh...     5.0    1.609438   \n",
       "256   After becoming an undead the player character ...    21.0    3.044522   \n",
       "1036  Solomon Kane was raised a Puritan, a heresy th...     4.0    1.386294   \n",
       "350   Thadeus Bodog Sivana is evil through and throu...    14.0    2.639057   \n",
       "413   The mutant known as Feral grew up in a New Yor...     4.0    1.386294   \n",
       "798   The Book of Monsters was formerly a necromance...   126.0    4.836282   \n",
       "820   Ellie Phimister, more known as Negasonic Teena...     5.0    1.609438   \n",
       "635   Janeway notable for being the first female of ...     6.0    1.791759   \n",
       "\n",
       "      _len_name  _len_history_text _cat _log_cat  \n",
       "657          15               1212    e        c  \n",
       "948          12                253    e        c  \n",
       "518          10               3086    e        b  \n",
       "1130         15               6943    e        d  \n",
       "138           9                788    e        d  \n",
       "416          14               3422    e        d  \n",
       "546           6              18422    e        c  \n",
       "953          14                554    e        d  \n",
       "53           10              12897    e        d  \n",
       "912          12                943    e        c  \n",
       "116          15                864    e        c  \n",
       "678          14                183    e        d  \n",
       "1033          8               1826    e        d  \n",
       "256          13               6980    e        c  \n",
       "1036         12               1596    e        d  \n",
       "350          13               2754    e        c  \n",
       "413           5               2859    e        d  \n",
       "798           8               4021    c        a  \n",
       "820          30                209    e        d  \n",
       "635          15                233    e        d  "
      ]
     },
     "execution_count": 13,
     "metadata": {},
     "output_type": "execute_result"
    }
   ],
   "source": [
    "df_samp = df.sample(20)\n",
    "df_samp"
   ]
  },
  {
   "cell_type": "code",
   "execution_count": 14,
   "id": "8dd449ca",
   "metadata": {
    "ExecuteTime": {
     "end_time": "2022-06-27T14:43:12.878741Z",
     "start_time": "2022-06-27T14:43:12.871347Z"
    },
    "scrolled": false
   },
   "outputs": [
    {
     "name": "stdout",
     "output_type": "stream",
     "text": [
      "name : King Shark (CW), score/log_score : 13.0/2.56, len_txt :1212, history:\n",
      "\tShay Lamden, nicknamed King Shark by Patty Spivot, is a meta-human with the physical characteristics of a human and a shark. He was hired by Zoom to take out Earth-1's Flash, only to be brought down by Harry Wells and captured and imprisoned by A.R.G.U.S. Though Shay eventually escaped, he was defe...\n",
      "\n",
      "\n",
      "name : Rick Sanchez, score/log_score : 19.0/2.94, len_txt :253, history:\n",
      "\tRick Sanchez is the co-eponymous main character and leading protagonist of the show. He is a genius scientist whose alcoholism and reckless, nihilistic behavior are a source of concern for his daughter's family, as well as the safety of their son, Morty...\n",
      "\n",
      "\n",
      "name : Highfather, score/log_score : 38.0/3.64, len_txt :3086, history:\n",
      "\tIzaya, at this point known as Izaya the Inheritor, was a warrior of New Genesis, husband of Avia, and father of the boy who would become Scott Free. He and his wife were ambushed by Steppenwolf, his nephew Darkseid, and the warriors of Apokolips, during which attack, Avia was slain. He was found in...\n",
      "\n",
      "\n",
      "name : The Thing (FOX), score/log_score : 6.0/1.79, len_txt :6943, history:\n",
      "\tBen Grimm is the best friend of scientist Reed Richards. When Reed faces bankruptcy, he helps him to convince Victor von Doom, to finance his experiment, which is made to prove that evolution has been caused by special space rays. Victor accepts, granting for himself the most of the experiment's pr...\n",
      "\n",
      "\n",
      "name : Big Daddy, score/log_score : 3.0/1.1, len_txt :788, history:\n",
      "\tDamon Macready was a comic book geek and an accountant living a boring life with a wife who hated him. Trying to change his life, he took his daughter and created a super heroic alter ego: Big Daddy. But every hero needs a villain and Johnny G suited the role.  Big Daddy trained his daughter as the...\n",
      "\n",
      "\n",
      "name : Firefist (FOX), score/log_score : 7.0/1.95, len_txt :3422, history:\n",
      "\tRussell grew up in the Essex House for Mutant Rehabilitation where he was tortured by the headmaster of the orphanage simply for being a mutant. This sparks the anger in him, causing him to want revenge. Eventually, Russell snaps and lets loose with his pyrokinetic powers. The X-Men – Colossus, Dea...\n",
      "\n",
      "\n",
      "name : Iceman, score/log_score : 10.0/2.3, len_txt :18422, history:\n",
      "\tRobert \"Bobby\" Louis Drake was born in Floral Park, Long Island, New York to William Robert Drake and Madeline Beatrice Bass-Drake. Bobby is Jewish on his mother's side and Irish Catholic on his father's. Bobby first discovered his mutant abilities at a young age when he found himself unable to sto...\n",
      "\n",
      "\n",
      "name : Robin (Titans), score/log_score : 5.0/1.61, len_txt :554, history:\n",
      "\tJason was born to a man and a woman, though they quickly neglected him and left him with his uncle Ray. His uncle frequently took him to bars, but his uncle's drunken antics had them kicked out on multiple occasions. As a child, Jason read about the vigilante, Robin. In around 2012, Ray overdosed, ...\n",
      "\n",
      "\n",
      "name : Animal Man, score/log_score : 7.0/1.95, len_txt :12897, history:\n",
      "\tIn his late teens, Buddy was a happy hellraising punk rocker. One fall afternoon he went hunting in the Adirondack Mountains... and when he returned home, he had changed. Whatever it was, something in the woods had connected him to what is variously referred to as the Red, the Lifeweb, or the Morph...\n",
      "\n",
      "\n",
      "name : Qui-Gon Jinn, score/log_score : 13.0/2.56, len_txt :943, history:\n",
      "\tQui-Gon Jinn was a male human born on the galactic capital of Coruscant.Identified as a Force-sensitive, he was taken for training by the Jedi Order and was assigned as a Padawan to Jedi Master Dooku, from whom he learned the ways of the Force.Jinn went on to become a Jedi Master in his own right, ...\n",
      "\n",
      "\n",
      "name : Batman (Arkham), score/log_score : 12.0/2.48, len_txt :864, history:\n",
      "\tWhen his parents were gunned down in front of him, young Bruce Wayne resolved to rid Gotham City of the criminal element that took their lives. He trained extensively to achieve mental and physical perfection, in addition to mastering martial arts, detective techniques, and criminal psychology. Whe...\n",
      "\n",
      "\n",
      "name : Lady Blackhawk, score/log_score : 7.0/1.95, len_txt :183, history:\n",
      "\tZinda Blake, or Lady Blackhawk, was a member of the World War II aviator team the Blackhawk Squadron, and after being displaced in time during Zero Hour, she joined the Birds of Prey....\n",
      "\n",
      "\n",
      "name : Snowbird, score/log_score : 5.0/1.61, len_txt :1826, history:\n",
      "\tNarya's origins trace back to ancient times when the Eskimo Gods of the North battled the mystical Great Beasts for the fate of the world. Ultimately both parties were exiled from Earth, and as such the Gods sought to create an agent to prevent the Beasts' return. To that end, Nelvanna, goddess of ...\n",
      "\n",
      "\n",
      "name : Chosen Undead, score/log_score : 21.0/3.04, len_txt :6980, history:\n",
      "\tAfter becoming an undead the player character was imprisoned in the Northern Undead Asylum. They are rescued by Oscar of Astora, who drops a key into the player's cell so that they may be freed. After escaping from the Asylum Demon, they encounter a fatally wounded Oscar, who tells the player about...\n",
      "\n",
      "\n",
      "name : Solomon Kane, score/log_score : 4.0/1.39, len_txt :1596, history:\n",
      "\tSolomon Kane was raised a Puritan, a heresy that was actively hunted by the royalty. Faced with this, he chose the traveller's way. Thus, as was natural for an Englishman in those times, he took the sea. Kane travelled extensively in India and China, although his first chronicled adventures took pl...\n",
      "\n",
      "\n",
      "name : Doctor Sivana, score/log_score : 14.0/2.64, len_txt :2754, history:\n",
      "\tThadeus Bodog Sivana is evil through and through, and always has been. He is an archenemy of Captain Marvel, having caused the hero much trouble over many years. A scientific genius, his vanity is often his undoing. Thaddeus Bodog Sivana,born in 1892, began with the best intentions and was one of E...\n",
      "\n",
      "\n",
      "name : Feral, score/log_score : 4.0/1.39, len_txt :2859, history:\n",
      "\tThe mutant known as Feral grew up in a New York City tenement as Maria Callasantos. She had an older sister, Maria, who would also prove to be a mutant, a younger brother, Matteo, and a younger sister, Carolina. Their father beat his wife and abandoned the family after the birth of Carolina, the yo...\n",
      "\n",
      "\n",
      "name : Monstrox, score/log_score : 126.0/4.84, len_txt :4021, history:\n",
      "\tThe Book of Monsters was formerly a necromancer named Monstrox, who terrorized Knighton with his dark sorcery. Once having been a member of the Wizards' Council and ally to the likes of Merlok, he discovered the Forbidden Powers. The forbidden powers drove him mad and corrupted him as he experiment...\n",
      "\n",
      "\n",
      "name : Negasonic Teenage Warhead (FOX, score/log_score : 5.0/1.61, len_txt :209, history:\n",
      "\tEllie Phimister, more known as Negasonic Teenage Warhead, is a mutant and a member of the X-Men, formerly under the tutelage of Colossus. She possess the mutant ability to detonate atomic bursts from her body....\n",
      "\n",
      "\n",
      "name : Kathryn Janeway, score/log_score : 6.0/1.79, len_txt :233, history:\n",
      "\tJaneway notable for being the first female of a starship and independently, and successfully, completing an unscheduled seven-year journey across the previously unexplored Delta Quadrant Kathryn Janeway is captain of the USS Voyager....\n",
      "\n",
      "\n"
     ]
    }
   ],
   "source": [
    "for idx, ser in df_samp.iterrows(): \n",
    "\n",
    "    _len = len(ser[\"history_text\"])\n",
    "    _score = round(ser['_score'], 2)\n",
    "    _log_score = round(ser['_log_score'], 2)\n",
    "    _txt = \"\\t\"+ser[\"history_text\"].strip()\n",
    "    txt_1 = f\"name : {ser['_name']}, score/log_score : {_score}/{_log_score}, len_txt :{_len}, history:\\n\"\n",
    "    \n",
    "    print(txt_1+_txt[:300]+ \"...\" + \"\\n\\n\")"
   ]
  },
  {
   "cell_type": "code",
   "execution_count": 15,
   "id": "77f5ed93",
   "metadata": {
    "ExecuteTime": {
     "end_time": "2022-06-27T14:43:12.887034Z",
     "start_time": "2022-06-27T14:43:12.883257Z"
    }
   },
   "outputs": [],
   "source": [
    "def print_sample(sub_df, n_samp=10, n_char=1000) : \n",
    "    \"\"\" \"\"\"\n",
    "    \n",
    "    if n_samp < len(sub_df): \n",
    "        df_samp = sub_df.sample(n_samp)\n",
    "    else : \n",
    "        df_samp = sub_df.copy()\n",
    "    \n",
    "    for idx, ser in df_samp.iterrows(): \n",
    "\n",
    "        _len = len(ser[\"history_text\"])\n",
    "        _score = round(ser['_score'], 2)\n",
    "        _log_score = round(ser['_log_score'], 2)\n",
    "        _txt = \"\\n\"+ser[\"history_text\"].strip()\n",
    "        txt_1 = f\"name : {ser['_name']}, score/log_score : {_score}/{_log_score}, len_txt :{_len}, history:\\n\"\n",
    "\n",
    "        print(txt_1+_txt[:n_char]+ \"...\" + \"\\n\\n\\n\")"
   ]
  },
  {
   "cell_type": "code",
   "execution_count": 16,
   "id": "2d7b8714",
   "metadata": {
    "ExecuteTime": {
     "end_time": "2022-06-27T14:43:12.897481Z",
     "start_time": "2022-06-27T14:43:12.888731Z"
    }
   },
   "outputs": [
    {
     "data": {
      "text/html": [
       "<div>\n",
       "<style scoped>\n",
       "    .dataframe tbody tr th:only-of-type {\n",
       "        vertical-align: middle;\n",
       "    }\n",
       "\n",
       "    .dataframe tbody tr th {\n",
       "        vertical-align: top;\n",
       "    }\n",
       "\n",
       "    .dataframe thead th {\n",
       "        text-align: right;\n",
       "    }\n",
       "</style>\n",
       "<table border=\"1\" class=\"dataframe\">\n",
       "  <thead>\n",
       "    <tr style=\"text-align: right;\">\n",
       "      <th></th>\n",
       "      <th>_name</th>\n",
       "      <th>history_text</th>\n",
       "      <th>_score</th>\n",
       "      <th>_log_score</th>\n",
       "      <th>_len_name</th>\n",
       "      <th>_len_history_text</th>\n",
       "      <th>_cat</th>\n",
       "      <th>_log_cat</th>\n",
       "    </tr>\n",
       "  </thead>\n",
       "  <tbody>\n",
       "    <tr>\n",
       "      <th>99</th>\n",
       "      <td>Aztar</td>\n",
       "      <td>Since the beginnings of human civilization the...</td>\n",
       "      <td>222.0</td>\n",
       "      <td>5.402677</td>\n",
       "      <td>5</td>\n",
       "      <td>3796</td>\n",
       "      <td>a</td>\n",
       "      <td>a</td>\n",
       "    </tr>\n",
       "    <tr>\n",
       "      <th>339</th>\n",
       "      <td>Devilman</td>\n",
       "      <td>Transformation Akira is first seen walking hom...</td>\n",
       "      <td>229.0</td>\n",
       "      <td>5.433722</td>\n",
       "      <td>8</td>\n",
       "      <td>27732</td>\n",
       "      <td>a</td>\n",
       "      <td>a</td>\n",
       "    </tr>\n",
       "    <tr>\n",
       "      <th>365</th>\n",
       "      <td>Dracula</td>\n",
       "      <td>The man later known as Dracula was originally...</td>\n",
       "      <td>211.0</td>\n",
       "      <td>5.351858</td>\n",
       "      <td>7</td>\n",
       "      <td>23504</td>\n",
       "      <td>a</td>\n",
       "      <td>a</td>\n",
       "    </tr>\n",
       "    <tr>\n",
       "      <th>459</th>\n",
       "      <td>Golden Ninja</td>\n",
       "      <td>Lloyd becomes the Golden Ninja, and fights the...</td>\n",
       "      <td>226.0</td>\n",
       "      <td>5.420535</td>\n",
       "      <td>12</td>\n",
       "      <td>266</td>\n",
       "      <td>a</td>\n",
       "      <td>a</td>\n",
       "    </tr>\n",
       "    <tr>\n",
       "      <th>469</th>\n",
       "      <td>Great Evil Beast</td>\n",
       "      <td>The Great Evil Beast was formed when God utter...</td>\n",
       "      <td>237.0</td>\n",
       "      <td>5.468060</td>\n",
       "      <td>16</td>\n",
       "      <td>5295</td>\n",
       "      <td>a</td>\n",
       "      <td>a</td>\n",
       "    </tr>\n",
       "  </tbody>\n",
       "</table>\n",
       "</div>"
      ],
      "text/plain": [
       "                _name                                       history_text  \\\n",
       "99              Aztar  Since the beginnings of human civilization the...   \n",
       "339          Devilman  Transformation Akira is first seen walking hom...   \n",
       "365           Dracula   The man later known as Dracula was originally...   \n",
       "459      Golden Ninja  Lloyd becomes the Golden Ninja, and fights the...   \n",
       "469  Great Evil Beast  The Great Evil Beast was formed when God utter...   \n",
       "\n",
       "     _score  _log_score  _len_name  _len_history_text _cat _log_cat  \n",
       "99    222.0    5.402677          5               3796    a        a  \n",
       "339   229.0    5.433722          8              27732    a        a  \n",
       "365   211.0    5.351858          7              23504    a        a  \n",
       "459   226.0    5.420535         12                266    a        a  \n",
       "469   237.0    5.468060         16               5295    a        a  "
      ]
     },
     "execution_count": 16,
     "metadata": {},
     "output_type": "execute_result"
    }
   ],
   "source": [
    "df_a = df[df._cat==\"a\"]\n",
    "df_a.head()"
   ]
  },
  {
   "cell_type": "code",
   "execution_count": 17,
   "id": "28663532",
   "metadata": {
    "ExecuteTime": {
     "end_time": "2022-06-27T14:43:12.902566Z",
     "start_time": "2022-06-27T14:43:12.898953Z"
    }
   },
   "outputs": [
    {
     "name": "stdout",
     "output_type": "stream",
     "text": [
      "name : Aztar, score/log_score : 222.0/5.4, len_txt :3796, history:\n",
      "\n",
      "Since the beginnings of human civilization the Spectre Force, or the Divine Wrath has patrolled the lands of man. Watching, waiting in the night for the unjustly killed, the murdered and the butchered. Then swift judgment gives bloody vengeance to the murderers. Since the birth of Christ, the Wrath has been bonded to a mortal host, to be its moral guide and anchor to humanity. In the twentieth century that anchor was detective Jim Corrigan. As the Spectre they were one of the most powerful beings in the universe.  If we are to believe the texts, three seconds after creation there was a rebellion in Paradise. A rebel band of angels led by Lucifer Morningstar attempted to wrestle control of Heaven from the Presence. As punishment they were cast out to the burning planes of Hell where they became the beings that mortal men know as demons. It is not always realized but is possible for demons of repent, one such repentant demon was Aztar. Coming before the gates of Heaven he found his way ...\n",
      "\n",
      "\n",
      "\n",
      "name : Devilman, score/log_score : 229.0/5.43, len_txt :27732, history:\n",
      "\n",
      "Transformation Akira is first seen walking home from his first day at his new school with Miki Makimura whose family he had recently moved in with. One the way however they are stopped by Ken, Go and Dosu-Roku three gang member, all of whom were all attracted to Miki and start teasing the two, Miki gets angered by them whilst Akira tries to keep everything cool, Miki slaps Ken and Meriken-Jo but is grabbed by a furious Dosu-Roku starts to try and undress her, whilst Akira is held back by the other two, luckily they are saved by the sudden and mysterious intervention of Ryo Asuka who threatens the gang with a highly illegal sawed-off shotgun. Ryo says that he needs to speak to Akira privately and Miki is forced to walk back by herself. On the way to Ryo's home, he reveals that his father committed suicide after killing his dog John and then attempted to kill Ryo, as they arrive at his home he tells Akira that his father had been possessed by a Demon. At first, Akira didn't believe his ...\n",
      "\n",
      "\n",
      "\n",
      "name : Dracula, score/log_score : 211.0/5.35, len_txt :23504, history:\n",
      "\n",
      "The man later known as Dracula was originally born Mathias Cronqvist. Sometime during the mid to late 11th century, he served in a company of knights alongside then Baron Leon Belmont. With Mathias's brilliant military strategies and Leon's skill with a sword, their company was unstoppable. Little is known of Mathias's early life or his family, save that they seem to have been longtime practitioners of Alchemy and had advanced further into the study than most alchemists could have ever dreamed. Mathias was very well educated and quite skilled in the art, though he never told Leon or any of the other compatriots of his knowledge, with the notable exception of Rinaldo Gandolfi, whom he had met at an unspecified time. Mathias married a woman named Elisabetha who he was deeply in love with. While away on a campaign against heathens in the east, Elisabetha died due to illness. Upon returning and learning of her death, Mathias was overtaken with despair so profound that he became bedridden,...\n",
      "\n",
      "\n",
      "\n",
      "name : Golden Ninja, score/log_score : 226.0/5.42, len_txt :266, history:\n",
      "\n",
      "Lloyd becomes the Golden Ninja, and fights the Overlord, in a battle that almost destroys Ninjago City. Using the power of the Golden Dragon, Lloyd summons the power necessary to defeat the dark lord, freeing Ninjago from his control and curing Garmadon of his evil....\n",
      "\n",
      "\n",
      "\n",
      "name : Great Evil Beast, score/log_score : 237.0/5.47, len_txt :5295, history:\n",
      "\n",
      "The Great Evil Beast was formed when God uttered the words \"Let There Be Light\" and came to embody all the darkness in creation as well as everything that opposed the light of the Presence (which is DC universe's version of God) - however despite its immense power the Great Evil Beast was still a newborn entity and thus was easily defeated by the Presence and contained within its own realm. When the events Crisis on Infinite Earths took place, a group of mystics named the Brujeria attempted an occult ritual designed to contact the Great Evil Beast but it went horribly wrong and the entity awoke as a furious beast, unable to grasp its power and becoming confused as to its existence. The Great Evil Beast would encounter Etrigan, Dr. Fate and the Spectre - Etrigan taught the entity that Darkness was Evil, Dr. Fate told the entity Evil was Despisable and the Spectre finally told the entity about the concept of revenge: these new lessons angered the Great Evil Beast despite the heroes bein...\n",
      "\n",
      "\n",
      "\n"
     ]
    }
   ],
   "source": [
    "print_sample(df_a)"
   ]
  },
  {
   "cell_type": "code",
   "execution_count": 18,
   "id": "e69fcc95",
   "metadata": {
    "ExecuteTime": {
     "end_time": "2022-06-27T14:43:12.908091Z",
     "start_time": "2022-06-27T14:43:12.903934Z"
    }
   },
   "outputs": [
    {
     "name": "stdout",
     "output_type": "stream",
     "text": [
      "name : Goblin Force, score/log_score : 169.0/5.13, len_txt :1953, history:\n",
      "\n",
      "The Goblin Force was born at the beginning of reality during the Big Bang. Like the Phoenix Force, it had limitless power, but unlike the Phoenix, it derived power from its ravenous hunger that couldn't be sated. Its hunger lead it to devour entire galaxies when it encountered the Phoenix Force, the Phoenix stood against it only to be consumed. Even Galactus, the devourer of worlds fell to the power of the Goblin Force's hunger. It wasn't until the 5th Host of the Celestials stood against the Goblin Force that it met defeat, though it wasn't destroyed. The Celestials eventually died from the battle, leaving the Goblin force only to be contained.  Many years later, the Goblin Force seized the opportunity to attach itself to the life force of Madelyne Pryor, making her its conduit into the world again, being reborn as the Goblin Queen through the corruption of Madelyne Pryor. As the Goblin Force gradually took over Madelyne's mind, it waged a war against Earth heroes, brainwashing most ...\n",
      "\n",
      "\n",
      "\n",
      "name : Nadakhan, score/log_score : 163.0/5.09, len_txt :1578, history:\n",
      "\n",
      "Nadakhan is the captain of the Sky Pirates, the owner of Misfortune's Keep, and the last living Djinn. Many years ago, he put together his crew and dominated the seas of Ninjago, until he was faced with a rival, Captain Soto. Soto trapped him in the Teapot of Tyrahn while his crew was marooned across the Sixteen Realms. Centuries later, upon the destruction of Djinjago, Nadakhan became the last of the Djinn. Shortly after the Battle of Stiix, Nadakhan was freed by Clouse; he set off to claim the Realm Crystal and reunite his crew. After learning of his lover's demise, and seeing the destruction of Djinjago as a result of the Ninjas' actions, Nadakhan's father gave him a mystical sword to capture the souls of his adversaries and tear Ninjago apart to rebuild Djinjago. In addition to this, he planned to marry Nya so he can grant himself unlimited wishes. Nadakhan's crew refurbished Misfortune's Keep and began rebuilding Djinjago in a series of landmasses above Ninjago City. In the ensui...\n",
      "\n",
      "\n",
      "\n",
      "name : The Keeper, score/log_score : 152.0/5.02, len_txt :3743, history:\n",
      "\n",
      "His origin is the same as the original Silver Surfer, he offered himself to become Galactus' herald to spare his homeworld. He still turned against his former master, was bound to Earth, \"won a pardon from the world devourer\", and left Earth to later return to find Earth being attacked by Martians. in a War of the Worlds. He ended up fighting alongside Dr. Franklin Richards, Captain America, and Dr. Doom against the Martian invaders. Eon had convinced him that it was Earth's Destiny to be conquered, and he left Earth, wracked with guilt, unable to accept his offer. Centuries later, he finally accepted Eon's offer to wear the Quantum Bands, as Protector of the Universe. While working for Eon, he was sent to Earth to defend it from Galactus once again. He first found Thor (Dargo Ktor), who mistook him for an enemy at first, \"but soon came to realize that our cause was the same.\" Meanwhile, the other former herald Firelord had intercepted a distress signal that was sent to Radd that his ...\n",
      "\n",
      "\n",
      "\n",
      "name : The Overlord, score/log_score : 165.0/5.11, len_txt :1187, history:\n",
      "\n",
      "Before Ninjago's creation, there were two kinds of beings with unfathomable power: the Oni and the Dragon. The Dragons had the power to create, while the Oni had the power to destroy; and so, they waged war against each other. One day, a child was born of both powers, the First Spinjitzu Master, who went on to create a world of light and darkness, these powers had been past down to him from their respective owners. From the shadows of the new world, the Overlord emerged. Risen to counterbalance the light of the land, the Overlord challenged the First Spinjitzu Master to a battle for control of Ninjago. The battle eventually ground into a stalemate, so the Overlord created the Stone Army to turn the tide in his favor. Realizing that he would be overcome, the First Spinjitzu Master used all of his strength to split Ninjago into two equal halves, which would later become two islands—one half remained as Ninjago, and the other became the Island of Darkness. This balanced the forces of lig...\n",
      "\n",
      "\n",
      "\n",
      "name : Unicron, score/log_score : 146.0/4.98, len_txt :2132, history:\n",
      "\n",
      "Unicron is the eternal arch-enemy of his twin brother Primus. Also known as the Lord of Chaos, the Chaos Bringer, and the Planet Eater, he is dedicated to consuming the multiverse. His massive form is powered by the consumption of planets, moons, stars, and even the very fabric of existence. Unicron will not be sated until his ultimate goal is attained: to bring an end to the annoying creation boasting independence around him, and find peace by becoming the living center of a swirling, infinite torrent of nothingness at the end of all things. To undertake this seemingly overwhelming task, Unicron is able to travel across realities at will, a meandering plague upon existence itself. Integrated into his systems are incomprehensible quantum computers which calculate probabilities forward and backwards in time, in perpetuity, giving his processors an ever changing, evolving map of the multiverse. With these abilities at his disposal, Unicron has thus far devoured approximately 22.56% of k...\n",
      "\n",
      "\n",
      "\n"
     ]
    }
   ],
   "source": [
    "print_sample(df[df._cat==\"b\"])"
   ]
  },
  {
   "cell_type": "code",
   "execution_count": 19,
   "id": "0d57c2e9",
   "metadata": {
    "ExecuteTime": {
     "end_time": "2022-06-27T14:43:12.914182Z",
     "start_time": "2022-06-27T14:43:12.909419Z"
    }
   },
   "outputs": [
    {
     "name": "stdout",
     "output_type": "stream",
     "text": [
      "name : Goblin Force, score/log_score : 169.0/5.13, len_txt :1953, history:\n",
      "\n",
      "The Goblin Force was born at the beginning of reality during the Big Bang. Like the Phoenix Force, it had limitless power, but unlike the Phoenix, it derived power from its ravenous hunger that couldn't be sated. Its hunger lead it to devour entire galaxies when it encountered the Phoenix Force, the Phoenix stood against it only to be consumed. Even Galactus, the devourer of worlds fell to the power of the Goblin Force's hunger. It wasn't until the 5th Host of the Celestials stood against the Goblin Force that it met defeat, though it wasn't destroyed. The Celestials eventually died from the battle, leaving the Goblin force only to be contained.  Many years later, the Goblin Force seized the opportunity to attach itself to the life force of Madelyne Pryor, making her its conduit into the world again, being reborn as the Goblin Queen through the corruption of Madelyne Pryor. As the Goblin Force gradually took over Madelyne's mind, it waged a war against Earth heroes, brainwashing most ...\n",
      "\n",
      "\n",
      "\n",
      "name : Nadakhan, score/log_score : 163.0/5.09, len_txt :1578, history:\n",
      "\n",
      "Nadakhan is the captain of the Sky Pirates, the owner of Misfortune's Keep, and the last living Djinn. Many years ago, he put together his crew and dominated the seas of Ninjago, until he was faced with a rival, Captain Soto. Soto trapped him in the Teapot of Tyrahn while his crew was marooned across the Sixteen Realms. Centuries later, upon the destruction of Djinjago, Nadakhan became the last of the Djinn. Shortly after the Battle of Stiix, Nadakhan was freed by Clouse; he set off to claim the Realm Crystal and reunite his crew. After learning of his lover's demise, and seeing the destruction of Djinjago as a result of the Ninjas' actions, Nadakhan's father gave him a mystical sword to capture the souls of his adversaries and tear Ninjago apart to rebuild Djinjago. In addition to this, he planned to marry Nya so he can grant himself unlimited wishes. Nadakhan's crew refurbished Misfortune's Keep and began rebuilding Djinjago in a series of landmasses above Ninjago City. In the ensui...\n",
      "\n",
      "\n",
      "\n",
      "name : The Keeper, score/log_score : 152.0/5.02, len_txt :3743, history:\n",
      "\n",
      "His origin is the same as the original Silver Surfer, he offered himself to become Galactus' herald to spare his homeworld. He still turned against his former master, was bound to Earth, \"won a pardon from the world devourer\", and left Earth to later return to find Earth being attacked by Martians. in a War of the Worlds. He ended up fighting alongside Dr. Franklin Richards, Captain America, and Dr. Doom against the Martian invaders. Eon had convinced him that it was Earth's Destiny to be conquered, and he left Earth, wracked with guilt, unable to accept his offer. Centuries later, he finally accepted Eon's offer to wear the Quantum Bands, as Protector of the Universe. While working for Eon, he was sent to Earth to defend it from Galactus once again. He first found Thor (Dargo Ktor), who mistook him for an enemy at first, \"but soon came to realize that our cause was the same.\" Meanwhile, the other former herald Firelord had intercepted a distress signal that was sent to Radd that his ...\n",
      "\n",
      "\n",
      "\n",
      "name : The Overlord, score/log_score : 165.0/5.11, len_txt :1187, history:\n",
      "\n",
      "Before Ninjago's creation, there were two kinds of beings with unfathomable power: the Oni and the Dragon. The Dragons had the power to create, while the Oni had the power to destroy; and so, they waged war against each other. One day, a child was born of both powers, the First Spinjitzu Master, who went on to create a world of light and darkness, these powers had been past down to him from their respective owners. From the shadows of the new world, the Overlord emerged. Risen to counterbalance the light of the land, the Overlord challenged the First Spinjitzu Master to a battle for control of Ninjago. The battle eventually ground into a stalemate, so the Overlord created the Stone Army to turn the tide in his favor. Realizing that he would be overcome, the First Spinjitzu Master used all of his strength to split Ninjago into two equal halves, which would later become two islands—one half remained as Ninjago, and the other became the Island of Darkness. This balanced the forces of lig...\n",
      "\n",
      "\n",
      "\n",
      "name : Unicron, score/log_score : 146.0/4.98, len_txt :2132, history:\n",
      "\n",
      "Unicron is the eternal arch-enemy of his twin brother Primus. Also known as the Lord of Chaos, the Chaos Bringer, and the Planet Eater, he is dedicated to consuming the multiverse. His massive form is powered by the consumption of planets, moons, stars, and even the very fabric of existence. Unicron will not be sated until his ultimate goal is attained: to bring an end to the annoying creation boasting independence around him, and find peace by becoming the living center of a swirling, infinite torrent of nothingness at the end of all things. To undertake this seemingly overwhelming task, Unicron is able to travel across realities at will, a meandering plague upon existence itself. Integrated into his systems are incomprehensible quantum computers which calculate probabilities forward and backwards in time, in perpetuity, giving his processors an ever changing, evolving map of the multiverse. With these abilities at his disposal, Unicron has thus far devoured approximately 22.56% of k...\n",
      "\n",
      "\n",
      "\n"
     ]
    }
   ],
   "source": [
    "print_sample(df[df._cat==\"b\"])"
   ]
  },
  {
   "cell_type": "code",
   "execution_count": 20,
   "id": "5b0dda09",
   "metadata": {
    "ExecuteTime": {
     "end_time": "2022-06-27T14:43:12.919732Z",
     "start_time": "2022-06-27T14:43:12.915649Z"
    }
   },
   "outputs": [
    {
     "name": "stdout",
     "output_type": "stream",
     "text": [
      "name : Destruction Of The Endless, score/log_score : 112.0/4.72, len_txt :97, history:\n",
      "\n",
      "Destruction is the fourth eldest of the Endless. He is the embodiment of destruction and creation...\n",
      "\n",
      "\n",
      "\n",
      "name : Doctor Strange (Classic), score/log_score : 120.0/4.79, len_txt :38541, history:\n",
      "\n",
      "Stephen Strange was born to Eugene and Beverly Strange in 1930 while the couple was vacationing in Philadelphia. In 1932 Stephen's sister Donna was born at the family's Nebraska farm. Knowing that Strange was destined to become the next Sorcerer Supreme, resentful apprentice sorcerer Karl Mordo beset the child with demons from the age of eight, and on throughout his youth. Ultimately Strange was rescued by Mordo's master, the Ancient One, mystic protector of the Earth-realm as the current Sorcerer Supreme. A year or two after this torment began, Stephen's brother, Victor, was born. At age eleven Strange aided an injured Donna, an experience which ultimately fostered an interest in medicine. Strange entered New York College as a pre-med directly out of high school. Later, while home on vacation for his nineteenth birthday, Strange was swimming with Donna when she suffered a cramp. After a frantic search Stephen found her already drowned. The experience left him with a sense of personal...\n",
      "\n",
      "\n",
      "\n",
      "name : Dormammu, score/log_score : 142.0/4.96, len_txt :22389, history:\n",
      "\n",
      "Born untold thousands or even millions of years ago in the dimension of the vastly powerful energy-entities called the Faltine, Dormammu and his sibling Umar gathered matter to themselves to increase their power, a practice anathema to their fellow Faltine, becoming their dimension's mightiest sorcerers. Ultimately slaying their parent Sinifer, they were driven from their home dimension, the Faltine deeming their garnering of such energy intolerable, and assumed human form to explore others. Their search for conquests brought them to the Dark Dimension, a mystic realm riddled with natural warps into pocket universes within the dimension itself. At the time of their arrival, the Dark Dimension’s multi-species society had been at peace for almost 28,000 years and was in the third millennium of the rule of King Olnar. Despite the warnings of his sorcerer advisors the Mhuruuks, Olnar offered Dormammu and Umar sanctuary and power in exchange for the knowledge of how to shatter dimensional ...\n",
      "\n",
      "\n",
      "\n",
      "name : Dr Manhattan, score/log_score : 124.0/4.82, len_txt :10602, history:\n",
      "\n",
      "Jonathan Osterman was born in 1929. His father was a watchmaker, and Jon planned to follow in his footsteps. When the US drops the atomic bomb on Hiroshima, Jon is sixteen. His father, confronted with the undeniable facts of the theory of relativity, declares his profession outdated and throws his son's watch-making parts out the windows, urging him to instead pursue a career studying nuclear physics. The incident represents the turning point in Jon's potential future from watchmaker to nuclear physicist and foreshadows Doctor Manhattan's 'exterior' perception of time as predetermined and all things within it as so determined, including Doctor Manhattan's own reactions and emotions.  Jon Osterman attends Princeton University from 1948-58 and graduates with a Ph.D. in atomic physics. In early 1959, he moves to a research base at Gila Flats, where experiments are being performed concerning the 'intrinsic fields' of physical objects which, if tampered with, result in their disintegration...\n",
      "\n",
      "\n",
      "\n",
      "name : Monstrox, score/log_score : 126.0/4.84, len_txt :4021, history:\n",
      "\n",
      "The Book of Monsters was formerly a necromancer named Monstrox, who terrorized Knighton with his dark sorcery. Once having been a member of the Wizards' Council and ally to the likes of Merlok, he discovered the Forbidden Powers. The forbidden powers drove him mad and corrupted him as he experimented with dark magic. He then chose to use the forbidden powers and his dark magic to wreck havoc across the land. The Council was left with no other choice but to expel him from the council and end his reign of terror, and so Merlok set out to defeat Monstrox. After Merlok had turned his original army into stone, shrinking his castle to be placed inside a snow globe, Monstrox vowed revenge against Merlok. The good wizard Merlok eventually defeated Monstrox by turning him into a book, dividing most of his evil power among eleven other spell books, believing that he could control him and his powers. Although he knew that destroying the spell books would ensure Monstrox's eternal defeat, Merlok ...\n",
      "\n",
      "\n",
      "\n",
      "name : Omega, score/log_score : 108.0/4.68, len_txt :724, history:\n",
      "\n",
      "When garmadon and Lloyd were about to destroy the Realm Crystal, he manifested from the shadows and fought them. Backing the pair into a corner, he then told them his identity as The Omega, the bringer of doom. He demanded to know if Lloyd and Garmadon were the protectors of Ninjago, to which Lloyd said he was, and that Garmadon replied that while usually he fought against the Ninja, today he too protected his homeland. Confused, The Omega asked why he, an Oni hybrid, would side with the realm. Garmadon quickly snapped that he would only have himself take over Ninjago, and not \"some Oni usurper with a Walking Stick\". Angered, The Omega then declared that Garmadon would perish with the realm he said he would defend....\n",
      "\n",
      "\n",
      "\n",
      "name : One-Above-All, score/log_score : 125.0/4.83, len_txt :1291, history:\n",
      "\n",
      "Undoubtedly the most mysterious character within the Marvel Multiverse. The One-Above-All has only appeared and been mentioned a few times. He is not to be confused with One Above All, the leader of the Celestials, or any religious figures. The One-Above-All was first mentioned by the Living Tribunal when Doctor Strange first encountered the entity. The-One-Above-All is often unofficially cited as Marvel's creator.   When his final confrontation with Asteroth nearly left him dead, Beta Ray Bill was restored to life by a mysterious, glowing white-robed man (who was clearly one of the more anonymous representations of The One-Above-All.)   When the Fantastic Four journeyed far beyond the boundaries of existence they ended up in The One-Above-All's personal realm where he took the form of Jack Kirby. After a short conversation with him The One-Above-All healed Reed's severely damaged face and sent them all home.   The One-Above-All's was seen taking the guise of a homeless man and was ad...\n",
      "\n",
      "\n",
      "\n"
     ]
    }
   ],
   "source": [
    "print_sample(df[df._cat==\"c\"])"
   ]
  },
  {
   "cell_type": "code",
   "execution_count": 21,
   "id": "7c2c7dc6",
   "metadata": {
    "ExecuteTime": {
     "end_time": "2022-06-27T14:43:12.926247Z",
     "start_time": "2022-06-27T14:43:12.921301Z"
    }
   },
   "outputs": [
    {
     "name": "stdout",
     "output_type": "stream",
     "text": [
      "name : Imperiex, score/log_score : 87.0/4.47, len_txt :854, history:\n",
      "\n",
      "The embodiment of entropy, Imperiex takes the form of pure energy contained inside a humanoid set of armor, colossal in size. He was first seen when Mongul, the son of the deceased villain of the same name, arrived on Earth stating that Imperiex had destroyed Warworld and was heading for Earth. Mongul convinced Superman to help him fight Imperiex, and the two managed to defeat it. However, it transpired that the \"Imperiex\" they had encountered was no more than a probe, whereas Imperiex Prime, leader of the Imperieces, was himself a much larger and more powerful being. He had detected imperfections in the fabric of the universe, and his ultimate plan was to destroy it and create a new, perfect one. To do so, Imperiex Prime headed for Earth, the planet which held the universe together, in order to destroy it and therefore induce a new Big Bang....\n",
      "\n",
      "\n",
      "\n",
      "name : John Constantine (Power Of Shazam), score/log_score : 82.0/4.41, len_txt :2007, history:\n",
      "\n",
      "Trinity War About one year after he had first arrived in New York, Constantine was alerted to the fact that a magical artifact - Croyden's Compass - was being targeted by the evil magical organization he had fought in the past - the Cult of the Cold Flame. After going on a world tour for its pieces and fighting a few high ranking members of the Cult, Constantine successfully destroyed the compass and returned to New York. Upon his return to America, Constantine walked into a conflict when the mysterious Pandora attempted to contact heroes and villains she thought might be able to open her box. Constantine had his own plans though and, knowing that if the hero Shazam were to touch Pandora's Box, it would disrupt all the magic in the universe, temporarily stole Shazam's powers away from him. With the powers of Shazam at his fingertips, Constantine was ambushed and defeated a member of the Cult of the Cold Flame before having to return his powers back to Billy. Mortally wounded from batt...\n",
      "\n",
      "\n",
      "\n",
      "name : Black Hand, score/log_score : 80.0/4.38, len_txt :14224, history:\n",
      "\n",
      "History Black Hand (real name, William Hand) is a supervillain and an enemy of Green Lantern. He uses a device that allows him to drain the powers of a Green Lantern Ring, and use them for himself. Having trained himself extensively, he is a criminal mastermind who keeps an extensive journal of all of his methods on his person to refer to instantly at any point. He has a fondness for incorporating the themes of old clichés into his work. Later, after being subjected to alien experiments, he gained the power to completely drain the life force from those around him. His obsession with death proves not to be just a hobby, but a life calling. He has been chosen through Guardian Scar to act as the physical embodiment of death on the emotional electromagnetic spectrum, the herald of Nekron. After killing himself and becoming reanimated, he has become the leader of the Black Lantern Corps during Blackest Night. Origins Growing up as part of the wealthy and respectable Hand family in Coastvil...\n",
      "\n",
      "\n",
      "\n",
      "name : Obito Uchiha, score/log_score : 65.0/4.17, len_txt :772, history:\n",
      "\n",
      "Obito Uchiha was a member of Konohagakure's Uchiha clan. He was believed to have died during the Third Shinobi World War, his only surviving legacy being the Sharingan he gave to his teammate, Kakashi Hatake. In truth, Obito was saved from death and trained by Madara Uchiha, but the events of the war left Obito disillusioned with reality, and he inherited Madara's plan to create an ideal world. Resurfacing under the names of Tobi and Madara Uchiha himself, Obito subtly took control of the Akatsuki, using them as a means to advance his machinations, eventually going public and starting the Fourth Shinobi World War. However, towards the war's conclusion, Obito had a change of heart and, as atonement, sacrificed his life to save the same world he sought to replace....\n",
      "\n",
      "\n",
      "\n",
      "name : Doom Slayer, score/log_score : 71.0/4.26, len_txt :11476, history:\n",
      "\n",
      "In the time of King Novik, as the Argenta secured peace and safety through dimensions across time and space, Doomguy is found by the Night Sentinels in a valley outside the castle walls on Sentinel Prime. How he arrived is unknown. Sentinel scouts had found the Outlander bloodied, clawed and near death, mumbling of impending Doom and the forces of Darkness. The scent of blood followed him, and the gore that stained his armor seemed not entirely of his own. By Argenta law, he would be judged in the Coliseum, where he would be given the chance of all who stray from the Path to fight for his freedom. His mind seemed crippled with rage. His will overcame his injuries, and in the Blood Arena, he proved his worth. His technique was crude and brutal, but the determination in his charge echoed that of any trueborn Sentinel. His war cry echoed through the Coliseum as did the sound of his fury, and the guards cheered his banner, 'Rip and Tear' they shouted as the beast pushed beyond mortal woun...\n",
      "\n",
      "\n",
      "\n",
      "name : Iron Man (Sorceror Supreme), score/log_score : 60.0/4.09, len_txt :1243, history:\n",
      "\n",
      "Tony Stark and a group of individuals convinced the leaders of the world's governments to give them the money allocated to their military. After making the world a better place, including inducing global peace with a World Energy Shield, Stark became the Sorcerer Supreme of the entire galaxy by the year 2099 A.D. Tempus When Tempus traveled to the year 2099, thinking it was her husband and her daughter's reality, Earth-TRN640, she went to the Sanctum Sanctorum where she met Anthony Stark. He revealed to her that her family's timeline was erased from existence and that she could never go back. He took her to Tabula Rasa, where he convinced her to return to her real time. Iron Man Tony was able to reach out to the past and contact Victor von Doom, the Iron Man of that time. He warned him to give up the Iron Man mantle before he was captured, but lost connection before he could elaborate on the circumstances. Ironheart The Next Avengers delivered Ironheart, who was visiting their time in...\n",
      "\n",
      "\n",
      "\n",
      "name : Thor (Odin Force), score/log_score : 83.0/4.42, len_txt :7165, history:\n",
      "\n",
      "Thor has traveled across the realms, battling all enemies of Asgard and Earth, including the Death Goddess Hela and Olympian demigod Hercules. Though both Thor and Hercules fought on opposite sides during the Norwegian and Greek war in the year 1,000, they eventually teamed up and remain friendly rivals. It was his time on Earth leading the Vikings that began the Norwegian myth of the God of Thunder. In one iteration of Asgard, Thor's thirst for battle led him to break an Asgardian treaty with the Frost Giants, leading Odin to punish him; Odin sent him to Earth as Dr. Donald Blake. When Blake discovered that he is the Norse God of Thunder known as Thor and is reunited with Mjolnir, he chose to divide his time between his life as an ordinary human doctor and an immortal God. As Blake, he fell in love with the human Jane Foster. When he requested permission from Odin to marry her, Odin refused and told Thor he wasn't allowed to share his true identity with her. His affinity for Earth ha...\n",
      "\n",
      "\n",
      "\n",
      "name : Ghost Rider (King Of Hell), score/log_score : 57.0/4.04, len_txt :1079, history:\n",
      "\n",
      "King of Hell When Doctor Strange used magic to restore Las Vegas after its devastation, he accidentally opened a magical doorway that Mephisto used to invade Earth. Wong devised a plan to help him, and to this end assembled the Midnight Sons, among which was Ghost Rider. As part of Wong's plan to defeat Mephisto, Ghost Rider confronting him head-on. Just as they expected, Mephisto lifted Zarathos' curse from Johnny and killed him. Johnny's soul was sent to Hell, and he convinced Zarathos to help him in a journey to Mephisto's throne. Since it was vacant due to Mephisto's venture in Las Vegas, Johnny effortlessly usurped it and became the new king of Hell. Using his new authority, Blaze turned Mephisto's minions against him and freed the souls that were imprisoned. He additionally empowered Doctor Strange so that he could defeat Mephisto one-on-one. Even though Mephisto managed to escape and returned to Hell, Johnny defeated him with the help of an army of Spirits of Vengeance from acr...\n",
      "\n",
      "\n",
      "\n",
      "name : Darth Nox, score/log_score : 73.0/4.29, len_txt :1018, history:\n",
      "\n",
      "Darth Nox, real name Remowa Alucard, and also known by the callsign Rage, was a powerful Dark Last of the Sith that served the reconstituted Sith Empire during the Cold War and Galactic War. The heir of ancient Sith Lord Aloysius Kallig, Nox sought to restore the Kallig bloodline to greatness. Discovered as a slave of the Sith, Remowa started at the bottom of the ladder when she was chosen to be trained as an acolyte at the Academy on Korriban. As she succeeded in overcoming all of the trials imposed by the academy's masters and instructors, the heir of Kallig rose in the hierarchy, embracing the way of the Sith Inquisitor. During her rise to power, Remowa developed a bitter rivalry with Darth Thanaton, a powerful Dark Lord of the Sith and a member of the Empire's Dark Council. The antagonism between the two Sith was brought to an end when she defeated Thanaton on the very floor of the Council chamber, occupying his seat on the Dark Council, as the Dark Councilor heading the Sphere of...\n",
      "\n",
      "\n",
      "\n",
      "name : King Thanos, score/log_score : 78.0/4.36, len_txt :1950, history:\n",
      "\n",
      "This Thanos' life seemingly mirrors that of his younger self. As time went by, the heroes of Earth grew old and weak, but Thanos only grew stronger; his eternal quest to please Death leading him to kill almost every living thing in the known galaxy, and become the king of what had remained in his wake: nothing. Knowing that he had to die in order to be with Death, King Thanos gave a piece of the Time Stone to his servant, the Rider, and tasked him with going back in time to drag his younger self to the future so he could be killed by him after dealing with the Fallen One, the one being who had eluded him. The time-displaced Thanos soon started a fight with his older self for thinking he was a pretender, but ceased his attacks once King Thanos confirmed his identity by speaking the name his mother was going to give him before going insane: Dione. When the Fallen One arrived at King Thanos' palace with the Annihilation Wave at his back, King Thanos fought alongside his younger self and ...\n",
      "\n",
      "\n",
      "\n"
     ]
    }
   ],
   "source": [
    "print_sample(df[df._cat==\"d\"])"
   ]
  },
  {
   "cell_type": "code",
   "execution_count": 22,
   "id": "c258795a",
   "metadata": {
    "ExecuteTime": {
     "end_time": "2022-06-27T14:43:12.933341Z",
     "start_time": "2022-06-27T14:43:12.928016Z"
    }
   },
   "outputs": [
    {
     "name": "stdout",
     "output_type": "stream",
     "text": [
      "name : Katana, score/log_score : 6.0/1.79, len_txt :301, history:\n",
      "\n",
      "Tatsu Yamashiro is Katana, a Japanese sword-wielding superhero who has been a member of the Suicide Squad, the Outsiders, the Justice League of America and the Birds of Prey. Her primary weapon is her sword, \"Soultaker,\" which is said to capture the souls of anyone killed by it, including her husband...\n",
      "\n",
      "\n",
      "\n",
      "name : Thor Girl, score/log_score : 12.0/2.48, len_txt :3083, history:\n",
      "\n",
      "In the beginning of time, alien sorcerer X'Hoss foretells the creation of the Designate, who will help evolve sentient beings to the next level of existence. Billions of years later, Tarene is born. She is told about the fate of the evil Destroyer and together with others seeks a way to stop him. In the meantime, Thanos obtains X'Hoss' knowledge and destroys Tarene's home-world. She gains the help of Thor and Orikal in defeating the villain.  Tarene later transforms herself into an Asgardian goddess and becomes Thor's loyal ally, taking the name \"Thor Girl\" and the civilian identity of Jake Olson's 'cousin' Tara. She tries to assist Thor in his adventures, aiding him in his confrontations with Gladiator, Loki and Nullitor, but in a later battle against a revived Surtur she sacrifices nearly all of her cosmic powers to contribute the additional power needed to defeat him. Upon Odin's apparent death, Thor Girl loses most of her cosmic powers. She retains the powers she had as Thor Girl....\n",
      "\n",
      "\n",
      "\n",
      "name : Kid Flash II, score/log_score : 12.0/2.48, len_txt :833, history:\n",
      "\n",
      "Bart Allen is a teenage speedster and a member of the Flash Family who has gone by several code names. He was born in the 30th Century, the grandson of time-traveling speedster the Flash, although he returned to the past to continue his family's legacy. Because of his strange origins, he ages at an inconsistent rate. Originally, he took the name Impulse to reflect his impulsive nature, but later changed his alias to Kid Flash when he grew older. There was a brief period when he became The Flash after Infinite Crisis, but he was killed by the Rogues during Full Throttle. Later on, he was resurrected during Final Crisis through his connection to the Speed Force and has returned to his role as Kid Flash since then. Bart Allen has been a member of the New Titans, Young Justice, the Teen Titans, and the Legion of Super-Heroes....\n",
      "\n",
      "\n",
      "\n",
      "name : Spider-Ham, score/log_score : 8.0/2.08, len_txt :672, history:\n",
      "\n",
      "Peter Porker was born a spider (simply named Peter). Residing in the basement lab of May Porker, a slightly goofy animal scientist who had created \"the world's first atomic powered hairdryer,\" hoping that \"the introduction of nuclear fission into America's beauty salons\" would \"revolutionize the hair care industry\". After dousing her head with water and activating the dryer, May Porker accidentally irradiated herself, and in a fit of delusion, bit Peter, who then found himself transformed into an anthropomorphic swine much like May Porker herself. Running from the Porker homestead disoriented, Peter soon came to realize that he still retained a spider's abilities....\n",
      "\n",
      "\n",
      "\n",
      "name : Firestorm II (CW), score/log_score : 15.0/2.71, len_txt :1022, history:\n",
      "\n",
      "Jefferson \"Jax\" Jackson (born September 12, 1993) is a mechanic. After the death of Ronnie Raymond, he took his place as one half of the transmuted and conjoined meta-human called Firestorm alongside Martin Stein. Jax was then recruited by Rip Hunter on a mission to take down Vandal Savage; though Jax was initially unwilling to join the team, Stein, who was desperate to become a time traveler and knew that he couldn't be separated from Jax for long without his powers becoming unstable, drugged him and forced him to come along. Despite joining the team against his will, Jax later grew to like being part of the team, and he began to act as the mechanic of the Waverider as well as a member and the second-in-command of the Legends, a group of people dedicated to protecting the timeline from time criminals. After the death of Martin, Jax takes a leave of absence from the team with their blessing. Five years after leaving the Legends, Jax is happily married and has a daughter, Martina Jacks...\n",
      "\n",
      "\n",
      "\n",
      "name : Abomination, score/log_score : 22.0/3.09, len_txt :2611, history:\n",
      "\n",
      "Formerly known as Emil Blonsky, a spy of Soviet Yugoslavian origin working for the KGB, the Abomination gained his powers after receiving a dose of gamma radiation similar to that which transformed Bruce Banner into The Incredible Hulk. As a result he was permanently transformed into a massive green-skinned monster whose physical power was equivalent to, if not greater than, that of the Hulk. While he was able to maintain his normal level of self-control and intelligence after this transformation, he is unable to return to human form.Given his gamma-spawned origins, Blonsky blames his condition on Banner and his alter ego, the Hulk. The Abomination and the Hulk have clashed on numerous occasions, with Blonsky perpetually playing the role of the aggressor. Although Blonsky occasionally gains the upper hand in their battles, the Hulk manages to triumph in the end. But not always; the Abomination is one of the few who can lay claim to victory over the green-skinned goliath.In recent year...\n",
      "\n",
      "\n",
      "\n",
      "name : Rick Flag, score/log_score : 8.0/2.08, len_txt :3918, history:\n",
      "\n",
      "After the death of the original Rick Flag, the Suicide Squad was introduced to Richard Rogers Flag, who claimed to be his son. Young Rick headed a new, public team which included his girlfriend, Karin Grace, Dr. Hugh Evans, and Jess Bright. In one tragic mission in Cambodia they were pursued by a Yeti. Evans and Bright and the Yeti fell into a crevasse, presumably to their deaths. Bright survived, angered at being left behind.  Bright, frostbitten and near-death, was found by the Chinese who nursed him back to health. He then passed onto the Russians who transformed him into the bionic monster called Koshchei the Deathless. With his expertise in engineering, Bright assisted in the creation of the Rocket Red Brigade and lent a hand to the nation of Qurac in assembling their metahuman team, the Jihad. Grace also secretly bore Flag's son and placed him with an adoptive family. Later, Rick was sent to infiltrate the Forgotten Heroes as a spy for the government. After the \"death\" of the Fo...\n",
      "\n",
      "\n",
      "\n",
      "name : Batman (Injustice), score/log_score : 10.0/2.3, len_txt :256, history:\n",
      "\n",
      "After witnessing the brutal murder of his parents, billionaire Bruce Wayne dedicated himself to purging Gotham City of evil. Spending years training his mind and body to perfection, he declared war on all crime in Gotham and became The Dark Knight, Batman....\n",
      "\n",
      "\n",
      "\n",
      "name : Harley Quinn (Arkham), score/log_score : 11.0/2.4, len_txt :541, history:\n",
      "\n",
      "During her early life, Harleen had a criminal father who gave her distorted morals, but also led her to become fascinated by the extreme criminal mind. Being academically intelligent, she therefore undertook a psychiatric medical degree at Gotham City University as this was the quickest method of being able to treat criminal behavior in institutions such as Arkham Asylum. While at the university, Harleen may have developed her skills in gymnastics, which accounted for her acrobatic abilities displayed later in her life as Harley Quinn....\n",
      "\n",
      "\n",
      "\n",
      "name : Clea, score/log_score : 32.0/3.47, len_txt :1278, history:\n",
      "\n",
      "It is unknown exactly how old Clea is. Faltine are 'born' as full adults, and she does not appear to age at all.Dormammu took control of the Dark Dimension, releasing the Mindless Ones and betraying Umar. In danger and realizing her mother was just as evil as her uncle if not worse, Clea fled. She ended up on Earth and was found by Doctor Strange. Since Strange was already committed to battling Dormammu and protecting Earth, Clea agreed to train with him. The two fell in love, and were married in the tradition of the Dark Dimension. The two wear a pair of rings that will interlock when placed next to each other. Although their duties cause them to be away from each other much of the time (or busy battling evil forces while together), the two remain in love.For a time Clea managed to gain control of the Dark Dimension, the Flames of Regency appearing on her head. This also made her Sorcessess Supreme of the dimension. She mentioned to Strange that the Flames compelled her to conquer an...\n",
      "\n",
      "\n",
      "\n"
     ]
    }
   ],
   "source": [
    "print_sample(df[df._cat==\"e\"])"
   ]
  },
  {
   "cell_type": "code",
   "execution_count": null,
   "id": "079911d2",
   "metadata": {},
   "outputs": [],
   "source": []
  },
  {
   "cell_type": "code",
   "execution_count": null,
   "id": "e86ff2dd",
   "metadata": {},
   "outputs": [],
   "source": []
  },
  {
   "cell_type": "markdown",
   "id": "ab788d1d",
   "metadata": {},
   "source": [
    "# work on One"
   ]
  },
  {
   "cell_type": "code",
   "execution_count": 23,
   "id": "dea19425",
   "metadata": {
    "ExecuteTime": {
     "end_time": "2022-06-27T14:43:12.939687Z",
     "start_time": "2022-06-27T14:43:12.934980Z"
    }
   },
   "outputs": [
    {
     "data": {
      "text/plain": [
       "'An artificial being created by the terrorist group A.I.M. for their evil plans to assassinate Captain America, it holds a fragment of the Cosmic Cube that serves as its limitless power source and can copy the powers of any being it wants.'"
      ]
     },
     "execution_count": 23,
     "metadata": {},
     "output_type": "execute_result"
    }
   ],
   "source": [
    "txt = df.history_text.sample(1)\n",
    "txt = txt.values[0]\n",
    "txt"
   ]
  },
  {
   "cell_type": "code",
   "execution_count": 24,
   "id": "f1754801",
   "metadata": {
    "ExecuteTime": {
     "end_time": "2022-06-27T14:43:12.945381Z",
     "start_time": "2022-06-27T14:43:12.941645Z"
    }
   },
   "outputs": [
    {
     "data": {
      "text/plain": [
       "'an artificial being created by the terrorist group a.i.m. for their evil plans to assassinate captain america, it holds a fragment of the cosmic cube that serves as its limitless power source and can copy the powers of any being it wants.'"
      ]
     },
     "execution_count": 24,
     "metadata": {},
     "output_type": "execute_result"
    }
   ],
   "source": [
    "txt = txt.lower()\n",
    "txt"
   ]
  },
  {
   "cell_type": "code",
   "execution_count": 25,
   "id": "c1ee02c3",
   "metadata": {
    "ExecuteTime": {
     "end_time": "2022-06-27T14:43:12.950000Z",
     "start_time": "2022-06-27T14:43:12.947319Z"
    }
   },
   "outputs": [],
   "source": [
    "txt = txt.strip().replace(\"  \", \" \")"
   ]
  },
  {
   "cell_type": "code",
   "execution_count": 26,
   "id": "8d7bc9aa",
   "metadata": {
    "ExecuteTime": {
     "end_time": "2022-06-27T14:43:12.955703Z",
     "start_time": "2022-06-27T14:43:12.952168Z"
    }
   },
   "outputs": [
    {
     "data": {
      "text/plain": [
       "'an artificial being created by'"
      ]
     },
     "execution_count": 26,
     "metadata": {},
     "output_type": "execute_result"
    }
   ],
   "source": [
    "txt[:30]"
   ]
  },
  {
   "cell_type": "code",
   "execution_count": 27,
   "id": "05a5c20e",
   "metadata": {
    "ExecuteTime": {
     "end_time": "2022-06-27T14:43:12.959741Z",
     "start_time": "2022-06-27T14:43:12.957173Z"
    }
   },
   "outputs": [],
   "source": [
    "from nltk.tokenize import word_tokenize, wordpunct_tokenize"
   ]
  },
  {
   "cell_type": "code",
   "execution_count": 28,
   "id": "8f6a396b",
   "metadata": {
    "ExecuteTime": {
     "end_time": "2022-06-27T14:43:12.975642Z",
     "start_time": "2022-06-27T14:43:12.961495Z"
    },
    "scrolled": false
   },
   "outputs": [
    {
     "data": {
      "text/plain": [
       "['an',\n",
       " 'artificial',\n",
       " 'being',\n",
       " 'created',\n",
       " 'by',\n",
       " 'the',\n",
       " 'terrorist',\n",
       " 'group',\n",
       " 'a.i.m',\n",
       " '.',\n",
       " 'for',\n",
       " 'their',\n",
       " 'evil',\n",
       " 'plans',\n",
       " 'to',\n",
       " 'assassinate',\n",
       " 'captain',\n",
       " 'america',\n",
       " ',',\n",
       " 'it',\n",
       " 'holds',\n",
       " 'a',\n",
       " 'fragment',\n",
       " 'of',\n",
       " 'the',\n",
       " 'cosmic',\n",
       " 'cube',\n",
       " 'that',\n",
       " 'serves',\n",
       " 'as']"
      ]
     },
     "execution_count": 28,
     "metadata": {},
     "output_type": "execute_result"
    }
   ],
   "source": [
    "raw_tokens_list  = word_tokenize(txt)\n",
    "raw_tokens_list[:30]"
   ]
  },
  {
   "cell_type": "code",
   "execution_count": 29,
   "id": "1fc81a6d",
   "metadata": {
    "ExecuteTime": {
     "end_time": "2022-06-27T14:43:12.981110Z",
     "start_time": "2022-06-27T14:43:12.977045Z"
    }
   },
   "outputs": [
    {
     "data": {
      "text/plain": [
       "45"
      ]
     },
     "execution_count": 29,
     "metadata": {},
     "output_type": "execute_result"
    }
   ],
   "source": [
    "len(raw_tokens_list)"
   ]
  },
  {
   "cell_type": "code",
   "execution_count": 30,
   "id": "1fa74e0b",
   "metadata": {
    "ExecuteTime": {
     "end_time": "2022-06-27T14:43:12.989641Z",
     "start_time": "2022-06-27T14:43:12.987287Z"
    }
   },
   "outputs": [],
   "source": [
    "from nltk.corpus import stopwords"
   ]
  },
  {
   "cell_type": "code",
   "execution_count": 31,
   "id": "1df3d034",
   "metadata": {
    "ExecuteTime": {
     "end_time": "2022-06-27T14:43:13.061530Z",
     "start_time": "2022-06-27T14:43:12.991259Z"
    }
   },
   "outputs": [
    {
     "name": "stderr",
     "output_type": "stream",
     "text": [
      "[nltk_data] Downloading package stopwords to /home/alex/nltk_data...\n",
      "[nltk_data]   Package stopwords is already up-to-date!\n"
     ]
    },
    {
     "data": {
      "text/plain": [
       "True"
      ]
     },
     "execution_count": 31,
     "metadata": {},
     "output_type": "execute_result"
    }
   ],
   "source": [
    "nltk.download('stopwords')"
   ]
  },
  {
   "cell_type": "code",
   "execution_count": 32,
   "id": "7a6ec4db",
   "metadata": {
    "ExecuteTime": {
     "end_time": "2022-06-27T14:43:13.067102Z",
     "start_time": "2022-06-27T14:43:13.063079Z"
    }
   },
   "outputs": [
    {
     "name": "stdout",
     "output_type": "stream",
     "text": [
      "{'few', \"couldn't\", \"should've\", 'do', \"it's\", 'we', \"mustn't\", 'shan', 'y', 'its', 'once', 'most', 'those', 'doesn', 've', \"isn't\", 'them', 'his', \"didn't\", 'in', 'too', 'my', 'all', 'her', 'wasn', 'because', 'll', 'out', \"haven't\", 'hers', 'why', 'into', 'theirs', 'themselves', 'she', \"wasn't\", 'nor', 'herself', 'have', 'each', 'off', 'there', 'they', 'below', 'been', 'where', 'up', 'some', 'm', 'if', 'me', 'and', \"weren't\", 'very', 'just', 'yours', \"you're\", 'doing', 'he', 'here', 's', 'down', 'own', 'about', 'are', 'this', \"needn't\", \"that'll\", 'you', 'between', 'was', 'is', \"shouldn't\", 'more', 'ours', 'o', 'than', 'am', 'ourselves', 'hadn', 'with', 'while', 't', 'yourselves', 'aren', 'that', 'how', 'by', 'yourself', 'the', 'over', 'be', 'wouldn', 'him', 'couldn', 'for', \"you've\", 'during', 'their', 'both', 'above', 'further', 'will', 'shouldn', 'such', 'not', 'does', 'should', 'which', 'ma', 'were', 'whom', 'did', 'can', 'haven', 'from', 'didn', 'before', \"won't\", \"wouldn't\", 'as', 'your', \"she's\", 'needn', \"shan't\", 'on', 'no', 'only', \"don't\", \"you'd\", 'hasn', 'against', 'again', 'it', 'until', 'or', 'when', 'don', 'of', 'itself', 'same', 'at', 'an', 'now', \"hasn't\", 'has', 'won', 'had', 'other', 'being', 'our', 'd', 'i', \"aren't\", 'isn', 'so', 're', 'any', 'mustn', \"you'll\", 'but', 'these', 'mightn', 'weren', 'a', 'ain', 'through', 'myself', 'to', \"mightn't\", \"doesn't\", 'having', \"hadn't\", 'who', 'under', 'what', 'after', 'himself', 'then'}\n"
     ]
    }
   ],
   "source": [
    "stop_words = set(stopwords.words('english'))\n",
    "print(stop_words)"
   ]
  },
  {
   "cell_type": "code",
   "execution_count": 33,
   "id": "e4792ef2",
   "metadata": {
    "ExecuteTime": {
     "end_time": "2022-06-27T14:43:13.071696Z",
     "start_time": "2022-06-27T14:43:13.068673Z"
    }
   },
   "outputs": [],
   "source": [
    "cleaned_tokens_list = [w for w in raw_tokens_list if w not in stop_words]"
   ]
  },
  {
   "cell_type": "code",
   "execution_count": 34,
   "id": "04f9f1ed",
   "metadata": {
    "ExecuteTime": {
     "end_time": "2022-06-27T14:43:13.077057Z",
     "start_time": "2022-06-27T14:43:13.073408Z"
    }
   },
   "outputs": [
    {
     "data": {
      "text/plain": [
       "['artificial',\n",
       " 'created',\n",
       " 'terrorist',\n",
       " 'group',\n",
       " 'a.i.m',\n",
       " '.',\n",
       " 'evil',\n",
       " 'plans',\n",
       " 'assassinate',\n",
       " 'captain',\n",
       " 'america',\n",
       " ',',\n",
       " 'holds',\n",
       " 'fragment',\n",
       " 'cosmic',\n",
       " 'cube',\n",
       " 'serves',\n",
       " 'limitless',\n",
       " 'power',\n",
       " 'source',\n",
       " 'copy',\n",
       " 'powers',\n",
       " 'wants',\n",
       " '.']"
      ]
     },
     "execution_count": 34,
     "metadata": {},
     "output_type": "execute_result"
    }
   ],
   "source": [
    "cleaned_tokens_list[:50]"
   ]
  },
  {
   "cell_type": "code",
   "execution_count": 35,
   "id": "24d4fd84",
   "metadata": {
    "ExecuteTime": {
     "end_time": "2022-06-27T14:43:13.081908Z",
     "start_time": "2022-06-27T14:43:13.078596Z"
    }
   },
   "outputs": [
    {
     "data": {
      "text/plain": [
       "24"
      ]
     },
     "execution_count": 35,
     "metadata": {},
     "output_type": "execute_result"
    }
   ],
   "source": [
    "len(cleaned_tokens_list)"
   ]
  },
  {
   "cell_type": "code",
   "execution_count": 36,
   "id": "87144998",
   "metadata": {
    "ExecuteTime": {
     "end_time": "2022-06-27T14:43:13.086143Z",
     "start_time": "2022-06-27T14:43:13.083614Z"
    }
   },
   "outputs": [],
   "source": [
    "from nltk.tokenize import RegexpTokenizer"
   ]
  },
  {
   "cell_type": "code",
   "execution_count": 37,
   "id": "1eda51a5",
   "metadata": {
    "ExecuteTime": {
     "end_time": "2022-06-27T14:43:13.091818Z",
     "start_time": "2022-06-27T14:43:13.087989Z"
    }
   },
   "outputs": [
    {
     "data": {
      "text/plain": [
       "['an',\n",
       " 'artificial',\n",
       " 'being',\n",
       " 'created',\n",
       " 'by',\n",
       " 'the',\n",
       " 'terrorist',\n",
       " 'group',\n",
       " 'a.i.m',\n",
       " '.',\n",
       " 'for',\n",
       " 'their',\n",
       " 'evil',\n",
       " 'plans',\n",
       " 'to',\n",
       " 'assassinate',\n",
       " 'captain',\n",
       " 'america',\n",
       " ',',\n",
       " 'it',\n",
       " 'holds',\n",
       " 'a',\n",
       " 'fragment',\n",
       " 'of',\n",
       " 'the',\n",
       " 'cosmic',\n",
       " 'cube',\n",
       " 'that',\n",
       " 'serves',\n",
       " 'as',\n",
       " 'its',\n",
       " 'limitless',\n",
       " 'power',\n",
       " 'source',\n",
       " 'and',\n",
       " 'can',\n",
       " 'copy',\n",
       " 'the',\n",
       " 'powers',\n",
       " 'of',\n",
       " 'any',\n",
       " 'being',\n",
       " 'it',\n",
       " 'wants',\n",
       " '.']"
      ]
     },
     "execution_count": 37,
     "metadata": {},
     "output_type": "execute_result"
    }
   ],
   "source": [
    "\n",
    "\n",
    "\n",
    "raw_tokens_list[:50]"
   ]
  },
  {
   "cell_type": "code",
   "execution_count": 38,
   "id": "aa958d7b",
   "metadata": {
    "ExecuteTime": {
     "end_time": "2022-06-27T14:43:13.099029Z",
     "start_time": "2022-06-27T14:43:13.093520Z"
    }
   },
   "outputs": [
    {
     "data": {
      "text/plain": [
       "['an',\n",
       " 'artificial',\n",
       " 'being',\n",
       " 'created',\n",
       " 'by',\n",
       " 'the',\n",
       " 'terrorist',\n",
       " 'group',\n",
       " 'a.i.m',\n",
       " '.',\n",
       " 'for',\n",
       " 'their',\n",
       " 'evil',\n",
       " 'plans',\n",
       " 'to',\n",
       " 'assassinate',\n",
       " 'captain',\n",
       " 'america',\n",
       " ',',\n",
       " 'it',\n",
       " 'holds',\n",
       " 'a',\n",
       " 'fragment',\n",
       " 'of',\n",
       " 'the',\n",
       " 'cosmic',\n",
       " 'cube',\n",
       " 'that',\n",
       " 'serves',\n",
       " 'as',\n",
       " 'its',\n",
       " 'limitless',\n",
       " 'power',\n",
       " 'source',\n",
       " 'and',\n",
       " 'can',\n",
       " 'copy',\n",
       " 'the',\n",
       " 'powers',\n",
       " 'of',\n",
       " 'any',\n",
       " 'being',\n",
       " 'it',\n",
       " 'wants',\n",
       " '.']"
      ]
     },
     "execution_count": 38,
     "metadata": {},
     "output_type": "execute_result"
    }
   ],
   "source": [
    "raw_tokens_list"
   ]
  },
  {
   "cell_type": "code",
   "execution_count": 39,
   "id": "ba57384b",
   "metadata": {
    "ExecuteTime": {
     "end_time": "2022-06-27T14:43:13.103605Z",
     "start_time": "2022-06-27T14:43:13.100993Z"
    }
   },
   "outputs": [],
   "source": [
    "cleaned_tokens_list = [w for w in raw_tokens_list if w not in stop_words]"
   ]
  },
  {
   "cell_type": "code",
   "execution_count": 40,
   "id": "27acc154",
   "metadata": {
    "ExecuteTime": {
     "end_time": "2022-06-27T14:43:13.109747Z",
     "start_time": "2022-06-27T14:43:13.105722Z"
    }
   },
   "outputs": [
    {
     "data": {
      "text/plain": [
       "['artificial',\n",
       " 'created',\n",
       " 'terrorist',\n",
       " 'group',\n",
       " 'a.i.m',\n",
       " '.',\n",
       " 'evil',\n",
       " 'plans',\n",
       " 'assassinate',\n",
       " 'captain',\n",
       " 'america',\n",
       " ',',\n",
       " 'holds',\n",
       " 'fragment',\n",
       " 'cosmic',\n",
       " 'cube',\n",
       " 'serves',\n",
       " 'limitless',\n",
       " 'power',\n",
       " 'source',\n",
       " 'copy',\n",
       " 'powers',\n",
       " 'wants',\n",
       " '.']"
      ]
     },
     "execution_count": 40,
     "metadata": {},
     "output_type": "execute_result"
    }
   ],
   "source": [
    "cleaned_tokens_list[:50]"
   ]
  },
  {
   "cell_type": "code",
   "execution_count": 41,
   "id": "1c046a67",
   "metadata": {
    "ExecuteTime": {
     "end_time": "2022-06-27T14:43:13.115124Z",
     "start_time": "2022-06-27T14:43:13.111393Z"
    }
   },
   "outputs": [
    {
     "data": {
      "text/plain": [
       "24"
      ]
     },
     "execution_count": 41,
     "metadata": {},
     "output_type": "execute_result"
    }
   ],
   "source": [
    "len(cleaned_tokens_list)"
   ]
  },
  {
   "cell_type": "code",
   "execution_count": 42,
   "id": "1fbd3174",
   "metadata": {
    "ExecuteTime": {
     "end_time": "2022-06-27T14:43:13.120998Z",
     "start_time": "2022-06-27T14:43:13.117241Z"
    }
   },
   "outputs": [],
   "source": [
    "def process_text(txt, rejoin=False) : \n",
    "    \n",
    "    txt = txt.lower().strip()\n",
    "    tokenizer = RegexpTokenizer(r\"\\w+\")\n",
    "    raw_tokens_list = tokenizer.tokenize(txt)\n",
    "    cleaned_tokens_list = [w for w in raw_tokens_list if w not in stop_words]\n",
    "    \n",
    "    if rejoin : \n",
    "        return \" \".join(cleaned_tokens_list)\n",
    "    \n",
    "    return cleaned_tokens_list"
   ]
  },
  {
   "cell_type": "code",
   "execution_count": 43,
   "id": "9eafd633",
   "metadata": {
    "ExecuteTime": {
     "end_time": "2022-06-27T14:43:13.127185Z",
     "start_time": "2022-06-27T14:43:13.122990Z"
    }
   },
   "outputs": [
    {
     "data": {
      "text/plain": [
       "[\"Delroy Garrett, Jr. grew up to become a track star and competed in the Olympic Games. After he tested positive for steroids, he lost his three gold medals. In despair, he turned to religion, specifically the Triune Understanding. This group's founder, Jonathan Tremont, had found one of three fragments of a mysterious object and used it to give Garrett the powers of 3-D Man. Garrett assumed that his powers were because of his newfound spiritual enlightenment, and Tremont never disabused him of the notion.\",\n",
       " 'He was one of the many prisoners of Indian Hill to be transferred to another facility upstate on the orders of The Court. However, Fish Mooney hijacks the bus and drives it into Gotham City, where the bus crashes when fired upon by Butch Gilzean and his gang. After the mobsters flee at the sight of a resurrected Fish, she herself leaves the scene. An elderly hobo lady hears the cries of the prisoners and releases them, only to be horrified by their monstrous appearance. The monsters depart the prison van and make their way into Gotham City. The Bruce Wayne look-alike departs the bus and thanks the elderly woman before entering the city himself The look-a-like later saw Selina Kyle and Ivy Pepper give some money to a street gang. After Selina Kyle leaves to go meet up with Fish Mooney and her gang, Ivy is visited by the Bruce Wayne look-a-like. He frantically asks her who Bruce Wayne is, confused as to why he looks almost identical to him. Confused and terrified, Ivy runs off to inform Selina of his odd behavior. The look-a-like later snuck into Wayne Manor where Bruce and Alfred Pennyworth find him and are surprised by his appearance. He begs them not to hurt him.While helping himself to some food, the look-a-like stated to Bruce that he was known as Subject 514A and states that he never knew about the other Indian Hill subjects until he was loaded onto the bus that he was later freed from. Bruce objected to Alfred\\'s suggestion to turn him over to someone. Subject 514A later visits Bruce\\'s sparing match with Alfred. Taking his shot with Alfred, Subject 514A managed to easily counter Alfred\\'s moves. When Subject 514A managed to get punched in the nose, Alfred saw that he didn\\'t feel pain. Alfred and Bruce then noticed the scar on the back of his neck. Bruce looks for a clue for the scar on Subject 514A and hides him when Selina Kyle came into view. After watching Bruce and Selina\\'s conversation, Subject 514A started to begin mimicking Bruce\\'s voice. Later that night while Bruce is sleeping, Subject 514A starts cutting his hair. The next morning, Bruce and Alfred find out what Subject 514A did upon finding his cut hair and Bruce\\'s missing clothes. Bruce tells Alfred that they need to find him. Subject 514A arrives in one of the cars from Wayne Manor and invites Selina Kyle to have food with him. While Selina is suspicious on why \"Bruce\" is acting strange, she goes with him anyway.The next day, Selina and Subject 514A walked down the streets as they approach a bar. As Selina goes into the bar, Subject 514A is told to go around back. As Selina is about to have her fingers cut off by the two owners, Subject 514A comes in and beats up the two men. Selina is then cut loose by Subject 514A. After getting away, Selina discovers that Subject 514A is wounded. Upon noticing the scars on him, Selina sees that he is not Bruce. Selina stitches up Subject 514A who states that he has no knowledge of why he was made to look like him and claims that Bruce might have an interest in Selina after watching them from the halls. After being told by Selina about what happened to Firefly and Ivy, Subject 514A then kisses Selina. Bruce and Alfred catch up to Subject 514A who claims that Bruce doesn\\'t know what he wants. Subject 514A claims that he doesn\\'t know why he was created and states that he doesn\\'t belong in Gotham City. He then jumps off the building telling them to say goodbye to Selina for him. Bruce and Alfred then see Subject 514A walk off into the streets. Subject 514A is later visited by Kathryn and Talon while walking on the streets. Kathryn states to Subject 514A that they are his \"real parents\" who have been looking for him for a long time. Subject 514A is then loaded into Kathryn\\'s limo by Talon.',\n",
       " ' Richard \"Rick\" Jones was orphaned at a young age, and after being expelled from several orphanages for disciplinary reasons he was placed into a state institution called Tempest Town. A troubled and rebellious youth, Jones soon came to the attention of the institution\\'s chief administrator who smashed his guitar, a gift from his late father, and then had him severely thrashed. Soon afterward, Jones ran away from the institution. He spent the first half of his teens drifting from town to town throughout the Southwest, trying to avoid the juvenile authorities, and doing menial work when he could get it.  At age 16, he got his driver\\'s license and managed to save enough money to buy a used car. Overhearing a teenager dare a friend to ride out with him on the desert where it was rumored an atomic bomb was going to be tested, Jones offered to take him upon the challenge. He drove his car out to the test site to discover his challenger was too timid to show up. Dr. Robert Bruce Banner, designer of the Gamma Bomb to be tested, learned that someone had ventured onto the test site, and believing the countdown had been delayed, ran out into the desert to warn him back. Banner managed to throw Jones into a protective trench before the bomb detonated, but he himself was bombarded with gamma radiation. This radiation triggered a mutagenic change in Banner, causing him to turn into the raging superhuman Hulk. Feeling responsible for Banner\\'s condition and being the only person to know that the rampaging brute was actually Banner, Jones became the Hulk\\'s sometimes unwanted companion and ally. Jones soon organized the Teen Brigade, a group of young amateur ham radio enthusiasts to help him monitor the Hulk\\'s activities. Jones was present during the Hulk\\'s first encounters with the army, as well as superhuman menaces as the Gargoyle, the alien Toadmen, the Ringmaster, Tyrannus, and the Metal Master, and even a run-in with the Fantastic Four.  The Avengers formed due to Rick\\'s radio broadcast warning about the Hulk. He temporarily became a sidekick for Captain America. His resemblance to Bucky was noted, Rick even wore Bucky\\'s costume for a time. However, Captain America felt he did not want to lose another partner and that while Rick was a good athlete, he was not quite up to the level Bucky was. When Iron Man suggested that Rick be made a full member of the Avengers, Cap strongly opposed the idea.  The Kree hero Captain Mar-Vell was bonded to Rick due to only being able to function out of the Negative Zone for a few hours. Using the Negative Zone portal in the Baxter Building seemed to remove that limitation. Shortly after Rick and Mar-Vell had to be re-merged. Eventually, they were separated.  During the Kree-Skrull War, an \\'omniwave\\' machine from the Supreme Intelligence caused the Destiny Force to trigger within Rick.  An attempt to cure the Hulk instead gave Rick radiation poisoning. In the hospital, the Dire Wraiths began to replace the staff, but were stopped by Rom. Rick assisted Rom against the Wraiths, and temporarily lived with Brandy Clark. Jones was cured by the Beyonder at the same time Rom and Brandy left for Galador.  Rick began dating Marlo Chandler, a former girlfriend of the Hulk\\'s. The two later married with a great number of heroes in attendance. The Impossible Man did his best to usurp the proceedings by inviting the Kree, Skrulls, even Mephisto to the ceremony. After a period of estrangement that also involved Moondragon and Death becoming involved with Marlo, the two reunited.  Jones was temporarily paralyzed while Hulk was the Horseman War. In an attempt to stop this \\'War Hulk\\' he was thrown against a pyramid. Rick was cured during the Destiny War, summoning Avengers from various realities to battle for their very existence against the Time Keepers. The strain was incredible, and a future version of Genis-Vell bonded to him, much like Rick had with Mar-Vell. Rick and Genis later discovered this bond still applied to the current Genis.  Rick authored a best-selling novel on his days as a sidekick.  When the Hulk returned to Earth, Jones attempted to calm him down by telling him about Captain America\\'s death, but when the Hulk almost calmed down, Dr. Strange invaded the Hulk\\'s mind. Rick later went to Strange\\'s Sanctum Sanctorum, but was attacked by the Hulk\\'s allies.   Later, Rick was transported to the gamma bomb site that gave birth to the original Hulk. After being dropped off, he encountered the Red Hulk. After seeing that he had murdered Emil Blonsky, the Abomination, Rick had transformed into a new blue creature who quite resembled the Abomination; calling himself A-Bomb. In his new form, he was much like the original Hulk incarnation whereas he could not remember being anybody else once the transformation was complete, had an easily flared temper, and simplified speech patterns. He held his own against the Red Hulk for an extended period of time, withstanding all of his blows and injuring him multiple times which so far nobody had been able to accomplish. The battle was interrupted by several giant android harpies that were specifically designed by United States Military in case Bruce Banner escaped the facility as the Hulk. A-Bomb has proven to hold onto fragments of his memories as Rick Jones because he recognized the harpies all had the face of Betty Ross; Bruce Banner\\'s first love. A-Bomb managed to disable one mid-flight, and they both crashed to earth.The robot exploded.  A-Bomb joined with several heroes including the Avengers, the Fantastic Four, She-Hulk and the Hulk to help stop an impending earthquake in San Francisco which was caused by Red Hulk. After the Red Hulk was defeated, A-Bomb reverted back to Rick. He attempted to reveal who Red Hulk really was, but was shot and dragged away by Doc Samson from the area.']"
      ]
     },
     "execution_count": 43,
     "metadata": {},
     "output_type": "execute_result"
    }
   ],
   "source": [
    "corpus = list(df.history_text.values)\n",
    "corpus[:3]"
   ]
  },
  {
   "cell_type": "code",
   "execution_count": 44,
   "id": "047ce4ef",
   "metadata": {
    "ExecuteTime": {
     "end_time": "2022-06-27T14:43:13.137627Z",
     "start_time": "2022-06-27T14:43:13.128805Z"
    }
   },
   "outputs": [
    {
     "data": {
      "text/plain": [
       "'Delroy Garrett, Jr. grew up to become a track star and competed in the Olympic Games. After he tested positive for steroids, he lost his three gold medals. In despair, he turned to religion, specifically the Triune Understanding. This group\\'s founder, Jonathan Tremont, had found one of three fragments of a mysterious object and used it to give Garrett the powers of 3-D Man. Garrett assumed that his powers were because of his newfound spiritual enlightenment, and Tremont never disabused him of the notion.He was one of the many prisoners of Indian Hill to be transferred to another facility upstate on the orders of The Court. However, Fish Mooney hijacks the bus and drives it into Gotham City, where the bus crashes when fired upon by Butch Gilzean and his gang. After the mobsters flee at the sight of a resurrected Fish, she herself leaves the scene. An elderly hobo lady hears the cries of the prisoners and releases them, only to be horrified by their monstrous appearance. The monsters depart the prison van and make their way into Gotham City. The Bruce Wayne look-alike departs the bus and thanks the elderly woman before entering the city himself The look-a-like later saw Selina Kyle and Ivy Pepper give some money to a street gang. After Selina Kyle leaves to go meet up with Fish Mooney and her gang, Ivy is visited by the Bruce Wayne look-a-like. He frantically asks her who Bruce Wayne is, confused as to why he looks almost identical to him. Confused and terrified, Ivy runs off to inform Selina of his odd behavior. The look-a-like later snuck into Wayne Manor where Bruce and Alfred Pennyworth find him and are surprised by his appearance. He begs them not to hurt him.While helping himself to some food, the look-a-like stated to Bruce that he was known as Subject 514A and states that he never knew about the other Indian Hill subjects until he was loaded onto the bus that he was later freed from. Bruce objected to Alfred\\'s suggestion to turn him over to someone. Subject 514A later visits Bruce\\'s sparing match with Alfred. Taking his shot with Alfred, Subject 514A managed to easily counter Alfred\\'s moves. When Subject 514A managed to get punched in the nose, Alfred saw that he didn\\'t feel pain. Alfred and Bruce then noticed the scar on the back of his neck. Bruce looks for a clue for the scar on Subject 514A and hides him when Selina Kyle came into view. After watching Bruce and Selina\\'s conversation, Subject 514A started to begin mimicking Bruce\\'s voice. Later that night while Bruce is sleeping, Subject 514A starts cutting his hair. The next morning, Bruce and Alfred find out what Subject 514A did upon finding his cut hair and Bruce\\'s missing clothes. Bruce tells Alfred that they need to find him. Subject 514A arrives in one of the cars from Wayne Manor and invites Selina Kyle to have food with him. While Selina is suspicious on why \"Bruce\" is acting strange, she goes with him anyway.The next day, Selina and Subject 514A walked down the streets as they approach a bar. As Selina goes into the bar, Subject 514A is told to go around back. As Selina is about to have her fingers cut off by the two owners, Subject 514A comes in and beats up the two men. Selina is then cut loose by Subject 514A. After getting away, Selina discovers that Subject 514A is wounded. Upon noticing the scars on him, Selina sees that he is not Bruce. Selina stitches up Subject 514A who states that he has no knowledge of why he was made to look like him and claims that Bruce might have an interest in Selina after watching them from the halls. After being told by Selina about what happened to Firefly and Ivy, Subject 514A then kisses Selina. Bruce and Alfred catch up to Subject 514A who claims that Bruce doesn\\'t know what he wants. Subject 514A claims that he doesn\\'t know why he was created and states that he doesn\\'t belong in Gotham City. He then jumps off the building telling them to say goodbye to Selina for him. Bruce and Alfred then see Subject 514A walk off into the streets. Subject 514A is later visited by Kathryn and Talon while walking on the streets. Kathryn states to Subject 514A that they are his \"real parents\" who have been looking for him for a long time. Subject 514A is then loaded into Kathryn\\'s limo by Talon. Richard \"Rick\" Jones was orphaned at a young age, and after being expelled from several orphanages for disciplinary reasons he was placed into a state institution called Tempest Town. A troubled and rebellious youth, Jones soon came to the attention of the institution\\'s chief administrator who smashed his guitar, a gift from his late father, and then had him severely thrashed. Soon afterward, Jones ran away from the institution. He spent the first half of his teens drifting from town to town throughout the Southwest, trying to avoid the juvenile authorities, and doing menial work when he could get it.  At age 16, he got his driver\\'s license and managed to save enough money to buy a used car. Overhearing a teenager dare a frie'"
      ]
     },
     "execution_count": 44,
     "metadata": {},
     "output_type": "execute_result"
    }
   ],
   "source": [
    "corpus = \"\".join(corpus)\n",
    "corpus[:5000]"
   ]
  },
  {
   "cell_type": "code",
   "execution_count": 45,
   "id": "8af82dab",
   "metadata": {
    "ExecuteTime": {
     "end_time": "2022-06-27T14:43:13.467759Z",
     "start_time": "2022-06-27T14:43:13.139427Z"
    }
   },
   "outputs": [
    {
     "data": {
      "text/plain": [
       "['delroy',\n",
       " 'garrett',\n",
       " 'jr',\n",
       " 'grew',\n",
       " 'become',\n",
       " 'track',\n",
       " 'star',\n",
       " 'competed',\n",
       " 'olympic',\n",
       " 'games',\n",
       " 'tested',\n",
       " 'positive',\n",
       " 'steroids',\n",
       " 'lost',\n",
       " 'three',\n",
       " 'gold',\n",
       " 'medals',\n",
       " 'despair',\n",
       " 'turned',\n",
       " 'religion',\n",
       " 'specifically',\n",
       " 'triune',\n",
       " 'understanding',\n",
       " 'group',\n",
       " 'founder',\n",
       " 'jonathan',\n",
       " 'tremont',\n",
       " 'found',\n",
       " 'one',\n",
       " 'three',\n",
       " 'fragments',\n",
       " 'mysterious',\n",
       " 'object',\n",
       " 'used',\n",
       " 'give',\n",
       " 'garrett',\n",
       " 'powers',\n",
       " '3',\n",
       " 'man',\n",
       " 'garrett',\n",
       " 'assumed',\n",
       " 'powers',\n",
       " 'newfound',\n",
       " 'spiritual',\n",
       " 'enlightenment',\n",
       " 'tremont',\n",
       " 'never',\n",
       " 'disabused',\n",
       " 'notion',\n",
       " 'one',\n",
       " 'many',\n",
       " 'prisoners',\n",
       " 'indian',\n",
       " 'hill',\n",
       " 'transferred',\n",
       " 'another',\n",
       " 'facility',\n",
       " 'upstate',\n",
       " 'orders',\n",
       " 'court',\n",
       " 'however',\n",
       " 'fish',\n",
       " 'mooney',\n",
       " 'hijacks',\n",
       " 'bus',\n",
       " 'drives',\n",
       " 'gotham',\n",
       " 'city',\n",
       " 'bus',\n",
       " 'crashes',\n",
       " 'fired',\n",
       " 'upon',\n",
       " 'butch',\n",
       " 'gilzean',\n",
       " 'gang',\n",
       " 'mobsters',\n",
       " 'flee',\n",
       " 'sight',\n",
       " 'resurrected',\n",
       " 'fish',\n",
       " 'leaves',\n",
       " 'scene',\n",
       " 'elderly',\n",
       " 'hobo',\n",
       " 'lady',\n",
       " 'hears',\n",
       " 'cries',\n",
       " 'prisoners',\n",
       " 'releases',\n",
       " 'horrified',\n",
       " 'monstrous',\n",
       " 'appearance',\n",
       " 'monsters',\n",
       " 'depart',\n",
       " 'prison',\n",
       " 'van',\n",
       " 'make',\n",
       " 'way',\n",
       " 'gotham',\n",
       " 'city',\n",
       " 'bruce',\n",
       " 'wayne',\n",
       " 'look',\n",
       " 'alike',\n",
       " 'departs',\n",
       " 'bus',\n",
       " 'thanks',\n",
       " 'elderly',\n",
       " 'woman',\n",
       " 'entering',\n",
       " 'city',\n",
       " 'look',\n",
       " 'like',\n",
       " 'later',\n",
       " 'saw',\n",
       " 'selina',\n",
       " 'kyle',\n",
       " 'ivy',\n",
       " 'pepper',\n",
       " 'give',\n",
       " 'money',\n",
       " 'street',\n",
       " 'gang',\n",
       " 'selina',\n",
       " 'kyle',\n",
       " 'leaves',\n",
       " 'go',\n",
       " 'meet',\n",
       " 'fish',\n",
       " 'mooney',\n",
       " 'gang',\n",
       " 'ivy',\n",
       " 'visited',\n",
       " 'bruce',\n",
       " 'wayne',\n",
       " 'look',\n",
       " 'like',\n",
       " 'frantically',\n",
       " 'asks',\n",
       " 'bruce',\n",
       " 'wayne',\n",
       " 'confused',\n",
       " 'looks',\n",
       " 'almost',\n",
       " 'identical',\n",
       " 'confused',\n",
       " 'terrified',\n",
       " 'ivy',\n",
       " 'runs',\n",
       " 'inform',\n",
       " 'selina',\n",
       " 'odd',\n",
       " 'behavior',\n",
       " 'look',\n",
       " 'like',\n",
       " 'later',\n",
       " 'snuck',\n",
       " 'wayne',\n",
       " 'manor',\n",
       " 'bruce',\n",
       " 'alfred',\n",
       " 'pennyworth',\n",
       " 'find',\n",
       " 'surprised',\n",
       " 'appearance',\n",
       " 'begs',\n",
       " 'hurt',\n",
       " 'helping',\n",
       " 'food',\n",
       " 'look',\n",
       " 'like',\n",
       " 'stated',\n",
       " 'bruce',\n",
       " 'known',\n",
       " 'subject',\n",
       " '514a',\n",
       " 'states',\n",
       " 'never',\n",
       " 'knew',\n",
       " 'indian',\n",
       " 'hill',\n",
       " 'subjects',\n",
       " 'loaded',\n",
       " 'onto',\n",
       " 'bus',\n",
       " 'later',\n",
       " 'freed',\n",
       " 'bruce',\n",
       " 'objected',\n",
       " 'alfred',\n",
       " 'suggestion',\n",
       " 'turn',\n",
       " 'someone',\n",
       " 'subject',\n",
       " '514a',\n",
       " 'later',\n",
       " 'visits',\n",
       " 'bruce',\n",
       " 'sparing',\n",
       " 'match',\n",
       " 'alfred',\n",
       " 'taking',\n",
       " 'shot',\n",
       " 'alfred',\n",
       " 'subject',\n",
       " '514a',\n",
       " 'managed',\n",
       " 'easily',\n",
       " 'counter',\n",
       " 'alfred',\n",
       " 'moves',\n",
       " 'subject',\n",
       " '514a',\n",
       " 'managed',\n",
       " 'get',\n",
       " 'punched',\n",
       " 'nose',\n",
       " 'alfred',\n",
       " 'saw',\n",
       " 'feel',\n",
       " 'pain',\n",
       " 'alfred',\n",
       " 'bruce',\n",
       " 'noticed',\n",
       " 'scar',\n",
       " 'back',\n",
       " 'neck',\n",
       " 'bruce',\n",
       " 'looks',\n",
       " 'clue',\n",
       " 'scar',\n",
       " 'subject',\n",
       " '514a',\n",
       " 'hides',\n",
       " 'selina',\n",
       " 'kyle',\n",
       " 'came',\n",
       " 'view',\n",
       " 'watching',\n",
       " 'bruce',\n",
       " 'selina',\n",
       " 'conversation',\n",
       " 'subject',\n",
       " '514a',\n",
       " 'started',\n",
       " 'begin',\n",
       " 'mimicking',\n",
       " 'bruce',\n",
       " 'voice',\n",
       " 'later',\n",
       " 'night',\n",
       " 'bruce',\n",
       " 'sleeping',\n",
       " 'subject',\n",
       " '514a',\n",
       " 'starts',\n",
       " 'cutting',\n",
       " 'hair',\n",
       " 'next',\n",
       " 'morning',\n",
       " 'bruce',\n",
       " 'alfred',\n",
       " 'find',\n",
       " 'subject',\n",
       " '514a',\n",
       " 'upon',\n",
       " 'finding',\n",
       " 'cut',\n",
       " 'hair',\n",
       " 'bruce',\n",
       " 'missing',\n",
       " 'clothes',\n",
       " 'bruce',\n",
       " 'tells',\n",
       " 'alfred',\n",
       " 'need',\n",
       " 'find',\n",
       " 'subject',\n",
       " '514a',\n",
       " 'arrives',\n",
       " 'one',\n",
       " 'cars',\n",
       " 'wayne',\n",
       " 'manor',\n",
       " 'invites',\n",
       " 'selina',\n",
       " 'kyle',\n",
       " 'food',\n",
       " 'selina',\n",
       " 'suspicious',\n",
       " 'bruce',\n",
       " 'acting',\n",
       " 'strange',\n",
       " 'goes',\n",
       " 'anyway',\n",
       " 'next',\n",
       " 'day',\n",
       " 'selina',\n",
       " 'subject',\n",
       " '514a',\n",
       " 'walked',\n",
       " 'streets',\n",
       " 'approach',\n",
       " 'bar',\n",
       " 'selina',\n",
       " 'goes',\n",
       " 'bar',\n",
       " 'subject',\n",
       " '514a',\n",
       " 'told',\n",
       " 'go',\n",
       " 'around',\n",
       " 'back',\n",
       " 'selina',\n",
       " 'fingers',\n",
       " 'cut',\n",
       " 'two',\n",
       " 'owners',\n",
       " 'subject',\n",
       " '514a',\n",
       " 'comes',\n",
       " 'beats',\n",
       " 'two',\n",
       " 'men',\n",
       " 'selina',\n",
       " 'cut',\n",
       " 'loose',\n",
       " 'subject',\n",
       " '514a',\n",
       " 'getting',\n",
       " 'away',\n",
       " 'selina',\n",
       " 'discovers',\n",
       " 'subject',\n",
       " '514a',\n",
       " 'wounded',\n",
       " 'upon',\n",
       " 'noticing',\n",
       " 'scars',\n",
       " 'selina',\n",
       " 'sees',\n",
       " 'bruce',\n",
       " 'selina',\n",
       " 'stitches',\n",
       " 'subject',\n",
       " '514a',\n",
       " 'states',\n",
       " 'knowledge',\n",
       " 'made',\n",
       " 'look',\n",
       " 'like',\n",
       " 'claims',\n",
       " 'bruce',\n",
       " 'might',\n",
       " 'interest',\n",
       " 'selina',\n",
       " 'watching',\n",
       " 'halls',\n",
       " 'told',\n",
       " 'selina',\n",
       " 'happened',\n",
       " 'firefly',\n",
       " 'ivy',\n",
       " 'subject',\n",
       " '514a',\n",
       " 'kisses',\n",
       " 'selina',\n",
       " 'bruce',\n",
       " 'alfred',\n",
       " 'catch',\n",
       " 'subject',\n",
       " '514a',\n",
       " 'claims',\n",
       " 'bruce',\n",
       " 'know',\n",
       " 'wants',\n",
       " 'subject',\n",
       " '514a',\n",
       " 'claims',\n",
       " 'know',\n",
       " 'created',\n",
       " 'states',\n",
       " 'belong',\n",
       " 'gotham',\n",
       " 'city',\n",
       " 'jumps',\n",
       " 'building',\n",
       " 'telling',\n",
       " 'say',\n",
       " 'goodbye',\n",
       " 'selina',\n",
       " 'bruce',\n",
       " 'alfred',\n",
       " 'see',\n",
       " 'subject',\n",
       " '514a',\n",
       " 'walk',\n",
       " 'streets',\n",
       " 'subject',\n",
       " '514a',\n",
       " 'later',\n",
       " 'visited',\n",
       " 'kathryn',\n",
       " 'talon',\n",
       " 'walking',\n",
       " 'streets',\n",
       " 'kathryn',\n",
       " 'states',\n",
       " 'subject',\n",
       " '514a',\n",
       " 'real',\n",
       " 'parents',\n",
       " 'looking',\n",
       " 'long',\n",
       " 'time',\n",
       " 'subject',\n",
       " '514a',\n",
       " 'loaded',\n",
       " 'kathryn',\n",
       " 'limo',\n",
       " 'talon',\n",
       " 'richard',\n",
       " 'rick',\n",
       " 'jones',\n",
       " 'orphaned',\n",
       " 'young',\n",
       " 'age',\n",
       " 'expelled',\n",
       " 'several',\n",
       " 'orphanages',\n",
       " 'disciplinary',\n",
       " 'reasons',\n",
       " 'placed',\n",
       " 'state',\n",
       " 'institution',\n",
       " 'called',\n",
       " 'tempest',\n",
       " 'town',\n",
       " 'troubled',\n",
       " 'rebellious',\n",
       " 'youth',\n",
       " 'jones',\n",
       " 'soon',\n",
       " 'came',\n",
       " 'attention',\n",
       " 'institution',\n",
       " 'chief',\n",
       " 'administrator',\n",
       " 'smashed',\n",
       " 'guitar',\n",
       " 'gift',\n",
       " 'late',\n",
       " 'father',\n",
       " 'severely',\n",
       " 'thrashed',\n",
       " 'soon',\n",
       " 'afterward',\n",
       " 'jones',\n",
       " 'ran',\n",
       " 'away',\n",
       " 'institution',\n",
       " 'spent',\n",
       " 'first',\n",
       " 'half',\n",
       " 'teens',\n",
       " 'drifting',\n",
       " 'town',\n",
       " 'town',\n",
       " 'throughout',\n",
       " 'southwest',\n",
       " 'trying',\n",
       " 'avoid',\n",
       " 'juvenile',\n",
       " 'authorities',\n",
       " 'menial',\n",
       " 'work',\n",
       " 'could',\n",
       " 'get',\n",
       " 'age',\n",
       " '16',\n",
       " 'got',\n",
       " 'driver',\n",
       " 'license',\n",
       " 'managed',\n",
       " 'save',\n",
       " 'enough',\n",
       " 'money',\n",
       " 'buy',\n",
       " 'used',\n",
       " 'car',\n",
       " 'overhearing',\n",
       " 'teenager',\n",
       " 'dare',\n",
       " 'friend',\n",
       " 'ride',\n",
       " 'desert',\n",
       " 'rumored',\n",
       " 'atomic',\n",
       " 'bomb',\n",
       " 'going',\n",
       " 'tested',\n",
       " 'jones',\n",
       " 'offered',\n",
       " 'take',\n",
       " 'upon',\n",
       " 'challenge',\n",
       " 'drove',\n",
       " 'car',\n",
       " 'test',\n",
       " 'site',\n",
       " 'discover',\n",
       " 'challenger',\n",
       " 'timid',\n",
       " 'show',\n",
       " 'dr',\n",
       " 'robert',\n",
       " 'bruce',\n",
       " 'banner',\n",
       " 'designer',\n",
       " 'gamma',\n",
       " 'bomb',\n",
       " 'tested',\n",
       " 'learned',\n",
       " 'someone',\n",
       " 'ventured',\n",
       " 'onto',\n",
       " 'test',\n",
       " 'site',\n",
       " 'believing',\n",
       " 'countdown',\n",
       " 'delayed',\n",
       " 'ran',\n",
       " 'desert',\n",
       " 'warn',\n",
       " 'back',\n",
       " 'banner',\n",
       " 'managed',\n",
       " 'throw',\n",
       " 'jones',\n",
       " 'protective',\n",
       " 'trench',\n",
       " 'bomb',\n",
       " 'detonated',\n",
       " 'bombarded',\n",
       " 'gamma',\n",
       " 'radiation',\n",
       " 'radiation',\n",
       " 'triggered',\n",
       " 'mutagenic',\n",
       " 'change',\n",
       " 'banner',\n",
       " 'causing',\n",
       " 'turn',\n",
       " 'raging',\n",
       " 'superhuman',\n",
       " 'hulk',\n",
       " 'feeling',\n",
       " 'responsible',\n",
       " 'banner',\n",
       " 'condition',\n",
       " 'person',\n",
       " 'know',\n",
       " 'rampaging',\n",
       " 'brute',\n",
       " 'actually',\n",
       " 'banner',\n",
       " 'jones',\n",
       " 'became',\n",
       " 'hulk',\n",
       " 'sometimes',\n",
       " 'unwanted',\n",
       " 'companion',\n",
       " 'ally',\n",
       " 'jones',\n",
       " 'soon',\n",
       " 'organized',\n",
       " 'teen',\n",
       " 'brigade',\n",
       " 'group',\n",
       " 'young',\n",
       " 'amateur',\n",
       " 'ham',\n",
       " 'radio',\n",
       " 'enthusiasts',\n",
       " 'help',\n",
       " 'monitor',\n",
       " 'hulk',\n",
       " 'activities',\n",
       " 'jones',\n",
       " 'present',\n",
       " 'hulk',\n",
       " 'first',\n",
       " 'encounters',\n",
       " 'army',\n",
       " 'well',\n",
       " 'superhuman',\n",
       " 'menaces',\n",
       " 'gargoyle',\n",
       " 'alien',\n",
       " 'toadmen',\n",
       " 'ringmaster',\n",
       " 'tyrannus',\n",
       " 'metal',\n",
       " 'master',\n",
       " 'even',\n",
       " 'run',\n",
       " 'fantastic',\n",
       " 'four',\n",
       " 'avengers',\n",
       " 'formed',\n",
       " 'due',\n",
       " 'rick',\n",
       " 'radio',\n",
       " 'broadcast',\n",
       " 'warning',\n",
       " 'hulk',\n",
       " 'temporarily',\n",
       " 'became',\n",
       " 'sidekick',\n",
       " 'captain',\n",
       " 'america',\n",
       " 'resemblance',\n",
       " 'bucky',\n",
       " 'noted',\n",
       " 'rick',\n",
       " 'even',\n",
       " 'wore',\n",
       " 'bucky',\n",
       " 'costume',\n",
       " 'time',\n",
       " 'however',\n",
       " 'captain',\n",
       " 'america',\n",
       " 'felt',\n",
       " 'want',\n",
       " 'lose',\n",
       " 'another',\n",
       " 'partner',\n",
       " 'rick',\n",
       " 'good',\n",
       " 'athlete',\n",
       " 'quite',\n",
       " 'level',\n",
       " 'bucky',\n",
       " 'iron',\n",
       " 'man',\n",
       " 'suggested',\n",
       " 'rick',\n",
       " 'made',\n",
       " 'full',\n",
       " 'member',\n",
       " 'avengers',\n",
       " 'cap',\n",
       " 'strongly',\n",
       " 'opposed',\n",
       " 'idea',\n",
       " 'kree',\n",
       " 'hero',\n",
       " 'captain',\n",
       " 'mar',\n",
       " 'vell',\n",
       " 'bonded',\n",
       " 'rick',\n",
       " 'due',\n",
       " 'able',\n",
       " 'function',\n",
       " 'negative',\n",
       " 'zone',\n",
       " 'hours',\n",
       " 'using',\n",
       " 'negative',\n",
       " 'zone',\n",
       " 'portal',\n",
       " 'baxter',\n",
       " 'building',\n",
       " 'seemed',\n",
       " 'remove',\n",
       " 'limitation',\n",
       " 'shortly',\n",
       " 'rick',\n",
       " 'mar',\n",
       " 'vell',\n",
       " 'merged',\n",
       " 'eventually',\n",
       " 'separated',\n",
       " 'kree',\n",
       " 'skrull',\n",
       " 'war',\n",
       " 'omniwave',\n",
       " 'machine',\n",
       " 'supreme',\n",
       " 'intelligence',\n",
       " 'caused',\n",
       " 'destiny',\n",
       " 'force',\n",
       " 'trigger',\n",
       " 'within',\n",
       " 'rick',\n",
       " 'attempt',\n",
       " 'cure',\n",
       " 'hulk',\n",
       " 'instead',\n",
       " 'gave',\n",
       " 'rick',\n",
       " 'radiation',\n",
       " 'poisoning',\n",
       " 'hospital',\n",
       " 'dire',\n",
       " 'wraiths',\n",
       " 'began',\n",
       " 'replace',\n",
       " 'staff',\n",
       " 'stopped',\n",
       " 'rom',\n",
       " 'rick',\n",
       " 'assisted',\n",
       " 'rom',\n",
       " 'wraiths',\n",
       " 'temporarily',\n",
       " 'lived',\n",
       " 'brandy',\n",
       " 'clark',\n",
       " 'jones',\n",
       " 'cured',\n",
       " 'beyonder',\n",
       " 'time',\n",
       " 'rom',\n",
       " 'brandy',\n",
       " 'left',\n",
       " 'galador',\n",
       " 'rick',\n",
       " 'began',\n",
       " 'dating',\n",
       " 'marlo',\n",
       " 'chandler',\n",
       " 'former',\n",
       " 'girlfriend',\n",
       " 'hulk',\n",
       " 'two',\n",
       " 'later',\n",
       " 'married',\n",
       " 'great',\n",
       " 'number',\n",
       " 'heroes',\n",
       " 'attendance',\n",
       " 'impossible',\n",
       " 'man',\n",
       " 'best',\n",
       " 'usurp',\n",
       " 'proceedings',\n",
       " 'inviting',\n",
       " 'kree',\n",
       " 'skrulls',\n",
       " 'even',\n",
       " 'mephisto',\n",
       " 'ceremony',\n",
       " 'period',\n",
       " 'estrangement',\n",
       " 'also',\n",
       " 'involved',\n",
       " 'moondragon',\n",
       " 'death',\n",
       " 'becoming',\n",
       " 'involved',\n",
       " 'marlo',\n",
       " 'two',\n",
       " 'reunited',\n",
       " 'jones',\n",
       " 'temporarily',\n",
       " 'paralyzed',\n",
       " 'hulk',\n",
       " 'horseman',\n",
       " 'war',\n",
       " 'attempt',\n",
       " 'stop',\n",
       " 'war',\n",
       " 'hulk',\n",
       " 'thrown',\n",
       " 'pyramid',\n",
       " 'rick',\n",
       " 'cured',\n",
       " 'destiny',\n",
       " 'war',\n",
       " 'summoning',\n",
       " 'avengers',\n",
       " 'various',\n",
       " 'realities',\n",
       " 'battle',\n",
       " 'existence',\n",
       " 'time',\n",
       " 'keepers',\n",
       " 'strain',\n",
       " 'incredible',\n",
       " 'future',\n",
       " 'version',\n",
       " 'genis',\n",
       " 'vell',\n",
       " 'bonded',\n",
       " 'much',\n",
       " 'like',\n",
       " 'rick',\n",
       " 'mar',\n",
       " 'vell',\n",
       " 'rick',\n",
       " 'genis',\n",
       " 'later',\n",
       " 'discovered',\n",
       " 'bond',\n",
       " 'still',\n",
       " 'applied',\n",
       " 'current',\n",
       " 'genis',\n",
       " 'rick',\n",
       " 'authored',\n",
       " 'best',\n",
       " 'selling',\n",
       " 'novel',\n",
       " 'days',\n",
       " 'sidekick',\n",
       " 'hulk',\n",
       " 'returned',\n",
       " 'earth',\n",
       " 'jones',\n",
       " 'attempted',\n",
       " 'calm',\n",
       " 'telling',\n",
       " 'captain',\n",
       " 'america',\n",
       " 'death',\n",
       " 'hulk',\n",
       " 'almost',\n",
       " 'calmed',\n",
       " 'dr',\n",
       " 'strange',\n",
       " 'invaded',\n",
       " 'hulk',\n",
       " 'mind',\n",
       " 'rick',\n",
       " 'later',\n",
       " 'went',\n",
       " 'strange',\n",
       " 'sanctum',\n",
       " 'sanctorum',\n",
       " 'attacked',\n",
       " 'hulk',\n",
       " 'allies',\n",
       " 'later',\n",
       " 'rick',\n",
       " 'transported',\n",
       " 'gamma',\n",
       " 'bomb',\n",
       " 'site',\n",
       " 'gave',\n",
       " 'birth',\n",
       " 'original',\n",
       " 'hulk',\n",
       " 'dropped',\n",
       " 'encountered',\n",
       " 'red',\n",
       " 'hulk',\n",
       " 'seeing',\n",
       " 'murdered',\n",
       " 'emil',\n",
       " 'blonsky',\n",
       " 'abomination',\n",
       " 'rick',\n",
       " 'transformed',\n",
       " 'new',\n",
       " 'blue',\n",
       " 'creature',\n",
       " 'quite',\n",
       " 'resembled',\n",
       " 'abomination',\n",
       " 'calling',\n",
       " 'bomb',\n",
       " 'new',\n",
       " 'form',\n",
       " 'much',\n",
       " 'like',\n",
       " 'original',\n",
       " 'hulk',\n",
       " 'incarnation',\n",
       " 'whereas',\n",
       " 'could',\n",
       " 'remember',\n",
       " 'anybody',\n",
       " 'else',\n",
       " 'transformation',\n",
       " 'complete',\n",
       " 'easily',\n",
       " 'flared',\n",
       " 'temper',\n",
       " 'simplified',\n",
       " 'speech',\n",
       " 'patterns',\n",
       " 'held',\n",
       " 'red',\n",
       " 'hulk',\n",
       " 'extended',\n",
       " 'period',\n",
       " 'time',\n",
       " 'withstanding',\n",
       " 'blows',\n",
       " 'injuring',\n",
       " 'multiple',\n",
       " 'times',\n",
       " 'far',\n",
       " 'nobody',\n",
       " 'able',\n",
       " 'accomplish',\n",
       " 'battle',\n",
       " 'interrupted',\n",
       " 'several',\n",
       " 'giant',\n",
       " 'android',\n",
       " 'harpies',\n",
       " 'specifically',\n",
       " 'designed',\n",
       " 'united',\n",
       " 'states',\n",
       " 'military',\n",
       " 'case',\n",
       " 'bruce',\n",
       " 'banner',\n",
       " 'escaped',\n",
       " 'facility',\n",
       " 'hulk',\n",
       " 'bomb',\n",
       " 'proven',\n",
       " 'hold',\n",
       " 'onto',\n",
       " 'fragments',\n",
       " 'memories',\n",
       " 'rick',\n",
       " 'jones',\n",
       " 'recognized',\n",
       " 'harpies',\n",
       " 'face',\n",
       " 'betty',\n",
       " 'ross',\n",
       " 'bruce',\n",
       " 'banner',\n",
       " 'first',\n",
       " 'love',\n",
       " 'bomb',\n",
       " 'managed',\n",
       " 'disable',\n",
       " 'one',\n",
       " 'mid',\n",
       " 'flight',\n",
       " 'crashed',\n",
       " 'earth',\n",
       " 'robot',\n",
       " 'exploded',\n",
       " 'bomb',\n",
       " 'joined',\n",
       " 'several',\n",
       " 'heroes',\n",
       " 'including',\n",
       " 'avengers',\n",
       " 'fantastic',\n",
       " 'four',\n",
       " 'hulk',\n",
       " 'hulk',\n",
       " 'help',\n",
       " 'stop',\n",
       " 'impending',\n",
       " 'earthquake',\n",
       " 'san',\n",
       " 'francisco',\n",
       " 'caused',\n",
       " 'red',\n",
       " 'hulk',\n",
       " 'red',\n",
       " 'hulk',\n",
       " 'defeated',\n",
       " 'bomb',\n",
       " 'reverted',\n",
       " 'back',\n",
       " 'rick',\n",
       " 'attempted',\n",
       " 'reveal',\n",
       " 'red',\n",
       " 'hulk',\n",
       " 'really',\n",
       " 'shot',\n",
       " 'dragged',\n",
       " 'away',\n",
       " 'doc',\n",
       " 'samson',\n",
       " 'area',\n",
       " 'aa',\n",
       " 'one',\n",
       " 'passive',\n",
       " 'members',\n",
       " 'pumice',\n",
       " 'people',\n",
       " 'race',\n",
       " 'stoneworld',\n",
       " 'hal',\n",
       " ...]"
      ]
     },
     "execution_count": 45,
     "metadata": {},
     "output_type": "execute_result"
    }
   ],
   "source": [
    "cleaned_corpus = process_text(corpus)\n",
    "cleaned_corpus"
   ]
  },
  {
   "cell_type": "code",
   "execution_count": 46,
   "id": "facd87a0",
   "metadata": {
    "ExecuteTime": {
     "end_time": "2022-06-27T14:43:13.472869Z",
     "start_time": "2022-06-27T14:43:13.469404Z"
    }
   },
   "outputs": [
    {
     "data": {
      "text/plain": [
       "490183"
      ]
     },
     "execution_count": 46,
     "metadata": {},
     "output_type": "execute_result"
    }
   ],
   "source": [
    "len(cleaned_corpus)"
   ]
  },
  {
   "cell_type": "code",
   "execution_count": 47,
   "id": "3202abe3",
   "metadata": {
    "ExecuteTime": {
     "end_time": "2022-06-27T14:43:13.558557Z",
     "start_time": "2022-06-27T14:43:13.474461Z"
    }
   },
   "outputs": [],
   "source": [
    "tmp = pd.Series(cleaned_corpus).value_counts()"
   ]
  },
  {
   "cell_type": "code",
   "execution_count": 48,
   "id": "42d989a7",
   "metadata": {
    "ExecuteTime": {
     "end_time": "2022-06-27T14:43:13.564189Z",
     "start_time": "2022-06-27T14:43:13.560190Z"
    }
   },
   "outputs": [
    {
     "data": {
      "text/plain": [
       "1249"
      ]
     },
     "execution_count": 48,
     "metadata": {},
     "output_type": "execute_result"
    }
   ],
   "source": [
    "len(df)"
   ]
  },
  {
   "cell_type": "code",
   "execution_count": 49,
   "id": "547c0079",
   "metadata": {
    "ExecuteTime": {
     "end_time": "2022-06-27T14:43:13.581663Z",
     "start_time": "2022-06-27T14:43:13.566071Z"
    }
   },
   "outputs": [
    {
     "data": {
      "text/plain": [
       "count    28454.000000\n",
       "mean        17.227209\n",
       "std         69.723289\n",
       "min          1.000000\n",
       "25%          1.000000\n",
       "50%          3.000000\n",
       "75%          9.000000\n",
       "max       2289.000000\n",
       "dtype: float64"
      ]
     },
     "execution_count": 49,
     "metadata": {},
     "output_type": "execute_result"
    }
   ],
   "source": [
    "tmp.describe()"
   ]
  },
  {
   "cell_type": "code",
   "execution_count": 50,
   "id": "d81a9a7b",
   "metadata": {
    "ExecuteTime": {
     "end_time": "2022-06-27T14:43:19.421199Z",
     "start_time": "2022-06-27T14:43:13.583553Z"
    }
   },
   "outputs": [
    {
     "data": {
      "text/plain": [
       "<seaborn.axisgrid.FacetGrid at 0x7ff1b4d17040>"
      ]
     },
     "execution_count": 50,
     "metadata": {},
     "output_type": "execute_result"
    },
    {
     "data": {
      "image/png": "[encoded data removed]",
      "text/plain": [
       "<Figure size 360x360 with 1 Axes>"
      ]
     },
     "metadata": {
      "needs_background": "light"
     },
     "output_type": "display_data"
    }
   ],
   "source": [
    "sns.displot(tmp.values)"
   ]
  },
  {
   "cell_type": "code",
   "execution_count": 51,
   "id": "2073ea0a",
   "metadata": {
    "ExecuteTime": {
     "end_time": "2022-06-27T14:43:19.427131Z",
     "start_time": "2022-06-27T14:43:19.422606Z"
    },
    "scrolled": true
   },
   "outputs": [
    {
     "data": {
      "text/plain": [
       "time          2289\n",
       "new           2244\n",
       "x             2229\n",
       "man           2155\n",
       "one           2125\n",
       "would         2047\n",
       "later         1857\n",
       "however       1648\n",
       "earth         1577\n",
       "team          1517\n",
       "back          1438\n",
       "men           1402\n",
       "also          1314\n",
       "power         1293\n",
       "life          1215\n",
       "sonic         1213\n",
       "could         1196\n",
       "powers        1183\n",
       "became        1157\n",
       "two           1136\n",
       "world         1103\n",
       "battle        1094\n",
       "death         1090\n",
       "help          1053\n",
       "first         1053\n",
       "eventually    1000\n",
       "found          992\n",
       "black          973\n",
       "father         973\n",
       "returned       947\n",
       "dtype: int64"
      ]
     },
     "execution_count": 51,
     "metadata": {},
     "output_type": "execute_result"
    }
   ],
   "source": [
    "tmp.head(30)"
   ]
  },
  {
   "cell_type": "code",
   "execution_count": 52,
   "id": "f47b4ea8",
   "metadata": {
    "ExecuteTime": {
     "end_time": "2022-06-27T14:43:19.434420Z",
     "start_time": "2022-06-27T14:43:19.429005Z"
    }
   },
   "outputs": [
    {
     "data": {
      "text/plain": [
       "monaghan        1\n",
       "sidhe           1\n",
       "ectoplasm       1\n",
       "countess        1\n",
       "ilona           1\n",
       "kakosy          1\n",
       "raskine         1\n",
       "infamy          1\n",
       "firefighting    1\n",
       "mania           1\n",
       "shayera         1\n",
       "206             1\n",
       "aldus           1\n",
       "hath            1\n",
       "trotting        1\n",
       "jumble          1\n",
       "zauriel         1\n",
       "roch            1\n",
       "stonechat       1\n",
       "katar           1\n",
       "amicable        1\n",
       "hol             1\n",
       "byth            1\n",
       "pyromaniac      1\n",
       "pseudonym       1\n",
       "2166            1\n",
       "potentials      1\n",
       "maroon          1\n",
       "aberrations     1\n",
       "misjudged       1\n",
       "dtype: int64"
      ]
     },
     "execution_count": 52,
     "metadata": {},
     "output_type": "execute_result"
    }
   ],
   "source": [
    "tmp.tail(30)"
   ]
  },
  {
   "cell_type": "code",
   "execution_count": 53,
   "id": "43313db7",
   "metadata": {
    "ExecuteTime": {
     "end_time": "2022-06-27T14:45:56.227576Z",
     "start_time": "2022-06-27T14:43:19.436327Z"
    }
   },
   "outputs": [
    {
     "name": "stderr",
     "output_type": "stream",
     "text": [
      "/home/alex/Desktop/ocr-donnees-textuelles/env/lib/python3.8/site-packages/seaborn/_decorators.py:36: FutureWarning: Pass the following variable as a keyword arg: x. From version 0.12, the only valid positional argument will be `data`, and passing other arguments without an explicit keyword will result in an error or misinterpretation.\n",
      "  warnings.warn(\n"
     ]
    },
    {
     "data": {
      "text/plain": [
       "<AxesSubplot:ylabel='count'>"
      ]
     },
     "execution_count": 53,
     "metadata": {},
     "output_type": "execute_result"
    },
    {
     "name": "stderr",
     "output_type": "stream",
     "text": [
      "/home/alex/Desktop/ocr-donnees-textuelles/env/lib/python3.8/site-packages/IPython/core/pylabtools.py:151: UserWarning: Glyph 12450 (\\N{KATAKANA LETTER A}) missing from current font.\n",
      "  fig.canvas.print_figure(bytes_io, **kw)\n",
      "/home/alex/Desktop/ocr-donnees-textuelles/env/lib/python3.8/site-packages/IPython/core/pylabtools.py:151: UserWarning: Glyph 12540 (\\N{KATAKANA-HIRAGANA PROLONGED SOUND MARK}) missing from current font.\n",
      "  fig.canvas.print_figure(bytes_io, **kw)\n",
      "/home/alex/Desktop/ocr-donnees-textuelles/env/lib/python3.8/site-packages/IPython/core/pylabtools.py:151: UserWarning: Glyph 12459 (\\N{KATAKANA LETTER KA}) missing from current font.\n",
      "  fig.canvas.print_figure(bytes_io, **kw)\n",
      "/home/alex/Desktop/ocr-donnees-textuelles/env/lib/python3.8/site-packages/IPython/core/pylabtools.py:151: UserWarning: Glyph 12489 (\\N{KATAKANA LETTER DO}) missing from current font.\n",
      "  fig.canvas.print_figure(bytes_io, **kw)\n",
      "/home/alex/Desktop/ocr-donnees-textuelles/env/lib/python3.8/site-packages/IPython/core/pylabtools.py:151: UserWarning: Glyph 39364 (\\N{CJK UNIFIED IDEOGRAPH-99C4}) missing from current font.\n",
      "  fig.canvas.print_figure(bytes_io, **kw)\n",
      "/home/alex/Desktop/ocr-donnees-textuelles/env/lib/python3.8/site-packages/IPython/core/pylabtools.py:151: UserWarning: Glyph 29356 (\\N{CJK UNIFIED IDEOGRAPH-72AC}) missing from current font.\n",
      "  fig.canvas.print_figure(bytes_io, **kw)\n",
      "/home/alex/Desktop/ocr-donnees-textuelles/env/lib/python3.8/site-packages/IPython/core/pylabtools.py:151: UserWarning: Glyph 25331 (\\N{CJK UNIFIED IDEOGRAPH-62F3}) missing from current font.\n",
      "  fig.canvas.print_figure(bytes_io, **kw)\n",
      "/home/alex/Desktop/ocr-donnees-textuelles/env/lib/python3.8/site-packages/IPython/core/pylabtools.py:151: UserWarning: Glyph 29579 (\\N{CJK UNIFIED IDEOGRAPH-738B}) missing from current font.\n",
      "  fig.canvas.print_figure(bytes_io, **kw)\n"
     ]
    },
    {
     "name": "stdout",
     "output_type": "stream",
     "text": [
      "Error in callback <function flush_figures at 0x7ff1b0b64a60> (for post_execute):\n"
     ]
    },
    {
     "name": "stderr",
     "output_type": "stream",
     "text": [
      "\n",
      "KeyboardInterrupt\n",
      "\n"
     ]
    }
   ],
   "source": [
    "# sns.countplot(pd.Series(cleaned_corpus))"
   ]
  },
  {
   "cell_type": "code",
   "execution_count": 54,
   "id": "eaca7018",
   "metadata": {
    "ExecuteTime": {
     "end_time": "2022-06-27T14:45:56.274575Z",
     "start_time": "2022-06-27T14:45:56.234131Z"
    }
   },
   "outputs": [
    {
     "data": {
      "text/plain": [
       "combo          1\n",
       "diverting      1\n",
       "tryout         1\n",
       "speedfreek     1\n",
       "revamps        1\n",
       "x5edit         1\n",
       "genre          1\n",
       "intiative      1\n",
       "decreeing      1\n",
       "relocates      1\n",
       "cliches        1\n",
       "evacuating     1\n",
       "1602           1\n",
       "founds         1\n",
       "masterpiece    1\n",
       "adhered        1\n",
       "tumbalt        1\n",
       "kalthea        1\n",
       "loveable       1\n",
       "aggregation    1\n",
       "understands    1\n",
       "midland        1\n",
       "philly         1\n",
       "jacobs         1\n",
       "bladder        1\n",
       "starcore       1\n",
       "accedes        1\n",
       "producers      1\n",
       "toes           1\n",
       "thorn          1\n",
       "dtype: int64"
      ]
     },
     "execution_count": 54,
     "metadata": {},
     "output_type": "execute_result"
    }
   ],
   "source": [
    "list_unique_words = tmp[tmp==1]\n",
    "list_unique_words[:30]"
   ]
  },
  {
   "cell_type": "code",
   "execution_count": 55,
   "id": "2eb9b8bc",
   "metadata": {
    "ExecuteTime": {
     "end_time": "2022-06-27T14:45:56.284798Z",
     "start_time": "2022-06-27T14:45:56.277011Z"
    }
   },
   "outputs": [
    {
     "data": {
      "text/plain": [
       "['combo',\n",
       " 'diverting',\n",
       " 'tryout',\n",
       " 'speedfreek',\n",
       " 'revamps',\n",
       " 'x5edit',\n",
       " 'genre',\n",
       " 'intiative',\n",
       " 'decreeing',\n",
       " 'relocates',\n",
       " 'cliches',\n",
       " 'evacuating',\n",
       " '1602',\n",
       " 'founds',\n",
       " 'masterpiece',\n",
       " 'adhered',\n",
       " 'tumbalt',\n",
       " 'kalthea',\n",
       " 'loveable',\n",
       " 'aggregation',\n",
       " 'understands',\n",
       " 'midland',\n",
       " 'philly',\n",
       " 'jacobs',\n",
       " 'bladder',\n",
       " 'starcore',\n",
       " 'accedes',\n",
       " 'producers',\n",
       " 'toes',\n",
       " 'thorn']"
      ]
     },
     "execution_count": 55,
     "metadata": {},
     "output_type": "execute_result"
    }
   ],
   "source": [
    "list_unique_words = list(list_unique_words.index)\n",
    "list_unique_words[:30]"
   ]
  },
  {
   "cell_type": "code",
   "execution_count": 56,
   "id": "4fb47469",
   "metadata": {
    "ExecuteTime": {
     "end_time": "2022-06-27T14:45:56.292016Z",
     "start_time": "2022-06-27T14:45:56.287116Z"
    }
   },
   "outputs": [],
   "source": [
    "def process_text(txt, rejoin=False) : \n",
    "    \n",
    "    txt = txt.lower().strip()\n",
    "    tokenizer = RegexpTokenizer(r\"\\w+\")\n",
    "    raw_tokens_list = tokenizer.tokenize(txt)\n",
    "    cleaned_tokens_list = [w for w in raw_tokens_list if w not in stop_words]\n",
    "    non_unique_tokens_list = [w for w in cleaned_tokens_list not in list_unique_words]\n",
    "    more_than_3 =  [w for w in non_unique_tokens_list if len(w) > 3 ]\n",
    "    \n",
    "    alpha_num = [w for w in more_than_3 if w.isalpha()]\n",
    "    \n",
    "    \n",
    "    if rejoin : \n",
    "        return \" \".join(cleaned_tokens_list)\n",
    "    \n",
    "    return cleaned_tokens_list"
   ]
  },
  {
   "cell_type": "code",
   "execution_count": 57,
   "id": "6f28e122",
   "metadata": {
    "ExecuteTime": {
     "end_time": "2022-06-27T14:45:56.298725Z",
     "start_time": "2022-06-27T14:45:56.294338Z"
    }
   },
   "outputs": [
    {
     "data": {
      "text/plain": [
       "False"
      ]
     },
     "execution_count": 57,
     "metadata": {},
     "output_type": "execute_result"
    }
   ],
   "source": [
    "\"a12\".isalpha()"
   ]
  },
  {
   "cell_type": "code",
   "execution_count": 58,
   "id": "205a7e22",
   "metadata": {
    "ExecuteTime": {
     "end_time": "2022-06-27T14:45:56.306671Z",
     "start_time": "2022-06-27T14:45:56.300665Z"
    },
    "scrolled": true
   },
   "outputs": [
    {
     "data": {
      "text/plain": [
       "['delroy',\n",
       " 'garrett',\n",
       " 'jr',\n",
       " 'grew',\n",
       " 'become',\n",
       " 'track',\n",
       " 'star',\n",
       " 'competed',\n",
       " 'olympic',\n",
       " 'games',\n",
       " 'tested',\n",
       " 'positive',\n",
       " 'steroids',\n",
       " 'lost',\n",
       " 'three',\n",
       " 'gold',\n",
       " 'medals',\n",
       " 'despair',\n",
       " 'turned',\n",
       " 'religion',\n",
       " 'specifically',\n",
       " 'triune',\n",
       " 'understanding',\n",
       " 'group',\n",
       " 'founder',\n",
       " 'jonathan',\n",
       " 'tremont',\n",
       " 'found',\n",
       " 'one',\n",
       " 'three',\n",
       " 'fragments',\n",
       " 'mysterious',\n",
       " 'object',\n",
       " 'used',\n",
       " 'give',\n",
       " 'garrett',\n",
       " 'powers',\n",
       " '3',\n",
       " 'man',\n",
       " 'garrett',\n",
       " 'assumed',\n",
       " 'powers',\n",
       " 'newfound',\n",
       " 'spiritual',\n",
       " 'enlightenment',\n",
       " 'tremont',\n",
       " 'never',\n",
       " 'disabused',\n",
       " 'notion',\n",
       " 'one',\n",
       " 'many',\n",
       " 'prisoners',\n",
       " 'indian',\n",
       " 'hill',\n",
       " 'transferred',\n",
       " 'another',\n",
       " 'facility',\n",
       " 'upstate',\n",
       " 'orders',\n",
       " 'court',\n",
       " 'however',\n",
       " 'fish',\n",
       " 'mooney',\n",
       " 'hijacks',\n",
       " 'bus',\n",
       " 'drives',\n",
       " 'gotham',\n",
       " 'city',\n",
       " 'bus',\n",
       " 'crashes',\n",
       " 'fired',\n",
       " 'upon',\n",
       " 'butch',\n",
       " 'gilzean',\n",
       " 'gang',\n",
       " 'mobsters',\n",
       " 'flee',\n",
       " 'sight',\n",
       " 'resurrected',\n",
       " 'fish',\n",
       " 'leaves',\n",
       " 'scene',\n",
       " 'elderly',\n",
       " 'hobo',\n",
       " 'lady',\n",
       " 'hears',\n",
       " 'cries',\n",
       " 'prisoners',\n",
       " 'releases',\n",
       " 'horrified',\n",
       " 'monstrous',\n",
       " 'appearance',\n",
       " 'monsters',\n",
       " 'depart',\n",
       " 'prison',\n",
       " 'van',\n",
       " 'make',\n",
       " 'way',\n",
       " 'gotham',\n",
       " 'city']"
      ]
     },
     "execution_count": 58,
     "metadata": {},
     "output_type": "execute_result"
    }
   ],
   "source": [
    "cleaned_corpus[:100]"
   ]
  },
  {
   "cell_type": "code",
   "execution_count": 59,
   "id": "f08cac1a",
   "metadata": {
    "ExecuteTime": {
     "end_time": "2022-06-27T14:45:56.356036Z",
     "start_time": "2022-06-27T14:45:56.309805Z"
    }
   },
   "outputs": [
    {
     "data": {
      "text/plain": [
       "28454"
      ]
     },
     "execution_count": 59,
     "metadata": {},
     "output_type": "execute_result"
    }
   ],
   "source": [
    "len(set(cleaned_corpus))"
   ]
  },
  {
   "cell_type": "code",
   "execution_count": 60,
   "id": "0441adca",
   "metadata": {
    "ExecuteTime": {
     "end_time": "2022-06-27T14:45:56.361847Z",
     "start_time": "2022-06-27T14:45:56.358678Z"
    }
   },
   "outputs": [],
   "source": [
    "\n",
    "\n",
    "\n",
    "  \n",
    "lemmatizer = WordNetLemmatizer()"
   ]
  },
  {
   "cell_type": "code",
   "execution_count": 61,
   "id": "d0d204c7",
   "metadata": {
    "ExecuteTime": {
     "end_time": "2022-06-27T14:45:56.442843Z",
     "start_time": "2022-06-27T14:45:56.363800Z"
    }
   },
   "outputs": [
    {
     "name": "stderr",
     "output_type": "stream",
     "text": [
      "[nltk_data] Downloading package wordnet to /home/alex/nltk_data...\n",
      "[nltk_data]   Package wordnet is already up-to-date!\n"
     ]
    },
    {
     "data": {
      "text/plain": [
       "True"
      ]
     },
     "execution_count": 61,
     "metadata": {},
     "output_type": "execute_result"
    }
   ],
   "source": []
  },
  {
   "cell_type": "code",
   "execution_count": 62,
   "id": "8cb4afa7",
   "metadata": {
    "ExecuteTime": {
     "end_time": "2022-06-27T14:45:56.601997Z",
     "start_time": "2022-06-27T14:45:56.445894Z"
    }
   },
   "outputs": [
    {
     "name": "stderr",
     "output_type": "stream",
     "text": [
      "[nltk_data] Downloading package omw-1.4 to /home/alex/nltk_data...\n",
      "[nltk_data]   Package omw-1.4 is already up-to-date!\n"
     ]
    },
    {
     "data": {
      "text/plain": [
       "True"
      ]
     },
     "execution_count": 62,
     "metadata": {},
     "output_type": "execute_result"
    }
   ],
   "source": []
  },
  {
   "cell_type": "code",
   "execution_count": 63,
   "id": "f913830f",
   "metadata": {
    "ExecuteTime": {
     "end_time": "2022-06-27T14:45:58.633022Z",
     "start_time": "2022-06-27T14:45:56.605943Z"
    }
   },
   "outputs": [
    {
     "data": {
      "text/plain": [
       "'car'"
      ]
     },
     "execution_count": 63,
     "metadata": {},
     "output_type": "execute_result"
    }
   ],
   "source": [
    "lemmatizer.lemmatize(\"cars\")"
   ]
  },
  {
   "cell_type": "code",
   "execution_count": 64,
   "id": "78a1ea66",
   "metadata": {
    "ExecuteTime": {
     "end_time": "2022-06-27T14:45:58.647775Z",
     "start_time": "2022-06-27T14:45:58.637965Z"
    }
   },
   "outputs": [],
   "source": [
    "from nltk.stem import PorterStemmer\n",
    "from nltk.tokenize import word_tokenize\n",
    " \n",
    "ps = PorterStemmer()"
   ]
  },
  {
   "cell_type": "code",
   "execution_count": 65,
   "id": "62185d7c",
   "metadata": {
    "ExecuteTime": {
     "end_time": "2022-06-27T14:46:01.798672Z",
     "start_time": "2022-06-27T14:45:58.650943Z"
    }
   },
   "outputs": [],
   "source": [
    "lemm_cleanned_corpus = [lemmatizer.lemmatize(i) for i in cleaned_corpus ]"
   ]
  },
  {
   "cell_type": "code",
   "execution_count": 66,
   "id": "4a522776",
   "metadata": {
    "ExecuteTime": {
     "end_time": "2022-06-27T14:46:01.883906Z",
     "start_time": "2022-06-27T14:46:01.813818Z"
    }
   },
   "outputs": [
    {
     "data": {
      "text/plain": [
       "25671"
      ]
     },
     "execution_count": 66,
     "metadata": {},
     "output_type": "execute_result"
    }
   ],
   "source": [
    "len(set(lemm_cleanned_corpus))"
   ]
  },
  {
   "cell_type": "code",
   "execution_count": 67,
   "id": "906a48b9",
   "metadata": {
    "ExecuteTime": {
     "end_time": "2022-06-27T14:46:01.919364Z",
     "start_time": "2022-06-27T14:46:01.889214Z"
    }
   },
   "outputs": [],
   "source": [
    "def process_text(txt, rejoin=True, lemm_or_stemm = \"stem\") : \n",
    "    \"\"\"global text processing function\"\"\"\n",
    "    \n",
    "    # lower and strip\n",
    "    txt = txt.lower().strip()\n",
    "    \n",
    "    # tokenize\n",
    "    tokenizer = RegexpTokenizer(r\"\\w+\")\n",
    "    raw_tokens_list = tokenizer.tokenize(txt)\n",
    "    \n",
    "    # remove stop words\n",
    "    cleaned_tokens_list = [w for w in raw_tokens_list if w not in stop_words]\n",
    "    \n",
    "    # drop unique tokens\n",
    "    non_unique_tokens_list = [w for w in cleaned_tokens_list if w not in list_unique_words]\n",
    "    \n",
    "    # keep only len word > 3\n",
    "    more_than_3 =  [w for w in non_unique_tokens_list if len(w) > 3 ]\n",
    "    \n",
    "    # keep only alpha not num\n",
    "    alpha_num = [w for w in more_than_3 if w.isalpha()]\n",
    "    \n",
    "    # stem or lem\n",
    "    if lemm_or_stemm == \"lem\" : \n",
    "        trans = WordNetLemmatizer()\n",
    "        trans_text = [trans.lemmatize(i) for i in alpha_num ]\n",
    "    else : \n",
    "        trans = PorterStemmer()\n",
    "        trans_text = [trans.stem(i) for i in alpha_num ]\n",
    "    \n",
    "    #  return a list or a string\n",
    "    if rejoin : \n",
    "        return \" \".join(trans_text)\n",
    "    \n",
    "    return trans_text"
   ]
  },
  {
   "cell_type": "code",
   "execution_count": null,
   "id": "b7400fe6",
   "metadata": {
    "ExecuteTime": {
     "start_time": "2022-06-27T14:43:12.874Z"
    }
   },
   "outputs": [],
   "source": [
    "df[\"cleaned_history\"] = df.history_text.apply(lambda i : process_text(i))"
   ]
  },
  {
   "cell_type": "code",
   "execution_count": null,
   "id": "28768381",
   "metadata": {
    "ExecuteTime": {
     "start_time": "2022-06-27T14:43:12.876Z"
    }
   },
   "outputs": [],
   "source": [
    "df.history_text"
   ]
  },
  {
   "cell_type": "code",
   "execution_count": null,
   "id": "3c8be691",
   "metadata": {
    "ExecuteTime": {
     "start_time": "2022-06-27T14:43:12.878Z"
    }
   },
   "outputs": [],
   "source": [
    "df.cleaned_history"
   ]
  },
  {
   "cell_type": "code",
   "execution_count": null,
   "id": "f4fd5fab",
   "metadata": {
    "ExecuteTime": {
     "start_time": "2022-06-27T14:43:12.879Z"
    },
    "scrolled": true
   },
   "outputs": [],
   "source": [
    "!pip install sklearn"
   ]
  },
  {
   "cell_type": "code",
   "execution_count": null,
   "id": "0623efe5",
   "metadata": {
    "ExecuteTime": {
     "start_time": "2022-06-27T14:43:12.881Z"
    }
   },
   "outputs": [],
   "source": [
    "from sklearn.feature_extraction.text import TfidfVectorizer"
   ]
  },
  {
   "cell_type": "code",
   "execution_count": null,
   "id": "07b0ebd6",
   "metadata": {
    "ExecuteTime": {
     "start_time": "2022-06-27T14:43:12.882Z"
    }
   },
   "outputs": [],
   "source": [
    "tf = TfidfVectorizer()"
   ]
  },
  {
   "cell_type": "code",
   "execution_count": null,
   "id": "7cbfa215",
   "metadata": {
    "ExecuteTime": {
     "start_time": "2022-06-27T14:43:12.884Z"
    }
   },
   "outputs": [],
   "source": [
    "res = tf.fit_transform(df.cleaned_history)"
   ]
  },
  {
   "cell_type": "code",
   "execution_count": null,
   "id": "b20d81d7",
   "metadata": {
    "ExecuteTime": {
     "start_time": "2022-06-27T14:43:12.886Z"
    }
   },
   "outputs": [],
   "source": [
    "res"
   ]
  },
  {
   "cell_type": "code",
   "execution_count": null,
   "id": "b504243f",
   "metadata": {
    "ExecuteTime": {
     "start_time": "2022-06-27T14:43:12.888Z"
    }
   },
   "outputs": [],
   "source": [
    "res = res.toarray()"
   ]
  },
  {
   "cell_type": "code",
   "execution_count": null,
   "id": "b1f25c1a",
   "metadata": {
    "ExecuteTime": {
     "start_time": "2022-06-27T14:43:12.890Z"
    }
   },
   "outputs": [],
   "source": [
    "res."
   ]
  }
 ],
 "metadata": {
  "hide_input": false,
  "kernelspec": {
   "display_name": "Python 3",
   "language": "python",
   "name": "python3"
  },
  "language_info": {
   "codemirror_mode": {
    "name": "ipython",
    "version": 3
   },
   "file_extension": ".py",
   "mimetype": "text/x-python",
   "name": "python",
   "nbconvert_exporter": "python",
   "pygments_lexer": "ipython3",
   "version": "3.8.10"
  }
 },
 "nbformat": 4,
 "nbformat_minor": 5
}
