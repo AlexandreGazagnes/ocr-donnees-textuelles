{
 "cells": [
  {
   "cell_type": "markdown",
   "id": "90d846cb",
   "metadata": {},
   "source": [
    "# 1. Preliminary"
   ]
  },
  {
   "cell_type": "markdown",
   "id": "03838406",
   "metadata": {},
   "source": [
    "## 1.1 Context"
   ]
  },
  {
   "cell_type": "code",
   "execution_count": null,
   "id": "37885c7f",
   "metadata": {},
   "outputs": [],
   "source": []
  },
  {
   "cell_type": "markdown",
   "id": "97396f16",
   "metadata": {},
   "source": [
    "## 1.2 Imports"
   ]
  },
  {
   "cell_type": "code",
   "execution_count": 2,
   "id": "d56dbd5f",
   "metadata": {
    "ExecuteTime": {
     "end_time": "2022-06-27T15:03:36.800126Z",
     "start_time": "2022-06-27T15:03:36.791729Z"
    }
   },
   "outputs": [
    {
     "name": "stdout",
     "output_type": "stream",
     "text": [
      "INFO: Pandarallel will run on 4 workers.\n",
      "INFO: Pandarallel will use Memory file system to transfer data between the main process and workers.\n"
     ]
    }
   ],
   "source": [
    "import os, sys, time\n",
    "\n",
    "import nltk\n",
    "from nltk.stem import WordNetLemmatizer\n",
    "from nltk.stem import PorterStemmer\n",
    "from nltk.tokenize import word_tokenize\n",
    "\n",
    "import spacy\n",
    "\n",
    "import pandas as pd\n",
    "import numpy as np\n",
    "\n",
    "import seaborn as sns\n",
    "import matplotlib.pyplot as plt\n",
    "import plotly as px\n",
    "\n",
    "\n",
    "from pandarallel import pandarallel\n",
    "\n",
    "pandarallel.initialize()\n",
    "\n",
    "!pip install sklearn"
   ]
  },
  {
   "cell_type": "code",
   "execution_count": 3,
   "id": "f8f872b9",
   "metadata": {
    "ExecuteTime": {
     "end_time": "2022-06-27T15:03:37.359424Z",
     "start_time": "2022-06-27T15:03:37.209672Z"
    }
   },
   "outputs": [
    {
     "name": "stderr",
     "output_type": "stream",
     "text": [
      "[nltk_data] Downloading package omw-1.4 to /home/alex/nltk_data...\n",
      "[nltk_data]   Package omw-1.4 is already up-to-date!\n",
      "[nltk_data] Downloading package wordnet to /home/alex/nltk_data...\n",
      "[nltk_data]   Package wordnet is already up-to-date!\n"
     ]
    },
    {
     "data": {
      "text/plain": [
       "True"
      ]
     },
     "execution_count": 3,
     "metadata": {},
     "output_type": "execute_result"
    }
   ],
   "source": [
    "nltk.download('omw-1.4')\n",
    "nltk.download('wordnet')"
   ]
  },
  {
   "cell_type": "markdown",
   "id": "1880a917",
   "metadata": {},
   "source": [
    "## 1.3 Loading data"
   ]
  },
  {
   "cell_type": "code",
   "execution_count": 4,
   "id": "c046fdbb",
   "metadata": {
    "ExecuteTime": {
     "end_time": "2022-06-27T15:03:40.649353Z",
     "start_time": "2022-06-27T15:03:40.637044Z"
    }
   },
   "outputs": [
    {
     "data": {
      "text/plain": [
       "['df.csv']"
      ]
     },
     "execution_count": 4,
     "metadata": {},
     "output_type": "execute_result"
    }
   ],
   "source": [
    "# our file\n",
    "\n",
    "data = \"./data/cleaned/\"\n",
    "os.listdir(data)"
   ]
  },
  {
   "cell_type": "code",
   "execution_count": 5,
   "id": "e699e715",
   "metadata": {
    "ExecuteTime": {
     "end_time": "2022-06-27T15:03:41.241619Z",
     "start_time": "2022-06-27T15:03:41.175398Z"
    }
   },
   "outputs": [],
   "source": [
    "# load dataframe\n",
    "\n",
    "fn = data + 'df.csv'\n",
    "\n",
    "df = pd.read_csv(fn)"
   ]
  },
  {
   "cell_type": "code",
   "execution_count": 6,
   "id": "30a66d13",
   "metadata": {
    "ExecuteTime": {
     "end_time": "2022-06-27T15:03:42.216353Z",
     "start_time": "2022-06-27T15:03:42.178556Z"
    }
   },
   "outputs": [
    {
     "data": {
      "text/html": [
       "<div>\n",
       "<style scoped>\n",
       "    .dataframe tbody tr th:only-of-type {\n",
       "        vertical-align: middle;\n",
       "    }\n",
       "\n",
       "    .dataframe tbody tr th {\n",
       "        vertical-align: top;\n",
       "    }\n",
       "\n",
       "    .dataframe thead th {\n",
       "        text-align: right;\n",
       "    }\n",
       "</style>\n",
       "<table border=\"1\" class=\"dataframe\">\n",
       "  <thead>\n",
       "    <tr style=\"text-align: right;\">\n",
       "      <th></th>\n",
       "      <th>name</th>\n",
       "      <th>history_text</th>\n",
       "      <th>_score</th>\n",
       "      <th>_log_score</th>\n",
       "      <th>_len_name</th>\n",
       "      <th>_len_history_text</th>\n",
       "      <th>_cat</th>\n",
       "      <th>_log_cat</th>\n",
       "    </tr>\n",
       "  </thead>\n",
       "  <tbody>\n",
       "    <tr>\n",
       "      <th>0</th>\n",
       "      <td>3-D Man</td>\n",
       "      <td>Delroy Garrett, Jr. grew up to become a track ...</td>\n",
       "      <td>6.0</td>\n",
       "      <td>1.791759</td>\n",
       "      <td>7</td>\n",
       "      <td>509</td>\n",
       "      <td>e</td>\n",
       "      <td>d</td>\n",
       "    </tr>\n",
       "    <tr>\n",
       "      <th>1</th>\n",
       "      <td>514A (Gotham)</td>\n",
       "      <td>He was one of the many prisoners of Indian Hil...</td>\n",
       "      <td>10.0</td>\n",
       "      <td>2.302585</td>\n",
       "      <td>13</td>\n",
       "      <td>3755</td>\n",
       "      <td>e</td>\n",
       "      <td>c</td>\n",
       "    </tr>\n",
       "    <tr>\n",
       "      <th>2</th>\n",
       "      <td>A-Bomb</td>\n",
       "      <td>Richard \"Rick\" Jones was orphaned at a young ...</td>\n",
       "      <td>20.0</td>\n",
       "      <td>2.995732</td>\n",
       "      <td>6</td>\n",
       "      <td>5849</td>\n",
       "      <td>e</td>\n",
       "      <td>c</td>\n",
       "    </tr>\n",
       "    <tr>\n",
       "      <th>3</th>\n",
       "      <td>Aa</td>\n",
       "      <td>Aa is one of the more passive members of the P...</td>\n",
       "      <td>12.0</td>\n",
       "      <td>2.484907</td>\n",
       "      <td>2</td>\n",
       "      <td>5924</td>\n",
       "      <td>e</td>\n",
       "      <td>c</td>\n",
       "    </tr>\n",
       "    <tr>\n",
       "      <th>4</th>\n",
       "      <td>Aaron Cash</td>\n",
       "      <td>Aaron Cash is the head of security at Arkham A...</td>\n",
       "      <td>5.0</td>\n",
       "      <td>1.609438</td>\n",
       "      <td>10</td>\n",
       "      <td>123</td>\n",
       "      <td>e</td>\n",
       "      <td>d</td>\n",
       "    </tr>\n",
       "  </tbody>\n",
       "</table>\n",
       "</div>"
      ],
      "text/plain": [
       "            name  ... _log_cat\n",
       "0        3-D Man  ...        d\n",
       "1  514A (Gotham)  ...        c\n",
       "2         A-Bomb  ...        c\n",
       "3             Aa  ...        c\n",
       "4     Aaron Cash  ...        d\n",
       "\n",
       "[5 rows x 8 columns]"
      ]
     },
     "execution_count": 6,
     "metadata": {},
     "output_type": "execute_result"
    }
   ],
   "source": [
    "df.head()"
   ]
  },
  {
   "cell_type": "markdown",
   "id": "0c486529",
   "metadata": {},
   "source": []
  },
  {
   "cell_type": "code",
   "execution_count": null,
   "id": "04d28d83",
   "metadata": {},
   "outputs": [],
   "source": []
  },
  {
   "cell_type": "markdown",
   "id": "d5ca41f4",
   "metadata": {},
   "source": [
    "# 5. Working with text SEPARATE NOTEBOOK"
   ]
  },
  {
   "cell_type": "markdown",
   "id": "217f8727",
   "metadata": {},
   "source": [
    "##  5.1 10 random texts "
   ]
  },
  {
   "cell_type": "code",
   "execution_count": 7,
   "id": "cc5041cf",
   "metadata": {
    "ExecuteTime": {
     "end_time": "2022-06-27T15:03:44.685966Z",
     "start_time": "2022-06-27T15:03:44.682272Z"
    }
   },
   "outputs": [],
   "source": [
    "df.rename(columns={\"name\" : \"_name\"}, inplace=True)"
   ]
  },
  {
   "cell_type": "code",
   "execution_count": 8,
   "id": "e5c2a30a",
   "metadata": {
    "ExecuteTime": {
     "end_time": "2022-06-27T15:03:44.978745Z",
     "start_time": "2022-06-27T15:03:44.956352Z"
    }
   },
   "outputs": [
    {
     "data": {
      "text/html": [
       "<div>\n",
       "<style scoped>\n",
       "    .dataframe tbody tr th:only-of-type {\n",
       "        vertical-align: middle;\n",
       "    }\n",
       "\n",
       "    .dataframe tbody tr th {\n",
       "        vertical-align: top;\n",
       "    }\n",
       "\n",
       "    .dataframe thead th {\n",
       "        text-align: right;\n",
       "    }\n",
       "</style>\n",
       "<table border=\"1\" class=\"dataframe\">\n",
       "  <thead>\n",
       "    <tr style=\"text-align: right;\">\n",
       "      <th></th>\n",
       "      <th>_name</th>\n",
       "      <th>history_text</th>\n",
       "      <th>_score</th>\n",
       "      <th>_log_score</th>\n",
       "      <th>_len_name</th>\n",
       "      <th>_len_history_text</th>\n",
       "      <th>_cat</th>\n",
       "      <th>_log_cat</th>\n",
       "    </tr>\n",
       "  </thead>\n",
       "  <tbody>\n",
       "    <tr>\n",
       "      <th>1003</th>\n",
       "      <td>Shao Kahn</td>\n",
       "      <td>Shao Kahn was originally a royal advisor to th...</td>\n",
       "      <td>75.0</td>\n",
       "      <td>4.317488</td>\n",
       "      <td>9</td>\n",
       "      <td>14794</td>\n",
       "      <td>d</td>\n",
       "      <td>b</td>\n",
       "    </tr>\n",
       "    <tr>\n",
       "      <th>763</th>\n",
       "      <td>Mera (New 52)</td>\n",
       "      <td>Mera is the princess of the underwater kingdom...</td>\n",
       "      <td>16.0</td>\n",
       "      <td>2.772589</td>\n",
       "      <td>13</td>\n",
       "      <td>124</td>\n",
       "      <td>e</td>\n",
       "      <td>c</td>\n",
       "    </tr>\n",
       "    <tr>\n",
       "      <th>1035</th>\n",
       "      <td>Solomon Grundy</td>\n",
       "      <td>Cyrus Gold (Solomon Grundy), is a Zombie super...</td>\n",
       "      <td>7.0</td>\n",
       "      <td>1.945910</td>\n",
       "      <td>14</td>\n",
       "      <td>12942</td>\n",
       "      <td>e</td>\n",
       "      <td>d</td>\n",
       "    </tr>\n",
       "    <tr>\n",
       "      <th>506</th>\n",
       "      <td>Hawkwoman</td>\n",
       "      <td>Born on Thanagar, Hawkwoman protected all that...</td>\n",
       "      <td>8.0</td>\n",
       "      <td>2.079442</td>\n",
       "      <td>9</td>\n",
       "      <td>79</td>\n",
       "      <td>e</td>\n",
       "      <td>d</td>\n",
       "    </tr>\n",
       "    <tr>\n",
       "      <th>724</th>\n",
       "      <td>Mach-IV</td>\n",
       "      <td>Abner Jenkins was a master mechanic at an airc...</td>\n",
       "      <td>8.0</td>\n",
       "      <td>2.079442</td>\n",
       "      <td>7</td>\n",
       "      <td>2049</td>\n",
       "      <td>e</td>\n",
       "      <td>d</td>\n",
       "    </tr>\n",
       "    <tr>\n",
       "      <th>282</th>\n",
       "      <td>Crimson Dynamo</td>\n",
       "      <td>The first Crimson Dynamo was also the creator ...</td>\n",
       "      <td>10.0</td>\n",
       "      <td>2.302585</td>\n",
       "      <td>14</td>\n",
       "      <td>1394</td>\n",
       "      <td>e</td>\n",
       "      <td>c</td>\n",
       "    </tr>\n",
       "    <tr>\n",
       "      <th>494</th>\n",
       "      <td>Harrison Wells (CW)</td>\n",
       "      <td>Dr. Harrison \"Harry\" Wells is the founder of S...</td>\n",
       "      <td>9.0</td>\n",
       "      <td>2.197225</td>\n",
       "      <td>19</td>\n",
       "      <td>1308</td>\n",
       "      <td>e</td>\n",
       "      <td>c</td>\n",
       "    </tr>\n",
       "    <tr>\n",
       "      <th>656</th>\n",
       "      <td>Kilowog</td>\n",
       "      <td>Bolovax Vik was one of the most crowded plan...</td>\n",
       "      <td>15.0</td>\n",
       "      <td>2.708050</td>\n",
       "      <td>7</td>\n",
       "      <td>5112</td>\n",
       "      <td>e</td>\n",
       "      <td>c</td>\n",
       "    </tr>\n",
       "    <tr>\n",
       "      <th>900</th>\n",
       "      <td>Proxima Midnight (MCU)</td>\n",
       "      <td>Proxima Midnight was one of Thanos' children a...</td>\n",
       "      <td>6.0</td>\n",
       "      <td>1.791759</td>\n",
       "      <td>22</td>\n",
       "      <td>562</td>\n",
       "      <td>e</td>\n",
       "      <td>d</td>\n",
       "    </tr>\n",
       "    <tr>\n",
       "      <th>1229</th>\n",
       "      <td>Wu</td>\n",
       "      <td>Wu was born to the First Spinjitzu Master, alo...</td>\n",
       "      <td>18.0</td>\n",
       "      <td>2.890372</td>\n",
       "      <td>2</td>\n",
       "      <td>941</td>\n",
       "      <td>e</td>\n",
       "      <td>c</td>\n",
       "    </tr>\n",
       "  </tbody>\n",
       "</table>\n",
       "</div>"
      ],
      "text/plain": [
       "                       _name  ... _log_cat\n",
       "1003               Shao Kahn  ...        b\n",
       "763            Mera (New 52)  ...        c\n",
       "1035          Solomon Grundy  ...        d\n",
       "506                Hawkwoman  ...        d\n",
       "724                  Mach-IV  ...        d\n",
       "282           Crimson Dynamo  ...        c\n",
       "494      Harrison Wells (CW)  ...        c\n",
       "656                  Kilowog  ...        c\n",
       "900   Proxima Midnight (MCU)  ...        d\n",
       "1229                      Wu  ...        c\n",
       "\n",
       "[10 rows x 8 columns]"
      ]
     },
     "execution_count": 8,
     "metadata": {},
     "output_type": "execute_result"
    }
   ],
   "source": [
    "df.sample(10)"
   ]
  },
  {
   "cell_type": "code",
   "execution_count": 9,
   "id": "6a1a629d",
   "metadata": {
    "ExecuteTime": {
     "end_time": "2022-06-27T15:03:45.289099Z",
     "start_time": "2022-06-27T15:03:45.264065Z"
    }
   },
   "outputs": [
    {
     "data": {
      "text/html": [
       "<div>\n",
       "<style scoped>\n",
       "    .dataframe tbody tr th:only-of-type {\n",
       "        vertical-align: middle;\n",
       "    }\n",
       "\n",
       "    .dataframe tbody tr th {\n",
       "        vertical-align: top;\n",
       "    }\n",
       "\n",
       "    .dataframe thead th {\n",
       "        text-align: right;\n",
       "    }\n",
       "</style>\n",
       "<table border=\"1\" class=\"dataframe\">\n",
       "  <thead>\n",
       "    <tr style=\"text-align: right;\">\n",
       "      <th></th>\n",
       "      <th>_name</th>\n",
       "      <th>history_text</th>\n",
       "      <th>_score</th>\n",
       "      <th>_log_score</th>\n",
       "      <th>_len_name</th>\n",
       "      <th>_len_history_text</th>\n",
       "      <th>_cat</th>\n",
       "      <th>_log_cat</th>\n",
       "    </tr>\n",
       "  </thead>\n",
       "  <tbody>\n",
       "    <tr>\n",
       "      <th>534</th>\n",
       "      <td>Hulk (Stark Gauntlet) (MCU)</td>\n",
       "      <td>After Tony created a new gaunlet Hulk uses it ...</td>\n",
       "      <td>47.0</td>\n",
       "      <td>3.850148</td>\n",
       "      <td>27</td>\n",
       "      <td>65</td>\n",
       "      <td>e</td>\n",
       "      <td>b</td>\n",
       "    </tr>\n",
       "    <tr>\n",
       "      <th>826</th>\n",
       "      <td>Neuro</td>\n",
       "      <td>Neuro was born as the descendant of the Elemen...</td>\n",
       "      <td>13.0</td>\n",
       "      <td>2.564949</td>\n",
       "      <td>5</td>\n",
       "      <td>203</td>\n",
       "      <td>e</td>\n",
       "      <td>c</td>\n",
       "    </tr>\n",
       "    <tr>\n",
       "      <th>198</th>\n",
       "      <td>Brickster</td>\n",
       "      <td>Imagine all the bricks in a house coming to li...</td>\n",
       "      <td>4.0</td>\n",
       "      <td>1.386294</td>\n",
       "      <td>9</td>\n",
       "      <td>544</td>\n",
       "      <td>e</td>\n",
       "      <td>d</td>\n",
       "    </tr>\n",
       "    <tr>\n",
       "      <th>670</th>\n",
       "      <td>Kraven the Hunter</td>\n",
       "      <td>Kraven was a maniacal big game hunter who soug...</td>\n",
       "      <td>5.0</td>\n",
       "      <td>1.609438</td>\n",
       "      <td>17</td>\n",
       "      <td>1940</td>\n",
       "      <td>e</td>\n",
       "      <td>d</td>\n",
       "    </tr>\n",
       "    <tr>\n",
       "      <th>1032</th>\n",
       "      <td>Slenderman</td>\n",
       "      <td>The Slender Man has no specifically confirmed ...</td>\n",
       "      <td>65.0</td>\n",
       "      <td>4.174387</td>\n",
       "      <td>10</td>\n",
       "      <td>6174</td>\n",
       "      <td>d</td>\n",
       "      <td>b</td>\n",
       "    </tr>\n",
       "    <tr>\n",
       "      <th>733</th>\n",
       "      <td>Magus</td>\n",
       "      <td>The Technarchy aliens are a sentient form of \"...</td>\n",
       "      <td>17.0</td>\n",
       "      <td>2.833213</td>\n",
       "      <td>5</td>\n",
       "      <td>2492</td>\n",
       "      <td>e</td>\n",
       "      <td>c</td>\n",
       "    </tr>\n",
       "    <tr>\n",
       "      <th>443</th>\n",
       "      <td>General Vex</td>\n",
       "      <td>Vex was born in the village of the Formlings, ...</td>\n",
       "      <td>3.0</td>\n",
       "      <td>1.098612</td>\n",
       "      <td>11</td>\n",
       "      <td>414</td>\n",
       "      <td>e</td>\n",
       "      <td>d</td>\n",
       "    </tr>\n",
       "    <tr>\n",
       "      <th>1114</th>\n",
       "      <td>The Green Hornet</td>\n",
       "      <td>Britt Reid is the only child of crusading Chic...</td>\n",
       "      <td>6.0</td>\n",
       "      <td>1.791759</td>\n",
       "      <td>16</td>\n",
       "      <td>5049</td>\n",
       "      <td>e</td>\n",
       "      <td>d</td>\n",
       "    </tr>\n",
       "    <tr>\n",
       "      <th>584</th>\n",
       "      <td>Jar Jar Binks</td>\n",
       "      <td>Jar Jar Binks is a Gungan, an amphibious spec...</td>\n",
       "      <td>2.0</td>\n",
       "      <td>0.693147</td>\n",
       "      <td>13</td>\n",
       "      <td>704</td>\n",
       "      <td>e</td>\n",
       "      <td>e</td>\n",
       "    </tr>\n",
       "    <tr>\n",
       "      <th>605</th>\n",
       "      <td>John Wraith</td>\n",
       "      <td>John Wraith was part of Team X along with Wolv...</td>\n",
       "      <td>8.0</td>\n",
       "      <td>2.079442</td>\n",
       "      <td>11</td>\n",
       "      <td>3403</td>\n",
       "      <td>e</td>\n",
       "      <td>d</td>\n",
       "    </tr>\n",
       "    <tr>\n",
       "      <th>1097</th>\n",
       "      <td>T-X</td>\n",
       "      <td>The T-X is a model of Terminator produced by ...</td>\n",
       "      <td>12.0</td>\n",
       "      <td>2.484907</td>\n",
       "      <td>3</td>\n",
       "      <td>3106</td>\n",
       "      <td>e</td>\n",
       "      <td>c</td>\n",
       "    </tr>\n",
       "    <tr>\n",
       "      <th>521</th>\n",
       "      <td>Hit-Girl</td>\n",
       "      <td>Hit-Girl (she has not yet been called by anoth...</td>\n",
       "      <td>5.0</td>\n",
       "      <td>1.609438</td>\n",
       "      <td>8</td>\n",
       "      <td>1365</td>\n",
       "      <td>e</td>\n",
       "      <td>d</td>\n",
       "    </tr>\n",
       "    <tr>\n",
       "      <th>1006</th>\n",
       "      <td>Shazam (DCEU)</td>\n",
       "      <td>William \"Billy\" Batson, known as Shazam, is an...</td>\n",
       "      <td>18.0</td>\n",
       "      <td>2.890372</td>\n",
       "      <td>13</td>\n",
       "      <td>162</td>\n",
       "      <td>e</td>\n",
       "      <td>c</td>\n",
       "    </tr>\n",
       "    <tr>\n",
       "      <th>172</th>\n",
       "      <td>Black Spider</td>\n",
       "      <td>As a young man, Eric Needham became addicted t...</td>\n",
       "      <td>7.0</td>\n",
       "      <td>1.945910</td>\n",
       "      <td>12</td>\n",
       "      <td>962</td>\n",
       "      <td>e</td>\n",
       "      <td>d</td>\n",
       "    </tr>\n",
       "    <tr>\n",
       "      <th>938</th>\n",
       "      <td>Red Tornado (CW)</td>\n",
       "      <td>Red Tornado was activated by T.O. Morrow when ...</td>\n",
       "      <td>17.0</td>\n",
       "      <td>2.833213</td>\n",
       "      <td>16</td>\n",
       "      <td>782</td>\n",
       "      <td>e</td>\n",
       "      <td>c</td>\n",
       "    </tr>\n",
       "    <tr>\n",
       "      <th>1146</th>\n",
       "      <td>Tobias Church (CW)</td>\n",
       "      <td>Tobias Church (died November 2016), known by t...</td>\n",
       "      <td>6.0</td>\n",
       "      <td>1.791759</td>\n",
       "      <td>18</td>\n",
       "      <td>438</td>\n",
       "      <td>e</td>\n",
       "      <td>d</td>\n",
       "    </tr>\n",
       "    <tr>\n",
       "      <th>835</th>\n",
       "      <td>Niki Sanders</td>\n",
       "      <td>Nicole \"Niki\" Sanders is a former casino worke...</td>\n",
       "      <td>6.0</td>\n",
       "      <td>1.791759</td>\n",
       "      <td>12</td>\n",
       "      <td>395</td>\n",
       "      <td>e</td>\n",
       "      <td>d</td>\n",
       "    </tr>\n",
       "    <tr>\n",
       "      <th>272</th>\n",
       "      <td>Commander Raggmunk</td>\n",
       "      <td>Raggmunk was a child of The Great Devourer lik...</td>\n",
       "      <td>9.0</td>\n",
       "      <td>2.197225</td>\n",
       "      <td>18</td>\n",
       "      <td>201</td>\n",
       "      <td>e</td>\n",
       "      <td>c</td>\n",
       "    </tr>\n",
       "    <tr>\n",
       "      <th>730</th>\n",
       "      <td>Magneto (FOX)</td>\n",
       "      <td>Magneto (born Erik Magnus Lehnsherr) is a muta...</td>\n",
       "      <td>9.0</td>\n",
       "      <td>2.197225</td>\n",
       "      <td>13</td>\n",
       "      <td>650</td>\n",
       "      <td>e</td>\n",
       "      <td>c</td>\n",
       "    </tr>\n",
       "    <tr>\n",
       "      <th>369</th>\n",
       "      <td>Ebony Maw (MCU)</td>\n",
       "      <td>Ebony Maw was a child of the Mad Titan Thanos ...</td>\n",
       "      <td>12.0</td>\n",
       "      <td>2.484907</td>\n",
       "      <td>15</td>\n",
       "      <td>633</td>\n",
       "      <td>e</td>\n",
       "      <td>c</td>\n",
       "    </tr>\n",
       "  </tbody>\n",
       "</table>\n",
       "</div>"
      ],
      "text/plain": [
       "                            _name  ... _log_cat\n",
       "534   Hulk (Stark Gauntlet) (MCU)  ...        b\n",
       "826                         Neuro  ...        c\n",
       "198                     Brickster  ...        d\n",
       "670             Kraven the Hunter  ...        d\n",
       "1032                   Slenderman  ...        b\n",
       "733                         Magus  ...        c\n",
       "443                   General Vex  ...        d\n",
       "1114             The Green Hornet  ...        d\n",
       "584                 Jar Jar Binks  ...        e\n",
       "605                   John Wraith  ...        d\n",
       "1097                          T-X  ...        c\n",
       "521                      Hit-Girl  ...        d\n",
       "1006                Shazam (DCEU)  ...        c\n",
       "172                  Black Spider  ...        d\n",
       "938              Red Tornado (CW)  ...        c\n",
       "1146           Tobias Church (CW)  ...        d\n",
       "835                  Niki Sanders  ...        d\n",
       "272            Commander Raggmunk  ...        c\n",
       "730                 Magneto (FOX)  ...        c\n",
       "369               Ebony Maw (MCU)  ...        c\n",
       "\n",
       "[20 rows x 8 columns]"
      ]
     },
     "execution_count": 9,
     "metadata": {},
     "output_type": "execute_result"
    }
   ],
   "source": [
    "df_samp = df.sample(20)\n",
    "df_samp"
   ]
  },
  {
   "cell_type": "code",
   "execution_count": 10,
   "id": "8dd449ca",
   "metadata": {
    "ExecuteTime": {
     "end_time": "2022-06-27T15:03:45.564611Z",
     "start_time": "2022-06-27T15:03:45.553848Z"
    },
    "scrolled": false
   },
   "outputs": [
    {
     "name": "stdout",
     "output_type": "stream",
     "text": [
      "name : Hulk (Stark Gauntlet) (MCU), score/log_score : 47.0/3.85, len_txt :65, history:\n",
      "\tAfter Tony created a new gaunlet Hulk uses it to revive everyone....\n",
      "\n",
      "\n",
      "name : Neuro, score/log_score : 13.0/2.56, len_txt :203, history:\n",
      "\tNeuro was born as the descendant of the Elemental Master of Mind. He unlocked his own True Potential before the events of The Tournament of Elements and became a contestant in the Tournament of Elements....\n",
      "\n",
      "\n",
      "name : Brickster, score/log_score : 4.0/1.39, len_txt :544, history:\n",
      "\tImagine all the bricks in a house coming to life and starting to roll around looking for stuff to break and havoc to wreck. Bricksters have been caught in the structures of houses, pillars and bridges for years. Now they are free and they are having the time of their lives. They don’t ever want to ...\n",
      "\n",
      "\n",
      "name : Kraven the Hunter, score/log_score : 5.0/1.61, len_txt :1940, history:\n",
      "\tKraven was a maniacal big game hunter who sought to defeat Spider-Man to prove that he was the greatest hunter in the world. Unlike other hunters, he typically disdained the use of guns or bow and arrows preferring to take down large dangerous animals with his bare hands even though he often made e...\n",
      "\n",
      "\n",
      "name : Slenderman, score/log_score : 65.0/4.17, len_txt :6174, history:\n",
      "\tThe Slender Man has no specifically confirmed history, but contributors to the mythos placed early sightings of Slender Man-like beings in Germany in the early 1600s and before. Historically, the entity often took the appearance of a knight or a noble figure. Germanic myths and fairy tales have bee...\n",
      "\n",
      "\n",
      "name : Magus, score/log_score : 17.0/2.83, len_txt :2492, history:\n",
      "\tThe Technarchy aliens are a sentient form of \"techno-organic\" life, which resembles machinery in various ways. Magus is the ruler of the planet Technarch, and, as is customary, each of his children must face him in combat to the death before the child has achieved adulthood. However one of the Magu...\n",
      "\n",
      "\n",
      "name : General Vex, score/log_score : 3.0/1.1, len_txt :414, history:\n",
      "\tVex was born in the village of the Formlings, a race of beings with the ability to turn into various animals. However, he was unable to find his animal form. Driven mad by his insecurity, he delusionally believed everyone insulted him behind his back and exiled himself of his own will. For a long t...\n",
      "\n",
      "\n",
      "name : The Green Hornet, score/log_score : 6.0/1.79, len_txt :5049, history:\n",
      "\tBritt Reid is the only child of crusading Chicago newspaper owner Daniel Reid. During the Roaring Twenties (and presumably before), Daniel Reid had his Daily Sentinel relentlessly expose the Chicago mob and corruption. To him, that was the mission of a journalist.An amateur entomologist, Daniel Rei...\n",
      "\n",
      "\n",
      "name : Jar Jar Binks, score/log_score : 2.0/0.69, len_txt :704, history:\n",
      "\tJar Jar Binks is a Gungan, an amphibious species native to the planet Naboo. Though clumsy and inept, Jar Jar has a good heart, and assisted the Jedi Master Qui-Gon Jinn and his apprentice, Obi-Wan Kenobi, in rescuing Queen Amidala, leader of Naboo's human inhabitants, when the Trade Federation inv...\n",
      "\n",
      "\n",
      "name : John Wraith, score/log_score : 8.0/2.08, len_txt :3403, history:\n",
      "\tJohn Wraith was part of Team X along with Wolverine, Sabretooth, Maverick, Mastodon, and Silver Fox. Wraith was a powerful teleporter, capable of getting the team out of sticky situations after their job was finished. He had a penchant for explosives, arming himself with shaped charges. Like the ot...\n",
      "\n",
      "\n",
      "name : T-X, score/log_score : 12.0/2.48, len_txt :3106, history:\n",
      "\tThe T-X is a model of Terminator produced by Skynet in the future. One model of this unit was dispatched by Skynet into the past in order to terminate John Connor. The T-X ultimately failed in its attempts to destroy the Tech-Com resistance leader.  With the success of the mimetic polyalloy T-1000 ...\n",
      "\n",
      "\n",
      "name : Hit-Girl, score/log_score : 5.0/1.61, len_txt :1365, history:\n",
      "\tHit-Girl (she has not yet been called by another name) was raised by her father, Big Daddy, her mother being murdered by frustrated criminals. For an unnamed amount of time, Big Daddy has been training Hit-Girl to kill, allowing her to fight along side him to avenge his wife's death by killing many...\n",
      "\n",
      "\n",
      "name : Shazam (DCEU), score/log_score : 18.0/2.89, len_txt :162, history:\n",
      "\tWilliam \"Billy\" Batson, known as Shazam, is an orphan chosen by the wizard Shazam to be his champion, granting him immense power to defend the innocent from evil....\n",
      "\n",
      "\n",
      "name : Black Spider, score/log_score : 7.0/1.95, len_txt :962, history:\n",
      "\tAs a young man, Eric Needham became addicted to drugs and turned to crime to fuel his addiction. As a result, he robbed his own father's liquor store, killing him in the process. After being arrested, he kicked the habit out of remorse and began a war on the drug trade in Gotham City. Donning a cos...\n",
      "\n",
      "\n",
      "name : Red Tornado (CW), score/log_score : 17.0/2.83, len_txt :782, history:\n",
      "\tRed Tornado was activated by T.O. Morrow when General Sam Lane asked Supergirl to fight it, to test the android's capabilities. The next day, both Red Tornado and Supergirl battled. Though Red Tornado was initially winning the fight, Supergirl soon gained the upper hand, causing internal system dam...\n",
      "\n",
      "\n",
      "name : Tobias Church (CW), score/log_score : 6.0/1.79, len_txt :438, history:\n",
      "\tTobias Church (died November 2016), known by the alias Charon, was a crime lord who set about creating a coalition of the gangs of Star City, aiming to take it over. His goals brought him into conflict with the Green Arrow and his team. Church received his moniker for his habit of leaving two coins...\n",
      "\n",
      "\n",
      "name : Niki Sanders, score/log_score : 6.0/1.79, len_txt :395, history:\n",
      "\tNicole \"Niki\" Sanders is a former casino worker in Las Vegas. She was raising her son, Micah, alone because her husband DL Hawkins is a fugitive. In the absence of D.L. and his regular paycheck from construction work, she earned extra money as a webcam stripper running lasvegasniki.com. She has an ...\n",
      "\n",
      "\n",
      "name : Commander Raggmunk, score/log_score : 9.0/2.2, len_txt :201, history:\n",
      "\tRaggmunk was a child of The Great Devourer like all Vermillion. He possessed the hive mind ability like Machia and Blunck, making the three of them the leaders of the Vermillion under Krux and Acronix....\n",
      "\n",
      "\n",
      "name : Magneto (FOX), score/log_score : 9.0/2.2, len_txt :650, history:\n",
      "\tMagneto (born Erik Magnus Lehnsherr) is a mutant, leader and founder of the Brotherhood of Mutants. He has the ability to manipulate magnetic force fields and magnetic flight. Magneto is one of the most infamous mutants, having a stand against humans due to him being a part of the Holocaust and how...\n",
      "\n",
      "\n",
      "name : Ebony Maw (MCU), score/log_score : 12.0/2.48, len_txt :633, history:\n",
      "\tEbony Maw was a child of the Mad Titan Thanos and a member of the Black Order. Gifted with powers of Telekinesis, Maw was deeply loyal to Thanos and gave warnings of his power across the galaxy while assisting in the search for the Infinity Stones. Having assisted with wiping out half the Asgardian...\n",
      "\n",
      "\n"
     ]
    }
   ],
   "source": [
    "for idx, ser in df_samp.iterrows(): \n",
    "\n",
    "    _len = len(ser[\"history_text\"])\n",
    "    _score = round(ser['_score'], 2)\n",
    "    _log_score = round(ser['_log_score'], 2)\n",
    "    _txt = \"\\t\"+ser[\"history_text\"].strip()\n",
    "    txt_1 = f\"name : {ser['_name']}, score/log_score : {_score}/{_log_score}, len_txt :{_len}, history:\\n\"\n",
    "    \n",
    "    print(txt_1+_txt[:300]+ \"...\" + \"\\n\\n\")"
   ]
  },
  {
   "cell_type": "code",
   "execution_count": 11,
   "id": "77f5ed93",
   "metadata": {
    "ExecuteTime": {
     "end_time": "2022-06-27T15:03:45.853545Z",
     "start_time": "2022-06-27T15:03:45.845178Z"
    }
   },
   "outputs": [],
   "source": [
    "def print_sample(sub_df, n_samp=10, n_char=1000) : \n",
    "    \"\"\" \"\"\"\n",
    "    \n",
    "    if n_samp < len(sub_df): \n",
    "        df_samp = sub_df.sample(n_samp)\n",
    "    else : \n",
    "        df_samp = sub_df.copy()\n",
    "    \n",
    "    for idx, ser in df_samp.iterrows(): \n",
    "\n",
    "        _len = len(ser[\"history_text\"])\n",
    "        _score = round(ser['_score'], 2)\n",
    "        _log_score = round(ser['_log_score'], 2)\n",
    "        _txt = \"\\n\"+ser[\"history_text\"].strip()\n",
    "        txt_1 = f\"name : {ser['_name']}, score/log_score : {_score}/{_log_score}, len_txt :{_len}, history:\\n\"\n",
    "\n",
    "        print(txt_1+_txt[:n_char]+ \"...\" + \"\\n\\n\\n\")"
   ]
  },
  {
   "cell_type": "code",
   "execution_count": 12,
   "id": "2d7b8714",
   "metadata": {
    "ExecuteTime": {
     "end_time": "2022-06-27T15:03:46.164876Z",
     "start_time": "2022-06-27T15:03:46.140880Z"
    }
   },
   "outputs": [
    {
     "data": {
      "text/html": [
       "<div>\n",
       "<style scoped>\n",
       "    .dataframe tbody tr th:only-of-type {\n",
       "        vertical-align: middle;\n",
       "    }\n",
       "\n",
       "    .dataframe tbody tr th {\n",
       "        vertical-align: top;\n",
       "    }\n",
       "\n",
       "    .dataframe thead th {\n",
       "        text-align: right;\n",
       "    }\n",
       "</style>\n",
       "<table border=\"1\" class=\"dataframe\">\n",
       "  <thead>\n",
       "    <tr style=\"text-align: right;\">\n",
       "      <th></th>\n",
       "      <th>_name</th>\n",
       "      <th>history_text</th>\n",
       "      <th>_score</th>\n",
       "      <th>_log_score</th>\n",
       "      <th>_len_name</th>\n",
       "      <th>_len_history_text</th>\n",
       "      <th>_cat</th>\n",
       "      <th>_log_cat</th>\n",
       "    </tr>\n",
       "  </thead>\n",
       "  <tbody>\n",
       "    <tr>\n",
       "      <th>99</th>\n",
       "      <td>Aztar</td>\n",
       "      <td>Since the beginnings of human civilization the...</td>\n",
       "      <td>222.0</td>\n",
       "      <td>5.402677</td>\n",
       "      <td>5</td>\n",
       "      <td>3796</td>\n",
       "      <td>a</td>\n",
       "      <td>a</td>\n",
       "    </tr>\n",
       "    <tr>\n",
       "      <th>339</th>\n",
       "      <td>Devilman</td>\n",
       "      <td>Transformation Akira is first seen walking hom...</td>\n",
       "      <td>229.0</td>\n",
       "      <td>5.433722</td>\n",
       "      <td>8</td>\n",
       "      <td>27732</td>\n",
       "      <td>a</td>\n",
       "      <td>a</td>\n",
       "    </tr>\n",
       "    <tr>\n",
       "      <th>365</th>\n",
       "      <td>Dracula</td>\n",
       "      <td>The man later known as Dracula was originally...</td>\n",
       "      <td>211.0</td>\n",
       "      <td>5.351858</td>\n",
       "      <td>7</td>\n",
       "      <td>23504</td>\n",
       "      <td>a</td>\n",
       "      <td>a</td>\n",
       "    </tr>\n",
       "    <tr>\n",
       "      <th>459</th>\n",
       "      <td>Golden Ninja</td>\n",
       "      <td>Lloyd becomes the Golden Ninja, and fights the...</td>\n",
       "      <td>226.0</td>\n",
       "      <td>5.420535</td>\n",
       "      <td>12</td>\n",
       "      <td>266</td>\n",
       "      <td>a</td>\n",
       "      <td>a</td>\n",
       "    </tr>\n",
       "    <tr>\n",
       "      <th>469</th>\n",
       "      <td>Great Evil Beast</td>\n",
       "      <td>The Great Evil Beast was formed when God utter...</td>\n",
       "      <td>237.0</td>\n",
       "      <td>5.468060</td>\n",
       "      <td>16</td>\n",
       "      <td>5295</td>\n",
       "      <td>a</td>\n",
       "      <td>a</td>\n",
       "    </tr>\n",
       "  </tbody>\n",
       "</table>\n",
       "</div>"
      ],
      "text/plain": [
       "                _name  ... _log_cat\n",
       "99              Aztar  ...        a\n",
       "339          Devilman  ...        a\n",
       "365           Dracula  ...        a\n",
       "459      Golden Ninja  ...        a\n",
       "469  Great Evil Beast  ...        a\n",
       "\n",
       "[5 rows x 8 columns]"
      ]
     },
     "execution_count": 12,
     "metadata": {},
     "output_type": "execute_result"
    }
   ],
   "source": [
    "df_a = df[df._cat==\"a\"]\n",
    "df_a.head()"
   ]
  },
  {
   "cell_type": "code",
   "execution_count": 13,
   "id": "28663532",
   "metadata": {
    "ExecuteTime": {
     "end_time": "2022-06-27T15:03:46.436357Z",
     "start_time": "2022-06-27T15:03:46.430171Z"
    }
   },
   "outputs": [
    {
     "name": "stdout",
     "output_type": "stream",
     "text": [
      "name : Aztar, score/log_score : 222.0/5.4, len_txt :3796, history:\n",
      "\n",
      "Since the beginnings of human civilization the Spectre Force, or the Divine Wrath has patrolled the lands of man. Watching, waiting in the night for the unjustly killed, the murdered and the butchered. Then swift judgment gives bloody vengeance to the murderers. Since the birth of Christ, the Wrath has been bonded to a mortal host, to be its moral guide and anchor to humanity. In the twentieth century that anchor was detective Jim Corrigan. As the Spectre they were one of the most powerful beings in the universe.  If we are to believe the texts, three seconds after creation there was a rebellion in Paradise. A rebel band of angels led by Lucifer Morningstar attempted to wrestle control of Heaven from the Presence. As punishment they were cast out to the burning planes of Hell where they became the beings that mortal men know as demons. It is not always realized but is possible for demons of repent, one such repentant demon was Aztar. Coming before the gates of Heaven he found his way ...\n",
      "\n",
      "\n",
      "\n",
      "name : Devilman, score/log_score : 229.0/5.43, len_txt :27732, history:\n",
      "\n",
      "Transformation Akira is first seen walking home from his first day at his new school with Miki Makimura whose family he had recently moved in with. One the way however they are stopped by Ken, Go and Dosu-Roku three gang member, all of whom were all attracted to Miki and start teasing the two, Miki gets angered by them whilst Akira tries to keep everything cool, Miki slaps Ken and Meriken-Jo but is grabbed by a furious Dosu-Roku starts to try and undress her, whilst Akira is held back by the other two, luckily they are saved by the sudden and mysterious intervention of Ryo Asuka who threatens the gang with a highly illegal sawed-off shotgun. Ryo says that he needs to speak to Akira privately and Miki is forced to walk back by herself. On the way to Ryo's home, he reveals that his father committed suicide after killing his dog John and then attempted to kill Ryo, as they arrive at his home he tells Akira that his father had been possessed by a Demon. At first, Akira didn't believe his ...\n",
      "\n",
      "\n",
      "\n",
      "name : Dracula, score/log_score : 211.0/5.35, len_txt :23504, history:\n",
      "\n",
      "The man later known as Dracula was originally born Mathias Cronqvist. Sometime during the mid to late 11th century, he served in a company of knights alongside then Baron Leon Belmont. With Mathias's brilliant military strategies and Leon's skill with a sword, their company was unstoppable. Little is known of Mathias's early life or his family, save that they seem to have been longtime practitioners of Alchemy and had advanced further into the study than most alchemists could have ever dreamed. Mathias was very well educated and quite skilled in the art, though he never told Leon or any of the other compatriots of his knowledge, with the notable exception of Rinaldo Gandolfi, whom he had met at an unspecified time. Mathias married a woman named Elisabetha who he was deeply in love with. While away on a campaign against heathens in the east, Elisabetha died due to illness. Upon returning and learning of her death, Mathias was overtaken with despair so profound that he became bedridden,...\n",
      "\n",
      "\n",
      "\n",
      "name : Golden Ninja, score/log_score : 226.0/5.42, len_txt :266, history:\n",
      "\n",
      "Lloyd becomes the Golden Ninja, and fights the Overlord, in a battle that almost destroys Ninjago City. Using the power of the Golden Dragon, Lloyd summons the power necessary to defeat the dark lord, freeing Ninjago from his control and curing Garmadon of his evil....\n",
      "\n",
      "\n",
      "\n",
      "name : Great Evil Beast, score/log_score : 237.0/5.47, len_txt :5295, history:\n",
      "\n",
      "The Great Evil Beast was formed when God uttered the words \"Let There Be Light\" and came to embody all the darkness in creation as well as everything that opposed the light of the Presence (which is DC universe's version of God) - however despite its immense power the Great Evil Beast was still a newborn entity and thus was easily defeated by the Presence and contained within its own realm. When the events Crisis on Infinite Earths took place, a group of mystics named the Brujeria attempted an occult ritual designed to contact the Great Evil Beast but it went horribly wrong and the entity awoke as a furious beast, unable to grasp its power and becoming confused as to its existence. The Great Evil Beast would encounter Etrigan, Dr. Fate and the Spectre - Etrigan taught the entity that Darkness was Evil, Dr. Fate told the entity Evil was Despisable and the Spectre finally told the entity about the concept of revenge: these new lessons angered the Great Evil Beast despite the heroes bein...\n",
      "\n",
      "\n",
      "\n"
     ]
    }
   ],
   "source": [
    "print_sample(df_a)"
   ]
  },
  {
   "cell_type": "code",
   "execution_count": 14,
   "id": "e69fcc95",
   "metadata": {
    "ExecuteTime": {
     "end_time": "2022-06-27T15:03:46.743786Z",
     "start_time": "2022-06-27T15:03:46.736836Z"
    }
   },
   "outputs": [
    {
     "name": "stdout",
     "output_type": "stream",
     "text": [
      "name : Goblin Force, score/log_score : 169.0/5.13, len_txt :1953, history:\n",
      "\n",
      "The Goblin Force was born at the beginning of reality during the Big Bang. Like the Phoenix Force, it had limitless power, but unlike the Phoenix, it derived power from its ravenous hunger that couldn't be sated. Its hunger lead it to devour entire galaxies when it encountered the Phoenix Force, the Phoenix stood against it only to be consumed. Even Galactus, the devourer of worlds fell to the power of the Goblin Force's hunger. It wasn't until the 5th Host of the Celestials stood against the Goblin Force that it met defeat, though it wasn't destroyed. The Celestials eventually died from the battle, leaving the Goblin force only to be contained.  Many years later, the Goblin Force seized the opportunity to attach itself to the life force of Madelyne Pryor, making her its conduit into the world again, being reborn as the Goblin Queen through the corruption of Madelyne Pryor. As the Goblin Force gradually took over Madelyne's mind, it waged a war against Earth heroes, brainwashing most ...\n",
      "\n",
      "\n",
      "\n",
      "name : Nadakhan, score/log_score : 163.0/5.09, len_txt :1578, history:\n",
      "\n",
      "Nadakhan is the captain of the Sky Pirates, the owner of Misfortune's Keep, and the last living Djinn. Many years ago, he put together his crew and dominated the seas of Ninjago, until he was faced with a rival, Captain Soto. Soto trapped him in the Teapot of Tyrahn while his crew was marooned across the Sixteen Realms. Centuries later, upon the destruction of Djinjago, Nadakhan became the last of the Djinn. Shortly after the Battle of Stiix, Nadakhan was freed by Clouse; he set off to claim the Realm Crystal and reunite his crew. After learning of his lover's demise, and seeing the destruction of Djinjago as a result of the Ninjas' actions, Nadakhan's father gave him a mystical sword to capture the souls of his adversaries and tear Ninjago apart to rebuild Djinjago. In addition to this, he planned to marry Nya so he can grant himself unlimited wishes. Nadakhan's crew refurbished Misfortune's Keep and began rebuilding Djinjago in a series of landmasses above Ninjago City. In the ensui...\n",
      "\n",
      "\n",
      "\n",
      "name : The Keeper, score/log_score : 152.0/5.02, len_txt :3743, history:\n",
      "\n",
      "His origin is the same as the original Silver Surfer, he offered himself to become Galactus' herald to spare his homeworld. He still turned against his former master, was bound to Earth, \"won a pardon from the world devourer\", and left Earth to later return to find Earth being attacked by Martians. in a War of the Worlds. He ended up fighting alongside Dr. Franklin Richards, Captain America, and Dr. Doom against the Martian invaders. Eon had convinced him that it was Earth's Destiny to be conquered, and he left Earth, wracked with guilt, unable to accept his offer. Centuries later, he finally accepted Eon's offer to wear the Quantum Bands, as Protector of the Universe. While working for Eon, he was sent to Earth to defend it from Galactus once again. He first found Thor (Dargo Ktor), who mistook him for an enemy at first, \"but soon came to realize that our cause was the same.\" Meanwhile, the other former herald Firelord had intercepted a distress signal that was sent to Radd that his ...\n",
      "\n",
      "\n",
      "\n",
      "name : The Overlord, score/log_score : 165.0/5.11, len_txt :1187, history:\n",
      "\n",
      "Before Ninjago's creation, there were two kinds of beings with unfathomable power: the Oni and the Dragon. The Dragons had the power to create, while the Oni had the power to destroy; and so, they waged war against each other. One day, a child was born of both powers, the First Spinjitzu Master, who went on to create a world of light and darkness, these powers had been past down to him from their respective owners. From the shadows of the new world, the Overlord emerged. Risen to counterbalance the light of the land, the Overlord challenged the First Spinjitzu Master to a battle for control of Ninjago. The battle eventually ground into a stalemate, so the Overlord created the Stone Army to turn the tide in his favor. Realizing that he would be overcome, the First Spinjitzu Master used all of his strength to split Ninjago into two equal halves, which would later become two islands—one half remained as Ninjago, and the other became the Island of Darkness. This balanced the forces of lig...\n",
      "\n",
      "\n",
      "\n",
      "name : Unicron, score/log_score : 146.0/4.98, len_txt :2132, history:\n",
      "\n",
      "Unicron is the eternal arch-enemy of his twin brother Primus. Also known as the Lord of Chaos, the Chaos Bringer, and the Planet Eater, he is dedicated to consuming the multiverse. His massive form is powered by the consumption of planets, moons, stars, and even the very fabric of existence. Unicron will not be sated until his ultimate goal is attained: to bring an end to the annoying creation boasting independence around him, and find peace by becoming the living center of a swirling, infinite torrent of nothingness at the end of all things. To undertake this seemingly overwhelming task, Unicron is able to travel across realities at will, a meandering plague upon existence itself. Integrated into his systems are incomprehensible quantum computers which calculate probabilities forward and backwards in time, in perpetuity, giving his processors an ever changing, evolving map of the multiverse. With these abilities at his disposal, Unicron has thus far devoured approximately 22.56% of k...\n",
      "\n",
      "\n",
      "\n"
     ]
    }
   ],
   "source": [
    "print_sample(df[df._cat==\"b\"])"
   ]
  },
  {
   "cell_type": "code",
   "execution_count": 15,
   "id": "0d57c2e9",
   "metadata": {
    "ExecuteTime": {
     "end_time": "2022-06-27T15:03:47.046557Z",
     "start_time": "2022-06-27T15:03:47.036837Z"
    }
   },
   "outputs": [
    {
     "name": "stdout",
     "output_type": "stream",
     "text": [
      "name : Goblin Force, score/log_score : 169.0/5.13, len_txt :1953, history:\n",
      "\n",
      "The Goblin Force was born at the beginning of reality during the Big Bang. Like the Phoenix Force, it had limitless power, but unlike the Phoenix, it derived power from its ravenous hunger that couldn't be sated. Its hunger lead it to devour entire galaxies when it encountered the Phoenix Force, the Phoenix stood against it only to be consumed. Even Galactus, the devourer of worlds fell to the power of the Goblin Force's hunger. It wasn't until the 5th Host of the Celestials stood against the Goblin Force that it met defeat, though it wasn't destroyed. The Celestials eventually died from the battle, leaving the Goblin force only to be contained.  Many years later, the Goblin Force seized the opportunity to attach itself to the life force of Madelyne Pryor, making her its conduit into the world again, being reborn as the Goblin Queen through the corruption of Madelyne Pryor. As the Goblin Force gradually took over Madelyne's mind, it waged a war against Earth heroes, brainwashing most ...\n",
      "\n",
      "\n",
      "\n",
      "name : Nadakhan, score/log_score : 163.0/5.09, len_txt :1578, history:\n",
      "\n",
      "Nadakhan is the captain of the Sky Pirates, the owner of Misfortune's Keep, and the last living Djinn. Many years ago, he put together his crew and dominated the seas of Ninjago, until he was faced with a rival, Captain Soto. Soto trapped him in the Teapot of Tyrahn while his crew was marooned across the Sixteen Realms. Centuries later, upon the destruction of Djinjago, Nadakhan became the last of the Djinn. Shortly after the Battle of Stiix, Nadakhan was freed by Clouse; he set off to claim the Realm Crystal and reunite his crew. After learning of his lover's demise, and seeing the destruction of Djinjago as a result of the Ninjas' actions, Nadakhan's father gave him a mystical sword to capture the souls of his adversaries and tear Ninjago apart to rebuild Djinjago. In addition to this, he planned to marry Nya so he can grant himself unlimited wishes. Nadakhan's crew refurbished Misfortune's Keep and began rebuilding Djinjago in a series of landmasses above Ninjago City. In the ensui...\n",
      "\n",
      "\n",
      "\n",
      "name : The Keeper, score/log_score : 152.0/5.02, len_txt :3743, history:\n",
      "\n",
      "His origin is the same as the original Silver Surfer, he offered himself to become Galactus' herald to spare his homeworld. He still turned against his former master, was bound to Earth, \"won a pardon from the world devourer\", and left Earth to later return to find Earth being attacked by Martians. in a War of the Worlds. He ended up fighting alongside Dr. Franklin Richards, Captain America, and Dr. Doom against the Martian invaders. Eon had convinced him that it was Earth's Destiny to be conquered, and he left Earth, wracked with guilt, unable to accept his offer. Centuries later, he finally accepted Eon's offer to wear the Quantum Bands, as Protector of the Universe. While working for Eon, he was sent to Earth to defend it from Galactus once again. He first found Thor (Dargo Ktor), who mistook him for an enemy at first, \"but soon came to realize that our cause was the same.\" Meanwhile, the other former herald Firelord had intercepted a distress signal that was sent to Radd that his ...\n",
      "\n",
      "\n",
      "\n",
      "name : The Overlord, score/log_score : 165.0/5.11, len_txt :1187, history:\n",
      "\n",
      "Before Ninjago's creation, there were two kinds of beings with unfathomable power: the Oni and the Dragon. The Dragons had the power to create, while the Oni had the power to destroy; and so, they waged war against each other. One day, a child was born of both powers, the First Spinjitzu Master, who went on to create a world of light and darkness, these powers had been past down to him from their respective owners. From the shadows of the new world, the Overlord emerged. Risen to counterbalance the light of the land, the Overlord challenged the First Spinjitzu Master to a battle for control of Ninjago. The battle eventually ground into a stalemate, so the Overlord created the Stone Army to turn the tide in his favor. Realizing that he would be overcome, the First Spinjitzu Master used all of his strength to split Ninjago into two equal halves, which would later become two islands—one half remained as Ninjago, and the other became the Island of Darkness. This balanced the forces of lig...\n",
      "\n",
      "\n",
      "\n",
      "name : Unicron, score/log_score : 146.0/4.98, len_txt :2132, history:\n",
      "\n",
      "Unicron is the eternal arch-enemy of his twin brother Primus. Also known as the Lord of Chaos, the Chaos Bringer, and the Planet Eater, he is dedicated to consuming the multiverse. His massive form is powered by the consumption of planets, moons, stars, and even the very fabric of existence. Unicron will not be sated until his ultimate goal is attained: to bring an end to the annoying creation boasting independence around him, and find peace by becoming the living center of a swirling, infinite torrent of nothingness at the end of all things. To undertake this seemingly overwhelming task, Unicron is able to travel across realities at will, a meandering plague upon existence itself. Integrated into his systems are incomprehensible quantum computers which calculate probabilities forward and backwards in time, in perpetuity, giving his processors an ever changing, evolving map of the multiverse. With these abilities at his disposal, Unicron has thus far devoured approximately 22.56% of k...\n",
      "\n",
      "\n",
      "\n"
     ]
    }
   ],
   "source": [
    "print_sample(df[df._cat==\"b\"])"
   ]
  },
  {
   "cell_type": "code",
   "execution_count": 16,
   "id": "5b0dda09",
   "metadata": {
    "ExecuteTime": {
     "end_time": "2022-06-27T15:03:47.337392Z",
     "start_time": "2022-06-27T15:03:47.325465Z"
    }
   },
   "outputs": [
    {
     "name": "stdout",
     "output_type": "stream",
     "text": [
      "name : Destruction Of The Endless, score/log_score : 112.0/4.72, len_txt :97, history:\n",
      "\n",
      "Destruction is the fourth eldest of the Endless. He is the embodiment of destruction and creation...\n",
      "\n",
      "\n",
      "\n",
      "name : Doctor Strange (Classic), score/log_score : 120.0/4.79, len_txt :38541, history:\n",
      "\n",
      "Stephen Strange was born to Eugene and Beverly Strange in 1930 while the couple was vacationing in Philadelphia. In 1932 Stephen's sister Donna was born at the family's Nebraska farm. Knowing that Strange was destined to become the next Sorcerer Supreme, resentful apprentice sorcerer Karl Mordo beset the child with demons from the age of eight, and on throughout his youth. Ultimately Strange was rescued by Mordo's master, the Ancient One, mystic protector of the Earth-realm as the current Sorcerer Supreme. A year or two after this torment began, Stephen's brother, Victor, was born. At age eleven Strange aided an injured Donna, an experience which ultimately fostered an interest in medicine. Strange entered New York College as a pre-med directly out of high school. Later, while home on vacation for his nineteenth birthday, Strange was swimming with Donna when she suffered a cramp. After a frantic search Stephen found her already drowned. The experience left him with a sense of personal...\n",
      "\n",
      "\n",
      "\n",
      "name : Dormammu, score/log_score : 142.0/4.96, len_txt :22389, history:\n",
      "\n",
      "Born untold thousands or even millions of years ago in the dimension of the vastly powerful energy-entities called the Faltine, Dormammu and his sibling Umar gathered matter to themselves to increase their power, a practice anathema to their fellow Faltine, becoming their dimension's mightiest sorcerers. Ultimately slaying their parent Sinifer, they were driven from their home dimension, the Faltine deeming their garnering of such energy intolerable, and assumed human form to explore others. Their search for conquests brought them to the Dark Dimension, a mystic realm riddled with natural warps into pocket universes within the dimension itself. At the time of their arrival, the Dark Dimension’s multi-species society had been at peace for almost 28,000 years and was in the third millennium of the rule of King Olnar. Despite the warnings of his sorcerer advisors the Mhuruuks, Olnar offered Dormammu and Umar sanctuary and power in exchange for the knowledge of how to shatter dimensional ...\n",
      "\n",
      "\n",
      "\n",
      "name : Dr Manhattan, score/log_score : 124.0/4.82, len_txt :10602, history:\n",
      "\n",
      "Jonathan Osterman was born in 1929. His father was a watchmaker, and Jon planned to follow in his footsteps. When the US drops the atomic bomb on Hiroshima, Jon is sixteen. His father, confronted with the undeniable facts of the theory of relativity, declares his profession outdated and throws his son's watch-making parts out the windows, urging him to instead pursue a career studying nuclear physics. The incident represents the turning point in Jon's potential future from watchmaker to nuclear physicist and foreshadows Doctor Manhattan's 'exterior' perception of time as predetermined and all things within it as so determined, including Doctor Manhattan's own reactions and emotions.  Jon Osterman attends Princeton University from 1948-58 and graduates with a Ph.D. in atomic physics. In early 1959, he moves to a research base at Gila Flats, where experiments are being performed concerning the 'intrinsic fields' of physical objects which, if tampered with, result in their disintegration...\n",
      "\n",
      "\n",
      "\n",
      "name : Monstrox, score/log_score : 126.0/4.84, len_txt :4021, history:\n",
      "\n",
      "The Book of Monsters was formerly a necromancer named Monstrox, who terrorized Knighton with his dark sorcery. Once having been a member of the Wizards' Council and ally to the likes of Merlok, he discovered the Forbidden Powers. The forbidden powers drove him mad and corrupted him as he experimented with dark magic. He then chose to use the forbidden powers and his dark magic to wreck havoc across the land. The Council was left with no other choice but to expel him from the council and end his reign of terror, and so Merlok set out to defeat Monstrox. After Merlok had turned his original army into stone, shrinking his castle to be placed inside a snow globe, Monstrox vowed revenge against Merlok. The good wizard Merlok eventually defeated Monstrox by turning him into a book, dividing most of his evil power among eleven other spell books, believing that he could control him and his powers. Although he knew that destroying the spell books would ensure Monstrox's eternal defeat, Merlok ...\n",
      "\n",
      "\n",
      "\n",
      "name : Omega, score/log_score : 108.0/4.68, len_txt :724, history:\n",
      "\n",
      "When garmadon and Lloyd were about to destroy the Realm Crystal, he manifested from the shadows and fought them. Backing the pair into a corner, he then told them his identity as The Omega, the bringer of doom. He demanded to know if Lloyd and Garmadon were the protectors of Ninjago, to which Lloyd said he was, and that Garmadon replied that while usually he fought against the Ninja, today he too protected his homeland. Confused, The Omega asked why he, an Oni hybrid, would side with the realm. Garmadon quickly snapped that he would only have himself take over Ninjago, and not \"some Oni usurper with a Walking Stick\". Angered, The Omega then declared that Garmadon would perish with the realm he said he would defend....\n",
      "\n",
      "\n",
      "\n",
      "name : One-Above-All, score/log_score : 125.0/4.83, len_txt :1291, history:\n",
      "\n",
      "Undoubtedly the most mysterious character within the Marvel Multiverse. The One-Above-All has only appeared and been mentioned a few times. He is not to be confused with One Above All, the leader of the Celestials, or any religious figures. The One-Above-All was first mentioned by the Living Tribunal when Doctor Strange first encountered the entity. The-One-Above-All is often unofficially cited as Marvel's creator.   When his final confrontation with Asteroth nearly left him dead, Beta Ray Bill was restored to life by a mysterious, glowing white-robed man (who was clearly one of the more anonymous representations of The One-Above-All.)   When the Fantastic Four journeyed far beyond the boundaries of existence they ended up in The One-Above-All's personal realm where he took the form of Jack Kirby. After a short conversation with him The One-Above-All healed Reed's severely damaged face and sent them all home.   The One-Above-All's was seen taking the guise of a homeless man and was ad...\n",
      "\n",
      "\n",
      "\n"
     ]
    }
   ],
   "source": [
    "print_sample(df[df._cat==\"c\"])"
   ]
  },
  {
   "cell_type": "code",
   "execution_count": 17,
   "id": "7c2c7dc6",
   "metadata": {
    "ExecuteTime": {
     "end_time": "2022-06-27T15:03:47.629058Z",
     "start_time": "2022-06-27T15:03:47.619528Z"
    }
   },
   "outputs": [
    {
     "name": "stdout",
     "output_type": "stream",
     "text": [
      "name : Sonic The Hedgehog, score/log_score : 53.0/3.97, len_txt :129594, history:\n",
      "\n",
      "Past Not much is known about Sonic's early life. He was born on Christmas Island with his abnormal ability to run at super-speed, but his love for adventure eventually called him away from his home. Since then, he has spent his life traveling the globe, driven by his restless spirit, in search of adventures to satisfy his thirst for thrills. At some point, Sonic met Dr. Ivo Robotnik and they became enemies. Sonic would subsequently fight Robotnik in an untold number of confrontations as the scientist attempted time and again to conquer the world, with Sonic foiling the doctor's plans each time. Despite their many battles, Sonic did not really account for his adversary. Sonic the Hedgehog (1991) In Sonic the Hedgehog, Sonic heard the news about Dr. Robotnik invading South Island after the doctor had discovered some powerful relics, called the \"Chaos Emeralds\", which were hidden on the island and which he now sought to produce weapons of mass destruction. Annoyed by Robotnik's persevera...\n",
      "\n",
      "\n",
      "\n",
      "name : Doctor Occult, score/log_score : 61.0/4.11, len_txt :8198, history:\n",
      "\n",
      "Doctor Occult, a.k.a. the \"Ghost Detective\", is a private investigator who specializes in cases involving the supernatural, and whose recorded exploits started in 1935. But the story began 36 years earlier. On December 31st, 1899, somewhere in the American Mid-West, a satanic cult attempted to summon Satan to Earth at the moment of the opening of the new century. For that, they offered him the sacrifice of two infant, untainted children, a boy and a girl, \"stolen from simple god-fearing folk\". At the moment of the beginning of the new year, someone was indeed summoned, even before the worshippers had had a chance to sacrifice the children. This, however, was not Satan, but a diabolic entity calling himself Koth. He immediately declared that the souls of innocents were of no use to him. He wanted souls stained with sin, polluted by corruption. As the nearby church clock struck twelve, Koth devoured all members of the cult, sentencing them to eternal damnation in his own abysmal realm. ...\n",
      "\n",
      "\n",
      "\n",
      "name : Aspheera, score/log_score : 67.0/4.2, len_txt :841, history:\n",
      "\n",
      "Aspheera is the leader of the Pyro Vipers and a Serpentine sorceress. In her youth, she forged a friendship with a young Wu in a bid to learn Spinjitzu and secretly overthrow Mambo the Fifth. After Wu used Forbidden Spinjitzu to defeat her, Aspheera was imprisoned in the Ancient Pyramid for a millennium, after which she was accidentally freed by the Ninja. She promptly stole Kai's element, allowing her to reignite her forces.  Immediately, Aspheera swore revenge on Wu and sieged Ninjago City with a legion of Pyro Vipers and Elemental Cobras. Eventually, her rampage reached the Samurai X Cave, where she attacked Wu and the Ninja. Using the second Scroll of Forbidden Spinjitzu, the Ninja were able to incapacitate Aspheera - but not before she banished Zane to the Never-Realm. Aspheera is currently incarcerated in Kryptarium Prison....\n",
      "\n",
      "\n",
      "\n",
      "name : Obito Uchiha, score/log_score : 65.0/4.17, len_txt :772, history:\n",
      "\n",
      "Obito Uchiha was a member of Konohagakure's Uchiha clan. He was believed to have died during the Third Shinobi World War, his only surviving legacy being the Sharingan he gave to his teammate, Kakashi Hatake. In truth, Obito was saved from death and trained by Madara Uchiha, but the events of the war left Obito disillusioned with reality, and he inherited Madara's plan to create an ideal world. Resurfacing under the names of Tobi and Madara Uchiha himself, Obito subtly took control of the Akatsuki, using them as a means to advance his machinations, eventually going public and starting the Fourth Shinobi World War. However, towards the war's conclusion, Obito had a change of heart and, as atonement, sacrificed his life to save the same world he sought to replace....\n",
      "\n",
      "\n",
      "\n",
      "name : Anti-Monitor, score/log_score : 70.0/4.25, len_txt :17296, history:\n",
      "\n",
      "Oa started out as a peaceful planet with citizens of vast mental abilities and ambition. One of them, Krona, developed a screen to witness the dawn of time and caused an explosion on Oa. He was then sentenced to live forever in energy form. What happened during that explosion was the beginning of the Multiverse and all of the multitudes of its universes. Once the Oans took it upon themselves to fight for justice, some believed that they should destroy ALL evil. The other Oans did not agree and a civil war began. The ones of malevolent nature left for the dimension of Qward and sought the means to become all-mighty. In this universe, the Anti-Monitor was born on one of the moons as an excess of great energy taking form. At that same time in the positive matter universe, The Monitor was born of similar origin.   Soon the Anti-Monitor took over Qward by mere force and created a legion of troops with the power to throw lightning bolts. These people are called the Thunderers. Those of the ...\n",
      "\n",
      "\n",
      "\n",
      "name : Madara Uchiha, score/log_score : 66.0/4.19, len_txt :611, history:\n",
      "\n",
      "Madara Uchiha was the legendary leader of the Uchiha clan. He founded Konohagakure alongside his rival, Hashirama Senju, with the intention of beginning an era of peace. When the two couldn't agree on how to achieve that peace, they fought for control of the village, a conflict which ended in Madara's death. Madara, however, rewrote his death and went into hiding to work on his own plans. Unable to complete it in his natural life, he entrusted his knowledge and plans to Obito Uchiha shortly before his actual death. Years later, Madara would be revived, only to see his plans foiled before his final death....\n",
      "\n",
      "\n",
      "\n",
      "name : Black Hand, score/log_score : 80.0/4.38, len_txt :14224, history:\n",
      "\n",
      "History Black Hand (real name, William Hand) is a supervillain and an enemy of Green Lantern. He uses a device that allows him to drain the powers of a Green Lantern Ring, and use them for himself. Having trained himself extensively, he is a criminal mastermind who keeps an extensive journal of all of his methods on his person to refer to instantly at any point. He has a fondness for incorporating the themes of old clichés into his work. Later, after being subjected to alien experiments, he gained the power to completely drain the life force from those around him. His obsession with death proves not to be just a hobby, but a life calling. He has been chosen through Guardian Scar to act as the physical embodiment of death on the emotional electromagnetic spectrum, the herald of Nekron. After killing himself and becoming reanimated, he has become the leader of the Black Lantern Corps during Blackest Night. Origins Growing up as part of the wealthy and respectable Hand family in Coastvil...\n",
      "\n",
      "\n",
      "\n",
      "name : Shao Kahn, score/log_score : 75.0/4.32, len_txt :14794, history:\n",
      "\n",
      "Shao Kahn was originally a royal advisor to the first emperor of Outworld known as Onaga the Dragon King, and that position was somewhat similar the celestial title \"Protector\" and the duty to the specific realm. But soon, consumed by his lust for power, Shao Kahn poisoned his former king and assumed the throne, turning the once unified and glorious realm of Outworld into an extremely dangerous and dystopian empire. One of the backwards dialogues in Mortal Kombat: Deception says that Shao Kahn is part of the same race of beings as Lucifer and Raiden. In Deception's Konquest mode, Damashi who is the spirtual avatar of Onaga states to Shujinko that Shao Kahn was to Outworld is what Raiden is to Earth making Shao Kahn a god similar to Raiden. Mortal Kombat II Shao Kahn (MKSM).jpg Shao Kahn in his MK II attire in Mortal Kombat: Shaolin Monks. Shao Kahn concocted a plan to lure the Earthrealm champions to Outworld; if they could be killed, they would not be able to cause further damage to ...\n",
      "\n",
      "\n",
      "\n",
      "name : Dark Kahn, score/log_score : 71.0/4.26, len_txt :41, history:\n",
      "\n",
      "The combination of Darkseid and Shao Khan...\n",
      "\n",
      "\n",
      "\n",
      "name : Nekron, score/log_score : 80.0/4.38, len_txt :1427, history:\n",
      "\n",
      "Nekron is the Lord of the Unliving, one of the most powerful forces in the DC Universe, able to summon the dead to serve him towards whatever ends he might seek. Nekron is a concept/physical manifestation of the concept of death as a cosmic certainty and as the ultimate opponent and opposing force of all life that exists. As a cosmic force for evil, he has frequently found himself in conflict with the Green Lantern Corps. During Blackest Night, he has been revealed as the mastermind behind the Black Lantern Corps. Although he is a sentient being, Nekron is not alive as we understand the concept. He is the complete ruler of the Land of the Unliving, a dimension where souls go before their final judgment. As his eternal punishment, he is also imprisoned within this realm, unable to leave, although he frequently attempts to escape into our dimension. His origins remain completely shrouded in mystery. Nobody knows how he rose to power in his realm, or whether or not he was at one point a ...\n",
      "\n",
      "\n",
      "\n"
     ]
    }
   ],
   "source": [
    "print_sample(df[df._cat==\"d\"])"
   ]
  },
  {
   "cell_type": "code",
   "execution_count": 18,
   "id": "c258795a",
   "metadata": {
    "ExecuteTime": {
     "end_time": "2022-06-27T15:03:47.896387Z",
     "start_time": "2022-06-27T15:03:47.888462Z"
    }
   },
   "outputs": [
    {
     "name": "stdout",
     "output_type": "stream",
     "text": [
      "name : Lightray, score/log_score : 19.0/2.94, len_txt :114, history:\n",
      "\n",
      "Solis is one of the New Gods of New Genesis. As a boy he established a close friendship with fellow New God Orion....\n",
      "\n",
      "\n",
      "\n",
      "name : Kale, score/log_score : 17.0/2.83, len_txt :9644, history:\n",
      "\n",
      "When Universe 7 is selecting their team, Kale is one of the foes from another Universe pictured by Old Kai. She is a member of Caulifla's gang as well as her protégé. She is often looked down upon by other Saiyans of Universe 6 for her timid personality. After Cabba teaches Caulifla how to attain the Super Saiyan form, he and Caulifla work together to help Kale obtain it. It initially doesn't work, but after seeing Cabba and Caulifla \"flirting\", Kale is able to unleash her anger and utilize an \"Berserker\" state of the Super Saiyan transformation. Upon entering her berserk state, she immediately calls out Cabba and viciously attacks him in an attempt to kill him. Kale almost succeeds, however, Caulifla manages to awaken her Super Saiyan 2 state and saves Cabba's life by defecting Kale's ki blast. Caulifla, after realizing why Kale was so upset, told her that she would never fall for someone like Cabba. This calms Kale down and she reverts to her normal state. As Kale falls to the groun...\n",
      "\n",
      "\n",
      "\n",
      "name : Green Lantern (Injustice), score/log_score : 13.0/2.56, len_txt :575, history:\n",
      "\n",
      "Inspired by his father to be a pilot, Harold 'Hal' Jordan became a popular and daring test pilot for Ferris Aircraft, using some of their best fighter jets. In an unexpected event, Hal would come across a spaceship that crashlanded nearby his home. In there, a dying alien gave him a power ring and battery, proving that Hal was worthy of being a member of the Green Lantern Corps, an intergalactic police force meant to enforce justice around every sector of the known universe. Since then, Hal has been a huge help to the Corps, as well as a founding Justice League member....\n",
      "\n",
      "\n",
      "\n",
      "name : Black Lightning (CW), score/log_score : 6.0/1.79, len_txt :503, history:\n",
      "\n",
      "Jefferson Pierce is the superhero Black Lightning, the protector of the city of Freeland. In his civilian life, he is the principal of Garfield High School. Originally taking up the mantle to avenge the death of his father by ganglord, Tobias Whale, he retired from heroing after it ruined his family life. In his nine years of retirement, Whale and his gang, the 100, managed to expand their empire. After they threatened the safety of his school and daughters, Black Lightning returned to the streets....\n",
      "\n",
      "\n",
      "\n",
      "name : Punisher, score/log_score : 6.0/1.79, len_txt :2628, history:\n",
      "\n",
      "Born in New York to parents of Italian ancestory, Francis Castiglione is a former U.S. Marine Captain. Before Frank joined the Marines, he was studying to become a Catholic priest but changed his mind because he was unable to forgive those who did evil. Also prior to his enlistment, he married his wife Maria who was already pregnant with their first child. During his time in the United States Marine Corps (USMC), Castle graduated from Basic Training, then went on to Infantry School. Immediately following that, he went through the USMC's Reconnaissance, Force Reconnaissance, and Sniper Schools. Attaining dockets, Castle was permitted to go through U.S. Army Airborne School, and U.S. Navy Underwater Demolition Team training, becoming qualified as a Navy SeAL (Sea, Air and Land). He served in the Vietnam War in a special forces unit as a point man. For heroism in the line of duty, he was decorated with numerous medals, inlcuding the Purple Heart. Shortly after a tour in Vietnam, Castle, ...\n",
      "\n",
      "\n",
      "\n",
      "name : Hourman, score/log_score : 8.0/2.08, len_txt :3340, history:\n",
      "\n",
      "Scientist Rex Tyler, raised in upstate New York, developed an affinity for chemistry, particularly biochemistry. Working his way through college, he landed a job researching vitamins and hormone supplements at Bannermain Chemical. A series of discoveries and accidents led him to the \"miraculous vitamin\" Miraclo. He found that concentrated doses of the \"miraclo\" given to test mice increased their strength and vitality several times that of normal. After taking a dose himself, Rex found he could have superhuman strength and speed for the hour that the vitamin's effects lasted, before returning to human levels. Keeping the discovery of Miraclo a secret, Tyler decided that human trials would be limited to the only subject he could trust: himself. Feeling that the Miraclo-induced abilities should be used for good purposes, he decided to use the abilities to help those in need; in other words, he would become a superhero, based in Appleton City. He received his first mission by placing an a...\n",
      "\n",
      "\n",
      "\n",
      "name : Blade, score/log_score : 6.0/1.79, len_txt :3818, history:\n",
      "\n",
      "The man known only as Blade came into the world an orphan. Bitten while in labor by the vampire Deacon Frost, his mother, a prostitute named Tara Brooks, died during childbirth. Blade was taken in and raised by his mother's friends. Determined to avenge her death, he fashioned himself into a vampire hunter even before he reached adulthood.   After stalking the night on his own for a number of years, Blade became leader of a small band of like-minded individuals hunting Dracula. He first encountered the dark lord in Japan, after many months of searching. Blade lured Dracula into an ambush, and the vampire was slain with a wooden stake. However, Dracula soon was resurrected by his servants and exacted revenge by murdering Blade's entire band of vampire hunters.   Blade pressed on, often fighting alongside a team led by Quincy Harker, the great vampire hunter. The company's members included Rachel van Helsing and Frank Drake. Later, Blade teamed with vampiric private eye Hannibal King to...\n",
      "\n",
      "\n",
      "\n",
      "name : Bolobo, score/log_score : 4.0/1.39, len_txt :145, history:\n",
      "\n",
      "Bolobo was born as descendant of previous Elemental Master of Nature. He unlocked his True Potential before events of The Tournament of Elements....\n",
      "\n",
      "\n",
      "\n",
      "name : Lobo, score/log_score : 19.0/2.94, len_txt :11464, history:\n",
      "\n",
      "Lobo, whose name means \"one who devours your entrails and thoroughly enjoys it,\" is the last of his people for one reason: he killed them all. He hailed from the planet Czarnia which was a virtual paradise that knew nothing of war and the Czarnians were almost immortal. When Lobo was born, his evil was so frighteningly apparent, the nurse who delivered him went insane and became the planet's first mental patient in ten millennia after the infant Lobo chewed off four of her fingers. Lobo knew he was one of a kind, but he wanted even more. Inspired by the idea of genocide, Lobo created a swarm of lethal scorpion-like creatures, he set them on his people wiping out his entire species but himself. He claimed it was a science project and gave himself an 'A'. Since then he has traveled the galaxies collecting bounties. Despite his ruthless nature, Lobo has a strict code of honor when it comes to these agreements. Along the way he has met and battled a number of superheroes.   Lobo played an...\n",
      "\n",
      "\n",
      "\n",
      "name : Frank Zhang, score/log_score : 12.0/2.48, len_txt :580, history:\n",
      "\n",
      "On June 5, 1994, Frank was born to Mars, the Roman god of war, and mortal military soldier Emily Zhang. From his mother, he is a descendant of Periclymenus, who was a grandson of Poseidon and a member of the Argonauts, hence making him a legacy of Poseidon. His whole family was blessed by the god with the power to shift into any kind of animal, mythical or living from human form. In the absence of his immortal father, Frank's grandmother helped to raise him after his mother died in a military accident in Afghanistan a while before her son turned 16 and went to Camp Jupiter....\n",
      "\n",
      "\n",
      "\n"
     ]
    }
   ],
   "source": [
    "print_sample(df[df._cat==\"e\"])"
   ]
  },
  {
   "cell_type": "markdown",
   "id": "ab788d1d",
   "metadata": {},
   "source": [
    "# work on One"
   ]
  },
  {
   "cell_type": "code",
   "execution_count": 19,
   "id": "dea19425",
   "metadata": {
    "ExecuteTime": {
     "end_time": "2022-06-27T15:03:48.969272Z",
     "start_time": "2022-06-27T15:03:48.963662Z"
    }
   },
   "outputs": [
    {
     "data": {
      "text/plain": [
       "'Achilles Warkiller was created by Zeus to counter to Wonder Woman.'"
      ]
     },
     "execution_count": 19,
     "metadata": {},
     "output_type": "execute_result"
    }
   ],
   "source": [
    "txt = df.history_text.sample(1)\n",
    "txt = txt.values[0]\n",
    "txt"
   ]
  },
  {
   "cell_type": "code",
   "execution_count": 20,
   "id": "f1754801",
   "metadata": {
    "ExecuteTime": {
     "end_time": "2022-06-27T15:03:49.271961Z",
     "start_time": "2022-06-27T15:03:49.264449Z"
    }
   },
   "outputs": [
    {
     "data": {
      "text/plain": [
       "'achilles warkiller was created by zeus to counter to wonder woman.'"
      ]
     },
     "execution_count": 20,
     "metadata": {},
     "output_type": "execute_result"
    }
   ],
   "source": [
    "txt = txt.lower()\n",
    "txt"
   ]
  },
  {
   "cell_type": "code",
   "execution_count": 21,
   "id": "c1ee02c3",
   "metadata": {
    "ExecuteTime": {
     "end_time": "2022-06-27T15:03:49.701843Z",
     "start_time": "2022-06-27T15:03:49.695102Z"
    }
   },
   "outputs": [],
   "source": [
    "txt = txt.strip().replace(\"  \", \" \")"
   ]
  },
  {
   "cell_type": "code",
   "execution_count": 22,
   "id": "8d7bc9aa",
   "metadata": {
    "ExecuteTime": {
     "end_time": "2022-06-27T15:03:49.957992Z",
     "start_time": "2022-06-27T15:03:49.951749Z"
    }
   },
   "outputs": [
    {
     "data": {
      "text/plain": [
       "'achilles warkiller was created'"
      ]
     },
     "execution_count": 22,
     "metadata": {},
     "output_type": "execute_result"
    }
   ],
   "source": [
    "txt[:30]"
   ]
  },
  {
   "cell_type": "code",
   "execution_count": 23,
   "id": "05a5c20e",
   "metadata": {
    "ExecuteTime": {
     "end_time": "2022-06-27T15:03:50.218908Z",
     "start_time": "2022-06-27T15:03:50.213387Z"
    }
   },
   "outputs": [],
   "source": [
    "from nltk.tokenize import word_tokenize, wordpunct_tokenize"
   ]
  },
  {
   "cell_type": "code",
   "execution_count": 24,
   "id": "8f6a396b",
   "metadata": {
    "ExecuteTime": {
     "end_time": "2022-06-27T15:03:50.417453Z",
     "start_time": "2022-06-27T15:03:50.399570Z"
    },
    "scrolled": false
   },
   "outputs": [
    {
     "data": {
      "text/plain": [
       "['achilles',\n",
       " 'warkiller',\n",
       " 'was',\n",
       " 'created',\n",
       " 'by',\n",
       " 'zeus',\n",
       " 'to',\n",
       " 'counter',\n",
       " 'to',\n",
       " 'wonder',\n",
       " 'woman',\n",
       " '.']"
      ]
     },
     "execution_count": 24,
     "metadata": {},
     "output_type": "execute_result"
    }
   ],
   "source": [
    "raw_tokens_list  = word_tokenize(txt)\n",
    "raw_tokens_list[:30]"
   ]
  },
  {
   "cell_type": "code",
   "execution_count": 25,
   "id": "1fc81a6d",
   "metadata": {
    "ExecuteTime": {
     "end_time": "2022-06-27T15:03:50.585934Z",
     "start_time": "2022-06-27T15:03:50.579047Z"
    }
   },
   "outputs": [
    {
     "data": {
      "text/plain": [
       "12"
      ]
     },
     "execution_count": 25,
     "metadata": {},
     "output_type": "execute_result"
    }
   ],
   "source": [
    "len(raw_tokens_list)"
   ]
  },
  {
   "cell_type": "code",
   "execution_count": 26,
   "id": "1fa74e0b",
   "metadata": {
    "ExecuteTime": {
     "end_time": "2022-06-27T15:03:50.732914Z",
     "start_time": "2022-06-27T15:03:50.728309Z"
    }
   },
   "outputs": [],
   "source": [
    "from nltk.corpus import stopwords"
   ]
  },
  {
   "cell_type": "code",
   "execution_count": 27,
   "id": "1df3d034",
   "metadata": {
    "ExecuteTime": {
     "end_time": "2022-06-27T15:03:50.893253Z",
     "start_time": "2022-06-27T15:03:50.884367Z"
    }
   },
   "outputs": [
    {
     "name": "stderr",
     "output_type": "stream",
     "text": [
      "[nltk_data] Downloading package stopwords to /home/alex/nltk_data...\n",
      "[nltk_data]   Package stopwords is already up-to-date!\n"
     ]
    },
    {
     "data": {
      "text/plain": [
       "True"
      ]
     },
     "execution_count": 27,
     "metadata": {},
     "output_type": "execute_result"
    }
   ],
   "source": [
    "nltk.download('stopwords')"
   ]
  },
  {
   "cell_type": "code",
   "execution_count": 28,
   "id": "7a6ec4db",
   "metadata": {
    "ExecuteTime": {
     "end_time": "2022-06-27T15:03:51.061155Z",
     "start_time": "2022-06-27T15:03:51.048036Z"
    }
   },
   "outputs": [
    {
     "name": "stdout",
     "output_type": "stream",
     "text": [
      "{'more', 'few', 'as', 'while', 'what', 'no', 'why', 'couldn', 'won', 'an', 'itself', 'her', 'were', 'our', 'wasn', 'be', 'against', 'during', 'under', 'themselves', 'yours', 'have', 'out', 'same', 'herself', 'been', 'did', 'their', 'both', \"that'll\", \"hasn't\", 'shouldn', 'your', 'into', \"you've\", 'has', 'it', 'or', 'this', 'than', 'himself', 'only', 'here', 'how', 'for', 'ma', 'yourselves', 'being', 'not', \"it's\", 'between', \"she's\", 'so', 'my', 'o', \"didn't\", 'other', 'below', 'they', 'having', 'by', 'then', 'will', 'am', 'she', \"don't\", 'you', 'but', 'before', 'don', 'above', 'of', 'if', 'can', \"wouldn't\", 'we', 'weren', 'are', 'ain', \"weren't\", \"you'd\", \"mightn't\", 't', 'doesn', 'ourselves', \"isn't\", \"you'll\", 'had', 'hers', 'where', \"shan't\", 'in', \"shouldn't\", 'shan', 'him', 'further', \"needn't\", \"couldn't\", 'haven', 'm', 'most', 'nor', 'aren', 'myself', 'just', 'its', 'from', 'each', 'now', 'theirs', 'do', 'them', 'that', 'some', 'over', 'ours', \"you're\", 'the', 'didn', 'hadn', 'these', \"mustn't\", 'with', 'once', 'y', 'which', 'too', \"doesn't\", 'should', 's', 're', \"aren't\", \"won't\", 'very', \"should've\", \"haven't\", 'and', 'about', \"hadn't\", 'who', 'whom', 'wouldn', 'those', 'there', 'through', 'll', 'does', 'hasn', 'to', 'i', 'doing', 'up', 'all', 'me', 'down', 've', 'such', \"wasn't\", 'mustn', 'yourself', 'at', 'mightn', 'a', 'because', 'again', 'on', 'is', 'isn', 'until', 'own', 'any', 'd', 'he', 'was', 'when', 'his', 'needn', 'off', 'after'}\n"
     ]
    }
   ],
   "source": [
    "stop_words = set(stopwords.words('english'))\n",
    "print(stop_words)"
   ]
  },
  {
   "cell_type": "code",
   "execution_count": 29,
   "id": "e4792ef2",
   "metadata": {
    "ExecuteTime": {
     "end_time": "2022-06-27T15:03:51.210528Z",
     "start_time": "2022-06-27T15:03:51.206055Z"
    }
   },
   "outputs": [],
   "source": [
    "cleaned_tokens_list = [w for w in raw_tokens_list if w not in stop_words]"
   ]
  },
  {
   "cell_type": "code",
   "execution_count": 30,
   "id": "04f9f1ed",
   "metadata": {
    "ExecuteTime": {
     "end_time": "2022-06-27T15:03:51.347976Z",
     "start_time": "2022-06-27T15:03:51.339626Z"
    }
   },
   "outputs": [
    {
     "data": {
      "text/plain": [
       "['achilles', 'warkiller', 'created', 'zeus', 'counter', 'wonder', 'woman', '.']"
      ]
     },
     "execution_count": 30,
     "metadata": {},
     "output_type": "execute_result"
    }
   ],
   "source": [
    "cleaned_tokens_list[:50]"
   ]
  },
  {
   "cell_type": "code",
   "execution_count": 31,
   "id": "24d4fd84",
   "metadata": {
    "ExecuteTime": {
     "end_time": "2022-06-27T15:03:51.505597Z",
     "start_time": "2022-06-27T15:03:51.494582Z"
    }
   },
   "outputs": [
    {
     "data": {
      "text/plain": [
       "8"
      ]
     },
     "execution_count": 31,
     "metadata": {},
     "output_type": "execute_result"
    }
   ],
   "source": [
    "len(cleaned_tokens_list)"
   ]
  },
  {
   "cell_type": "code",
   "execution_count": 32,
   "id": "87144998",
   "metadata": {
    "ExecuteTime": {
     "end_time": "2022-06-27T15:03:51.642551Z",
     "start_time": "2022-06-27T15:03:51.638152Z"
    }
   },
   "outputs": [],
   "source": [
    "from nltk.tokenize import RegexpTokenizer"
   ]
  },
  {
   "cell_type": "code",
   "execution_count": 33,
   "id": "1eda51a5",
   "metadata": {
    "ExecuteTime": {
     "end_time": "2022-06-27T15:03:51.812455Z",
     "start_time": "2022-06-27T15:03:51.805430Z"
    }
   },
   "outputs": [
    {
     "data": {
      "text/plain": [
       "['achilles',\n",
       " 'warkiller',\n",
       " 'was',\n",
       " 'created',\n",
       " 'by',\n",
       " 'zeus',\n",
       " 'to',\n",
       " 'counter',\n",
       " 'to',\n",
       " 'wonder',\n",
       " 'woman',\n",
       " '.']"
      ]
     },
     "execution_count": 33,
     "metadata": {},
     "output_type": "execute_result"
    }
   ],
   "source": [
    "\n",
    "\n",
    "\n",
    "raw_tokens_list[:50]"
   ]
  },
  {
   "cell_type": "code",
   "execution_count": 34,
   "id": "aa958d7b",
   "metadata": {
    "ExecuteTime": {
     "end_time": "2022-06-27T15:03:51.977433Z",
     "start_time": "2022-06-27T15:03:51.971038Z"
    }
   },
   "outputs": [
    {
     "data": {
      "text/plain": [
       "['achilles',\n",
       " 'warkiller',\n",
       " 'was',\n",
       " 'created',\n",
       " 'by',\n",
       " 'zeus',\n",
       " 'to',\n",
       " 'counter',\n",
       " 'to',\n",
       " 'wonder',\n",
       " 'woman',\n",
       " '.']"
      ]
     },
     "execution_count": 34,
     "metadata": {},
     "output_type": "execute_result"
    }
   ],
   "source": [
    "raw_tokens_list"
   ]
  },
  {
   "cell_type": "code",
   "execution_count": 35,
   "id": "ba57384b",
   "metadata": {
    "ExecuteTime": {
     "end_time": "2022-06-27T15:03:52.130264Z",
     "start_time": "2022-06-27T15:03:52.125830Z"
    }
   },
   "outputs": [],
   "source": [
    "cleaned_tokens_list = [w for w in raw_tokens_list if w not in stop_words]"
   ]
  },
  {
   "cell_type": "code",
   "execution_count": 36,
   "id": "27acc154",
   "metadata": {
    "ExecuteTime": {
     "end_time": "2022-06-27T15:03:52.293551Z",
     "start_time": "2022-06-27T15:03:52.287995Z"
    }
   },
   "outputs": [
    {
     "data": {
      "text/plain": [
       "['achilles', 'warkiller', 'created', 'zeus', 'counter', 'wonder', 'woman', '.']"
      ]
     },
     "execution_count": 36,
     "metadata": {},
     "output_type": "execute_result"
    }
   ],
   "source": [
    "cleaned_tokens_list[:50]"
   ]
  },
  {
   "cell_type": "code",
   "execution_count": 37,
   "id": "1c046a67",
   "metadata": {
    "ExecuteTime": {
     "end_time": "2022-06-27T15:03:52.454460Z",
     "start_time": "2022-06-27T15:03:52.448151Z"
    }
   },
   "outputs": [
    {
     "data": {
      "text/plain": [
       "8"
      ]
     },
     "execution_count": 37,
     "metadata": {},
     "output_type": "execute_result"
    }
   ],
   "source": [
    "len(cleaned_tokens_list)"
   ]
  },
  {
   "cell_type": "code",
   "execution_count": 38,
   "id": "1fbd3174",
   "metadata": {
    "ExecuteTime": {
     "end_time": "2022-06-27T15:03:52.611334Z",
     "start_time": "2022-06-27T15:03:52.604654Z"
    }
   },
   "outputs": [],
   "source": [
    "def process_text(txt, rejoin=False) : \n",
    "    \n",
    "    txt = txt.lower().strip()\n",
    "    tokenizer = RegexpTokenizer(r\"\\w+\")\n",
    "    raw_tokens_list = tokenizer.tokenize(txt)\n",
    "    cleaned_tokens_list = [w for w in raw_tokens_list if w not in stop_words]\n",
    "    \n",
    "    if rejoin : \n",
    "        return \" \".join(cleaned_tokens_list)\n",
    "    \n",
    "    return cleaned_tokens_list"
   ]
  },
  {
   "cell_type": "code",
   "execution_count": 39,
   "id": "9eafd633",
   "metadata": {
    "ExecuteTime": {
     "end_time": "2022-06-27T15:03:52.750809Z",
     "start_time": "2022-06-27T15:03:52.744353Z"
    }
   },
   "outputs": [
    {
     "data": {
      "text/plain": [
       "[\"Delroy Garrett, Jr. grew up to become a track star and competed in the Olympic Games. After he tested positive for steroids, he lost his three gold medals. In despair, he turned to religion, specifically the Triune Understanding. This group's founder, Jonathan Tremont, had found one of three fragments of a mysterious object and used it to give Garrett the powers of 3-D Man. Garrett assumed that his powers were because of his newfound spiritual enlightenment, and Tremont never disabused him of the notion.\",\n",
       " 'He was one of the many prisoners of Indian Hill to be transferred to another facility upstate on the orders of The Court. However, Fish Mooney hijacks the bus and drives it into Gotham City, where the bus crashes when fired upon by Butch Gilzean and his gang. After the mobsters flee at the sight of a resurrected Fish, she herself leaves the scene. An elderly hobo lady hears the cries of the prisoners and releases them, only to be horrified by their monstrous appearance. The monsters depart the prison van and make their way into Gotham City. The Bruce Wayne look-alike departs the bus and thanks the elderly woman before entering the city himself The look-a-like later saw Selina Kyle and Ivy Pepper give some money to a street gang. After Selina Kyle leaves to go meet up with Fish Mooney and her gang, Ivy is visited by the Bruce Wayne look-a-like. He frantically asks her who Bruce Wayne is, confused as to why he looks almost identical to him. Confused and terrified, Ivy runs off to inform Selina of his odd behavior. The look-a-like later snuck into Wayne Manor where Bruce and Alfred Pennyworth find him and are surprised by his appearance. He begs them not to hurt him.While helping himself to some food, the look-a-like stated to Bruce that he was known as Subject 514A and states that he never knew about the other Indian Hill subjects until he was loaded onto the bus that he was later freed from. Bruce objected to Alfred\\'s suggestion to turn him over to someone. Subject 514A later visits Bruce\\'s sparing match with Alfred. Taking his shot with Alfred, Subject 514A managed to easily counter Alfred\\'s moves. When Subject 514A managed to get punched in the nose, Alfred saw that he didn\\'t feel pain. Alfred and Bruce then noticed the scar on the back of his neck. Bruce looks for a clue for the scar on Subject 514A and hides him when Selina Kyle came into view. After watching Bruce and Selina\\'s conversation, Subject 514A started to begin mimicking Bruce\\'s voice. Later that night while Bruce is sleeping, Subject 514A starts cutting his hair. The next morning, Bruce and Alfred find out what Subject 514A did upon finding his cut hair and Bruce\\'s missing clothes. Bruce tells Alfred that they need to find him. Subject 514A arrives in one of the cars from Wayne Manor and invites Selina Kyle to have food with him. While Selina is suspicious on why \"Bruce\" is acting strange, she goes with him anyway.The next day, Selina and Subject 514A walked down the streets as they approach a bar. As Selina goes into the bar, Subject 514A is told to go around back. As Selina is about to have her fingers cut off by the two owners, Subject 514A comes in and beats up the two men. Selina is then cut loose by Subject 514A. After getting away, Selina discovers that Subject 514A is wounded. Upon noticing the scars on him, Selina sees that he is not Bruce. Selina stitches up Subject 514A who states that he has no knowledge of why he was made to look like him and claims that Bruce might have an interest in Selina after watching them from the halls. After being told by Selina about what happened to Firefly and Ivy, Subject 514A then kisses Selina. Bruce and Alfred catch up to Subject 514A who claims that Bruce doesn\\'t know what he wants. Subject 514A claims that he doesn\\'t know why he was created and states that he doesn\\'t belong in Gotham City. He then jumps off the building telling them to say goodbye to Selina for him. Bruce and Alfred then see Subject 514A walk off into the streets. Subject 514A is later visited by Kathryn and Talon while walking on the streets. Kathryn states to Subject 514A that they are his \"real parents\" who have been looking for him for a long time. Subject 514A is then loaded into Kathryn\\'s limo by Talon.',\n",
       " ' Richard \"Rick\" Jones was orphaned at a young age, and after being expelled from several orphanages for disciplinary reasons he was placed into a state institution called Tempest Town. A troubled and rebellious youth, Jones soon came to the attention of the institution\\'s chief administrator who smashed his guitar, a gift from his late father, and then had him severely thrashed. Soon afterward, Jones ran away from the institution. He spent the first half of his teens drifting from town to town throughout the Southwest, trying to avoid the juvenile authorities, and doing menial work when he could get it.  At age 16, he got his driver\\'s license and managed to save enough money to buy a used car. Overhearing a teenager dare a friend to ride out with him on the desert where it was rumored an atomic bomb was going to be tested, Jones offered to take him upon the challenge. He drove his car out to the test site to discover his challenger was too timid to show up. Dr. Robert Bruce Banner, designer of the Gamma Bomb to be tested, learned that someone had ventured onto the test site, and believing the countdown had been delayed, ran out into the desert to warn him back. Banner managed to throw Jones into a protective trench before the bomb detonated, but he himself was bombarded with gamma radiation. This radiation triggered a mutagenic change in Banner, causing him to turn into the raging superhuman Hulk. Feeling responsible for Banner\\'s condition and being the only person to know that the rampaging brute was actually Banner, Jones became the Hulk\\'s sometimes unwanted companion and ally. Jones soon organized the Teen Brigade, a group of young amateur ham radio enthusiasts to help him monitor the Hulk\\'s activities. Jones was present during the Hulk\\'s first encounters with the army, as well as superhuman menaces as the Gargoyle, the alien Toadmen, the Ringmaster, Tyrannus, and the Metal Master, and even a run-in with the Fantastic Four.  The Avengers formed due to Rick\\'s radio broadcast warning about the Hulk. He temporarily became a sidekick for Captain America. His resemblance to Bucky was noted, Rick even wore Bucky\\'s costume for a time. However, Captain America felt he did not want to lose another partner and that while Rick was a good athlete, he was not quite up to the level Bucky was. When Iron Man suggested that Rick be made a full member of the Avengers, Cap strongly opposed the idea.  The Kree hero Captain Mar-Vell was bonded to Rick due to only being able to function out of the Negative Zone for a few hours. Using the Negative Zone portal in the Baxter Building seemed to remove that limitation. Shortly after Rick and Mar-Vell had to be re-merged. Eventually, they were separated.  During the Kree-Skrull War, an \\'omniwave\\' machine from the Supreme Intelligence caused the Destiny Force to trigger within Rick.  An attempt to cure the Hulk instead gave Rick radiation poisoning. In the hospital, the Dire Wraiths began to replace the staff, but were stopped by Rom. Rick assisted Rom against the Wraiths, and temporarily lived with Brandy Clark. Jones was cured by the Beyonder at the same time Rom and Brandy left for Galador.  Rick began dating Marlo Chandler, a former girlfriend of the Hulk\\'s. The two later married with a great number of heroes in attendance. The Impossible Man did his best to usurp the proceedings by inviting the Kree, Skrulls, even Mephisto to the ceremony. After a period of estrangement that also involved Moondragon and Death becoming involved with Marlo, the two reunited.  Jones was temporarily paralyzed while Hulk was the Horseman War. In an attempt to stop this \\'War Hulk\\' he was thrown against a pyramid. Rick was cured during the Destiny War, summoning Avengers from various realities to battle for their very existence against the Time Keepers. The strain was incredible, and a future version of Genis-Vell bonded to him, much like Rick had with Mar-Vell. Rick and Genis later discovered this bond still applied to the current Genis.  Rick authored a best-selling novel on his days as a sidekick.  When the Hulk returned to Earth, Jones attempted to calm him down by telling him about Captain America\\'s death, but when the Hulk almost calmed down, Dr. Strange invaded the Hulk\\'s mind. Rick later went to Strange\\'s Sanctum Sanctorum, but was attacked by the Hulk\\'s allies.   Later, Rick was transported to the gamma bomb site that gave birth to the original Hulk. After being dropped off, he encountered the Red Hulk. After seeing that he had murdered Emil Blonsky, the Abomination, Rick had transformed into a new blue creature who quite resembled the Abomination; calling himself A-Bomb. In his new form, he was much like the original Hulk incarnation whereas he could not remember being anybody else once the transformation was complete, had an easily flared temper, and simplified speech patterns. He held his own against the Red Hulk for an extended period of time, withstanding all of his blows and injuring him multiple times which so far nobody had been able to accomplish. The battle was interrupted by several giant android harpies that were specifically designed by United States Military in case Bruce Banner escaped the facility as the Hulk. A-Bomb has proven to hold onto fragments of his memories as Rick Jones because he recognized the harpies all had the face of Betty Ross; Bruce Banner\\'s first love. A-Bomb managed to disable one mid-flight, and they both crashed to earth.The robot exploded.  A-Bomb joined with several heroes including the Avengers, the Fantastic Four, She-Hulk and the Hulk to help stop an impending earthquake in San Francisco which was caused by Red Hulk. After the Red Hulk was defeated, A-Bomb reverted back to Rick. He attempted to reveal who Red Hulk really was, but was shot and dragged away by Doc Samson from the area.']"
      ]
     },
     "execution_count": 39,
     "metadata": {},
     "output_type": "execute_result"
    }
   ],
   "source": [
    "corpus = list(df.history_text.values)\n",
    "corpus[:3]"
   ]
  },
  {
   "cell_type": "code",
   "execution_count": 40,
   "id": "047ce4ef",
   "metadata": {
    "ExecuteTime": {
     "end_time": "2022-06-27T15:03:52.942150Z",
     "start_time": "2022-06-27T15:03:52.920891Z"
    }
   },
   "outputs": [
    {
     "data": {
      "text/plain": [
       "'Delroy Garrett, Jr. grew up to become a track star and competed in the Olympic Games. After he tested positive for steroids, he lost his three gold medals. In despair, he turned to religion, specifically the Triune Understanding. This group\\'s founder, Jonathan Tremont, had found one of three fragments of a mysterious object and used it to give Garrett the powers of 3-D Man. Garrett assumed that his powers were because of his newfound spiritual enlightenment, and Tremont never disabused him of the notion.He was one of the many prisoners of Indian Hill to be transferred to another facility upstate on the orders of The Court. However, Fish Mooney hijacks the bus and drives it into Gotham City, where the bus crashes when fired upon by Butch Gilzean and his gang. After the mobsters flee at the sight of a resurrected Fish, she herself leaves the scene. An elderly hobo lady hears the cries of the prisoners and releases them, only to be horrified by their monstrous appearance. The monsters depart the prison van and make their way into Gotham City. The Bruce Wayne look-alike departs the bus and thanks the elderly woman before entering the city himself The look-a-like later saw Selina Kyle and Ivy Pepper give some money to a street gang. After Selina Kyle leaves to go meet up with Fish Mooney and her gang, Ivy is visited by the Bruce Wayne look-a-like. He frantically asks her who Bruce Wayne is, confused as to why he looks almost identical to him. Confused and terrified, Ivy runs off to inform Selina of his odd behavior. The look-a-like later snuck into Wayne Manor where Bruce and Alfred Pennyworth find him and are surprised by his appearance. He begs them not to hurt him.While helping himself to some food, the look-a-like stated to Bruce that he was known as Subject 514A and states that he never knew about the other Indian Hill subjects until he was loaded onto the bus that he was later freed from. Bruce objected to Alfred\\'s suggestion to turn him over to someone. Subject 514A later visits Bruce\\'s sparing match with Alfred. Taking his shot with Alfred, Subject 514A managed to easily counter Alfred\\'s moves. When Subject 514A managed to get punched in the nose, Alfred saw that he didn\\'t feel pain. Alfred and Bruce then noticed the scar on the back of his neck. Bruce looks for a clue for the scar on Subject 514A and hides him when Selina Kyle came into view. After watching Bruce and Selina\\'s conversation, Subject 514A started to begin mimicking Bruce\\'s voice. Later that night while Bruce is sleeping, Subject 514A starts cutting his hair. The next morning, Bruce and Alfred find out what Subject 514A did upon finding his cut hair and Bruce\\'s missing clothes. Bruce tells Alfred that they need to find him. Subject 514A arrives in one of the cars from Wayne Manor and invites Selina Kyle to have food with him. While Selina is suspicious on why \"Bruce\" is acting strange, she goes with him anyway.The next day, Selina and Subject 514A walked down the streets as they approach a bar. As Selina goes into the bar, Subject 514A is told to go around back. As Selina is about to have her fingers cut off by the two owners, Subject 514A comes in and beats up the two men. Selina is then cut loose by Subject 514A. After getting away, Selina discovers that Subject 514A is wounded. Upon noticing the scars on him, Selina sees that he is not Bruce. Selina stitches up Subject 514A who states that he has no knowledge of why he was made to look like him and claims that Bruce might have an interest in Selina after watching them from the halls. After being told by Selina about what happened to Firefly and Ivy, Subject 514A then kisses Selina. Bruce and Alfred catch up to Subject 514A who claims that Bruce doesn\\'t know what he wants. Subject 514A claims that he doesn\\'t know why he was created and states that he doesn\\'t belong in Gotham City. He then jumps off the building telling them to say goodbye to Selina for him. Bruce and Alfred then see Subject 514A walk off into the streets. Subject 514A is later visited by Kathryn and Talon while walking on the streets. Kathryn states to Subject 514A that they are his \"real parents\" who have been looking for him for a long time. Subject 514A is then loaded into Kathryn\\'s limo by Talon. Richard \"Rick\" Jones was orphaned at a young age, and after being expelled from several orphanages for disciplinary reasons he was placed into a state institution called Tempest Town. A troubled and rebellious youth, Jones soon came to the attention of the institution\\'s chief administrator who smashed his guitar, a gift from his late father, and then had him severely thrashed. Soon afterward, Jones ran away from the institution. He spent the first half of his teens drifting from town to town throughout the Southwest, trying to avoid the juvenile authorities, and doing menial work when he could get it.  At age 16, he got his driver\\'s license and managed to save enough money to buy a used car. Overhearing a teenager dare a frie'"
      ]
     },
     "execution_count": 40,
     "metadata": {},
     "output_type": "execute_result"
    }
   ],
   "source": [
    "corpus = \"\".join(corpus)\n",
    "corpus[:5000]"
   ]
  },
  {
   "cell_type": "code",
   "execution_count": 41,
   "id": "8af82dab",
   "metadata": {
    "ExecuteTime": {
     "end_time": "2022-06-27T15:03:53.413868Z",
     "start_time": "2022-06-27T15:03:53.088023Z"
    }
   },
   "outputs": [
    {
     "data": {
      "text/plain": [
       "['delroy',\n",
       " 'garrett',\n",
       " 'jr',\n",
       " 'grew',\n",
       " 'become',\n",
       " 'track',\n",
       " 'star',\n",
       " 'competed',\n",
       " 'olympic',\n",
       " 'games',\n",
       " 'tested',\n",
       " 'positive',\n",
       " 'steroids',\n",
       " 'lost',\n",
       " 'three',\n",
       " 'gold',\n",
       " 'medals',\n",
       " 'despair',\n",
       " 'turned',\n",
       " 'religion',\n",
       " 'specifically',\n",
       " 'triune',\n",
       " 'understanding',\n",
       " 'group',\n",
       " 'founder',\n",
       " 'jonathan',\n",
       " 'tremont',\n",
       " 'found',\n",
       " 'one',\n",
       " 'three',\n",
       " 'fragments',\n",
       " 'mysterious',\n",
       " 'object',\n",
       " 'used',\n",
       " 'give',\n",
       " 'garrett',\n",
       " 'powers',\n",
       " '3',\n",
       " 'man',\n",
       " 'garrett',\n",
       " 'assumed',\n",
       " 'powers',\n",
       " 'newfound',\n",
       " 'spiritual',\n",
       " 'enlightenment',\n",
       " 'tremont',\n",
       " 'never',\n",
       " 'disabused',\n",
       " 'notion',\n",
       " 'one',\n",
       " 'many',\n",
       " 'prisoners',\n",
       " 'indian',\n",
       " 'hill',\n",
       " 'transferred',\n",
       " 'another',\n",
       " 'facility',\n",
       " 'upstate',\n",
       " 'orders',\n",
       " 'court',\n",
       " 'however',\n",
       " 'fish',\n",
       " 'mooney',\n",
       " 'hijacks',\n",
       " 'bus',\n",
       " 'drives',\n",
       " 'gotham',\n",
       " 'city',\n",
       " 'bus',\n",
       " 'crashes',\n",
       " 'fired',\n",
       " 'upon',\n",
       " 'butch',\n",
       " 'gilzean',\n",
       " 'gang',\n",
       " 'mobsters',\n",
       " 'flee',\n",
       " 'sight',\n",
       " 'resurrected',\n",
       " 'fish',\n",
       " 'leaves',\n",
       " 'scene',\n",
       " 'elderly',\n",
       " 'hobo',\n",
       " 'lady',\n",
       " 'hears',\n",
       " 'cries',\n",
       " 'prisoners',\n",
       " 'releases',\n",
       " 'horrified',\n",
       " 'monstrous',\n",
       " 'appearance',\n",
       " 'monsters',\n",
       " 'depart',\n",
       " 'prison',\n",
       " 'van',\n",
       " 'make',\n",
       " 'way',\n",
       " 'gotham',\n",
       " 'city',\n",
       " 'bruce',\n",
       " 'wayne',\n",
       " 'look',\n",
       " 'alike',\n",
       " 'departs',\n",
       " 'bus',\n",
       " 'thanks',\n",
       " 'elderly',\n",
       " 'woman',\n",
       " 'entering',\n",
       " 'city',\n",
       " 'look',\n",
       " 'like',\n",
       " 'later',\n",
       " 'saw',\n",
       " 'selina',\n",
       " 'kyle',\n",
       " 'ivy',\n",
       " 'pepper',\n",
       " 'give',\n",
       " 'money',\n",
       " 'street',\n",
       " 'gang',\n",
       " 'selina',\n",
       " 'kyle',\n",
       " 'leaves',\n",
       " 'go',\n",
       " 'meet',\n",
       " 'fish',\n",
       " 'mooney',\n",
       " 'gang',\n",
       " 'ivy',\n",
       " 'visited',\n",
       " 'bruce',\n",
       " 'wayne',\n",
       " 'look',\n",
       " 'like',\n",
       " 'frantically',\n",
       " 'asks',\n",
       " 'bruce',\n",
       " 'wayne',\n",
       " 'confused',\n",
       " 'looks',\n",
       " 'almost',\n",
       " 'identical',\n",
       " 'confused',\n",
       " 'terrified',\n",
       " 'ivy',\n",
       " 'runs',\n",
       " 'inform',\n",
       " 'selina',\n",
       " 'odd',\n",
       " 'behavior',\n",
       " 'look',\n",
       " 'like',\n",
       " 'later',\n",
       " 'snuck',\n",
       " 'wayne',\n",
       " 'manor',\n",
       " 'bruce',\n",
       " 'alfred',\n",
       " 'pennyworth',\n",
       " 'find',\n",
       " 'surprised',\n",
       " 'appearance',\n",
       " 'begs',\n",
       " 'hurt',\n",
       " 'helping',\n",
       " 'food',\n",
       " 'look',\n",
       " 'like',\n",
       " 'stated',\n",
       " 'bruce',\n",
       " 'known',\n",
       " 'subject',\n",
       " '514a',\n",
       " 'states',\n",
       " 'never',\n",
       " 'knew',\n",
       " 'indian',\n",
       " 'hill',\n",
       " 'subjects',\n",
       " 'loaded',\n",
       " 'onto',\n",
       " 'bus',\n",
       " 'later',\n",
       " 'freed',\n",
       " 'bruce',\n",
       " 'objected',\n",
       " 'alfred',\n",
       " 'suggestion',\n",
       " 'turn',\n",
       " 'someone',\n",
       " 'subject',\n",
       " '514a',\n",
       " 'later',\n",
       " 'visits',\n",
       " 'bruce',\n",
       " 'sparing',\n",
       " 'match',\n",
       " 'alfred',\n",
       " 'taking',\n",
       " 'shot',\n",
       " 'alfred',\n",
       " 'subject',\n",
       " '514a',\n",
       " 'managed',\n",
       " 'easily',\n",
       " 'counter',\n",
       " 'alfred',\n",
       " 'moves',\n",
       " 'subject',\n",
       " '514a',\n",
       " 'managed',\n",
       " 'get',\n",
       " 'punched',\n",
       " 'nose',\n",
       " 'alfred',\n",
       " 'saw',\n",
       " 'feel',\n",
       " 'pain',\n",
       " 'alfred',\n",
       " 'bruce',\n",
       " 'noticed',\n",
       " 'scar',\n",
       " 'back',\n",
       " 'neck',\n",
       " 'bruce',\n",
       " 'looks',\n",
       " 'clue',\n",
       " 'scar',\n",
       " 'subject',\n",
       " '514a',\n",
       " 'hides',\n",
       " 'selina',\n",
       " 'kyle',\n",
       " 'came',\n",
       " 'view',\n",
       " 'watching',\n",
       " 'bruce',\n",
       " 'selina',\n",
       " 'conversation',\n",
       " 'subject',\n",
       " '514a',\n",
       " 'started',\n",
       " 'begin',\n",
       " 'mimicking',\n",
       " 'bruce',\n",
       " 'voice',\n",
       " 'later',\n",
       " 'night',\n",
       " 'bruce',\n",
       " 'sleeping',\n",
       " 'subject',\n",
       " '514a',\n",
       " 'starts',\n",
       " 'cutting',\n",
       " 'hair',\n",
       " 'next',\n",
       " 'morning',\n",
       " 'bruce',\n",
       " 'alfred',\n",
       " 'find',\n",
       " 'subject',\n",
       " '514a',\n",
       " 'upon',\n",
       " 'finding',\n",
       " 'cut',\n",
       " 'hair',\n",
       " 'bruce',\n",
       " 'missing',\n",
       " 'clothes',\n",
       " 'bruce',\n",
       " 'tells',\n",
       " 'alfred',\n",
       " 'need',\n",
       " 'find',\n",
       " 'subject',\n",
       " '514a',\n",
       " 'arrives',\n",
       " 'one',\n",
       " 'cars',\n",
       " 'wayne',\n",
       " 'manor',\n",
       " 'invites',\n",
       " 'selina',\n",
       " 'kyle',\n",
       " 'food',\n",
       " 'selina',\n",
       " 'suspicious',\n",
       " 'bruce',\n",
       " 'acting',\n",
       " 'strange',\n",
       " 'goes',\n",
       " 'anyway',\n",
       " 'next',\n",
       " 'day',\n",
       " 'selina',\n",
       " 'subject',\n",
       " '514a',\n",
       " 'walked',\n",
       " 'streets',\n",
       " 'approach',\n",
       " 'bar',\n",
       " 'selina',\n",
       " 'goes',\n",
       " 'bar',\n",
       " 'subject',\n",
       " '514a',\n",
       " 'told',\n",
       " 'go',\n",
       " 'around',\n",
       " 'back',\n",
       " 'selina',\n",
       " 'fingers',\n",
       " 'cut',\n",
       " 'two',\n",
       " 'owners',\n",
       " 'subject',\n",
       " '514a',\n",
       " 'comes',\n",
       " 'beats',\n",
       " 'two',\n",
       " 'men',\n",
       " 'selina',\n",
       " 'cut',\n",
       " 'loose',\n",
       " 'subject',\n",
       " '514a',\n",
       " 'getting',\n",
       " 'away',\n",
       " 'selina',\n",
       " 'discovers',\n",
       " 'subject',\n",
       " '514a',\n",
       " 'wounded',\n",
       " 'upon',\n",
       " 'noticing',\n",
       " 'scars',\n",
       " 'selina',\n",
       " 'sees',\n",
       " 'bruce',\n",
       " 'selina',\n",
       " 'stitches',\n",
       " 'subject',\n",
       " '514a',\n",
       " 'states',\n",
       " 'knowledge',\n",
       " 'made',\n",
       " 'look',\n",
       " 'like',\n",
       " 'claims',\n",
       " 'bruce',\n",
       " 'might',\n",
       " 'interest',\n",
       " 'selina',\n",
       " 'watching',\n",
       " 'halls',\n",
       " 'told',\n",
       " 'selina',\n",
       " 'happened',\n",
       " 'firefly',\n",
       " 'ivy',\n",
       " 'subject',\n",
       " '514a',\n",
       " 'kisses',\n",
       " 'selina',\n",
       " 'bruce',\n",
       " 'alfred',\n",
       " 'catch',\n",
       " 'subject',\n",
       " '514a',\n",
       " 'claims',\n",
       " 'bruce',\n",
       " 'know',\n",
       " 'wants',\n",
       " 'subject',\n",
       " '514a',\n",
       " 'claims',\n",
       " 'know',\n",
       " 'created',\n",
       " 'states',\n",
       " 'belong',\n",
       " 'gotham',\n",
       " 'city',\n",
       " 'jumps',\n",
       " 'building',\n",
       " 'telling',\n",
       " 'say',\n",
       " 'goodbye',\n",
       " 'selina',\n",
       " 'bruce',\n",
       " 'alfred',\n",
       " 'see',\n",
       " 'subject',\n",
       " '514a',\n",
       " 'walk',\n",
       " 'streets',\n",
       " 'subject',\n",
       " '514a',\n",
       " 'later',\n",
       " 'visited',\n",
       " 'kathryn',\n",
       " 'talon',\n",
       " 'walking',\n",
       " 'streets',\n",
       " 'kathryn',\n",
       " 'states',\n",
       " 'subject',\n",
       " '514a',\n",
       " 'real',\n",
       " 'parents',\n",
       " 'looking',\n",
       " 'long',\n",
       " 'time',\n",
       " 'subject',\n",
       " '514a',\n",
       " 'loaded',\n",
       " 'kathryn',\n",
       " 'limo',\n",
       " 'talon',\n",
       " 'richard',\n",
       " 'rick',\n",
       " 'jones',\n",
       " 'orphaned',\n",
       " 'young',\n",
       " 'age',\n",
       " 'expelled',\n",
       " 'several',\n",
       " 'orphanages',\n",
       " 'disciplinary',\n",
       " 'reasons',\n",
       " 'placed',\n",
       " 'state',\n",
       " 'institution',\n",
       " 'called',\n",
       " 'tempest',\n",
       " 'town',\n",
       " 'troubled',\n",
       " 'rebellious',\n",
       " 'youth',\n",
       " 'jones',\n",
       " 'soon',\n",
       " 'came',\n",
       " 'attention',\n",
       " 'institution',\n",
       " 'chief',\n",
       " 'administrator',\n",
       " 'smashed',\n",
       " 'guitar',\n",
       " 'gift',\n",
       " 'late',\n",
       " 'father',\n",
       " 'severely',\n",
       " 'thrashed',\n",
       " 'soon',\n",
       " 'afterward',\n",
       " 'jones',\n",
       " 'ran',\n",
       " 'away',\n",
       " 'institution',\n",
       " 'spent',\n",
       " 'first',\n",
       " 'half',\n",
       " 'teens',\n",
       " 'drifting',\n",
       " 'town',\n",
       " 'town',\n",
       " 'throughout',\n",
       " 'southwest',\n",
       " 'trying',\n",
       " 'avoid',\n",
       " 'juvenile',\n",
       " 'authorities',\n",
       " 'menial',\n",
       " 'work',\n",
       " 'could',\n",
       " 'get',\n",
       " 'age',\n",
       " '16',\n",
       " 'got',\n",
       " 'driver',\n",
       " 'license',\n",
       " 'managed',\n",
       " 'save',\n",
       " 'enough',\n",
       " 'money',\n",
       " 'buy',\n",
       " 'used',\n",
       " 'car',\n",
       " 'overhearing',\n",
       " 'teenager',\n",
       " 'dare',\n",
       " 'friend',\n",
       " 'ride',\n",
       " 'desert',\n",
       " 'rumored',\n",
       " 'atomic',\n",
       " 'bomb',\n",
       " 'going',\n",
       " 'tested',\n",
       " 'jones',\n",
       " 'offered',\n",
       " 'take',\n",
       " 'upon',\n",
       " 'challenge',\n",
       " 'drove',\n",
       " 'car',\n",
       " 'test',\n",
       " 'site',\n",
       " 'discover',\n",
       " 'challenger',\n",
       " 'timid',\n",
       " 'show',\n",
       " 'dr',\n",
       " 'robert',\n",
       " 'bruce',\n",
       " 'banner',\n",
       " 'designer',\n",
       " 'gamma',\n",
       " 'bomb',\n",
       " 'tested',\n",
       " 'learned',\n",
       " 'someone',\n",
       " 'ventured',\n",
       " 'onto',\n",
       " 'test',\n",
       " 'site',\n",
       " 'believing',\n",
       " 'countdown',\n",
       " 'delayed',\n",
       " 'ran',\n",
       " 'desert',\n",
       " 'warn',\n",
       " 'back',\n",
       " 'banner',\n",
       " 'managed',\n",
       " 'throw',\n",
       " 'jones',\n",
       " 'protective',\n",
       " 'trench',\n",
       " 'bomb',\n",
       " 'detonated',\n",
       " 'bombarded',\n",
       " 'gamma',\n",
       " 'radiation',\n",
       " 'radiation',\n",
       " 'triggered',\n",
       " 'mutagenic',\n",
       " 'change',\n",
       " 'banner',\n",
       " 'causing',\n",
       " 'turn',\n",
       " 'raging',\n",
       " 'superhuman',\n",
       " 'hulk',\n",
       " 'feeling',\n",
       " 'responsible',\n",
       " 'banner',\n",
       " 'condition',\n",
       " 'person',\n",
       " 'know',\n",
       " 'rampaging',\n",
       " 'brute',\n",
       " 'actually',\n",
       " 'banner',\n",
       " 'jones',\n",
       " 'became',\n",
       " 'hulk',\n",
       " 'sometimes',\n",
       " 'unwanted',\n",
       " 'companion',\n",
       " 'ally',\n",
       " 'jones',\n",
       " 'soon',\n",
       " 'organized',\n",
       " 'teen',\n",
       " 'brigade',\n",
       " 'group',\n",
       " 'young',\n",
       " 'amateur',\n",
       " 'ham',\n",
       " 'radio',\n",
       " 'enthusiasts',\n",
       " 'help',\n",
       " 'monitor',\n",
       " 'hulk',\n",
       " 'activities',\n",
       " 'jones',\n",
       " 'present',\n",
       " 'hulk',\n",
       " 'first',\n",
       " 'encounters',\n",
       " 'army',\n",
       " 'well',\n",
       " 'superhuman',\n",
       " 'menaces',\n",
       " 'gargoyle',\n",
       " 'alien',\n",
       " 'toadmen',\n",
       " 'ringmaster',\n",
       " 'tyrannus',\n",
       " 'metal',\n",
       " 'master',\n",
       " 'even',\n",
       " 'run',\n",
       " 'fantastic',\n",
       " 'four',\n",
       " 'avengers',\n",
       " 'formed',\n",
       " 'due',\n",
       " 'rick',\n",
       " 'radio',\n",
       " 'broadcast',\n",
       " 'warning',\n",
       " 'hulk',\n",
       " 'temporarily',\n",
       " 'became',\n",
       " 'sidekick',\n",
       " 'captain',\n",
       " 'america',\n",
       " 'resemblance',\n",
       " 'bucky',\n",
       " 'noted',\n",
       " 'rick',\n",
       " 'even',\n",
       " 'wore',\n",
       " 'bucky',\n",
       " 'costume',\n",
       " 'time',\n",
       " 'however',\n",
       " 'captain',\n",
       " 'america',\n",
       " 'felt',\n",
       " 'want',\n",
       " 'lose',\n",
       " 'another',\n",
       " 'partner',\n",
       " 'rick',\n",
       " 'good',\n",
       " 'athlete',\n",
       " 'quite',\n",
       " 'level',\n",
       " 'bucky',\n",
       " 'iron',\n",
       " 'man',\n",
       " 'suggested',\n",
       " 'rick',\n",
       " 'made',\n",
       " 'full',\n",
       " 'member',\n",
       " 'avengers',\n",
       " 'cap',\n",
       " 'strongly',\n",
       " 'opposed',\n",
       " 'idea',\n",
       " 'kree',\n",
       " 'hero',\n",
       " 'captain',\n",
       " 'mar',\n",
       " 'vell',\n",
       " 'bonded',\n",
       " 'rick',\n",
       " 'due',\n",
       " 'able',\n",
       " 'function',\n",
       " 'negative',\n",
       " 'zone',\n",
       " 'hours',\n",
       " 'using',\n",
       " 'negative',\n",
       " 'zone',\n",
       " 'portal',\n",
       " 'baxter',\n",
       " 'building',\n",
       " 'seemed',\n",
       " 'remove',\n",
       " 'limitation',\n",
       " 'shortly',\n",
       " 'rick',\n",
       " 'mar',\n",
       " 'vell',\n",
       " 'merged',\n",
       " 'eventually',\n",
       " 'separated',\n",
       " 'kree',\n",
       " 'skrull',\n",
       " 'war',\n",
       " 'omniwave',\n",
       " 'machine',\n",
       " 'supreme',\n",
       " 'intelligence',\n",
       " 'caused',\n",
       " 'destiny',\n",
       " 'force',\n",
       " 'trigger',\n",
       " 'within',\n",
       " 'rick',\n",
       " 'attempt',\n",
       " 'cure',\n",
       " 'hulk',\n",
       " 'instead',\n",
       " 'gave',\n",
       " 'rick',\n",
       " 'radiation',\n",
       " 'poisoning',\n",
       " 'hospital',\n",
       " 'dire',\n",
       " 'wraiths',\n",
       " 'began',\n",
       " 'replace',\n",
       " 'staff',\n",
       " 'stopped',\n",
       " 'rom',\n",
       " 'rick',\n",
       " 'assisted',\n",
       " 'rom',\n",
       " 'wraiths',\n",
       " 'temporarily',\n",
       " 'lived',\n",
       " 'brandy',\n",
       " 'clark',\n",
       " 'jones',\n",
       " 'cured',\n",
       " 'beyonder',\n",
       " 'time',\n",
       " 'rom',\n",
       " 'brandy',\n",
       " 'left',\n",
       " 'galador',\n",
       " 'rick',\n",
       " 'began',\n",
       " 'dating',\n",
       " 'marlo',\n",
       " 'chandler',\n",
       " 'former',\n",
       " 'girlfriend',\n",
       " 'hulk',\n",
       " 'two',\n",
       " 'later',\n",
       " 'married',\n",
       " 'great',\n",
       " 'number',\n",
       " 'heroes',\n",
       " 'attendance',\n",
       " 'impossible',\n",
       " 'man',\n",
       " 'best',\n",
       " 'usurp',\n",
       " 'proceedings',\n",
       " 'inviting',\n",
       " 'kree',\n",
       " 'skrulls',\n",
       " 'even',\n",
       " 'mephisto',\n",
       " 'ceremony',\n",
       " 'period',\n",
       " 'estrangement',\n",
       " 'also',\n",
       " 'involved',\n",
       " 'moondragon',\n",
       " 'death',\n",
       " 'becoming',\n",
       " 'involved',\n",
       " 'marlo',\n",
       " 'two',\n",
       " 'reunited',\n",
       " 'jones',\n",
       " 'temporarily',\n",
       " 'paralyzed',\n",
       " 'hulk',\n",
       " 'horseman',\n",
       " 'war',\n",
       " 'attempt',\n",
       " 'stop',\n",
       " 'war',\n",
       " 'hulk',\n",
       " 'thrown',\n",
       " 'pyramid',\n",
       " 'rick',\n",
       " 'cured',\n",
       " 'destiny',\n",
       " 'war',\n",
       " 'summoning',\n",
       " 'avengers',\n",
       " 'various',\n",
       " 'realities',\n",
       " 'battle',\n",
       " 'existence',\n",
       " 'time',\n",
       " 'keepers',\n",
       " 'strain',\n",
       " 'incredible',\n",
       " 'future',\n",
       " 'version',\n",
       " 'genis',\n",
       " 'vell',\n",
       " 'bonded',\n",
       " 'much',\n",
       " 'like',\n",
       " 'rick',\n",
       " 'mar',\n",
       " 'vell',\n",
       " 'rick',\n",
       " 'genis',\n",
       " 'later',\n",
       " 'discovered',\n",
       " 'bond',\n",
       " 'still',\n",
       " 'applied',\n",
       " 'current',\n",
       " 'genis',\n",
       " 'rick',\n",
       " 'authored',\n",
       " 'best',\n",
       " 'selling',\n",
       " 'novel',\n",
       " 'days',\n",
       " 'sidekick',\n",
       " 'hulk',\n",
       " 'returned',\n",
       " 'earth',\n",
       " 'jones',\n",
       " 'attempted',\n",
       " 'calm',\n",
       " 'telling',\n",
       " 'captain',\n",
       " 'america',\n",
       " 'death',\n",
       " 'hulk',\n",
       " 'almost',\n",
       " 'calmed',\n",
       " 'dr',\n",
       " 'strange',\n",
       " 'invaded',\n",
       " 'hulk',\n",
       " 'mind',\n",
       " 'rick',\n",
       " 'later',\n",
       " 'went',\n",
       " 'strange',\n",
       " 'sanctum',\n",
       " 'sanctorum',\n",
       " 'attacked',\n",
       " 'hulk',\n",
       " 'allies',\n",
       " 'later',\n",
       " 'rick',\n",
       " 'transported',\n",
       " 'gamma',\n",
       " 'bomb',\n",
       " 'site',\n",
       " 'gave',\n",
       " 'birth',\n",
       " 'original',\n",
       " 'hulk',\n",
       " 'dropped',\n",
       " 'encountered',\n",
       " 'red',\n",
       " 'hulk',\n",
       " 'seeing',\n",
       " 'murdered',\n",
       " 'emil',\n",
       " 'blonsky',\n",
       " 'abomination',\n",
       " 'rick',\n",
       " 'transformed',\n",
       " 'new',\n",
       " 'blue',\n",
       " 'creature',\n",
       " 'quite',\n",
       " 'resembled',\n",
       " 'abomination',\n",
       " 'calling',\n",
       " 'bomb',\n",
       " 'new',\n",
       " 'form',\n",
       " 'much',\n",
       " 'like',\n",
       " 'original',\n",
       " 'hulk',\n",
       " 'incarnation',\n",
       " 'whereas',\n",
       " 'could',\n",
       " 'remember',\n",
       " 'anybody',\n",
       " 'else',\n",
       " 'transformation',\n",
       " 'complete',\n",
       " 'easily',\n",
       " 'flared',\n",
       " 'temper',\n",
       " 'simplified',\n",
       " 'speech',\n",
       " 'patterns',\n",
       " 'held',\n",
       " 'red',\n",
       " 'hulk',\n",
       " 'extended',\n",
       " 'period',\n",
       " 'time',\n",
       " 'withstanding',\n",
       " 'blows',\n",
       " 'injuring',\n",
       " 'multiple',\n",
       " 'times',\n",
       " 'far',\n",
       " 'nobody',\n",
       " 'able',\n",
       " 'accomplish',\n",
       " 'battle',\n",
       " 'interrupted',\n",
       " 'several',\n",
       " 'giant',\n",
       " 'android',\n",
       " 'harpies',\n",
       " 'specifically',\n",
       " 'designed',\n",
       " 'united',\n",
       " 'states',\n",
       " 'military',\n",
       " 'case',\n",
       " 'bruce',\n",
       " 'banner',\n",
       " 'escaped',\n",
       " 'facility',\n",
       " 'hulk',\n",
       " 'bomb',\n",
       " 'proven',\n",
       " 'hold',\n",
       " 'onto',\n",
       " 'fragments',\n",
       " 'memories',\n",
       " 'rick',\n",
       " 'jones',\n",
       " 'recognized',\n",
       " 'harpies',\n",
       " 'face',\n",
       " 'betty',\n",
       " 'ross',\n",
       " 'bruce',\n",
       " 'banner',\n",
       " 'first',\n",
       " 'love',\n",
       " 'bomb',\n",
       " 'managed',\n",
       " 'disable',\n",
       " 'one',\n",
       " 'mid',\n",
       " 'flight',\n",
       " 'crashed',\n",
       " 'earth',\n",
       " 'robot',\n",
       " 'exploded',\n",
       " 'bomb',\n",
       " 'joined',\n",
       " 'several',\n",
       " 'heroes',\n",
       " 'including',\n",
       " 'avengers',\n",
       " 'fantastic',\n",
       " 'four',\n",
       " 'hulk',\n",
       " 'hulk',\n",
       " 'help',\n",
       " 'stop',\n",
       " 'impending',\n",
       " 'earthquake',\n",
       " 'san',\n",
       " 'francisco',\n",
       " 'caused',\n",
       " 'red',\n",
       " 'hulk',\n",
       " 'red',\n",
       " 'hulk',\n",
       " 'defeated',\n",
       " 'bomb',\n",
       " 'reverted',\n",
       " 'back',\n",
       " 'rick',\n",
       " 'attempted',\n",
       " 'reveal',\n",
       " 'red',\n",
       " 'hulk',\n",
       " 'really',\n",
       " 'shot',\n",
       " 'dragged',\n",
       " 'away',\n",
       " 'doc',\n",
       " 'samson',\n",
       " 'area',\n",
       " 'aa',\n",
       " 'one',\n",
       " 'passive',\n",
       " 'members',\n",
       " 'pumice',\n",
       " 'people',\n",
       " 'race',\n",
       " 'stoneworld',\n",
       " 'hal',\n",
       " ...]"
      ]
     },
     "execution_count": 41,
     "metadata": {},
     "output_type": "execute_result"
    }
   ],
   "source": [
    "cleaned_corpus = process_text(corpus)\n",
    "cleaned_corpus"
   ]
  },
  {
   "cell_type": "code",
   "execution_count": 42,
   "id": "facd87a0",
   "metadata": {
    "ExecuteTime": {
     "end_time": "2022-06-27T15:03:53.419564Z",
     "start_time": "2022-06-27T15:03:53.415694Z"
    }
   },
   "outputs": [
    {
     "data": {
      "text/plain": [
       "490183"
      ]
     },
     "execution_count": 42,
     "metadata": {},
     "output_type": "execute_result"
    }
   ],
   "source": [
    "len(cleaned_corpus)"
   ]
  },
  {
   "cell_type": "code",
   "execution_count": 43,
   "id": "3202abe3",
   "metadata": {
    "ExecuteTime": {
     "end_time": "2022-06-27T15:03:53.509678Z",
     "start_time": "2022-06-27T15:03:53.421180Z"
    }
   },
   "outputs": [],
   "source": [
    "tmp = pd.Series(cleaned_corpus).value_counts()"
   ]
  },
  {
   "cell_type": "code",
   "execution_count": 44,
   "id": "42d989a7",
   "metadata": {
    "ExecuteTime": {
     "end_time": "2022-06-27T15:03:54.211202Z",
     "start_time": "2022-06-27T15:03:54.199100Z"
    }
   },
   "outputs": [
    {
     "data": {
      "text/plain": [
       "1249"
      ]
     },
     "execution_count": 44,
     "metadata": {},
     "output_type": "execute_result"
    }
   ],
   "source": [
    "len(df)"
   ]
  },
  {
   "cell_type": "code",
   "execution_count": 45,
   "id": "547c0079",
   "metadata": {
    "ExecuteTime": {
     "end_time": "2022-06-27T15:03:54.374797Z",
     "start_time": "2022-06-27T15:03:54.356098Z"
    }
   },
   "outputs": [
    {
     "data": {
      "text/plain": [
       "count    28454.000000\n",
       "mean        17.227209\n",
       "std         69.723289\n",
       "min          1.000000\n",
       "25%          1.000000\n",
       "50%          3.000000\n",
       "75%          9.000000\n",
       "max       2289.000000\n",
       "dtype: float64"
      ]
     },
     "execution_count": 45,
     "metadata": {},
     "output_type": "execute_result"
    }
   ],
   "source": [
    "tmp.describe()"
   ]
  },
  {
   "cell_type": "code",
   "execution_count": 46,
   "id": "d81a9a7b",
   "metadata": {
    "ExecuteTime": {
     "end_time": "2022-06-27T15:03:59.893133Z",
     "start_time": "2022-06-27T15:03:54.520729Z"
    }
   },
   "outputs": [
    {
     "data": {
      "text/plain": [
       "<seaborn.axisgrid.FacetGrid at 0x7f9bb065d820>"
      ]
     },
     "execution_count": 46,
     "metadata": {},
     "output_type": "execute_result"
    },
    {
     "data": {
      "image/png": "[encoded data removed]",
      "text/plain": [
       "<Figure size 360x360 with 1 Axes>"
      ]
     },
     "metadata": {
      "needs_background": "light"
     },
     "output_type": "display_data"
    }
   ],
   "source": [
    "sns.displot(tmp.values)"
   ]
  },
  {
   "cell_type": "code",
   "execution_count": 47,
   "id": "2073ea0a",
   "metadata": {
    "ExecuteTime": {
     "end_time": "2022-06-27T15:03:59.900367Z",
     "start_time": "2022-06-27T15:03:59.895181Z"
    },
    "scrolled": true
   },
   "outputs": [
    {
     "data": {
      "text/plain": [
       "time          2289\n",
       "new           2244\n",
       "x             2229\n",
       "man           2155\n",
       "one           2125\n",
       "would         2047\n",
       "later         1857\n",
       "however       1648\n",
       "earth         1577\n",
       "team          1517\n",
       "back          1438\n",
       "men           1402\n",
       "also          1314\n",
       "power         1293\n",
       "life          1215\n",
       "sonic         1213\n",
       "could         1196\n",
       "powers        1183\n",
       "became        1157\n",
       "two           1136\n",
       "world         1103\n",
       "battle        1094\n",
       "death         1090\n",
       "help          1053\n",
       "first         1053\n",
       "eventually    1000\n",
       "found          992\n",
       "black          973\n",
       "father         973\n",
       "returned       947\n",
       "dtype: int64"
      ]
     },
     "execution_count": 47,
     "metadata": {},
     "output_type": "execute_result"
    }
   ],
   "source": [
    "tmp.head(30)"
   ]
  },
  {
   "cell_type": "code",
   "execution_count": 48,
   "id": "f47b4ea8",
   "metadata": {
    "ExecuteTime": {
     "end_time": "2022-06-27T15:03:59.908762Z",
     "start_time": "2022-06-27T15:03:59.903152Z"
    }
   },
   "outputs": [
    {
     "data": {
      "text/plain": [
       "monaghan        1\n",
       "sidhe           1\n",
       "ectoplasm       1\n",
       "countess        1\n",
       "ilona           1\n",
       "kakosy          1\n",
       "raskine         1\n",
       "infamy          1\n",
       "firefighting    1\n",
       "mania           1\n",
       "shayera         1\n",
       "206             1\n",
       "aldus           1\n",
       "hath            1\n",
       "trotting        1\n",
       "jumble          1\n",
       "zauriel         1\n",
       "roch            1\n",
       "stonechat       1\n",
       "katar           1\n",
       "amicable        1\n",
       "hol             1\n",
       "byth            1\n",
       "pyromaniac      1\n",
       "pseudonym       1\n",
       "2166            1\n",
       "potentials      1\n",
       "maroon          1\n",
       "aberrations     1\n",
       "misjudged       1\n",
       "dtype: int64"
      ]
     },
     "execution_count": 48,
     "metadata": {},
     "output_type": "execute_result"
    }
   ],
   "source": [
    "tmp.tail(30)"
   ]
  },
  {
   "cell_type": "code",
   "execution_count": 49,
   "id": "43313db7",
   "metadata": {
    "ExecuteTime": {
     "end_time": "2022-06-27T15:03:59.915052Z",
     "start_time": "2022-06-27T15:03:59.912139Z"
    }
   },
   "outputs": [],
   "source": [
    "# sns.countplot(pd.Series(cleaned_corpus))"
   ]
  },
  {
   "cell_type": "code",
   "execution_count": 50,
   "id": "eaca7018",
   "metadata": {
    "ExecuteTime": {
     "end_time": "2022-06-27T15:03:59.927336Z",
     "start_time": "2022-06-27T15:03:59.917779Z"
    }
   },
   "outputs": [
    {
     "data": {
      "text/plain": [
       "combo          1\n",
       "diverting      1\n",
       "tryout         1\n",
       "speedfreek     1\n",
       "revamps        1\n",
       "x5edit         1\n",
       "genre          1\n",
       "intiative      1\n",
       "decreeing      1\n",
       "relocates      1\n",
       "cliches        1\n",
       "evacuating     1\n",
       "1602           1\n",
       "founds         1\n",
       "masterpiece    1\n",
       "adhered        1\n",
       "tumbalt        1\n",
       "kalthea        1\n",
       "loveable       1\n",
       "aggregation    1\n",
       "understands    1\n",
       "midland        1\n",
       "philly         1\n",
       "jacobs         1\n",
       "bladder        1\n",
       "starcore       1\n",
       "accedes        1\n",
       "producers      1\n",
       "toes           1\n",
       "thorn          1\n",
       "dtype: int64"
      ]
     },
     "execution_count": 50,
     "metadata": {},
     "output_type": "execute_result"
    }
   ],
   "source": [
    "list_unique_words = tmp[tmp==1]\n",
    "list_unique_words[:30]"
   ]
  },
  {
   "cell_type": "code",
   "execution_count": 51,
   "id": "2eb9b8bc",
   "metadata": {
    "ExecuteTime": {
     "end_time": "2022-06-27T15:03:59.936814Z",
     "start_time": "2022-06-27T15:03:59.929646Z"
    }
   },
   "outputs": [
    {
     "data": {
      "text/plain": [
       "['combo',\n",
       " 'diverting',\n",
       " 'tryout',\n",
       " 'speedfreek',\n",
       " 'revamps',\n",
       " 'x5edit',\n",
       " 'genre',\n",
       " 'intiative',\n",
       " 'decreeing',\n",
       " 'relocates',\n",
       " 'cliches',\n",
       " 'evacuating',\n",
       " '1602',\n",
       " 'founds',\n",
       " 'masterpiece',\n",
       " 'adhered',\n",
       " 'tumbalt',\n",
       " 'kalthea',\n",
       " 'loveable',\n",
       " 'aggregation',\n",
       " 'understands',\n",
       " 'midland',\n",
       " 'philly',\n",
       " 'jacobs',\n",
       " 'bladder',\n",
       " 'starcore',\n",
       " 'accedes',\n",
       " 'producers',\n",
       " 'toes',\n",
       " 'thorn']"
      ]
     },
     "execution_count": 51,
     "metadata": {},
     "output_type": "execute_result"
    }
   ],
   "source": [
    "list_unique_words = list(list_unique_words.index)\n",
    "list_unique_words[:30]"
   ]
  },
  {
   "cell_type": "code",
   "execution_count": 52,
   "id": "4fb47469",
   "metadata": {
    "ExecuteTime": {
     "end_time": "2022-06-27T15:03:59.943642Z",
     "start_time": "2022-06-27T15:03:59.938942Z"
    }
   },
   "outputs": [],
   "source": [
    "def process_text(txt, rejoin=False) : \n",
    "    \n",
    "    txt = txt.lower().strip()\n",
    "    tokenizer = RegexpTokenizer(r\"\\w+\")\n",
    "    raw_tokens_list = tokenizer.tokenize(txt)\n",
    "    cleaned_tokens_list = [w for w in raw_tokens_list if w not in stop_words]\n",
    "    non_unique_tokens_list = [w for w in cleaned_tokens_list not in list_unique_words]\n",
    "    more_than_3 =  [w for w in non_unique_tokens_list if len(w) > 3 ]\n",
    "    \n",
    "    alpha_num = [w for w in more_than_3 if w.isalpha()]\n",
    "    \n",
    "    \n",
    "    if rejoin : \n",
    "        return \" \".join(cleaned_tokens_list)\n",
    "    \n",
    "    return cleaned_tokens_list"
   ]
  },
  {
   "cell_type": "code",
   "execution_count": 53,
   "id": "6f28e122",
   "metadata": {
    "ExecuteTime": {
     "end_time": "2022-06-27T15:03:59.949657Z",
     "start_time": "2022-06-27T15:03:59.945784Z"
    }
   },
   "outputs": [
    {
     "data": {
      "text/plain": [
       "False"
      ]
     },
     "execution_count": 53,
     "metadata": {},
     "output_type": "execute_result"
    }
   ],
   "source": [
    "\"a12\".isalpha()"
   ]
  },
  {
   "cell_type": "code",
   "execution_count": 54,
   "id": "205a7e22",
   "metadata": {
    "ExecuteTime": {
     "end_time": "2022-06-27T15:03:59.956651Z",
     "start_time": "2022-06-27T15:03:59.951075Z"
    },
    "scrolled": true
   },
   "outputs": [
    {
     "data": {
      "text/plain": [
       "['delroy',\n",
       " 'garrett',\n",
       " 'jr',\n",
       " 'grew',\n",
       " 'become',\n",
       " 'track',\n",
       " 'star',\n",
       " 'competed',\n",
       " 'olympic',\n",
       " 'games',\n",
       " 'tested',\n",
       " 'positive',\n",
       " 'steroids',\n",
       " 'lost',\n",
       " 'three',\n",
       " 'gold',\n",
       " 'medals',\n",
       " 'despair',\n",
       " 'turned',\n",
       " 'religion',\n",
       " 'specifically',\n",
       " 'triune',\n",
       " 'understanding',\n",
       " 'group',\n",
       " 'founder',\n",
       " 'jonathan',\n",
       " 'tremont',\n",
       " 'found',\n",
       " 'one',\n",
       " 'three',\n",
       " 'fragments',\n",
       " 'mysterious',\n",
       " 'object',\n",
       " 'used',\n",
       " 'give',\n",
       " 'garrett',\n",
       " 'powers',\n",
       " '3',\n",
       " 'man',\n",
       " 'garrett',\n",
       " 'assumed',\n",
       " 'powers',\n",
       " 'newfound',\n",
       " 'spiritual',\n",
       " 'enlightenment',\n",
       " 'tremont',\n",
       " 'never',\n",
       " 'disabused',\n",
       " 'notion',\n",
       " 'one',\n",
       " 'many',\n",
       " 'prisoners',\n",
       " 'indian',\n",
       " 'hill',\n",
       " 'transferred',\n",
       " 'another',\n",
       " 'facility',\n",
       " 'upstate',\n",
       " 'orders',\n",
       " 'court',\n",
       " 'however',\n",
       " 'fish',\n",
       " 'mooney',\n",
       " 'hijacks',\n",
       " 'bus',\n",
       " 'drives',\n",
       " 'gotham',\n",
       " 'city',\n",
       " 'bus',\n",
       " 'crashes',\n",
       " 'fired',\n",
       " 'upon',\n",
       " 'butch',\n",
       " 'gilzean',\n",
       " 'gang',\n",
       " 'mobsters',\n",
       " 'flee',\n",
       " 'sight',\n",
       " 'resurrected',\n",
       " 'fish',\n",
       " 'leaves',\n",
       " 'scene',\n",
       " 'elderly',\n",
       " 'hobo',\n",
       " 'lady',\n",
       " 'hears',\n",
       " 'cries',\n",
       " 'prisoners',\n",
       " 'releases',\n",
       " 'horrified',\n",
       " 'monstrous',\n",
       " 'appearance',\n",
       " 'monsters',\n",
       " 'depart',\n",
       " 'prison',\n",
       " 'van',\n",
       " 'make',\n",
       " 'way',\n",
       " 'gotham',\n",
       " 'city']"
      ]
     },
     "execution_count": 54,
     "metadata": {},
     "output_type": "execute_result"
    }
   ],
   "source": [
    "cleaned_corpus[:100]"
   ]
  },
  {
   "cell_type": "code",
   "execution_count": 55,
   "id": "f08cac1a",
   "metadata": {
    "ExecuteTime": {
     "end_time": "2022-06-27T15:03:59.991810Z",
     "start_time": "2022-06-27T15:03:59.959018Z"
    }
   },
   "outputs": [
    {
     "data": {
      "text/plain": [
       "28454"
      ]
     },
     "execution_count": 55,
     "metadata": {},
     "output_type": "execute_result"
    }
   ],
   "source": [
    "len(set(cleaned_corpus))"
   ]
  },
  {
   "cell_type": "code",
   "execution_count": 56,
   "id": "0441adca",
   "metadata": {
    "ExecuteTime": {
     "end_time": "2022-06-27T15:03:59.995371Z",
     "start_time": "2022-06-27T15:03:59.993236Z"
    }
   },
   "outputs": [],
   "source": [
    "\n",
    "\n",
    "\n",
    "  \n",
    "lemmatizer = WordNetLemmatizer()"
   ]
  },
  {
   "cell_type": "code",
   "execution_count": null,
   "id": "d0d204c7",
   "metadata": {
    "ExecuteTime": {
     "end_time": "2022-06-27T14:45:56.442843Z",
     "start_time": "2022-06-27T14:45:56.363800Z"
    }
   },
   "outputs": [],
   "source": []
  },
  {
   "cell_type": "code",
   "execution_count": null,
   "id": "8cb4afa7",
   "metadata": {
    "ExecuteTime": {
     "end_time": "2022-06-27T14:45:56.601997Z",
     "start_time": "2022-06-27T14:45:56.445894Z"
    }
   },
   "outputs": [],
   "source": []
  },
  {
   "cell_type": "code",
   "execution_count": 57,
   "id": "f913830f",
   "metadata": {
    "ExecuteTime": {
     "end_time": "2022-06-27T15:04:01.282621Z",
     "start_time": "2022-06-27T15:03:59.997979Z"
    }
   },
   "outputs": [
    {
     "data": {
      "text/plain": [
       "'car'"
      ]
     },
     "execution_count": 57,
     "metadata": {},
     "output_type": "execute_result"
    }
   ],
   "source": [
    "lemmatizer.lemmatize(\"cars\")"
   ]
  },
  {
   "cell_type": "code",
   "execution_count": 58,
   "id": "78a1ea66",
   "metadata": {
    "ExecuteTime": {
     "end_time": "2022-06-27T15:04:01.286890Z",
     "start_time": "2022-06-27T15:04:01.284303Z"
    }
   },
   "outputs": [],
   "source": [
    "\n",
    " \n",
    "ps = PorterStemmer()"
   ]
  },
  {
   "cell_type": "code",
   "execution_count": 65,
   "id": "62185d7c",
   "metadata": {
    "ExecuteTime": {
     "end_time": "2022-06-27T14:46:01.798672Z",
     "start_time": "2022-06-27T14:45:58.650943Z"
    }
   },
   "outputs": [],
   "source": [
    "lemm_cleanned_corpus = [lemmatizer.lemmatize(i) for i in cleaned_corpus ]"
   ]
  },
  {
   "cell_type": "code",
   "execution_count": 66,
   "id": "4a522776",
   "metadata": {
    "ExecuteTime": {
     "end_time": "2022-06-27T14:46:01.883906Z",
     "start_time": "2022-06-27T14:46:01.813818Z"
    }
   },
   "outputs": [
    {
     "data": {
      "text/plain": [
       "25671"
      ]
     },
     "execution_count": 66,
     "metadata": {},
     "output_type": "execute_result"
    }
   ],
   "source": [
    "len(set(lemm_cleanned_corpus))"
   ]
  },
  {
   "cell_type": "code",
   "execution_count": 59,
   "id": "906a48b9",
   "metadata": {
    "ExecuteTime": {
     "end_time": "2022-06-27T15:04:27.077920Z",
     "start_time": "2022-06-27T15:04:27.065733Z"
    }
   },
   "outputs": [],
   "source": [
    "def process_text(txt, rejoin=True, lemm_or_stemm = \"stem\") : \n",
    "    \"\"\"global text processing function\"\"\"\n",
    "    \n",
    "    # lower and strip\n",
    "    txt = txt.lower().strip()\n",
    "    \n",
    "    # tokenize\n",
    "    tokenizer = RegexpTokenizer(r\"\\w+\")\n",
    "    raw_tokens_list = tokenizer.tokenize(txt)\n",
    "    \n",
    "    # remove stop words\n",
    "    cleaned_tokens_list = [w for w in raw_tokens_list if w not in stop_words]\n",
    "    \n",
    "    # drop unique tokens\n",
    "    non_unique_tokens_list = [w for w in cleaned_tokens_list if w not in list_unique_words]\n",
    "    \n",
    "    # keep only len word > 3\n",
    "    more_than_3 =  [w for w in non_unique_tokens_list if len(w) > 3 ]\n",
    "    \n",
    "    # keep only alpha not num\n",
    "    alpha_num = [w for w in more_than_3 if w.isalpha()]\n",
    "    \n",
    "    # stem or lem\n",
    "    if lemm_or_stemm == \"lem\" : \n",
    "        trans = WordNetLemmatizer()\n",
    "        trans_text = [trans.lemmatize(i) for i in alpha_num ]\n",
    "    else : \n",
    "        trans = PorterStemmer()\n",
    "        trans_text = [trans.stem(i) for i in alpha_num ]\n",
    "    \n",
    "    #  return a list or a string\n",
    "    if rejoin : \n",
    "        return \" \".join(trans_text)\n",
    "    \n",
    "    return trans_text"
   ]
  },
  {
   "cell_type": "code",
   "execution_count": 60,
   "id": "b7400fe6",
   "metadata": {
    "ExecuteTime": {
     "end_time": "2022-06-27T15:05:48.965547Z",
     "start_time": "2022-06-27T15:04:33.742478Z"
    }
   },
   "outputs": [],
   "source": [
    "df[\"cleaned_history\"] = df.history_text.apply(lambda i : process_text(i))"
   ]
  },
  {
   "cell_type": "code",
   "execution_count": 61,
   "id": "28768381",
   "metadata": {
    "ExecuteTime": {
     "end_time": "2022-06-27T15:05:59.105657Z",
     "start_time": "2022-06-27T15:05:59.100455Z"
    }
   },
   "outputs": [
    {
     "data": {
      "text/plain": [
       "0       Delroy Garrett, Jr. grew up to become a track ...\n",
       "1       He was one of the many prisoners of Indian Hil...\n",
       "2        Richard \"Rick\" Jones was orphaned at a young ...\n",
       "3       Aa is one of the more passive members of the P...\n",
       "4       Aaron Cash is the head of security at Arkham A...\n",
       "                              ...                        \n",
       "1244    Zatanna is the daughter of adventurer John Zat...\n",
       "1245     Zero was created by the late Dr. Albert Wily ...\n",
       "1246    Hunter Zolomon is better known as Zoom, a spee...\n",
       "1247     Hunter Zolomon had a troubled relationship wi...\n",
       "1248    Zzzax was the product of an accident that occu...\n",
       "Name: history_text, Length: 1249, dtype: object"
      ]
     },
     "execution_count": 61,
     "metadata": {},
     "output_type": "execute_result"
    }
   ],
   "source": [
    "df.history_text"
   ]
  },
  {
   "cell_type": "code",
   "execution_count": 62,
   "id": "3c8be691",
   "metadata": {
    "ExecuteTime": {
     "end_time": "2022-06-27T15:05:59.656559Z",
     "start_time": "2022-06-27T15:05:59.647055Z"
    }
   },
   "outputs": [
    {
     "data": {
      "text/plain": [
       "0       delroy garrett grew becom track star compet ol...\n",
       "1       mani prison indian hill transfer anoth facil u...\n",
       "2       richard rick jone orphan young expel sever orp...\n",
       "3       passiv member pumic peopl race stoneworld jord...\n",
       "4       aaron cash head secur arkham asylum hook hand ...\n",
       "                              ...                        \n",
       "1244    zatanna daughter adventur john zatara wife sin...\n",
       "1245    zero creat late albert wili sometim earli twen...\n",
       "1246    hunter zolomon better known zoom speedster sup...\n",
       "1247    hunter zolomon troubl relationship parent rare...\n",
       "1248    zzzax product accid occur consolid nuclear pow...\n",
       "Name: cleaned_history, Length: 1249, dtype: object"
      ]
     },
     "execution_count": 62,
     "metadata": {},
     "output_type": "execute_result"
    }
   ],
   "source": [
    "df.cleaned_history"
   ]
  },
  {
   "cell_type": "code",
   "execution_count": 63,
   "id": "f4fd5fab",
   "metadata": {
    "ExecuteTime": {
     "end_time": "2022-06-27T15:06:02.041576Z",
     "start_time": "2022-06-27T15:06:00.565172Z"
    },
    "scrolled": true
   },
   "outputs": [
    {
     "name": "stdout",
     "output_type": "stream",
     "text": [
      "Requirement already satisfied: sklearn in ./env/lib/python3.8/site-packages (0.0)\n",
      "Requirement already satisfied: scikit-learn in ./env/lib/python3.8/site-packages (from sklearn) (1.1.1)\n",
      "Requirement already satisfied: numpy>=1.17.3 in ./env/lib/python3.8/site-packages (from scikit-learn->sklearn) (1.23.0)\n",
      "Requirement already satisfied: joblib>=1.0.0 in ./env/lib/python3.8/site-packages (from scikit-learn->sklearn) (1.1.0)\n",
      "Requirement already satisfied: threadpoolctl>=2.0.0 in ./env/lib/python3.8/site-packages (from scikit-learn->sklearn) (3.1.0)\n",
      "Requirement already satisfied: scipy>=1.3.2 in ./env/lib/python3.8/site-packages (from scikit-learn->sklearn) (1.8.1)\n"
     ]
    }
   ],
   "source": []
  },
  {
   "cell_type": "code",
   "execution_count": 64,
   "id": "0623efe5",
   "metadata": {
    "ExecuteTime": {
     "end_time": "2022-06-27T15:06:23.894358Z",
     "start_time": "2022-06-27T15:06:23.889532Z"
    }
   },
   "outputs": [],
   "source": [
    "from sklearn.feature_extraction.text import TfidfVectorizer"
   ]
  },
  {
   "cell_type": "code",
   "execution_count": 65,
   "id": "07b0ebd6",
   "metadata": {
    "ExecuteTime": {
     "end_time": "2022-06-27T15:06:24.419703Z",
     "start_time": "2022-06-27T15:06:24.416001Z"
    }
   },
   "outputs": [],
   "source": [
    "tf = TfidfVectorizer()"
   ]
  },
  {
   "cell_type": "code",
   "execution_count": 69,
   "id": "7cbfa215",
   "metadata": {
    "ExecuteTime": {
     "end_time": "2022-06-27T15:06:47.886122Z",
     "start_time": "2022-06-27T15:06:47.624428Z"
    }
   },
   "outputs": [],
   "source": [
    "res = tf.fit_transform(df.cleaned_history)"
   ]
  },
  {
   "cell_type": "code",
   "execution_count": 70,
   "id": "b20d81d7",
   "metadata": {
    "ExecuteTime": {
     "end_time": "2022-06-27T15:06:48.112762Z",
     "start_time": "2022-06-27T15:06:48.107317Z"
    }
   },
   "outputs": [
    {
     "data": {
      "text/plain": [
       "<1249x12125 sparse matrix of type '<class 'numpy.float64'>'\n",
       "\twith 226150 stored elements in Compressed Sparse Row format>"
      ]
     },
     "execution_count": 70,
     "metadata": {},
     "output_type": "execute_result"
    }
   ],
   "source": [
    "res"
   ]
  },
  {
   "cell_type": "code",
   "execution_count": 71,
   "id": "b504243f",
   "metadata": {
    "ExecuteTime": {
     "end_time": "2022-06-27T15:06:48.766672Z",
     "start_time": "2022-06-27T15:06:48.703034Z"
    }
   },
   "outputs": [],
   "source": [
    "res = res.toarray()"
   ]
  },
  {
   "cell_type": "code",
   "execution_count": 72,
   "id": "b1f25c1a",
   "metadata": {
    "ExecuteTime": {
     "end_time": "2022-06-27T15:07:29.680583Z",
     "start_time": "2022-06-27T15:07:29.657971Z"
    }
   },
   "outputs": [
    {
     "data": {
      "text/plain": [
       "array(['aakon', 'aang', 'aaron', ..., 'ţepeş', 'الغول', 'نيسا'],\n",
       "      dtype=object)"
      ]
     },
     "execution_count": 72,
     "metadata": {},
     "output_type": "execute_result"
    }
   ],
   "source": [
    "tf.get_feature_names_out()"
   ]
  },
  {
   "cell_type": "code",
   "execution_count": 73,
   "id": "6ecf472f",
   "metadata": {
    "ExecuteTime": {
     "end_time": "2022-06-27T15:07:34.894024Z",
     "start_time": "2022-06-27T15:07:34.868197Z"
    }
   },
   "outputs": [
    {
     "data": {
      "text/plain": [
       "12125"
      ]
     },
     "execution_count": 73,
     "metadata": {},
     "output_type": "execute_result"
    }
   ],
   "source": [
    "len(tf.get_feature_names_out())"
   ]
  },
  {
   "cell_type": "code",
   "execution_count": 75,
   "id": "a6bfb3f6",
   "metadata": {
    "ExecuteTime": {
     "end_time": "2022-06-27T15:07:43.551989Z",
     "start_time": "2022-06-27T15:07:43.546571Z"
    }
   },
   "outputs": [
    {
     "data": {
      "text/plain": [
       "array([[0., 0., 0., ..., 0., 0., 0.],\n",
       "       [0., 0., 0., ..., 0., 0., 0.],\n",
       "       [0., 0., 0., ..., 0., 0., 0.],\n",
       "       ...,\n",
       "       [0., 0., 0., ..., 0., 0., 0.],\n",
       "       [0., 0., 0., ..., 0., 0., 0.],\n",
       "       [0., 0., 0., ..., 0., 0., 0.]])"
      ]
     },
     "execution_count": 75,
     "metadata": {},
     "output_type": "execute_result"
    }
   ],
   "source": [
    "res"
   ]
  },
  {
   "cell_type": "code",
   "execution_count": 95,
   "id": "b0b65ece",
   "metadata": {
    "ExecuteTime": {
     "end_time": "2022-06-27T15:12:39.605031Z",
     "start_time": "2022-06-27T15:12:39.600408Z"
    }
   },
   "outputs": [],
   "source": [
    "from sklearn.decomposition import PCA\n",
    "\n",
    "from sklearn.ensemble import RandomForestClassifier\n",
    "\n",
    "from sklearn.model_selection import GridSearchCV"
   ]
  },
  {
   "cell_type": "code",
   "execution_count": 96,
   "id": "fbf0238c",
   "metadata": {
    "ExecuteTime": {
     "end_time": "2022-06-27T15:12:43.670170Z",
     "start_time": "2022-06-27T15:12:39.745868Z"
    }
   },
   "outputs": [],
   "source": [
    "pca = PCA()\n",
    "\n",
    "X_pca = pca.fit_transform(res)"
   ]
  },
  {
   "cell_type": "code",
   "execution_count": 97,
   "id": "93667847",
   "metadata": {
    "ExecuteTime": {
     "end_time": "2022-06-27T15:12:43.677143Z",
     "start_time": "2022-06-27T15:12:43.672791Z"
    }
   },
   "outputs": [
    {
     "data": {
      "text/plain": [
       "array([7.62065727e-03, 7.10970005e-03, 6.04971528e-03, ...,\n",
       "       5.61149257e-35, 1.58992071e-36, 1.52849093e-37])"
      ]
     },
     "execution_count": 97,
     "metadata": {},
     "output_type": "execute_result"
    }
   ],
   "source": [
    "pca.explained_variance_ratio_"
   ]
  },
  {
   "cell_type": "code",
   "execution_count": 98,
   "id": "9eefcc51",
   "metadata": {
    "ExecuteTime": {
     "end_time": "2022-06-27T15:12:43.698821Z",
     "start_time": "2022-06-27T15:12:43.679474Z"
    }
   },
   "outputs": [],
   "source": [
    "cumsum = np.cumsum(pca.explained_variance_ratio_)"
   ]
  },
  {
   "cell_type": "code",
   "execution_count": 99,
   "id": "4823eb1c",
   "metadata": {
    "ExecuteTime": {
     "end_time": "2022-06-27T15:12:43.708860Z",
     "start_time": "2022-06-27T15:12:43.702394Z"
    }
   },
   "outputs": [
    {
     "data": {
      "text/plain": [
       "1249"
      ]
     },
     "execution_count": 99,
     "metadata": {},
     "output_type": "execute_result"
    }
   ],
   "source": [
    "len(cumsum)"
   ]
  },
  {
   "cell_type": "code",
   "execution_count": 100,
   "id": "a1c1e238",
   "metadata": {
    "ExecuteTime": {
     "end_time": "2022-06-27T15:12:43.840003Z",
     "start_time": "2022-06-27T15:12:43.711110Z"
    }
   },
   "outputs": [
    {
     "data": {
      "text/plain": [
       "[<matplotlib.lines.Line2D at 0x7f9b64bd4250>]"
      ]
     },
     "execution_count": 100,
     "metadata": {},
     "output_type": "execute_result"
    },
    {
     "data": {
      "image/png": "[encoded data removed]",
      "text/plain": [
       "<Figure size 640x480 with 1 Axes>"
      ]
     },
     "metadata": {},
     "output_type": "display_data"
    }
   ],
   "source": [
    "plt.plot(range(1, 1250), cumsum)"
   ]
  },
  {
   "cell_type": "code",
   "execution_count": 101,
   "id": "61448c1a",
   "metadata": {
    "ExecuteTime": {
     "end_time": "2022-06-27T15:12:43.844711Z",
     "start_time": "2022-06-27T15:12:43.841822Z"
    }
   },
   "outputs": [],
   "source": [
    "X_pca = X_pca[:, :800]"
   ]
  },
  {
   "cell_type": "code",
   "execution_count": 105,
   "id": "2899e234",
   "metadata": {
    "ExecuteTime": {
     "end_time": "2022-06-27T15:14:42.517572Z",
     "start_time": "2022-06-27T15:14:42.511903Z"
    }
   },
   "outputs": [
    {
     "data": {
      "text/plain": [
       "(1249, 800)"
      ]
     },
     "execution_count": 105,
     "metadata": {},
     "output_type": "execute_result"
    }
   ],
   "source": [
    "X_pca.shape"
   ]
  },
  {
   "cell_type": "code",
   "execution_count": 106,
   "id": "297b7e92",
   "metadata": {
    "ExecuteTime": {
     "end_time": "2022-06-27T15:14:43.008614Z",
     "start_time": "2022-06-27T15:14:43.003993Z"
    }
   },
   "outputs": [],
   "source": [
    "X_train = pd.DataFrame(X_pca)\n",
    "y_train = df._score"
   ]
  },
  {
   "cell_type": "code",
   "execution_count": 107,
   "id": "bb62a34f",
   "metadata": {
    "ExecuteTime": {
     "end_time": "2022-06-27T15:14:43.392657Z",
     "start_time": "2022-06-27T15:14:43.387843Z"
    }
   },
   "outputs": [],
   "source": [
    "estimator = RandomForestClassifier()\n",
    "\n",
    "param_grid = {\n",
    "}\n",
    "\n",
    "cv = 10"
   ]
  },
  {
   "cell_type": "code",
   "execution_count": 108,
   "id": "5314420c",
   "metadata": {
    "ExecuteTime": {
     "end_time": "2022-06-27T15:15:07.458928Z",
     "start_time": "2022-06-27T15:14:43.727913Z"
    }
   },
   "outputs": [
    {
     "name": "stderr",
     "output_type": "stream",
     "text": [
      "/home/alex/Desktop/ocr-donnees-textuelles/env/lib/python3.8/site-packages/sklearn/model_selection/_split.py:680: UserWarning: The least populated class in y has only 1 members, which is less than n_splits=10.\n",
      "  warnings.warn(\n"
     ]
    },
    {
     "data": {
      "text/html": [
       "<style>#sk-container-id-1 {color: black;background-color: white;}#sk-container-id-1 pre{padding: 0;}#sk-container-id-1 div.sk-toggleable {background-color: white;}#sk-container-id-1 label.sk-toggleable__label {cursor: pointer;display: block;width: 100%;margin-bottom: 0;padding: 0.3em;box-sizing: border-box;text-align: center;}#sk-container-id-1 label.sk-toggleable__label-arrow:before {content: \"▸\";float: left;margin-right: 0.25em;color: #696969;}#sk-container-id-1 label.sk-toggleable__label-arrow:hover:before {color: black;}#sk-container-id-1 div.sk-estimator:hover label.sk-toggleable__label-arrow:before {color: black;}#sk-container-id-1 div.sk-toggleable__content {max-height: 0;max-width: 0;overflow: hidden;text-align: left;background-color: #f0f8ff;}#sk-container-id-1 div.sk-toggleable__content pre {margin: 0.2em;color: black;border-radius: 0.25em;background-color: #f0f8ff;}#sk-container-id-1 input.sk-toggleable__control:checked~div.sk-toggleable__content {max-height: 200px;max-width: 100%;overflow: auto;}#sk-container-id-1 input.sk-toggleable__control:checked~label.sk-toggleable__label-arrow:before {content: \"▾\";}#sk-container-id-1 div.sk-estimator input.sk-toggleable__control:checked~label.sk-toggleable__label {background-color: #d4ebff;}#sk-container-id-1 div.sk-label input.sk-toggleable__control:checked~label.sk-toggleable__label {background-color: #d4ebff;}#sk-container-id-1 input.sk-hidden--visually {border: 0;clip: rect(1px 1px 1px 1px);clip: rect(1px, 1px, 1px, 1px);height: 1px;margin: -1px;overflow: hidden;padding: 0;position: absolute;width: 1px;}#sk-container-id-1 div.sk-estimator {font-family: monospace;background-color: #f0f8ff;border: 1px dotted black;border-radius: 0.25em;box-sizing: border-box;margin-bottom: 0.5em;}#sk-container-id-1 div.sk-estimator:hover {background-color: #d4ebff;}#sk-container-id-1 div.sk-parallel-item::after {content: \"\";width: 100%;border-bottom: 1px solid gray;flex-grow: 1;}#sk-container-id-1 div.sk-label:hover label.sk-toggleable__label {background-color: #d4ebff;}#sk-container-id-1 div.sk-serial::before {content: \"\";position: absolute;border-left: 1px solid gray;box-sizing: border-box;top: 0;bottom: 0;left: 50%;z-index: 0;}#sk-container-id-1 div.sk-serial {display: flex;flex-direction: column;align-items: center;background-color: white;padding-right: 0.2em;padding-left: 0.2em;position: relative;}#sk-container-id-1 div.sk-item {position: relative;z-index: 1;}#sk-container-id-1 div.sk-parallel {display: flex;align-items: stretch;justify-content: center;background-color: white;position: relative;}#sk-container-id-1 div.sk-item::before, #sk-container-id-1 div.sk-parallel-item::before {content: \"\";position: absolute;border-left: 1px solid gray;box-sizing: border-box;top: 0;bottom: 0;left: 50%;z-index: -1;}#sk-container-id-1 div.sk-parallel-item {display: flex;flex-direction: column;z-index: 1;position: relative;background-color: white;}#sk-container-id-1 div.sk-parallel-item:first-child::after {align-self: flex-end;width: 50%;}#sk-container-id-1 div.sk-parallel-item:last-child::after {align-self: flex-start;width: 50%;}#sk-container-id-1 div.sk-parallel-item:only-child::after {width: 0;}#sk-container-id-1 div.sk-dashed-wrapped {border: 1px dashed gray;margin: 0 0.4em 0.5em 0.4em;box-sizing: border-box;padding-bottom: 0.4em;background-color: white;}#sk-container-id-1 div.sk-label label {font-family: monospace;font-weight: bold;display: inline-block;line-height: 1.2em;}#sk-container-id-1 div.sk-label-container {text-align: center;}#sk-container-id-1 div.sk-container {/* jupyter's `normalize.less` sets `[hidden] { display: none; }` but bootstrap.min.css set `[hidden] { display: none !important; }` so we also need the `!important` here to be able to override the default hidden behavior on the sphinx rendered scikit-learn.org. See: https://github.com/scikit-learn/scikit-learn/issues/21755 */display: inline-block !important;position: relative;}#sk-container-id-1 div.sk-text-repr-fallback {display: none;}</style><div id=\"sk-container-id-1\" class=\"sk-top-container\"><div class=\"sk-text-repr-fallback\"><pre>GridSearchCV(cv=10, estimator=RandomForestClassifier(), n_jobs=-1,\n",
       "             param_grid={})</pre><b>In a Jupyter environment, please rerun this cell to show the HTML representation or trust the notebook. <br />On GitHub, the HTML representation is unable to render, please try loading this page with nbviewer.org.</b></div><div class=\"sk-container\" hidden><div class=\"sk-item sk-dashed-wrapped\"><div class=\"sk-label-container\"><div class=\"sk-label sk-toggleable\"><input class=\"sk-toggleable__control sk-hidden--visually\" id=\"sk-estimator-id-1\" type=\"checkbox\" ><label for=\"sk-estimator-id-1\" class=\"sk-toggleable__label sk-toggleable__label-arrow\">GridSearchCV</label><div class=\"sk-toggleable__content\"><pre>GridSearchCV(cv=10, estimator=RandomForestClassifier(), n_jobs=-1,\n",
       "             param_grid={})</pre></div></div></div><div class=\"sk-parallel\"><div class=\"sk-parallel-item\"><div class=\"sk-item\"><div class=\"sk-label-container\"><div class=\"sk-label sk-toggleable\"><input class=\"sk-toggleable__control sk-hidden--visually\" id=\"sk-estimator-id-2\" type=\"checkbox\" ><label for=\"sk-estimator-id-2\" class=\"sk-toggleable__label sk-toggleable__label-arrow\">estimator: RandomForestClassifier</label><div class=\"sk-toggleable__content\"><pre>RandomForestClassifier()</pre></div></div></div><div class=\"sk-serial\"><div class=\"sk-item\"><div class=\"sk-estimator sk-toggleable\"><input class=\"sk-toggleable__control sk-hidden--visually\" id=\"sk-estimator-id-3\" type=\"checkbox\" ><label for=\"sk-estimator-id-3\" class=\"sk-toggleable__label sk-toggleable__label-arrow\">RandomForestClassifier</label><div class=\"sk-toggleable__content\"><pre>RandomForestClassifier()</pre></div></div></div></div></div></div></div></div></div></div>"
      ],
      "text/plain": [
       "GridSearchCV(cv=10, estimator=RandomForestClassifier(), n_jobs=-1,\n",
       "             param_grid={})"
      ]
     },
     "execution_count": 108,
     "metadata": {},
     "output_type": "execute_result"
    }
   ],
   "source": [
    "grid = GridSearchCV(estimator, param_grid, cv=cv, n_jobs=-1)\n",
    "grid.fit(X_train, y_train)\n",
    "\n"
   ]
  },
  {
   "cell_type": "code",
   "execution_count": 109,
   "id": "6ce64f15",
   "metadata": {
    "ExecuteTime": {
     "end_time": "2022-06-27T15:15:37.015085Z",
     "start_time": "2022-06-27T15:15:37.001937Z"
    }
   },
   "outputs": [],
   "source": [
    "res = pd.DataFrame(grid.cv_results_)\n",
    "cols = [i for i in res.columns if \"split\" not in i ]\n",
    "res = res[cols]\n"
   ]
  },
  {
   "cell_type": "code",
   "execution_count": 110,
   "id": "94f279b4",
   "metadata": {
    "ExecuteTime": {
     "end_time": "2022-06-27T15:15:39.213359Z",
     "start_time": "2022-06-27T15:15:39.194034Z"
    }
   },
   "outputs": [
    {
     "data": {
      "text/html": [
       "<div>\n",
       "<style scoped>\n",
       "    .dataframe tbody tr th:only-of-type {\n",
       "        vertical-align: middle;\n",
       "    }\n",
       "\n",
       "    .dataframe tbody tr th {\n",
       "        vertical-align: top;\n",
       "    }\n",
       "\n",
       "    .dataframe thead th {\n",
       "        text-align: right;\n",
       "    }\n",
       "</style>\n",
       "<table border=\"1\" class=\"dataframe\">\n",
       "  <thead>\n",
       "    <tr style=\"text-align: right;\">\n",
       "      <th></th>\n",
       "      <th>mean_fit_time</th>\n",
       "      <th>std_fit_time</th>\n",
       "      <th>mean_score_time</th>\n",
       "      <th>std_score_time</th>\n",
       "      <th>params</th>\n",
       "      <th>mean_test_score</th>\n",
       "      <th>std_test_score</th>\n",
       "      <th>rank_test_score</th>\n",
       "    </tr>\n",
       "  </thead>\n",
       "  <tbody>\n",
       "    <tr>\n",
       "      <th>0</th>\n",
       "      <td>8.490941</td>\n",
       "      <td>1.058629</td>\n",
       "      <td>0.024754</td>\n",
       "      <td>0.004654</td>\n",
       "      <td>{}</td>\n",
       "      <td>0.128877</td>\n",
       "      <td>0.018951</td>\n",
       "      <td>1</td>\n",
       "    </tr>\n",
       "  </tbody>\n",
       "</table>\n",
       "</div>"
      ],
      "text/plain": [
       "   mean_fit_time  std_fit_time  ...  std_test_score  rank_test_score\n",
       "0       8.490941      1.058629  ...        0.018951                1\n",
       "\n",
       "[1 rows x 8 columns]"
      ]
     },
     "execution_count": 110,
     "metadata": {},
     "output_type": "execute_result"
    }
   ],
   "source": [
    "res"
   ]
  },
  {
   "cell_type": "code",
   "execution_count": 114,
   "id": "51c92291",
   "metadata": {
    "ExecuteTime": {
     "end_time": "2022-06-27T15:18:38.525492Z",
     "start_time": "2022-06-27T15:18:38.522769Z"
    }
   },
   "outputs": [],
   "source": [
    "from sklearn.decomposition import LatentDirichletAllocation as LDA\n",
    "from sklearn.decomposition import TruncatedSVD "
   ]
  },
  {
   "cell_type": "code",
   "execution_count": 115,
   "id": "f40086c6",
   "metadata": {
    "ExecuteTime": {
     "end_time": "2022-06-27T15:18:44.347976Z",
     "start_time": "2022-06-27T15:18:44.345598Z"
    }
   },
   "outputs": [],
   "source": [
    "tsd = TruncatedSVD()"
   ]
  },
  {
   "cell_type": "code",
   "execution_count": 116,
   "id": "47c07535",
   "metadata": {
    "ExecuteTime": {
     "end_time": "2022-06-27T15:18:47.148473Z",
     "start_time": "2022-06-27T15:18:47.063745Z"
    }
   },
   "outputs": [
    {
     "ename": "TypeError",
     "evalue": "float() argument must be a string or a number, not 'dict'",
     "output_type": "error",
     "traceback": [
      "\u001b[0;31m---------------------------------------------------------------------------\u001b[0m",
      "\u001b[0;31mTypeError\u001b[0m                                 Traceback (most recent call last)",
      "Input \u001b[0;32mIn [116]\u001b[0m, in \u001b[0;36m<cell line: 1>\u001b[0;34m()\u001b[0m\n\u001b[0;32m----> 1\u001b[0m X_pca \u001b[38;5;241m=\u001b[39m \u001b[43mtsd\u001b[49m\u001b[38;5;241;43m.\u001b[39;49m\u001b[43mfit_transform\u001b[49m\u001b[43m(\u001b[49m\u001b[43mres\u001b[49m\u001b[43m)\u001b[49m\n",
      "File \u001b[0;32m~/Desktop/ocr-donnees-textuelles/env/lib/python3.8/site-packages/sklearn/decomposition/_truncated_svd.py:218\u001b[0m, in \u001b[0;36mTruncatedSVD.fit_transform\u001b[0;34m(self, X, y)\u001b[0m\n\u001b[1;32m    196\u001b[0m \u001b[38;5;124;03m\"\"\"Fit model to X and perform dimensionality reduction on X.\u001b[39;00m\n\u001b[1;32m    197\u001b[0m \n\u001b[1;32m    198\u001b[0m \u001b[38;5;124;03mParameters\u001b[39;00m\n\u001b[0;32m   (...)\u001b[0m\n\u001b[1;32m    209\u001b[0m \u001b[38;5;124;03m    Reduced version of X. This will always be a dense array.\u001b[39;00m\n\u001b[1;32m    210\u001b[0m \u001b[38;5;124;03m\"\"\"\u001b[39;00m\n\u001b[1;32m    211\u001b[0m check_scalar(\n\u001b[1;32m    212\u001b[0m     \u001b[38;5;28mself\u001b[39m\u001b[38;5;241m.\u001b[39mn_oversamples,\n\u001b[1;32m    213\u001b[0m     \u001b[38;5;124m\"\u001b[39m\u001b[38;5;124mn_oversamples\u001b[39m\u001b[38;5;124m\"\u001b[39m,\n\u001b[1;32m    214\u001b[0m     min_val\u001b[38;5;241m=\u001b[39m\u001b[38;5;241m1\u001b[39m,\n\u001b[1;32m    215\u001b[0m     target_type\u001b[38;5;241m=\u001b[39mIntegral,\n\u001b[1;32m    216\u001b[0m )\n\u001b[0;32m--> 218\u001b[0m X \u001b[38;5;241m=\u001b[39m \u001b[38;5;28;43mself\u001b[39;49m\u001b[38;5;241;43m.\u001b[39;49m\u001b[43m_validate_data\u001b[49m\u001b[43m(\u001b[49m\u001b[43mX\u001b[49m\u001b[43m,\u001b[49m\u001b[43m \u001b[49m\u001b[43maccept_sparse\u001b[49m\u001b[38;5;241;43m=\u001b[39;49m\u001b[43m[\u001b[49m\u001b[38;5;124;43m\"\u001b[39;49m\u001b[38;5;124;43mcsr\u001b[39;49m\u001b[38;5;124;43m\"\u001b[39;49m\u001b[43m,\u001b[49m\u001b[43m \u001b[49m\u001b[38;5;124;43m\"\u001b[39;49m\u001b[38;5;124;43mcsc\u001b[39;49m\u001b[38;5;124;43m\"\u001b[39;49m\u001b[43m]\u001b[49m\u001b[43m,\u001b[49m\u001b[43m \u001b[49m\u001b[43mensure_min_features\u001b[49m\u001b[38;5;241;43m=\u001b[39;49m\u001b[38;5;241;43m2\u001b[39;49m\u001b[43m)\u001b[49m\n\u001b[1;32m    219\u001b[0m random_state \u001b[38;5;241m=\u001b[39m check_random_state(\u001b[38;5;28mself\u001b[39m\u001b[38;5;241m.\u001b[39mrandom_state)\n\u001b[1;32m    221\u001b[0m \u001b[38;5;28;01mif\u001b[39;00m \u001b[38;5;28mself\u001b[39m\u001b[38;5;241m.\u001b[39malgorithm \u001b[38;5;241m==\u001b[39m \u001b[38;5;124m\"\u001b[39m\u001b[38;5;124marpack\u001b[39m\u001b[38;5;124m\"\u001b[39m:\n",
      "File \u001b[0;32m~/Desktop/ocr-donnees-textuelles/env/lib/python3.8/site-packages/sklearn/base.py:577\u001b[0m, in \u001b[0;36mBaseEstimator._validate_data\u001b[0;34m(self, X, y, reset, validate_separately, **check_params)\u001b[0m\n\u001b[1;32m    575\u001b[0m     \u001b[38;5;28;01mraise\u001b[39;00m \u001b[38;5;167;01mValueError\u001b[39;00m(\u001b[38;5;124m\"\u001b[39m\u001b[38;5;124mValidation should be done on X, y or both.\u001b[39m\u001b[38;5;124m\"\u001b[39m)\n\u001b[1;32m    576\u001b[0m \u001b[38;5;28;01melif\u001b[39;00m \u001b[38;5;129;01mnot\u001b[39;00m no_val_X \u001b[38;5;129;01mand\u001b[39;00m no_val_y:\n\u001b[0;32m--> 577\u001b[0m     X \u001b[38;5;241m=\u001b[39m \u001b[43mcheck_array\u001b[49m\u001b[43m(\u001b[49m\u001b[43mX\u001b[49m\u001b[43m,\u001b[49m\u001b[43m \u001b[49m\u001b[43minput_name\u001b[49m\u001b[38;5;241;43m=\u001b[39;49m\u001b[38;5;124;43m\"\u001b[39;49m\u001b[38;5;124;43mX\u001b[39;49m\u001b[38;5;124;43m\"\u001b[39;49m\u001b[43m,\u001b[49m\u001b[43m \u001b[49m\u001b[38;5;241;43m*\u001b[39;49m\u001b[38;5;241;43m*\u001b[39;49m\u001b[43mcheck_params\u001b[49m\u001b[43m)\u001b[49m\n\u001b[1;32m    578\u001b[0m     out \u001b[38;5;241m=\u001b[39m X\n\u001b[1;32m    579\u001b[0m \u001b[38;5;28;01melif\u001b[39;00m no_val_X \u001b[38;5;129;01mand\u001b[39;00m \u001b[38;5;129;01mnot\u001b[39;00m no_val_y:\n",
      "File \u001b[0;32m~/Desktop/ocr-donnees-textuelles/env/lib/python3.8/site-packages/sklearn/utils/validation.py:856\u001b[0m, in \u001b[0;36mcheck_array\u001b[0;34m(array, accept_sparse, accept_large_sparse, dtype, order, copy, force_all_finite, ensure_2d, allow_nd, ensure_min_samples, ensure_min_features, estimator, input_name)\u001b[0m\n\u001b[1;32m    854\u001b[0m         array \u001b[38;5;241m=\u001b[39m array\u001b[38;5;241m.\u001b[39mastype(dtype, casting\u001b[38;5;241m=\u001b[39m\u001b[38;5;124m\"\u001b[39m\u001b[38;5;124munsafe\u001b[39m\u001b[38;5;124m\"\u001b[39m, copy\u001b[38;5;241m=\u001b[39m\u001b[38;5;28;01mFalse\u001b[39;00m)\n\u001b[1;32m    855\u001b[0m     \u001b[38;5;28;01melse\u001b[39;00m:\n\u001b[0;32m--> 856\u001b[0m         array \u001b[38;5;241m=\u001b[39m \u001b[43mnp\u001b[49m\u001b[38;5;241;43m.\u001b[39;49m\u001b[43masarray\u001b[49m\u001b[43m(\u001b[49m\u001b[43marray\u001b[49m\u001b[43m,\u001b[49m\u001b[43m \u001b[49m\u001b[43morder\u001b[49m\u001b[38;5;241;43m=\u001b[39;49m\u001b[43morder\u001b[49m\u001b[43m,\u001b[49m\u001b[43m \u001b[49m\u001b[43mdtype\u001b[49m\u001b[38;5;241;43m=\u001b[39;49m\u001b[43mdtype\u001b[49m\u001b[43m)\u001b[49m\n\u001b[1;32m    857\u001b[0m \u001b[38;5;28;01mexcept\u001b[39;00m ComplexWarning \u001b[38;5;28;01mas\u001b[39;00m complex_warning:\n\u001b[1;32m    858\u001b[0m     \u001b[38;5;28;01mraise\u001b[39;00m \u001b[38;5;167;01mValueError\u001b[39;00m(\n\u001b[1;32m    859\u001b[0m         \u001b[38;5;124m\"\u001b[39m\u001b[38;5;124mComplex data not supported\u001b[39m\u001b[38;5;130;01m\\n\u001b[39;00m\u001b[38;5;132;01m{}\u001b[39;00m\u001b[38;5;130;01m\\n\u001b[39;00m\u001b[38;5;124m\"\u001b[39m\u001b[38;5;241m.\u001b[39mformat(array)\n\u001b[1;32m    860\u001b[0m     ) \u001b[38;5;28;01mfrom\u001b[39;00m \u001b[38;5;21;01mcomplex_warning\u001b[39;00m\n",
      "File \u001b[0;32m~/Desktop/ocr-donnees-textuelles/env/lib/python3.8/site-packages/pandas/core/generic.py:2064\u001b[0m, in \u001b[0;36mNDFrame.__array__\u001b[0;34m(self, dtype)\u001b[0m\n\u001b[1;32m   2063\u001b[0m \u001b[38;5;28;01mdef\u001b[39;00m \u001b[38;5;21m__array__\u001b[39m(\u001b[38;5;28mself\u001b[39m, dtype: npt\u001b[38;5;241m.\u001b[39mDTypeLike \u001b[38;5;241m|\u001b[39m \u001b[38;5;28;01mNone\u001b[39;00m \u001b[38;5;241m=\u001b[39m \u001b[38;5;28;01mNone\u001b[39;00m) \u001b[38;5;241m-\u001b[39m\u001b[38;5;241m>\u001b[39m np\u001b[38;5;241m.\u001b[39mndarray:\n\u001b[0;32m-> 2064\u001b[0m     \u001b[38;5;28;01mreturn\u001b[39;00m \u001b[43mnp\u001b[49m\u001b[38;5;241;43m.\u001b[39;49m\u001b[43masarray\u001b[49m\u001b[43m(\u001b[49m\u001b[38;5;28;43mself\u001b[39;49m\u001b[38;5;241;43m.\u001b[39;49m\u001b[43m_values\u001b[49m\u001b[43m,\u001b[49m\u001b[43m \u001b[49m\u001b[43mdtype\u001b[49m\u001b[38;5;241;43m=\u001b[39;49m\u001b[43mdtype\u001b[49m\u001b[43m)\u001b[49m\n",
      "\u001b[0;31mTypeError\u001b[0m: float() argument must be a string or a number, not 'dict'"
     ]
    }
   ],
   "source": [
    "X_pca = tsd.fit_transform(res)"
   ]
  },
  {
   "cell_type": "code",
   "execution_count": null,
   "id": "6a922eb7",
   "metadata": {},
   "outputs": [],
   "source": []
  }
 ],
 "metadata": {
  "hide_input": false,
  "kernelspec": {
   "display_name": "Python 3",
   "language": "python",
   "name": "python3"
  },
  "language_info": {
   "codemirror_mode": {
    "name": "ipython",
    "version": 3
   },
   "file_extension": ".py",
   "mimetype": "text/x-python",
   "name": "python",
   "nbconvert_exporter": "python",
   "pygments_lexer": "ipython3",
   "version": "3.8.10"
  }
 },
 "nbformat": 4,
 "nbformat_minor": 5
}
