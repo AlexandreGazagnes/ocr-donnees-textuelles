{
 "cells": [
  {
   "cell_type": "markdown",
   "id": "90d846cb",
   "metadata": {},
   "source": [
    "# 1. Preliminary"
   ]
  },
  {
   "cell_type": "markdown",
   "id": "03838406",
   "metadata": {},
   "source": [
    "## 1.1 Context"
   ]
  },
  {
   "cell_type": "code",
   "execution_count": null,
   "id": "37885c7f",
   "metadata": {},
   "outputs": [],
   "source": []
  },
  {
   "cell_type": "markdown",
   "id": "97396f16",
   "metadata": {},
   "source": [
    "## 1.2 Imports"
   ]
  },
  {
   "cell_type": "code",
   "execution_count": 110,
   "id": "d56dbd5f",
   "metadata": {
    "ExecuteTime": {
     "end_time": "2022-06-27T16:17:15.052651Z",
     "start_time": "2022-06-27T16:17:13.452137Z"
    }
   },
   "outputs": [
    {
     "name": "stdout",
     "output_type": "stream",
     "text": [
      "INFO: Pandarallel will run on 4 workers.\n",
      "INFO: Pandarallel will use Memory file system to transfer data between the main process and workers.\n"
     ]
    },
    {
     "name": "stderr",
     "output_type": "stream",
     "text": [
      "[nltk_data] Downloading package stopwords to /home/alex/nltk_data...\n",
      "[nltk_data]   Package stopwords is already up-to-date!\n"
     ]
    },
    {
     "name": "stdout",
     "output_type": "stream",
     "text": [
      "Requirement already satisfied: sklearn in ./env/lib/python3.8/site-packages (0.0)\r\n",
      "Requirement already satisfied: scikit-learn in ./env/lib/python3.8/site-packages (from sklearn) (1.1.1)\r\n",
      "Requirement already satisfied: threadpoolctl>=2.0.0 in ./env/lib/python3.8/site-packages (from scikit-learn->sklearn) (3.1.0)\r\n",
      "Requirement already satisfied: scipy>=1.3.2 in ./env/lib/python3.8/site-packages (from scikit-learn->sklearn) (1.8.1)\r\n",
      "Requirement already satisfied: joblib>=1.0.0 in ./env/lib/python3.8/site-packages (from scikit-learn->sklearn) (1.1.0)\r\n",
      "Requirement already satisfied: numpy>=1.17.3 in ./env/lib/python3.8/site-packages (from scikit-learn->sklearn) (1.23.0)\r\n"
     ]
    }
   ],
   "source": [
    "import os, sys, time\n",
    "\n",
    "import nltk\n",
    "from nltk.stem import WordNetLemmatizer\n",
    "from nltk.stem import PorterStemmer\n",
    "from nltk.tokenize import word_tokenize\n",
    "\n",
    "from nltk.tokenize import word_tokenize, wordpunct_tokenize\n",
    "\n",
    "\n",
    "from nltk.corpus import words\n",
    "\n",
    "\n",
    "from sklearn.feature_extraction.text import TfidfVectorizer\n",
    "\n",
    "from sklearn.decomposition import LatentDirichletAllocation as LDA\n",
    "from sklearn.decomposition import TruncatedSVD \n",
    "\n",
    "import spacy\n",
    "\n",
    "import pandas as pd\n",
    "import numpy as np\n",
    "\n",
    "\n",
    "from nltk.corpus import stopwords\n",
    "\n",
    "\n",
    "from sklearn.decomposition import PCA\n",
    "\n",
    "from sklearn.ensemble import RandomForestClassifier\n",
    "\n",
    "from sklearn.model_selection import GridSearchCV\n",
    "\n",
    "\n",
    "\n",
    "from nltk.tokenize import RegexpTokenizer\n",
    "\n",
    "\n",
    "import seaborn as sns\n",
    "import matplotlib.pyplot as plt\n",
    "import plotly as px\n",
    "\n",
    "\n",
    "from pandarallel import pandarallel\n",
    "\n",
    "pandarallel.initialize()\n",
    "\n",
    "!pip install sklearn"
   ]
  },
  {
   "cell_type": "code",
   "execution_count": 111,
   "id": "f8f872b9",
   "metadata": {
    "ExecuteTime": {
     "end_time": "2022-06-27T16:17:17.111694Z",
     "start_time": "2022-06-27T16:17:17.106196Z"
    }
   },
   "outputs": [
    {
     "name": "stderr",
     "output_type": "stream",
     "text": [
      "[nltk_data] Downloading package omw-1.4 to /home/alex/nltk_data...\n",
      "[nltk_data]   Package omw-1.4 is already up-to-date!\n",
      "[nltk_data] Downloading package wordnet to /home/alex/nltk_data...\n",
      "[nltk_data]   Package wordnet is already up-to-date!\n"
     ]
    },
    {
     "data": {
      "text/plain": [
       "True"
      ]
     },
     "execution_count": 111,
     "metadata": {},
     "output_type": "execute_result"
    }
   ],
   "source": [
    "nltk.download('omw-1.4')\n",
    "nltk.download('wordnet')\n",
    "\n",
    "nltk.download('stopwords')\n",
    "nltk.download('words')"
   ]
  },
  {
   "cell_type": "markdown",
   "id": "1880a917",
   "metadata": {},
   "source": [
    "## 1.3 Loading data"
   ]
  },
  {
   "cell_type": "code",
   "execution_count": 3,
   "id": "c046fdbb",
   "metadata": {
    "ExecuteTime": {
     "end_time": "2022-06-27T15:57:19.315944Z",
     "start_time": "2022-06-27T15:57:19.311462Z"
    }
   },
   "outputs": [
    {
     "data": {
      "text/plain": [
       "['df.csv']"
      ]
     },
     "execution_count": 3,
     "metadata": {},
     "output_type": "execute_result"
    }
   ],
   "source": [
    "# our file\n",
    "\n",
    "data = \"./data/cleaned/\"\n",
    "os.listdir(data)"
   ]
  },
  {
   "cell_type": "code",
   "execution_count": 4,
   "id": "e699e715",
   "metadata": {
    "ExecuteTime": {
     "end_time": "2022-06-27T15:57:19.334992Z",
     "start_time": "2022-06-27T15:57:19.318015Z"
    }
   },
   "outputs": [],
   "source": [
    "# load dataframe\n",
    "\n",
    "fn = data + 'df.csv'\n",
    "\n",
    "df = pd.read_csv(fn)"
   ]
  },
  {
   "cell_type": "code",
   "execution_count": 5,
   "id": "30a66d13",
   "metadata": {
    "ExecuteTime": {
     "end_time": "2022-06-27T15:57:19.345070Z",
     "start_time": "2022-06-27T15:57:19.336777Z"
    }
   },
   "outputs": [
    {
     "data": {
      "text/html": [
       "<div>\n",
       "<style scoped>\n",
       "    .dataframe tbody tr th:only-of-type {\n",
       "        vertical-align: middle;\n",
       "    }\n",
       "\n",
       "    .dataframe tbody tr th {\n",
       "        vertical-align: top;\n",
       "    }\n",
       "\n",
       "    .dataframe thead th {\n",
       "        text-align: right;\n",
       "    }\n",
       "</style>\n",
       "<table border=\"1\" class=\"dataframe\">\n",
       "  <thead>\n",
       "    <tr style=\"text-align: right;\">\n",
       "      <th></th>\n",
       "      <th>text</th>\n",
       "      <th>target</th>\n",
       "      <th>_len_txt</th>\n",
       "    </tr>\n",
       "  </thead>\n",
       "  <tbody>\n",
       "    <tr>\n",
       "      <th>0</th>\n",
       "      <td>Our Deeds are the Reason of this #earthquake M...</td>\n",
       "      <td>1</td>\n",
       "      <td>69</td>\n",
       "    </tr>\n",
       "    <tr>\n",
       "      <th>1</th>\n",
       "      <td>Forest fire near La Ronge Sask. Canada</td>\n",
       "      <td>1</td>\n",
       "      <td>38</td>\n",
       "    </tr>\n",
       "    <tr>\n",
       "      <th>2</th>\n",
       "      <td>All residents asked to 'shelter in place' are ...</td>\n",
       "      <td>1</td>\n",
       "      <td>133</td>\n",
       "    </tr>\n",
       "    <tr>\n",
       "      <th>3</th>\n",
       "      <td>13,000 people receive #wildfires evacuation or...</td>\n",
       "      <td>1</td>\n",
       "      <td>65</td>\n",
       "    </tr>\n",
       "    <tr>\n",
       "      <th>4</th>\n",
       "      <td>Just got sent this photo from Ruby #Alaska as ...</td>\n",
       "      <td>1</td>\n",
       "      <td>88</td>\n",
       "    </tr>\n",
       "  </tbody>\n",
       "</table>\n",
       "</div>"
      ],
      "text/plain": [
       "                                                text  target  _len_txt\n",
       "0  Our Deeds are the Reason of this #earthquake M...       1        69\n",
       "1             Forest fire near La Ronge Sask. Canada       1        38\n",
       "2  All residents asked to 'shelter in place' are ...       1       133\n",
       "3  13,000 people receive #wildfires evacuation or...       1        65\n",
       "4  Just got sent this photo from Ruby #Alaska as ...       1        88"
      ]
     },
     "execution_count": 5,
     "metadata": {},
     "output_type": "execute_result"
    }
   ],
   "source": [
    "df.head()"
   ]
  },
  {
   "cell_type": "markdown",
   "id": "0c486529",
   "metadata": {},
   "source": []
  },
  {
   "cell_type": "code",
   "execution_count": null,
   "id": "04d28d83",
   "metadata": {},
   "outputs": [],
   "source": []
  },
  {
   "cell_type": "markdown",
   "id": "d5ca41f4",
   "metadata": {},
   "source": [
    "# 5. Working with text SEPARATE NOTEBOOK"
   ]
  },
  {
   "cell_type": "markdown",
   "id": "217f8727",
   "metadata": {},
   "source": [
    "##  5.1 10 random texts "
   ]
  },
  {
   "cell_type": "code",
   "execution_count": null,
   "id": "cc5041cf",
   "metadata": {
    "ExecuteTime": {
     "end_time": "2022-06-27T15:03:44.685966Z",
     "start_time": "2022-06-27T15:03:44.682272Z"
    }
   },
   "outputs": [],
   "source": []
  },
  {
   "cell_type": "code",
   "execution_count": 6,
   "id": "e5c2a30a",
   "metadata": {
    "ExecuteTime": {
     "end_time": "2022-06-27T15:57:19.354260Z",
     "start_time": "2022-06-27T15:57:19.347120Z"
    }
   },
   "outputs": [
    {
     "data": {
      "text/html": [
       "<div>\n",
       "<style scoped>\n",
       "    .dataframe tbody tr th:only-of-type {\n",
       "        vertical-align: middle;\n",
       "    }\n",
       "\n",
       "    .dataframe tbody tr th {\n",
       "        vertical-align: top;\n",
       "    }\n",
       "\n",
       "    .dataframe thead th {\n",
       "        text-align: right;\n",
       "    }\n",
       "</style>\n",
       "<table border=\"1\" class=\"dataframe\">\n",
       "  <thead>\n",
       "    <tr style=\"text-align: right;\">\n",
       "      <th></th>\n",
       "      <th>text</th>\n",
       "      <th>target</th>\n",
       "      <th>_len_txt</th>\n",
       "    </tr>\n",
       "  </thead>\n",
       "  <tbody>\n",
       "    <tr>\n",
       "      <th>7408</th>\n",
       "      <td>California cops have sketch of gunman who kill...</td>\n",
       "      <td>1</td>\n",
       "      <td>117</td>\n",
       "    </tr>\n",
       "    <tr>\n",
       "      <th>2627</th>\n",
       "      <td>How American war planners singled out Hiroshim...</td>\n",
       "      <td>1</td>\n",
       "      <td>86</td>\n",
       "    </tr>\n",
       "    <tr>\n",
       "      <th>4498</th>\n",
       "      <td>Bluedio Turbine Hurricane H Bluetooth 4.1 Wire...</td>\n",
       "      <td>0</td>\n",
       "      <td>139</td>\n",
       "    </tr>\n",
       "    <tr>\n",
       "      <th>1732</th>\n",
       "      <td>OMG OMG OMG #JustinBieber and #HarryStyles hav...</td>\n",
       "      <td>0</td>\n",
       "      <td>132</td>\n",
       "    </tr>\n",
       "    <tr>\n",
       "      <th>968</th>\n",
       "      <td>Check out Vintage Longaberger Floral Fabric Sh...</td>\n",
       "      <td>0</td>\n",
       "      <td>116</td>\n",
       "    </tr>\n",
       "    <tr>\n",
       "      <th>5104</th>\n",
       "      <td>Fukushima 'mutant vegetable' images sweep acro...</td>\n",
       "      <td>1</td>\n",
       "      <td>131</td>\n",
       "    </tr>\n",
       "    <tr>\n",
       "      <th>3165</th>\n",
       "      <td>@chowtaxis of Newport a big thanks for the eme...</td>\n",
       "      <td>1</td>\n",
       "      <td>120</td>\n",
       "    </tr>\n",
       "    <tr>\n",
       "      <th>2513</th>\n",
       "      <td>I rated The Hobbit: The Desolation of Smaug (2...</td>\n",
       "      <td>0</td>\n",
       "      <td>85</td>\n",
       "    </tr>\n",
       "    <tr>\n",
       "      <th>3866</th>\n",
       "      <td>@selmoooooo @_edvinnn @imTariik @dzafic_haris ...</td>\n",
       "      <td>1</td>\n",
       "      <td>124</td>\n",
       "    </tr>\n",
       "    <tr>\n",
       "      <th>6679</th>\n",
       "      <td>Random wind gust just came through #Gander.  P...</td>\n",
       "      <td>1</td>\n",
       "      <td>139</td>\n",
       "    </tr>\n",
       "  </tbody>\n",
       "</table>\n",
       "</div>"
      ],
      "text/plain": [
       "                                                   text  target  _len_txt\n",
       "7408  California cops have sketch of gunman who kill...       1       117\n",
       "2627  How American war planners singled out Hiroshim...       1        86\n",
       "4498  Bluedio Turbine Hurricane H Bluetooth 4.1 Wire...       0       139\n",
       "1732  OMG OMG OMG #JustinBieber and #HarryStyles hav...       0       132\n",
       "968   Check out Vintage Longaberger Floral Fabric Sh...       0       116\n",
       "5104  Fukushima 'mutant vegetable' images sweep acro...       1       131\n",
       "3165  @chowtaxis of Newport a big thanks for the eme...       1       120\n",
       "2513  I rated The Hobbit: The Desolation of Smaug (2...       0        85\n",
       "3866  @selmoooooo @_edvinnn @imTariik @dzafic_haris ...       1       124\n",
       "6679  Random wind gust just came through #Gander.  P...       1       139"
      ]
     },
     "execution_count": 6,
     "metadata": {},
     "output_type": "execute_result"
    }
   ],
   "source": [
    "df.sample(10)"
   ]
  },
  {
   "cell_type": "code",
   "execution_count": 7,
   "id": "6a1a629d",
   "metadata": {
    "ExecuteTime": {
     "end_time": "2022-06-27T15:57:19.370876Z",
     "start_time": "2022-06-27T15:57:19.363497Z"
    }
   },
   "outputs": [
    {
     "data": {
      "text/html": [
       "<div>\n",
       "<style scoped>\n",
       "    .dataframe tbody tr th:only-of-type {\n",
       "        vertical-align: middle;\n",
       "    }\n",
       "\n",
       "    .dataframe tbody tr th {\n",
       "        vertical-align: top;\n",
       "    }\n",
       "\n",
       "    .dataframe thead th {\n",
       "        text-align: right;\n",
       "    }\n",
       "</style>\n",
       "<table border=\"1\" class=\"dataframe\">\n",
       "  <thead>\n",
       "    <tr style=\"text-align: right;\">\n",
       "      <th></th>\n",
       "      <th>text</th>\n",
       "      <th>target</th>\n",
       "      <th>_len_txt</th>\n",
       "    </tr>\n",
       "  </thead>\n",
       "  <tbody>\n",
       "    <tr>\n",
       "      <th>1352</th>\n",
       "      <td>Ali you flew planes and ran into burning build...</td>\n",
       "      <td>0</td>\n",
       "      <td>115</td>\n",
       "    </tr>\n",
       "    <tr>\n",
       "      <th>1700</th>\n",
       "      <td>My 2 fav worlds have collided! Thanks to @lenn...</td>\n",
       "      <td>0</td>\n",
       "      <td>139</td>\n",
       "    </tr>\n",
       "    <tr>\n",
       "      <th>6976</th>\n",
       "      <td>@Eric_Tsunami worry about yourself</td>\n",
       "      <td>0</td>\n",
       "      <td>34</td>\n",
       "    </tr>\n",
       "    <tr>\n",
       "      <th>13</th>\n",
       "      <td>#Flood in Bago Myanmar #We arrived Bago</td>\n",
       "      <td>1</td>\n",
       "      <td>39</td>\n",
       "    </tr>\n",
       "    <tr>\n",
       "      <th>23</th>\n",
       "      <td>What a wonderful day!</td>\n",
       "      <td>0</td>\n",
       "      <td>21</td>\n",
       "    </tr>\n",
       "    <tr>\n",
       "      <th>6185</th>\n",
       "      <td>'If you looking for my niggas you can follow t...</td>\n",
       "      <td>0</td>\n",
       "      <td>62</td>\n",
       "    </tr>\n",
       "    <tr>\n",
       "      <th>2891</th>\n",
       "      <td>We all carry these things inside that no one e...</td>\n",
       "      <td>0</td>\n",
       "      <td>115</td>\n",
       "    </tr>\n",
       "    <tr>\n",
       "      <th>454</th>\n",
       "      <td>Horrific attack on wife by muslim in Italy htt...</td>\n",
       "      <td>1</td>\n",
       "      <td>80</td>\n",
       "    </tr>\n",
       "    <tr>\n",
       "      <th>325</th>\n",
       "      <td>Vladimir Putin Issues Major Warning But Is It ...</td>\n",
       "      <td>1</td>\n",
       "      <td>99</td>\n",
       "    </tr>\n",
       "    <tr>\n",
       "      <th>789</th>\n",
       "      <td>@todd_calfee so @mattburgener wanted to see th...</td>\n",
       "      <td>1</td>\n",
       "      <td>69</td>\n",
       "    </tr>\n",
       "    <tr>\n",
       "      <th>4097</th>\n",
       "      <td>Central Mass. fruit trees escape heavy damage ...</td>\n",
       "      <td>1</td>\n",
       "      <td>84</td>\n",
       "    </tr>\n",
       "    <tr>\n",
       "      <th>4902</th>\n",
       "      <td>@freddiedeboer @Thucydiplease then you have ri...</td>\n",
       "      <td>1</td>\n",
       "      <td>131</td>\n",
       "    </tr>\n",
       "    <tr>\n",
       "      <th>2875</th>\n",
       "      <td>For these Californians it's like living in Afr...</td>\n",
       "      <td>1</td>\n",
       "      <td>123</td>\n",
       "    </tr>\n",
       "    <tr>\n",
       "      <th>5590</th>\n",
       "      <td>The Latest: More homes razed by Northern Calif...</td>\n",
       "      <td>1</td>\n",
       "      <td>108</td>\n",
       "    </tr>\n",
       "    <tr>\n",
       "      <th>5217</th>\n",
       "      <td>OH. #TeamHennessy #NJ Obliteration  @tprimo24 ...</td>\n",
       "      <td>0</td>\n",
       "      <td>125</td>\n",
       "    </tr>\n",
       "    <tr>\n",
       "      <th>2282</th>\n",
       "      <td>NOTHING YOU MIDGET I WILL DEMOLISH YOU SHOW SO...</td>\n",
       "      <td>0</td>\n",
       "      <td>56</td>\n",
       "    </tr>\n",
       "    <tr>\n",
       "      <th>1098</th>\n",
       "      <td>I can't believe @myfriendmina photo bombed a s...</td>\n",
       "      <td>0</td>\n",
       "      <td>55</td>\n",
       "    </tr>\n",
       "    <tr>\n",
       "      <th>2790</th>\n",
       "      <td>My first staining attempt was a disaster https...</td>\n",
       "      <td>0</td>\n",
       "      <td>64</td>\n",
       "    </tr>\n",
       "    <tr>\n",
       "      <th>3721</th>\n",
       "      <td>Love God more than you fear hell</td>\n",
       "      <td>0</td>\n",
       "      <td>32</td>\n",
       "    </tr>\n",
       "    <tr>\n",
       "      <th>6321</th>\n",
       "      <td>Scary stuff in San Antonio. Stars head coach D...</td>\n",
       "      <td>1</td>\n",
       "      <td>140</td>\n",
       "    </tr>\n",
       "  </tbody>\n",
       "</table>\n",
       "</div>"
      ],
      "text/plain": [
       "                                                   text  target  _len_txt\n",
       "1352  Ali you flew planes and ran into burning build...       0       115\n",
       "1700  My 2 fav worlds have collided! Thanks to @lenn...       0       139\n",
       "6976                 @Eric_Tsunami worry about yourself       0        34\n",
       "13              #Flood in Bago Myanmar #We arrived Bago       1        39\n",
       "23                                What a wonderful day!       0        21\n",
       "6185  'If you looking for my niggas you can follow t...       0        62\n",
       "2891  We all carry these things inside that no one e...       0       115\n",
       "454   Horrific attack on wife by muslim in Italy htt...       1        80\n",
       "325   Vladimir Putin Issues Major Warning But Is It ...       1        99\n",
       "789   @todd_calfee so @mattburgener wanted to see th...       1        69\n",
       "4097  Central Mass. fruit trees escape heavy damage ...       1        84\n",
       "4902  @freddiedeboer @Thucydiplease then you have ri...       1       131\n",
       "2875  For these Californians it's like living in Afr...       1       123\n",
       "5590  The Latest: More homes razed by Northern Calif...       1       108\n",
       "5217  OH. #TeamHennessy #NJ Obliteration  @tprimo24 ...       0       125\n",
       "2282  NOTHING YOU MIDGET I WILL DEMOLISH YOU SHOW SO...       0        56\n",
       "1098  I can't believe @myfriendmina photo bombed a s...       0        55\n",
       "2790  My first staining attempt was a disaster https...       0        64\n",
       "3721                   Love God more than you fear hell       0        32\n",
       "6321  Scary stuff in San Antonio. Stars head coach D...       1       140"
      ]
     },
     "execution_count": 7,
     "metadata": {},
     "output_type": "execute_result"
    }
   ],
   "source": [
    "df_samp = df.sample(20)\n",
    "df_samp"
   ]
  },
  {
   "cell_type": "code",
   "execution_count": 29,
   "id": "8dd449ca",
   "metadata": {
    "ExecuteTime": {
     "end_time": "2022-06-27T15:57:38.131130Z",
     "start_time": "2022-06-27T15:57:38.119216Z"
    },
    "scrolled": false
   },
   "outputs": [
    {
     "name": "stdout",
     "output_type": "stream",
     "text": [
      "target : 0, len : 115\n",
      "Ali you flew planes and ran into burning buildings why are you making soup for that man child?! #BooRadleyVanCullen...\n",
      "\n",
      "\n",
      "target : 0, len : 139\n",
      "My 2 fav worlds have collided! Thanks to @lennonparham @Jessica_StClair I found the @GilmoreGuysShow podcast!! #ihave44episodesofGG #nojoke...\n",
      "\n",
      "\n",
      "target : 0, len : 34\n",
      "@Eric_Tsunami worry about yourself...\n",
      "\n",
      "\n",
      "target : 1, len : 39\n",
      "#Flood in Bago Myanmar #We arrived Bago...\n",
      "\n",
      "\n",
      "target : 0, len : 21\n",
      "What a wonderful day!...\n",
      "\n",
      "\n",
      "target : 0, len : 62\n",
      "'If you looking for my niggas you can follow the sirens.' ????...\n",
      "\n",
      "\n",
      "target : 0, len : 115\n",
      "We all carry these things inside that no one else can see. They hold us down like anchors they drown us out at sea....\n",
      "\n",
      "\n",
      "target : 1, len : 80\n",
      "Horrific attack on wife by muslim in Italy http://t.co/nY3l1oRZQb LiveLeak #News...\n",
      "\n",
      "\n",
      "target : 1, len : 99\n",
      "Vladimir Putin Issues Major Warning But Is It Too Late To Escape Armageddon?\n",
      "http://t.co/gBxafy1m1C...\n",
      "\n",
      "\n",
      "target : 1, len : 69\n",
      "@todd_calfee so @mattburgener wanted to see that info on blight u got...\n",
      "\n",
      "\n",
      "target : 1, len : 84\n",
      "Central Mass. fruit trees escape heavy damage after wind hail http://t.co/VbFfodtP6M...\n",
      "\n",
      "\n",
      "target : 1, len : 131\n",
      "@freddiedeboer @Thucydiplease then you have rise of Coates Charleston massacre Walter Scott and black twitter more broadly as well....\n",
      "\n",
      "\n",
      "target : 1, len : 123\n",
      "For these Californians it's like living in Africa's Sahel desert - just finding water a daily chore. http://t.co/ySG9vsrT4g...\n",
      "\n",
      "\n",
      "target : 1, len : 108\n",
      "The Latest: More homes razed by Northern California wildfire - http://t.co/BsGR67dyWY http://t.co/nDGgr6Xyqd...\n",
      "\n",
      "\n",
      "target : 0, len : 125\n",
      "OH. #TeamHennessy #NJ Obliteration  @tprimo24 ROUND 1 Happy Birthday @djeddygnj Colombian FestivalÛ_ https://t.co/mRv54fiDfn...\n",
      "\n",
      "\n",
      "target : 0, len : 56\n",
      "NOTHING YOU MIDGET I WILL DEMOLISH YOU SHOW SOME RESPECT...\n",
      "\n",
      "\n",
      "target : 0, len : 55\n",
      "I can't believe @myfriendmina photo bombed a screenshot...\n",
      "\n",
      "\n",
      "target : 0, len : 64\n",
      "My first staining attempt was a disaster https://t.co/buDmKE3nNf...\n",
      "\n",
      "\n",
      "target : 0, len : 32\n",
      "Love God more than you fear hell...\n",
      "\n",
      "\n",
      "target : 1, len : 140\n",
      "Scary stuff in San Antonio. Stars head coach Dan Hughes was run into on the sidelines and fell over chairs onto the floor. Stretcher now out...\n",
      "\n",
      "\n"
     ]
    }
   ],
   "source": [
    "for idx, ser in df_samp.iterrows(): \n",
    "\n",
    "    txt_1 = f\"target : {ser['target']}, len : {ser['_len_txt']}\\n\"\n",
    "    print(txt_1+ser['text']+ \"...\" + \"\\n\\n\")"
   ]
  },
  {
   "cell_type": "code",
   "execution_count": 30,
   "id": "77f5ed93",
   "metadata": {
    "ExecuteTime": {
     "end_time": "2022-06-27T15:57:41.426925Z",
     "start_time": "2022-06-27T15:57:41.419337Z"
    }
   },
   "outputs": [],
   "source": [
    "def print_sample(sub_df, n_samp=10) : \n",
    "    \"\"\" \"\"\"\n",
    "    \n",
    "    if n_samp < len(sub_df): \n",
    "        df_samp = sub_df.sample(n_samp)\n",
    "    else : \n",
    "        df_samp = sub_df.copy()\n",
    "    \n",
    "    for idx, ser in df_samp.iterrows(): \n",
    "\n",
    "        txt_1 = f\"target : {ser['target']}, len : {ser['_len_txt']}\\n\"\n",
    "        print(txt_1+ser['text']+ \"...\" + \"\\n\\n\")"
   ]
  },
  {
   "cell_type": "code",
   "execution_count": 31,
   "id": "2d7b8714",
   "metadata": {
    "ExecuteTime": {
     "end_time": "2022-06-27T15:57:41.839170Z",
     "start_time": "2022-06-27T15:57:41.828739Z"
    }
   },
   "outputs": [
    {
     "data": {
      "text/html": [
       "<div>\n",
       "<style scoped>\n",
       "    .dataframe tbody tr th:only-of-type {\n",
       "        vertical-align: middle;\n",
       "    }\n",
       "\n",
       "    .dataframe tbody tr th {\n",
       "        vertical-align: top;\n",
       "    }\n",
       "\n",
       "    .dataframe thead th {\n",
       "        text-align: right;\n",
       "    }\n",
       "</style>\n",
       "<table border=\"1\" class=\"dataframe\">\n",
       "  <thead>\n",
       "    <tr style=\"text-align: right;\">\n",
       "      <th></th>\n",
       "      <th>text</th>\n",
       "      <th>target</th>\n",
       "      <th>_len_txt</th>\n",
       "    </tr>\n",
       "  </thead>\n",
       "  <tbody>\n",
       "    <tr>\n",
       "      <th>0</th>\n",
       "      <td>Our Deeds are the Reason of this #earthquake M...</td>\n",
       "      <td>1</td>\n",
       "      <td>69</td>\n",
       "    </tr>\n",
       "    <tr>\n",
       "      <th>1</th>\n",
       "      <td>Forest fire near La Ronge Sask. Canada</td>\n",
       "      <td>1</td>\n",
       "      <td>38</td>\n",
       "    </tr>\n",
       "    <tr>\n",
       "      <th>2</th>\n",
       "      <td>All residents asked to 'shelter in place' are ...</td>\n",
       "      <td>1</td>\n",
       "      <td>133</td>\n",
       "    </tr>\n",
       "    <tr>\n",
       "      <th>3</th>\n",
       "      <td>13,000 people receive #wildfires evacuation or...</td>\n",
       "      <td>1</td>\n",
       "      <td>65</td>\n",
       "    </tr>\n",
       "    <tr>\n",
       "      <th>4</th>\n",
       "      <td>Just got sent this photo from Ruby #Alaska as ...</td>\n",
       "      <td>1</td>\n",
       "      <td>88</td>\n",
       "    </tr>\n",
       "  </tbody>\n",
       "</table>\n",
       "</div>"
      ],
      "text/plain": [
       "                                                text  target  _len_txt\n",
       "0  Our Deeds are the Reason of this #earthquake M...       1        69\n",
       "1             Forest fire near La Ronge Sask. Canada       1        38\n",
       "2  All residents asked to 'shelter in place' are ...       1       133\n",
       "3  13,000 people receive #wildfires evacuation or...       1        65\n",
       "4  Just got sent this photo from Ruby #Alaska as ...       1        88"
      ]
     },
     "execution_count": 31,
     "metadata": {},
     "output_type": "execute_result"
    }
   ],
   "source": [
    "df_1 = df[df.target==1]\n",
    "df_1.head()"
   ]
  },
  {
   "cell_type": "code",
   "execution_count": 32,
   "id": "28663532",
   "metadata": {
    "ExecuteTime": {
     "end_time": "2022-06-27T15:57:42.163819Z",
     "start_time": "2022-06-27T15:57:42.157075Z"
    }
   },
   "outputs": [
    {
     "name": "stdout",
     "output_type": "stream",
     "text": [
      "target : 1, len : 81\n",
      "Turkish troops killed in Kurdish militant 'suicide attack' http://t.co/7old5MJWph...\n",
      "\n",
      "\n",
      "target : 1, len : 139\n",
      "Coming later this year~ 'THE MAN THAT TATTOOED WOMEN.' A novel based on a real serial killer from #Arkansas &amp; a natural disaster. #NOLA...\n",
      "\n",
      "\n",
      "target : 1, len : 120\n",
      "[Tropical Cyclone Info] SOUDELOR 945hPa maximum wind speed: 45m/s maximum wind gust speed: 60m/s  http://t.co/nBD5oT9iEW...\n",
      "\n",
      "\n",
      "target : 1, len : 120\n",
      "//./../.. Pic of 16yr old PKK suicide bomber who detonated bomb in Turkey Army trench released http://t.co/fqSk7QCawO -/...\n",
      "\n",
      "\n",
      "target : 1, len : 97\n",
      "#Tweet4Taiji is a dolphin worship group based on superstitions! Just take a look at their tweets!...\n",
      "\n",
      "\n",
      "target : 1, len : 137\n",
      "UNR issues Severe Thunderstorm Warning [wind: 60 MPH hail: 0.75 IN] for Weston [WY] and Custer Fall River Lawrence Meade Pennington [SÛ_...\n",
      "\n",
      "\n",
      "target : 1, len : 111\n",
      "As California fires rage the Forest Service sounds the alarm about rising wildfire costs http://t.co/Tft1bb4xaZ...\n",
      "\n",
      "\n",
      "target : 1, len : 78\n",
      "Obama Declares Disaster for Typhoon-Devastated Saipan:  http://t.co/M6LvKXl9ii...\n",
      "\n",
      "\n",
      "target : 1, len : 26\n",
      "kindermorgan gas explosion...\n",
      "\n",
      "\n",
      "target : 1, len : 102\n",
      "The U.S. also flew over each bomb site in World War II with warning letters telling people to evacuate...\n",
      "\n",
      "\n"
     ]
    }
   ],
   "source": [
    "print_sample(df_1)"
   ]
  },
  {
   "cell_type": "code",
   "execution_count": 33,
   "id": "e69fcc95",
   "metadata": {
    "ExecuteTime": {
     "end_time": "2022-06-27T15:57:42.526850Z",
     "start_time": "2022-06-27T15:57:42.520203Z"
    }
   },
   "outputs": [
    {
     "name": "stdout",
     "output_type": "stream",
     "text": [
      "target : 0, len : 92\n",
      "Heard theres two more deaths and a murder chrissie kills adam?  val and finn die? #emmerdale...\n",
      "\n",
      "\n",
      "target : 0, len : 27\n",
      "@paddytomlinson1 ARMAGEDDON...\n",
      "\n",
      "\n",
      "target : 0, len : 7\n",
      "Bad day...\n",
      "\n",
      "\n",
      "target : 0, len : 136\n",
      "#golf McIlroy fuels PGA speculation after video: Injured world number one Rory McIlroy fueled speculatio... http://t.co/dCyYJVmXHR #news...\n",
      "\n",
      "\n",
      "target : 0, len : 136\n",
      "One of these candidates is going to have a Frank Grimes level meltdown with how voters love Trump no matter what. http://t.co/pBEgOf4740...\n",
      "\n",
      "\n",
      "target : 0, len : 45\n",
      "Casualty Roleplay somebody please am so bored...\n",
      "\n",
      "\n",
      "target : 0, len : 130\n",
      "I added a video to a @YouTube playlist http://t.co/O7QOgmOegU S@X 109 - SWS | Fatality (Captain Falcon) Vs. Snow (Fox) SSB4 Losers...\n",
      "\n",
      "\n",
      "target : 0, len : 119\n",
      "#hot  Funtenna: hijacking computers to send data as sound waves [Black Hat 2015] http://t.co/nQiObcZKrT #prebreak #best...\n",
      "\n",
      "\n",
      "target : 0, len : 137\n",
      "Reddit's new content policy goes into effect many horrible subreddits banned or quarantined http://t.co/gix1gaYnXZ http://t.co/P93S2rFhx6...\n",
      "\n",
      "\n",
      "target : 0, len : 137\n",
      "#NowPlaying * Cliff Richard - I Could Easily Fall (In Love With You) (&amp; Shadows) * #Internet #Nieuws #Radio On http://t.co/8LkMWp9qzw...\n",
      "\n",
      "\n"
     ]
    }
   ],
   "source": [
    "print_sample(df[df.target==0])"
   ]
  },
  {
   "cell_type": "markdown",
   "id": "ab788d1d",
   "metadata": {},
   "source": [
    "# work on One"
   ]
  },
  {
   "cell_type": "code",
   "execution_count": 34,
   "id": "dea19425",
   "metadata": {
    "ExecuteTime": {
     "end_time": "2022-06-27T15:57:50.855319Z",
     "start_time": "2022-06-27T15:57:50.841256Z"
    }
   },
   "outputs": [
    {
     "data": {
      "text/plain": [
       "'Weather forecast for Thailand  A Whirlwind is coming ...2 september https://t.co/rUKjYjG9oQ'"
      ]
     },
     "execution_count": 34,
     "metadata": {},
     "output_type": "execute_result"
    }
   ],
   "source": [
    "txt = df.text.sample(1)\n",
    "txt = txt.values[0]\n",
    "txt"
   ]
  },
  {
   "cell_type": "code",
   "execution_count": 35,
   "id": "f1754801",
   "metadata": {
    "ExecuteTime": {
     "end_time": "2022-06-27T15:57:51.024000Z",
     "start_time": "2022-06-27T15:57:51.018945Z"
    }
   },
   "outputs": [
    {
     "data": {
      "text/plain": [
       "'weather forecast for thailand  a whirlwind is coming ...2 september https://t.co/rukjyjg9oq'"
      ]
     },
     "execution_count": 35,
     "metadata": {},
     "output_type": "execute_result"
    }
   ],
   "source": [
    "txt = txt.lower()\n",
    "txt"
   ]
  },
  {
   "cell_type": "code",
   "execution_count": 36,
   "id": "c1ee02c3",
   "metadata": {
    "ExecuteTime": {
     "end_time": "2022-06-27T15:57:51.206868Z",
     "start_time": "2022-06-27T15:57:51.201996Z"
    }
   },
   "outputs": [
    {
     "data": {
      "text/plain": [
       "'weather forecast for thailand a whirlwind is coming ...2 september https://t.co/rukjyjg9oq'"
      ]
     },
     "execution_count": 36,
     "metadata": {},
     "output_type": "execute_result"
    }
   ],
   "source": [
    "txt = txt.strip().replace(\"  \", \" \")\n",
    "txt"
   ]
  },
  {
   "cell_type": "code",
   "execution_count": null,
   "id": "8d7bc9aa",
   "metadata": {
    "ExecuteTime": {
     "end_time": "2022-06-27T15:03:49.957992Z",
     "start_time": "2022-06-27T15:03:49.951749Z"
    }
   },
   "outputs": [],
   "source": []
  },
  {
   "cell_type": "code",
   "execution_count": null,
   "id": "05a5c20e",
   "metadata": {
    "ExecuteTime": {
     "end_time": "2022-06-27T15:03:50.218908Z",
     "start_time": "2022-06-27T15:03:50.213387Z"
    }
   },
   "outputs": [],
   "source": []
  },
  {
   "cell_type": "code",
   "execution_count": 41,
   "id": "8f6a396b",
   "metadata": {
    "ExecuteTime": {
     "end_time": "2022-06-27T15:58:17.673328Z",
     "start_time": "2022-06-27T15:58:17.667926Z"
    },
    "scrolled": false
   },
   "outputs": [
    {
     "data": {
      "text/plain": [
       "['weather',\n",
       " 'forecast',\n",
       " 'for',\n",
       " 'thailand',\n",
       " 'a',\n",
       " 'whirlwind',\n",
       " 'is',\n",
       " 'coming',\n",
       " '...',\n",
       " '2',\n",
       " 'september',\n",
       " 'https',\n",
       " ':',\n",
       " '//t.co/rukjyjg9oq']"
      ]
     },
     "execution_count": 41,
     "metadata": {},
     "output_type": "execute_result"
    }
   ],
   "source": [
    "raw_tokens_list  = word_tokenize(txt)\n",
    "raw_tokens_list[:30]"
   ]
  },
  {
   "cell_type": "code",
   "execution_count": 42,
   "id": "1fc81a6d",
   "metadata": {
    "ExecuteTime": {
     "end_time": "2022-06-27T15:58:18.251857Z",
     "start_time": "2022-06-27T15:58:18.246889Z"
    }
   },
   "outputs": [
    {
     "data": {
      "text/plain": [
       "14"
      ]
     },
     "execution_count": 42,
     "metadata": {},
     "output_type": "execute_result"
    }
   ],
   "source": [
    "len(raw_tokens_list)"
   ]
  },
  {
   "cell_type": "code",
   "execution_count": null,
   "id": "1fa74e0b",
   "metadata": {
    "ExecuteTime": {
     "end_time": "2022-06-27T15:57:55.219073Z",
     "start_time": "2022-06-27T15:57:55.215471Z"
    }
   },
   "outputs": [],
   "source": []
  },
  {
   "cell_type": "code",
   "execution_count": null,
   "id": "1df3d034",
   "metadata": {
    "ExecuteTime": {
     "end_time": "2022-06-27T15:57:56.641642Z",
     "start_time": "2022-06-27T15:57:56.634885Z"
    }
   },
   "outputs": [],
   "source": []
  },
  {
   "cell_type": "code",
   "execution_count": 43,
   "id": "7a6ec4db",
   "metadata": {
    "ExecuteTime": {
     "end_time": "2022-06-27T15:58:20.031995Z",
     "start_time": "2022-06-27T15:58:20.028257Z"
    }
   },
   "outputs": [
    {
     "name": "stdout",
     "output_type": "stream",
     "text": [
      "{'being', 'she', 'where', 'more', 'shan', 'no', 'once', 'o', 'from', 'out', 'didn', 'himself', 'themselves', 'mightn', 'shouldn', 'be', 'i', \"don't\", 'how', 'll', 'ain', 'other', \"you'd\", 'while', 'just', 'until', 'then', 'do', 'now', 'am', 'because', 'nor', 'our', 'wouldn', 't', 'the', 'wasn', \"you're\", 'haven', 'me', 'with', 'ma', \"hadn't\", 'doing', \"needn't\", 'aren', 'you', 'have', 'them', 'yourselves', 'off', 'under', \"won't\", 'did', 'can', \"hasn't\", 'doesn', 'hadn', \"that'll\", 'y', 'it', \"should've\", 'needn', 'same', \"shouldn't\", 'isn', 're', 'by', 'this', \"haven't\", 'my', \"mustn't\", 'about', 'there', 'some', 'all', 'won', 'in', \"weren't\", 'against', 'very', \"wouldn't\", \"you've\", 'will', 'whom', \"you'll\", 'as', \"aren't\", \"isn't\", 'further', 'don', 'these', 'its', 'should', 'those', 'which', 'between', 'herself', \"couldn't\", 'if', 'not', 'or', 'own', 'an', 'and', 'during', 'too', 'yours', 'your', 'such', 'm', \"mightn't\", 'are', \"it's\", 'down', 'having', 'theirs', 'here', 'so', 'but', 'been', 'for', 'd', 'both', \"didn't\", 'than', 'that', 'yourself', 'does', 'is', 'into', 'had', 'his', 'each', 'we', 'of', 'a', 'were', 'itself', 'him', 'before', 'what', 'ours', 'only', 'their', 'weren', 'couldn', 'to', 've', 'after', 'her', 'below', 'has', 'he', 'at', 'few', \"she's\", 'any', 'myself', 'who', \"shan't\", 'hasn', 'again', 'above', 'they', 'was', \"doesn't\", 'ourselves', 's', 'up', 'over', 'through', 'most', 'mustn', 'hers', 'on', 'why', 'when', \"wasn't\"}\n"
     ]
    }
   ],
   "source": [
    "stop_words = set(stopwords.words('english'))\n",
    "print(stop_words)"
   ]
  },
  {
   "cell_type": "code",
   "execution_count": 44,
   "id": "e4792ef2",
   "metadata": {
    "ExecuteTime": {
     "end_time": "2022-06-27T15:58:26.768058Z",
     "start_time": "2022-06-27T15:58:26.763345Z"
    }
   },
   "outputs": [
    {
     "data": {
      "text/plain": [
       "['weather',\n",
       " 'forecast',\n",
       " 'thailand',\n",
       " 'whirlwind',\n",
       " 'coming',\n",
       " '...',\n",
       " '2',\n",
       " 'september',\n",
       " 'https',\n",
       " ':',\n",
       " '//t.co/rukjyjg9oq']"
      ]
     },
     "execution_count": 44,
     "metadata": {},
     "output_type": "execute_result"
    }
   ],
   "source": [
    "cleaned_tokens_list = [w for w in raw_tokens_list if w not in stop_words]\n",
    "cleaned_tokens_list[:50]"
   ]
  },
  {
   "cell_type": "code",
   "execution_count": 45,
   "id": "24d4fd84",
   "metadata": {
    "ExecuteTime": {
     "end_time": "2022-06-27T15:58:30.745872Z",
     "start_time": "2022-06-27T15:58:30.734764Z"
    }
   },
   "outputs": [
    {
     "data": {
      "text/plain": [
       "11"
      ]
     },
     "execution_count": 45,
     "metadata": {},
     "output_type": "execute_result"
    }
   ],
   "source": [
    "len(cleaned_tokens_list)"
   ]
  },
  {
   "cell_type": "code",
   "execution_count": 46,
   "id": "1eda51a5",
   "metadata": {
    "ExecuteTime": {
     "end_time": "2022-06-27T15:58:35.284492Z",
     "start_time": "2022-06-27T15:58:35.278617Z"
    }
   },
   "outputs": [
    {
     "data": {
      "text/plain": [
       "['weather',\n",
       " 'forecast',\n",
       " 'for',\n",
       " 'thailand',\n",
       " 'a',\n",
       " 'whirlwind',\n",
       " 'is',\n",
       " 'coming',\n",
       " '2',\n",
       " 'september',\n",
       " 'https',\n",
       " 't',\n",
       " 'co',\n",
       " 'rukjyjg9oq']"
      ]
     },
     "execution_count": 46,
     "metadata": {},
     "output_type": "execute_result"
    }
   ],
   "source": [
    "tokenizer = RegexpTokenizer(r\"\\w+\")\n",
    "raw_tokens_list = tokenizer.tokenize(txt)\n",
    "raw_tokens_list[:50]"
   ]
  },
  {
   "cell_type": "code",
   "execution_count": 48,
   "id": "aa958d7b",
   "metadata": {
    "ExecuteTime": {
     "end_time": "2022-06-27T15:58:56.882805Z",
     "start_time": "2022-06-27T15:58:56.877339Z"
    }
   },
   "outputs": [
    {
     "data": {
      "text/plain": [
       "14"
      ]
     },
     "execution_count": 48,
     "metadata": {},
     "output_type": "execute_result"
    }
   ],
   "source": [
    "len(raw_tokens_list)"
   ]
  },
  {
   "cell_type": "code",
   "execution_count": 49,
   "id": "ba57384b",
   "metadata": {
    "ExecuteTime": {
     "end_time": "2022-06-27T15:58:59.154167Z",
     "start_time": "2022-06-27T15:58:59.150846Z"
    }
   },
   "outputs": [],
   "source": [
    "cleaned_tokens_list = [w for w in raw_tokens_list if w not in stop_words]"
   ]
  },
  {
   "cell_type": "code",
   "execution_count": 50,
   "id": "27acc154",
   "metadata": {
    "ExecuteTime": {
     "end_time": "2022-06-27T15:59:01.312262Z",
     "start_time": "2022-06-27T15:59:01.307340Z"
    }
   },
   "outputs": [
    {
     "data": {
      "text/plain": [
       "['weather',\n",
       " 'forecast',\n",
       " 'thailand',\n",
       " 'whirlwind',\n",
       " 'coming',\n",
       " '2',\n",
       " 'september',\n",
       " 'https',\n",
       " 'co',\n",
       " 'rukjyjg9oq']"
      ]
     },
     "execution_count": 50,
     "metadata": {},
     "output_type": "execute_result"
    }
   ],
   "source": [
    "cleaned_tokens_list[:50]"
   ]
  },
  {
   "cell_type": "code",
   "execution_count": 51,
   "id": "1c046a67",
   "metadata": {
    "ExecuteTime": {
     "end_time": "2022-06-27T15:59:03.693693Z",
     "start_time": "2022-06-27T15:59:03.688198Z"
    }
   },
   "outputs": [
    {
     "data": {
      "text/plain": [
       "10"
      ]
     },
     "execution_count": 51,
     "metadata": {},
     "output_type": "execute_result"
    }
   ],
   "source": [
    "len(cleaned_tokens_list)"
   ]
  },
  {
   "cell_type": "code",
   "execution_count": 52,
   "id": "1fbd3174",
   "metadata": {
    "ExecuteTime": {
     "end_time": "2022-06-27T15:59:13.356739Z",
     "start_time": "2022-06-27T15:59:13.350907Z"
    }
   },
   "outputs": [],
   "source": [
    "def process_text(txt, rejoin=False) : \n",
    "    \n",
    "    txt = txt.lower().strip()\n",
    "    \n",
    "    tokenizer = RegexpTokenizer(r\"\\w+\")\n",
    "    raw_tokens_list = tokenizer.tokenize(txt)\n",
    "    \n",
    "    cleaned_tokens_list = [w for w in raw_tokens_list if w not in stop_words]\n",
    "    \n",
    "    if rejoin : \n",
    "        return \" \".join(cleaned_tokens_list)\n",
    "    \n",
    "    return cleaned_tokens_list"
   ]
  },
  {
   "cell_type": "code",
   "execution_count": 53,
   "id": "9eafd633",
   "metadata": {
    "ExecuteTime": {
     "end_time": "2022-06-27T15:59:17.500890Z",
     "start_time": "2022-06-27T15:59:17.496887Z"
    }
   },
   "outputs": [
    {
     "data": {
      "text/plain": [
       "['Our Deeds are the Reason of this #earthquake May ALLAH Forgive us all',\n",
       " 'Forest fire near La Ronge Sask. Canada',\n",
       " \"All residents asked to 'shelter in place' are being notified by officers. No other evacuation or shelter in place orders are expected\"]"
      ]
     },
     "execution_count": 53,
     "metadata": {},
     "output_type": "execute_result"
    }
   ],
   "source": [
    "corpus = list(df.text.values)\n",
    "corpus[:3]"
   ]
  },
  {
   "cell_type": "code",
   "execution_count": 54,
   "id": "047ce4ef",
   "metadata": {
    "ExecuteTime": {
     "end_time": "2022-06-27T15:59:20.544768Z",
     "start_time": "2022-06-27T15:59:20.539895Z"
    }
   },
   "outputs": [
    {
     "data": {
      "text/plain": [
       "\"Our Deeds are the Reason of this #earthquake May ALLAH Forgive us allForest fire near La Ronge Sask. CanadaAll residents asked to 'shelter in place' are being notified by officers. No other evacuation or shelter in place orders are expected13,000 people receive #wildfires evacuation orders in California Just got sent this photo from Ruby #Alaska as smoke from #wildfires pours into a school #RockyFire Update => California Hwy. 20 closed in both directions due to Lake County fire - #CAfire #wildfires#flood #disaster Heavy rain causes flash flooding of streets in Manitou, Colorado Springs areasI'm on top of the hill and I can see a fire in the woods...There's an emergency evacuation happening now in the building across the streetI'm afraid that the tornado is coming to our area...Three people died from the heat wave so farHaha South Tampa is getting flooded hah- WAIT A SECOND I LIVE IN SOUTH TAMPA WHAT AM I GONNA DO WHAT AM I GONNA DO FVCK #flooding#raining #flooding #Florida #TampaBay #Tampa 18 or 19 days. I've lost count #Flood in Bago Myanmar #We arrived BagoDamage to school bus on 80 in multi car crash #BREAKING What's up man?I love fruitsSummer is lovelyMy car is so fastWhat a goooooooaaaaaal!!!!!!this is ridiculous....London is cool ;)Love skiingWhat a wonderful day!LOOOOOOLNo way...I can't eat that shitWas in NYC last week!Love my girlfriendCooool :)Do you like pasta?The end!@bbcmtd Wholesale Markets ablaze http://t.co/lHYXEOHY6CWe always try to bring the heavy. #metal #RT http://t.co/YAo1e0xngw#AFRICANBAZE: Breaking news:Nigeria flag set ablaze in Aba. http://t.co/2nndBGwyEiCrying out for more! Set me ablazeOn plus side LOOK AT THE SKY LAST NIGHT IT WAS ABLAZE http://t.co/qqsmshaJ3N@PhDSquares #mufc they've built so much hype around new acquisitions but I doubt they will set the EPL ablaze this season.INEC Office in Abia Set Ablaze - http://t.co/3ImaomknnABarbados #Bridgetown JAMAICA \\x89ÛÒ Two cars set ablaze: SANTA CRUZ \\x89ÛÓ Head of the St Elizabeth Police Superintende...  http://t.co/wDUEaj8Q4JAblaze for you Lord :DCheck these out: http://t.co/rOI2NSmEJJ http://t.co/3Tj8ZjiN21 http://t.co/YDUiXEfIpE http://t.co/LxTjc87KLS #nsfwon the outside you're ablaze and alive\\nbut you're dead insideHad an awesome time visiting the CFC head office the ancop site and ablaze. Thanks to Tita Vida for taking care of us ??SOOOO PUMPED FOR ABLAZE ???? @southridgelifeI wanted to set Chicago ablaze with my preaching... But not my hotel! http://t.co/o9qknbfOFXI gained 3 followers in the last week. You? Know your stats and grow with http://t.co/TIyUliF5c6How the West was burned: Thousands of wildfires ablaze in California alone http://t.co/vl5TBR3wbrBuilding the perfect tracklist to life leave the streets ablazeCheck these out: http://t.co/rOI2NSmEJJ http://t.co/3Tj8ZjiN21 http://t.co/YDUiXEfIpE http://t.co/LxTjc87KLS #nsfwFirst night with retainers in. It's quite weird. Better get used to it; I have to wear them every single night for the next year at least.Deputies: Man shot before Brighton home set ablaze http://t.co/gWNRhMSO8kMan wife get six years jail for setting ablaze niece\\nhttp://t.co/eV1ahOUCZASANTA CRUZ \\x89ÛÓ Head of the St Elizabeth Police Superintendent Lanford Salmon has r ... - http://t.co/vplR5Hka2u http://t.co/SxHW2TNNLfPolice: Arsonist Deliberately Set Black Church In North CarolinaåÊAblaze http://t.co/pcXarbH9AnNoches El-Bestia '@Alexis_Sanchez: happy to see my teammates and training hard ?? goodnight gunners.?????? http://t.co/uc4j4jHvGR'#Kurds trampling on Turkmen flag later set it ablaze while others vandalized offices of Turkmen Front in #Diyala http://t.co/4IzFdYC3cgTRUCK ABLAZE : R21. VOORTREKKER AVE. OUTSIDE OR TAMBO INTL. CARGO SECTION. http://t.co/8kscqKfKkFSet our hearts ablaze and every city was a gift And every skyline was like a kiss upon the lips @\\x89Û_ https://t.co/cYoMPZ1A0ZThey sky was ablaze tonight in Los Angeles. I'm expecting IG and FB to be filled with sunset shots if I know my peeps!!How the West was burned: Thousands of wildfires ablaze in #California alone http://t.co/iCSjGZ9tE1 #climate #energy http://t.co/9FxmN0l0BdRevel in yours wmv videos by means of mac farewell ablaze wmv en route to dvd: GtxRWmProgressive greetings!\\n\\nIn about a month students would have set their pens ablaze in The Torch Publications'... http://t.co/9FxPiXQuJtRene Ablaze &amp; Jacinta - Secret 2k13 (Fallen Skies Edit) - Mar 30 2013  https://t.co/7MLMsUzV1Z@Navista7 Steve these fires out here are something else! California is a tinderbox - and this clown was setting my 'hood ablaze @News24680#NowPlaying: Rene Ablaze &amp; Ian Buff - Magnitude http://t.co/Av2JSjfFtc  #EDM@nxwestmidlands huge fire at Wholesale markets ablaze http://t.co/rwzbFVNXER@ablaze what time does your talk go until? I don't know if I can make it due to work.'I can't have kids cuz I got in a bicycle accident &amp; split my testicles. it's impossible for me to have kids' MICHAEL YOU ARE THE FATHERAccident on I-24 W #NashvilleTraffic. Traffic mov\""
      ]
     },
     "execution_count": 54,
     "metadata": {},
     "output_type": "execute_result"
    }
   ],
   "source": [
    "corpus = \"\".join(corpus)\n",
    "corpus[:5000]"
   ]
  },
  {
   "cell_type": "code",
   "execution_count": 55,
   "id": "8af82dab",
   "metadata": {
    "ExecuteTime": {
     "end_time": "2022-06-27T15:59:23.958323Z",
     "start_time": "2022-06-27T15:59:23.902795Z"
    }
   },
   "outputs": [
    {
     "data": {
      "text/plain": [
       "['deeds',\n",
       " 'reason',\n",
       " 'earthquake',\n",
       " 'may',\n",
       " 'allah',\n",
       " 'forgive',\n",
       " 'us',\n",
       " 'allforest',\n",
       " 'fire',\n",
       " 'near',\n",
       " 'la',\n",
       " 'ronge',\n",
       " 'sask',\n",
       " 'canadaall',\n",
       " 'residents',\n",
       " 'asked',\n",
       " 'shelter',\n",
       " 'place',\n",
       " 'notified',\n",
       " 'officers',\n",
       " 'evacuation',\n",
       " 'shelter',\n",
       " 'place',\n",
       " 'orders',\n",
       " 'expected13',\n",
       " '000',\n",
       " 'people',\n",
       " 'receive',\n",
       " 'wildfires',\n",
       " 'evacuation',\n",
       " 'orders',\n",
       " 'california',\n",
       " 'got',\n",
       " 'sent',\n",
       " 'photo',\n",
       " 'ruby',\n",
       " 'alaska',\n",
       " 'smoke',\n",
       " 'wildfires',\n",
       " 'pours',\n",
       " 'school',\n",
       " 'rockyfire',\n",
       " 'update',\n",
       " 'california',\n",
       " 'hwy',\n",
       " '20',\n",
       " 'closed',\n",
       " 'directions',\n",
       " 'due',\n",
       " 'lake',\n",
       " 'county',\n",
       " 'fire',\n",
       " 'cafire',\n",
       " 'wildfires',\n",
       " 'flood',\n",
       " 'disaster',\n",
       " 'heavy',\n",
       " 'rain',\n",
       " 'causes',\n",
       " 'flash',\n",
       " 'flooding',\n",
       " 'streets',\n",
       " 'manitou',\n",
       " 'colorado',\n",
       " 'springs',\n",
       " 'areasi',\n",
       " 'top',\n",
       " 'hill',\n",
       " 'see',\n",
       " 'fire',\n",
       " 'woods',\n",
       " 'emergency',\n",
       " 'evacuation',\n",
       " 'happening',\n",
       " 'building',\n",
       " 'across',\n",
       " 'streeti',\n",
       " 'afraid',\n",
       " 'tornado',\n",
       " 'coming',\n",
       " 'area',\n",
       " 'three',\n",
       " 'people',\n",
       " 'died',\n",
       " 'heat',\n",
       " 'wave',\n",
       " 'farhaha',\n",
       " 'south',\n",
       " 'tampa',\n",
       " 'getting',\n",
       " 'flooded',\n",
       " 'hah',\n",
       " 'wait',\n",
       " 'second',\n",
       " 'live',\n",
       " 'south',\n",
       " 'tampa',\n",
       " 'gonna',\n",
       " 'gonna',\n",
       " 'fvck',\n",
       " 'flooding',\n",
       " 'raining',\n",
       " 'flooding',\n",
       " 'florida',\n",
       " 'tampabay',\n",
       " 'tampa',\n",
       " '18',\n",
       " '19',\n",
       " 'days',\n",
       " 'lost',\n",
       " 'count',\n",
       " 'flood',\n",
       " 'bago',\n",
       " 'myanmar',\n",
       " 'arrived',\n",
       " 'bagodamage',\n",
       " 'school',\n",
       " 'bus',\n",
       " '80',\n",
       " 'multi',\n",
       " 'car',\n",
       " 'crash',\n",
       " 'breaking',\n",
       " 'man',\n",
       " 'love',\n",
       " 'fruitssummer',\n",
       " 'lovelymy',\n",
       " 'car',\n",
       " 'fastwhat',\n",
       " 'goooooooaaaaaal',\n",
       " 'ridiculous',\n",
       " 'london',\n",
       " 'cool',\n",
       " 'love',\n",
       " 'skiingwhat',\n",
       " 'wonderful',\n",
       " 'day',\n",
       " 'loooooolno',\n",
       " 'way',\n",
       " 'eat',\n",
       " 'shitwas',\n",
       " 'nyc',\n",
       " 'last',\n",
       " 'week',\n",
       " 'love',\n",
       " 'girlfriendcooool',\n",
       " 'like',\n",
       " 'pasta',\n",
       " 'end',\n",
       " 'bbcmtd',\n",
       " 'wholesale',\n",
       " 'markets',\n",
       " 'ablaze',\n",
       " 'http',\n",
       " 'co',\n",
       " 'lhyxeohy6cwe',\n",
       " 'always',\n",
       " 'try',\n",
       " 'bring',\n",
       " 'heavy',\n",
       " 'metal',\n",
       " 'rt',\n",
       " 'http',\n",
       " 'co',\n",
       " 'yao1e0xngw',\n",
       " 'africanbaze',\n",
       " 'breaking',\n",
       " 'news',\n",
       " 'nigeria',\n",
       " 'flag',\n",
       " 'set',\n",
       " 'ablaze',\n",
       " 'aba',\n",
       " 'http',\n",
       " 'co',\n",
       " '2nndbgwyeicrying',\n",
       " 'set',\n",
       " 'ablazeon',\n",
       " 'plus',\n",
       " 'side',\n",
       " 'look',\n",
       " 'sky',\n",
       " 'last',\n",
       " 'night',\n",
       " 'ablaze',\n",
       " 'http',\n",
       " 'co',\n",
       " 'qqsmshaj3n',\n",
       " 'phdsquares',\n",
       " 'mufc',\n",
       " 'built',\n",
       " 'much',\n",
       " 'hype',\n",
       " 'around',\n",
       " 'new',\n",
       " 'acquisitions',\n",
       " 'doubt',\n",
       " 'set',\n",
       " 'epl',\n",
       " 'ablaze',\n",
       " 'season',\n",
       " 'inec',\n",
       " 'office',\n",
       " 'abia',\n",
       " 'set',\n",
       " 'ablaze',\n",
       " 'http',\n",
       " 'co',\n",
       " '3imaomknnabarbados',\n",
       " 'bridgetown',\n",
       " 'jamaica',\n",
       " 'ûò',\n",
       " 'two',\n",
       " 'cars',\n",
       " 'set',\n",
       " 'ablaze',\n",
       " 'santa',\n",
       " 'cruz',\n",
       " 'ûó',\n",
       " 'head',\n",
       " 'st',\n",
       " 'elizabeth',\n",
       " 'police',\n",
       " 'superintende',\n",
       " 'http',\n",
       " 'co',\n",
       " 'wdueaj8q4jablaze',\n",
       " 'lord',\n",
       " 'dcheck',\n",
       " 'http',\n",
       " 'co',\n",
       " 'roi2nsmejj',\n",
       " 'http',\n",
       " 'co',\n",
       " '3tj8zjin21',\n",
       " 'http',\n",
       " 'co',\n",
       " 'yduixefipe',\n",
       " 'http',\n",
       " 'co',\n",
       " 'lxtjc87kls',\n",
       " 'nsfwon',\n",
       " 'outside',\n",
       " 'ablaze',\n",
       " 'alive',\n",
       " 'dead',\n",
       " 'insidehad',\n",
       " 'awesome',\n",
       " 'time',\n",
       " 'visiting',\n",
       " 'cfc',\n",
       " 'head',\n",
       " 'office',\n",
       " 'ancop',\n",
       " 'site',\n",
       " 'ablaze',\n",
       " 'thanks',\n",
       " 'tita',\n",
       " 'vida',\n",
       " 'taking',\n",
       " 'care',\n",
       " 'us',\n",
       " 'soooo',\n",
       " 'pumped',\n",
       " 'ablaze',\n",
       " 'southridgelifei',\n",
       " 'wanted',\n",
       " 'set',\n",
       " 'chicago',\n",
       " 'ablaze',\n",
       " 'preaching',\n",
       " 'hotel',\n",
       " 'http',\n",
       " 'co',\n",
       " 'o9qknbfofxi',\n",
       " 'gained',\n",
       " '3',\n",
       " 'followers',\n",
       " 'last',\n",
       " 'week',\n",
       " 'know',\n",
       " 'stats',\n",
       " 'grow',\n",
       " 'http',\n",
       " 'co',\n",
       " 'tiyulif5c6how',\n",
       " 'west',\n",
       " 'burned',\n",
       " 'thousands',\n",
       " 'wildfires',\n",
       " 'ablaze',\n",
       " 'california',\n",
       " 'alone',\n",
       " 'http',\n",
       " 'co',\n",
       " 'vl5tbr3wbrbuilding',\n",
       " 'perfect',\n",
       " 'tracklist',\n",
       " 'life',\n",
       " 'leave',\n",
       " 'streets',\n",
       " 'ablazecheck',\n",
       " 'http',\n",
       " 'co',\n",
       " 'roi2nsmejj',\n",
       " 'http',\n",
       " 'co',\n",
       " '3tj8zjin21',\n",
       " 'http',\n",
       " 'co',\n",
       " 'yduixefipe',\n",
       " 'http',\n",
       " 'co',\n",
       " 'lxtjc87kls',\n",
       " 'nsfwfirst',\n",
       " 'night',\n",
       " 'retainers',\n",
       " 'quite',\n",
       " 'weird',\n",
       " 'better',\n",
       " 'get',\n",
       " 'used',\n",
       " 'wear',\n",
       " 'every',\n",
       " 'single',\n",
       " 'night',\n",
       " 'next',\n",
       " 'year',\n",
       " 'least',\n",
       " 'deputies',\n",
       " 'man',\n",
       " 'shot',\n",
       " 'brighton',\n",
       " 'home',\n",
       " 'set',\n",
       " 'ablaze',\n",
       " 'http',\n",
       " 'co',\n",
       " 'gwnrhmso8kman',\n",
       " 'wife',\n",
       " 'get',\n",
       " 'six',\n",
       " 'years',\n",
       " 'jail',\n",
       " 'setting',\n",
       " 'ablaze',\n",
       " 'niece',\n",
       " 'http',\n",
       " 'co',\n",
       " 'ev1ahouczasanta',\n",
       " 'cruz',\n",
       " 'ûó',\n",
       " 'head',\n",
       " 'st',\n",
       " 'elizabeth',\n",
       " 'police',\n",
       " 'superintendent',\n",
       " 'lanford',\n",
       " 'salmon',\n",
       " 'r',\n",
       " 'http',\n",
       " 'co',\n",
       " 'vplr5hka2u',\n",
       " 'http',\n",
       " 'co',\n",
       " 'sxhw2tnnlfpolice',\n",
       " 'arsonist',\n",
       " 'deliberately',\n",
       " 'set',\n",
       " 'black',\n",
       " 'church',\n",
       " 'north',\n",
       " 'carolinaåêablaze',\n",
       " 'http',\n",
       " 'co',\n",
       " 'pcxarbh9annoches',\n",
       " 'el',\n",
       " 'bestia',\n",
       " 'alexis_sanchez',\n",
       " 'happy',\n",
       " 'see',\n",
       " 'teammates',\n",
       " 'training',\n",
       " 'hard',\n",
       " 'goodnight',\n",
       " 'gunners',\n",
       " 'http',\n",
       " 'co',\n",
       " 'uc4j4jhvgr',\n",
       " 'kurds',\n",
       " 'trampling',\n",
       " 'turkmen',\n",
       " 'flag',\n",
       " 'later',\n",
       " 'set',\n",
       " 'ablaze',\n",
       " 'others',\n",
       " 'vandalized',\n",
       " 'offices',\n",
       " 'turkmen',\n",
       " 'front',\n",
       " 'diyala',\n",
       " 'http',\n",
       " 'co',\n",
       " '4izfdyc3cgtruck',\n",
       " 'ablaze',\n",
       " 'r21',\n",
       " 'voortrekker',\n",
       " 'ave',\n",
       " 'outside',\n",
       " 'tambo',\n",
       " 'intl',\n",
       " 'cargo',\n",
       " 'section',\n",
       " 'http',\n",
       " 'co',\n",
       " '8kscqkfkkfset',\n",
       " 'hearts',\n",
       " 'ablaze',\n",
       " 'every',\n",
       " 'city',\n",
       " 'gift',\n",
       " 'every',\n",
       " 'skyline',\n",
       " 'like',\n",
       " 'kiss',\n",
       " 'upon',\n",
       " 'lips',\n",
       " 'û_',\n",
       " 'https',\n",
       " 'co',\n",
       " 'cyompz1a0zthey',\n",
       " 'sky',\n",
       " 'ablaze',\n",
       " 'tonight',\n",
       " 'los',\n",
       " 'angeles',\n",
       " 'expecting',\n",
       " 'ig',\n",
       " 'fb',\n",
       " 'filled',\n",
       " 'sunset',\n",
       " 'shots',\n",
       " 'know',\n",
       " 'peeps',\n",
       " 'west',\n",
       " 'burned',\n",
       " 'thousands',\n",
       " 'wildfires',\n",
       " 'ablaze',\n",
       " 'california',\n",
       " 'alone',\n",
       " 'http',\n",
       " 'co',\n",
       " 'icsjgz9te1',\n",
       " 'climate',\n",
       " 'energy',\n",
       " 'http',\n",
       " 'co',\n",
       " '9fxmn0l0bdrevel',\n",
       " 'wmv',\n",
       " 'videos',\n",
       " 'means',\n",
       " 'mac',\n",
       " 'farewell',\n",
       " 'ablaze',\n",
       " 'wmv',\n",
       " 'en',\n",
       " 'route',\n",
       " 'dvd',\n",
       " 'gtxrwmprogressive',\n",
       " 'greetings',\n",
       " 'month',\n",
       " 'students',\n",
       " 'would',\n",
       " 'set',\n",
       " 'pens',\n",
       " 'ablaze',\n",
       " 'torch',\n",
       " 'publications',\n",
       " 'http',\n",
       " 'co',\n",
       " '9fxpixqujtrene',\n",
       " 'ablaze',\n",
       " 'amp',\n",
       " 'jacinta',\n",
       " 'secret',\n",
       " '2k13',\n",
       " 'fallen',\n",
       " 'skies',\n",
       " 'edit',\n",
       " 'mar',\n",
       " '30',\n",
       " '2013',\n",
       " 'https',\n",
       " 'co',\n",
       " '7mlmsuzv1z',\n",
       " 'navista7',\n",
       " 'steve',\n",
       " 'fires',\n",
       " 'something',\n",
       " 'else',\n",
       " 'california',\n",
       " 'tinderbox',\n",
       " 'clown',\n",
       " 'setting',\n",
       " 'hood',\n",
       " 'ablaze',\n",
       " 'news24680',\n",
       " 'nowplaying',\n",
       " 'rene',\n",
       " 'ablaze',\n",
       " 'amp',\n",
       " 'ian',\n",
       " 'buff',\n",
       " 'magnitude',\n",
       " 'http',\n",
       " 'co',\n",
       " 'av2jsjfftc',\n",
       " 'edm',\n",
       " 'nxwestmidlands',\n",
       " 'huge',\n",
       " 'fire',\n",
       " 'wholesale',\n",
       " 'markets',\n",
       " 'ablaze',\n",
       " 'http',\n",
       " 'co',\n",
       " 'rwzbfvnxer',\n",
       " 'ablaze',\n",
       " 'time',\n",
       " 'talk',\n",
       " 'go',\n",
       " 'know',\n",
       " 'make',\n",
       " 'due',\n",
       " 'work',\n",
       " 'kids',\n",
       " 'cuz',\n",
       " 'got',\n",
       " 'bicycle',\n",
       " 'accident',\n",
       " 'amp',\n",
       " 'split',\n",
       " 'testicles',\n",
       " 'impossible',\n",
       " 'kids',\n",
       " 'michael',\n",
       " 'fatheraccident',\n",
       " '24',\n",
       " 'w',\n",
       " 'nashvilletraffic',\n",
       " 'traffic',\n",
       " 'moving',\n",
       " '8m',\n",
       " 'slower',\n",
       " 'usual',\n",
       " 'https',\n",
       " 'co',\n",
       " '0ghk693egjaccident',\n",
       " 'center',\n",
       " 'lane',\n",
       " 'blocked',\n",
       " 'santaclara',\n",
       " 'us',\n",
       " '101',\n",
       " 'nb',\n",
       " 'great',\n",
       " 'america',\n",
       " 'pkwy',\n",
       " 'bayarea',\n",
       " 'traffic',\n",
       " 'http',\n",
       " 'co',\n",
       " 'pmlohzurwrhttp',\n",
       " 'co',\n",
       " 'gkye6gjtk5',\n",
       " 'personalinjury',\n",
       " 'accident',\n",
       " 'summer',\n",
       " 'read',\n",
       " 'advice',\n",
       " 'amp',\n",
       " 'see',\n",
       " 'solicitor',\n",
       " 'help',\n",
       " 'otleyhour',\n",
       " 'stlouis',\n",
       " 'caraccidentlawyer',\n",
       " 'speeding',\n",
       " 'among',\n",
       " 'top',\n",
       " 'causes',\n",
       " 'teen',\n",
       " 'accidents',\n",
       " 'https',\n",
       " 'co',\n",
       " 'k4zomof319',\n",
       " 'https',\n",
       " 'co',\n",
       " 's2kxvm0cba',\n",
       " 'car',\n",
       " 'accident',\n",
       " 'tee',\n",
       " 'û_reported',\n",
       " 'motor',\n",
       " 'vehicle',\n",
       " 'accident',\n",
       " 'curry',\n",
       " 'herman',\n",
       " 'rd',\n",
       " 'near',\n",
       " 'stephenson',\n",
       " 'involving',\n",
       " 'overturned',\n",
       " 'vehicle',\n",
       " 'please',\n",
       " 'use',\n",
       " 'http',\n",
       " 'co',\n",
       " 'ybjezkurw1bigrigradio',\n",
       " 'live',\n",
       " 'accident',\n",
       " 'awarenessi',\n",
       " '77',\n",
       " 'mile',\n",
       " 'marker',\n",
       " '31',\n",
       " 'south',\n",
       " 'mooresville',\n",
       " 'iredell',\n",
       " 'vehicle',\n",
       " 'accident',\n",
       " 'ramp',\n",
       " 'closed',\n",
       " '8',\n",
       " '6',\n",
       " '1',\n",
       " '18',\n",
       " 'pmrt',\n",
       " 'sleepjunkies',\n",
       " 'sleeping',\n",
       " 'pills',\n",
       " 'double',\n",
       " 'risk',\n",
       " 'car',\n",
       " 'accident',\n",
       " 'http',\n",
       " 'co',\n",
       " '7s9nm1fict',\n",
       " 'accident',\n",
       " 'knew',\n",
       " 'gon',\n",
       " 'happen',\n",
       " 'https',\n",
       " 'co',\n",
       " 'ysxun5vcehtraffic',\n",
       " 'accident',\n",
       " 'n',\n",
       " 'cabrillo',\n",
       " 'hwy',\n",
       " 'magellan',\n",
       " 'av',\n",
       " 'mir',\n",
       " '08',\n",
       " '06',\n",
       " '15',\n",
       " '11',\n",
       " '03',\n",
       " '58',\n",
       " '77',\n",
       " 'mile',\n",
       " 'marker',\n",
       " '31',\n",
       " '40',\n",
       " 'south',\n",
       " 'mooresville',\n",
       " 'iredell',\n",
       " 'vehicle',\n",
       " 'accident',\n",
       " 'congestion',\n",
       " '8',\n",
       " '6',\n",
       " '1',\n",
       " '18',\n",
       " 'pmthe',\n",
       " 'pastor',\n",
       " 'scene',\n",
       " 'accident',\n",
       " 'owner',\n",
       " 'range',\n",
       " 'rover',\n",
       " 'mom',\n",
       " 'get',\n",
       " 'home',\n",
       " 'fast',\n",
       " 'wished',\n",
       " 'mom',\n",
       " 'accident',\n",
       " 'truck',\n",
       " 'spilt',\n",
       " 'mayonnaise',\n",
       " 'horrible',\n",
       " 'car',\n",
       " 'accident',\n",
       " 'past',\n",
       " 'sunday',\n",
       " 'finally',\n",
       " 'able',\n",
       " 'get',\n",
       " 'around',\n",
       " 'thank',\n",
       " 'god',\n",
       " 'wait',\n",
       " 'see',\n",
       " 'pissed',\n",
       " 'donnie',\n",
       " 'tell',\n",
       " 'another',\n",
       " 'accident',\n",
       " 'truckcrash',\n",
       " 'overturns',\n",
       " 'fortworth',\n",
       " 'interstate',\n",
       " 'http',\n",
       " 'co',\n",
       " 'rs22lj4qfp',\n",
       " 'click',\n",
       " 'crash',\n",
       " 'gt',\n",
       " 'http',\n",
       " 'co',\n",
       " 'ld0uniyw4kaccident',\n",
       " 'ashville',\n",
       " 'us',\n",
       " '23',\n",
       " 'sb',\n",
       " 'sr',\n",
       " '752',\n",
       " 'traffic',\n",
       " 'http',\n",
       " 'co',\n",
       " 'hylmo0wgficarolina',\n",
       " 'accident',\n",
       " 'motorcyclist',\n",
       " 'dies',\n",
       " '540',\n",
       " 'crash',\n",
       " 'car',\n",
       " 'crossed',\n",
       " 'median',\n",
       " 'motorcycle',\n",
       " 'rider',\n",
       " 'traveling',\n",
       " 'http',\n",
       " 'co',\n",
       " 'p18lzrlmy6fyi',\n",
       " 'cad',\n",
       " 'fyi',\n",
       " 'accident',\n",
       " 'property',\n",
       " 'damage',\n",
       " 'nhs',\n",
       " '999',\n",
       " 'piner',\n",
       " 'rd',\n",
       " 'horndale',\n",
       " 'drrt',\n",
       " 'naayf',\n",
       " 'first',\n",
       " 'accident',\n",
       " 'years',\n",
       " 'turning',\n",
       " 'onto',\n",
       " 'chandanee',\n",
       " 'magu',\n",
       " 'near',\n",
       " 'mma',\n",
       " 'taxi',\n",
       " 'rammed',\n",
       " 'halfway',\n",
       " 'turned',\n",
       " 'everyone',\n",
       " 'conf',\n",
       " 'û_accident',\n",
       " 'left',\n",
       " 'lane',\n",
       " 'blocked',\n",
       " 'manchester',\n",
       " 'rt',\n",
       " '293',\n",
       " 'nb',\n",
       " 'eddy',\n",
       " 'rd',\n",
       " 'stop',\n",
       " 'go',\n",
       " 'traffic',\n",
       " 'back',\n",
       " 'nh',\n",
       " '3a',\n",
       " 'delay',\n",
       " '4',\n",
       " 'mins',\n",
       " 'traffic',\n",
       " 'accident',\n",
       " 'property',\n",
       " 'damage',\n",
       " 'piner',\n",
       " 'rd',\n",
       " 'horndale',\n",
       " 'dr',\n",
       " 'accident',\n",
       " 'http',\n",
       " 'co',\n",
       " 'oia5fxi4gmfyi',\n",
       " 'cad',\n",
       " 'fyi',\n",
       " 'accident',\n",
       " 'property',\n",
       " 'damage',\n",
       " 'wpd',\n",
       " '1600',\n",
       " '17th',\n",
       " 'st8',\n",
       " '6',\n",
       " '2015',\n",
       " '2',\n",
       " '09',\n",
       " 'pm',\n",
       " 'traffic',\n",
       " 'accident',\n",
       " 'injury',\n",
       " '2781',\n",
       " 'willis',\n",
       " 'foreman',\n",
       " 'rd',\n",
       " 'http',\n",
       " 'co',\n",
       " 'vckit6edevaashiqui',\n",
       " 'actress',\n",
       " 'anu',\n",
       " 'aggarwal',\n",
       " 'near',\n",
       " 'fatal',\n",
       " 'accident',\n",
       " 'http',\n",
       " 'co',\n",
       " '6otfp31lqwsuffield',\n",
       " 'alberta',\n",
       " 'accident',\n",
       " 'https',\n",
       " 'co',\n",
       " 'bptmlf4p109',\n",
       " 'mile',\n",
       " 'backup',\n",
       " '77',\n",
       " 'south',\n",
       " 'accident',\n",
       " 'blocking',\n",
       " 'right',\n",
       " '2',\n",
       " 'lanes',\n",
       " 'exit',\n",
       " '31',\n",
       " 'langtree',\n",
       " 'rd',\n",
       " 'consider',\n",
       " 'nc',\n",
       " '115',\n",
       " 'nc',\n",
       " '150',\n",
       " 'nc',\n",
       " '16',\n",
       " 'alternatehas',\n",
       " 'accident',\n",
       " 'changed',\n",
       " 'life',\n",
       " 'help',\n",
       " 'determine',\n",
       " 'options',\n",
       " 'financially',\n",
       " 'support',\n",
       " 'life',\n",
       " 'care',\n",
       " 'plans',\n",
       " 'going',\n",
       " 'treatment',\n",
       " 'breaking',\n",
       " 'deadly',\n",
       " 'motorcycle',\n",
       " 'car',\n",
       " 'accident',\n",
       " 'happened',\n",
       " 'hagerstown',\n",
       " 'today',\n",
       " 'details',\n",
       " '5',\n",
       " 'your4state',\n",
       " 'whag',\n",
       " 'flowri',\n",
       " 'marinading',\n",
       " 'accident',\n",
       " 'car',\n",
       " 'even',\n",
       " 'week',\n",
       " 'got',\n",
       " 'fucking',\n",
       " 'car',\n",
       " 'accident',\n",
       " 'mfs',\n",
       " 'fucking',\n",
       " 'drive',\n",
       " 'norwaymfa',\n",
       " 'bahrain',\n",
       " 'police',\n",
       " 'previously',\n",
       " 'died',\n",
       " 'road',\n",
       " 'accident',\n",
       " 'killed',\n",
       " 'explosion',\n",
       " 'https',\n",
       " 'co',\n",
       " 'gfjfgtodadi',\n",
       " 'still',\n",
       " 'heard',\n",
       " 'church',\n",
       " 'leaders',\n",
       " 'kenya',\n",
       " 'coming',\n",
       " 'forward',\n",
       " 'comment',\n",
       " 'accident',\n",
       " 'issue',\n",
       " 'disciplinary',\n",
       " 'measures',\n",
       " 'arrestpastornganga',\n",
       " 'aftershock_delo',\n",
       " 'scuf',\n",
       " 'ps',\n",
       " 'live',\n",
       " 'game',\n",
       " 'cya',\n",
       " 'man',\n",
       " 'drive',\n",
       " 'effort',\n",
       " 'gets',\n",
       " 'painful',\n",
       " 'man',\n",
       " 'win',\n",
       " 'roger',\n",
       " 'bannister320',\n",
       " 'ir',\n",
       " 'icemoon',\n",
       " 'aftershock',\n",
       " 'http',\n",
       " 'co',\n",
       " 'ynxnvvkcda',\n",
       " 'djicemoon',\n",
       " 'dubstep',\n",
       " 'trapmusic',\n",
       " 'dnb',\n",
       " 'edm',\n",
       " 'dance',\n",
       " 'ices',\n",
       " 'û_',\n",
       " 'http',\n",
       " 'co',\n",
       " 'weqpesenku',\n",
       " 'victory',\n",
       " 'bargain',\n",
       " 'basement',\n",
       " 'prices',\n",
       " 'dwight',\n",
       " 'david',\n",
       " 'eisenhower320',\n",
       " 'ir',\n",
       " 'icemoon',\n",
       " 'aftershock',\n",
       " 'http',\n",
       " 'co',\n",
       " 'vam5podgyw',\n",
       " 'djicemoon',\n",
       " 'dubstep',\n",
       " 'trapmusic',\n",
       " 'dnb',\n",
       " 'edm',\n",
       " 'dance',\n",
       " 'ices',\n",
       " 'û_',\n",
       " 'http',\n",
       " 'co',\n",
       " 'zevakjapcz',\n",
       " 'nobody',\n",
       " 'remembers',\n",
       " 'came',\n",
       " 'second',\n",
       " 'charles',\n",
       " 'schulz',\n",
       " 'aftershock_delo',\n",
       " ...]"
      ]
     },
     "execution_count": 55,
     "metadata": {},
     "output_type": "execute_result"
    }
   ],
   "source": [
    "cleaned_corpus = process_text(corpus)\n",
    "cleaned_corpus"
   ]
  },
  {
   "cell_type": "code",
   "execution_count": 56,
   "id": "facd87a0",
   "metadata": {
    "ExecuteTime": {
     "end_time": "2022-06-27T15:59:27.604083Z",
     "start_time": "2022-06-27T15:59:27.598285Z"
    }
   },
   "outputs": [
    {
     "data": {
      "text/plain": [
       "83858"
      ]
     },
     "execution_count": 56,
     "metadata": {},
     "output_type": "execute_result"
    }
   ],
   "source": [
    "len(cleaned_corpus)"
   ]
  },
  {
   "cell_type": "code",
   "execution_count": 61,
   "id": "3202abe3",
   "metadata": {
    "ExecuteTime": {
     "end_time": "2022-06-27T16:02:32.074793Z",
     "start_time": "2022-06-27T16:02:32.048083Z"
    }
   },
   "outputs": [
    {
     "data": {
      "text/plain": [
       "co             4740\n",
       "http           4263\n",
       "https           408\n",
       "amp             344\n",
       "like            343\n",
       "               ... \n",
       "appalling         1\n",
       "businessmen       1\n",
       "jlwhaowfqa        1\n",
       "saveti            1\n",
       "ymy4rskq3d        1\n",
       "Length: 22486, dtype: int64"
      ]
     },
     "execution_count": 61,
     "metadata": {},
     "output_type": "execute_result"
    }
   ],
   "source": [
    "tmp = pd.Series(cleaned_corpus).value_counts()\n",
    "tmp"
   ]
  },
  {
   "cell_type": "code",
   "execution_count": 60,
   "id": "8aeaf615",
   "metadata": {
    "ExecuteTime": {
     "end_time": "2022-06-27T16:02:23.559924Z",
     "start_time": "2022-06-27T16:02:23.470230Z"
    }
   },
   "outputs": [
    {
     "data": {
      "text/plain": [
       "<AxesSubplot:>"
      ]
     },
     "execution_count": 60,
     "metadata": {},
     "output_type": "execute_result"
    },
    {
     "data": {
      "image/png": "[encoded data removed]",
      "text/plain": [
       "<Figure size 432x288 with 1 Axes>"
      ]
     },
     "metadata": {
      "needs_background": "light"
     },
     "output_type": "display_data"
    }
   ],
   "source": [
    "ser = pd.Series({\"a\":12, \"b\":131, \"c\" :45})\n",
    "sns.barplot(x=ser.index, y=ser.values)"
   ]
  },
  {
   "cell_type": "code",
   "execution_count": 59,
   "id": "09bcb5ba",
   "metadata": {
    "ExecuteTime": {
     "end_time": "2022-06-27T16:01:42.606917Z",
     "start_time": "2022-06-27T16:01:12.232032Z"
    }
   },
   "outputs": [
    {
     "name": "stderr",
     "output_type": "stream",
     "text": [
      "\n",
      "KeyboardInterrupt\n",
      "\n"
     ]
    },
    {
     "name": "stdout",
     "output_type": "stream",
     "text": [
      "Error in callback <function flush_figures at 0x7f4a44f53550> (for post_execute):\n"
     ]
    },
    {
     "ename": "KeyboardInterrupt",
     "evalue": "",
     "output_type": "error",
     "traceback": [
      "\u001b[0;31m---------------------------------------------------------------------------\u001b[0m",
      "\u001b[0;31mKeyboardInterrupt\u001b[0m                         Traceback (most recent call last)",
      "File \u001b[0;32m~/Desktop/ocr-donnees-textuelles/env/lib/python3.8/site-packages/matplotlib_inline/backend_inline.py:121\u001b[0m, in \u001b[0;36mflush_figures\u001b[0;34m()\u001b[0m\n\u001b[1;32m    118\u001b[0m \u001b[38;5;28;01mif\u001b[39;00m InlineBackend\u001b[38;5;241m.\u001b[39minstance()\u001b[38;5;241m.\u001b[39mclose_figures:\n\u001b[1;32m    119\u001b[0m     \u001b[38;5;66;03m# ignore the tracking, just draw and close all figures\u001b[39;00m\n\u001b[1;32m    120\u001b[0m     \u001b[38;5;28;01mtry\u001b[39;00m:\n\u001b[0;32m--> 121\u001b[0m         \u001b[38;5;28;01mreturn\u001b[39;00m \u001b[43mshow\u001b[49m\u001b[43m(\u001b[49m\u001b[38;5;28;43;01mTrue\u001b[39;49;00m\u001b[43m)\u001b[49m\n\u001b[1;32m    122\u001b[0m     \u001b[38;5;28;01mexcept\u001b[39;00m \u001b[38;5;167;01mException\u001b[39;00m \u001b[38;5;28;01mas\u001b[39;00m e:\n\u001b[1;32m    123\u001b[0m         \u001b[38;5;66;03m# safely show traceback if in IPython, else raise\u001b[39;00m\n\u001b[1;32m    124\u001b[0m         ip \u001b[38;5;241m=\u001b[39m get_ipython()\n",
      "File \u001b[0;32m~/Desktop/ocr-donnees-textuelles/env/lib/python3.8/site-packages/matplotlib_inline/backend_inline.py:43\u001b[0m, in \u001b[0;36mshow\u001b[0;34m(close, block)\u001b[0m\n\u001b[1;32m     39\u001b[0m \u001b[38;5;28;01mtry\u001b[39;00m:\n\u001b[1;32m     40\u001b[0m     \u001b[38;5;28;01mfor\u001b[39;00m figure_manager \u001b[38;5;129;01min\u001b[39;00m Gcf\u001b[38;5;241m.\u001b[39mget_all_fig_managers():\n\u001b[1;32m     41\u001b[0m         display(\n\u001b[1;32m     42\u001b[0m             figure_manager\u001b[38;5;241m.\u001b[39mcanvas\u001b[38;5;241m.\u001b[39mfigure,\n\u001b[0;32m---> 43\u001b[0m             metadata\u001b[38;5;241m=\u001b[39m\u001b[43m_fetch_figure_metadata\u001b[49m\u001b[43m(\u001b[49m\u001b[43mfigure_manager\u001b[49m\u001b[38;5;241;43m.\u001b[39;49m\u001b[43mcanvas\u001b[49m\u001b[38;5;241;43m.\u001b[39;49m\u001b[43mfigure\u001b[49m\u001b[43m)\u001b[49m\n\u001b[1;32m     44\u001b[0m         )\n\u001b[1;32m     45\u001b[0m \u001b[38;5;28;01mfinally\u001b[39;00m:\n\u001b[1;32m     46\u001b[0m     show\u001b[38;5;241m.\u001b[39m_to_draw \u001b[38;5;241m=\u001b[39m []\n",
      "File \u001b[0;32m~/Desktop/ocr-donnees-textuelles/env/lib/python3.8/site-packages/matplotlib_inline/backend_inline.py:231\u001b[0m, in \u001b[0;36m_fetch_figure_metadata\u001b[0;34m(fig)\u001b[0m\n\u001b[1;32m    228\u001b[0m \u001b[38;5;66;03m# determine if a background is needed for legibility\u001b[39;00m\n\u001b[1;32m    229\u001b[0m \u001b[38;5;28;01mif\u001b[39;00m _is_transparent(fig\u001b[38;5;241m.\u001b[39mget_facecolor()):\n\u001b[1;32m    230\u001b[0m     \u001b[38;5;66;03m# the background is transparent\u001b[39;00m\n\u001b[0;32m--> 231\u001b[0m     ticksLight \u001b[38;5;241m=\u001b[39m _is_light([label\u001b[38;5;241m.\u001b[39mget_color()\n\u001b[1;32m    232\u001b[0m                             \u001b[38;5;28;01mfor\u001b[39;00m axes \u001b[38;5;129;01min\u001b[39;00m fig\u001b[38;5;241m.\u001b[39maxes\n\u001b[1;32m    233\u001b[0m                             \u001b[38;5;28;01mfor\u001b[39;00m axis \u001b[38;5;129;01min\u001b[39;00m (axes\u001b[38;5;241m.\u001b[39mxaxis, axes\u001b[38;5;241m.\u001b[39myaxis)\n\u001b[1;32m    234\u001b[0m                             \u001b[38;5;28;01mfor\u001b[39;00m label \u001b[38;5;129;01min\u001b[39;00m axis\u001b[38;5;241m.\u001b[39mget_ticklabels()])\n\u001b[1;32m    235\u001b[0m     \u001b[38;5;28;01mif\u001b[39;00m ticksLight\u001b[38;5;241m.\u001b[39msize \u001b[38;5;129;01mand\u001b[39;00m (ticksLight \u001b[38;5;241m==\u001b[39m ticksLight[\u001b[38;5;241m0\u001b[39m])\u001b[38;5;241m.\u001b[39mall():\n\u001b[1;32m    236\u001b[0m         \u001b[38;5;66;03m# there are one or more tick labels, all with the same lightness\u001b[39;00m\n\u001b[1;32m    237\u001b[0m         \u001b[38;5;28;01mreturn\u001b[39;00m {\u001b[38;5;124m'\u001b[39m\u001b[38;5;124mneeds_background\u001b[39m\u001b[38;5;124m'\u001b[39m: \u001b[38;5;124m'\u001b[39m\u001b[38;5;124mdark\u001b[39m\u001b[38;5;124m'\u001b[39m \u001b[38;5;28;01mif\u001b[39;00m ticksLight[\u001b[38;5;241m0\u001b[39m] \u001b[38;5;28;01melse\u001b[39;00m \u001b[38;5;124m'\u001b[39m\u001b[38;5;124mlight\u001b[39m\u001b[38;5;124m'\u001b[39m}\n",
      "File \u001b[0;32m~/Desktop/ocr-donnees-textuelles/env/lib/python3.8/site-packages/matplotlib_inline/backend_inline.py:234\u001b[0m, in \u001b[0;36m<listcomp>\u001b[0;34m(.0)\u001b[0m\n\u001b[1;32m    228\u001b[0m \u001b[38;5;66;03m# determine if a background is needed for legibility\u001b[39;00m\n\u001b[1;32m    229\u001b[0m \u001b[38;5;28;01mif\u001b[39;00m _is_transparent(fig\u001b[38;5;241m.\u001b[39mget_facecolor()):\n\u001b[1;32m    230\u001b[0m     \u001b[38;5;66;03m# the background is transparent\u001b[39;00m\n\u001b[1;32m    231\u001b[0m     ticksLight \u001b[38;5;241m=\u001b[39m _is_light([label\u001b[38;5;241m.\u001b[39mget_color()\n\u001b[1;32m    232\u001b[0m                             \u001b[38;5;28;01mfor\u001b[39;00m axes \u001b[38;5;129;01min\u001b[39;00m fig\u001b[38;5;241m.\u001b[39maxes\n\u001b[1;32m    233\u001b[0m                             \u001b[38;5;28;01mfor\u001b[39;00m axis \u001b[38;5;129;01min\u001b[39;00m (axes\u001b[38;5;241m.\u001b[39mxaxis, axes\u001b[38;5;241m.\u001b[39myaxis)\n\u001b[0;32m--> 234\u001b[0m                             \u001b[38;5;28;01mfor\u001b[39;00m label \u001b[38;5;129;01min\u001b[39;00m \u001b[43maxis\u001b[49m\u001b[38;5;241;43m.\u001b[39;49m\u001b[43mget_ticklabels\u001b[49m\u001b[43m(\u001b[49m\u001b[43m)\u001b[49m])\n\u001b[1;32m    235\u001b[0m     \u001b[38;5;28;01mif\u001b[39;00m ticksLight\u001b[38;5;241m.\u001b[39msize \u001b[38;5;129;01mand\u001b[39;00m (ticksLight \u001b[38;5;241m==\u001b[39m ticksLight[\u001b[38;5;241m0\u001b[39m])\u001b[38;5;241m.\u001b[39mall():\n\u001b[1;32m    236\u001b[0m         \u001b[38;5;66;03m# there are one or more tick labels, all with the same lightness\u001b[39;00m\n\u001b[1;32m    237\u001b[0m         \u001b[38;5;28;01mreturn\u001b[39;00m {\u001b[38;5;124m'\u001b[39m\u001b[38;5;124mneeds_background\u001b[39m\u001b[38;5;124m'\u001b[39m: \u001b[38;5;124m'\u001b[39m\u001b[38;5;124mdark\u001b[39m\u001b[38;5;124m'\u001b[39m \u001b[38;5;28;01mif\u001b[39;00m ticksLight[\u001b[38;5;241m0\u001b[39m] \u001b[38;5;28;01melse\u001b[39;00m \u001b[38;5;124m'\u001b[39m\u001b[38;5;124mlight\u001b[39m\u001b[38;5;124m'\u001b[39m}\n",
      "File \u001b[0;32m~/Desktop/ocr-donnees-textuelles/env/lib/python3.8/site-packages/matplotlib/axis.py:1249\u001b[0m, in \u001b[0;36mAxis.get_ticklabels\u001b[0;34m(self, minor, which)\u001b[0m\n\u001b[1;32m   1247\u001b[0m \u001b[38;5;28;01mif\u001b[39;00m minor:\n\u001b[1;32m   1248\u001b[0m     \u001b[38;5;28;01mreturn\u001b[39;00m \u001b[38;5;28mself\u001b[39m\u001b[38;5;241m.\u001b[39mget_minorticklabels()\n\u001b[0;32m-> 1249\u001b[0m \u001b[38;5;28;01mreturn\u001b[39;00m \u001b[38;5;28;43mself\u001b[39;49m\u001b[38;5;241;43m.\u001b[39;49m\u001b[43mget_majorticklabels\u001b[49m\u001b[43m(\u001b[49m\u001b[43m)\u001b[49m\n",
      "File \u001b[0;32m~/Desktop/ocr-donnees-textuelles/env/lib/python3.8/site-packages/matplotlib/axis.py:1201\u001b[0m, in \u001b[0;36mAxis.get_majorticklabels\u001b[0;34m(self)\u001b[0m\n\u001b[1;32m   1199\u001b[0m \u001b[38;5;28;01mdef\u001b[39;00m \u001b[38;5;21mget_majorticklabels\u001b[39m(\u001b[38;5;28mself\u001b[39m):\n\u001b[1;32m   1200\u001b[0m     \u001b[38;5;124;03m\"\"\"Return this Axis' major tick labels, as a list of `~.text.Text`.\"\"\"\u001b[39;00m\n\u001b[0;32m-> 1201\u001b[0m     ticks \u001b[38;5;241m=\u001b[39m \u001b[38;5;28;43mself\u001b[39;49m\u001b[38;5;241;43m.\u001b[39;49m\u001b[43mget_major_ticks\u001b[49m\u001b[43m(\u001b[49m\u001b[43m)\u001b[49m\n\u001b[1;32m   1202\u001b[0m     labels1 \u001b[38;5;241m=\u001b[39m [tick\u001b[38;5;241m.\u001b[39mlabel1 \u001b[38;5;28;01mfor\u001b[39;00m tick \u001b[38;5;129;01min\u001b[39;00m ticks \u001b[38;5;28;01mif\u001b[39;00m tick\u001b[38;5;241m.\u001b[39mlabel1\u001b[38;5;241m.\u001b[39mget_visible()]\n\u001b[1;32m   1203\u001b[0m     labels2 \u001b[38;5;241m=\u001b[39m [tick\u001b[38;5;241m.\u001b[39mlabel2 \u001b[38;5;28;01mfor\u001b[39;00m tick \u001b[38;5;129;01min\u001b[39;00m ticks \u001b[38;5;28;01mif\u001b[39;00m tick\u001b[38;5;241m.\u001b[39mlabel2\u001b[38;5;241m.\u001b[39mget_visible()]\n",
      "File \u001b[0;32m~/Desktop/ocr-donnees-textuelles/env/lib/python3.8/site-packages/matplotlib/axis.py:1375\u001b[0m, in \u001b[0;36mAxis.get_major_ticks\u001b[0;34m(self, numticks)\u001b[0m\n\u001b[1;32m   1371\u001b[0m     numticks \u001b[38;5;241m=\u001b[39m \u001b[38;5;28mlen\u001b[39m(\u001b[38;5;28mself\u001b[39m\u001b[38;5;241m.\u001b[39mget_majorticklocs())\n\u001b[1;32m   1373\u001b[0m \u001b[38;5;28;01mwhile\u001b[39;00m \u001b[38;5;28mlen\u001b[39m(\u001b[38;5;28mself\u001b[39m\u001b[38;5;241m.\u001b[39mmajorTicks) \u001b[38;5;241m<\u001b[39m numticks:\n\u001b[1;32m   1374\u001b[0m     \u001b[38;5;66;03m# Update the new tick label properties from the old.\u001b[39;00m\n\u001b[0;32m-> 1375\u001b[0m     tick \u001b[38;5;241m=\u001b[39m \u001b[38;5;28;43mself\u001b[39;49m\u001b[38;5;241;43m.\u001b[39;49m\u001b[43m_get_tick\u001b[49m\u001b[43m(\u001b[49m\u001b[43mmajor\u001b[49m\u001b[38;5;241;43m=\u001b[39;49m\u001b[38;5;28;43;01mTrue\u001b[39;49;00m\u001b[43m)\u001b[49m\n\u001b[1;32m   1376\u001b[0m     \u001b[38;5;28mself\u001b[39m\u001b[38;5;241m.\u001b[39mmajorTicks\u001b[38;5;241m.\u001b[39mappend(tick)\n\u001b[1;32m   1377\u001b[0m     \u001b[38;5;28mself\u001b[39m\u001b[38;5;241m.\u001b[39m_copy_tick_props(\u001b[38;5;28mself\u001b[39m\u001b[38;5;241m.\u001b[39mmajorTicks[\u001b[38;5;241m0\u001b[39m], tick)\n",
      "File \u001b[0;32m~/Desktop/ocr-donnees-textuelles/env/lib/python3.8/site-packages/matplotlib/axis.py:2057\u001b[0m, in \u001b[0;36mXAxis._get_tick\u001b[0;34m(self, major)\u001b[0m\n\u001b[1;32m   2055\u001b[0m \u001b[38;5;28;01melse\u001b[39;00m:\n\u001b[1;32m   2056\u001b[0m     tick_kw \u001b[38;5;241m=\u001b[39m \u001b[38;5;28mself\u001b[39m\u001b[38;5;241m.\u001b[39m_minor_tick_kw\n\u001b[0;32m-> 2057\u001b[0m \u001b[38;5;28;01mreturn\u001b[39;00m \u001b[43mXTick\u001b[49m\u001b[43m(\u001b[49m\u001b[38;5;28;43mself\u001b[39;49m\u001b[38;5;241;43m.\u001b[39;49m\u001b[43maxes\u001b[49m\u001b[43m,\u001b[49m\u001b[43m \u001b[49m\u001b[38;5;241;43m0\u001b[39;49m\u001b[43m,\u001b[49m\u001b[43m \u001b[49m\u001b[43mmajor\u001b[49m\u001b[38;5;241;43m=\u001b[39;49m\u001b[43mmajor\u001b[49m\u001b[43m,\u001b[49m\u001b[43m \u001b[49m\u001b[38;5;241;43m*\u001b[39;49m\u001b[38;5;241;43m*\u001b[39;49m\u001b[43mtick_kw\u001b[49m\u001b[43m)\u001b[49m\n",
      "File \u001b[0;32m~/Desktop/ocr-donnees-textuelles/env/lib/python3.8/site-packages/matplotlib/axis.py:415\u001b[0m, in \u001b[0;36mXTick.__init__\u001b[0;34m(self, *args, **kwargs)\u001b[0m\n\u001b[1;32m    414\u001b[0m \u001b[38;5;28;01mdef\u001b[39;00m \u001b[38;5;21m__init__\u001b[39m(\u001b[38;5;28mself\u001b[39m, \u001b[38;5;241m*\u001b[39margs, \u001b[38;5;241m*\u001b[39m\u001b[38;5;241m*\u001b[39mkwargs):\n\u001b[0;32m--> 415\u001b[0m     \u001b[38;5;28;43msuper\u001b[39;49m\u001b[43m(\u001b[49m\u001b[43m)\u001b[49m\u001b[38;5;241;43m.\u001b[39;49m\u001b[38;5;21;43m__init__\u001b[39;49m\u001b[43m(\u001b[49m\u001b[38;5;241;43m*\u001b[39;49m\u001b[43margs\u001b[49m\u001b[43m,\u001b[49m\u001b[43m \u001b[49m\u001b[38;5;241;43m*\u001b[39;49m\u001b[38;5;241;43m*\u001b[39;49m\u001b[43mkwargs\u001b[49m\u001b[43m)\u001b[49m\n\u001b[1;32m    416\u001b[0m     \u001b[38;5;66;03m# x in data coords, y in axes coords\u001b[39;00m\n\u001b[1;32m    417\u001b[0m     ax \u001b[38;5;241m=\u001b[39m \u001b[38;5;28mself\u001b[39m\u001b[38;5;241m.\u001b[39maxes\n",
      "File \u001b[0;32m~/Desktop/ocr-donnees-textuelles/env/lib/python3.8/site-packages/matplotlib/axis.py:181\u001b[0m, in \u001b[0;36mTick.__init__\u001b[0;34m(self, axes, loc, size, width, color, tickdir, pad, labelsize, labelcolor, zorder, gridOn, tick1On, tick2On, label1On, label2On, major, labelrotation, grid_color, grid_linestyle, grid_linewidth, grid_alpha, **kw)\u001b[0m\n\u001b[1;32m    177\u001b[0m \u001b[38;5;28mself\u001b[39m\u001b[38;5;241m.\u001b[39m_apply_tickdir(tickdir)\n\u001b[1;32m    179\u001b[0m \u001b[38;5;28;01mfor\u001b[39;00m artist \u001b[38;5;129;01min\u001b[39;00m [\u001b[38;5;28mself\u001b[39m\u001b[38;5;241m.\u001b[39mtick1line, \u001b[38;5;28mself\u001b[39m\u001b[38;5;241m.\u001b[39mtick2line, \u001b[38;5;28mself\u001b[39m\u001b[38;5;241m.\u001b[39mgridline,\n\u001b[1;32m    180\u001b[0m                \u001b[38;5;28mself\u001b[39m\u001b[38;5;241m.\u001b[39mlabel1, \u001b[38;5;28mself\u001b[39m\u001b[38;5;241m.\u001b[39mlabel2]:\n\u001b[0;32m--> 181\u001b[0m     \u001b[38;5;28;43mself\u001b[39;49m\u001b[38;5;241;43m.\u001b[39;49m\u001b[43m_set_artist_props\u001b[49m\u001b[43m(\u001b[49m\u001b[43martist\u001b[49m\u001b[43m)\u001b[49m\n\u001b[1;32m    183\u001b[0m \u001b[38;5;28mself\u001b[39m\u001b[38;5;241m.\u001b[39mupdate_position(loc)\n",
      "File \u001b[0;32m~/Desktop/ocr-donnees-textuelles/env/lib/python3.8/site-packages/matplotlib/axis.py:341\u001b[0m, in \u001b[0;36mTick._set_artist_props\u001b[0;34m(self, a)\u001b[0m\n\u001b[1;32m    340\u001b[0m \u001b[38;5;28;01mdef\u001b[39;00m \u001b[38;5;21m_set_artist_props\u001b[39m(\u001b[38;5;28mself\u001b[39m, a):\n\u001b[0;32m--> 341\u001b[0m     \u001b[43ma\u001b[49m\u001b[38;5;241;43m.\u001b[39;49m\u001b[43mset_figure\u001b[49m\u001b[43m(\u001b[49m\u001b[38;5;28;43mself\u001b[39;49m\u001b[38;5;241;43m.\u001b[39;49m\u001b[43mfigure\u001b[49m\u001b[43m)\u001b[49m\n",
      "File \u001b[0;32m~/Desktop/ocr-donnees-textuelles/env/lib/python3.8/site-packages/matplotlib/artist.py:744\u001b[0m, in \u001b[0;36mArtist.set_figure\u001b[0;34m(self, fig)\u001b[0m\n\u001b[1;32m    742\u001b[0m \u001b[38;5;28mself\u001b[39m\u001b[38;5;241m.\u001b[39mfigure \u001b[38;5;241m=\u001b[39m fig\n\u001b[1;32m    743\u001b[0m \u001b[38;5;28;01mif\u001b[39;00m \u001b[38;5;28mself\u001b[39m\u001b[38;5;241m.\u001b[39mfigure \u001b[38;5;129;01mand\u001b[39;00m \u001b[38;5;28mself\u001b[39m\u001b[38;5;241m.\u001b[39mfigure \u001b[38;5;129;01mis\u001b[39;00m \u001b[38;5;129;01mnot\u001b[39;00m \u001b[38;5;28mself\u001b[39m:\n\u001b[0;32m--> 744\u001b[0m     \u001b[38;5;28;43mself\u001b[39;49m\u001b[38;5;241;43m.\u001b[39;49m\u001b[43mpchanged\u001b[49m\u001b[43m(\u001b[49m\u001b[43m)\u001b[49m\n\u001b[1;32m    745\u001b[0m \u001b[38;5;28mself\u001b[39m\u001b[38;5;241m.\u001b[39mstale \u001b[38;5;241m=\u001b[39m \u001b[38;5;28;01mTrue\u001b[39;00m\n",
      "File \u001b[0;32m~/Desktop/ocr-donnees-textuelles/env/lib/python3.8/site-packages/matplotlib/artist.py:416\u001b[0m, in \u001b[0;36mArtist.pchanged\u001b[0;34m(self)\u001b[0m\n\u001b[1;32m    405\u001b[0m \u001b[38;5;28;01mdef\u001b[39;00m \u001b[38;5;21mpchanged\u001b[39m(\u001b[38;5;28mself\u001b[39m):\n\u001b[1;32m    406\u001b[0m     \u001b[38;5;124;03m\"\"\"\u001b[39;00m\n\u001b[1;32m    407\u001b[0m \u001b[38;5;124;03m    Call all of the registered callbacks.\u001b[39;00m\n\u001b[1;32m    408\u001b[0m \n\u001b[0;32m   (...)\u001b[0m\n\u001b[1;32m    414\u001b[0m \u001b[38;5;124;03m    remove_callback\u001b[39;00m\n\u001b[1;32m    415\u001b[0m \u001b[38;5;124;03m    \"\"\"\u001b[39;00m\n\u001b[0;32m--> 416\u001b[0m     \u001b[38;5;28;43mself\u001b[39;49m\u001b[38;5;241;43m.\u001b[39;49m\u001b[43m_callbacks\u001b[49m\u001b[38;5;241;43m.\u001b[39;49m\u001b[43mprocess\u001b[49m\u001b[43m(\u001b[49m\u001b[38;5;124;43m\"\u001b[39;49m\u001b[38;5;124;43mpchanged\u001b[39;49m\u001b[38;5;124;43m\"\u001b[39;49m\u001b[43m)\u001b[49m\n",
      "File \u001b[0;32m~/Desktop/ocr-donnees-textuelles/env/lib/python3.8/site-packages/matplotlib/cbook/__init__.py:283\u001b[0m, in \u001b[0;36mCallbackRegistry.process\u001b[0;34m(self, s, *args, **kwargs)\u001b[0m\n\u001b[1;32m    276\u001b[0m \u001b[38;5;28;01mdef\u001b[39;00m \u001b[38;5;21mprocess\u001b[39m(\u001b[38;5;28mself\u001b[39m, s, \u001b[38;5;241m*\u001b[39margs, \u001b[38;5;241m*\u001b[39m\u001b[38;5;241m*\u001b[39mkwargs):\n\u001b[1;32m    277\u001b[0m     \u001b[38;5;124;03m\"\"\"\u001b[39;00m\n\u001b[1;32m    278\u001b[0m \u001b[38;5;124;03m    Process signal *s*.\u001b[39;00m\n\u001b[1;32m    279\u001b[0m \n\u001b[1;32m    280\u001b[0m \u001b[38;5;124;03m    All of the functions registered to receive callbacks on *s* will be\u001b[39;00m\n\u001b[1;32m    281\u001b[0m \u001b[38;5;124;03m    called with ``*args`` and ``**kwargs``.\u001b[39;00m\n\u001b[1;32m    282\u001b[0m \u001b[38;5;124;03m    \"\"\"\u001b[39;00m\n\u001b[0;32m--> 283\u001b[0m     \u001b[38;5;28;01mfor\u001b[39;00m cid, ref \u001b[38;5;129;01min\u001b[39;00m \u001b[38;5;28;43mlist\u001b[39;49m\u001b[43m(\u001b[49m\u001b[38;5;28;43mself\u001b[39;49m\u001b[38;5;241;43m.\u001b[39;49m\u001b[43mcallbacks\u001b[49m\u001b[38;5;241;43m.\u001b[39;49m\u001b[43mget\u001b[49m\u001b[43m(\u001b[49m\u001b[43ms\u001b[49m\u001b[43m,\u001b[49m\u001b[43m \u001b[49m\u001b[43m{\u001b[49m\u001b[43m}\u001b[49m\u001b[43m)\u001b[49m\u001b[38;5;241;43m.\u001b[39;49m\u001b[43mitems\u001b[49m\u001b[43m(\u001b[49m\u001b[43m)\u001b[49m\u001b[43m)\u001b[49m:\n\u001b[1;32m    284\u001b[0m         func \u001b[38;5;241m=\u001b[39m ref()\n\u001b[1;32m    285\u001b[0m         \u001b[38;5;28;01mif\u001b[39;00m func \u001b[38;5;129;01mis\u001b[39;00m \u001b[38;5;129;01mnot\u001b[39;00m \u001b[38;5;28;01mNone\u001b[39;00m:\n",
      "\u001b[0;31mKeyboardInterrupt\u001b[0m: "
     ]
    }
   ],
   "source": [
    "sns.barplot(x=tmp.index, y=tmp.values)"
   ]
  },
  {
   "cell_type": "code",
   "execution_count": 62,
   "id": "875fcb72",
   "metadata": {
    "ExecuteTime": {
     "end_time": "2022-06-27T16:02:36.271941Z",
     "start_time": "2022-06-27T16:02:36.266278Z"
    }
   },
   "outputs": [
    {
     "data": {
      "text/plain": [
       "co           4740\n",
       "http         4263\n",
       "https         408\n",
       "amp           344\n",
       "like          343\n",
       "û_            297\n",
       "fire          234\n",
       "get           226\n",
       "via           219\n",
       "2             204\n",
       "people        194\n",
       "new           183\n",
       "one           181\n",
       "news          167\n",
       "disaster      148\n",
       "emergency     146\n",
       "video         138\n",
       "would         135\n",
       "body          127\n",
       "police        123\n",
       "still         121\n",
       "3             120\n",
       "burning       119\n",
       "crash         117\n",
       "u             117\n",
       "us            115\n",
       "storm         114\n",
       "back          113\n",
       "know          113\n",
       "day           112\n",
       "dtype: int64"
      ]
     },
     "execution_count": 62,
     "metadata": {},
     "output_type": "execute_result"
    }
   ],
   "source": [
    "tmp.head(30)"
   ]
  },
  {
   "cell_type": "code",
   "execution_count": 63,
   "id": "2c77024d",
   "metadata": {
    "ExecuteTime": {
     "end_time": "2022-06-27T16:02:38.584203Z",
     "start_time": "2022-06-27T16:02:38.569538Z"
    }
   },
   "outputs": [
    {
     "data": {
      "text/plain": [
       "sweated                1\n",
       "drying                 1\n",
       "gqpi7jmkan             1\n",
       "sharethissouth         1\n",
       "92                     1\n",
       "88                     1\n",
       "17000                  1\n",
       "drrichardbesser        1\n",
       "columbus               1\n",
       "n8ezfctfcemichael      1\n",
       "rowysolouisville       1\n",
       "hxvfmouhdm             1\n",
       "steveycheese99         1\n",
       "mapmyrun               1\n",
       "stung                  1\n",
       "x6asgrjswcgot          1\n",
       "transgender            1\n",
       "mwlippert              1\n",
       "southkorea             1\n",
       "electrocutedboiling    1\n",
       "waterfur               1\n",
       "3a50dhz7yijust         1\n",
       "50ft                   1\n",
       "hairdryer              1\n",
       "earths_voice           1\n",
       "appalling              1\n",
       "businessmen            1\n",
       "jlwhaowfqa             1\n",
       "saveti                 1\n",
       "ymy4rskq3d             1\n",
       "dtype: int64"
      ]
     },
     "execution_count": 63,
     "metadata": {},
     "output_type": "execute_result"
    }
   ],
   "source": [
    "tmp.tail(30)"
   ]
  },
  {
   "cell_type": "code",
   "execution_count": 64,
   "id": "42d989a7",
   "metadata": {
    "ExecuteTime": {
     "end_time": "2022-06-27T16:02:41.151955Z",
     "start_time": "2022-06-27T16:02:41.147850Z"
    }
   },
   "outputs": [
    {
     "data": {
      "text/plain": [
       "7613"
      ]
     },
     "execution_count": 64,
     "metadata": {},
     "output_type": "execute_result"
    }
   ],
   "source": [
    "len(df)"
   ]
  },
  {
   "cell_type": "code",
   "execution_count": 65,
   "id": "547c0079",
   "metadata": {
    "ExecuteTime": {
     "end_time": "2022-06-27T16:02:41.599810Z",
     "start_time": "2022-06-27T16:02:41.591118Z"
    }
   },
   "outputs": [
    {
     "data": {
      "text/plain": [
       "count    22486.000000\n",
       "mean         3.729343\n",
       "std         43.687675\n",
       "min          1.000000\n",
       "25%          1.000000\n",
       "50%          1.000000\n",
       "75%          2.000000\n",
       "max       4740.000000\n",
       "dtype: float64"
      ]
     },
     "execution_count": 65,
     "metadata": {},
     "output_type": "execute_result"
    }
   ],
   "source": [
    "tmp.describe()"
   ]
  },
  {
   "cell_type": "code",
   "execution_count": 66,
   "id": "d81a9a7b",
   "metadata": {
    "ExecuteTime": {
     "end_time": "2022-06-27T16:03:27.238611Z",
     "start_time": "2022-06-27T16:02:54.174718Z"
    }
   },
   "outputs": [
    {
     "ename": "KeyboardInterrupt",
     "evalue": "",
     "output_type": "error",
     "traceback": [
      "\u001b[0;31m---------------------------------------------------------------------------\u001b[0m",
      "\u001b[0;31mTypeError\u001b[0m                                 Traceback (most recent call last)",
      "File \u001b[0;32m~/Desktop/ocr-donnees-textuelles/env/lib/python3.8/site-packages/numpy/lib/function_base.py:385\u001b[0m, in \u001b[0;36miterable\u001b[0;34m(y)\u001b[0m\n\u001b[1;32m    384\u001b[0m \u001b[38;5;28;01mtry\u001b[39;00m:\n\u001b[0;32m--> 385\u001b[0m     \u001b[38;5;28;43miter\u001b[39;49m\u001b[43m(\u001b[49m\u001b[43my\u001b[49m\u001b[43m)\u001b[49m\n\u001b[1;32m    386\u001b[0m \u001b[38;5;28;01mexcept\u001b[39;00m \u001b[38;5;167;01mTypeError\u001b[39;00m:\n",
      "\u001b[0;31mTypeError\u001b[0m: 'numpy.float64' object is not iterable",
      "\nDuring handling of the above exception, another exception occurred:\n",
      "\u001b[0;31mKeyboardInterrupt\u001b[0m                         Traceback (most recent call last)",
      "Input \u001b[0;32mIn [66]\u001b[0m, in \u001b[0;36m<cell line: 1>\u001b[0;34m()\u001b[0m\n\u001b[0;32m----> 1\u001b[0m \u001b[43msns\u001b[49m\u001b[38;5;241;43m.\u001b[39;49m\u001b[43mdisplot\u001b[49m\u001b[43m(\u001b[49m\u001b[43mtmp\u001b[49m\u001b[43m)\u001b[49m\n",
      "File \u001b[0;32m~/Desktop/ocr-donnees-textuelles/env/lib/python3.8/site-packages/seaborn/distributions.py:2274\u001b[0m, in \u001b[0;36mdisplot\u001b[0;34m(data, x, y, hue, row, col, weights, kind, rug, rug_kws, log_scale, legend, palette, hue_order, hue_norm, color, col_wrap, row_order, col_order, height, aspect, facet_kws, **kwargs)\u001b[0m\n\u001b[1;32m   2271\u001b[0m \u001b[38;5;28;01mif\u001b[39;00m p\u001b[38;5;241m.\u001b[39munivariate:\n\u001b[1;32m   2273\u001b[0m     _assign_default_kwargs(hist_kws, p\u001b[38;5;241m.\u001b[39mplot_univariate_histogram, histplot)\n\u001b[0;32m-> 2274\u001b[0m     \u001b[43mp\u001b[49m\u001b[38;5;241;43m.\u001b[39;49m\u001b[43mplot_univariate_histogram\u001b[49m\u001b[43m(\u001b[49m\u001b[38;5;241;43m*\u001b[39;49m\u001b[38;5;241;43m*\u001b[39;49m\u001b[43mhist_kws\u001b[49m\u001b[43m)\u001b[49m\n\u001b[1;32m   2276\u001b[0m \u001b[38;5;28;01melse\u001b[39;00m:\n\u001b[1;32m   2278\u001b[0m     _assign_default_kwargs(hist_kws, p\u001b[38;5;241m.\u001b[39mplot_bivariate_histogram, histplot)\n",
      "File \u001b[0;32m~/Desktop/ocr-donnees-textuelles/env/lib/python3.8/site-packages/seaborn/distributions.py:565\u001b[0m, in \u001b[0;36m_DistributionPlotter.plot_univariate_histogram\u001b[0;34m(self, multiple, element, fill, common_norm, common_bins, shrink, kde, kde_kws, color, legend, line_kws, estimate_kws, **plot_kws)\u001b[0m\n\u001b[1;32m    560\u001b[0m \u001b[38;5;28;01mif\u001b[39;00m element \u001b[38;5;241m==\u001b[39m \u001b[38;5;124m\"\u001b[39m\u001b[38;5;124mbars\u001b[39m\u001b[38;5;124m\"\u001b[39m:\n\u001b[1;32m    561\u001b[0m \n\u001b[1;32m    562\u001b[0m     \u001b[38;5;66;03m# Use matplotlib bar plotting\u001b[39;00m\n\u001b[1;32m    564\u001b[0m     plot_func \u001b[38;5;241m=\u001b[39m ax\u001b[38;5;241m.\u001b[39mbar \u001b[38;5;28;01mif\u001b[39;00m \u001b[38;5;28mself\u001b[39m\u001b[38;5;241m.\u001b[39mdata_variable \u001b[38;5;241m==\u001b[39m \u001b[38;5;124m\"\u001b[39m\u001b[38;5;124mx\u001b[39m\u001b[38;5;124m\"\u001b[39m \u001b[38;5;28;01melse\u001b[39;00m ax\u001b[38;5;241m.\u001b[39mbarh\n\u001b[0;32m--> 565\u001b[0m     artists \u001b[38;5;241m=\u001b[39m \u001b[43mplot_func\u001b[49m\u001b[43m(\u001b[49m\n\u001b[1;32m    566\u001b[0m \u001b[43m        \u001b[49m\u001b[43mhist\u001b[49m\u001b[43m[\u001b[49m\u001b[38;5;124;43m\"\u001b[39;49m\u001b[38;5;124;43medges\u001b[39;49m\u001b[38;5;124;43m\"\u001b[39;49m\u001b[43m]\u001b[49m\u001b[43m,\u001b[49m\n\u001b[1;32m    567\u001b[0m \u001b[43m        \u001b[49m\u001b[43mhist\u001b[49m\u001b[43m[\u001b[49m\u001b[38;5;124;43m\"\u001b[39;49m\u001b[38;5;124;43mheights\u001b[39;49m\u001b[38;5;124;43m\"\u001b[39;49m\u001b[43m]\u001b[49m\u001b[43m \u001b[49m\u001b[38;5;241;43m-\u001b[39;49m\u001b[43m \u001b[49m\u001b[43mbottom\u001b[49m\u001b[43m,\u001b[49m\n\u001b[1;32m    568\u001b[0m \u001b[43m        \u001b[49m\u001b[43mhist\u001b[49m\u001b[43m[\u001b[49m\u001b[38;5;124;43m\"\u001b[39;49m\u001b[38;5;124;43mwidths\u001b[39;49m\u001b[38;5;124;43m\"\u001b[39;49m\u001b[43m]\u001b[49m\u001b[43m,\u001b[49m\n\u001b[1;32m    569\u001b[0m \u001b[43m        \u001b[49m\u001b[43mbottom\u001b[49m\u001b[43m,\u001b[49m\n\u001b[1;32m    570\u001b[0m \u001b[43m        \u001b[49m\u001b[43malign\u001b[49m\u001b[38;5;241;43m=\u001b[39;49m\u001b[38;5;124;43m\"\u001b[39;49m\u001b[38;5;124;43medge\u001b[39;49m\u001b[38;5;124;43m\"\u001b[39;49m\u001b[43m,\u001b[49m\n\u001b[1;32m    571\u001b[0m \u001b[43m        \u001b[49m\u001b[38;5;241;43m*\u001b[39;49m\u001b[38;5;241;43m*\u001b[39;49m\u001b[43martist_kws\u001b[49m\u001b[43m,\u001b[49m\n\u001b[1;32m    572\u001b[0m \u001b[43m    \u001b[49m\u001b[43m)\u001b[49m\n\u001b[1;32m    573\u001b[0m     \u001b[38;5;28;01mfor\u001b[39;00m bar \u001b[38;5;129;01min\u001b[39;00m artists:\n\u001b[1;32m    574\u001b[0m         \u001b[38;5;28;01mif\u001b[39;00m \u001b[38;5;28mself\u001b[39m\u001b[38;5;241m.\u001b[39mdata_variable \u001b[38;5;241m==\u001b[39m \u001b[38;5;124m\"\u001b[39m\u001b[38;5;124mx\u001b[39m\u001b[38;5;124m\"\u001b[39m:\n",
      "File \u001b[0;32m~/Desktop/ocr-donnees-textuelles/env/lib/python3.8/site-packages/matplotlib/__init__.py:1412\u001b[0m, in \u001b[0;36m_preprocess_data.<locals>.inner\u001b[0;34m(ax, data, *args, **kwargs)\u001b[0m\n\u001b[1;32m   1409\u001b[0m \u001b[38;5;129m@functools\u001b[39m\u001b[38;5;241m.\u001b[39mwraps(func)\n\u001b[1;32m   1410\u001b[0m \u001b[38;5;28;01mdef\u001b[39;00m \u001b[38;5;21minner\u001b[39m(ax, \u001b[38;5;241m*\u001b[39margs, data\u001b[38;5;241m=\u001b[39m\u001b[38;5;28;01mNone\u001b[39;00m, \u001b[38;5;241m*\u001b[39m\u001b[38;5;241m*\u001b[39mkwargs):\n\u001b[1;32m   1411\u001b[0m     \u001b[38;5;28;01mif\u001b[39;00m data \u001b[38;5;129;01mis\u001b[39;00m \u001b[38;5;28;01mNone\u001b[39;00m:\n\u001b[0;32m-> 1412\u001b[0m         \u001b[38;5;28;01mreturn\u001b[39;00m \u001b[43mfunc\u001b[49m\u001b[43m(\u001b[49m\u001b[43max\u001b[49m\u001b[43m,\u001b[49m\u001b[43m \u001b[49m\u001b[38;5;241;43m*\u001b[39;49m\u001b[38;5;28;43mmap\u001b[39;49m\u001b[43m(\u001b[49m\u001b[43msanitize_sequence\u001b[49m\u001b[43m,\u001b[49m\u001b[43m \u001b[49m\u001b[43margs\u001b[49m\u001b[43m)\u001b[49m\u001b[43m,\u001b[49m\u001b[43m \u001b[49m\u001b[38;5;241;43m*\u001b[39;49m\u001b[38;5;241;43m*\u001b[39;49m\u001b[43mkwargs\u001b[49m\u001b[43m)\u001b[49m\n\u001b[1;32m   1414\u001b[0m     bound \u001b[38;5;241m=\u001b[39m new_sig\u001b[38;5;241m.\u001b[39mbind(ax, \u001b[38;5;241m*\u001b[39margs, \u001b[38;5;241m*\u001b[39m\u001b[38;5;241m*\u001b[39mkwargs)\n\u001b[1;32m   1415\u001b[0m     auto_label \u001b[38;5;241m=\u001b[39m (bound\u001b[38;5;241m.\u001b[39marguments\u001b[38;5;241m.\u001b[39mget(label_namer)\n\u001b[1;32m   1416\u001b[0m                   \u001b[38;5;129;01mor\u001b[39;00m bound\u001b[38;5;241m.\u001b[39mkwargs\u001b[38;5;241m.\u001b[39mget(label_namer))\n",
      "File \u001b[0;32m~/Desktop/ocr-donnees-textuelles/env/lib/python3.8/site-packages/matplotlib/axes/_axes.py:2409\u001b[0m, in \u001b[0;36mAxes.bar\u001b[0;34m(self, x, height, width, bottom, align, **kwargs)\u001b[0m\n\u001b[1;32m   2407\u001b[0m     \u001b[38;5;28;01melif\u001b[39;00m orientation \u001b[38;5;241m==\u001b[39m \u001b[38;5;124m'\u001b[39m\u001b[38;5;124mhorizontal\u001b[39m\u001b[38;5;124m'\u001b[39m:\n\u001b[1;32m   2408\u001b[0m         r\u001b[38;5;241m.\u001b[39msticky_edges\u001b[38;5;241m.\u001b[39mx\u001b[38;5;241m.\u001b[39mappend(l)\n\u001b[0;32m-> 2409\u001b[0m     \u001b[38;5;28;43mself\u001b[39;49m\u001b[38;5;241;43m.\u001b[39;49m\u001b[43madd_patch\u001b[49m\u001b[43m(\u001b[49m\u001b[43mr\u001b[49m\u001b[43m)\u001b[49m\n\u001b[1;32m   2410\u001b[0m     patches\u001b[38;5;241m.\u001b[39mappend(r)\n\u001b[1;32m   2412\u001b[0m \u001b[38;5;28;01mif\u001b[39;00m xerr \u001b[38;5;129;01mis\u001b[39;00m \u001b[38;5;129;01mnot\u001b[39;00m \u001b[38;5;28;01mNone\u001b[39;00m \u001b[38;5;129;01mor\u001b[39;00m yerr \u001b[38;5;129;01mis\u001b[39;00m \u001b[38;5;129;01mnot\u001b[39;00m \u001b[38;5;28;01mNone\u001b[39;00m:\n",
      "File \u001b[0;32m~/Desktop/ocr-donnees-textuelles/env/lib/python3.8/site-packages/matplotlib/axes/_base.py:2363\u001b[0m, in \u001b[0;36m_AxesBase.add_patch\u001b[0;34m(self, p)\u001b[0m\n\u001b[1;32m   2361\u001b[0m \u001b[38;5;28;01mif\u001b[39;00m p\u001b[38;5;241m.\u001b[39mget_clip_path() \u001b[38;5;129;01mis\u001b[39;00m \u001b[38;5;28;01mNone\u001b[39;00m:\n\u001b[1;32m   2362\u001b[0m     p\u001b[38;5;241m.\u001b[39mset_clip_path(\u001b[38;5;28mself\u001b[39m\u001b[38;5;241m.\u001b[39mpatch)\n\u001b[0;32m-> 2363\u001b[0m \u001b[38;5;28;43mself\u001b[39;49m\u001b[38;5;241;43m.\u001b[39;49m\u001b[43m_update_patch_limits\u001b[49m\u001b[43m(\u001b[49m\u001b[43mp\u001b[49m\u001b[43m)\u001b[49m\n\u001b[1;32m   2364\u001b[0m \u001b[38;5;28mself\u001b[39m\u001b[38;5;241m.\u001b[39m_children\u001b[38;5;241m.\u001b[39mappend(p)\n\u001b[1;32m   2365\u001b[0m p\u001b[38;5;241m.\u001b[39m_remove_method \u001b[38;5;241m=\u001b[39m \u001b[38;5;28mself\u001b[39m\u001b[38;5;241m.\u001b[39m_children\u001b[38;5;241m.\u001b[39mremove\n",
      "File \u001b[0;32m~/Desktop/ocr-donnees-textuelles/env/lib/python3.8/site-packages/matplotlib/axes/_base.py:2386\u001b[0m, in \u001b[0;36m_AxesBase._update_patch_limits\u001b[0;34m(self, patch)\u001b[0m\n\u001b[1;32m   2384\u001b[0m \u001b[38;5;28;01mif\u001b[39;00m \u001b[38;5;129;01mnot\u001b[39;00m vertices\u001b[38;5;241m.\u001b[39msize:\n\u001b[1;32m   2385\u001b[0m     \u001b[38;5;28;01mreturn\u001b[39;00m\n\u001b[0;32m-> 2386\u001b[0m patch_trf \u001b[38;5;241m=\u001b[39m \u001b[43mpatch\u001b[49m\u001b[38;5;241;43m.\u001b[39;49m\u001b[43mget_transform\u001b[49m\u001b[43m(\u001b[49m\u001b[43m)\u001b[49m\n\u001b[1;32m   2387\u001b[0m updatex, updatey \u001b[38;5;241m=\u001b[39m patch_trf\u001b[38;5;241m.\u001b[39mcontains_branch_seperately(\u001b[38;5;28mself\u001b[39m\u001b[38;5;241m.\u001b[39mtransData)\n\u001b[1;32m   2388\u001b[0m \u001b[38;5;28;01mif\u001b[39;00m \u001b[38;5;129;01mnot\u001b[39;00m (updatex \u001b[38;5;129;01mor\u001b[39;00m updatey):\n",
      "File \u001b[0;32m~/Desktop/ocr-donnees-textuelles/env/lib/python3.8/site-packages/matplotlib/patches.py:278\u001b[0m, in \u001b[0;36mPatch.get_transform\u001b[0;34m(self)\u001b[0m\n\u001b[1;32m    276\u001b[0m \u001b[38;5;28;01mdef\u001b[39;00m \u001b[38;5;21mget_transform\u001b[39m(\u001b[38;5;28mself\u001b[39m):\n\u001b[1;32m    277\u001b[0m     \u001b[38;5;124;03m\"\"\"Return the `~.transforms.Transform` applied to the `Patch`.\"\"\"\u001b[39;00m\n\u001b[0;32m--> 278\u001b[0m     \u001b[38;5;28;01mreturn\u001b[39;00m \u001b[38;5;28;43mself\u001b[39;49m\u001b[38;5;241;43m.\u001b[39;49m\u001b[43mget_patch_transform\u001b[49m\u001b[43m(\u001b[49m\u001b[43m)\u001b[49m \u001b[38;5;241m+\u001b[39m artist\u001b[38;5;241m.\u001b[39mArtist\u001b[38;5;241m.\u001b[39mget_transform(\u001b[38;5;28mself\u001b[39m)\n",
      "File \u001b[0;32m~/Desktop/ocr-donnees-textuelles/env/lib/python3.8/site-packages/matplotlib/patches.py:758\u001b[0m, in \u001b[0;36mRectangle.get_patch_transform\u001b[0;34m(self)\u001b[0m\n\u001b[1;32m    753\u001b[0m \u001b[38;5;28;01mdef\u001b[39;00m \u001b[38;5;21mget_patch_transform\u001b[39m(\u001b[38;5;28mself\u001b[39m):\n\u001b[1;32m    754\u001b[0m     \u001b[38;5;66;03m# Note: This cannot be called until after this has been added to\u001b[39;00m\n\u001b[1;32m    755\u001b[0m     \u001b[38;5;66;03m# an Axes, otherwise unit conversion will fail. This makes it very\u001b[39;00m\n\u001b[1;32m    756\u001b[0m     \u001b[38;5;66;03m# important to call the accessor method and not directly access the\u001b[39;00m\n\u001b[1;32m    757\u001b[0m     \u001b[38;5;66;03m# transformation member variable.\u001b[39;00m\n\u001b[0;32m--> 758\u001b[0m     bbox \u001b[38;5;241m=\u001b[39m \u001b[38;5;28;43mself\u001b[39;49m\u001b[38;5;241;43m.\u001b[39;49m\u001b[43mget_bbox\u001b[49m\u001b[43m(\u001b[49m\u001b[43m)\u001b[49m\n\u001b[1;32m    759\u001b[0m     \u001b[38;5;28;01mreturn\u001b[39;00m (transforms\u001b[38;5;241m.\u001b[39mBboxTransformTo(bbox)\n\u001b[1;32m    760\u001b[0m             \u001b[38;5;241m+\u001b[39m transforms\u001b[38;5;241m.\u001b[39mAffine2D()\u001b[38;5;241m.\u001b[39mrotate_deg_around(\n\u001b[1;32m    761\u001b[0m                 bbox\u001b[38;5;241m.\u001b[39mx0, bbox\u001b[38;5;241m.\u001b[39my0, \u001b[38;5;28mself\u001b[39m\u001b[38;5;241m.\u001b[39mangle))\n",
      "File \u001b[0;32m~/Desktop/ocr-donnees-textuelles/env/lib/python3.8/site-packages/matplotlib/patches.py:850\u001b[0m, in \u001b[0;36mRectangle.get_bbox\u001b[0;34m(self)\u001b[0m\n\u001b[1;32m    848\u001b[0m \u001b[38;5;28;01mdef\u001b[39;00m \u001b[38;5;21mget_bbox\u001b[39m(\u001b[38;5;28mself\u001b[39m):\n\u001b[1;32m    849\u001b[0m     \u001b[38;5;124;03m\"\"\"Return the `.Bbox`.\"\"\"\u001b[39;00m\n\u001b[0;32m--> 850\u001b[0m     x0, y0, x1, y1 \u001b[38;5;241m=\u001b[39m \u001b[38;5;28;43mself\u001b[39;49m\u001b[38;5;241;43m.\u001b[39;49m\u001b[43m_convert_units\u001b[49m\u001b[43m(\u001b[49m\u001b[43m)\u001b[49m\n\u001b[1;32m    851\u001b[0m     \u001b[38;5;28;01mreturn\u001b[39;00m transforms\u001b[38;5;241m.\u001b[39mBbox\u001b[38;5;241m.\u001b[39mfrom_extents(x0, y0, x1, y1)\n",
      "File \u001b[0;32m~/Desktop/ocr-donnees-textuelles/env/lib/python3.8/site-packages/matplotlib/patches.py:747\u001b[0m, in \u001b[0;36mRectangle._convert_units\u001b[0;34m(self)\u001b[0m\n\u001b[1;32m    745\u001b[0m \u001b[38;5;28;01mdef\u001b[39;00m \u001b[38;5;21m_convert_units\u001b[39m(\u001b[38;5;28mself\u001b[39m):\n\u001b[1;32m    746\u001b[0m     \u001b[38;5;124;03m\"\"\"Convert bounds of the rectangle.\"\"\"\u001b[39;00m\n\u001b[0;32m--> 747\u001b[0m     x0 \u001b[38;5;241m=\u001b[39m \u001b[38;5;28;43mself\u001b[39;49m\u001b[38;5;241;43m.\u001b[39;49m\u001b[43mconvert_xunits\u001b[49m\u001b[43m(\u001b[49m\u001b[38;5;28;43mself\u001b[39;49m\u001b[38;5;241;43m.\u001b[39;49m\u001b[43m_x0\u001b[49m\u001b[43m)\u001b[49m\n\u001b[1;32m    748\u001b[0m     y0 \u001b[38;5;241m=\u001b[39m \u001b[38;5;28mself\u001b[39m\u001b[38;5;241m.\u001b[39mconvert_yunits(\u001b[38;5;28mself\u001b[39m\u001b[38;5;241m.\u001b[39m_y0)\n\u001b[1;32m    749\u001b[0m     x1 \u001b[38;5;241m=\u001b[39m \u001b[38;5;28mself\u001b[39m\u001b[38;5;241m.\u001b[39mconvert_xunits(\u001b[38;5;28mself\u001b[39m\u001b[38;5;241m.\u001b[39m_x0 \u001b[38;5;241m+\u001b[39m \u001b[38;5;28mself\u001b[39m\u001b[38;5;241m.\u001b[39m_width)\n",
      "File \u001b[0;32m~/Desktop/ocr-donnees-textuelles/env/lib/python3.8/site-packages/matplotlib/artist.py:252\u001b[0m, in \u001b[0;36mArtist.convert_xunits\u001b[0;34m(self, x)\u001b[0m\n\u001b[1;32m    250\u001b[0m \u001b[38;5;28;01mif\u001b[39;00m ax \u001b[38;5;129;01mis\u001b[39;00m \u001b[38;5;28;01mNone\u001b[39;00m \u001b[38;5;129;01mor\u001b[39;00m ax\u001b[38;5;241m.\u001b[39mxaxis \u001b[38;5;129;01mis\u001b[39;00m \u001b[38;5;28;01mNone\u001b[39;00m:\n\u001b[1;32m    251\u001b[0m     \u001b[38;5;28;01mreturn\u001b[39;00m x\n\u001b[0;32m--> 252\u001b[0m \u001b[38;5;28;01mreturn\u001b[39;00m \u001b[43max\u001b[49m\u001b[38;5;241;43m.\u001b[39;49m\u001b[43mxaxis\u001b[49m\u001b[38;5;241;43m.\u001b[39;49m\u001b[43mconvert_units\u001b[49m\u001b[43m(\u001b[49m\u001b[43mx\u001b[49m\u001b[43m)\u001b[49m\n",
      "File \u001b[0;32m~/Desktop/ocr-donnees-textuelles/env/lib/python3.8/site-packages/matplotlib/axis.py:1497\u001b[0m, in \u001b[0;36mAxis.convert_units\u001b[0;34m(self, x)\u001b[0m\n\u001b[1;32m   1495\u001b[0m \u001b[38;5;28;01mdef\u001b[39;00m \u001b[38;5;21mconvert_units\u001b[39m(\u001b[38;5;28mself\u001b[39m, x):\n\u001b[1;32m   1496\u001b[0m     \u001b[38;5;66;03m# If x is natively supported by Matplotlib, doesn't need converting\u001b[39;00m\n\u001b[0;32m-> 1497\u001b[0m     \u001b[38;5;28;01mif\u001b[39;00m \u001b[43mmunits\u001b[49m\u001b[38;5;241;43m.\u001b[39;49m\u001b[43m_is_natively_supported\u001b[49m\u001b[43m(\u001b[49m\u001b[43mx\u001b[49m\u001b[43m)\u001b[49m:\n\u001b[1;32m   1498\u001b[0m         \u001b[38;5;28;01mreturn\u001b[39;00m x\n\u001b[1;32m   1500\u001b[0m     \u001b[38;5;28;01mif\u001b[39;00m \u001b[38;5;28mself\u001b[39m\u001b[38;5;241m.\u001b[39mconverter \u001b[38;5;129;01mis\u001b[39;00m \u001b[38;5;28;01mNone\u001b[39;00m:\n",
      "File \u001b[0;32m~/Desktop/ocr-donnees-textuelles/env/lib/python3.8/site-packages/matplotlib/units.py:62\u001b[0m, in \u001b[0;36m_is_natively_supported\u001b[0;34m(x)\u001b[0m\n\u001b[1;32m     57\u001b[0m \u001b[38;5;124;03m\"\"\"\u001b[39;00m\n\u001b[1;32m     58\u001b[0m \u001b[38;5;124;03mReturn whether *x* is of a type that Matplotlib natively supports or an\u001b[39;00m\n\u001b[1;32m     59\u001b[0m \u001b[38;5;124;03marray of objects of such types.\u001b[39;00m\n\u001b[1;32m     60\u001b[0m \u001b[38;5;124;03m\"\"\"\u001b[39;00m\n\u001b[1;32m     61\u001b[0m \u001b[38;5;66;03m# Matplotlib natively supports all number types except Decimal.\u001b[39;00m\n\u001b[0;32m---> 62\u001b[0m \u001b[38;5;28;01mif\u001b[39;00m \u001b[43mnp\u001b[49m\u001b[38;5;241;43m.\u001b[39;49m\u001b[43miterable\u001b[49m\u001b[43m(\u001b[49m\u001b[43mx\u001b[49m\u001b[43m)\u001b[49m:\n\u001b[1;32m     63\u001b[0m     \u001b[38;5;66;03m# Assume lists are homogeneous as other functions in unit system.\u001b[39;00m\n\u001b[1;32m     64\u001b[0m     \u001b[38;5;28;01mfor\u001b[39;00m thisx \u001b[38;5;129;01min\u001b[39;00m x:\n\u001b[1;32m     65\u001b[0m         \u001b[38;5;28;01mif\u001b[39;00m thisx \u001b[38;5;129;01mis\u001b[39;00m ma\u001b[38;5;241m.\u001b[39mmasked:\n",
      "File \u001b[0;32m~/Desktop/ocr-donnees-textuelles/env/lib/python3.8/site-packages/numpy/lib/function_base.py:385\u001b[0m, in \u001b[0;36miterable\u001b[0;34m(y)\u001b[0m\n\u001b[1;32m    348\u001b[0m \u001b[38;5;124;03m\"\"\"\u001b[39;00m\n\u001b[1;32m    349\u001b[0m \u001b[38;5;124;03mCheck whether or not an object can be iterated over.\u001b[39;00m\n\u001b[1;32m    350\u001b[0m \n\u001b[0;32m   (...)\u001b[0m\n\u001b[1;32m    382\u001b[0m \n\u001b[1;32m    383\u001b[0m \u001b[38;5;124;03m\"\"\"\u001b[39;00m\n\u001b[1;32m    384\u001b[0m \u001b[38;5;28;01mtry\u001b[39;00m:\n\u001b[0;32m--> 385\u001b[0m     \u001b[38;5;28;43miter\u001b[39;49m\u001b[43m(\u001b[49m\u001b[43my\u001b[49m\u001b[43m)\u001b[49m\n\u001b[1;32m    386\u001b[0m \u001b[38;5;28;01mexcept\u001b[39;00m \u001b[38;5;167;01mTypeError\u001b[39;00m:\n\u001b[1;32m    387\u001b[0m     \u001b[38;5;28;01mreturn\u001b[39;00m \u001b[38;5;28;01mFalse\u001b[39;00m\n",
      "\u001b[0;31mKeyboardInterrupt\u001b[0m: "
     ]
    },
    {
     "name": "stdout",
     "output_type": "stream",
     "text": [
      "Error in callback <function flush_figures at 0x7f4a44f53550> (for post_execute):\n"
     ]
    },
    {
     "ename": "KeyboardInterrupt",
     "evalue": "",
     "output_type": "error",
     "traceback": [
      "\u001b[0;31m---------------------------------------------------------------------------\u001b[0m",
      "\u001b[0;31mKeyboardInterrupt\u001b[0m                         Traceback (most recent call last)",
      "File \u001b[0;32m~/Desktop/ocr-donnees-textuelles/env/lib/python3.8/site-packages/matplotlib_inline/backend_inline.py:121\u001b[0m, in \u001b[0;36mflush_figures\u001b[0;34m()\u001b[0m\n\u001b[1;32m    118\u001b[0m \u001b[38;5;28;01mif\u001b[39;00m InlineBackend\u001b[38;5;241m.\u001b[39minstance()\u001b[38;5;241m.\u001b[39mclose_figures:\n\u001b[1;32m    119\u001b[0m     \u001b[38;5;66;03m# ignore the tracking, just draw and close all figures\u001b[39;00m\n\u001b[1;32m    120\u001b[0m     \u001b[38;5;28;01mtry\u001b[39;00m:\n\u001b[0;32m--> 121\u001b[0m         \u001b[38;5;28;01mreturn\u001b[39;00m \u001b[43mshow\u001b[49m\u001b[43m(\u001b[49m\u001b[38;5;28;43;01mTrue\u001b[39;49;00m\u001b[43m)\u001b[49m\n\u001b[1;32m    122\u001b[0m     \u001b[38;5;28;01mexcept\u001b[39;00m \u001b[38;5;167;01mException\u001b[39;00m \u001b[38;5;28;01mas\u001b[39;00m e:\n\u001b[1;32m    123\u001b[0m         \u001b[38;5;66;03m# safely show traceback if in IPython, else raise\u001b[39;00m\n\u001b[1;32m    124\u001b[0m         ip \u001b[38;5;241m=\u001b[39m get_ipython()\n",
      "File \u001b[0;32m~/Desktop/ocr-donnees-textuelles/env/lib/python3.8/site-packages/matplotlib_inline/backend_inline.py:41\u001b[0m, in \u001b[0;36mshow\u001b[0;34m(close, block)\u001b[0m\n\u001b[1;32m     39\u001b[0m \u001b[38;5;28;01mtry\u001b[39;00m:\n\u001b[1;32m     40\u001b[0m     \u001b[38;5;28;01mfor\u001b[39;00m figure_manager \u001b[38;5;129;01min\u001b[39;00m Gcf\u001b[38;5;241m.\u001b[39mget_all_fig_managers():\n\u001b[0;32m---> 41\u001b[0m         \u001b[43mdisplay\u001b[49m\u001b[43m(\u001b[49m\n\u001b[1;32m     42\u001b[0m \u001b[43m            \u001b[49m\u001b[43mfigure_manager\u001b[49m\u001b[38;5;241;43m.\u001b[39;49m\u001b[43mcanvas\u001b[49m\u001b[38;5;241;43m.\u001b[39;49m\u001b[43mfigure\u001b[49m\u001b[43m,\u001b[49m\n\u001b[1;32m     43\u001b[0m \u001b[43m            \u001b[49m\u001b[43mmetadata\u001b[49m\u001b[38;5;241;43m=\u001b[39;49m\u001b[43m_fetch_figure_metadata\u001b[49m\u001b[43m(\u001b[49m\u001b[43mfigure_manager\u001b[49m\u001b[38;5;241;43m.\u001b[39;49m\u001b[43mcanvas\u001b[49m\u001b[38;5;241;43m.\u001b[39;49m\u001b[43mfigure\u001b[49m\u001b[43m)\u001b[49m\n\u001b[1;32m     44\u001b[0m \u001b[43m        \u001b[49m\u001b[43m)\u001b[49m\n\u001b[1;32m     45\u001b[0m \u001b[38;5;28;01mfinally\u001b[39;00m:\n\u001b[1;32m     46\u001b[0m     show\u001b[38;5;241m.\u001b[39m_to_draw \u001b[38;5;241m=\u001b[39m []\n",
      "File \u001b[0;32m~/Desktop/ocr-donnees-textuelles/env/lib/python3.8/site-packages/IPython/core/display_functions.py:298\u001b[0m, in \u001b[0;36mdisplay\u001b[0;34m(include, exclude, metadata, transient, display_id, raw, clear, *objs, **kwargs)\u001b[0m\n\u001b[1;32m    296\u001b[0m     publish_display_data(data\u001b[38;5;241m=\u001b[39mobj, metadata\u001b[38;5;241m=\u001b[39mmetadata, \u001b[38;5;241m*\u001b[39m\u001b[38;5;241m*\u001b[39mkwargs)\n\u001b[1;32m    297\u001b[0m \u001b[38;5;28;01melse\u001b[39;00m:\n\u001b[0;32m--> 298\u001b[0m     format_dict, md_dict \u001b[38;5;241m=\u001b[39m \u001b[38;5;28;43mformat\u001b[39;49m\u001b[43m(\u001b[49m\u001b[43mobj\u001b[49m\u001b[43m,\u001b[49m\u001b[43m \u001b[49m\u001b[43minclude\u001b[49m\u001b[38;5;241;43m=\u001b[39;49m\u001b[43minclude\u001b[49m\u001b[43m,\u001b[49m\u001b[43m \u001b[49m\u001b[43mexclude\u001b[49m\u001b[38;5;241;43m=\u001b[39;49m\u001b[43mexclude\u001b[49m\u001b[43m)\u001b[49m\n\u001b[1;32m    299\u001b[0m     \u001b[38;5;28;01mif\u001b[39;00m \u001b[38;5;129;01mnot\u001b[39;00m format_dict:\n\u001b[1;32m    300\u001b[0m         \u001b[38;5;66;03m# nothing to display (e.g. _ipython_display_ took over)\u001b[39;00m\n\u001b[1;32m    301\u001b[0m         \u001b[38;5;28;01mcontinue\u001b[39;00m\n",
      "File \u001b[0;32m~/Desktop/ocr-donnees-textuelles/env/lib/python3.8/site-packages/IPython/core/formatters.py:178\u001b[0m, in \u001b[0;36mDisplayFormatter.format\u001b[0;34m(self, obj, include, exclude)\u001b[0m\n\u001b[1;32m    176\u001b[0m md \u001b[38;5;241m=\u001b[39m \u001b[38;5;28;01mNone\u001b[39;00m\n\u001b[1;32m    177\u001b[0m \u001b[38;5;28;01mtry\u001b[39;00m:\n\u001b[0;32m--> 178\u001b[0m     data \u001b[38;5;241m=\u001b[39m \u001b[43mformatter\u001b[49m\u001b[43m(\u001b[49m\u001b[43mobj\u001b[49m\u001b[43m)\u001b[49m\n\u001b[1;32m    179\u001b[0m \u001b[38;5;28;01mexcept\u001b[39;00m:\n\u001b[1;32m    180\u001b[0m     \u001b[38;5;66;03m# FIXME: log the exception\u001b[39;00m\n\u001b[1;32m    181\u001b[0m     \u001b[38;5;28;01mraise\u001b[39;00m\n",
      "File \u001b[0;32m~/Desktop/ocr-donnees-textuelles/env/lib/python3.8/site-packages/decorator.py:232\u001b[0m, in \u001b[0;36mdecorate.<locals>.fun\u001b[0;34m(*args, **kw)\u001b[0m\n\u001b[1;32m    230\u001b[0m \u001b[38;5;28;01mif\u001b[39;00m \u001b[38;5;129;01mnot\u001b[39;00m kwsyntax:\n\u001b[1;32m    231\u001b[0m     args, kw \u001b[38;5;241m=\u001b[39m fix(args, kw, sig)\n\u001b[0;32m--> 232\u001b[0m \u001b[38;5;28;01mreturn\u001b[39;00m \u001b[43mcaller\u001b[49m\u001b[43m(\u001b[49m\u001b[43mfunc\u001b[49m\u001b[43m,\u001b[49m\u001b[43m \u001b[49m\u001b[38;5;241;43m*\u001b[39;49m\u001b[43m(\u001b[49m\u001b[43mextras\u001b[49m\u001b[43m \u001b[49m\u001b[38;5;241;43m+\u001b[39;49m\u001b[43m \u001b[49m\u001b[43margs\u001b[49m\u001b[43m)\u001b[49m\u001b[43m,\u001b[49m\u001b[43m \u001b[49m\u001b[38;5;241;43m*\u001b[39;49m\u001b[38;5;241;43m*\u001b[39;49m\u001b[43mkw\u001b[49m\u001b[43m)\u001b[49m\n",
      "File \u001b[0;32m~/Desktop/ocr-donnees-textuelles/env/lib/python3.8/site-packages/IPython/core/formatters.py:222\u001b[0m, in \u001b[0;36mcatch_format_error\u001b[0;34m(method, self, *args, **kwargs)\u001b[0m\n\u001b[1;32m    220\u001b[0m \u001b[38;5;124;03m\"\"\"show traceback on failed format call\"\"\"\u001b[39;00m\n\u001b[1;32m    221\u001b[0m \u001b[38;5;28;01mtry\u001b[39;00m:\n\u001b[0;32m--> 222\u001b[0m     r \u001b[38;5;241m=\u001b[39m \u001b[43mmethod\u001b[49m\u001b[43m(\u001b[49m\u001b[38;5;28;43mself\u001b[39;49m\u001b[43m,\u001b[49m\u001b[43m \u001b[49m\u001b[38;5;241;43m*\u001b[39;49m\u001b[43margs\u001b[49m\u001b[43m,\u001b[49m\u001b[43m \u001b[49m\u001b[38;5;241;43m*\u001b[39;49m\u001b[38;5;241;43m*\u001b[39;49m\u001b[43mkwargs\u001b[49m\u001b[43m)\u001b[49m\n\u001b[1;32m    223\u001b[0m \u001b[38;5;28;01mexcept\u001b[39;00m \u001b[38;5;167;01mNotImplementedError\u001b[39;00m:\n\u001b[1;32m    224\u001b[0m     \u001b[38;5;66;03m# don't warn on NotImplementedErrors\u001b[39;00m\n\u001b[1;32m    225\u001b[0m     \u001b[38;5;28;01mreturn\u001b[39;00m \u001b[38;5;28mself\u001b[39m\u001b[38;5;241m.\u001b[39m_check_return(\u001b[38;5;28;01mNone\u001b[39;00m, args[\u001b[38;5;241m0\u001b[39m])\n",
      "File \u001b[0;32m~/Desktop/ocr-donnees-textuelles/env/lib/python3.8/site-packages/IPython/core/formatters.py:339\u001b[0m, in \u001b[0;36mBaseFormatter.__call__\u001b[0;34m(self, obj)\u001b[0m\n\u001b[1;32m    337\u001b[0m     \u001b[38;5;28;01mpass\u001b[39;00m\n\u001b[1;32m    338\u001b[0m \u001b[38;5;28;01melse\u001b[39;00m:\n\u001b[0;32m--> 339\u001b[0m     \u001b[38;5;28;01mreturn\u001b[39;00m \u001b[43mprinter\u001b[49m\u001b[43m(\u001b[49m\u001b[43mobj\u001b[49m\u001b[43m)\u001b[49m\n\u001b[1;32m    340\u001b[0m \u001b[38;5;66;03m# Finally look for special method names\u001b[39;00m\n\u001b[1;32m    341\u001b[0m method \u001b[38;5;241m=\u001b[39m get_real_method(obj, \u001b[38;5;28mself\u001b[39m\u001b[38;5;241m.\u001b[39mprint_method)\n",
      "File \u001b[0;32m~/Desktop/ocr-donnees-textuelles/env/lib/python3.8/site-packages/IPython/core/pylabtools.py:151\u001b[0m, in \u001b[0;36mprint_figure\u001b[0;34m(fig, fmt, bbox_inches, base64, **kwargs)\u001b[0m\n\u001b[1;32m    148\u001b[0m     \u001b[38;5;28;01mfrom\u001b[39;00m \u001b[38;5;21;01mmatplotlib\u001b[39;00m\u001b[38;5;21;01m.\u001b[39;00m\u001b[38;5;21;01mbackend_bases\u001b[39;00m \u001b[38;5;28;01mimport\u001b[39;00m FigureCanvasBase\n\u001b[1;32m    149\u001b[0m     FigureCanvasBase(fig)\n\u001b[0;32m--> 151\u001b[0m \u001b[43mfig\u001b[49m\u001b[38;5;241;43m.\u001b[39;49m\u001b[43mcanvas\u001b[49m\u001b[38;5;241;43m.\u001b[39;49m\u001b[43mprint_figure\u001b[49m\u001b[43m(\u001b[49m\u001b[43mbytes_io\u001b[49m\u001b[43m,\u001b[49m\u001b[43m \u001b[49m\u001b[38;5;241;43m*\u001b[39;49m\u001b[38;5;241;43m*\u001b[39;49m\u001b[43mkw\u001b[49m\u001b[43m)\u001b[49m\n\u001b[1;32m    152\u001b[0m data \u001b[38;5;241m=\u001b[39m bytes_io\u001b[38;5;241m.\u001b[39mgetvalue()\n\u001b[1;32m    153\u001b[0m \u001b[38;5;28;01mif\u001b[39;00m fmt \u001b[38;5;241m==\u001b[39m \u001b[38;5;124m'\u001b[39m\u001b[38;5;124msvg\u001b[39m\u001b[38;5;124m'\u001b[39m:\n",
      "File \u001b[0;32m~/Desktop/ocr-donnees-textuelles/env/lib/python3.8/site-packages/matplotlib/backend_bases.py:2295\u001b[0m, in \u001b[0;36mFigureCanvasBase.print_figure\u001b[0;34m(self, filename, dpi, facecolor, edgecolor, orientation, format, bbox_inches, pad_inches, bbox_extra_artists, backend, **kwargs)\u001b[0m\n\u001b[1;32m   2289\u001b[0m     renderer \u001b[38;5;241m=\u001b[39m _get_renderer(\n\u001b[1;32m   2290\u001b[0m         \u001b[38;5;28mself\u001b[39m\u001b[38;5;241m.\u001b[39mfigure,\n\u001b[1;32m   2291\u001b[0m         functools\u001b[38;5;241m.\u001b[39mpartial(\n\u001b[1;32m   2292\u001b[0m             print_method, orientation\u001b[38;5;241m=\u001b[39morientation)\n\u001b[1;32m   2293\u001b[0m     )\n\u001b[1;32m   2294\u001b[0m     \u001b[38;5;28;01mwith\u001b[39;00m \u001b[38;5;28mgetattr\u001b[39m(renderer, \u001b[38;5;124m\"\u001b[39m\u001b[38;5;124m_draw_disabled\u001b[39m\u001b[38;5;124m\"\u001b[39m, nullcontext)():\n\u001b[0;32m-> 2295\u001b[0m         \u001b[38;5;28;43mself\u001b[39;49m\u001b[38;5;241;43m.\u001b[39;49m\u001b[43mfigure\u001b[49m\u001b[38;5;241;43m.\u001b[39;49m\u001b[43mdraw\u001b[49m\u001b[43m(\u001b[49m\u001b[43mrenderer\u001b[49m\u001b[43m)\u001b[49m\n\u001b[1;32m   2297\u001b[0m \u001b[38;5;28;01mif\u001b[39;00m bbox_inches:\n\u001b[1;32m   2298\u001b[0m     \u001b[38;5;28;01mif\u001b[39;00m bbox_inches \u001b[38;5;241m==\u001b[39m \u001b[38;5;124m\"\u001b[39m\u001b[38;5;124mtight\u001b[39m\u001b[38;5;124m\"\u001b[39m:\n",
      "File \u001b[0;32m~/Desktop/ocr-donnees-textuelles/env/lib/python3.8/site-packages/matplotlib/artist.py:73\u001b[0m, in \u001b[0;36m_finalize_rasterization.<locals>.draw_wrapper\u001b[0;34m(artist, renderer, *args, **kwargs)\u001b[0m\n\u001b[1;32m     71\u001b[0m \u001b[38;5;129m@wraps\u001b[39m(draw)\n\u001b[1;32m     72\u001b[0m \u001b[38;5;28;01mdef\u001b[39;00m \u001b[38;5;21mdraw_wrapper\u001b[39m(artist, renderer, \u001b[38;5;241m*\u001b[39margs, \u001b[38;5;241m*\u001b[39m\u001b[38;5;241m*\u001b[39mkwargs):\n\u001b[0;32m---> 73\u001b[0m     result \u001b[38;5;241m=\u001b[39m \u001b[43mdraw\u001b[49m\u001b[43m(\u001b[49m\u001b[43martist\u001b[49m\u001b[43m,\u001b[49m\u001b[43m \u001b[49m\u001b[43mrenderer\u001b[49m\u001b[43m,\u001b[49m\u001b[43m \u001b[49m\u001b[38;5;241;43m*\u001b[39;49m\u001b[43margs\u001b[49m\u001b[43m,\u001b[49m\u001b[43m \u001b[49m\u001b[38;5;241;43m*\u001b[39;49m\u001b[38;5;241;43m*\u001b[39;49m\u001b[43mkwargs\u001b[49m\u001b[43m)\u001b[49m\n\u001b[1;32m     74\u001b[0m     \u001b[38;5;28;01mif\u001b[39;00m renderer\u001b[38;5;241m.\u001b[39m_rasterizing:\n\u001b[1;32m     75\u001b[0m         renderer\u001b[38;5;241m.\u001b[39mstop_rasterizing()\n",
      "File \u001b[0;32m~/Desktop/ocr-donnees-textuelles/env/lib/python3.8/site-packages/matplotlib/artist.py:50\u001b[0m, in \u001b[0;36mallow_rasterization.<locals>.draw_wrapper\u001b[0;34m(artist, renderer)\u001b[0m\n\u001b[1;32m     47\u001b[0m     \u001b[38;5;28;01mif\u001b[39;00m artist\u001b[38;5;241m.\u001b[39mget_agg_filter() \u001b[38;5;129;01mis\u001b[39;00m \u001b[38;5;129;01mnot\u001b[39;00m \u001b[38;5;28;01mNone\u001b[39;00m:\n\u001b[1;32m     48\u001b[0m         renderer\u001b[38;5;241m.\u001b[39mstart_filter()\n\u001b[0;32m---> 50\u001b[0m     \u001b[38;5;28;01mreturn\u001b[39;00m \u001b[43mdraw\u001b[49m\u001b[43m(\u001b[49m\u001b[43martist\u001b[49m\u001b[43m,\u001b[49m\u001b[43m \u001b[49m\u001b[43mrenderer\u001b[49m\u001b[43m)\u001b[49m\n\u001b[1;32m     51\u001b[0m \u001b[38;5;28;01mfinally\u001b[39;00m:\n\u001b[1;32m     52\u001b[0m     \u001b[38;5;28;01mif\u001b[39;00m artist\u001b[38;5;241m.\u001b[39mget_agg_filter() \u001b[38;5;129;01mis\u001b[39;00m \u001b[38;5;129;01mnot\u001b[39;00m \u001b[38;5;28;01mNone\u001b[39;00m:\n",
      "File \u001b[0;32m~/Desktop/ocr-donnees-textuelles/env/lib/python3.8/site-packages/matplotlib/figure.py:2837\u001b[0m, in \u001b[0;36mFigure.draw\u001b[0;34m(self, renderer)\u001b[0m\n\u001b[1;32m   2834\u001b[0m         \u001b[38;5;66;03m# ValueError can occur when resizing a window.\u001b[39;00m\n\u001b[1;32m   2836\u001b[0m \u001b[38;5;28mself\u001b[39m\u001b[38;5;241m.\u001b[39mpatch\u001b[38;5;241m.\u001b[39mdraw(renderer)\n\u001b[0;32m-> 2837\u001b[0m \u001b[43mmimage\u001b[49m\u001b[38;5;241;43m.\u001b[39;49m\u001b[43m_draw_list_compositing_images\u001b[49m\u001b[43m(\u001b[49m\n\u001b[1;32m   2838\u001b[0m \u001b[43m    \u001b[49m\u001b[43mrenderer\u001b[49m\u001b[43m,\u001b[49m\u001b[43m \u001b[49m\u001b[38;5;28;43mself\u001b[39;49m\u001b[43m,\u001b[49m\u001b[43m \u001b[49m\u001b[43martists\u001b[49m\u001b[43m,\u001b[49m\u001b[43m \u001b[49m\u001b[38;5;28;43mself\u001b[39;49m\u001b[38;5;241;43m.\u001b[39;49m\u001b[43msuppressComposite\u001b[49m\u001b[43m)\u001b[49m\n\u001b[1;32m   2840\u001b[0m \u001b[38;5;28;01mfor\u001b[39;00m sfig \u001b[38;5;129;01min\u001b[39;00m \u001b[38;5;28mself\u001b[39m\u001b[38;5;241m.\u001b[39msubfigs:\n\u001b[1;32m   2841\u001b[0m     sfig\u001b[38;5;241m.\u001b[39mdraw(renderer)\n",
      "File \u001b[0;32m~/Desktop/ocr-donnees-textuelles/env/lib/python3.8/site-packages/matplotlib/image.py:132\u001b[0m, in \u001b[0;36m_draw_list_compositing_images\u001b[0;34m(renderer, parent, artists, suppress_composite)\u001b[0m\n\u001b[1;32m    130\u001b[0m \u001b[38;5;28;01mif\u001b[39;00m not_composite \u001b[38;5;129;01mor\u001b[39;00m \u001b[38;5;129;01mnot\u001b[39;00m has_images:\n\u001b[1;32m    131\u001b[0m     \u001b[38;5;28;01mfor\u001b[39;00m a \u001b[38;5;129;01min\u001b[39;00m artists:\n\u001b[0;32m--> 132\u001b[0m         \u001b[43ma\u001b[49m\u001b[38;5;241;43m.\u001b[39;49m\u001b[43mdraw\u001b[49m\u001b[43m(\u001b[49m\u001b[43mrenderer\u001b[49m\u001b[43m)\u001b[49m\n\u001b[1;32m    133\u001b[0m \u001b[38;5;28;01melse\u001b[39;00m:\n\u001b[1;32m    134\u001b[0m     \u001b[38;5;66;03m# Composite any adjacent images together\u001b[39;00m\n\u001b[1;32m    135\u001b[0m     image_group \u001b[38;5;241m=\u001b[39m []\n",
      "File \u001b[0;32m~/Desktop/ocr-donnees-textuelles/env/lib/python3.8/site-packages/matplotlib/artist.py:50\u001b[0m, in \u001b[0;36mallow_rasterization.<locals>.draw_wrapper\u001b[0;34m(artist, renderer)\u001b[0m\n\u001b[1;32m     47\u001b[0m     \u001b[38;5;28;01mif\u001b[39;00m artist\u001b[38;5;241m.\u001b[39mget_agg_filter() \u001b[38;5;129;01mis\u001b[39;00m \u001b[38;5;129;01mnot\u001b[39;00m \u001b[38;5;28;01mNone\u001b[39;00m:\n\u001b[1;32m     48\u001b[0m         renderer\u001b[38;5;241m.\u001b[39mstart_filter()\n\u001b[0;32m---> 50\u001b[0m     \u001b[38;5;28;01mreturn\u001b[39;00m \u001b[43mdraw\u001b[49m\u001b[43m(\u001b[49m\u001b[43martist\u001b[49m\u001b[43m,\u001b[49m\u001b[43m \u001b[49m\u001b[43mrenderer\u001b[49m\u001b[43m)\u001b[49m\n\u001b[1;32m     51\u001b[0m \u001b[38;5;28;01mfinally\u001b[39;00m:\n\u001b[1;32m     52\u001b[0m     \u001b[38;5;28;01mif\u001b[39;00m artist\u001b[38;5;241m.\u001b[39mget_agg_filter() \u001b[38;5;129;01mis\u001b[39;00m \u001b[38;5;129;01mnot\u001b[39;00m \u001b[38;5;28;01mNone\u001b[39;00m:\n",
      "File \u001b[0;32m~/Desktop/ocr-donnees-textuelles/env/lib/python3.8/site-packages/matplotlib/axes/_base.py:3091\u001b[0m, in \u001b[0;36m_AxesBase.draw\u001b[0;34m(self, renderer)\u001b[0m\n\u001b[1;32m   3088\u001b[0m         a\u001b[38;5;241m.\u001b[39mdraw(renderer)\n\u001b[1;32m   3089\u001b[0m     renderer\u001b[38;5;241m.\u001b[39mstop_rasterizing()\n\u001b[0;32m-> 3091\u001b[0m \u001b[43mmimage\u001b[49m\u001b[38;5;241;43m.\u001b[39;49m\u001b[43m_draw_list_compositing_images\u001b[49m\u001b[43m(\u001b[49m\n\u001b[1;32m   3092\u001b[0m \u001b[43m    \u001b[49m\u001b[43mrenderer\u001b[49m\u001b[43m,\u001b[49m\u001b[43m \u001b[49m\u001b[38;5;28;43mself\u001b[39;49m\u001b[43m,\u001b[49m\u001b[43m \u001b[49m\u001b[43martists\u001b[49m\u001b[43m,\u001b[49m\u001b[43m \u001b[49m\u001b[38;5;28;43mself\u001b[39;49m\u001b[38;5;241;43m.\u001b[39;49m\u001b[43mfigure\u001b[49m\u001b[38;5;241;43m.\u001b[39;49m\u001b[43msuppressComposite\u001b[49m\u001b[43m)\u001b[49m\n\u001b[1;32m   3094\u001b[0m renderer\u001b[38;5;241m.\u001b[39mclose_group(\u001b[38;5;124m'\u001b[39m\u001b[38;5;124maxes\u001b[39m\u001b[38;5;124m'\u001b[39m)\n\u001b[1;32m   3095\u001b[0m \u001b[38;5;28mself\u001b[39m\u001b[38;5;241m.\u001b[39mstale \u001b[38;5;241m=\u001b[39m \u001b[38;5;28;01mFalse\u001b[39;00m\n",
      "File \u001b[0;32m~/Desktop/ocr-donnees-textuelles/env/lib/python3.8/site-packages/matplotlib/image.py:132\u001b[0m, in \u001b[0;36m_draw_list_compositing_images\u001b[0;34m(renderer, parent, artists, suppress_composite)\u001b[0m\n\u001b[1;32m    130\u001b[0m \u001b[38;5;28;01mif\u001b[39;00m not_composite \u001b[38;5;129;01mor\u001b[39;00m \u001b[38;5;129;01mnot\u001b[39;00m has_images:\n\u001b[1;32m    131\u001b[0m     \u001b[38;5;28;01mfor\u001b[39;00m a \u001b[38;5;129;01min\u001b[39;00m artists:\n\u001b[0;32m--> 132\u001b[0m         \u001b[43ma\u001b[49m\u001b[38;5;241;43m.\u001b[39;49m\u001b[43mdraw\u001b[49m\u001b[43m(\u001b[49m\u001b[43mrenderer\u001b[49m\u001b[43m)\u001b[49m\n\u001b[1;32m    133\u001b[0m \u001b[38;5;28;01melse\u001b[39;00m:\n\u001b[1;32m    134\u001b[0m     \u001b[38;5;66;03m# Composite any adjacent images together\u001b[39;00m\n\u001b[1;32m    135\u001b[0m     image_group \u001b[38;5;241m=\u001b[39m []\n",
      "File \u001b[0;32m~/Desktop/ocr-donnees-textuelles/env/lib/python3.8/site-packages/matplotlib/artist.py:50\u001b[0m, in \u001b[0;36mallow_rasterization.<locals>.draw_wrapper\u001b[0;34m(artist, renderer)\u001b[0m\n\u001b[1;32m     47\u001b[0m     \u001b[38;5;28;01mif\u001b[39;00m artist\u001b[38;5;241m.\u001b[39mget_agg_filter() \u001b[38;5;129;01mis\u001b[39;00m \u001b[38;5;129;01mnot\u001b[39;00m \u001b[38;5;28;01mNone\u001b[39;00m:\n\u001b[1;32m     48\u001b[0m         renderer\u001b[38;5;241m.\u001b[39mstart_filter()\n\u001b[0;32m---> 50\u001b[0m     \u001b[38;5;28;01mreturn\u001b[39;00m \u001b[43mdraw\u001b[49m\u001b[43m(\u001b[49m\u001b[43martist\u001b[49m\u001b[43m,\u001b[49m\u001b[43m \u001b[49m\u001b[43mrenderer\u001b[49m\u001b[43m)\u001b[49m\n\u001b[1;32m     51\u001b[0m \u001b[38;5;28;01mfinally\u001b[39;00m:\n\u001b[1;32m     52\u001b[0m     \u001b[38;5;28;01mif\u001b[39;00m artist\u001b[38;5;241m.\u001b[39mget_agg_filter() \u001b[38;5;129;01mis\u001b[39;00m \u001b[38;5;129;01mnot\u001b[39;00m \u001b[38;5;28;01mNone\u001b[39;00m:\n",
      "File \u001b[0;32m~/Desktop/ocr-donnees-textuelles/env/lib/python3.8/site-packages/matplotlib/patches.py:617\u001b[0m, in \u001b[0;36mPatch.draw\u001b[0;34m(self, renderer)\u001b[0m\n\u001b[1;32m    615\u001b[0m transform \u001b[38;5;241m=\u001b[39m \u001b[38;5;28mself\u001b[39m\u001b[38;5;241m.\u001b[39mget_transform()\n\u001b[1;32m    616\u001b[0m tpath \u001b[38;5;241m=\u001b[39m transform\u001b[38;5;241m.\u001b[39mtransform_path_non_affine(path)\n\u001b[0;32m--> 617\u001b[0m affine \u001b[38;5;241m=\u001b[39m \u001b[43mtransform\u001b[49m\u001b[38;5;241;43m.\u001b[39;49m\u001b[43mget_affine\u001b[49m\u001b[43m(\u001b[49m\u001b[43m)\u001b[49m\n\u001b[1;32m    618\u001b[0m draw_path(tpath, affine,\n\u001b[1;32m    619\u001b[0m           \u001b[38;5;66;03m# Work around a bug in the PDF and SVG renderers, which\u001b[39;00m\n\u001b[1;32m    620\u001b[0m           \u001b[38;5;66;03m# do not draw the hatches if the facecolor is fully\u001b[39;00m\n\u001b[1;32m    621\u001b[0m           \u001b[38;5;66;03m# transparent, but do if it is None.\u001b[39;00m\n\u001b[1;32m    622\u001b[0m           \u001b[38;5;28mself\u001b[39m\u001b[38;5;241m.\u001b[39m_facecolor \u001b[38;5;28;01mif\u001b[39;00m \u001b[38;5;28mself\u001b[39m\u001b[38;5;241m.\u001b[39m_facecolor[\u001b[38;5;241m3\u001b[39m] \u001b[38;5;28;01melse\u001b[39;00m \u001b[38;5;28;01mNone\u001b[39;00m)\n",
      "File \u001b[0;32m~/Desktop/ocr-donnees-textuelles/env/lib/python3.8/site-packages/matplotlib/transforms.py:2447\u001b[0m, in \u001b[0;36mCompositeGenericTransform.get_affine\u001b[0;34m(self)\u001b[0m\n\u001b[1;32m   2444\u001b[0m     \u001b[38;5;28;01mreturn\u001b[39;00m \u001b[38;5;28mself\u001b[39m\u001b[38;5;241m.\u001b[39m_b\u001b[38;5;241m.\u001b[39mget_affine()\n\u001b[1;32m   2445\u001b[0m \u001b[38;5;28;01melse\u001b[39;00m:\n\u001b[1;32m   2446\u001b[0m     \u001b[38;5;28;01mreturn\u001b[39;00m Affine2D(np\u001b[38;5;241m.\u001b[39mdot(\u001b[38;5;28mself\u001b[39m\u001b[38;5;241m.\u001b[39m_b\u001b[38;5;241m.\u001b[39mget_affine()\u001b[38;5;241m.\u001b[39mget_matrix(),\n\u001b[0;32m-> 2447\u001b[0m                            \u001b[38;5;28;43mself\u001b[39;49m\u001b[38;5;241;43m.\u001b[39;49m\u001b[43m_a\u001b[49m\u001b[38;5;241;43m.\u001b[39;49m\u001b[43mget_affine\u001b[49m\u001b[43m(\u001b[49m\u001b[43m)\u001b[49m\u001b[38;5;241m.\u001b[39mget_matrix()))\n",
      "File \u001b[0;32m~/Desktop/ocr-donnees-textuelles/env/lib/python3.8/site-packages/matplotlib/transforms.py:2446\u001b[0m, in \u001b[0;36mCompositeGenericTransform.get_affine\u001b[0;34m(self)\u001b[0m\n\u001b[1;32m   2444\u001b[0m     \u001b[38;5;28;01mreturn\u001b[39;00m \u001b[38;5;28mself\u001b[39m\u001b[38;5;241m.\u001b[39m_b\u001b[38;5;241m.\u001b[39mget_affine()\n\u001b[1;32m   2445\u001b[0m \u001b[38;5;28;01melse\u001b[39;00m:\n\u001b[0;32m-> 2446\u001b[0m     \u001b[38;5;28;01mreturn\u001b[39;00m Affine2D(\u001b[43mnp\u001b[49m\u001b[38;5;241;43m.\u001b[39;49m\u001b[43mdot\u001b[49m\u001b[43m(\u001b[49m\u001b[38;5;28;43mself\u001b[39;49m\u001b[38;5;241;43m.\u001b[39;49m\u001b[43m_b\u001b[49m\u001b[38;5;241;43m.\u001b[39;49m\u001b[43mget_affine\u001b[49m\u001b[43m(\u001b[49m\u001b[43m)\u001b[49m\u001b[38;5;241;43m.\u001b[39;49m\u001b[43mget_matrix\u001b[49m\u001b[43m(\u001b[49m\u001b[43m)\u001b[49m\u001b[43m,\u001b[49m\n\u001b[1;32m   2447\u001b[0m \u001b[43m                           \u001b[49m\u001b[38;5;28;43mself\u001b[39;49m\u001b[38;5;241;43m.\u001b[39;49m\u001b[43m_a\u001b[49m\u001b[38;5;241;43m.\u001b[39;49m\u001b[43mget_affine\u001b[49m\u001b[43m(\u001b[49m\u001b[43m)\u001b[49m\u001b[38;5;241;43m.\u001b[39;49m\u001b[43mget_matrix\u001b[49m\u001b[43m(\u001b[49m\u001b[43m)\u001b[49m\u001b[43m)\u001b[49m)\n",
      "File \u001b[0;32m<__array_function__ internals>:179\u001b[0m, in \u001b[0;36mdot\u001b[0;34m(*args, **kwargs)\u001b[0m\n",
      "\u001b[0;31mKeyboardInterrupt\u001b[0m: "
     ]
    }
   ],
   "source": [
    "sns.displot(tmp)"
   ]
  },
  {
   "cell_type": "code",
   "execution_count": null,
   "id": "a5ae5403",
   "metadata": {
    "ExecuteTime": {
     "end_time": "2022-06-27T16:03:27.247627Z",
     "start_time": "2022-06-27T16:03:27.247614Z"
    }
   },
   "outputs": [],
   "source": [
    "sns.boxplot(tmp)"
   ]
  },
  {
   "cell_type": "code",
   "execution_count": 175,
   "id": "43313db7",
   "metadata": {
    "ExecuteTime": {
     "end_time": "2022-06-27T15:52:28.691118Z",
     "start_time": "2022-06-27T15:50:20.762683Z"
    }
   },
   "outputs": [
    {
     "name": "stderr",
     "output_type": "stream",
     "text": [
      "/home/alex/Desktop/ocr-donnees-textuelles/env/lib/python3.8/site-packages/seaborn/_decorators.py:36: FutureWarning: Pass the following variable as a keyword arg: x. From version 0.12, the only valid positional argument will be `data`, and passing other arguments without an explicit keyword will result in an error or misinterpretation.\n",
      "  warnings.warn(\n"
     ]
    },
    {
     "data": {
      "text/plain": [
       "<AxesSubplot:ylabel='count'>"
      ]
     },
     "execution_count": 175,
     "metadata": {},
     "output_type": "execute_result"
    },
    {
     "name": "stdout",
     "output_type": "stream",
     "text": [
      "Error in callback <function flush_figures at 0x7f9b4f8db790> (for post_execute):\n"
     ]
    },
    {
     "ename": "KeyboardInterrupt",
     "evalue": "",
     "output_type": "error",
     "traceback": [
      "\u001b[0;31m---------------------------------------------------------------------------\u001b[0m",
      "\u001b[0;31mKeyboardInterrupt\u001b[0m                         Traceback (most recent call last)",
      "File \u001b[0;32m~/Desktop/ocr-donnees-textuelles/env/lib/python3.8/site-packages/matplotlib_inline/backend_inline.py:121\u001b[0m, in \u001b[0;36mflush_figures\u001b[0;34m()\u001b[0m\n\u001b[1;32m    118\u001b[0m \u001b[38;5;28;01mif\u001b[39;00m InlineBackend\u001b[38;5;241m.\u001b[39minstance()\u001b[38;5;241m.\u001b[39mclose_figures:\n\u001b[1;32m    119\u001b[0m     \u001b[38;5;66;03m# ignore the tracking, just draw and close all figures\u001b[39;00m\n\u001b[1;32m    120\u001b[0m     \u001b[38;5;28;01mtry\u001b[39;00m:\n\u001b[0;32m--> 121\u001b[0m         \u001b[38;5;28;01mreturn\u001b[39;00m \u001b[43mshow\u001b[49m\u001b[43m(\u001b[49m\u001b[38;5;28;43;01mTrue\u001b[39;49;00m\u001b[43m)\u001b[49m\n\u001b[1;32m    122\u001b[0m     \u001b[38;5;28;01mexcept\u001b[39;00m \u001b[38;5;167;01mException\u001b[39;00m \u001b[38;5;28;01mas\u001b[39;00m e:\n\u001b[1;32m    123\u001b[0m         \u001b[38;5;66;03m# safely show traceback if in IPython, else raise\u001b[39;00m\n\u001b[1;32m    124\u001b[0m         ip \u001b[38;5;241m=\u001b[39m get_ipython()\n",
      "File \u001b[0;32m~/Desktop/ocr-donnees-textuelles/env/lib/python3.8/site-packages/matplotlib_inline/backend_inline.py:41\u001b[0m, in \u001b[0;36mshow\u001b[0;34m(close, block)\u001b[0m\n\u001b[1;32m     39\u001b[0m \u001b[38;5;28;01mtry\u001b[39;00m:\n\u001b[1;32m     40\u001b[0m     \u001b[38;5;28;01mfor\u001b[39;00m figure_manager \u001b[38;5;129;01min\u001b[39;00m Gcf\u001b[38;5;241m.\u001b[39mget_all_fig_managers():\n\u001b[0;32m---> 41\u001b[0m         \u001b[43mdisplay\u001b[49m\u001b[43m(\u001b[49m\n\u001b[1;32m     42\u001b[0m \u001b[43m            \u001b[49m\u001b[43mfigure_manager\u001b[49m\u001b[38;5;241;43m.\u001b[39;49m\u001b[43mcanvas\u001b[49m\u001b[38;5;241;43m.\u001b[39;49m\u001b[43mfigure\u001b[49m\u001b[43m,\u001b[49m\n\u001b[1;32m     43\u001b[0m \u001b[43m            \u001b[49m\u001b[43mmetadata\u001b[49m\u001b[38;5;241;43m=\u001b[39;49m\u001b[43m_fetch_figure_metadata\u001b[49m\u001b[43m(\u001b[49m\u001b[43mfigure_manager\u001b[49m\u001b[38;5;241;43m.\u001b[39;49m\u001b[43mcanvas\u001b[49m\u001b[38;5;241;43m.\u001b[39;49m\u001b[43mfigure\u001b[49m\u001b[43m)\u001b[49m\n\u001b[1;32m     44\u001b[0m \u001b[43m        \u001b[49m\u001b[43m)\u001b[49m\n\u001b[1;32m     45\u001b[0m \u001b[38;5;28;01mfinally\u001b[39;00m:\n\u001b[1;32m     46\u001b[0m     show\u001b[38;5;241m.\u001b[39m_to_draw \u001b[38;5;241m=\u001b[39m []\n",
      "File \u001b[0;32m~/Desktop/ocr-donnees-textuelles/env/lib/python3.8/site-packages/IPython/core/display_functions.py:298\u001b[0m, in \u001b[0;36mdisplay\u001b[0;34m(include, exclude, metadata, transient, display_id, raw, clear, *objs, **kwargs)\u001b[0m\n\u001b[1;32m    296\u001b[0m     publish_display_data(data\u001b[38;5;241m=\u001b[39mobj, metadata\u001b[38;5;241m=\u001b[39mmetadata, \u001b[38;5;241m*\u001b[39m\u001b[38;5;241m*\u001b[39mkwargs)\n\u001b[1;32m    297\u001b[0m \u001b[38;5;28;01melse\u001b[39;00m:\n\u001b[0;32m--> 298\u001b[0m     format_dict, md_dict \u001b[38;5;241m=\u001b[39m \u001b[38;5;28;43mformat\u001b[39;49m\u001b[43m(\u001b[49m\u001b[43mobj\u001b[49m\u001b[43m,\u001b[49m\u001b[43m \u001b[49m\u001b[43minclude\u001b[49m\u001b[38;5;241;43m=\u001b[39;49m\u001b[43minclude\u001b[49m\u001b[43m,\u001b[49m\u001b[43m \u001b[49m\u001b[43mexclude\u001b[49m\u001b[38;5;241;43m=\u001b[39;49m\u001b[43mexclude\u001b[49m\u001b[43m)\u001b[49m\n\u001b[1;32m    299\u001b[0m     \u001b[38;5;28;01mif\u001b[39;00m \u001b[38;5;129;01mnot\u001b[39;00m format_dict:\n\u001b[1;32m    300\u001b[0m         \u001b[38;5;66;03m# nothing to display (e.g. _ipython_display_ took over)\u001b[39;00m\n\u001b[1;32m    301\u001b[0m         \u001b[38;5;28;01mcontinue\u001b[39;00m\n",
      "File \u001b[0;32m~/Desktop/ocr-donnees-textuelles/env/lib/python3.8/site-packages/IPython/core/formatters.py:178\u001b[0m, in \u001b[0;36mDisplayFormatter.format\u001b[0;34m(self, obj, include, exclude)\u001b[0m\n\u001b[1;32m    176\u001b[0m md \u001b[38;5;241m=\u001b[39m \u001b[38;5;28;01mNone\u001b[39;00m\n\u001b[1;32m    177\u001b[0m \u001b[38;5;28;01mtry\u001b[39;00m:\n\u001b[0;32m--> 178\u001b[0m     data \u001b[38;5;241m=\u001b[39m \u001b[43mformatter\u001b[49m\u001b[43m(\u001b[49m\u001b[43mobj\u001b[49m\u001b[43m)\u001b[49m\n\u001b[1;32m    179\u001b[0m \u001b[38;5;28;01mexcept\u001b[39;00m:\n\u001b[1;32m    180\u001b[0m     \u001b[38;5;66;03m# FIXME: log the exception\u001b[39;00m\n\u001b[1;32m    181\u001b[0m     \u001b[38;5;28;01mraise\u001b[39;00m\n",
      "File \u001b[0;32m~/Desktop/ocr-donnees-textuelles/env/lib/python3.8/site-packages/decorator.py:232\u001b[0m, in \u001b[0;36mdecorate.<locals>.fun\u001b[0;34m(*args, **kw)\u001b[0m\n\u001b[1;32m    230\u001b[0m \u001b[38;5;28;01mif\u001b[39;00m \u001b[38;5;129;01mnot\u001b[39;00m kwsyntax:\n\u001b[1;32m    231\u001b[0m     args, kw \u001b[38;5;241m=\u001b[39m fix(args, kw, sig)\n\u001b[0;32m--> 232\u001b[0m \u001b[38;5;28;01mreturn\u001b[39;00m \u001b[43mcaller\u001b[49m\u001b[43m(\u001b[49m\u001b[43mfunc\u001b[49m\u001b[43m,\u001b[49m\u001b[43m \u001b[49m\u001b[38;5;241;43m*\u001b[39;49m\u001b[43m(\u001b[49m\u001b[43mextras\u001b[49m\u001b[43m \u001b[49m\u001b[38;5;241;43m+\u001b[39;49m\u001b[43m \u001b[49m\u001b[43margs\u001b[49m\u001b[43m)\u001b[49m\u001b[43m,\u001b[49m\u001b[43m \u001b[49m\u001b[38;5;241;43m*\u001b[39;49m\u001b[38;5;241;43m*\u001b[39;49m\u001b[43mkw\u001b[49m\u001b[43m)\u001b[49m\n",
      "File \u001b[0;32m~/Desktop/ocr-donnees-textuelles/env/lib/python3.8/site-packages/IPython/core/formatters.py:222\u001b[0m, in \u001b[0;36mcatch_format_error\u001b[0;34m(method, self, *args, **kwargs)\u001b[0m\n\u001b[1;32m    220\u001b[0m \u001b[38;5;124;03m\"\"\"show traceback on failed format call\"\"\"\u001b[39;00m\n\u001b[1;32m    221\u001b[0m \u001b[38;5;28;01mtry\u001b[39;00m:\n\u001b[0;32m--> 222\u001b[0m     r \u001b[38;5;241m=\u001b[39m \u001b[43mmethod\u001b[49m\u001b[43m(\u001b[49m\u001b[38;5;28;43mself\u001b[39;49m\u001b[43m,\u001b[49m\u001b[43m \u001b[49m\u001b[38;5;241;43m*\u001b[39;49m\u001b[43margs\u001b[49m\u001b[43m,\u001b[49m\u001b[43m \u001b[49m\u001b[38;5;241;43m*\u001b[39;49m\u001b[38;5;241;43m*\u001b[39;49m\u001b[43mkwargs\u001b[49m\u001b[43m)\u001b[49m\n\u001b[1;32m    223\u001b[0m \u001b[38;5;28;01mexcept\u001b[39;00m \u001b[38;5;167;01mNotImplementedError\u001b[39;00m:\n\u001b[1;32m    224\u001b[0m     \u001b[38;5;66;03m# don't warn on NotImplementedErrors\u001b[39;00m\n\u001b[1;32m    225\u001b[0m     \u001b[38;5;28;01mreturn\u001b[39;00m \u001b[38;5;28mself\u001b[39m\u001b[38;5;241m.\u001b[39m_check_return(\u001b[38;5;28;01mNone\u001b[39;00m, args[\u001b[38;5;241m0\u001b[39m])\n",
      "File \u001b[0;32m~/Desktop/ocr-donnees-textuelles/env/lib/python3.8/site-packages/IPython/core/formatters.py:339\u001b[0m, in \u001b[0;36mBaseFormatter.__call__\u001b[0;34m(self, obj)\u001b[0m\n\u001b[1;32m    337\u001b[0m     \u001b[38;5;28;01mpass\u001b[39;00m\n\u001b[1;32m    338\u001b[0m \u001b[38;5;28;01melse\u001b[39;00m:\n\u001b[0;32m--> 339\u001b[0m     \u001b[38;5;28;01mreturn\u001b[39;00m \u001b[43mprinter\u001b[49m\u001b[43m(\u001b[49m\u001b[43mobj\u001b[49m\u001b[43m)\u001b[49m\n\u001b[1;32m    340\u001b[0m \u001b[38;5;66;03m# Finally look for special method names\u001b[39;00m\n\u001b[1;32m    341\u001b[0m method \u001b[38;5;241m=\u001b[39m get_real_method(obj, \u001b[38;5;28mself\u001b[39m\u001b[38;5;241m.\u001b[39mprint_method)\n",
      "File \u001b[0;32m~/Desktop/ocr-donnees-textuelles/env/lib/python3.8/site-packages/IPython/core/pylabtools.py:151\u001b[0m, in \u001b[0;36mprint_figure\u001b[0;34m(fig, fmt, bbox_inches, base64, **kwargs)\u001b[0m\n\u001b[1;32m    148\u001b[0m     \u001b[38;5;28;01mfrom\u001b[39;00m \u001b[38;5;21;01mmatplotlib\u001b[39;00m\u001b[38;5;21;01m.\u001b[39;00m\u001b[38;5;21;01mbackend_bases\u001b[39;00m \u001b[38;5;28;01mimport\u001b[39;00m FigureCanvasBase\n\u001b[1;32m    149\u001b[0m     FigureCanvasBase(fig)\n\u001b[0;32m--> 151\u001b[0m \u001b[43mfig\u001b[49m\u001b[38;5;241;43m.\u001b[39;49m\u001b[43mcanvas\u001b[49m\u001b[38;5;241;43m.\u001b[39;49m\u001b[43mprint_figure\u001b[49m\u001b[43m(\u001b[49m\u001b[43mbytes_io\u001b[49m\u001b[43m,\u001b[49m\u001b[43m \u001b[49m\u001b[38;5;241;43m*\u001b[39;49m\u001b[38;5;241;43m*\u001b[39;49m\u001b[43mkw\u001b[49m\u001b[43m)\u001b[49m\n\u001b[1;32m    152\u001b[0m data \u001b[38;5;241m=\u001b[39m bytes_io\u001b[38;5;241m.\u001b[39mgetvalue()\n\u001b[1;32m    153\u001b[0m \u001b[38;5;28;01mif\u001b[39;00m fmt \u001b[38;5;241m==\u001b[39m \u001b[38;5;124m'\u001b[39m\u001b[38;5;124msvg\u001b[39m\u001b[38;5;124m'\u001b[39m:\n",
      "File \u001b[0;32m~/Desktop/ocr-donnees-textuelles/env/lib/python3.8/site-packages/matplotlib/backend_bases.py:2319\u001b[0m, in \u001b[0;36mFigureCanvasBase.print_figure\u001b[0;34m(self, filename, dpi, facecolor, edgecolor, orientation, format, bbox_inches, pad_inches, bbox_extra_artists, backend, **kwargs)\u001b[0m\n\u001b[1;32m   2315\u001b[0m \u001b[38;5;28;01mtry\u001b[39;00m:\n\u001b[1;32m   2316\u001b[0m     \u001b[38;5;66;03m# _get_renderer may change the figure dpi (as vector formats\u001b[39;00m\n\u001b[1;32m   2317\u001b[0m     \u001b[38;5;66;03m# force the figure dpi to 72), so we need to set it again here.\u001b[39;00m\n\u001b[1;32m   2318\u001b[0m     \u001b[38;5;28;01mwith\u001b[39;00m cbook\u001b[38;5;241m.\u001b[39m_setattr_cm(\u001b[38;5;28mself\u001b[39m\u001b[38;5;241m.\u001b[39mfigure, dpi\u001b[38;5;241m=\u001b[39mdpi):\n\u001b[0;32m-> 2319\u001b[0m         result \u001b[38;5;241m=\u001b[39m \u001b[43mprint_method\u001b[49m\u001b[43m(\u001b[49m\n\u001b[1;32m   2320\u001b[0m \u001b[43m            \u001b[49m\u001b[43mfilename\u001b[49m\u001b[43m,\u001b[49m\n\u001b[1;32m   2321\u001b[0m \u001b[43m            \u001b[49m\u001b[43mfacecolor\u001b[49m\u001b[38;5;241;43m=\u001b[39;49m\u001b[43mfacecolor\u001b[49m\u001b[43m,\u001b[49m\n\u001b[1;32m   2322\u001b[0m \u001b[43m            \u001b[49m\u001b[43medgecolor\u001b[49m\u001b[38;5;241;43m=\u001b[39;49m\u001b[43medgecolor\u001b[49m\u001b[43m,\u001b[49m\n\u001b[1;32m   2323\u001b[0m \u001b[43m            \u001b[49m\u001b[43morientation\u001b[49m\u001b[38;5;241;43m=\u001b[39;49m\u001b[43morientation\u001b[49m\u001b[43m,\u001b[49m\n\u001b[1;32m   2324\u001b[0m \u001b[43m            \u001b[49m\u001b[43mbbox_inches_restore\u001b[49m\u001b[38;5;241;43m=\u001b[39;49m\u001b[43m_bbox_inches_restore\u001b[49m\u001b[43m,\u001b[49m\n\u001b[1;32m   2325\u001b[0m \u001b[43m            \u001b[49m\u001b[38;5;241;43m*\u001b[39;49m\u001b[38;5;241;43m*\u001b[39;49m\u001b[43mkwargs\u001b[49m\u001b[43m)\u001b[49m\n\u001b[1;32m   2326\u001b[0m \u001b[38;5;28;01mfinally\u001b[39;00m:\n\u001b[1;32m   2327\u001b[0m     \u001b[38;5;28;01mif\u001b[39;00m bbox_inches \u001b[38;5;129;01mand\u001b[39;00m restore_bbox:\n",
      "File \u001b[0;32m~/Desktop/ocr-donnees-textuelles/env/lib/python3.8/site-packages/matplotlib/backend_bases.py:1648\u001b[0m, in \u001b[0;36m_check_savefig_extra_args.<locals>.wrapper\u001b[0;34m(*args, **kwargs)\u001b[0m\n\u001b[1;32m   1640\u001b[0m     _api\u001b[38;5;241m.\u001b[39mwarn_deprecated(\n\u001b[1;32m   1641\u001b[0m         \u001b[38;5;124m'\u001b[39m\u001b[38;5;124m3.3\u001b[39m\u001b[38;5;124m'\u001b[39m, name\u001b[38;5;241m=\u001b[39mname, removal\u001b[38;5;241m=\u001b[39m\u001b[38;5;124m'\u001b[39m\u001b[38;5;124m3.6\u001b[39m\u001b[38;5;124m'\u001b[39m,\n\u001b[1;32m   1642\u001b[0m         message\u001b[38;5;241m=\u001b[39m\u001b[38;5;124m'\u001b[39m\u001b[38;5;132;01m%(name)s\u001b[39;00m\u001b[38;5;124m() got unexpected keyword argument \u001b[39m\u001b[38;5;124m\"\u001b[39m\u001b[38;5;124m'\u001b[39m\n\u001b[1;32m   1643\u001b[0m                 \u001b[38;5;241m+\u001b[39m arg \u001b[38;5;241m+\u001b[39m \u001b[38;5;124m'\u001b[39m\u001b[38;5;124m\"\u001b[39m\u001b[38;5;124m which is no longer supported as of \u001b[39m\u001b[38;5;124m'\u001b[39m\n\u001b[1;32m   1644\u001b[0m                 \u001b[38;5;124m'\u001b[39m\u001b[38;5;132;01m%(since)s\u001b[39;00m\u001b[38;5;124m and will become an error \u001b[39m\u001b[38;5;124m'\u001b[39m\n\u001b[1;32m   1645\u001b[0m                 \u001b[38;5;124m'\u001b[39m\u001b[38;5;132;01m%(removal)s\u001b[39;00m\u001b[38;5;124m'\u001b[39m)\n\u001b[1;32m   1646\u001b[0m     kwargs\u001b[38;5;241m.\u001b[39mpop(arg)\n\u001b[0;32m-> 1648\u001b[0m \u001b[38;5;28;01mreturn\u001b[39;00m \u001b[43mfunc\u001b[49m\u001b[43m(\u001b[49m\u001b[38;5;241;43m*\u001b[39;49m\u001b[43margs\u001b[49m\u001b[43m,\u001b[49m\u001b[43m \u001b[49m\u001b[38;5;241;43m*\u001b[39;49m\u001b[38;5;241;43m*\u001b[39;49m\u001b[43mkwargs\u001b[49m\u001b[43m)\u001b[49m\n",
      "File \u001b[0;32m~/Desktop/ocr-donnees-textuelles/env/lib/python3.8/site-packages/matplotlib/_api/deprecation.py:415\u001b[0m, in \u001b[0;36mdelete_parameter.<locals>.wrapper\u001b[0;34m(*inner_args, **inner_kwargs)\u001b[0m\n\u001b[1;32m    405\u001b[0m     deprecation_addendum \u001b[38;5;241m=\u001b[39m (\n\u001b[1;32m    406\u001b[0m         \u001b[38;5;124mf\u001b[39m\u001b[38;5;124m\"\u001b[39m\u001b[38;5;124mIf any parameter follows \u001b[39m\u001b[38;5;132;01m{\u001b[39;00mname\u001b[38;5;132;01m!r}\u001b[39;00m\u001b[38;5;124m, they should be passed as \u001b[39m\u001b[38;5;124m\"\u001b[39m\n\u001b[1;32m    407\u001b[0m         \u001b[38;5;124mf\u001b[39m\u001b[38;5;124m\"\u001b[39m\u001b[38;5;124mkeyword, not positionally.\u001b[39m\u001b[38;5;124m\"\u001b[39m)\n\u001b[1;32m    408\u001b[0m     warn_deprecated(\n\u001b[1;32m    409\u001b[0m         since,\n\u001b[1;32m    410\u001b[0m         name\u001b[38;5;241m=\u001b[39m\u001b[38;5;28mrepr\u001b[39m(name),\n\u001b[0;32m   (...)\u001b[0m\n\u001b[1;32m    413\u001b[0m                  \u001b[38;5;28;01melse\u001b[39;00m deprecation_addendum,\n\u001b[1;32m    414\u001b[0m         \u001b[38;5;241m*\u001b[39m\u001b[38;5;241m*\u001b[39mkwargs)\n\u001b[0;32m--> 415\u001b[0m \u001b[38;5;28;01mreturn\u001b[39;00m \u001b[43mfunc\u001b[49m\u001b[43m(\u001b[49m\u001b[38;5;241;43m*\u001b[39;49m\u001b[43minner_args\u001b[49m\u001b[43m,\u001b[49m\u001b[43m \u001b[49m\u001b[38;5;241;43m*\u001b[39;49m\u001b[38;5;241;43m*\u001b[39;49m\u001b[43minner_kwargs\u001b[49m\u001b[43m)\u001b[49m\n",
      "File \u001b[0;32m~/Desktop/ocr-donnees-textuelles/env/lib/python3.8/site-packages/matplotlib/backends/backend_agg.py:540\u001b[0m, in \u001b[0;36mFigureCanvasAgg.print_png\u001b[0;34m(self, filename_or_obj, metadata, pil_kwargs, *args)\u001b[0m\n\u001b[1;32m    490\u001b[0m \u001b[38;5;129m@_check_savefig_extra_args\u001b[39m\n\u001b[1;32m    491\u001b[0m \u001b[38;5;129m@_api\u001b[39m\u001b[38;5;241m.\u001b[39mdelete_parameter(\u001b[38;5;124m\"\u001b[39m\u001b[38;5;124m3.5\u001b[39m\u001b[38;5;124m\"\u001b[39m, \u001b[38;5;124m\"\u001b[39m\u001b[38;5;124margs\u001b[39m\u001b[38;5;124m\"\u001b[39m)\n\u001b[1;32m    492\u001b[0m \u001b[38;5;28;01mdef\u001b[39;00m \u001b[38;5;21mprint_png\u001b[39m(\u001b[38;5;28mself\u001b[39m, filename_or_obj, \u001b[38;5;241m*\u001b[39margs,\n\u001b[1;32m    493\u001b[0m               metadata\u001b[38;5;241m=\u001b[39m\u001b[38;5;28;01mNone\u001b[39;00m, pil_kwargs\u001b[38;5;241m=\u001b[39m\u001b[38;5;28;01mNone\u001b[39;00m):\n\u001b[1;32m    494\u001b[0m     \u001b[38;5;124;03m\"\"\"\u001b[39;00m\n\u001b[1;32m    495\u001b[0m \u001b[38;5;124;03m    Write the figure to a PNG file.\u001b[39;00m\n\u001b[1;32m    496\u001b[0m \n\u001b[0;32m   (...)\u001b[0m\n\u001b[1;32m    538\u001b[0m \u001b[38;5;124;03m        *metadata*, including the default 'Software' key.\u001b[39;00m\n\u001b[1;32m    539\u001b[0m \u001b[38;5;124;03m    \"\"\"\u001b[39;00m\n\u001b[0;32m--> 540\u001b[0m     \u001b[43mFigureCanvasAgg\u001b[49m\u001b[38;5;241;43m.\u001b[39;49m\u001b[43mdraw\u001b[49m\u001b[43m(\u001b[49m\u001b[38;5;28;43mself\u001b[39;49m\u001b[43m)\u001b[49m\n\u001b[1;32m    541\u001b[0m     mpl\u001b[38;5;241m.\u001b[39mimage\u001b[38;5;241m.\u001b[39mimsave(\n\u001b[1;32m    542\u001b[0m         filename_or_obj, \u001b[38;5;28mself\u001b[39m\u001b[38;5;241m.\u001b[39mbuffer_rgba(), \u001b[38;5;28mformat\u001b[39m\u001b[38;5;241m=\u001b[39m\u001b[38;5;124m\"\u001b[39m\u001b[38;5;124mpng\u001b[39m\u001b[38;5;124m\"\u001b[39m, origin\u001b[38;5;241m=\u001b[39m\u001b[38;5;124m\"\u001b[39m\u001b[38;5;124mupper\u001b[39m\u001b[38;5;124m\"\u001b[39m,\n\u001b[1;32m    543\u001b[0m         dpi\u001b[38;5;241m=\u001b[39m\u001b[38;5;28mself\u001b[39m\u001b[38;5;241m.\u001b[39mfigure\u001b[38;5;241m.\u001b[39mdpi, metadata\u001b[38;5;241m=\u001b[39mmetadata, pil_kwargs\u001b[38;5;241m=\u001b[39mpil_kwargs)\n",
      "File \u001b[0;32m~/Desktop/ocr-donnees-textuelles/env/lib/python3.8/site-packages/matplotlib/backends/backend_agg.py:436\u001b[0m, in \u001b[0;36mFigureCanvasAgg.draw\u001b[0;34m(self)\u001b[0m\n\u001b[1;32m    432\u001b[0m \u001b[38;5;66;03m# Acquire a lock on the shared font cache.\u001b[39;00m\n\u001b[1;32m    433\u001b[0m \u001b[38;5;28;01mwith\u001b[39;00m RendererAgg\u001b[38;5;241m.\u001b[39mlock, \\\n\u001b[1;32m    434\u001b[0m      (\u001b[38;5;28mself\u001b[39m\u001b[38;5;241m.\u001b[39mtoolbar\u001b[38;5;241m.\u001b[39m_wait_cursor_for_draw_cm() \u001b[38;5;28;01mif\u001b[39;00m \u001b[38;5;28mself\u001b[39m\u001b[38;5;241m.\u001b[39mtoolbar\n\u001b[1;32m    435\u001b[0m       \u001b[38;5;28;01melse\u001b[39;00m nullcontext()):\n\u001b[0;32m--> 436\u001b[0m     \u001b[38;5;28;43mself\u001b[39;49m\u001b[38;5;241;43m.\u001b[39;49m\u001b[43mfigure\u001b[49m\u001b[38;5;241;43m.\u001b[39;49m\u001b[43mdraw\u001b[49m\u001b[43m(\u001b[49m\u001b[38;5;28;43mself\u001b[39;49m\u001b[38;5;241;43m.\u001b[39;49m\u001b[43mrenderer\u001b[49m\u001b[43m)\u001b[49m\n\u001b[1;32m    437\u001b[0m     \u001b[38;5;66;03m# A GUI class may be need to update a window using this draw, so\u001b[39;00m\n\u001b[1;32m    438\u001b[0m     \u001b[38;5;66;03m# don't forget to call the superclass.\u001b[39;00m\n\u001b[1;32m    439\u001b[0m     \u001b[38;5;28msuper\u001b[39m()\u001b[38;5;241m.\u001b[39mdraw()\n",
      "File \u001b[0;32m~/Desktop/ocr-donnees-textuelles/env/lib/python3.8/site-packages/matplotlib/artist.py:73\u001b[0m, in \u001b[0;36m_finalize_rasterization.<locals>.draw_wrapper\u001b[0;34m(artist, renderer, *args, **kwargs)\u001b[0m\n\u001b[1;32m     71\u001b[0m \u001b[38;5;129m@wraps\u001b[39m(draw)\n\u001b[1;32m     72\u001b[0m \u001b[38;5;28;01mdef\u001b[39;00m \u001b[38;5;21mdraw_wrapper\u001b[39m(artist, renderer, \u001b[38;5;241m*\u001b[39margs, \u001b[38;5;241m*\u001b[39m\u001b[38;5;241m*\u001b[39mkwargs):\n\u001b[0;32m---> 73\u001b[0m     result \u001b[38;5;241m=\u001b[39m \u001b[43mdraw\u001b[49m\u001b[43m(\u001b[49m\u001b[43martist\u001b[49m\u001b[43m,\u001b[49m\u001b[43m \u001b[49m\u001b[43mrenderer\u001b[49m\u001b[43m,\u001b[49m\u001b[43m \u001b[49m\u001b[38;5;241;43m*\u001b[39;49m\u001b[43margs\u001b[49m\u001b[43m,\u001b[49m\u001b[43m \u001b[49m\u001b[38;5;241;43m*\u001b[39;49m\u001b[38;5;241;43m*\u001b[39;49m\u001b[43mkwargs\u001b[49m\u001b[43m)\u001b[49m\n\u001b[1;32m     74\u001b[0m     \u001b[38;5;28;01mif\u001b[39;00m renderer\u001b[38;5;241m.\u001b[39m_rasterizing:\n\u001b[1;32m     75\u001b[0m         renderer\u001b[38;5;241m.\u001b[39mstop_rasterizing()\n",
      "File \u001b[0;32m~/Desktop/ocr-donnees-textuelles/env/lib/python3.8/site-packages/matplotlib/artist.py:50\u001b[0m, in \u001b[0;36mallow_rasterization.<locals>.draw_wrapper\u001b[0;34m(artist, renderer)\u001b[0m\n\u001b[1;32m     47\u001b[0m     \u001b[38;5;28;01mif\u001b[39;00m artist\u001b[38;5;241m.\u001b[39mget_agg_filter() \u001b[38;5;129;01mis\u001b[39;00m \u001b[38;5;129;01mnot\u001b[39;00m \u001b[38;5;28;01mNone\u001b[39;00m:\n\u001b[1;32m     48\u001b[0m         renderer\u001b[38;5;241m.\u001b[39mstart_filter()\n\u001b[0;32m---> 50\u001b[0m     \u001b[38;5;28;01mreturn\u001b[39;00m \u001b[43mdraw\u001b[49m\u001b[43m(\u001b[49m\u001b[43martist\u001b[49m\u001b[43m,\u001b[49m\u001b[43m \u001b[49m\u001b[43mrenderer\u001b[49m\u001b[43m)\u001b[49m\n\u001b[1;32m     51\u001b[0m \u001b[38;5;28;01mfinally\u001b[39;00m:\n\u001b[1;32m     52\u001b[0m     \u001b[38;5;28;01mif\u001b[39;00m artist\u001b[38;5;241m.\u001b[39mget_agg_filter() \u001b[38;5;129;01mis\u001b[39;00m \u001b[38;5;129;01mnot\u001b[39;00m \u001b[38;5;28;01mNone\u001b[39;00m:\n",
      "File \u001b[0;32m~/Desktop/ocr-donnees-textuelles/env/lib/python3.8/site-packages/matplotlib/figure.py:2837\u001b[0m, in \u001b[0;36mFigure.draw\u001b[0;34m(self, renderer)\u001b[0m\n\u001b[1;32m   2834\u001b[0m         \u001b[38;5;66;03m# ValueError can occur when resizing a window.\u001b[39;00m\n\u001b[1;32m   2836\u001b[0m \u001b[38;5;28mself\u001b[39m\u001b[38;5;241m.\u001b[39mpatch\u001b[38;5;241m.\u001b[39mdraw(renderer)\n\u001b[0;32m-> 2837\u001b[0m \u001b[43mmimage\u001b[49m\u001b[38;5;241;43m.\u001b[39;49m\u001b[43m_draw_list_compositing_images\u001b[49m\u001b[43m(\u001b[49m\n\u001b[1;32m   2838\u001b[0m \u001b[43m    \u001b[49m\u001b[43mrenderer\u001b[49m\u001b[43m,\u001b[49m\u001b[43m \u001b[49m\u001b[38;5;28;43mself\u001b[39;49m\u001b[43m,\u001b[49m\u001b[43m \u001b[49m\u001b[43martists\u001b[49m\u001b[43m,\u001b[49m\u001b[43m \u001b[49m\u001b[38;5;28;43mself\u001b[39;49m\u001b[38;5;241;43m.\u001b[39;49m\u001b[43msuppressComposite\u001b[49m\u001b[43m)\u001b[49m\n\u001b[1;32m   2840\u001b[0m \u001b[38;5;28;01mfor\u001b[39;00m sfig \u001b[38;5;129;01min\u001b[39;00m \u001b[38;5;28mself\u001b[39m\u001b[38;5;241m.\u001b[39msubfigs:\n\u001b[1;32m   2841\u001b[0m     sfig\u001b[38;5;241m.\u001b[39mdraw(renderer)\n",
      "File \u001b[0;32m~/Desktop/ocr-donnees-textuelles/env/lib/python3.8/site-packages/matplotlib/image.py:132\u001b[0m, in \u001b[0;36m_draw_list_compositing_images\u001b[0;34m(renderer, parent, artists, suppress_composite)\u001b[0m\n\u001b[1;32m    130\u001b[0m \u001b[38;5;28;01mif\u001b[39;00m not_composite \u001b[38;5;129;01mor\u001b[39;00m \u001b[38;5;129;01mnot\u001b[39;00m has_images:\n\u001b[1;32m    131\u001b[0m     \u001b[38;5;28;01mfor\u001b[39;00m a \u001b[38;5;129;01min\u001b[39;00m artists:\n\u001b[0;32m--> 132\u001b[0m         \u001b[43ma\u001b[49m\u001b[38;5;241;43m.\u001b[39;49m\u001b[43mdraw\u001b[49m\u001b[43m(\u001b[49m\u001b[43mrenderer\u001b[49m\u001b[43m)\u001b[49m\n\u001b[1;32m    133\u001b[0m \u001b[38;5;28;01melse\u001b[39;00m:\n\u001b[1;32m    134\u001b[0m     \u001b[38;5;66;03m# Composite any adjacent images together\u001b[39;00m\n\u001b[1;32m    135\u001b[0m     image_group \u001b[38;5;241m=\u001b[39m []\n",
      "File \u001b[0;32m~/Desktop/ocr-donnees-textuelles/env/lib/python3.8/site-packages/matplotlib/artist.py:50\u001b[0m, in \u001b[0;36mallow_rasterization.<locals>.draw_wrapper\u001b[0;34m(artist, renderer)\u001b[0m\n\u001b[1;32m     47\u001b[0m     \u001b[38;5;28;01mif\u001b[39;00m artist\u001b[38;5;241m.\u001b[39mget_agg_filter() \u001b[38;5;129;01mis\u001b[39;00m \u001b[38;5;129;01mnot\u001b[39;00m \u001b[38;5;28;01mNone\u001b[39;00m:\n\u001b[1;32m     48\u001b[0m         renderer\u001b[38;5;241m.\u001b[39mstart_filter()\n\u001b[0;32m---> 50\u001b[0m     \u001b[38;5;28;01mreturn\u001b[39;00m \u001b[43mdraw\u001b[49m\u001b[43m(\u001b[49m\u001b[43martist\u001b[49m\u001b[43m,\u001b[49m\u001b[43m \u001b[49m\u001b[43mrenderer\u001b[49m\u001b[43m)\u001b[49m\n\u001b[1;32m     51\u001b[0m \u001b[38;5;28;01mfinally\u001b[39;00m:\n\u001b[1;32m     52\u001b[0m     \u001b[38;5;28;01mif\u001b[39;00m artist\u001b[38;5;241m.\u001b[39mget_agg_filter() \u001b[38;5;129;01mis\u001b[39;00m \u001b[38;5;129;01mnot\u001b[39;00m \u001b[38;5;28;01mNone\u001b[39;00m:\n",
      "File \u001b[0;32m~/Desktop/ocr-donnees-textuelles/env/lib/python3.8/site-packages/matplotlib/axes/_base.py:3091\u001b[0m, in \u001b[0;36m_AxesBase.draw\u001b[0;34m(self, renderer)\u001b[0m\n\u001b[1;32m   3088\u001b[0m         a\u001b[38;5;241m.\u001b[39mdraw(renderer)\n\u001b[1;32m   3089\u001b[0m     renderer\u001b[38;5;241m.\u001b[39mstop_rasterizing()\n\u001b[0;32m-> 3091\u001b[0m \u001b[43mmimage\u001b[49m\u001b[38;5;241;43m.\u001b[39;49m\u001b[43m_draw_list_compositing_images\u001b[49m\u001b[43m(\u001b[49m\n\u001b[1;32m   3092\u001b[0m \u001b[43m    \u001b[49m\u001b[43mrenderer\u001b[49m\u001b[43m,\u001b[49m\u001b[43m \u001b[49m\u001b[38;5;28;43mself\u001b[39;49m\u001b[43m,\u001b[49m\u001b[43m \u001b[49m\u001b[43martists\u001b[49m\u001b[43m,\u001b[49m\u001b[43m \u001b[49m\u001b[38;5;28;43mself\u001b[39;49m\u001b[38;5;241;43m.\u001b[39;49m\u001b[43mfigure\u001b[49m\u001b[38;5;241;43m.\u001b[39;49m\u001b[43msuppressComposite\u001b[49m\u001b[43m)\u001b[49m\n\u001b[1;32m   3094\u001b[0m renderer\u001b[38;5;241m.\u001b[39mclose_group(\u001b[38;5;124m'\u001b[39m\u001b[38;5;124maxes\u001b[39m\u001b[38;5;124m'\u001b[39m)\n\u001b[1;32m   3095\u001b[0m \u001b[38;5;28mself\u001b[39m\u001b[38;5;241m.\u001b[39mstale \u001b[38;5;241m=\u001b[39m \u001b[38;5;28;01mFalse\u001b[39;00m\n",
      "File \u001b[0;32m~/Desktop/ocr-donnees-textuelles/env/lib/python3.8/site-packages/matplotlib/image.py:132\u001b[0m, in \u001b[0;36m_draw_list_compositing_images\u001b[0;34m(renderer, parent, artists, suppress_composite)\u001b[0m\n\u001b[1;32m    130\u001b[0m \u001b[38;5;28;01mif\u001b[39;00m not_composite \u001b[38;5;129;01mor\u001b[39;00m \u001b[38;5;129;01mnot\u001b[39;00m has_images:\n\u001b[1;32m    131\u001b[0m     \u001b[38;5;28;01mfor\u001b[39;00m a \u001b[38;5;129;01min\u001b[39;00m artists:\n\u001b[0;32m--> 132\u001b[0m         \u001b[43ma\u001b[49m\u001b[38;5;241;43m.\u001b[39;49m\u001b[43mdraw\u001b[49m\u001b[43m(\u001b[49m\u001b[43mrenderer\u001b[49m\u001b[43m)\u001b[49m\n\u001b[1;32m    133\u001b[0m \u001b[38;5;28;01melse\u001b[39;00m:\n\u001b[1;32m    134\u001b[0m     \u001b[38;5;66;03m# Composite any adjacent images together\u001b[39;00m\n\u001b[1;32m    135\u001b[0m     image_group \u001b[38;5;241m=\u001b[39m []\n",
      "File \u001b[0;32m~/Desktop/ocr-donnees-textuelles/env/lib/python3.8/site-packages/matplotlib/artist.py:50\u001b[0m, in \u001b[0;36mallow_rasterization.<locals>.draw_wrapper\u001b[0;34m(artist, renderer)\u001b[0m\n\u001b[1;32m     47\u001b[0m     \u001b[38;5;28;01mif\u001b[39;00m artist\u001b[38;5;241m.\u001b[39mget_agg_filter() \u001b[38;5;129;01mis\u001b[39;00m \u001b[38;5;129;01mnot\u001b[39;00m \u001b[38;5;28;01mNone\u001b[39;00m:\n\u001b[1;32m     48\u001b[0m         renderer\u001b[38;5;241m.\u001b[39mstart_filter()\n\u001b[0;32m---> 50\u001b[0m     \u001b[38;5;28;01mreturn\u001b[39;00m \u001b[43mdraw\u001b[49m\u001b[43m(\u001b[49m\u001b[43martist\u001b[49m\u001b[43m,\u001b[49m\u001b[43m \u001b[49m\u001b[43mrenderer\u001b[49m\u001b[43m)\u001b[49m\n\u001b[1;32m     51\u001b[0m \u001b[38;5;28;01mfinally\u001b[39;00m:\n\u001b[1;32m     52\u001b[0m     \u001b[38;5;28;01mif\u001b[39;00m artist\u001b[38;5;241m.\u001b[39mget_agg_filter() \u001b[38;5;129;01mis\u001b[39;00m \u001b[38;5;129;01mnot\u001b[39;00m \u001b[38;5;28;01mNone\u001b[39;00m:\n",
      "File \u001b[0;32m~/Desktop/ocr-donnees-textuelles/env/lib/python3.8/site-packages/matplotlib/axis.py:1159\u001b[0m, in \u001b[0;36mAxis.draw\u001b[0;34m(self, renderer, *args, **kwargs)\u001b[0m\n\u001b[1;32m   1156\u001b[0m renderer\u001b[38;5;241m.\u001b[39mopen_group(\u001b[38;5;18m__name__\u001b[39m, gid\u001b[38;5;241m=\u001b[39m\u001b[38;5;28mself\u001b[39m\u001b[38;5;241m.\u001b[39mget_gid())\n\u001b[1;32m   1158\u001b[0m ticks_to_draw \u001b[38;5;241m=\u001b[39m \u001b[38;5;28mself\u001b[39m\u001b[38;5;241m.\u001b[39m_update_ticks()\n\u001b[0;32m-> 1159\u001b[0m ticklabelBoxes, ticklabelBoxes2 \u001b[38;5;241m=\u001b[39m \u001b[38;5;28;43mself\u001b[39;49m\u001b[38;5;241;43m.\u001b[39;49m\u001b[43m_get_tick_bboxes\u001b[49m\u001b[43m(\u001b[49m\u001b[43mticks_to_draw\u001b[49m\u001b[43m,\u001b[49m\n\u001b[1;32m   1160\u001b[0m \u001b[43m                                                        \u001b[49m\u001b[43mrenderer\u001b[49m\u001b[43m)\u001b[49m\n\u001b[1;32m   1162\u001b[0m \u001b[38;5;28;01mfor\u001b[39;00m tick \u001b[38;5;129;01min\u001b[39;00m ticks_to_draw:\n\u001b[1;32m   1163\u001b[0m     tick\u001b[38;5;241m.\u001b[39mdraw(renderer)\n",
      "File \u001b[0;32m~/Desktop/ocr-donnees-textuelles/env/lib/python3.8/site-packages/matplotlib/axis.py:1085\u001b[0m, in \u001b[0;36mAxis._get_tick_bboxes\u001b[0;34m(self, ticks, renderer)\u001b[0m\n\u001b[1;32m   1083\u001b[0m \u001b[38;5;28;01mdef\u001b[39;00m \u001b[38;5;21m_get_tick_bboxes\u001b[39m(\u001b[38;5;28mself\u001b[39m, ticks, renderer):\n\u001b[1;32m   1084\u001b[0m     \u001b[38;5;124;03m\"\"\"Return lists of bboxes for ticks' label1's and label2's.\"\"\"\u001b[39;00m\n\u001b[0;32m-> 1085\u001b[0m     \u001b[38;5;28;01mreturn\u001b[39;00m ([tick\u001b[38;5;241m.\u001b[39mlabel1\u001b[38;5;241m.\u001b[39mget_window_extent(renderer)\n\u001b[1;32m   1086\u001b[0m              \u001b[38;5;28;01mfor\u001b[39;00m tick \u001b[38;5;129;01min\u001b[39;00m ticks \u001b[38;5;28;01mif\u001b[39;00m tick\u001b[38;5;241m.\u001b[39mlabel1\u001b[38;5;241m.\u001b[39mget_visible()],\n\u001b[1;32m   1087\u001b[0m             [tick\u001b[38;5;241m.\u001b[39mlabel2\u001b[38;5;241m.\u001b[39mget_window_extent(renderer)\n\u001b[1;32m   1088\u001b[0m              \u001b[38;5;28;01mfor\u001b[39;00m tick \u001b[38;5;129;01min\u001b[39;00m ticks \u001b[38;5;28;01mif\u001b[39;00m tick\u001b[38;5;241m.\u001b[39mlabel2\u001b[38;5;241m.\u001b[39mget_visible()])\n",
      "File \u001b[0;32m~/Desktop/ocr-donnees-textuelles/env/lib/python3.8/site-packages/matplotlib/axis.py:1085\u001b[0m, in \u001b[0;36m<listcomp>\u001b[0;34m(.0)\u001b[0m\n\u001b[1;32m   1083\u001b[0m \u001b[38;5;28;01mdef\u001b[39;00m \u001b[38;5;21m_get_tick_bboxes\u001b[39m(\u001b[38;5;28mself\u001b[39m, ticks, renderer):\n\u001b[1;32m   1084\u001b[0m     \u001b[38;5;124;03m\"\"\"Return lists of bboxes for ticks' label1's and label2's.\"\"\"\u001b[39;00m\n\u001b[0;32m-> 1085\u001b[0m     \u001b[38;5;28;01mreturn\u001b[39;00m ([\u001b[43mtick\u001b[49m\u001b[38;5;241;43m.\u001b[39;49m\u001b[43mlabel1\u001b[49m\u001b[38;5;241;43m.\u001b[39;49m\u001b[43mget_window_extent\u001b[49m\u001b[43m(\u001b[49m\u001b[43mrenderer\u001b[49m\u001b[43m)\u001b[49m\n\u001b[1;32m   1086\u001b[0m              \u001b[38;5;28;01mfor\u001b[39;00m tick \u001b[38;5;129;01min\u001b[39;00m ticks \u001b[38;5;28;01mif\u001b[39;00m tick\u001b[38;5;241m.\u001b[39mlabel1\u001b[38;5;241m.\u001b[39mget_visible()],\n\u001b[1;32m   1087\u001b[0m             [tick\u001b[38;5;241m.\u001b[39mlabel2\u001b[38;5;241m.\u001b[39mget_window_extent(renderer)\n\u001b[1;32m   1088\u001b[0m              \u001b[38;5;28;01mfor\u001b[39;00m tick \u001b[38;5;129;01min\u001b[39;00m ticks \u001b[38;5;28;01mif\u001b[39;00m tick\u001b[38;5;241m.\u001b[39mlabel2\u001b[38;5;241m.\u001b[39mget_visible()])\n",
      "File \u001b[0;32m~/Desktop/ocr-donnees-textuelles/env/lib/python3.8/site-packages/matplotlib/text.py:910\u001b[0m, in \u001b[0;36mText.get_window_extent\u001b[0;34m(self, renderer, dpi)\u001b[0m\n\u001b[1;32m    907\u001b[0m     \u001b[38;5;28;01mraise\u001b[39;00m \u001b[38;5;167;01mRuntimeError\u001b[39;00m(\u001b[38;5;124m'\u001b[39m\u001b[38;5;124mCannot get window extent w/o renderer\u001b[39m\u001b[38;5;124m'\u001b[39m)\n\u001b[1;32m    909\u001b[0m \u001b[38;5;28;01mwith\u001b[39;00m cbook\u001b[38;5;241m.\u001b[39m_setattr_cm(\u001b[38;5;28mself\u001b[39m\u001b[38;5;241m.\u001b[39mfigure, dpi\u001b[38;5;241m=\u001b[39mdpi):\n\u001b[0;32m--> 910\u001b[0m     bbox, info, descent \u001b[38;5;241m=\u001b[39m \u001b[38;5;28;43mself\u001b[39;49m\u001b[38;5;241;43m.\u001b[39;49m\u001b[43m_get_layout\u001b[49m\u001b[43m(\u001b[49m\u001b[38;5;28;43mself\u001b[39;49m\u001b[38;5;241;43m.\u001b[39;49m\u001b[43m_renderer\u001b[49m\u001b[43m)\u001b[49m\n\u001b[1;32m    911\u001b[0m     x, y \u001b[38;5;241m=\u001b[39m \u001b[38;5;28mself\u001b[39m\u001b[38;5;241m.\u001b[39mget_unitless_position()\n\u001b[1;32m    912\u001b[0m     x, y \u001b[38;5;241m=\u001b[39m \u001b[38;5;28mself\u001b[39m\u001b[38;5;241m.\u001b[39mget_transform()\u001b[38;5;241m.\u001b[39mtransform((x, y))\n",
      "File \u001b[0;32m~/Desktop/ocr-donnees-textuelles/env/lib/python3.8/site-packages/matplotlib/text.py:309\u001b[0m, in \u001b[0;36mText._get_layout\u001b[0;34m(self, renderer)\u001b[0m\n\u001b[1;32m    306\u001b[0m ys \u001b[38;5;241m=\u001b[39m []\n\u001b[1;32m    308\u001b[0m \u001b[38;5;66;03m# Full vertical extent of font, including ascenders and descenders:\u001b[39;00m\n\u001b[0;32m--> 309\u001b[0m _, lp_h, lp_d \u001b[38;5;241m=\u001b[39m \u001b[43mrenderer\u001b[49m\u001b[38;5;241;43m.\u001b[39;49m\u001b[43mget_text_width_height_descent\u001b[49m(\n\u001b[1;32m    310\u001b[0m     \u001b[38;5;124m\"\u001b[39m\u001b[38;5;124mlp\u001b[39m\u001b[38;5;124m\"\u001b[39m, \u001b[38;5;28mself\u001b[39m\u001b[38;5;241m.\u001b[39m_fontproperties,\n\u001b[1;32m    311\u001b[0m     ismath\u001b[38;5;241m=\u001b[39m\u001b[38;5;124m\"\u001b[39m\u001b[38;5;124mTeX\u001b[39m\u001b[38;5;124m\"\u001b[39m \u001b[38;5;28;01mif\u001b[39;00m \u001b[38;5;28mself\u001b[39m\u001b[38;5;241m.\u001b[39mget_usetex() \u001b[38;5;28;01melse\u001b[39;00m \u001b[38;5;28;01mFalse\u001b[39;00m)\n\u001b[1;32m    312\u001b[0m min_dy \u001b[38;5;241m=\u001b[39m (lp_h \u001b[38;5;241m-\u001b[39m lp_d) \u001b[38;5;241m*\u001b[39m \u001b[38;5;28mself\u001b[39m\u001b[38;5;241m.\u001b[39m_linespacing\n\u001b[1;32m    314\u001b[0m \u001b[38;5;28;01mfor\u001b[39;00m i, line \u001b[38;5;129;01min\u001b[39;00m \u001b[38;5;28menumerate\u001b[39m(lines):\n",
      "\u001b[0;31mKeyboardInterrupt\u001b[0m: "
     ]
    }
   ],
   "source": [
    "# sns.countplot(pd.Series(cleaned_corpus))"
   ]
  },
  {
   "cell_type": "code",
   "execution_count": 67,
   "id": "eaca7018",
   "metadata": {
    "ExecuteTime": {
     "end_time": "2022-06-27T16:03:41.873867Z",
     "start_time": "2022-06-27T16:03:41.867132Z"
    }
   },
   "outputs": [
    {
     "data": {
      "text/plain": [
       "x9cuihib5nfinnish    1\n",
       "creatures            1\n",
       "nukes                1\n",
       "ys3nmwwyvc           1\n",
       "pact                 1\n",
       "stunckle             1\n",
       "alpotnb7q3japan      1\n",
       "restart              1\n",
       "navygermany          1\n",
       "40mln                1\n",
       "construct            1\n",
       "willie_am_i          1\n",
       "0dxvz7fdh3a          1\n",
       "cataclysmic          1\n",
       "gpvzv0249yus         1\n",
       "e9d9lk5fdwnuclear    1\n",
       "promised             1\n",
       "sy2whxt0k5           1\n",
       "frkodestuknavy       1\n",
       "rt_america           1\n",
       "xkurdr3yevnuclear    1\n",
       "melts                1\n",
       "subsd                1\n",
       "indo                 1\n",
       "xn09mx6sxy           1\n",
       "businessus           1\n",
       "d8awx2okke           1\n",
       "justthebottle        1\n",
       "sizewell             1\n",
       "reator               1\n",
       "dtype: int64"
      ]
     },
     "execution_count": 67,
     "metadata": {},
     "output_type": "execute_result"
    }
   ],
   "source": [
    "list_unique_words = tmp[tmp==1]\n",
    "list_unique_words[:30]"
   ]
  },
  {
   "cell_type": "code",
   "execution_count": 68,
   "id": "2eb9b8bc",
   "metadata": {
    "ExecuteTime": {
     "end_time": "2022-06-27T16:03:45.480940Z",
     "start_time": "2022-06-27T16:03:45.468725Z"
    }
   },
   "outputs": [
    {
     "data": {
      "text/plain": [
       "['x9cuihib5nfinnish',\n",
       " 'creatures',\n",
       " 'nukes',\n",
       " 'ys3nmwwyvc',\n",
       " 'pact',\n",
       " 'stunckle',\n",
       " 'alpotnb7q3japan',\n",
       " 'restart',\n",
       " 'navygermany',\n",
       " '40mln',\n",
       " 'construct',\n",
       " 'willie_am_i',\n",
       " '0dxvz7fdh3a',\n",
       " 'cataclysmic',\n",
       " 'gpvzv0249yus',\n",
       " 'e9d9lk5fdwnuclear',\n",
       " 'promised',\n",
       " 'sy2whxt0k5',\n",
       " 'frkodestuknavy',\n",
       " 'rt_america',\n",
       " 'xkurdr3yevnuclear',\n",
       " 'melts',\n",
       " 'subsd',\n",
       " 'indo',\n",
       " 'xn09mx6sxy',\n",
       " 'businessus',\n",
       " 'd8awx2okke',\n",
       " 'justthebottle',\n",
       " 'sizewell',\n",
       " 'reator']"
      ]
     },
     "execution_count": 68,
     "metadata": {},
     "output_type": "execute_result"
    }
   ],
   "source": [
    "list_unique_words = list(list_unique_words.index)\n",
    "list_unique_words[:30]"
   ]
  },
  {
   "cell_type": "code",
   "execution_count": 69,
   "id": "4fb47469",
   "metadata": {
    "ExecuteTime": {
     "end_time": "2022-06-27T16:05:21.613233Z",
     "start_time": "2022-06-27T16:05:21.608038Z"
    }
   },
   "outputs": [],
   "source": [
    "def process_text(txt, rejoin=False) : \n",
    "    \n",
    "    # lower\n",
    "    txt = txt.lower().strip()\n",
    "    \n",
    "    # tokenize\n",
    "    tokenizer = RegexpTokenizer(r\"\\w+\")\n",
    "    raw_tokens_list = tokenizer.tokenize(txt)\n",
    "    \n",
    "    # classics stopwords\n",
    "    cleaned_tokens_list = [w for w in raw_tokens_list if w not in stop_words]\n",
    "    \n",
    "    # no unique tokens\n",
    "    non_unique_tokens_list = [w for w in cleaned_tokens_list if w not in list_unique_words]\n",
    "    \n",
    "    # 3 more len words\n",
    "    more_than_3 =  [w for w in non_unique_tokens_list if len(w) > 3 ]\n",
    "    \n",
    "    # only alpha chars\n",
    "    alpha_num = [w for w in more_than_3 if w.isalpha()]\n",
    "    \n",
    "    # manage return type\n",
    "    if rejoin : \n",
    "        return \" \".join(cleaned_tokens_list)\n",
    "    \n",
    "    return cleaned_tokens_list"
   ]
  },
  {
   "cell_type": "code",
   "execution_count": 70,
   "id": "205a7e22",
   "metadata": {
    "ExecuteTime": {
     "end_time": "2022-06-27T16:05:24.861594Z",
     "start_time": "2022-06-27T16:05:24.855978Z"
    },
    "scrolled": true
   },
   "outputs": [
    {
     "data": {
      "text/plain": [
       "['deeds',\n",
       " 'reason',\n",
       " 'earthquake',\n",
       " 'may',\n",
       " 'allah',\n",
       " 'forgive',\n",
       " 'us',\n",
       " 'allforest',\n",
       " 'fire',\n",
       " 'near',\n",
       " 'la',\n",
       " 'ronge',\n",
       " 'sask',\n",
       " 'canadaall',\n",
       " 'residents',\n",
       " 'asked',\n",
       " 'shelter',\n",
       " 'place',\n",
       " 'notified',\n",
       " 'officers',\n",
       " 'evacuation',\n",
       " 'shelter',\n",
       " 'place',\n",
       " 'orders',\n",
       " 'expected13',\n",
       " '000',\n",
       " 'people',\n",
       " 'receive',\n",
       " 'wildfires',\n",
       " 'evacuation',\n",
       " 'orders',\n",
       " 'california',\n",
       " 'got',\n",
       " 'sent',\n",
       " 'photo',\n",
       " 'ruby',\n",
       " 'alaska',\n",
       " 'smoke',\n",
       " 'wildfires',\n",
       " 'pours',\n",
       " 'school',\n",
       " 'rockyfire',\n",
       " 'update',\n",
       " 'california',\n",
       " 'hwy',\n",
       " '20',\n",
       " 'closed',\n",
       " 'directions',\n",
       " 'due',\n",
       " 'lake',\n",
       " 'county',\n",
       " 'fire',\n",
       " 'cafire',\n",
       " 'wildfires',\n",
       " 'flood',\n",
       " 'disaster',\n",
       " 'heavy',\n",
       " 'rain',\n",
       " 'causes',\n",
       " 'flash',\n",
       " 'flooding',\n",
       " 'streets',\n",
       " 'manitou',\n",
       " 'colorado',\n",
       " 'springs',\n",
       " 'areasi',\n",
       " 'top',\n",
       " 'hill',\n",
       " 'see',\n",
       " 'fire',\n",
       " 'woods',\n",
       " 'emergency',\n",
       " 'evacuation',\n",
       " 'happening',\n",
       " 'building',\n",
       " 'across',\n",
       " 'streeti',\n",
       " 'afraid',\n",
       " 'tornado',\n",
       " 'coming',\n",
       " 'area',\n",
       " 'three',\n",
       " 'people',\n",
       " 'died',\n",
       " 'heat',\n",
       " 'wave',\n",
       " 'farhaha',\n",
       " 'south',\n",
       " 'tampa',\n",
       " 'getting',\n",
       " 'flooded',\n",
       " 'hah',\n",
       " 'wait',\n",
       " 'second',\n",
       " 'live',\n",
       " 'south',\n",
       " 'tampa',\n",
       " 'gonna',\n",
       " 'gonna',\n",
       " 'fvck']"
      ]
     },
     "execution_count": 70,
     "metadata": {},
     "output_type": "execute_result"
    }
   ],
   "source": [
    "cleaned_corpus[:100]"
   ]
  },
  {
   "cell_type": "code",
   "execution_count": 71,
   "id": "f08cac1a",
   "metadata": {
    "ExecuteTime": {
     "end_time": "2022-06-27T16:05:32.415208Z",
     "start_time": "2022-06-27T16:05:32.406091Z"
    }
   },
   "outputs": [
    {
     "data": {
      "text/plain": [
       "22486"
      ]
     },
     "execution_count": 71,
     "metadata": {},
     "output_type": "execute_result"
    }
   ],
   "source": [
    "len(set(cleaned_corpus))"
   ]
  },
  {
   "cell_type": "code",
   "execution_count": null,
   "id": "0441adca",
   "metadata": {
    "ExecuteTime": {
     "end_time": "2022-06-27T15:03:59.995371Z",
     "start_time": "2022-06-27T15:03:59.993236Z"
    }
   },
   "outputs": [],
   "source": []
  },
  {
   "cell_type": "code",
   "execution_count": null,
   "id": "d0d204c7",
   "metadata": {
    "ExecuteTime": {
     "end_time": "2022-06-27T14:45:56.442843Z",
     "start_time": "2022-06-27T14:45:56.363800Z"
    }
   },
   "outputs": [],
   "source": []
  },
  {
   "cell_type": "code",
   "execution_count": null,
   "id": "8cb4afa7",
   "metadata": {
    "ExecuteTime": {
     "end_time": "2022-06-27T14:45:56.601997Z",
     "start_time": "2022-06-27T14:45:56.445894Z"
    }
   },
   "outputs": [],
   "source": []
  },
  {
   "cell_type": "code",
   "execution_count": 57,
   "id": "f913830f",
   "metadata": {
    "ExecuteTime": {
     "end_time": "2022-06-27T15:04:01.282621Z",
     "start_time": "2022-06-27T15:03:59.997979Z"
    }
   },
   "outputs": [
    {
     "data": {
      "text/plain": [
       "'car'"
      ]
     },
     "execution_count": 57,
     "metadata": {},
     "output_type": "execute_result"
    }
   ],
   "source": []
  },
  {
   "cell_type": "code",
   "execution_count": 185,
   "id": "78a1ea66",
   "metadata": {
    "ExecuteTime": {
     "end_time": "2022-06-27T15:53:25.952174Z",
     "start_time": "2022-06-27T15:53:25.949482Z"
    }
   },
   "outputs": [],
   "source": []
  },
  {
   "cell_type": "code",
   "execution_count": 186,
   "id": "62185d7c",
   "metadata": {
    "ExecuteTime": {
     "end_time": "2022-06-27T15:53:26.567652Z",
     "start_time": "2022-06-27T15:53:26.343870Z"
    }
   },
   "outputs": [],
   "source": []
  },
  {
   "cell_type": "code",
   "execution_count": 187,
   "id": "4a522776",
   "metadata": {
    "ExecuteTime": {
     "end_time": "2022-06-27T15:53:26.904479Z",
     "start_time": "2022-06-27T15:53:26.896606Z"
    }
   },
   "outputs": [
    {
     "data": {
      "text/plain": [
       "21288"
      ]
     },
     "execution_count": 187,
     "metadata": {},
     "output_type": "execute_result"
    }
   ],
   "source": []
  },
  {
   "cell_type": "code",
   "execution_count": 72,
   "id": "906a48b9",
   "metadata": {
    "ExecuteTime": {
     "end_time": "2022-06-27T16:06:02.371833Z",
     "start_time": "2022-06-27T16:06:02.365754Z"
    }
   },
   "outputs": [],
   "source": [
    "def process_text(txt, rejoin=True, lemm_or_stemm = \"stem\") : \n",
    "    \"\"\"global text processing function\"\"\"\n",
    "    \n",
    "    # lower and strip\n",
    "    txt = txt.lower().strip()\n",
    "    \n",
    "    # tokenize\n",
    "    tokenizer = RegexpTokenizer(r\"\\w+\")\n",
    "    raw_tokens_list = tokenizer.tokenize(txt)\n",
    "    \n",
    "    # remove stop words\n",
    "    cleaned_tokens_list = [w for w in raw_tokens_list if w not in stop_words]\n",
    "    \n",
    "    # drop unique tokens\n",
    "    non_unique_tokens_list = [w for w in cleaned_tokens_list if w not in list_unique_words]\n",
    "    \n",
    "    # keep only len word > 3\n",
    "    more_than_3 =  [w for w in non_unique_tokens_list if len(w) > 3 ]\n",
    "    \n",
    "    # keep only alpha not num\n",
    "    alpha_num = [w for w in more_than_3 if w.isalpha()]\n",
    "    \n",
    "    # stem or lem\n",
    "    if lemm_or_stemm == \"lem\" : \n",
    "        trans = WordNetLemmatizer()\n",
    "        trans_text = [trans.lemmatize(i) for i in alpha_num ]\n",
    "    else : \n",
    "        trans = PorterStemmer()\n",
    "        trans_text = [trans.stem(i) for i in alpha_num ]\n",
    "    \n",
    "    #  return a list or a string\n",
    "    if rejoin : \n",
    "        return \" \".join(trans_text)\n",
    "    \n",
    "    return trans_text"
   ]
  },
  {
   "cell_type": "code",
   "execution_count": 73,
   "id": "b7400fe6",
   "metadata": {
    "ExecuteTime": {
     "end_time": "2022-06-27T16:06:20.553187Z",
     "start_time": "2022-06-27T16:06:05.686821Z"
    }
   },
   "outputs": [],
   "source": [
    "df[\"clean_text\"] = df.text.apply(lambda i : process_text(i))"
   ]
  },
  {
   "cell_type": "code",
   "execution_count": 74,
   "id": "28768381",
   "metadata": {
    "ExecuteTime": {
     "end_time": "2022-06-27T16:06:20.559048Z",
     "start_time": "2022-06-27T16:06:20.554975Z"
    }
   },
   "outputs": [
    {
     "data": {
      "text/plain": [
       "0       Our Deeds are the Reason of this #earthquake M...\n",
       "1                  Forest fire near La Ronge Sask. Canada\n",
       "2       All residents asked to 'shelter in place' are ...\n",
       "3       13,000 people receive #wildfires evacuation or...\n",
       "4       Just got sent this photo from Ruby #Alaska as ...\n",
       "                              ...                        \n",
       "7608    Two giant cranes holding a bridge collapse int...\n",
       "7609    @aria_ahrary @TheTawniest The out of control w...\n",
       "7610    M1.94 [01:04 UTC]?5km S of Volcano Hawaii. htt...\n",
       "7611    Police investigating after an e-bike collided ...\n",
       "7612    The Latest: More Homes Razed by Northern Calif...\n",
       "Name: text, Length: 7613, dtype: object"
      ]
     },
     "execution_count": 74,
     "metadata": {},
     "output_type": "execute_result"
    }
   ],
   "source": [
    "df.text"
   ]
  },
  {
   "cell_type": "code",
   "execution_count": 75,
   "id": "3c8be691",
   "metadata": {
    "ExecuteTime": {
     "end_time": "2022-06-27T16:06:20.568843Z",
     "start_time": "2022-06-27T16:06:20.560491Z"
    }
   },
   "outputs": [
    {
     "data": {
      "text/plain": [
       "0                      deed reason earthquak allah forgiv\n",
       "1                                 forest fire near canada\n",
       "2       resid ask shelter place offic evacu shelter pl...\n",
       "3             peopl receiv wildfir evacu order california\n",
       "4                  sent photo alaska smoke wildfir school\n",
       "                              ...                        \n",
       "7608      giant crane hold bridg collaps nearbi home http\n",
       "7609    thetawniest control wild fire california even ...\n",
       "7610                                  volcano hawaii http\n",
       "7611    polic investig bike collid littl portug bike r...\n",
       "7612    latest home raze northern california wildfir n...\n",
       "Name: clean_text, Length: 7613, dtype: object"
      ]
     },
     "execution_count": 75,
     "metadata": {},
     "output_type": "execute_result"
    }
   ],
   "source": [
    "df.clean_text"
   ]
  },
  {
   "cell_type": "code",
   "execution_count": 193,
   "id": "0623efe5",
   "metadata": {
    "ExecuteTime": {
     "end_time": "2022-06-27T15:54:10.255224Z",
     "start_time": "2022-06-27T15:54:10.252954Z"
    }
   },
   "outputs": [],
   "source": []
  },
  {
   "cell_type": "code",
   "execution_count": null,
   "id": "07b0ebd6",
   "metadata": {
    "ExecuteTime": {
     "end_time": "2022-06-27T16:06:27.176963Z",
     "start_time": "2022-06-27T16:06:27.174034Z"
    }
   },
   "outputs": [],
   "source": []
  },
  {
   "cell_type": "code",
   "execution_count": 116,
   "id": "7cbfa215",
   "metadata": {
    "ExecuteTime": {
     "end_time": "2022-06-27T16:18:03.998202Z",
     "start_time": "2022-06-27T16:18:03.936144Z"
    }
   },
   "outputs": [
    {
     "data": {
      "text/plain": [
       "<7613x5176 sparse matrix of type '<class 'numpy.float64'>'\n",
       "\twith 53222 stored elements in Compressed Sparse Row format>"
      ]
     },
     "execution_count": 116,
     "metadata": {},
     "output_type": "execute_result"
    }
   ],
   "source": [
    "tf = TfidfVectorizer()\n",
    "X = tf.fit_transform(df.clean_text)\n",
    "X"
   ]
  },
  {
   "cell_type": "code",
   "execution_count": 117,
   "id": "b20d81d7",
   "metadata": {
    "ExecuteTime": {
     "end_time": "2022-06-27T16:18:04.456868Z",
     "start_time": "2022-06-27T16:18:04.384541Z"
    }
   },
   "outputs": [
    {
     "data": {
      "text/plain": [
       "array([[0., 0., 0., ..., 0., 0., 0.],\n",
       "       [0., 0., 0., ..., 0., 0., 0.],\n",
       "       [0., 0., 0., ..., 0., 0., 0.],\n",
       "       ...,\n",
       "       [0., 0., 0., ..., 0., 0., 0.],\n",
       "       [0., 0., 0., ..., 0., 0., 0.],\n",
       "       [0., 0., 0., ..., 0., 0., 0.]])"
      ]
     },
     "execution_count": 117,
     "metadata": {},
     "output_type": "execute_result"
    }
   ],
   "source": [
    "X = X.toarray()\n",
    "X"
   ]
  },
  {
   "cell_type": "code",
   "execution_count": 118,
   "id": "7b5fc783",
   "metadata": {
    "ExecuteTime": {
     "end_time": "2022-06-27T16:18:04.858286Z",
     "start_time": "2022-06-27T16:18:04.850131Z"
    }
   },
   "outputs": [
    {
     "data": {
      "text/plain": [
       "array(['aannnnd', 'aashiqui', 'abandon', ..., 'ûïwe', 'ûïwhen', 'ûïyou'],\n",
       "      dtype=object)"
      ]
     },
     "execution_count": 118,
     "metadata": {},
     "output_type": "execute_result"
    }
   ],
   "source": [
    "tf.get_feature_names_out()"
   ]
  },
  {
   "cell_type": "code",
   "execution_count": 119,
   "id": "b504243f",
   "metadata": {
    "ExecuteTime": {
     "end_time": "2022-06-27T16:18:05.304581Z",
     "start_time": "2022-06-27T16:18:05.270926Z"
    }
   },
   "outputs": [
    {
     "data": {
      "text/html": [
       "<div>\n",
       "<style scoped>\n",
       "    .dataframe tbody tr th:only-of-type {\n",
       "        vertical-align: middle;\n",
       "    }\n",
       "\n",
       "    .dataframe tbody tr th {\n",
       "        vertical-align: top;\n",
       "    }\n",
       "\n",
       "    .dataframe thead th {\n",
       "        text-align: right;\n",
       "    }\n",
       "</style>\n",
       "<table border=\"1\" class=\"dataframe\">\n",
       "  <thead>\n",
       "    <tr style=\"text-align: right;\">\n",
       "      <th></th>\n",
       "      <th>aannnnd</th>\n",
       "      <th>aashiqui</th>\n",
       "      <th>abandon</th>\n",
       "      <th>abbott</th>\n",
       "      <th>abbruchsimul</th>\n",
       "      <th>abbswinston</th>\n",
       "      <th>abcnew</th>\n",
       "      <th>abia</th>\n",
       "      <th>abil</th>\n",
       "      <th>abl</th>\n",
       "      <th>...</th>\n",
       "      <th>ûªll</th>\n",
       "      <th>ûªre</th>\n",
       "      <th>ûªve</th>\n",
       "      <th>ûïhatchet</th>\n",
       "      <th>ûïrichmond</th>\n",
       "      <th>ûïstretcher</th>\n",
       "      <th>ûïthe</th>\n",
       "      <th>ûïwe</th>\n",
       "      <th>ûïwhen</th>\n",
       "      <th>ûïyou</th>\n",
       "    </tr>\n",
       "  </thead>\n",
       "  <tbody>\n",
       "    <tr>\n",
       "      <th>0</th>\n",
       "      <td>0.0</td>\n",
       "      <td>0.0</td>\n",
       "      <td>0.0</td>\n",
       "      <td>0.0</td>\n",
       "      <td>0.0</td>\n",
       "      <td>0.0</td>\n",
       "      <td>0.0</td>\n",
       "      <td>0.0</td>\n",
       "      <td>0.0</td>\n",
       "      <td>0.0</td>\n",
       "      <td>...</td>\n",
       "      <td>0.0</td>\n",
       "      <td>0.0</td>\n",
       "      <td>0.0</td>\n",
       "      <td>0.0</td>\n",
       "      <td>0.0</td>\n",
       "      <td>0.0</td>\n",
       "      <td>0.0</td>\n",
       "      <td>0.0</td>\n",
       "      <td>0.0</td>\n",
       "      <td>0.0</td>\n",
       "    </tr>\n",
       "    <tr>\n",
       "      <th>1</th>\n",
       "      <td>0.0</td>\n",
       "      <td>0.0</td>\n",
       "      <td>0.0</td>\n",
       "      <td>0.0</td>\n",
       "      <td>0.0</td>\n",
       "      <td>0.0</td>\n",
       "      <td>0.0</td>\n",
       "      <td>0.0</td>\n",
       "      <td>0.0</td>\n",
       "      <td>0.0</td>\n",
       "      <td>...</td>\n",
       "      <td>0.0</td>\n",
       "      <td>0.0</td>\n",
       "      <td>0.0</td>\n",
       "      <td>0.0</td>\n",
       "      <td>0.0</td>\n",
       "      <td>0.0</td>\n",
       "      <td>0.0</td>\n",
       "      <td>0.0</td>\n",
       "      <td>0.0</td>\n",
       "      <td>0.0</td>\n",
       "    </tr>\n",
       "    <tr>\n",
       "      <th>2</th>\n",
       "      <td>0.0</td>\n",
       "      <td>0.0</td>\n",
       "      <td>0.0</td>\n",
       "      <td>0.0</td>\n",
       "      <td>0.0</td>\n",
       "      <td>0.0</td>\n",
       "      <td>0.0</td>\n",
       "      <td>0.0</td>\n",
       "      <td>0.0</td>\n",
       "      <td>0.0</td>\n",
       "      <td>...</td>\n",
       "      <td>0.0</td>\n",
       "      <td>0.0</td>\n",
       "      <td>0.0</td>\n",
       "      <td>0.0</td>\n",
       "      <td>0.0</td>\n",
       "      <td>0.0</td>\n",
       "      <td>0.0</td>\n",
       "      <td>0.0</td>\n",
       "      <td>0.0</td>\n",
       "      <td>0.0</td>\n",
       "    </tr>\n",
       "    <tr>\n",
       "      <th>3</th>\n",
       "      <td>0.0</td>\n",
       "      <td>0.0</td>\n",
       "      <td>0.0</td>\n",
       "      <td>0.0</td>\n",
       "      <td>0.0</td>\n",
       "      <td>0.0</td>\n",
       "      <td>0.0</td>\n",
       "      <td>0.0</td>\n",
       "      <td>0.0</td>\n",
       "      <td>0.0</td>\n",
       "      <td>...</td>\n",
       "      <td>0.0</td>\n",
       "      <td>0.0</td>\n",
       "      <td>0.0</td>\n",
       "      <td>0.0</td>\n",
       "      <td>0.0</td>\n",
       "      <td>0.0</td>\n",
       "      <td>0.0</td>\n",
       "      <td>0.0</td>\n",
       "      <td>0.0</td>\n",
       "      <td>0.0</td>\n",
       "    </tr>\n",
       "    <tr>\n",
       "      <th>4</th>\n",
       "      <td>0.0</td>\n",
       "      <td>0.0</td>\n",
       "      <td>0.0</td>\n",
       "      <td>0.0</td>\n",
       "      <td>0.0</td>\n",
       "      <td>0.0</td>\n",
       "      <td>0.0</td>\n",
       "      <td>0.0</td>\n",
       "      <td>0.0</td>\n",
       "      <td>0.0</td>\n",
       "      <td>...</td>\n",
       "      <td>0.0</td>\n",
       "      <td>0.0</td>\n",
       "      <td>0.0</td>\n",
       "      <td>0.0</td>\n",
       "      <td>0.0</td>\n",
       "      <td>0.0</td>\n",
       "      <td>0.0</td>\n",
       "      <td>0.0</td>\n",
       "      <td>0.0</td>\n",
       "      <td>0.0</td>\n",
       "    </tr>\n",
       "    <tr>\n",
       "      <th>...</th>\n",
       "      <td>...</td>\n",
       "      <td>...</td>\n",
       "      <td>...</td>\n",
       "      <td>...</td>\n",
       "      <td>...</td>\n",
       "      <td>...</td>\n",
       "      <td>...</td>\n",
       "      <td>...</td>\n",
       "      <td>...</td>\n",
       "      <td>...</td>\n",
       "      <td>...</td>\n",
       "      <td>...</td>\n",
       "      <td>...</td>\n",
       "      <td>...</td>\n",
       "      <td>...</td>\n",
       "      <td>...</td>\n",
       "      <td>...</td>\n",
       "      <td>...</td>\n",
       "      <td>...</td>\n",
       "      <td>...</td>\n",
       "      <td>...</td>\n",
       "    </tr>\n",
       "    <tr>\n",
       "      <th>7608</th>\n",
       "      <td>0.0</td>\n",
       "      <td>0.0</td>\n",
       "      <td>0.0</td>\n",
       "      <td>0.0</td>\n",
       "      <td>0.0</td>\n",
       "      <td>0.0</td>\n",
       "      <td>0.0</td>\n",
       "      <td>0.0</td>\n",
       "      <td>0.0</td>\n",
       "      <td>0.0</td>\n",
       "      <td>...</td>\n",
       "      <td>0.0</td>\n",
       "      <td>0.0</td>\n",
       "      <td>0.0</td>\n",
       "      <td>0.0</td>\n",
       "      <td>0.0</td>\n",
       "      <td>0.0</td>\n",
       "      <td>0.0</td>\n",
       "      <td>0.0</td>\n",
       "      <td>0.0</td>\n",
       "      <td>0.0</td>\n",
       "    </tr>\n",
       "    <tr>\n",
       "      <th>7609</th>\n",
       "      <td>0.0</td>\n",
       "      <td>0.0</td>\n",
       "      <td>0.0</td>\n",
       "      <td>0.0</td>\n",
       "      <td>0.0</td>\n",
       "      <td>0.0</td>\n",
       "      <td>0.0</td>\n",
       "      <td>0.0</td>\n",
       "      <td>0.0</td>\n",
       "      <td>0.0</td>\n",
       "      <td>...</td>\n",
       "      <td>0.0</td>\n",
       "      <td>0.0</td>\n",
       "      <td>0.0</td>\n",
       "      <td>0.0</td>\n",
       "      <td>0.0</td>\n",
       "      <td>0.0</td>\n",
       "      <td>0.0</td>\n",
       "      <td>0.0</td>\n",
       "      <td>0.0</td>\n",
       "      <td>0.0</td>\n",
       "    </tr>\n",
       "    <tr>\n",
       "      <th>7610</th>\n",
       "      <td>0.0</td>\n",
       "      <td>0.0</td>\n",
       "      <td>0.0</td>\n",
       "      <td>0.0</td>\n",
       "      <td>0.0</td>\n",
       "      <td>0.0</td>\n",
       "      <td>0.0</td>\n",
       "      <td>0.0</td>\n",
       "      <td>0.0</td>\n",
       "      <td>0.0</td>\n",
       "      <td>...</td>\n",
       "      <td>0.0</td>\n",
       "      <td>0.0</td>\n",
       "      <td>0.0</td>\n",
       "      <td>0.0</td>\n",
       "      <td>0.0</td>\n",
       "      <td>0.0</td>\n",
       "      <td>0.0</td>\n",
       "      <td>0.0</td>\n",
       "      <td>0.0</td>\n",
       "      <td>0.0</td>\n",
       "    </tr>\n",
       "    <tr>\n",
       "      <th>7611</th>\n",
       "      <td>0.0</td>\n",
       "      <td>0.0</td>\n",
       "      <td>0.0</td>\n",
       "      <td>0.0</td>\n",
       "      <td>0.0</td>\n",
       "      <td>0.0</td>\n",
       "      <td>0.0</td>\n",
       "      <td>0.0</td>\n",
       "      <td>0.0</td>\n",
       "      <td>0.0</td>\n",
       "      <td>...</td>\n",
       "      <td>0.0</td>\n",
       "      <td>0.0</td>\n",
       "      <td>0.0</td>\n",
       "      <td>0.0</td>\n",
       "      <td>0.0</td>\n",
       "      <td>0.0</td>\n",
       "      <td>0.0</td>\n",
       "      <td>0.0</td>\n",
       "      <td>0.0</td>\n",
       "      <td>0.0</td>\n",
       "    </tr>\n",
       "    <tr>\n",
       "      <th>7612</th>\n",
       "      <td>0.0</td>\n",
       "      <td>0.0</td>\n",
       "      <td>0.0</td>\n",
       "      <td>0.0</td>\n",
       "      <td>0.0</td>\n",
       "      <td>0.0</td>\n",
       "      <td>0.0</td>\n",
       "      <td>0.0</td>\n",
       "      <td>0.0</td>\n",
       "      <td>0.0</td>\n",
       "      <td>...</td>\n",
       "      <td>0.0</td>\n",
       "      <td>0.0</td>\n",
       "      <td>0.0</td>\n",
       "      <td>0.0</td>\n",
       "      <td>0.0</td>\n",
       "      <td>0.0</td>\n",
       "      <td>0.0</td>\n",
       "      <td>0.0</td>\n",
       "      <td>0.0</td>\n",
       "      <td>0.0</td>\n",
       "    </tr>\n",
       "  </tbody>\n",
       "</table>\n",
       "<p>7613 rows × 5176 columns</p>\n",
       "</div>"
      ],
      "text/plain": [
       "      aannnnd  aashiqui  abandon  abbott  abbruchsimul  abbswinston  abcnew  \\\n",
       "0         0.0       0.0      0.0     0.0           0.0          0.0     0.0   \n",
       "1         0.0       0.0      0.0     0.0           0.0          0.0     0.0   \n",
       "2         0.0       0.0      0.0     0.0           0.0          0.0     0.0   \n",
       "3         0.0       0.0      0.0     0.0           0.0          0.0     0.0   \n",
       "4         0.0       0.0      0.0     0.0           0.0          0.0     0.0   \n",
       "...       ...       ...      ...     ...           ...          ...     ...   \n",
       "7608      0.0       0.0      0.0     0.0           0.0          0.0     0.0   \n",
       "7609      0.0       0.0      0.0     0.0           0.0          0.0     0.0   \n",
       "7610      0.0       0.0      0.0     0.0           0.0          0.0     0.0   \n",
       "7611      0.0       0.0      0.0     0.0           0.0          0.0     0.0   \n",
       "7612      0.0       0.0      0.0     0.0           0.0          0.0     0.0   \n",
       "\n",
       "      abia  abil  abl  ...  ûªll  ûªre  ûªve  ûïhatchet  ûïrichmond  \\\n",
       "0      0.0   0.0  0.0  ...   0.0   0.0   0.0        0.0         0.0   \n",
       "1      0.0   0.0  0.0  ...   0.0   0.0   0.0        0.0         0.0   \n",
       "2      0.0   0.0  0.0  ...   0.0   0.0   0.0        0.0         0.0   \n",
       "3      0.0   0.0  0.0  ...   0.0   0.0   0.0        0.0         0.0   \n",
       "4      0.0   0.0  0.0  ...   0.0   0.0   0.0        0.0         0.0   \n",
       "...    ...   ...  ...  ...   ...   ...   ...        ...         ...   \n",
       "7608   0.0   0.0  0.0  ...   0.0   0.0   0.0        0.0         0.0   \n",
       "7609   0.0   0.0  0.0  ...   0.0   0.0   0.0        0.0         0.0   \n",
       "7610   0.0   0.0  0.0  ...   0.0   0.0   0.0        0.0         0.0   \n",
       "7611   0.0   0.0  0.0  ...   0.0   0.0   0.0        0.0         0.0   \n",
       "7612   0.0   0.0  0.0  ...   0.0   0.0   0.0        0.0         0.0   \n",
       "\n",
       "      ûïstretcher  ûïthe  ûïwe  ûïwhen  ûïyou  \n",
       "0             0.0    0.0   0.0     0.0    0.0  \n",
       "1             0.0    0.0   0.0     0.0    0.0  \n",
       "2             0.0    0.0   0.0     0.0    0.0  \n",
       "3             0.0    0.0   0.0     0.0    0.0  \n",
       "4             0.0    0.0   0.0     0.0    0.0  \n",
       "...           ...    ...   ...     ...    ...  \n",
       "7608          0.0    0.0   0.0     0.0    0.0  \n",
       "7609          0.0    0.0   0.0     0.0    0.0  \n",
       "7610          0.0    0.0   0.0     0.0    0.0  \n",
       "7611          0.0    0.0   0.0     0.0    0.0  \n",
       "7612          0.0    0.0   0.0     0.0    0.0  \n",
       "\n",
       "[7613 rows x 5176 columns]"
      ]
     },
     "execution_count": 119,
     "metadata": {},
     "output_type": "execute_result"
    }
   ],
   "source": [
    "X = pd.DataFrame(X, columns=tf.get_feature_names_out())\n",
    "X"
   ]
  },
  {
   "cell_type": "code",
   "execution_count": null,
   "id": "b1f25c1a",
   "metadata": {
    "ExecuteTime": {
     "end_time": "2022-06-27T15:54:16.203569Z",
     "start_time": "2022-06-27T15:54:14.804867Z"
    }
   },
   "outputs": [],
   "source": []
  },
  {
   "cell_type": "code",
   "execution_count": 120,
   "id": "6ecf472f",
   "metadata": {
    "ExecuteTime": {
     "end_time": "2022-06-27T16:18:09.830003Z",
     "start_time": "2022-06-27T16:18:09.821942Z"
    }
   },
   "outputs": [
    {
     "data": {
      "text/plain": [
       "5176"
      ]
     },
     "execution_count": 120,
     "metadata": {},
     "output_type": "execute_result"
    }
   ],
   "source": [
    "len(tf.get_feature_names_out())"
   ]
  },
  {
   "cell_type": "code",
   "execution_count": 121,
   "id": "a6bfb3f6",
   "metadata": {
    "ExecuteTime": {
     "end_time": "2022-06-27T16:18:13.178733Z",
     "start_time": "2022-06-27T16:18:13.147876Z"
    }
   },
   "outputs": [
    {
     "data": {
      "text/html": [
       "<div>\n",
       "<style scoped>\n",
       "    .dataframe tbody tr th:only-of-type {\n",
       "        vertical-align: middle;\n",
       "    }\n",
       "\n",
       "    .dataframe tbody tr th {\n",
       "        vertical-align: top;\n",
       "    }\n",
       "\n",
       "    .dataframe thead th {\n",
       "        text-align: right;\n",
       "    }\n",
       "</style>\n",
       "<table border=\"1\" class=\"dataframe\">\n",
       "  <thead>\n",
       "    <tr style=\"text-align: right;\">\n",
       "      <th></th>\n",
       "      <th>aannnnd</th>\n",
       "      <th>aashiqui</th>\n",
       "      <th>abandon</th>\n",
       "      <th>abbott</th>\n",
       "      <th>abbruchsimul</th>\n",
       "      <th>abbswinston</th>\n",
       "      <th>abcnew</th>\n",
       "      <th>abia</th>\n",
       "      <th>abil</th>\n",
       "      <th>abl</th>\n",
       "      <th>...</th>\n",
       "      <th>ûªll</th>\n",
       "      <th>ûªre</th>\n",
       "      <th>ûªve</th>\n",
       "      <th>ûïhatchet</th>\n",
       "      <th>ûïrichmond</th>\n",
       "      <th>ûïstretcher</th>\n",
       "      <th>ûïthe</th>\n",
       "      <th>ûïwe</th>\n",
       "      <th>ûïwhen</th>\n",
       "      <th>ûïyou</th>\n",
       "    </tr>\n",
       "  </thead>\n",
       "  <tbody>\n",
       "    <tr>\n",
       "      <th>0</th>\n",
       "      <td>0.0</td>\n",
       "      <td>0.0</td>\n",
       "      <td>0.0</td>\n",
       "      <td>0.0</td>\n",
       "      <td>0.0</td>\n",
       "      <td>0.0</td>\n",
       "      <td>0.0</td>\n",
       "      <td>0.0</td>\n",
       "      <td>0.0</td>\n",
       "      <td>0.0</td>\n",
       "      <td>...</td>\n",
       "      <td>0.0</td>\n",
       "      <td>0.0</td>\n",
       "      <td>0.0</td>\n",
       "      <td>0.0</td>\n",
       "      <td>0.0</td>\n",
       "      <td>0.0</td>\n",
       "      <td>0.0</td>\n",
       "      <td>0.0</td>\n",
       "      <td>0.0</td>\n",
       "      <td>0.0</td>\n",
       "    </tr>\n",
       "    <tr>\n",
       "      <th>1</th>\n",
       "      <td>0.0</td>\n",
       "      <td>0.0</td>\n",
       "      <td>0.0</td>\n",
       "      <td>0.0</td>\n",
       "      <td>0.0</td>\n",
       "      <td>0.0</td>\n",
       "      <td>0.0</td>\n",
       "      <td>0.0</td>\n",
       "      <td>0.0</td>\n",
       "      <td>0.0</td>\n",
       "      <td>...</td>\n",
       "      <td>0.0</td>\n",
       "      <td>0.0</td>\n",
       "      <td>0.0</td>\n",
       "      <td>0.0</td>\n",
       "      <td>0.0</td>\n",
       "      <td>0.0</td>\n",
       "      <td>0.0</td>\n",
       "      <td>0.0</td>\n",
       "      <td>0.0</td>\n",
       "      <td>0.0</td>\n",
       "    </tr>\n",
       "    <tr>\n",
       "      <th>2</th>\n",
       "      <td>0.0</td>\n",
       "      <td>0.0</td>\n",
       "      <td>0.0</td>\n",
       "      <td>0.0</td>\n",
       "      <td>0.0</td>\n",
       "      <td>0.0</td>\n",
       "      <td>0.0</td>\n",
       "      <td>0.0</td>\n",
       "      <td>0.0</td>\n",
       "      <td>0.0</td>\n",
       "      <td>...</td>\n",
       "      <td>0.0</td>\n",
       "      <td>0.0</td>\n",
       "      <td>0.0</td>\n",
       "      <td>0.0</td>\n",
       "      <td>0.0</td>\n",
       "      <td>0.0</td>\n",
       "      <td>0.0</td>\n",
       "      <td>0.0</td>\n",
       "      <td>0.0</td>\n",
       "      <td>0.0</td>\n",
       "    </tr>\n",
       "    <tr>\n",
       "      <th>3</th>\n",
       "      <td>0.0</td>\n",
       "      <td>0.0</td>\n",
       "      <td>0.0</td>\n",
       "      <td>0.0</td>\n",
       "      <td>0.0</td>\n",
       "      <td>0.0</td>\n",
       "      <td>0.0</td>\n",
       "      <td>0.0</td>\n",
       "      <td>0.0</td>\n",
       "      <td>0.0</td>\n",
       "      <td>...</td>\n",
       "      <td>0.0</td>\n",
       "      <td>0.0</td>\n",
       "      <td>0.0</td>\n",
       "      <td>0.0</td>\n",
       "      <td>0.0</td>\n",
       "      <td>0.0</td>\n",
       "      <td>0.0</td>\n",
       "      <td>0.0</td>\n",
       "      <td>0.0</td>\n",
       "      <td>0.0</td>\n",
       "    </tr>\n",
       "    <tr>\n",
       "      <th>4</th>\n",
       "      <td>0.0</td>\n",
       "      <td>0.0</td>\n",
       "      <td>0.0</td>\n",
       "      <td>0.0</td>\n",
       "      <td>0.0</td>\n",
       "      <td>0.0</td>\n",
       "      <td>0.0</td>\n",
       "      <td>0.0</td>\n",
       "      <td>0.0</td>\n",
       "      <td>0.0</td>\n",
       "      <td>...</td>\n",
       "      <td>0.0</td>\n",
       "      <td>0.0</td>\n",
       "      <td>0.0</td>\n",
       "      <td>0.0</td>\n",
       "      <td>0.0</td>\n",
       "      <td>0.0</td>\n",
       "      <td>0.0</td>\n",
       "      <td>0.0</td>\n",
       "      <td>0.0</td>\n",
       "      <td>0.0</td>\n",
       "    </tr>\n",
       "    <tr>\n",
       "      <th>...</th>\n",
       "      <td>...</td>\n",
       "      <td>...</td>\n",
       "      <td>...</td>\n",
       "      <td>...</td>\n",
       "      <td>...</td>\n",
       "      <td>...</td>\n",
       "      <td>...</td>\n",
       "      <td>...</td>\n",
       "      <td>...</td>\n",
       "      <td>...</td>\n",
       "      <td>...</td>\n",
       "      <td>...</td>\n",
       "      <td>...</td>\n",
       "      <td>...</td>\n",
       "      <td>...</td>\n",
       "      <td>...</td>\n",
       "      <td>...</td>\n",
       "      <td>...</td>\n",
       "      <td>...</td>\n",
       "      <td>...</td>\n",
       "      <td>...</td>\n",
       "    </tr>\n",
       "    <tr>\n",
       "      <th>7608</th>\n",
       "      <td>0.0</td>\n",
       "      <td>0.0</td>\n",
       "      <td>0.0</td>\n",
       "      <td>0.0</td>\n",
       "      <td>0.0</td>\n",
       "      <td>0.0</td>\n",
       "      <td>0.0</td>\n",
       "      <td>0.0</td>\n",
       "      <td>0.0</td>\n",
       "      <td>0.0</td>\n",
       "      <td>...</td>\n",
       "      <td>0.0</td>\n",
       "      <td>0.0</td>\n",
       "      <td>0.0</td>\n",
       "      <td>0.0</td>\n",
       "      <td>0.0</td>\n",
       "      <td>0.0</td>\n",
       "      <td>0.0</td>\n",
       "      <td>0.0</td>\n",
       "      <td>0.0</td>\n",
       "      <td>0.0</td>\n",
       "    </tr>\n",
       "    <tr>\n",
       "      <th>7609</th>\n",
       "      <td>0.0</td>\n",
       "      <td>0.0</td>\n",
       "      <td>0.0</td>\n",
       "      <td>0.0</td>\n",
       "      <td>0.0</td>\n",
       "      <td>0.0</td>\n",
       "      <td>0.0</td>\n",
       "      <td>0.0</td>\n",
       "      <td>0.0</td>\n",
       "      <td>0.0</td>\n",
       "      <td>...</td>\n",
       "      <td>0.0</td>\n",
       "      <td>0.0</td>\n",
       "      <td>0.0</td>\n",
       "      <td>0.0</td>\n",
       "      <td>0.0</td>\n",
       "      <td>0.0</td>\n",
       "      <td>0.0</td>\n",
       "      <td>0.0</td>\n",
       "      <td>0.0</td>\n",
       "      <td>0.0</td>\n",
       "    </tr>\n",
       "    <tr>\n",
       "      <th>7610</th>\n",
       "      <td>0.0</td>\n",
       "      <td>0.0</td>\n",
       "      <td>0.0</td>\n",
       "      <td>0.0</td>\n",
       "      <td>0.0</td>\n",
       "      <td>0.0</td>\n",
       "      <td>0.0</td>\n",
       "      <td>0.0</td>\n",
       "      <td>0.0</td>\n",
       "      <td>0.0</td>\n",
       "      <td>...</td>\n",
       "      <td>0.0</td>\n",
       "      <td>0.0</td>\n",
       "      <td>0.0</td>\n",
       "      <td>0.0</td>\n",
       "      <td>0.0</td>\n",
       "      <td>0.0</td>\n",
       "      <td>0.0</td>\n",
       "      <td>0.0</td>\n",
       "      <td>0.0</td>\n",
       "      <td>0.0</td>\n",
       "    </tr>\n",
       "    <tr>\n",
       "      <th>7611</th>\n",
       "      <td>0.0</td>\n",
       "      <td>0.0</td>\n",
       "      <td>0.0</td>\n",
       "      <td>0.0</td>\n",
       "      <td>0.0</td>\n",
       "      <td>0.0</td>\n",
       "      <td>0.0</td>\n",
       "      <td>0.0</td>\n",
       "      <td>0.0</td>\n",
       "      <td>0.0</td>\n",
       "      <td>...</td>\n",
       "      <td>0.0</td>\n",
       "      <td>0.0</td>\n",
       "      <td>0.0</td>\n",
       "      <td>0.0</td>\n",
       "      <td>0.0</td>\n",
       "      <td>0.0</td>\n",
       "      <td>0.0</td>\n",
       "      <td>0.0</td>\n",
       "      <td>0.0</td>\n",
       "      <td>0.0</td>\n",
       "    </tr>\n",
       "    <tr>\n",
       "      <th>7612</th>\n",
       "      <td>0.0</td>\n",
       "      <td>0.0</td>\n",
       "      <td>0.0</td>\n",
       "      <td>0.0</td>\n",
       "      <td>0.0</td>\n",
       "      <td>0.0</td>\n",
       "      <td>0.0</td>\n",
       "      <td>0.0</td>\n",
       "      <td>0.0</td>\n",
       "      <td>0.0</td>\n",
       "      <td>...</td>\n",
       "      <td>0.0</td>\n",
       "      <td>0.0</td>\n",
       "      <td>0.0</td>\n",
       "      <td>0.0</td>\n",
       "      <td>0.0</td>\n",
       "      <td>0.0</td>\n",
       "      <td>0.0</td>\n",
       "      <td>0.0</td>\n",
       "      <td>0.0</td>\n",
       "      <td>0.0</td>\n",
       "    </tr>\n",
       "  </tbody>\n",
       "</table>\n",
       "<p>7613 rows × 5176 columns</p>\n",
       "</div>"
      ],
      "text/plain": [
       "      aannnnd  aashiqui  abandon  abbott  abbruchsimul  abbswinston  abcnew  \\\n",
       "0         0.0       0.0      0.0     0.0           0.0          0.0     0.0   \n",
       "1         0.0       0.0      0.0     0.0           0.0          0.0     0.0   \n",
       "2         0.0       0.0      0.0     0.0           0.0          0.0     0.0   \n",
       "3         0.0       0.0      0.0     0.0           0.0          0.0     0.0   \n",
       "4         0.0       0.0      0.0     0.0           0.0          0.0     0.0   \n",
       "...       ...       ...      ...     ...           ...          ...     ...   \n",
       "7608      0.0       0.0      0.0     0.0           0.0          0.0     0.0   \n",
       "7609      0.0       0.0      0.0     0.0           0.0          0.0     0.0   \n",
       "7610      0.0       0.0      0.0     0.0           0.0          0.0     0.0   \n",
       "7611      0.0       0.0      0.0     0.0           0.0          0.0     0.0   \n",
       "7612      0.0       0.0      0.0     0.0           0.0          0.0     0.0   \n",
       "\n",
       "      abia  abil  abl  ...  ûªll  ûªre  ûªve  ûïhatchet  ûïrichmond  \\\n",
       "0      0.0   0.0  0.0  ...   0.0   0.0   0.0        0.0         0.0   \n",
       "1      0.0   0.0  0.0  ...   0.0   0.0   0.0        0.0         0.0   \n",
       "2      0.0   0.0  0.0  ...   0.0   0.0   0.0        0.0         0.0   \n",
       "3      0.0   0.0  0.0  ...   0.0   0.0   0.0        0.0         0.0   \n",
       "4      0.0   0.0  0.0  ...   0.0   0.0   0.0        0.0         0.0   \n",
       "...    ...   ...  ...  ...   ...   ...   ...        ...         ...   \n",
       "7608   0.0   0.0  0.0  ...   0.0   0.0   0.0        0.0         0.0   \n",
       "7609   0.0   0.0  0.0  ...   0.0   0.0   0.0        0.0         0.0   \n",
       "7610   0.0   0.0  0.0  ...   0.0   0.0   0.0        0.0         0.0   \n",
       "7611   0.0   0.0  0.0  ...   0.0   0.0   0.0        0.0         0.0   \n",
       "7612   0.0   0.0  0.0  ...   0.0   0.0   0.0        0.0         0.0   \n",
       "\n",
       "      ûïstretcher  ûïthe  ûïwe  ûïwhen  ûïyou  \n",
       "0             0.0    0.0   0.0     0.0    0.0  \n",
       "1             0.0    0.0   0.0     0.0    0.0  \n",
       "2             0.0    0.0   0.0     0.0    0.0  \n",
       "3             0.0    0.0   0.0     0.0    0.0  \n",
       "4             0.0    0.0   0.0     0.0    0.0  \n",
       "...           ...    ...   ...     ...    ...  \n",
       "7608          0.0    0.0   0.0     0.0    0.0  \n",
       "7609          0.0    0.0   0.0     0.0    0.0  \n",
       "7610          0.0    0.0   0.0     0.0    0.0  \n",
       "7611          0.0    0.0   0.0     0.0    0.0  \n",
       "7612          0.0    0.0   0.0     0.0    0.0  \n",
       "\n",
       "[7613 rows x 5176 columns]"
      ]
     },
     "execution_count": 121,
     "metadata": {},
     "output_type": "execute_result"
    }
   ],
   "source": [
    "X"
   ]
  },
  {
   "cell_type": "code",
   "execution_count": null,
   "id": "b0b65ece",
   "metadata": {
    "ExecuteTime": {
     "end_time": "2022-06-27T15:12:39.605031Z",
     "start_time": "2022-06-27T15:12:39.600408Z"
    }
   },
   "outputs": [],
   "source": []
  },
  {
   "cell_type": "code",
   "execution_count": 122,
   "id": "fbf0238c",
   "metadata": {
    "ExecuteTime": {
     "end_time": "2022-06-27T16:20:34.353583Z",
     "start_time": "2022-06-27T16:18:19.239051Z"
    }
   },
   "outputs": [
    {
     "ename": "KeyboardInterrupt",
     "evalue": "",
     "output_type": "error",
     "traceback": [
      "\u001b[0;31m---------------------------------------------------------------------------\u001b[0m",
      "\u001b[0;31mKeyboardInterrupt\u001b[0m                         Traceback (most recent call last)",
      "Input \u001b[0;32mIn [122]\u001b[0m, in \u001b[0;36m<cell line: 2>\u001b[0;34m()\u001b[0m\n\u001b[1;32m      1\u001b[0m pca \u001b[38;5;241m=\u001b[39m PCA()\n\u001b[0;32m----> 2\u001b[0m X_pca \u001b[38;5;241m=\u001b[39m \u001b[43mpca\u001b[49m\u001b[38;5;241;43m.\u001b[39;49m\u001b[43mfit_transform\u001b[49m\u001b[43m(\u001b[49m\u001b[43mX\u001b[49m\u001b[43m)\u001b[49m\n",
      "File \u001b[0;32m~/Desktop/ocr-donnees-textuelles/env/lib/python3.8/site-packages/sklearn/decomposition/_pca.py:433\u001b[0m, in \u001b[0;36mPCA.fit_transform\u001b[0;34m(self, X, y)\u001b[0m\n\u001b[1;32m    411\u001b[0m \u001b[38;5;28;01mdef\u001b[39;00m \u001b[38;5;21mfit_transform\u001b[39m(\u001b[38;5;28mself\u001b[39m, X, y\u001b[38;5;241m=\u001b[39m\u001b[38;5;28;01mNone\u001b[39;00m):\n\u001b[1;32m    412\u001b[0m     \u001b[38;5;124;03m\"\"\"Fit the model with X and apply the dimensionality reduction on X.\u001b[39;00m\n\u001b[1;32m    413\u001b[0m \n\u001b[1;32m    414\u001b[0m \u001b[38;5;124;03m    Parameters\u001b[39;00m\n\u001b[0;32m   (...)\u001b[0m\n\u001b[1;32m    431\u001b[0m \u001b[38;5;124;03m    C-ordered array, use 'np.ascontiguousarray'.\u001b[39;00m\n\u001b[1;32m    432\u001b[0m \u001b[38;5;124;03m    \"\"\"\u001b[39;00m\n\u001b[0;32m--> 433\u001b[0m     U, S, Vt \u001b[38;5;241m=\u001b[39m \u001b[38;5;28;43mself\u001b[39;49m\u001b[38;5;241;43m.\u001b[39;49m\u001b[43m_fit\u001b[49m\u001b[43m(\u001b[49m\u001b[43mX\u001b[49m\u001b[43m)\u001b[49m\n\u001b[1;32m    434\u001b[0m     U \u001b[38;5;241m=\u001b[39m U[:, : \u001b[38;5;28mself\u001b[39m\u001b[38;5;241m.\u001b[39mn_components_]\n\u001b[1;32m    436\u001b[0m     \u001b[38;5;28;01mif\u001b[39;00m \u001b[38;5;28mself\u001b[39m\u001b[38;5;241m.\u001b[39mwhiten:\n\u001b[1;32m    437\u001b[0m         \u001b[38;5;66;03m# X_new = X * V / S * sqrt(n_samples) = U * sqrt(n_samples)\u001b[39;00m\n",
      "File \u001b[0;32m~/Desktop/ocr-donnees-textuelles/env/lib/python3.8/site-packages/sklearn/decomposition/_pca.py:483\u001b[0m, in \u001b[0;36mPCA._fit\u001b[0;34m(self, X)\u001b[0m\n\u001b[1;32m    481\u001b[0m \u001b[38;5;66;03m# Call different fits for either full or truncated SVD\u001b[39;00m\n\u001b[1;32m    482\u001b[0m \u001b[38;5;28;01mif\u001b[39;00m \u001b[38;5;28mself\u001b[39m\u001b[38;5;241m.\u001b[39m_fit_svd_solver \u001b[38;5;241m==\u001b[39m \u001b[38;5;124m\"\u001b[39m\u001b[38;5;124mfull\u001b[39m\u001b[38;5;124m\"\u001b[39m:\n\u001b[0;32m--> 483\u001b[0m     \u001b[38;5;28;01mreturn\u001b[39;00m \u001b[38;5;28;43mself\u001b[39;49m\u001b[38;5;241;43m.\u001b[39;49m\u001b[43m_fit_full\u001b[49m\u001b[43m(\u001b[49m\u001b[43mX\u001b[49m\u001b[43m,\u001b[49m\u001b[43m \u001b[49m\u001b[43mn_components\u001b[49m\u001b[43m)\u001b[49m\n\u001b[1;32m    484\u001b[0m \u001b[38;5;28;01melif\u001b[39;00m \u001b[38;5;28mself\u001b[39m\u001b[38;5;241m.\u001b[39m_fit_svd_solver \u001b[38;5;129;01min\u001b[39;00m [\u001b[38;5;124m\"\u001b[39m\u001b[38;5;124marpack\u001b[39m\u001b[38;5;124m\"\u001b[39m, \u001b[38;5;124m\"\u001b[39m\u001b[38;5;124mrandomized\u001b[39m\u001b[38;5;124m\"\u001b[39m]:\n\u001b[1;32m    485\u001b[0m     \u001b[38;5;28;01mreturn\u001b[39;00m \u001b[38;5;28mself\u001b[39m\u001b[38;5;241m.\u001b[39m_fit_truncated(X, n_components, \u001b[38;5;28mself\u001b[39m\u001b[38;5;241m.\u001b[39m_fit_svd_solver)\n",
      "File \u001b[0;32m~/Desktop/ocr-donnees-textuelles/env/lib/python3.8/site-packages/sklearn/decomposition/_pca.py:518\u001b[0m, in \u001b[0;36mPCA._fit_full\u001b[0;34m(self, X, n_components)\u001b[0m\n\u001b[1;32m    515\u001b[0m \u001b[38;5;28mself\u001b[39m\u001b[38;5;241m.\u001b[39mmean_ \u001b[38;5;241m=\u001b[39m np\u001b[38;5;241m.\u001b[39mmean(X, axis\u001b[38;5;241m=\u001b[39m\u001b[38;5;241m0\u001b[39m)\n\u001b[1;32m    516\u001b[0m X \u001b[38;5;241m-\u001b[39m\u001b[38;5;241m=\u001b[39m \u001b[38;5;28mself\u001b[39m\u001b[38;5;241m.\u001b[39mmean_\n\u001b[0;32m--> 518\u001b[0m U, S, Vt \u001b[38;5;241m=\u001b[39m \u001b[43mlinalg\u001b[49m\u001b[38;5;241;43m.\u001b[39;49m\u001b[43msvd\u001b[49m\u001b[43m(\u001b[49m\u001b[43mX\u001b[49m\u001b[43m,\u001b[49m\u001b[43m \u001b[49m\u001b[43mfull_matrices\u001b[49m\u001b[38;5;241;43m=\u001b[39;49m\u001b[38;5;28;43;01mFalse\u001b[39;49;00m\u001b[43m)\u001b[49m\n\u001b[1;32m    519\u001b[0m \u001b[38;5;66;03m# flip eigenvectors' sign to enforce deterministic output\u001b[39;00m\n\u001b[1;32m    520\u001b[0m U, Vt \u001b[38;5;241m=\u001b[39m svd_flip(U, Vt)\n",
      "File \u001b[0;32m~/Desktop/ocr-donnees-textuelles/env/lib/python3.8/site-packages/scipy/linalg/_decomp_svd.py:127\u001b[0m, in \u001b[0;36msvd\u001b[0;34m(a, full_matrices, compute_uv, overwrite_a, check_finite, lapack_driver)\u001b[0m\n\u001b[1;32m    123\u001b[0m lwork \u001b[38;5;241m=\u001b[39m _compute_lwork(gesXd_lwork, a1\u001b[38;5;241m.\u001b[39mshape[\u001b[38;5;241m0\u001b[39m], a1\u001b[38;5;241m.\u001b[39mshape[\u001b[38;5;241m1\u001b[39m],\n\u001b[1;32m    124\u001b[0m                        compute_uv\u001b[38;5;241m=\u001b[39mcompute_uv, full_matrices\u001b[38;5;241m=\u001b[39mfull_matrices)\n\u001b[1;32m    126\u001b[0m \u001b[38;5;66;03m# perform decomposition\u001b[39;00m\n\u001b[0;32m--> 127\u001b[0m u, s, v, info \u001b[38;5;241m=\u001b[39m \u001b[43mgesXd\u001b[49m\u001b[43m(\u001b[49m\u001b[43ma1\u001b[49m\u001b[43m,\u001b[49m\u001b[43m \u001b[49m\u001b[43mcompute_uv\u001b[49m\u001b[38;5;241;43m=\u001b[39;49m\u001b[43mcompute_uv\u001b[49m\u001b[43m,\u001b[49m\u001b[43m \u001b[49m\u001b[43mlwork\u001b[49m\u001b[38;5;241;43m=\u001b[39;49m\u001b[43mlwork\u001b[49m\u001b[43m,\u001b[49m\n\u001b[1;32m    128\u001b[0m \u001b[43m                      \u001b[49m\u001b[43mfull_matrices\u001b[49m\u001b[38;5;241;43m=\u001b[39;49m\u001b[43mfull_matrices\u001b[49m\u001b[43m,\u001b[49m\u001b[43m \u001b[49m\u001b[43moverwrite_a\u001b[49m\u001b[38;5;241;43m=\u001b[39;49m\u001b[43moverwrite_a\u001b[49m\u001b[43m)\u001b[49m\n\u001b[1;32m    130\u001b[0m \u001b[38;5;28;01mif\u001b[39;00m info \u001b[38;5;241m>\u001b[39m \u001b[38;5;241m0\u001b[39m:\n\u001b[1;32m    131\u001b[0m     \u001b[38;5;28;01mraise\u001b[39;00m LinAlgError(\u001b[38;5;124m\"\u001b[39m\u001b[38;5;124mSVD did not converge\u001b[39m\u001b[38;5;124m\"\u001b[39m)\n",
      "\u001b[0;31mKeyboardInterrupt\u001b[0m: "
     ]
    }
   ],
   "source": [
    "pca = PCA()\n",
    "X_pca = pca.fit_transform(X)"
   ]
  },
  {
   "cell_type": "code",
   "execution_count": null,
   "id": "93667847",
   "metadata": {
    "ExecuteTime": {
     "end_time": "2022-06-27T16:20:34.356833Z",
     "start_time": "2022-06-27T16:20:34.356813Z"
    }
   },
   "outputs": [],
   "source": [
    "pca.explained_variance_ratio_"
   ]
  },
  {
   "cell_type": "code",
   "execution_count": null,
   "id": "9eefcc51",
   "metadata": {
    "ExecuteTime": {
     "end_time": "2022-06-27T16:20:34.358651Z",
     "start_time": "2022-06-27T16:20:34.358631Z"
    }
   },
   "outputs": [],
   "source": [
    "cumsum = np.cumsum(pca.explained_variance_ratio_)"
   ]
  },
  {
   "cell_type": "code",
   "execution_count": null,
   "id": "4823eb1c",
   "metadata": {
    "ExecuteTime": {
     "end_time": "2022-06-27T16:20:34.360379Z",
     "start_time": "2022-06-27T16:20:34.360357Z"
    }
   },
   "outputs": [],
   "source": [
    "len(cumsum)"
   ]
  },
  {
   "cell_type": "code",
   "execution_count": 95,
   "id": "a1c1e238",
   "metadata": {
    "ExecuteTime": {
     "end_time": "2022-06-27T16:10:46.140294Z",
     "start_time": "2022-06-27T16:10:46.047866Z"
    }
   },
   "outputs": [
    {
     "data": {
      "text/plain": [
       "[<matplotlib.lines.Line2D at 0x7f49a68848e0>]"
      ]
     },
     "execution_count": 95,
     "metadata": {},
     "output_type": "execute_result"
    },
    {
     "data": {
      "image/png": "[encoded data removed]",
      "text/plain": [
       "<Figure size 432x288 with 1 Axes>"
      ]
     },
     "metadata": {
      "needs_background": "light"
     },
     "output_type": "display_data"
    }
   ],
   "source": [
    "plt.plot(range(1, len(cumsum)+1), cumsum)"
   ]
  },
  {
   "cell_type": "code",
   "execution_count": 98,
   "id": "61448c1a",
   "metadata": {
    "ExecuteTime": {
     "end_time": "2022-06-27T16:11:05.148417Z",
     "start_time": "2022-06-27T16:11:05.143929Z"
    }
   },
   "outputs": [],
   "source": [
    "X_pca = X_pca[:, :1000]"
   ]
  },
  {
   "cell_type": "code",
   "execution_count": 99,
   "id": "2899e234",
   "metadata": {
    "ExecuteTime": {
     "end_time": "2022-06-27T16:11:05.728755Z",
     "start_time": "2022-06-27T16:11:05.721116Z"
    }
   },
   "outputs": [
    {
     "data": {
      "text/plain": [
       "(7613, 800)"
      ]
     },
     "execution_count": 99,
     "metadata": {},
     "output_type": "execute_result"
    }
   ],
   "source": [
    "X_pca.shape"
   ]
  },
  {
   "cell_type": "code",
   "execution_count": 100,
   "id": "297b7e92",
   "metadata": {
    "ExecuteTime": {
     "end_time": "2022-06-27T16:11:14.335633Z",
     "start_time": "2022-06-27T16:11:14.331083Z"
    }
   },
   "outputs": [],
   "source": [
    "X_train = pd.DataFrame(X_pca)\n",
    "y_train = df.target"
   ]
  },
  {
   "cell_type": "code",
   "execution_count": 101,
   "id": "bb62a34f",
   "metadata": {
    "ExecuteTime": {
     "end_time": "2022-06-27T16:11:15.467158Z",
     "start_time": "2022-06-27T16:11:15.463373Z"
    }
   },
   "outputs": [],
   "source": [
    "estimator = RandomForestClassifier()\n",
    "param_grid = {}\n",
    "cv = 10"
   ]
  },
  {
   "cell_type": "code",
   "execution_count": 102,
   "id": "5314420c",
   "metadata": {
    "ExecuteTime": {
     "end_time": "2022-06-27T16:12:37.070815Z",
     "start_time": "2022-06-27T16:11:16.042942Z"
    }
   },
   "outputs": [
    {
     "data": {
      "text/html": [
       "<style>#sk-container-id-1 {color: black;background-color: white;}#sk-container-id-1 pre{padding: 0;}#sk-container-id-1 div.sk-toggleable {background-color: white;}#sk-container-id-1 label.sk-toggleable__label {cursor: pointer;display: block;width: 100%;margin-bottom: 0;padding: 0.3em;box-sizing: border-box;text-align: center;}#sk-container-id-1 label.sk-toggleable__label-arrow:before {content: \"▸\";float: left;margin-right: 0.25em;color: #696969;}#sk-container-id-1 label.sk-toggleable__label-arrow:hover:before {color: black;}#sk-container-id-1 div.sk-estimator:hover label.sk-toggleable__label-arrow:before {color: black;}#sk-container-id-1 div.sk-toggleable__content {max-height: 0;max-width: 0;overflow: hidden;text-align: left;background-color: #f0f8ff;}#sk-container-id-1 div.sk-toggleable__content pre {margin: 0.2em;color: black;border-radius: 0.25em;background-color: #f0f8ff;}#sk-container-id-1 input.sk-toggleable__control:checked~div.sk-toggleable__content {max-height: 200px;max-width: 100%;overflow: auto;}#sk-container-id-1 input.sk-toggleable__control:checked~label.sk-toggleable__label-arrow:before {content: \"▾\";}#sk-container-id-1 div.sk-estimator input.sk-toggleable__control:checked~label.sk-toggleable__label {background-color: #d4ebff;}#sk-container-id-1 div.sk-label input.sk-toggleable__control:checked~label.sk-toggleable__label {background-color: #d4ebff;}#sk-container-id-1 input.sk-hidden--visually {border: 0;clip: rect(1px 1px 1px 1px);clip: rect(1px, 1px, 1px, 1px);height: 1px;margin: -1px;overflow: hidden;padding: 0;position: absolute;width: 1px;}#sk-container-id-1 div.sk-estimator {font-family: monospace;background-color: #f0f8ff;border: 1px dotted black;border-radius: 0.25em;box-sizing: border-box;margin-bottom: 0.5em;}#sk-container-id-1 div.sk-estimator:hover {background-color: #d4ebff;}#sk-container-id-1 div.sk-parallel-item::after {content: \"\";width: 100%;border-bottom: 1px solid gray;flex-grow: 1;}#sk-container-id-1 div.sk-label:hover label.sk-toggleable__label {background-color: #d4ebff;}#sk-container-id-1 div.sk-serial::before {content: \"\";position: absolute;border-left: 1px solid gray;box-sizing: border-box;top: 0;bottom: 0;left: 50%;z-index: 0;}#sk-container-id-1 div.sk-serial {display: flex;flex-direction: column;align-items: center;background-color: white;padding-right: 0.2em;padding-left: 0.2em;position: relative;}#sk-container-id-1 div.sk-item {position: relative;z-index: 1;}#sk-container-id-1 div.sk-parallel {display: flex;align-items: stretch;justify-content: center;background-color: white;position: relative;}#sk-container-id-1 div.sk-item::before, #sk-container-id-1 div.sk-parallel-item::before {content: \"\";position: absolute;border-left: 1px solid gray;box-sizing: border-box;top: 0;bottom: 0;left: 50%;z-index: -1;}#sk-container-id-1 div.sk-parallel-item {display: flex;flex-direction: column;z-index: 1;position: relative;background-color: white;}#sk-container-id-1 div.sk-parallel-item:first-child::after {align-self: flex-end;width: 50%;}#sk-container-id-1 div.sk-parallel-item:last-child::after {align-self: flex-start;width: 50%;}#sk-container-id-1 div.sk-parallel-item:only-child::after {width: 0;}#sk-container-id-1 div.sk-dashed-wrapped {border: 1px dashed gray;margin: 0 0.4em 0.5em 0.4em;box-sizing: border-box;padding-bottom: 0.4em;background-color: white;}#sk-container-id-1 div.sk-label label {font-family: monospace;font-weight: bold;display: inline-block;line-height: 1.2em;}#sk-container-id-1 div.sk-label-container {text-align: center;}#sk-container-id-1 div.sk-container {/* jupyter's `normalize.less` sets `[hidden] { display: none; }` but bootstrap.min.css set `[hidden] { display: none !important; }` so we also need the `!important` here to be able to override the default hidden behavior on the sphinx rendered scikit-learn.org. See: https://github.com/scikit-learn/scikit-learn/issues/21755 */display: inline-block !important;position: relative;}#sk-container-id-1 div.sk-text-repr-fallback {display: none;}</style><div id=\"sk-container-id-1\" class=\"sk-top-container\"><div class=\"sk-text-repr-fallback\"><pre>GridSearchCV(cv=10, estimator=RandomForestClassifier(), n_jobs=-1,\n",
       "             param_grid={})</pre><b>In a Jupyter environment, please rerun this cell to show the HTML representation or trust the notebook. <br />On GitHub, the HTML representation is unable to render, please try loading this page with nbviewer.org.</b></div><div class=\"sk-container\" hidden><div class=\"sk-item sk-dashed-wrapped\"><div class=\"sk-label-container\"><div class=\"sk-label sk-toggleable\"><input class=\"sk-toggleable__control sk-hidden--visually\" id=\"sk-estimator-id-1\" type=\"checkbox\" ><label for=\"sk-estimator-id-1\" class=\"sk-toggleable__label sk-toggleable__label-arrow\">GridSearchCV</label><div class=\"sk-toggleable__content\"><pre>GridSearchCV(cv=10, estimator=RandomForestClassifier(), n_jobs=-1,\n",
       "             param_grid={})</pre></div></div></div><div class=\"sk-parallel\"><div class=\"sk-parallel-item\"><div class=\"sk-item\"><div class=\"sk-label-container\"><div class=\"sk-label sk-toggleable\"><input class=\"sk-toggleable__control sk-hidden--visually\" id=\"sk-estimator-id-2\" type=\"checkbox\" ><label for=\"sk-estimator-id-2\" class=\"sk-toggleable__label sk-toggleable__label-arrow\">estimator: RandomForestClassifier</label><div class=\"sk-toggleable__content\"><pre>RandomForestClassifier()</pre></div></div></div><div class=\"sk-serial\"><div class=\"sk-item\"><div class=\"sk-estimator sk-toggleable\"><input class=\"sk-toggleable__control sk-hidden--visually\" id=\"sk-estimator-id-3\" type=\"checkbox\" ><label for=\"sk-estimator-id-3\" class=\"sk-toggleable__label sk-toggleable__label-arrow\">RandomForestClassifier</label><div class=\"sk-toggleable__content\"><pre>RandomForestClassifier()</pre></div></div></div></div></div></div></div></div></div></div>"
      ],
      "text/plain": [
       "GridSearchCV(cv=10, estimator=RandomForestClassifier(), n_jobs=-1,\n",
       "             param_grid={})"
      ]
     },
     "execution_count": 102,
     "metadata": {},
     "output_type": "execute_result"
    }
   ],
   "source": [
    "grid = GridSearchCV(estimator, param_grid, cv=cv, n_jobs=-1)\n",
    "grid.fit(X_train, y_train)"
   ]
  },
  {
   "cell_type": "code",
   "execution_count": 103,
   "id": "6ce64f15",
   "metadata": {
    "ExecuteTime": {
     "end_time": "2022-06-27T16:12:37.077665Z",
     "start_time": "2022-06-27T16:12:37.072823Z"
    }
   },
   "outputs": [],
   "source": [
    "res = pd.DataFrame(grid.cv_results_)\n",
    "cols = [i for i in res.columns if \"split\" not in i ]\n",
    "res = res[cols]\n",
    "res"
   ]
  },
  {
   "cell_type": "code",
   "execution_count": 104,
   "id": "94f279b4",
   "metadata": {
    "ExecuteTime": {
     "end_time": "2022-06-27T16:12:37.087477Z",
     "start_time": "2022-06-27T16:12:37.079317Z"
    }
   },
   "outputs": [
    {
     "data": {
      "text/html": [
       "<div>\n",
       "<style scoped>\n",
       "    .dataframe tbody tr th:only-of-type {\n",
       "        vertical-align: middle;\n",
       "    }\n",
       "\n",
       "    .dataframe tbody tr th {\n",
       "        vertical-align: top;\n",
       "    }\n",
       "\n",
       "    .dataframe thead th {\n",
       "        text-align: right;\n",
       "    }\n",
       "</style>\n",
       "<table border=\"1\" class=\"dataframe\">\n",
       "  <thead>\n",
       "    <tr style=\"text-align: right;\">\n",
       "      <th></th>\n",
       "      <th>mean_fit_time</th>\n",
       "      <th>std_fit_time</th>\n",
       "      <th>mean_score_time</th>\n",
       "      <th>std_score_time</th>\n",
       "      <th>params</th>\n",
       "      <th>mean_test_score</th>\n",
       "      <th>std_test_score</th>\n",
       "      <th>rank_test_score</th>\n",
       "    </tr>\n",
       "  </thead>\n",
       "  <tbody>\n",
       "    <tr>\n",
       "      <th>0</th>\n",
       "      <td>35.213131</td>\n",
       "      <td>6.852969</td>\n",
       "      <td>0.05958</td>\n",
       "      <td>0.017401</td>\n",
       "      <td>{}</td>\n",
       "      <td>0.663606</td>\n",
       "      <td>0.056981</td>\n",
       "      <td>1</td>\n",
       "    </tr>\n",
       "  </tbody>\n",
       "</table>\n",
       "</div>"
      ],
      "text/plain": [
       "   mean_fit_time  std_fit_time  mean_score_time  std_score_time params  \\\n",
       "0      35.213131      6.852969          0.05958        0.017401     {}   \n",
       "\n",
       "   mean_test_score  std_test_score  rank_test_score  \n",
       "0         0.663606        0.056981                1  "
      ]
     },
     "execution_count": 104,
     "metadata": {},
     "output_type": "execute_result"
    }
   ],
   "source": [
    "res"
   ]
  },
  {
   "cell_type": "code",
   "execution_count": 108,
   "id": "51c92291",
   "metadata": {
    "ExecuteTime": {
     "end_time": "2022-06-27T16:13:08.078570Z",
     "start_time": "2022-06-27T16:13:08.057036Z"
    }
   },
   "outputs": [
    {
     "data": {
      "text/plain": [
       "array([0.02379448, 0.01234724, 0.01208949, 0.01117866, 0.00575285,\n",
       "       0.00377014, 0.00834019, 0.00669237, 0.00344477, 0.00511978,\n",
       "       0.00514736, 0.00655219, 0.00843549, 0.00607813, 0.00928024,\n",
       "       0.00328269, 0.00864676, 0.00359412, 0.0026001 , 0.00944199,\n",
       "       0.00375315, 0.00338615, 0.00497267, 0.00312458, 0.00153848,\n",
       "       0.00422666, 0.00251376, 0.00218614, 0.00377581, 0.00234324,\n",
       "       0.00520651, 0.00895808, 0.00638379, 0.00254707, 0.00188703,\n",
       "       0.00214653, 0.00232387, 0.00227413, 0.00189748, 0.00204271,\n",
       "       0.00205656, 0.00233125, 0.00365237, 0.00154602, 0.00259134,\n",
       "       0.00203319, 0.00285599, 0.00211586, 0.00137684, 0.00158442,\n",
       "       0.00139294, 0.00146806, 0.00156453, 0.00182169, 0.00156485,\n",
       "       0.00279874, 0.00145937, 0.00139082, 0.00298577, 0.00154941,\n",
       "       0.00170014, 0.00211355, 0.00167746, 0.00225797, 0.00141013,\n",
       "       0.00169572, 0.00192799, 0.00164068, 0.00172518, 0.00127749,\n",
       "       0.00143252, 0.00161596, 0.001802  , 0.00156463, 0.00236524,\n",
       "       0.0015444 , 0.00156559, 0.00141707, 0.00157169, 0.00169479,\n",
       "       0.00139446, 0.00149692, 0.00120375, 0.00129789, 0.00117654,\n",
       "       0.00154777, 0.00261015, 0.00103739, 0.00106432, 0.00141924,\n",
       "       0.00141826, 0.00108524, 0.00115191, 0.00130993, 0.00199392,\n",
       "       0.00101429, 0.00133431, 0.00120371, 0.00128721, 0.00140307,\n",
       "       0.0015642 , 0.00123803, 0.00147986, 0.00124301, 0.0012191 ,\n",
       "       0.00145868, 0.00133941, 0.00133596, 0.00117718, 0.00154891,\n",
       "       0.00160348, 0.00143649, 0.00145685, 0.00204585, 0.00139036,\n",
       "       0.00156062, 0.00152349, 0.00117506, 0.00147976, 0.0013674 ,\n",
       "       0.00103939, 0.00120785, 0.00163469, 0.00115516, 0.00104704,\n",
       "       0.00137356, 0.0012318 , 0.00118712, 0.00126853, 0.00117045,\n",
       "       0.00138019, 0.00128779, 0.00143625, 0.00093376, 0.00080533,\n",
       "       0.00108633, 0.001351  , 0.00125855, 0.00101739, 0.00142503,\n",
       "       0.00122924, 0.00106241, 0.00082734, 0.00114284, 0.00158887,\n",
       "       0.00096415, 0.00105698, 0.00156236, 0.00108412, 0.00102051,\n",
       "       0.00111182, 0.00115602, 0.0010534 , 0.00143576, 0.00155022,\n",
       "       0.00118224, 0.00114701, 0.00108759, 0.00141569, 0.00089953,\n",
       "       0.0013451 , 0.00135323, 0.00101847, 0.00139075, 0.00117739,\n",
       "       0.00109234, 0.00115206, 0.00137641, 0.00121347, 0.00108084,\n",
       "       0.0012373 , 0.00116409, 0.000786  , 0.00106998, 0.00130395,\n",
       "       0.00095029, 0.00090851, 0.00088721, 0.00122656, 0.00094449,\n",
       "       0.00102918, 0.00071918, 0.00110419, 0.00107331, 0.0008555 ,\n",
       "       0.00132875, 0.00091509, 0.00134873, 0.00162323, 0.00085397,\n",
       "       0.00120645, 0.00102463, 0.00125133, 0.00102313, 0.00117791,\n",
       "       0.00093778, 0.00118763, 0.0009308 , 0.0007852 , 0.00091871,\n",
       "       0.00110925, 0.00088377, 0.00117492, 0.00096304, 0.00123574,\n",
       "       0.00126876, 0.00112481, 0.00087017, 0.00121474, 0.00090243,\n",
       "       0.00095107, 0.00065109, 0.0007986 , 0.00132561, 0.00115526,\n",
       "       0.00131666, 0.00093929, 0.00127517, 0.00098451, 0.00112152,\n",
       "       0.00078456, 0.00094727, 0.00096858, 0.00105048, 0.00108913,\n",
       "       0.00100157, 0.00107257, 0.00107514, 0.00089952, 0.00122686,\n",
       "       0.0008896 , 0.00117726, 0.00091389, 0.00088654, 0.00105527,\n",
       "       0.00129619, 0.00108825, 0.00091574, 0.00129457, 0.00129565,\n",
       "       0.0007856 , 0.00092559, 0.00094062, 0.00091866, 0.00088671,\n",
       "       0.00107156, 0.00134619, 0.00125487, 0.0008866 , 0.00109377,\n",
       "       0.00079004, 0.00082177, 0.00105836, 0.00090954, 0.00108669,\n",
       "       0.0009478 , 0.00088782, 0.00108975, 0.00099646, 0.0010403 ,\n",
       "       0.00114138, 0.00092549, 0.00115227, 0.00111713, 0.00072799,\n",
       "       0.00110491, 0.00089943, 0.0009687 , 0.00105609, 0.000965  ,\n",
       "       0.0010328 , 0.00124432, 0.00079264, 0.00109499, 0.00069219,\n",
       "       0.00112764, 0.0009553 , 0.00115851, 0.00094654, 0.00106574,\n",
       "       0.00088234, 0.00101404, 0.00100943, 0.00081498, 0.00095319,\n",
       "       0.00079541, 0.00127669, 0.00123858, 0.0008539 , 0.0008192 ,\n",
       "       0.00113801, 0.00117947, 0.00091607, 0.00108631, 0.00081678,\n",
       "       0.00089796, 0.0011562 , 0.00146842, 0.00079624, 0.00090332,\n",
       "       0.00105706, 0.00087421, 0.00125272, 0.00080374, 0.00095299,\n",
       "       0.00105095, 0.00114083, 0.00115942, 0.00091066, 0.00104326,\n",
       "       0.00083052, 0.0008791 , 0.00091685, 0.00102902, 0.00073229,\n",
       "       0.0008338 , 0.00095499, 0.0013161 , 0.0012761 , 0.00083828,\n",
       "       0.00076009, 0.00089927, 0.00092899, 0.00103089, 0.00067541,\n",
       "       0.00080821, 0.00083522, 0.00066854, 0.00072832, 0.00120363,\n",
       "       0.00103446, 0.00069394, 0.00088231, 0.00094803, 0.00111208,\n",
       "       0.00075764, 0.00093523, 0.0008533 , 0.00086554, 0.00102316,\n",
       "       0.00086957, 0.00091088, 0.00101399, 0.00117813, 0.00084161,\n",
       "       0.00062275, 0.00090731, 0.00090301, 0.00093695, 0.00094404,\n",
       "       0.00107672, 0.00107318, 0.00051582, 0.00099007, 0.00103253,\n",
       "       0.00091345, 0.00101257, 0.00109179, 0.00083553, 0.00099874,\n",
       "       0.00067027, 0.00105812, 0.00078362, 0.00086965, 0.00080912,\n",
       "       0.0012682 , 0.00096355, 0.0010687 , 0.00068734, 0.0009113 ,\n",
       "       0.00080162, 0.00111331, 0.0007262 , 0.0010545 , 0.00098554,\n",
       "       0.00119067, 0.00070217, 0.00081363, 0.00104398, 0.00052823,\n",
       "       0.0009591 , 0.00085572, 0.00095404, 0.00087098, 0.00072281,\n",
       "       0.00085818, 0.00063191, 0.00079556, 0.00096157, 0.00075153,\n",
       "       0.00081702, 0.00083167, 0.00107035, 0.00078779, 0.00084332,\n",
       "       0.00085318, 0.00092293, 0.00086673, 0.00106771, 0.0009824 ,\n",
       "       0.00076579, 0.00094497, 0.00112282, 0.00083212, 0.0008591 ,\n",
       "       0.00114293, 0.00105417, 0.00090136, 0.00132885, 0.00079694,\n",
       "       0.00085413, 0.00106272, 0.00081742, 0.00088025, 0.00073473,\n",
       "       0.00071011, 0.00071523, 0.00106891, 0.0009274 , 0.00089626,\n",
       "       0.00085616, 0.00111524, 0.00072928, 0.00078712, 0.00104085,\n",
       "       0.00083812, 0.00067032, 0.00070363, 0.00066355, 0.00066863,\n",
       "       0.00110858, 0.00108504, 0.00109108, 0.00094022, 0.00092243,\n",
       "       0.00109582, 0.00104472, 0.00103898, 0.00073523, 0.00103531,\n",
       "       0.00089718, 0.00084998, 0.00070199, 0.00071393, 0.00091881,\n",
       "       0.00087774, 0.00085141, 0.00106502, 0.00074019, 0.00087427,\n",
       "       0.00101643, 0.00062232, 0.00097584, 0.00114675, 0.00109581,\n",
       "       0.00091198, 0.00089508, 0.0009049 , 0.00114676, 0.00080323,\n",
       "       0.00108665, 0.00124644, 0.0010158 , 0.00082692, 0.00116339,\n",
       "       0.00105337, 0.00064753, 0.00088232, 0.00089647, 0.00079087,\n",
       "       0.00087468, 0.00117716, 0.00091164, 0.00095624, 0.00061913,\n",
       "       0.00079696, 0.00090689, 0.00091742, 0.00115792, 0.00111583,\n",
       "       0.00093011, 0.00085416, 0.00088671, 0.00079574, 0.00080511,\n",
       "       0.00083046, 0.00086185, 0.0008565 , 0.0008689 , 0.00068477,\n",
       "       0.00082974, 0.00108347, 0.00087066, 0.00108162, 0.00069428,\n",
       "       0.00095612, 0.00091938, 0.00074684, 0.00106569, 0.0009984 ,\n",
       "       0.00098694, 0.00094394, 0.00087695, 0.00083405, 0.00102975,\n",
       "       0.00104876, 0.00095901, 0.00091533, 0.00114828, 0.00070059,\n",
       "       0.00076665, 0.00106914, 0.00090534, 0.00103301, 0.00082525,\n",
       "       0.00067006, 0.00092179, 0.00084338, 0.00077484, 0.00067449,\n",
       "       0.00094267, 0.00084064, 0.00071904, 0.00103092, 0.00098835,\n",
       "       0.00087556, 0.00098242, 0.00086127, 0.00102759, 0.00076991,\n",
       "       0.0009114 , 0.00078867, 0.00083285, 0.0007022 , 0.00057212,\n",
       "       0.00062676, 0.00092745, 0.00096609, 0.00099391, 0.00129524,\n",
       "       0.00089041, 0.00086772, 0.00113418, 0.00096493, 0.00109372,\n",
       "       0.00088144, 0.00090506, 0.00097456, 0.00073696, 0.00095817,\n",
       "       0.00093722, 0.00082635, 0.00084142, 0.0009887 , 0.00080757,\n",
       "       0.00100397, 0.00084873, 0.00105487, 0.00092539, 0.00082343,\n",
       "       0.00097141, 0.00091707, 0.00071718, 0.00086906, 0.00100188,\n",
       "       0.00060792, 0.00084165, 0.00091092, 0.00086219, 0.00088884,\n",
       "       0.00089536, 0.00060685, 0.00081489, 0.00087816, 0.00105295,\n",
       "       0.00105846, 0.00091913, 0.00098516, 0.00068791, 0.00087651,\n",
       "       0.00093359, 0.00083578, 0.00086193, 0.00093238, 0.00064107,\n",
       "       0.00083752, 0.0010443 , 0.00099222, 0.00112393, 0.00093563,\n",
       "       0.00060603, 0.00074012, 0.00112965, 0.00118938, 0.00094064,\n",
       "       0.00078904, 0.00067953, 0.00085635, 0.00082705, 0.00090436,\n",
       "       0.00105194, 0.00092483, 0.00088788, 0.00068775, 0.00073292,\n",
       "       0.00099705, 0.00097728, 0.00082406, 0.00072789, 0.00081448,\n",
       "       0.00089821, 0.00079121, 0.00093608, 0.00083801, 0.00085731,\n",
       "       0.00073897, 0.00093315, 0.00088898, 0.00084283, 0.0011376 ,\n",
       "       0.00109997, 0.00085002, 0.00078182, 0.00070462, 0.00090497,\n",
       "       0.00088299, 0.0008356 , 0.00082201, 0.00111958, 0.0012497 ,\n",
       "       0.00074339, 0.00065431, 0.00106135, 0.0010482 , 0.00065171,\n",
       "       0.00108487, 0.00075056, 0.00113795, 0.0007078 , 0.00076721,\n",
       "       0.00114248, 0.00109997, 0.00088015, 0.00096481, 0.00075265,\n",
       "       0.00086505, 0.00081867, 0.00074138, 0.00085397, 0.00084228,\n",
       "       0.000939  , 0.00090232, 0.00087289, 0.00082008, 0.00083354,\n",
       "       0.00087342, 0.00113266, 0.00065723, 0.00085306, 0.00082891,\n",
       "       0.00064002, 0.00129272, 0.00092481, 0.00076141, 0.00096149,\n",
       "       0.00079821, 0.00085445, 0.00091399, 0.00066576, 0.00083772,\n",
       "       0.00096188, 0.00079096, 0.00049674, 0.00069749, 0.00070491,\n",
       "       0.00089407, 0.00100025, 0.00100818, 0.00100315, 0.00100364,\n",
       "       0.00075704, 0.00083775, 0.00095991, 0.00094191, 0.00102688,\n",
       "       0.00066563, 0.0011216 , 0.00089149, 0.00108647, 0.00102415,\n",
       "       0.00110221, 0.00075058, 0.000921  , 0.00108393, 0.00109504,\n",
       "       0.00074305, 0.00109125, 0.00073502, 0.00086009, 0.00093364,\n",
       "       0.00087434, 0.00072033, 0.00082343, 0.00100025, 0.00121643,\n",
       "       0.00089393, 0.00107044, 0.00079496, 0.00102887, 0.00086505,\n",
       "       0.00089094, 0.00080816, 0.00103675, 0.00112564, 0.00102143,\n",
       "       0.0008342 , 0.00078954, 0.00086766, 0.00091929, 0.00089969,\n",
       "       0.00102776, 0.0007082 , 0.00088099, 0.0010384 , 0.00075333,\n",
       "       0.00100913, 0.00103467, 0.00084613, 0.0008085 , 0.00095012,\n",
       "       0.00087627, 0.00077066, 0.00087824, 0.00081182, 0.00110232,\n",
       "       0.00075827, 0.00159214, 0.00083624, 0.00100808, 0.00089534,\n",
       "       0.0008733 , 0.00110624, 0.00080136, 0.0009928 , 0.0007766 ,\n",
       "       0.00096849, 0.00105041, 0.00085829, 0.00075756, 0.00109582,\n",
       "       0.00104273, 0.00091704, 0.00090592, 0.00093909, 0.00096128,\n",
       "       0.00098177, 0.00078114, 0.000867  , 0.00094343, 0.00068994,\n",
       "       0.00111641, 0.00105549, 0.00102795, 0.00102943, 0.00071784,\n",
       "       0.00081245, 0.00082224, 0.00086537, 0.00085335, 0.00100275,\n",
       "       0.00073489, 0.00075892, 0.00088896, 0.00110133, 0.00101911,\n",
       "       0.00099793, 0.00100847, 0.0008447 , 0.0006937 , 0.00098926,\n",
       "       0.00106986, 0.00058913, 0.0009477 , 0.00070495, 0.00092988,\n",
       "       0.00089451, 0.00078159, 0.00082348, 0.00095469, 0.00102927,\n",
       "       0.00084804, 0.00082364, 0.00123027, 0.00091975, 0.00085918,\n",
       "       0.00080024, 0.00101128, 0.00083229, 0.00092808, 0.00107076])"
      ]
     },
     "execution_count": 108,
     "metadata": {},
     "output_type": "execute_result"
    }
   ],
   "source": [
    "grid.best_estimator_.feature_importances_"
   ]
  },
  {
   "cell_type": "code",
   "execution_count": 128,
   "id": "f40086c6",
   "metadata": {
    "ExecuteTime": {
     "end_time": "2022-06-27T16:22:11.867402Z",
     "start_time": "2022-06-27T16:22:11.864202Z"
    }
   },
   "outputs": [],
   "source": [
    "tsd = TruncatedSVD(n_components=100)\n",
    "X_tsd = tsd.fit_transform(X)"
   ]
  },
  {
   "cell_type": "code",
   "execution_count": 129,
   "id": "47c07535",
   "metadata": {
    "ExecuteTime": {
     "end_time": "2022-06-27T16:22:16.523243Z",
     "start_time": "2022-06-27T16:22:12.655127Z"
    }
   },
   "outputs": [],
   "source": []
  },
  {
   "cell_type": "code",
   "execution_count": 130,
   "id": "6a922eb7",
   "metadata": {
    "ExecuteTime": {
     "end_time": "2022-06-27T16:23:01.872483Z",
     "start_time": "2022-06-27T16:22:37.882431Z"
    }
   },
   "outputs": [
    {
     "data": {
      "text/html": [
       "<style>#sk-container-id-3 {color: black;background-color: white;}#sk-container-id-3 pre{padding: 0;}#sk-container-id-3 div.sk-toggleable {background-color: white;}#sk-container-id-3 label.sk-toggleable__label {cursor: pointer;display: block;width: 100%;margin-bottom: 0;padding: 0.3em;box-sizing: border-box;text-align: center;}#sk-container-id-3 label.sk-toggleable__label-arrow:before {content: \"▸\";float: left;margin-right: 0.25em;color: #696969;}#sk-container-id-3 label.sk-toggleable__label-arrow:hover:before {color: black;}#sk-container-id-3 div.sk-estimator:hover label.sk-toggleable__label-arrow:before {color: black;}#sk-container-id-3 div.sk-toggleable__content {max-height: 0;max-width: 0;overflow: hidden;text-align: left;background-color: #f0f8ff;}#sk-container-id-3 div.sk-toggleable__content pre {margin: 0.2em;color: black;border-radius: 0.25em;background-color: #f0f8ff;}#sk-container-id-3 input.sk-toggleable__control:checked~div.sk-toggleable__content {max-height: 200px;max-width: 100%;overflow: auto;}#sk-container-id-3 input.sk-toggleable__control:checked~label.sk-toggleable__label-arrow:before {content: \"▾\";}#sk-container-id-3 div.sk-estimator input.sk-toggleable__control:checked~label.sk-toggleable__label {background-color: #d4ebff;}#sk-container-id-3 div.sk-label input.sk-toggleable__control:checked~label.sk-toggleable__label {background-color: #d4ebff;}#sk-container-id-3 input.sk-hidden--visually {border: 0;clip: rect(1px 1px 1px 1px);clip: rect(1px, 1px, 1px, 1px);height: 1px;margin: -1px;overflow: hidden;padding: 0;position: absolute;width: 1px;}#sk-container-id-3 div.sk-estimator {font-family: monospace;background-color: #f0f8ff;border: 1px dotted black;border-radius: 0.25em;box-sizing: border-box;margin-bottom: 0.5em;}#sk-container-id-3 div.sk-estimator:hover {background-color: #d4ebff;}#sk-container-id-3 div.sk-parallel-item::after {content: \"\";width: 100%;border-bottom: 1px solid gray;flex-grow: 1;}#sk-container-id-3 div.sk-label:hover label.sk-toggleable__label {background-color: #d4ebff;}#sk-container-id-3 div.sk-serial::before {content: \"\";position: absolute;border-left: 1px solid gray;box-sizing: border-box;top: 0;bottom: 0;left: 50%;z-index: 0;}#sk-container-id-3 div.sk-serial {display: flex;flex-direction: column;align-items: center;background-color: white;padding-right: 0.2em;padding-left: 0.2em;position: relative;}#sk-container-id-3 div.sk-item {position: relative;z-index: 1;}#sk-container-id-3 div.sk-parallel {display: flex;align-items: stretch;justify-content: center;background-color: white;position: relative;}#sk-container-id-3 div.sk-item::before, #sk-container-id-3 div.sk-parallel-item::before {content: \"\";position: absolute;border-left: 1px solid gray;box-sizing: border-box;top: 0;bottom: 0;left: 50%;z-index: -1;}#sk-container-id-3 div.sk-parallel-item {display: flex;flex-direction: column;z-index: 1;position: relative;background-color: white;}#sk-container-id-3 div.sk-parallel-item:first-child::after {align-self: flex-end;width: 50%;}#sk-container-id-3 div.sk-parallel-item:last-child::after {align-self: flex-start;width: 50%;}#sk-container-id-3 div.sk-parallel-item:only-child::after {width: 0;}#sk-container-id-3 div.sk-dashed-wrapped {border: 1px dashed gray;margin: 0 0.4em 0.5em 0.4em;box-sizing: border-box;padding-bottom: 0.4em;background-color: white;}#sk-container-id-3 div.sk-label label {font-family: monospace;font-weight: bold;display: inline-block;line-height: 1.2em;}#sk-container-id-3 div.sk-label-container {text-align: center;}#sk-container-id-3 div.sk-container {/* jupyter's `normalize.less` sets `[hidden] { display: none; }` but bootstrap.min.css set `[hidden] { display: none !important; }` so we also need the `!important` here to be able to override the default hidden behavior on the sphinx rendered scikit-learn.org. See: https://github.com/scikit-learn/scikit-learn/issues/21755 */display: inline-block !important;position: relative;}#sk-container-id-3 div.sk-text-repr-fallback {display: none;}</style><div id=\"sk-container-id-3\" class=\"sk-top-container\"><div class=\"sk-text-repr-fallback\"><pre>GridSearchCV(cv=10, estimator=RandomForestClassifier(), n_jobs=-1,\n",
       "             param_grid={})</pre><b>In a Jupyter environment, please rerun this cell to show the HTML representation or trust the notebook. <br />On GitHub, the HTML representation is unable to render, please try loading this page with nbviewer.org.</b></div><div class=\"sk-container\" hidden><div class=\"sk-item sk-dashed-wrapped\"><div class=\"sk-label-container\"><div class=\"sk-label sk-toggleable\"><input class=\"sk-toggleable__control sk-hidden--visually\" id=\"sk-estimator-id-5\" type=\"checkbox\" ><label for=\"sk-estimator-id-5\" class=\"sk-toggleable__label sk-toggleable__label-arrow\">GridSearchCV</label><div class=\"sk-toggleable__content\"><pre>GridSearchCV(cv=10, estimator=RandomForestClassifier(), n_jobs=-1,\n",
       "             param_grid={})</pre></div></div></div><div class=\"sk-parallel\"><div class=\"sk-parallel-item\"><div class=\"sk-item\"><div class=\"sk-label-container\"><div class=\"sk-label sk-toggleable\"><input class=\"sk-toggleable__control sk-hidden--visually\" id=\"sk-estimator-id-6\" type=\"checkbox\" ><label for=\"sk-estimator-id-6\" class=\"sk-toggleable__label sk-toggleable__label-arrow\">estimator: RandomForestClassifier</label><div class=\"sk-toggleable__content\"><pre>RandomForestClassifier()</pre></div></div></div><div class=\"sk-serial\"><div class=\"sk-item\"><div class=\"sk-estimator sk-toggleable\"><input class=\"sk-toggleable__control sk-hidden--visually\" id=\"sk-estimator-id-7\" type=\"checkbox\" ><label for=\"sk-estimator-id-7\" class=\"sk-toggleable__label sk-toggleable__label-arrow\">RandomForestClassifier</label><div class=\"sk-toggleable__content\"><pre>RandomForestClassifier()</pre></div></div></div></div></div></div></div></div></div></div>"
      ],
      "text/plain": [
       "GridSearchCV(cv=10, estimator=RandomForestClassifier(), n_jobs=-1,\n",
       "             param_grid={})"
      ]
     },
     "execution_count": 130,
     "metadata": {},
     "output_type": "execute_result"
    }
   ],
   "source": [
    "grid = GridSearchCV(estimator, param_grid, cv=cv, n_jobs=-1)\n",
    "grid.fit(X_tsd, y_train)"
   ]
  },
  {
   "cell_type": "code",
   "execution_count": 131,
   "id": "62f5948a",
   "metadata": {
    "ExecuteTime": {
     "end_time": "2022-06-27T16:23:01.885669Z",
     "start_time": "2022-06-27T16:23:01.874534Z"
    }
   },
   "outputs": [
    {
     "data": {
      "text/html": [
       "<div>\n",
       "<style scoped>\n",
       "    .dataframe tbody tr th:only-of-type {\n",
       "        vertical-align: middle;\n",
       "    }\n",
       "\n",
       "    .dataframe tbody tr th {\n",
       "        vertical-align: top;\n",
       "    }\n",
       "\n",
       "    .dataframe thead th {\n",
       "        text-align: right;\n",
       "    }\n",
       "</style>\n",
       "<table border=\"1\" class=\"dataframe\">\n",
       "  <thead>\n",
       "    <tr style=\"text-align: right;\">\n",
       "      <th></th>\n",
       "      <th>mean_fit_time</th>\n",
       "      <th>std_fit_time</th>\n",
       "      <th>mean_score_time</th>\n",
       "      <th>std_score_time</th>\n",
       "      <th>params</th>\n",
       "      <th>mean_test_score</th>\n",
       "      <th>std_test_score</th>\n",
       "      <th>rank_test_score</th>\n",
       "    </tr>\n",
       "  </thead>\n",
       "  <tbody>\n",
       "    <tr>\n",
       "      <th>0</th>\n",
       "      <td>9.38733</td>\n",
       "      <td>1.050091</td>\n",
       "      <td>0.051955</td>\n",
       "      <td>0.020975</td>\n",
       "      <td>{}</td>\n",
       "      <td>0.678056</td>\n",
       "      <td>0.062579</td>\n",
       "      <td>1</td>\n",
       "    </tr>\n",
       "  </tbody>\n",
       "</table>\n",
       "</div>"
      ],
      "text/plain": [
       "   mean_fit_time  std_fit_time  mean_score_time  std_score_time params  \\\n",
       "0        9.38733      1.050091         0.051955        0.020975     {}   \n",
       "\n",
       "   mean_test_score  std_test_score  rank_test_score  \n",
       "0         0.678056        0.062579                1  "
      ]
     },
     "execution_count": 131,
     "metadata": {},
     "output_type": "execute_result"
    }
   ],
   "source": [
    "res = pd.DataFrame(grid.cv_results_)\n",
    "cols = [i for i in res.columns if \"split\" not in i ]\n",
    "res = res[cols]\n",
    "res"
   ]
  },
  {
   "cell_type": "code",
   "execution_count": 124,
   "id": "88cd9b0e",
   "metadata": {
    "ExecuteTime": {
     "end_time": "2022-06-27T16:21:28.637442Z",
     "start_time": "2022-06-27T16:21:28.634950Z"
    }
   },
   "outputs": [],
   "source": []
  },
  {
   "cell_type": "code",
   "execution_count": 135,
   "id": "d1e7e0e1",
   "metadata": {
    "ExecuteTime": {
     "end_time": "2022-06-27T16:26:25.977405Z",
     "start_time": "2022-06-27T16:26:22.783668Z"
    }
   },
   "outputs": [
    {
     "data": {
      "text/plain": [
       "202900        thwackingli\n",
       "29757             canoodl\n",
       "144981            phonism\n",
       "70595           flambeaux\n",
       "215810          unentangl\n",
       "100236             johnin\n",
       "116937         miscarriag\n",
       "124128            nevadan\n",
       "93913           ineffectu\n",
       "210384           ultragas\n",
       "73799     frontomaxillari\n",
       "101340             katmon\n",
       "167695             resett\n",
       "232755               wiro\n",
       "165901            regreen\n",
       "184695        soliloquium\n",
       "193166             succin\n",
       "179628             shaman\n",
       "81077           guttifera\n",
       "230414            wappato\n",
       "129344             obviat\n",
       "163587              raven\n",
       "126246          nonfluctu\n",
       "22123              bifurc\n",
       "169879               rifl\n",
       "49226          decadianom\n",
       "73935               fruit\n",
       "126790          nonoutrag\n",
       "58694                duti\n",
       "65344             euchrom\n",
       "dtype: object"
      ]
     },
     "execution_count": 135,
     "metadata": {},
     "output_type": "execute_result"
    }
   ],
   "source": [
    "\n",
    "en_list = words.words()\n",
    "pd.Series(en_list).sample(30)\n"
   ]
  },
  {
   "cell_type": "code",
   "execution_count": 136,
   "id": "ef7bdf17",
   "metadata": {
    "ExecuteTime": {
     "end_time": "2022-06-27T16:26:37.230008Z",
     "start_time": "2022-06-27T16:26:34.413019Z"
    }
   },
   "outputs": [
    {
     "data": {
      "text/plain": [
       "78656          golfdom\n",
       "180058       shellshak\n",
       "69119           ferial\n",
       "170712        romishli\n",
       "215227        undisput\n",
       "174305          scalen\n",
       "27005             buba\n",
       "145338      photolitho\n",
       "122735          nauger\n",
       "229973         waddent\n",
       "143198           peror\n",
       "131829     orchestiida\n",
       "9667        anthribida\n",
       "139510          pariet\n",
       "158879    pseudopercul\n",
       "90549          iceland\n",
       "68694         fearless\n",
       "182137           sisal\n",
       "200892        tetrasem\n",
       "79033           gospel\n",
       "43716        cosmorama\n",
       "230449        wardhold\n",
       "187694        sprighti\n",
       "52025           despot\n",
       "217684      unhopingli\n",
       "130904       onkilonit\n",
       "73276           frator\n",
       "12233       arachnolog\n",
       "15461           attest\n",
       "1892          acrospor\n",
       "dtype: object"
      ]
     },
     "execution_count": 136,
     "metadata": {},
     "output_type": "execute_result"
    }
   ],
   "source": [
    "en_list = [i.lower() for i in en_list]\n",
    "\n",
    "ps = PorterStemmer()\n",
    "\n",
    "en_list = [ps.stem(i) for i in en_list]\n",
    "pd.Series(en_list).sample(30)"
   ]
  },
  {
   "cell_type": "code",
   "execution_count": 137,
   "id": "e41f527d",
   "metadata": {
    "ExecuteTime": {
     "end_time": "2022-06-27T16:27:52.739290Z",
     "start_time": "2022-06-27T16:27:52.733817Z"
    }
   },
   "outputs": [],
   "source": [
    "def process_text(txt, rejoin=True, lemm_or_stemm = \"stem\") : \n",
    "    \"\"\"global text processing function\"\"\"\n",
    "    \n",
    "    # lower and strip\n",
    "    txt = txt.lower().strip()\n",
    "    \n",
    "    # tokenize\n",
    "    tokenizer = RegexpTokenizer(r\"\\w+\")\n",
    "    raw_tokens_list = tokenizer.tokenize(txt)\n",
    "    \n",
    "    # remove stop words\n",
    "    cleaned_tokens_list = [w for w in raw_tokens_list if w not in stop_words]\n",
    "    \n",
    "    # drop unique tokens\n",
    "    non_unique_tokens_list = [w for w in cleaned_tokens_list if w not in list_unique_words]\n",
    "    \n",
    "    # keep only len word >= 3\n",
    "    more_than_3 =  [w for w in non_unique_tokens_list if len(w) >= 3 ]\n",
    "    \n",
    "    # keep only alpha not num\n",
    "    alpha_num = [w for w in more_than_3 if w.isalpha()]\n",
    "    \n",
    "    # stem or lem\n",
    "    if lemm_or_stemm == \"lem\" : \n",
    "        trans = WordNetLemmatizer()\n",
    "        trans_text = [trans.lemmatize(i) for i in alpha_num ]\n",
    "    else : \n",
    "        trans = PorterStemmer()\n",
    "        trans_text = [trans.stem(i) for i in alpha_num ]\n",
    "        \n",
    "    # in english \n",
    "    en_text = [i for i in trans_text if i in en_list]\n",
    "    \n",
    "    #  return a list or a string\n",
    "    if rejoin : \n",
    "        return \" \".join(trans_text)\n",
    "    \n",
    "    return trans_text"
   ]
  },
  {
   "cell_type": "code",
   "execution_count": null,
   "id": "d100e72b",
   "metadata": {
    "ExecuteTime": {
     "start_time": "2022-06-27T16:28:19.165Z"
    }
   },
   "outputs": [],
   "source": [
    "df[\"clean_text\"] = df.text.apply(lambda i :process_text(i) )"
   ]
  },
  {
   "cell_type": "code",
   "execution_count": null,
   "id": "38f60a33",
   "metadata": {},
   "outputs": [],
   "source": [
    "tf = TfidfVectorizer()\n",
    "X = tf.fit_transform(df.clean_text)\n",
    "X = X.to_array()"
   ]
  },
  {
   "cell_type": "code",
   "execution_count": null,
   "id": "41766813",
   "metadata": {},
   "outputs": [],
   "source": [
    "tsd = TruncatedSVD(n_components=300)\n",
    "X_tsd = tsd.fit_transform(X)"
   ]
  },
  {
   "cell_type": "code",
   "execution_count": null,
   "id": "c79e367d",
   "metadata": {
    "ExecuteTime": {
     "start_time": "2022-06-27T16:29:42.564Z"
    }
   },
   "outputs": [],
   "source": [
    "grid = GridSearchCV(estimator, param_grid, cv=cv, n_jobs=-1)\n",
    "grid.fit(X_tsd, y_train)"
   ]
  },
  {
   "cell_type": "code",
   "execution_count": null,
   "id": "c8531b8c",
   "metadata": {},
   "outputs": [],
   "source": [
    "res = pd.DataFrame(grid.cv_results_)\n",
    "cols = [i for i in res.columns if \"split\" not in i ]\n",
    "res = res[cols]\n",
    "res"
   ]
  }
 ],
 "metadata": {
  "hide_input": false,
  "kernelspec": {
   "display_name": "Python 3",
   "language": "python",
   "name": "python3"
  },
  "language_info": {
   "codemirror_mode": {
    "name": "ipython",
    "version": 3
   },
   "file_extension": ".py",
   "mimetype": "text/x-python",
   "name": "python",
   "nbconvert_exporter": "python",
   "pygments_lexer": "ipython3",
   "version": "3.8.10"
  }
 },
 "nbformat": 4,
 "nbformat_minor": 5
}
